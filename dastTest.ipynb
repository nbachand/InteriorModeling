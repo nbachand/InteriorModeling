{
 "cells": [
  {
   "cell_type": "code",
   "execution_count": 19,
   "metadata": {},
   "outputs": [
    {
     "name": "stdout",
     "output_type": "stream",
     "text": [
      "Number of available CPU cores: 8\n"
     ]
    }
   ],
   "source": [
    "import dask\n",
    "from time import sleep\n",
    "\n",
    "import multiprocessing\n",
    "# Get the number of CPU cores\n",
    "num_cores = multiprocessing.cpu_count()\n",
    "\n",
    "print(\"Number of available CPU cores:\", num_cores)"
   ]
  },
  {
   "cell_type": "code",
   "execution_count": 22,
   "metadata": {},
   "outputs": [
    {
     "data": {
      "text/plain": [
       "36"
      ]
     },
     "execution_count": 22,
     "metadata": {},
     "output_type": "execute_result"
    }
   ],
   "source": [
    "def inc(x):\n",
    "    sleep(1)\n",
    "    return x + 1\n",
    "\n",
    "\n",
    "def add(nums):\n",
    "    sleep(1)\n",
    "    return sum(nums)\n",
    "\n",
    "nums = []\n",
    "for i in range(8):\n",
    "    nums.append(inc(i))\n",
    "z = add(nums)\n",
    "z"
   ]
  },
  {
   "cell_type": "code",
   "execution_count": 21,
   "metadata": {},
   "outputs": [
    {
     "data": {
      "text/plain": [
       "36"
      ]
     },
     "execution_count": 21,
     "metadata": {},
     "output_type": "execute_result"
    }
   ],
   "source": [
    "@dask.delayed\n",
    "def inc(x):\n",
    "    sleep(1)\n",
    "    return x + 1\n",
    "\n",
    "@dask.delayed\n",
    "def add(nums):\n",
    "    sleep(1)\n",
    "    return sum(nums)\n",
    "\n",
    "nums = []\n",
    "for i in range(8):\n",
    "    nums.append(inc(i))\n",
    "z = add(nums)\n",
    "z.compute()"
   ]
  }
 ],
 "metadata": {
  "kernelspec": {
   "display_name": "pycascade",
   "language": "python",
   "name": "python3"
  },
  "language_info": {
   "codemirror_mode": {
    "name": "ipython",
    "version": 3
   },
   "file_extension": ".py",
   "mimetype": "text/x-python",
   "name": "python",
   "nbconvert_exporter": "python",
   "pygments_lexer": "ipython3",
   "version": "3.10.13"
  }
 },
 "nbformat": 4,
 "nbformat_minor": 2
}
