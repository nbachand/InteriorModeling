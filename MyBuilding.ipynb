{
 "cells": [
  {
   "cell_type": "code",
   "execution_count": 62,
   "metadata": {},
   "outputs": [
    {
     "name": "stdout",
     "output_type": "stream",
     "text": [
      "The autoreload extension is already loaded. To reload it, use:\n",
      "  %reload_ext autoreload\n"
     ]
    },
    {
     "data": {
      "text/plain": [
       "'/Users/nicholasbachand/Documents/Research/Cascade/city_block_cfd'"
      ]
     },
     "metadata": {},
     "output_type": "display_data"
    },
    {
     "data": {
      "text/plain": [
       "'/Users/nicholasbachand/Documents/Research/InteriorModeling'"
      ]
     },
     "metadata": {},
     "output_type": "display_data"
    }
   ],
   "source": [
    "%load_ext autoreload\n",
    "%autoreload 2\n",
    "%matplotlib widget\n",
    "\n",
    "import numpy as np\n",
    "from matplotlib import pyplot as plt\n",
    "import plotly.express as px\n",
    "import seaborn as sns\n",
    "import os\n",
    "import pandas as pd\n",
    "import scipy\n",
    "\n",
    "plt.close('all')\n",
    "\n",
    "############ Universal ################\n",
    "scratch_home = os.getenv('SCRATCH') #need to set SCRATCH (even if there is no real SCRATCH) to the location where results are written\n",
    "scratch_dir = f'{scratch_home}/Cascade/city_block_cfd'\n",
    "home_dir = !pwd\n",
    "home_dir = home_dir[0]\n",
    "\n",
    "display(scratch_dir)\n",
    "display(home_dir)\n",
    "plt.close('all')\n",
    "\n"
   ]
  },
  {
   "cell_type": "code",
   "execution_count": 63,
   "metadata": {},
   "outputs": [
    {
     "data": {
      "text/html": [
       "<div>\n",
       "<style scoped>\n",
       "    .dataframe tbody tr th:only-of-type {\n",
       "        vertical-align: middle;\n",
       "    }\n",
       "\n",
       "    .dataframe tbody tr th {\n",
       "        vertical-align: top;\n",
       "    }\n",
       "\n",
       "    .dataframe thead th {\n",
       "        text-align: right;\n",
       "    }\n",
       "</style>\n",
       "<table border=\"1\" class=\"dataframe\">\n",
       "  <thead>\n",
       "    <tr style=\"text-align: right;\">\n",
       "      <th></th>\n",
       "      <th>floorTempAdjustment</th>\n",
       "      <th>hInterior</th>\n",
       "      <th>hExterior</th>\n",
       "      <th>alphaRoof</th>\n",
       "      <th>material_type</th>\n",
       "      <th>windSpeed</th>\n",
       "      <th>wallRoughness</th>\n",
       "    </tr>\n",
       "  </thead>\n",
       "  <tbody>\n",
       "    <tr>\n",
       "      <th>0</th>\n",
       "      <td>-4.151563</td>\n",
       "      <td>2.001253</td>\n",
       "      <td>11.217357</td>\n",
       "      <td>0.843408</td>\n",
       "      <td>Medium</td>\n",
       "      <td>3.322042</td>\n",
       "      <td>1.864905</td>\n",
       "    </tr>\n",
       "    <tr>\n",
       "      <th>1</th>\n",
       "      <td>-4.078241</td>\n",
       "      <td>2.258220</td>\n",
       "      <td>11.402305</td>\n",
       "      <td>0.867548</td>\n",
       "      <td>Light</td>\n",
       "      <td>5.932907</td>\n",
       "      <td>1.127771</td>\n",
       "    </tr>\n",
       "    <tr>\n",
       "      <th>2</th>\n",
       "      <td>-4.522329</td>\n",
       "      <td>1.339542</td>\n",
       "      <td>10.130242</td>\n",
       "      <td>0.876498</td>\n",
       "      <td>Medium</td>\n",
       "      <td>3.663076</td>\n",
       "      <td>1.555270</td>\n",
       "    </tr>\n",
       "    <tr>\n",
       "      <th>3</th>\n",
       "      <td>-4.766832</td>\n",
       "      <td>2.937751</td>\n",
       "      <td>1.718429</td>\n",
       "      <td>0.664084</td>\n",
       "      <td>Light</td>\n",
       "      <td>0.265560</td>\n",
       "      <td>1.787955</td>\n",
       "    </tr>\n",
       "  </tbody>\n",
       "</table>\n",
       "</div>"
      ],
      "text/plain": [
       "   floorTempAdjustment  hInterior  hExterior  alphaRoof material_type  \\\n",
       "0            -4.151563   2.001253  11.217357   0.843408        Medium   \n",
       "1            -4.078241   2.258220  11.402305   0.867548         Light   \n",
       "2            -4.522329   1.339542  10.130242   0.876498        Medium   \n",
       "3            -4.766832   2.937751   1.718429   0.664084         Light   \n",
       "\n",
       "   windSpeed  wallRoughness  \n",
       "0   3.322042       1.864905  \n",
       "1   5.932907       1.127771  \n",
       "2   3.663076       1.555270  \n",
       "3   0.265560       1.787955  "
      ]
     },
     "metadata": {},
     "output_type": "display_data"
    },
    {
     "data": {
      "text/html": [
       "<div>\n",
       "<style scoped>\n",
       "    .dataframe tbody tr th:only-of-type {\n",
       "        vertical-align: middle;\n",
       "    }\n",
       "\n",
       "    .dataframe tbody tr th {\n",
       "        vertical-align: top;\n",
       "    }\n",
       "\n",
       "    .dataframe thead tr th {\n",
       "        text-align: left;\n",
       "    }\n",
       "\n",
       "    .dataframe thead tr:last-of-type th {\n",
       "        text-align: right;\n",
       "    }\n",
       "</style>\n",
       "<table border=\"1\" class=\"dataframe\">\n",
       "  <thead>\n",
       "    <tr>\n",
       "      <th></th>\n",
       "      <th colspan=\"6\" halign=\"left\">day_1</th>\n",
       "      <th colspan=\"6\" halign=\"left\">day_2</th>\n",
       "    </tr>\n",
       "    <tr>\n",
       "      <th></th>\n",
       "      <th>hVent</th>\n",
       "      <th>dVent</th>\n",
       "      <th>ceilingMinusFloor</th>\n",
       "      <th>outMinusFloor</th>\n",
       "      <th>intWallMinusFloor</th>\n",
       "      <th>extWallMinusFloor</th>\n",
       "      <th>hVent</th>\n",
       "      <th>dVent</th>\n",
       "      <th>ceilingMinusFloor</th>\n",
       "      <th>outMinusFloor</th>\n",
       "      <th>intWallMinusFloor</th>\n",
       "      <th>extWallMinusFloor</th>\n",
       "    </tr>\n",
       "    <tr>\n",
       "      <th>0</th>\n",
       "      <th></th>\n",
       "      <th></th>\n",
       "      <th></th>\n",
       "      <th></th>\n",
       "      <th></th>\n",
       "      <th></th>\n",
       "      <th></th>\n",
       "      <th></th>\n",
       "      <th></th>\n",
       "      <th></th>\n",
       "      <th></th>\n",
       "      <th></th>\n",
       "    </tr>\n",
       "  </thead>\n",
       "  <tbody>\n",
       "    <tr>\n",
       "      <th>1</th>\n",
       "      <td>9.111111</td>\n",
       "      <td>0.0</td>\n",
       "      <td>2.522705</td>\n",
       "      <td>1.471229</td>\n",
       "      <td>1.131533</td>\n",
       "      <td>2.233522</td>\n",
       "      <td>33.973611</td>\n",
       "      <td>1.0</td>\n",
       "      <td>2.033860</td>\n",
       "      <td>1.292871</td>\n",
       "      <td>1.089636</td>\n",
       "      <td>1.949002</td>\n",
       "    </tr>\n",
       "    <tr>\n",
       "      <th>2</th>\n",
       "      <td>10.659722</td>\n",
       "      <td>0.0</td>\n",
       "      <td>1.242977</td>\n",
       "      <td>0.759788</td>\n",
       "      <td>0.647870</td>\n",
       "      <td>1.131512</td>\n",
       "      <td>35.311111</td>\n",
       "      <td>1.0</td>\n",
       "      <td>0.992964</td>\n",
       "      <td>0.742615</td>\n",
       "      <td>0.633987</td>\n",
       "      <td>1.279646</td>\n",
       "    </tr>\n",
       "    <tr>\n",
       "      <th>3</th>\n",
       "      <td>8.686111</td>\n",
       "      <td>0.0</td>\n",
       "      <td>3.422399</td>\n",
       "      <td>1.594357</td>\n",
       "      <td>1.168692</td>\n",
       "      <td>2.012027</td>\n",
       "      <td>33.379167</td>\n",
       "      <td>1.0</td>\n",
       "      <td>2.950987</td>\n",
       "      <td>1.417697</td>\n",
       "      <td>1.061370</td>\n",
       "      <td>1.818481</td>\n",
       "    </tr>\n",
       "  </tbody>\n",
       "</table>\n",
       "</div>"
      ],
      "text/plain": [
       "       day_1                                                          \\\n",
       "       hVent dVent ceilingMinusFloor outMinusFloor intWallMinusFloor   \n",
       "0                                                                      \n",
       "1   9.111111   0.0          2.522705      1.471229          1.131533   \n",
       "2  10.659722   0.0          1.242977      0.759788          0.647870   \n",
       "3   8.686111   0.0          3.422399      1.594357          1.168692   \n",
       "\n",
       "                         day_2                                        \\\n",
       "  extWallMinusFloor      hVent dVent ceilingMinusFloor outMinusFloor   \n",
       "0                                                                      \n",
       "1          2.233522  33.973611   1.0          2.033860      1.292871   \n",
       "2          1.131512  35.311111   1.0          0.992964      0.742615   \n",
       "3          2.012027  33.379167   1.0          2.950987      1.417697   \n",
       "\n",
       "                                       \n",
       "  intWallMinusFloor extWallMinusFloor  \n",
       "0                                      \n",
       "1          1.089636          1.949002  \n",
       "2          0.633987          1.279646  \n",
       "3          1.061370          1.818481  "
      ]
     },
     "metadata": {},
     "output_type": "display_data"
    }
   ],
   "source": [
    "# resultsTime = \"20240311-111046\"\n",
    "resultsTime = \"20240406-203035\"\n",
    "outputs = pd.read_csv(f'{home_dir}/resultsMC/outputs_{resultsTime}.csv', header=[0, 1], index_col=0)\n",
    "inputs = pd.read_csv(f'{home_dir}/resultsMC/inputs_{resultsTime}.csv', index_col=0)\n",
    "display(inputs, outputs)\n"
   ]
  },
  {
   "cell_type": "code",
   "execution_count": 64,
   "metadata": {},
   "outputs": [
    {
     "data": {
      "text/plain": [
       "array(['day_1', 'day_2'], dtype=object)"
      ]
     },
     "execution_count": 64,
     "metadata": {},
     "output_type": "execute_result"
    }
   ],
   "source": [
    "outputs.columns.get_level_values(0).unique().values"
   ]
  },
  {
   "cell_type": "code",
   "execution_count": 65,
   "metadata": {},
   "outputs": [
    {
     "data": {
      "text/html": [
       "<div>\n",
       "<style scoped>\n",
       "    .dataframe tbody tr th:only-of-type {\n",
       "        vertical-align: middle;\n",
       "    }\n",
       "\n",
       "    .dataframe tbody tr th {\n",
       "        vertical-align: top;\n",
       "    }\n",
       "\n",
       "    .dataframe thead th {\n",
       "        text-align: right;\n",
       "    }\n",
       "</style>\n",
       "<table border=\"1\" class=\"dataframe\">\n",
       "  <thead>\n",
       "    <tr style=\"text-align: right;\">\n",
       "      <th></th>\n",
       "      <th>floorTempAdjustment</th>\n",
       "      <th>hInterior</th>\n",
       "      <th>hExterior</th>\n",
       "      <th>alphaRoof</th>\n",
       "      <th>material_type</th>\n",
       "      <th>windSpeed</th>\n",
       "      <th>wallRoughness</th>\n",
       "      <th>ceilingMinusFloor</th>\n",
       "      <th>outMinusFloor</th>\n",
       "      <th>intWallMinusFloor</th>\n",
       "      <th>extWallMinusFloor</th>\n",
       "      <th>day</th>\n",
       "    </tr>\n",
       "  </thead>\n",
       "  <tbody>\n",
       "    <tr>\n",
       "      <th>0</th>\n",
       "      <td>-4.151563</td>\n",
       "      <td>2.001253</td>\n",
       "      <td>11.217357</td>\n",
       "      <td>0.843408</td>\n",
       "      <td>Medium</td>\n",
       "      <td>3.322042</td>\n",
       "      <td>1.864905</td>\n",
       "      <td>NaN</td>\n",
       "      <td>NaN</td>\n",
       "      <td>NaN</td>\n",
       "      <td>NaN</td>\n",
       "      <td>1</td>\n",
       "    </tr>\n",
       "    <tr>\n",
       "      <th>1</th>\n",
       "      <td>-4.078241</td>\n",
       "      <td>2.258220</td>\n",
       "      <td>11.402305</td>\n",
       "      <td>0.867548</td>\n",
       "      <td>Light</td>\n",
       "      <td>5.932907</td>\n",
       "      <td>1.127771</td>\n",
       "      <td>2.522705</td>\n",
       "      <td>1.471229</td>\n",
       "      <td>1.131533</td>\n",
       "      <td>2.233522</td>\n",
       "      <td>1</td>\n",
       "    </tr>\n",
       "    <tr>\n",
       "      <th>2</th>\n",
       "      <td>-4.522329</td>\n",
       "      <td>1.339542</td>\n",
       "      <td>10.130242</td>\n",
       "      <td>0.876498</td>\n",
       "      <td>Medium</td>\n",
       "      <td>3.663076</td>\n",
       "      <td>1.555270</td>\n",
       "      <td>1.242977</td>\n",
       "      <td>0.759788</td>\n",
       "      <td>0.647870</td>\n",
       "      <td>1.131512</td>\n",
       "      <td>1</td>\n",
       "    </tr>\n",
       "    <tr>\n",
       "      <th>3</th>\n",
       "      <td>-4.766832</td>\n",
       "      <td>2.937751</td>\n",
       "      <td>1.718429</td>\n",
       "      <td>0.664084</td>\n",
       "      <td>Light</td>\n",
       "      <td>0.265560</td>\n",
       "      <td>1.787955</td>\n",
       "      <td>3.422399</td>\n",
       "      <td>1.594357</td>\n",
       "      <td>1.168692</td>\n",
       "      <td>2.012027</td>\n",
       "      <td>1</td>\n",
       "    </tr>\n",
       "    <tr>\n",
       "      <th>4</th>\n",
       "      <td>-4.151563</td>\n",
       "      <td>2.001253</td>\n",
       "      <td>11.217357</td>\n",
       "      <td>0.843408</td>\n",
       "      <td>Medium</td>\n",
       "      <td>3.322042</td>\n",
       "      <td>1.864905</td>\n",
       "      <td>NaN</td>\n",
       "      <td>NaN</td>\n",
       "      <td>NaN</td>\n",
       "      <td>NaN</td>\n",
       "      <td>2</td>\n",
       "    </tr>\n",
       "    <tr>\n",
       "      <th>5</th>\n",
       "      <td>-4.078241</td>\n",
       "      <td>2.258220</td>\n",
       "      <td>11.402305</td>\n",
       "      <td>0.867548</td>\n",
       "      <td>Light</td>\n",
       "      <td>5.932907</td>\n",
       "      <td>1.127771</td>\n",
       "      <td>2.033860</td>\n",
       "      <td>1.292871</td>\n",
       "      <td>1.089636</td>\n",
       "      <td>1.949002</td>\n",
       "      <td>2</td>\n",
       "    </tr>\n",
       "    <tr>\n",
       "      <th>6</th>\n",
       "      <td>-4.522329</td>\n",
       "      <td>1.339542</td>\n",
       "      <td>10.130242</td>\n",
       "      <td>0.876498</td>\n",
       "      <td>Medium</td>\n",
       "      <td>3.663076</td>\n",
       "      <td>1.555270</td>\n",
       "      <td>0.992964</td>\n",
       "      <td>0.742615</td>\n",
       "      <td>0.633987</td>\n",
       "      <td>1.279646</td>\n",
       "      <td>2</td>\n",
       "    </tr>\n",
       "    <tr>\n",
       "      <th>7</th>\n",
       "      <td>-4.766832</td>\n",
       "      <td>2.937751</td>\n",
       "      <td>1.718429</td>\n",
       "      <td>0.664084</td>\n",
       "      <td>Light</td>\n",
       "      <td>0.265560</td>\n",
       "      <td>1.787955</td>\n",
       "      <td>2.950987</td>\n",
       "      <td>1.417697</td>\n",
       "      <td>1.061370</td>\n",
       "      <td>1.818481</td>\n",
       "      <td>2</td>\n",
       "    </tr>\n",
       "  </tbody>\n",
       "</table>\n",
       "</div>"
      ],
      "text/plain": [
       "   floorTempAdjustment  hInterior  hExterior  alphaRoof material_type  \\\n",
       "0            -4.151563   2.001253  11.217357   0.843408        Medium   \n",
       "1            -4.078241   2.258220  11.402305   0.867548         Light   \n",
       "2            -4.522329   1.339542  10.130242   0.876498        Medium   \n",
       "3            -4.766832   2.937751   1.718429   0.664084         Light   \n",
       "4            -4.151563   2.001253  11.217357   0.843408        Medium   \n",
       "5            -4.078241   2.258220  11.402305   0.867548         Light   \n",
       "6            -4.522329   1.339542  10.130242   0.876498        Medium   \n",
       "7            -4.766832   2.937751   1.718429   0.664084         Light   \n",
       "\n",
       "   windSpeed  wallRoughness  ceilingMinusFloor  outMinusFloor  \\\n",
       "0   3.322042       1.864905                NaN            NaN   \n",
       "1   5.932907       1.127771           2.522705       1.471229   \n",
       "2   3.663076       1.555270           1.242977       0.759788   \n",
       "3   0.265560       1.787955           3.422399       1.594357   \n",
       "4   3.322042       1.864905                NaN            NaN   \n",
       "5   5.932907       1.127771           2.033860       1.292871   \n",
       "6   3.663076       1.555270           0.992964       0.742615   \n",
       "7   0.265560       1.787955           2.950987       1.417697   \n",
       "\n",
       "   intWallMinusFloor  extWallMinusFloor  day  \n",
       "0                NaN                NaN    1  \n",
       "1           1.131533           2.233522    1  \n",
       "2           0.647870           1.131512    1  \n",
       "3           1.168692           2.012027    1  \n",
       "4                NaN                NaN    2  \n",
       "5           1.089636           1.949002    2  \n",
       "6           0.633987           1.279646    2  \n",
       "7           1.061370           1.818481    2  "
      ]
     },
     "execution_count": 65,
     "metadata": {},
     "output_type": "execute_result"
    }
   ],
   "source": [
    "dfFull = pd.DataFrame()\n",
    "days = outputs.columns.get_level_values(0).unique().values\n",
    "for day in days:\n",
    "    df = pd.concat([inputs, outputs[day][[\"ceilingMinusFloor\", \"outMinusFloor\", \"intWallMinusFloor\", \"extWallMinusFloor\"]]], axis=1)\n",
    "    df[\"day\"] = int(day[4:])\n",
    "    dfFull = pd.concat([dfFull, df], axis = \"index\")\n",
    "\n",
    "dfFull = dfFull.reset_index(drop=True)\n",
    "dfFull"
   ]
  },
  {
   "cell_type": "code",
   "execution_count": 66,
   "metadata": {},
   "outputs": [],
   "source": [
    "dropCondition = dfFull[\"ceilingMinusFloor\"] > 10\n",
    "dfFull = dfFull[~dropCondition]"
   ]
  },
  {
   "cell_type": "code",
   "execution_count": 67,
   "metadata": {},
   "outputs": [
    {
     "data": {
      "text/html": [
       "<div>\n",
       "<style scoped>\n",
       "    .dataframe tbody tr th:only-of-type {\n",
       "        vertical-align: middle;\n",
       "    }\n",
       "\n",
       "    .dataframe tbody tr th {\n",
       "        vertical-align: top;\n",
       "    }\n",
       "\n",
       "    .dataframe thead th {\n",
       "        text-align: right;\n",
       "    }\n",
       "</style>\n",
       "<table border=\"1\" class=\"dataframe\">\n",
       "  <thead>\n",
       "    <tr style=\"text-align: right;\">\n",
       "      <th></th>\n",
       "      <th>floorTempAdjustment</th>\n",
       "      <th>hInterior</th>\n",
       "      <th>hExterior</th>\n",
       "      <th>alphaRoof</th>\n",
       "      <th>material_type</th>\n",
       "      <th>windSpeed</th>\n",
       "      <th>wallRoughness</th>\n",
       "      <th>ceilingMinusFloor</th>\n",
       "      <th>outMinusFloor</th>\n",
       "      <th>intWallMinusFloor</th>\n",
       "      <th>extWallMinusFloor</th>\n",
       "      <th>day</th>\n",
       "      <th>Ri</th>\n",
       "      <th>logRi</th>\n",
       "    </tr>\n",
       "  </thead>\n",
       "  <tbody>\n",
       "    <tr>\n",
       "      <th>0</th>\n",
       "      <td>-4.151563</td>\n",
       "      <td>2.001253</td>\n",
       "      <td>11.217357</td>\n",
       "      <td>0.843408</td>\n",
       "      <td>Medium</td>\n",
       "      <td>3.322042</td>\n",
       "      <td>1.864905</td>\n",
       "      <td>NaN</td>\n",
       "      <td>NaN</td>\n",
       "      <td>NaN</td>\n",
       "      <td>NaN</td>\n",
       "      <td>1</td>\n",
       "      <td>NaN</td>\n",
       "      <td>NaN</td>\n",
       "    </tr>\n",
       "    <tr>\n",
       "      <th>1</th>\n",
       "      <td>-4.078241</td>\n",
       "      <td>2.258220</td>\n",
       "      <td>11.402305</td>\n",
       "      <td>0.867548</td>\n",
       "      <td>Light</td>\n",
       "      <td>5.932907</td>\n",
       "      <td>1.127771</td>\n",
       "      <td>2.522705</td>\n",
       "      <td>1.471229</td>\n",
       "      <td>1.131533</td>\n",
       "      <td>2.233522</td>\n",
       "      <td>1</td>\n",
       "      <td>0.007462</td>\n",
       "      <td>-4.897981</td>\n",
       "    </tr>\n",
       "    <tr>\n",
       "      <th>2</th>\n",
       "      <td>-4.522329</td>\n",
       "      <td>1.339542</td>\n",
       "      <td>10.130242</td>\n",
       "      <td>0.876498</td>\n",
       "      <td>Medium</td>\n",
       "      <td>3.663076</td>\n",
       "      <td>1.555270</td>\n",
       "      <td>1.242977</td>\n",
       "      <td>0.759788</td>\n",
       "      <td>0.647870</td>\n",
       "      <td>1.131512</td>\n",
       "      <td>1</td>\n",
       "      <td>0.009644</td>\n",
       "      <td>-4.641381</td>\n",
       "    </tr>\n",
       "    <tr>\n",
       "      <th>3</th>\n",
       "      <td>-4.766832</td>\n",
       "      <td>2.937751</td>\n",
       "      <td>1.718429</td>\n",
       "      <td>0.664084</td>\n",
       "      <td>Light</td>\n",
       "      <td>0.265560</td>\n",
       "      <td>1.787955</td>\n",
       "      <td>3.422399</td>\n",
       "      <td>1.594357</td>\n",
       "      <td>1.168692</td>\n",
       "      <td>2.012027</td>\n",
       "      <td>1</td>\n",
       "      <td>5.052522</td>\n",
       "      <td>1.619888</td>\n",
       "    </tr>\n",
       "    <tr>\n",
       "      <th>4</th>\n",
       "      <td>-4.151563</td>\n",
       "      <td>2.001253</td>\n",
       "      <td>11.217357</td>\n",
       "      <td>0.843408</td>\n",
       "      <td>Medium</td>\n",
       "      <td>3.322042</td>\n",
       "      <td>1.864905</td>\n",
       "      <td>NaN</td>\n",
       "      <td>NaN</td>\n",
       "      <td>NaN</td>\n",
       "      <td>NaN</td>\n",
       "      <td>2</td>\n",
       "      <td>NaN</td>\n",
       "      <td>NaN</td>\n",
       "    </tr>\n",
       "    <tr>\n",
       "      <th>5</th>\n",
       "      <td>-4.078241</td>\n",
       "      <td>2.258220</td>\n",
       "      <td>11.402305</td>\n",
       "      <td>0.867548</td>\n",
       "      <td>Light</td>\n",
       "      <td>5.932907</td>\n",
       "      <td>1.127771</td>\n",
       "      <td>2.033860</td>\n",
       "      <td>1.292871</td>\n",
       "      <td>1.089636</td>\n",
       "      <td>1.949002</td>\n",
       "      <td>2</td>\n",
       "      <td>0.006016</td>\n",
       "      <td>-5.113377</td>\n",
       "    </tr>\n",
       "    <tr>\n",
       "      <th>6</th>\n",
       "      <td>-4.522329</td>\n",
       "      <td>1.339542</td>\n",
       "      <td>10.130242</td>\n",
       "      <td>0.876498</td>\n",
       "      <td>Medium</td>\n",
       "      <td>3.663076</td>\n",
       "      <td>1.555270</td>\n",
       "      <td>0.992964</td>\n",
       "      <td>0.742615</td>\n",
       "      <td>0.633987</td>\n",
       "      <td>1.279646</td>\n",
       "      <td>2</td>\n",
       "      <td>0.007705</td>\n",
       "      <td>-4.865951</td>\n",
       "    </tr>\n",
       "    <tr>\n",
       "      <th>7</th>\n",
       "      <td>-4.766832</td>\n",
       "      <td>2.937751</td>\n",
       "      <td>1.718429</td>\n",
       "      <td>0.664084</td>\n",
       "      <td>Light</td>\n",
       "      <td>0.265560</td>\n",
       "      <td>1.787955</td>\n",
       "      <td>2.950987</td>\n",
       "      <td>1.417697</td>\n",
       "      <td>1.061370</td>\n",
       "      <td>1.818481</td>\n",
       "      <td>2</td>\n",
       "      <td>4.356571</td>\n",
       "      <td>1.471685</td>\n",
       "    </tr>\n",
       "  </tbody>\n",
       "</table>\n",
       "</div>"
      ],
      "text/plain": [
       "   floorTempAdjustment  hInterior  hExterior  alphaRoof material_type  \\\n",
       "0            -4.151563   2.001253  11.217357   0.843408        Medium   \n",
       "1            -4.078241   2.258220  11.402305   0.867548         Light   \n",
       "2            -4.522329   1.339542  10.130242   0.876498        Medium   \n",
       "3            -4.766832   2.937751   1.718429   0.664084         Light   \n",
       "4            -4.151563   2.001253  11.217357   0.843408        Medium   \n",
       "5            -4.078241   2.258220  11.402305   0.867548         Light   \n",
       "6            -4.522329   1.339542  10.130242   0.876498        Medium   \n",
       "7            -4.766832   2.937751   1.718429   0.664084         Light   \n",
       "\n",
       "   windSpeed  wallRoughness  ceilingMinusFloor  outMinusFloor  \\\n",
       "0   3.322042       1.864905                NaN            NaN   \n",
       "1   5.932907       1.127771           2.522705       1.471229   \n",
       "2   3.663076       1.555270           1.242977       0.759788   \n",
       "3   0.265560       1.787955           3.422399       1.594357   \n",
       "4   3.322042       1.864905                NaN            NaN   \n",
       "5   5.932907       1.127771           2.033860       1.292871   \n",
       "6   3.663076       1.555270           0.992964       0.742615   \n",
       "7   0.265560       1.787955           2.950987       1.417697   \n",
       "\n",
       "   intWallMinusFloor  extWallMinusFloor  day        Ri     logRi  \n",
       "0                NaN                NaN    1       NaN       NaN  \n",
       "1           1.131533           2.233522    1  0.007462 -4.897981  \n",
       "2           0.647870           1.131512    1  0.009644 -4.641381  \n",
       "3           1.168692           2.012027    1  5.052522  1.619888  \n",
       "4                NaN                NaN    2       NaN       NaN  \n",
       "5           1.089636           1.949002    2  0.006016 -5.113377  \n",
       "6           0.633987           1.279646    2  0.007705 -4.865951  \n",
       "7           1.061370           1.818481    2  4.356571  1.471685  "
      ]
     },
     "execution_count": 67,
     "metadata": {},
     "output_type": "execute_result"
    }
   ],
   "source": [
    "def ventRi(delT, V, H = 3):\n",
    "    g = 10\n",
    "    Tref = 288.15\n",
    "    return g * delT / Tref * H / V**2\n",
    "\n",
    "dfFull.loc[:, \"Ri\"] = ventRi(dfFull[\"ceilingMinusFloor\"], dfFull[\"windSpeed\"])\n",
    "dfFull.loc[:, \"logRi\"] = np.log(dfFull[\"Ri\"])\n",
    "dfFull"
   ]
  },
  {
   "cell_type": "code",
   "execution_count": 68,
   "metadata": {},
   "outputs": [
    {
     "data": {
      "application/vnd.plotly.v1+json": {
       "config": {
        "plotlyServerURL": "https://plot.ly"
       },
       "data": [
        {
         "alignmentgroup": "True",
         "bingroup": "x",
         "hovertemplate": "variable=ceilingMinusFloor<br>value=%{x}<br>count=%{y}<extra></extra>",
         "legendgroup": "ceilingMinusFloor",
         "marker": {
          "color": "#636efa",
          "pattern": {
           "shape": ""
          }
         },
         "name": "ceilingMinusFloor",
         "offsetgroup": "ceilingMinusFloor",
         "orientation": "v",
         "showlegend": true,
         "type": "histogram",
         "x": [
          null,
          2.522704934998984,
          1.2429767329758192,
          3.4223993116175677,
          null,
          2.033859557892754,
          0.9929643398781992,
          2.9509869106404096
         ],
         "xaxis": "x",
         "yaxis": "y"
        },
        {
         "alignmentgroup": "True",
         "hovertemplate": "variable=ceilingMinusFloor<br>value=%{x}<extra></extra>",
         "legendgroup": "ceilingMinusFloor",
         "marker": {
          "color": "#636efa"
         },
         "name": "ceilingMinusFloor",
         "notched": true,
         "offsetgroup": "ceilingMinusFloor",
         "showlegend": false,
         "type": "box",
         "x": [
          null,
          2.522704934998984,
          1.2429767329758192,
          3.4223993116175677,
          null,
          2.033859557892754,
          0.9929643398781992,
          2.9509869106404096
         ],
         "xaxis": "x2",
         "yaxis": "y2"
        },
        {
         "alignmentgroup": "True",
         "bingroup": "x",
         "hovertemplate": "variable=outMinusFloor<br>value=%{x}<br>count=%{y}<extra></extra>",
         "legendgroup": "outMinusFloor",
         "marker": {
          "color": "#EF553B",
          "pattern": {
           "shape": ""
          }
         },
         "name": "outMinusFloor",
         "offsetgroup": "outMinusFloor",
         "orientation": "v",
         "showlegend": true,
         "type": "histogram",
         "x": [
          null,
          1.4712294497871738,
          0.7597884316160588,
          1.5943571286132254,
          null,
          1.292871431410347,
          0.7426148203758061,
          1.417696567841503
         ],
         "xaxis": "x",
         "yaxis": "y"
        },
        {
         "alignmentgroup": "True",
         "hovertemplate": "variable=outMinusFloor<br>value=%{x}<extra></extra>",
         "legendgroup": "outMinusFloor",
         "marker": {
          "color": "#EF553B"
         },
         "name": "outMinusFloor",
         "notched": true,
         "offsetgroup": "outMinusFloor",
         "showlegend": false,
         "type": "box",
         "x": [
          null,
          1.4712294497871738,
          0.7597884316160588,
          1.5943571286132254,
          null,
          1.292871431410347,
          0.7426148203758061,
          1.417696567841503
         ],
         "xaxis": "x2",
         "yaxis": "y2"
        },
        {
         "alignmentgroup": "True",
         "bingroup": "x",
         "hovertemplate": "variable=intWallMinusFloor<br>value=%{x}<br>count=%{y}<extra></extra>",
         "legendgroup": "intWallMinusFloor",
         "marker": {
          "color": "#00cc96",
          "pattern": {
           "shape": ""
          }
         },
         "name": "intWallMinusFloor",
         "offsetgroup": "intWallMinusFloor",
         "orientation": "v",
         "showlegend": true,
         "type": "histogram",
         "x": [
          null,
          1.1315326609964036,
          0.6478700394876142,
          1.168692287508885,
          null,
          1.0896361848386722,
          0.6339873782655966,
          1.061369837339484
         ],
         "xaxis": "x",
         "yaxis": "y"
        },
        {
         "alignmentgroup": "True",
         "hovertemplate": "variable=intWallMinusFloor<br>value=%{x}<extra></extra>",
         "legendgroup": "intWallMinusFloor",
         "marker": {
          "color": "#00cc96"
         },
         "name": "intWallMinusFloor",
         "notched": true,
         "offsetgroup": "intWallMinusFloor",
         "showlegend": false,
         "type": "box",
         "x": [
          null,
          1.1315326609964036,
          0.6478700394876142,
          1.168692287508885,
          null,
          1.0896361848386722,
          0.6339873782655966,
          1.061369837339484
         ],
         "xaxis": "x2",
         "yaxis": "y2"
        },
        {
         "alignmentgroup": "True",
         "bingroup": "x",
         "hovertemplate": "variable=extWallMinusFloor<br>value=%{x}<br>count=%{y}<extra></extra>",
         "legendgroup": "extWallMinusFloor",
         "marker": {
          "color": "#ab63fa",
          "pattern": {
           "shape": ""
          }
         },
         "name": "extWallMinusFloor",
         "offsetgroup": "extWallMinusFloor",
         "orientation": "v",
         "showlegend": true,
         "type": "histogram",
         "x": [
          null,
          2.233521985399861,
          1.1315124644235652,
          2.0120267512377836,
          null,
          1.9490017213397124,
          1.2796456901924813,
          1.8184807936677176
         ],
         "xaxis": "x",
         "yaxis": "y"
        },
        {
         "alignmentgroup": "True",
         "hovertemplate": "variable=extWallMinusFloor<br>value=%{x}<extra></extra>",
         "legendgroup": "extWallMinusFloor",
         "marker": {
          "color": "#ab63fa"
         },
         "name": "extWallMinusFloor",
         "notched": true,
         "offsetgroup": "extWallMinusFloor",
         "showlegend": false,
         "type": "box",
         "x": [
          null,
          2.233521985399861,
          1.1315124644235652,
          2.0120267512377836,
          null,
          1.9490017213397124,
          1.2796456901924813,
          1.8184807936677176
         ],
         "xaxis": "x2",
         "yaxis": "y2"
        }
       ],
       "layout": {
        "barmode": "group",
        "legend": {
         "title": {
          "text": "variable"
         },
         "tracegroupgap": 0
        },
        "margin": {
         "t": 60
        },
        "template": {
         "data": {
          "bar": [
           {
            "error_x": {
             "color": "#2a3f5f"
            },
            "error_y": {
             "color": "#2a3f5f"
            },
            "marker": {
             "line": {
              "color": "#E5ECF6",
              "width": 0.5
             },
             "pattern": {
              "fillmode": "overlay",
              "size": 10,
              "solidity": 0.2
             }
            },
            "type": "bar"
           }
          ],
          "barpolar": [
           {
            "marker": {
             "line": {
              "color": "#E5ECF6",
              "width": 0.5
             },
             "pattern": {
              "fillmode": "overlay",
              "size": 10,
              "solidity": 0.2
             }
            },
            "type": "barpolar"
           }
          ],
          "carpet": [
           {
            "aaxis": {
             "endlinecolor": "#2a3f5f",
             "gridcolor": "white",
             "linecolor": "white",
             "minorgridcolor": "white",
             "startlinecolor": "#2a3f5f"
            },
            "baxis": {
             "endlinecolor": "#2a3f5f",
             "gridcolor": "white",
             "linecolor": "white",
             "minorgridcolor": "white",
             "startlinecolor": "#2a3f5f"
            },
            "type": "carpet"
           }
          ],
          "choropleth": [
           {
            "colorbar": {
             "outlinewidth": 0,
             "ticks": ""
            },
            "type": "choropleth"
           }
          ],
          "contour": [
           {
            "colorbar": {
             "outlinewidth": 0,
             "ticks": ""
            },
            "colorscale": [
             [
              0,
              "#0d0887"
             ],
             [
              0.1111111111111111,
              "#46039f"
             ],
             [
              0.2222222222222222,
              "#7201a8"
             ],
             [
              0.3333333333333333,
              "#9c179e"
             ],
             [
              0.4444444444444444,
              "#bd3786"
             ],
             [
              0.5555555555555556,
              "#d8576b"
             ],
             [
              0.6666666666666666,
              "#ed7953"
             ],
             [
              0.7777777777777778,
              "#fb9f3a"
             ],
             [
              0.8888888888888888,
              "#fdca26"
             ],
             [
              1,
              "#f0f921"
             ]
            ],
            "type": "contour"
           }
          ],
          "contourcarpet": [
           {
            "colorbar": {
             "outlinewidth": 0,
             "ticks": ""
            },
            "type": "contourcarpet"
           }
          ],
          "heatmap": [
           {
            "colorbar": {
             "outlinewidth": 0,
             "ticks": ""
            },
            "colorscale": [
             [
              0,
              "#0d0887"
             ],
             [
              0.1111111111111111,
              "#46039f"
             ],
             [
              0.2222222222222222,
              "#7201a8"
             ],
             [
              0.3333333333333333,
              "#9c179e"
             ],
             [
              0.4444444444444444,
              "#bd3786"
             ],
             [
              0.5555555555555556,
              "#d8576b"
             ],
             [
              0.6666666666666666,
              "#ed7953"
             ],
             [
              0.7777777777777778,
              "#fb9f3a"
             ],
             [
              0.8888888888888888,
              "#fdca26"
             ],
             [
              1,
              "#f0f921"
             ]
            ],
            "type": "heatmap"
           }
          ],
          "heatmapgl": [
           {
            "colorbar": {
             "outlinewidth": 0,
             "ticks": ""
            },
            "colorscale": [
             [
              0,
              "#0d0887"
             ],
             [
              0.1111111111111111,
              "#46039f"
             ],
             [
              0.2222222222222222,
              "#7201a8"
             ],
             [
              0.3333333333333333,
              "#9c179e"
             ],
             [
              0.4444444444444444,
              "#bd3786"
             ],
             [
              0.5555555555555556,
              "#d8576b"
             ],
             [
              0.6666666666666666,
              "#ed7953"
             ],
             [
              0.7777777777777778,
              "#fb9f3a"
             ],
             [
              0.8888888888888888,
              "#fdca26"
             ],
             [
              1,
              "#f0f921"
             ]
            ],
            "type": "heatmapgl"
           }
          ],
          "histogram": [
           {
            "marker": {
             "pattern": {
              "fillmode": "overlay",
              "size": 10,
              "solidity": 0.2
             }
            },
            "type": "histogram"
           }
          ],
          "histogram2d": [
           {
            "colorbar": {
             "outlinewidth": 0,
             "ticks": ""
            },
            "colorscale": [
             [
              0,
              "#0d0887"
             ],
             [
              0.1111111111111111,
              "#46039f"
             ],
             [
              0.2222222222222222,
              "#7201a8"
             ],
             [
              0.3333333333333333,
              "#9c179e"
             ],
             [
              0.4444444444444444,
              "#bd3786"
             ],
             [
              0.5555555555555556,
              "#d8576b"
             ],
             [
              0.6666666666666666,
              "#ed7953"
             ],
             [
              0.7777777777777778,
              "#fb9f3a"
             ],
             [
              0.8888888888888888,
              "#fdca26"
             ],
             [
              1,
              "#f0f921"
             ]
            ],
            "type": "histogram2d"
           }
          ],
          "histogram2dcontour": [
           {
            "colorbar": {
             "outlinewidth": 0,
             "ticks": ""
            },
            "colorscale": [
             [
              0,
              "#0d0887"
             ],
             [
              0.1111111111111111,
              "#46039f"
             ],
             [
              0.2222222222222222,
              "#7201a8"
             ],
             [
              0.3333333333333333,
              "#9c179e"
             ],
             [
              0.4444444444444444,
              "#bd3786"
             ],
             [
              0.5555555555555556,
              "#d8576b"
             ],
             [
              0.6666666666666666,
              "#ed7953"
             ],
             [
              0.7777777777777778,
              "#fb9f3a"
             ],
             [
              0.8888888888888888,
              "#fdca26"
             ],
             [
              1,
              "#f0f921"
             ]
            ],
            "type": "histogram2dcontour"
           }
          ],
          "mesh3d": [
           {
            "colorbar": {
             "outlinewidth": 0,
             "ticks": ""
            },
            "type": "mesh3d"
           }
          ],
          "parcoords": [
           {
            "line": {
             "colorbar": {
              "outlinewidth": 0,
              "ticks": ""
             }
            },
            "type": "parcoords"
           }
          ],
          "pie": [
           {
            "automargin": true,
            "type": "pie"
           }
          ],
          "scatter": [
           {
            "fillpattern": {
             "fillmode": "overlay",
             "size": 10,
             "solidity": 0.2
            },
            "type": "scatter"
           }
          ],
          "scatter3d": [
           {
            "line": {
             "colorbar": {
              "outlinewidth": 0,
              "ticks": ""
             }
            },
            "marker": {
             "colorbar": {
              "outlinewidth": 0,
              "ticks": ""
             }
            },
            "type": "scatter3d"
           }
          ],
          "scattercarpet": [
           {
            "marker": {
             "colorbar": {
              "outlinewidth": 0,
              "ticks": ""
             }
            },
            "type": "scattercarpet"
           }
          ],
          "scattergeo": [
           {
            "marker": {
             "colorbar": {
              "outlinewidth": 0,
              "ticks": ""
             }
            },
            "type": "scattergeo"
           }
          ],
          "scattergl": [
           {
            "marker": {
             "colorbar": {
              "outlinewidth": 0,
              "ticks": ""
             }
            },
            "type": "scattergl"
           }
          ],
          "scattermapbox": [
           {
            "marker": {
             "colorbar": {
              "outlinewidth": 0,
              "ticks": ""
             }
            },
            "type": "scattermapbox"
           }
          ],
          "scatterpolar": [
           {
            "marker": {
             "colorbar": {
              "outlinewidth": 0,
              "ticks": ""
             }
            },
            "type": "scatterpolar"
           }
          ],
          "scatterpolargl": [
           {
            "marker": {
             "colorbar": {
              "outlinewidth": 0,
              "ticks": ""
             }
            },
            "type": "scatterpolargl"
           }
          ],
          "scatterternary": [
           {
            "marker": {
             "colorbar": {
              "outlinewidth": 0,
              "ticks": ""
             }
            },
            "type": "scatterternary"
           }
          ],
          "surface": [
           {
            "colorbar": {
             "outlinewidth": 0,
             "ticks": ""
            },
            "colorscale": [
             [
              0,
              "#0d0887"
             ],
             [
              0.1111111111111111,
              "#46039f"
             ],
             [
              0.2222222222222222,
              "#7201a8"
             ],
             [
              0.3333333333333333,
              "#9c179e"
             ],
             [
              0.4444444444444444,
              "#bd3786"
             ],
             [
              0.5555555555555556,
              "#d8576b"
             ],
             [
              0.6666666666666666,
              "#ed7953"
             ],
             [
              0.7777777777777778,
              "#fb9f3a"
             ],
             [
              0.8888888888888888,
              "#fdca26"
             ],
             [
              1,
              "#f0f921"
             ]
            ],
            "type": "surface"
           }
          ],
          "table": [
           {
            "cells": {
             "fill": {
              "color": "#EBF0F8"
             },
             "line": {
              "color": "white"
             }
            },
            "header": {
             "fill": {
              "color": "#C8D4E3"
             },
             "line": {
              "color": "white"
             }
            },
            "type": "table"
           }
          ]
         },
         "layout": {
          "annotationdefaults": {
           "arrowcolor": "#2a3f5f",
           "arrowhead": 0,
           "arrowwidth": 1
          },
          "autotypenumbers": "strict",
          "coloraxis": {
           "colorbar": {
            "outlinewidth": 0,
            "ticks": ""
           }
          },
          "colorscale": {
           "diverging": [
            [
             0,
             "#8e0152"
            ],
            [
             0.1,
             "#c51b7d"
            ],
            [
             0.2,
             "#de77ae"
            ],
            [
             0.3,
             "#f1b6da"
            ],
            [
             0.4,
             "#fde0ef"
            ],
            [
             0.5,
             "#f7f7f7"
            ],
            [
             0.6,
             "#e6f5d0"
            ],
            [
             0.7,
             "#b8e186"
            ],
            [
             0.8,
             "#7fbc41"
            ],
            [
             0.9,
             "#4d9221"
            ],
            [
             1,
             "#276419"
            ]
           ],
           "sequential": [
            [
             0,
             "#0d0887"
            ],
            [
             0.1111111111111111,
             "#46039f"
            ],
            [
             0.2222222222222222,
             "#7201a8"
            ],
            [
             0.3333333333333333,
             "#9c179e"
            ],
            [
             0.4444444444444444,
             "#bd3786"
            ],
            [
             0.5555555555555556,
             "#d8576b"
            ],
            [
             0.6666666666666666,
             "#ed7953"
            ],
            [
             0.7777777777777778,
             "#fb9f3a"
            ],
            [
             0.8888888888888888,
             "#fdca26"
            ],
            [
             1,
             "#f0f921"
            ]
           ],
           "sequentialminus": [
            [
             0,
             "#0d0887"
            ],
            [
             0.1111111111111111,
             "#46039f"
            ],
            [
             0.2222222222222222,
             "#7201a8"
            ],
            [
             0.3333333333333333,
             "#9c179e"
            ],
            [
             0.4444444444444444,
             "#bd3786"
            ],
            [
             0.5555555555555556,
             "#d8576b"
            ],
            [
             0.6666666666666666,
             "#ed7953"
            ],
            [
             0.7777777777777778,
             "#fb9f3a"
            ],
            [
             0.8888888888888888,
             "#fdca26"
            ],
            [
             1,
             "#f0f921"
            ]
           ]
          },
          "colorway": [
           "#636efa",
           "#EF553B",
           "#00cc96",
           "#ab63fa",
           "#FFA15A",
           "#19d3f3",
           "#FF6692",
           "#B6E880",
           "#FF97FF",
           "#FECB52"
          ],
          "font": {
           "color": "#2a3f5f"
          },
          "geo": {
           "bgcolor": "white",
           "lakecolor": "white",
           "landcolor": "#E5ECF6",
           "showlakes": true,
           "showland": true,
           "subunitcolor": "white"
          },
          "hoverlabel": {
           "align": "left"
          },
          "hovermode": "closest",
          "mapbox": {
           "style": "light"
          },
          "paper_bgcolor": "white",
          "plot_bgcolor": "#E5ECF6",
          "polar": {
           "angularaxis": {
            "gridcolor": "white",
            "linecolor": "white",
            "ticks": ""
           },
           "bgcolor": "#E5ECF6",
           "radialaxis": {
            "gridcolor": "white",
            "linecolor": "white",
            "ticks": ""
           }
          },
          "scene": {
           "xaxis": {
            "backgroundcolor": "#E5ECF6",
            "gridcolor": "white",
            "gridwidth": 2,
            "linecolor": "white",
            "showbackground": true,
            "ticks": "",
            "zerolinecolor": "white"
           },
           "yaxis": {
            "backgroundcolor": "#E5ECF6",
            "gridcolor": "white",
            "gridwidth": 2,
            "linecolor": "white",
            "showbackground": true,
            "ticks": "",
            "zerolinecolor": "white"
           },
           "zaxis": {
            "backgroundcolor": "#E5ECF6",
            "gridcolor": "white",
            "gridwidth": 2,
            "linecolor": "white",
            "showbackground": true,
            "ticks": "",
            "zerolinecolor": "white"
           }
          },
          "shapedefaults": {
           "line": {
            "color": "#2a3f5f"
           }
          },
          "ternary": {
           "aaxis": {
            "gridcolor": "white",
            "linecolor": "white",
            "ticks": ""
           },
           "baxis": {
            "gridcolor": "white",
            "linecolor": "white",
            "ticks": ""
           },
           "bgcolor": "#E5ECF6",
           "caxis": {
            "gridcolor": "white",
            "linecolor": "white",
            "ticks": ""
           }
          },
          "title": {
           "x": 0.05
          },
          "xaxis": {
           "automargin": true,
           "gridcolor": "white",
           "linecolor": "white",
           "ticks": "",
           "title": {
            "standoff": 15
           },
           "zerolinecolor": "white",
           "zerolinewidth": 2
          },
          "yaxis": {
           "automargin": true,
           "gridcolor": "white",
           "linecolor": "white",
           "ticks": "",
           "title": {
            "standoff": 15
           },
           "zerolinecolor": "white",
           "zerolinewidth": 2
          }
         }
        },
        "xaxis": {
         "anchor": "y",
         "domain": [
          0,
          1
         ],
         "title": {
          "text": "value"
         }
        },
        "xaxis2": {
         "anchor": "y2",
         "domain": [
          0,
          1
         ],
         "matches": "x",
         "showgrid": true,
         "showticklabels": false
        },
        "yaxis": {
         "anchor": "x",
         "domain": [
          0,
          0.7326
         ],
         "title": {
          "text": "count"
         }
        },
        "yaxis2": {
         "anchor": "x2",
         "domain": [
          0.7426,
          1
         ],
         "matches": "y2",
         "showgrid": false,
         "showline": false,
         "showticklabels": false,
         "ticks": ""
        }
       }
      }
     },
     "metadata": {},
     "output_type": "display_data"
    },
    {
     "data": {
      "application/vnd.plotly.v1+json": {
       "config": {
        "plotlyServerURL": "https://plot.ly"
       },
       "data": [
        {
         "hovertemplate": "variable=ceilingMinusFloor<br>index=%{x}<br>value=%{y}<extra></extra>",
         "legendgroup": "ceilingMinusFloor",
         "line": {
          "color": "#636efa",
          "dash": "solid"
         },
         "marker": {
          "symbol": "circle"
         },
         "mode": "lines",
         "name": "ceilingMinusFloor",
         "orientation": "v",
         "showlegend": true,
         "type": "scatter",
         "x": [
          0,
          1,
          2,
          3,
          4,
          5,
          6,
          7
         ],
         "xaxis": "x",
         "y": [
          null,
          2.522704934998984,
          1.2429767329758192,
          3.4223993116175677,
          null,
          2.033859557892754,
          0.9929643398781992,
          2.9509869106404096
         ],
         "yaxis": "y"
        },
        {
         "hovertemplate": "variable=outMinusFloor<br>index=%{x}<br>value=%{y}<extra></extra>",
         "legendgroup": "outMinusFloor",
         "line": {
          "color": "#EF553B",
          "dash": "solid"
         },
         "marker": {
          "symbol": "circle"
         },
         "mode": "lines",
         "name": "outMinusFloor",
         "orientation": "v",
         "showlegend": true,
         "type": "scatter",
         "x": [
          0,
          1,
          2,
          3,
          4,
          5,
          6,
          7
         ],
         "xaxis": "x",
         "y": [
          null,
          1.4712294497871738,
          0.7597884316160588,
          1.5943571286132254,
          null,
          1.292871431410347,
          0.7426148203758061,
          1.417696567841503
         ],
         "yaxis": "y"
        },
        {
         "hovertemplate": "variable=intWallMinusFloor<br>index=%{x}<br>value=%{y}<extra></extra>",
         "legendgroup": "intWallMinusFloor",
         "line": {
          "color": "#00cc96",
          "dash": "solid"
         },
         "marker": {
          "symbol": "circle"
         },
         "mode": "lines",
         "name": "intWallMinusFloor",
         "orientation": "v",
         "showlegend": true,
         "type": "scatter",
         "x": [
          0,
          1,
          2,
          3,
          4,
          5,
          6,
          7
         ],
         "xaxis": "x",
         "y": [
          null,
          1.1315326609964036,
          0.6478700394876142,
          1.168692287508885,
          null,
          1.0896361848386722,
          0.6339873782655966,
          1.061369837339484
         ],
         "yaxis": "y"
        },
        {
         "hovertemplate": "variable=extWallMinusFloor<br>index=%{x}<br>value=%{y}<extra></extra>",
         "legendgroup": "extWallMinusFloor",
         "line": {
          "color": "#ab63fa",
          "dash": "solid"
         },
         "marker": {
          "symbol": "circle"
         },
         "mode": "lines",
         "name": "extWallMinusFloor",
         "orientation": "v",
         "showlegend": true,
         "type": "scatter",
         "x": [
          0,
          1,
          2,
          3,
          4,
          5,
          6,
          7
         ],
         "xaxis": "x",
         "y": [
          null,
          2.233521985399861,
          1.1315124644235652,
          2.0120267512377836,
          null,
          1.9490017213397124,
          1.2796456901924813,
          1.8184807936677176
         ],
         "yaxis": "y"
        }
       ],
       "layout": {
        "legend": {
         "title": {
          "text": "variable"
         },
         "tracegroupgap": 0
        },
        "margin": {
         "t": 60
        },
        "template": {
         "data": {
          "bar": [
           {
            "error_x": {
             "color": "#2a3f5f"
            },
            "error_y": {
             "color": "#2a3f5f"
            },
            "marker": {
             "line": {
              "color": "#E5ECF6",
              "width": 0.5
             },
             "pattern": {
              "fillmode": "overlay",
              "size": 10,
              "solidity": 0.2
             }
            },
            "type": "bar"
           }
          ],
          "barpolar": [
           {
            "marker": {
             "line": {
              "color": "#E5ECF6",
              "width": 0.5
             },
             "pattern": {
              "fillmode": "overlay",
              "size": 10,
              "solidity": 0.2
             }
            },
            "type": "barpolar"
           }
          ],
          "carpet": [
           {
            "aaxis": {
             "endlinecolor": "#2a3f5f",
             "gridcolor": "white",
             "linecolor": "white",
             "minorgridcolor": "white",
             "startlinecolor": "#2a3f5f"
            },
            "baxis": {
             "endlinecolor": "#2a3f5f",
             "gridcolor": "white",
             "linecolor": "white",
             "minorgridcolor": "white",
             "startlinecolor": "#2a3f5f"
            },
            "type": "carpet"
           }
          ],
          "choropleth": [
           {
            "colorbar": {
             "outlinewidth": 0,
             "ticks": ""
            },
            "type": "choropleth"
           }
          ],
          "contour": [
           {
            "colorbar": {
             "outlinewidth": 0,
             "ticks": ""
            },
            "colorscale": [
             [
              0,
              "#0d0887"
             ],
             [
              0.1111111111111111,
              "#46039f"
             ],
             [
              0.2222222222222222,
              "#7201a8"
             ],
             [
              0.3333333333333333,
              "#9c179e"
             ],
             [
              0.4444444444444444,
              "#bd3786"
             ],
             [
              0.5555555555555556,
              "#d8576b"
             ],
             [
              0.6666666666666666,
              "#ed7953"
             ],
             [
              0.7777777777777778,
              "#fb9f3a"
             ],
             [
              0.8888888888888888,
              "#fdca26"
             ],
             [
              1,
              "#f0f921"
             ]
            ],
            "type": "contour"
           }
          ],
          "contourcarpet": [
           {
            "colorbar": {
             "outlinewidth": 0,
             "ticks": ""
            },
            "type": "contourcarpet"
           }
          ],
          "heatmap": [
           {
            "colorbar": {
             "outlinewidth": 0,
             "ticks": ""
            },
            "colorscale": [
             [
              0,
              "#0d0887"
             ],
             [
              0.1111111111111111,
              "#46039f"
             ],
             [
              0.2222222222222222,
              "#7201a8"
             ],
             [
              0.3333333333333333,
              "#9c179e"
             ],
             [
              0.4444444444444444,
              "#bd3786"
             ],
             [
              0.5555555555555556,
              "#d8576b"
             ],
             [
              0.6666666666666666,
              "#ed7953"
             ],
             [
              0.7777777777777778,
              "#fb9f3a"
             ],
             [
              0.8888888888888888,
              "#fdca26"
             ],
             [
              1,
              "#f0f921"
             ]
            ],
            "type": "heatmap"
           }
          ],
          "heatmapgl": [
           {
            "colorbar": {
             "outlinewidth": 0,
             "ticks": ""
            },
            "colorscale": [
             [
              0,
              "#0d0887"
             ],
             [
              0.1111111111111111,
              "#46039f"
             ],
             [
              0.2222222222222222,
              "#7201a8"
             ],
             [
              0.3333333333333333,
              "#9c179e"
             ],
             [
              0.4444444444444444,
              "#bd3786"
             ],
             [
              0.5555555555555556,
              "#d8576b"
             ],
             [
              0.6666666666666666,
              "#ed7953"
             ],
             [
              0.7777777777777778,
              "#fb9f3a"
             ],
             [
              0.8888888888888888,
              "#fdca26"
             ],
             [
              1,
              "#f0f921"
             ]
            ],
            "type": "heatmapgl"
           }
          ],
          "histogram": [
           {
            "marker": {
             "pattern": {
              "fillmode": "overlay",
              "size": 10,
              "solidity": 0.2
             }
            },
            "type": "histogram"
           }
          ],
          "histogram2d": [
           {
            "colorbar": {
             "outlinewidth": 0,
             "ticks": ""
            },
            "colorscale": [
             [
              0,
              "#0d0887"
             ],
             [
              0.1111111111111111,
              "#46039f"
             ],
             [
              0.2222222222222222,
              "#7201a8"
             ],
             [
              0.3333333333333333,
              "#9c179e"
             ],
             [
              0.4444444444444444,
              "#bd3786"
             ],
             [
              0.5555555555555556,
              "#d8576b"
             ],
             [
              0.6666666666666666,
              "#ed7953"
             ],
             [
              0.7777777777777778,
              "#fb9f3a"
             ],
             [
              0.8888888888888888,
              "#fdca26"
             ],
             [
              1,
              "#f0f921"
             ]
            ],
            "type": "histogram2d"
           }
          ],
          "histogram2dcontour": [
           {
            "colorbar": {
             "outlinewidth": 0,
             "ticks": ""
            },
            "colorscale": [
             [
              0,
              "#0d0887"
             ],
             [
              0.1111111111111111,
              "#46039f"
             ],
             [
              0.2222222222222222,
              "#7201a8"
             ],
             [
              0.3333333333333333,
              "#9c179e"
             ],
             [
              0.4444444444444444,
              "#bd3786"
             ],
             [
              0.5555555555555556,
              "#d8576b"
             ],
             [
              0.6666666666666666,
              "#ed7953"
             ],
             [
              0.7777777777777778,
              "#fb9f3a"
             ],
             [
              0.8888888888888888,
              "#fdca26"
             ],
             [
              1,
              "#f0f921"
             ]
            ],
            "type": "histogram2dcontour"
           }
          ],
          "mesh3d": [
           {
            "colorbar": {
             "outlinewidth": 0,
             "ticks": ""
            },
            "type": "mesh3d"
           }
          ],
          "parcoords": [
           {
            "line": {
             "colorbar": {
              "outlinewidth": 0,
              "ticks": ""
             }
            },
            "type": "parcoords"
           }
          ],
          "pie": [
           {
            "automargin": true,
            "type": "pie"
           }
          ],
          "scatter": [
           {
            "fillpattern": {
             "fillmode": "overlay",
             "size": 10,
             "solidity": 0.2
            },
            "type": "scatter"
           }
          ],
          "scatter3d": [
           {
            "line": {
             "colorbar": {
              "outlinewidth": 0,
              "ticks": ""
             }
            },
            "marker": {
             "colorbar": {
              "outlinewidth": 0,
              "ticks": ""
             }
            },
            "type": "scatter3d"
           }
          ],
          "scattercarpet": [
           {
            "marker": {
             "colorbar": {
              "outlinewidth": 0,
              "ticks": ""
             }
            },
            "type": "scattercarpet"
           }
          ],
          "scattergeo": [
           {
            "marker": {
             "colorbar": {
              "outlinewidth": 0,
              "ticks": ""
             }
            },
            "type": "scattergeo"
           }
          ],
          "scattergl": [
           {
            "marker": {
             "colorbar": {
              "outlinewidth": 0,
              "ticks": ""
             }
            },
            "type": "scattergl"
           }
          ],
          "scattermapbox": [
           {
            "marker": {
             "colorbar": {
              "outlinewidth": 0,
              "ticks": ""
             }
            },
            "type": "scattermapbox"
           }
          ],
          "scatterpolar": [
           {
            "marker": {
             "colorbar": {
              "outlinewidth": 0,
              "ticks": ""
             }
            },
            "type": "scatterpolar"
           }
          ],
          "scatterpolargl": [
           {
            "marker": {
             "colorbar": {
              "outlinewidth": 0,
              "ticks": ""
             }
            },
            "type": "scatterpolargl"
           }
          ],
          "scatterternary": [
           {
            "marker": {
             "colorbar": {
              "outlinewidth": 0,
              "ticks": ""
             }
            },
            "type": "scatterternary"
           }
          ],
          "surface": [
           {
            "colorbar": {
             "outlinewidth": 0,
             "ticks": ""
            },
            "colorscale": [
             [
              0,
              "#0d0887"
             ],
             [
              0.1111111111111111,
              "#46039f"
             ],
             [
              0.2222222222222222,
              "#7201a8"
             ],
             [
              0.3333333333333333,
              "#9c179e"
             ],
             [
              0.4444444444444444,
              "#bd3786"
             ],
             [
              0.5555555555555556,
              "#d8576b"
             ],
             [
              0.6666666666666666,
              "#ed7953"
             ],
             [
              0.7777777777777778,
              "#fb9f3a"
             ],
             [
              0.8888888888888888,
              "#fdca26"
             ],
             [
              1,
              "#f0f921"
             ]
            ],
            "type": "surface"
           }
          ],
          "table": [
           {
            "cells": {
             "fill": {
              "color": "#EBF0F8"
             },
             "line": {
              "color": "white"
             }
            },
            "header": {
             "fill": {
              "color": "#C8D4E3"
             },
             "line": {
              "color": "white"
             }
            },
            "type": "table"
           }
          ]
         },
         "layout": {
          "annotationdefaults": {
           "arrowcolor": "#2a3f5f",
           "arrowhead": 0,
           "arrowwidth": 1
          },
          "autotypenumbers": "strict",
          "coloraxis": {
           "colorbar": {
            "outlinewidth": 0,
            "ticks": ""
           }
          },
          "colorscale": {
           "diverging": [
            [
             0,
             "#8e0152"
            ],
            [
             0.1,
             "#c51b7d"
            ],
            [
             0.2,
             "#de77ae"
            ],
            [
             0.3,
             "#f1b6da"
            ],
            [
             0.4,
             "#fde0ef"
            ],
            [
             0.5,
             "#f7f7f7"
            ],
            [
             0.6,
             "#e6f5d0"
            ],
            [
             0.7,
             "#b8e186"
            ],
            [
             0.8,
             "#7fbc41"
            ],
            [
             0.9,
             "#4d9221"
            ],
            [
             1,
             "#276419"
            ]
           ],
           "sequential": [
            [
             0,
             "#0d0887"
            ],
            [
             0.1111111111111111,
             "#46039f"
            ],
            [
             0.2222222222222222,
             "#7201a8"
            ],
            [
             0.3333333333333333,
             "#9c179e"
            ],
            [
             0.4444444444444444,
             "#bd3786"
            ],
            [
             0.5555555555555556,
             "#d8576b"
            ],
            [
             0.6666666666666666,
             "#ed7953"
            ],
            [
             0.7777777777777778,
             "#fb9f3a"
            ],
            [
             0.8888888888888888,
             "#fdca26"
            ],
            [
             1,
             "#f0f921"
            ]
           ],
           "sequentialminus": [
            [
             0,
             "#0d0887"
            ],
            [
             0.1111111111111111,
             "#46039f"
            ],
            [
             0.2222222222222222,
             "#7201a8"
            ],
            [
             0.3333333333333333,
             "#9c179e"
            ],
            [
             0.4444444444444444,
             "#bd3786"
            ],
            [
             0.5555555555555556,
             "#d8576b"
            ],
            [
             0.6666666666666666,
             "#ed7953"
            ],
            [
             0.7777777777777778,
             "#fb9f3a"
            ],
            [
             0.8888888888888888,
             "#fdca26"
            ],
            [
             1,
             "#f0f921"
            ]
           ]
          },
          "colorway": [
           "#636efa",
           "#EF553B",
           "#00cc96",
           "#ab63fa",
           "#FFA15A",
           "#19d3f3",
           "#FF6692",
           "#B6E880",
           "#FF97FF",
           "#FECB52"
          ],
          "font": {
           "color": "#2a3f5f"
          },
          "geo": {
           "bgcolor": "white",
           "lakecolor": "white",
           "landcolor": "#E5ECF6",
           "showlakes": true,
           "showland": true,
           "subunitcolor": "white"
          },
          "hoverlabel": {
           "align": "left"
          },
          "hovermode": "closest",
          "mapbox": {
           "style": "light"
          },
          "paper_bgcolor": "white",
          "plot_bgcolor": "#E5ECF6",
          "polar": {
           "angularaxis": {
            "gridcolor": "white",
            "linecolor": "white",
            "ticks": ""
           },
           "bgcolor": "#E5ECF6",
           "radialaxis": {
            "gridcolor": "white",
            "linecolor": "white",
            "ticks": ""
           }
          },
          "scene": {
           "xaxis": {
            "backgroundcolor": "#E5ECF6",
            "gridcolor": "white",
            "gridwidth": 2,
            "linecolor": "white",
            "showbackground": true,
            "ticks": "",
            "zerolinecolor": "white"
           },
           "yaxis": {
            "backgroundcolor": "#E5ECF6",
            "gridcolor": "white",
            "gridwidth": 2,
            "linecolor": "white",
            "showbackground": true,
            "ticks": "",
            "zerolinecolor": "white"
           },
           "zaxis": {
            "backgroundcolor": "#E5ECF6",
            "gridcolor": "white",
            "gridwidth": 2,
            "linecolor": "white",
            "showbackground": true,
            "ticks": "",
            "zerolinecolor": "white"
           }
          },
          "shapedefaults": {
           "line": {
            "color": "#2a3f5f"
           }
          },
          "ternary": {
           "aaxis": {
            "gridcolor": "white",
            "linecolor": "white",
            "ticks": ""
           },
           "baxis": {
            "gridcolor": "white",
            "linecolor": "white",
            "ticks": ""
           },
           "bgcolor": "#E5ECF6",
           "caxis": {
            "gridcolor": "white",
            "linecolor": "white",
            "ticks": ""
           }
          },
          "title": {
           "x": 0.05
          },
          "xaxis": {
           "automargin": true,
           "gridcolor": "white",
           "linecolor": "white",
           "ticks": "",
           "title": {
            "standoff": 15
           },
           "zerolinecolor": "white",
           "zerolinewidth": 2
          },
          "yaxis": {
           "automargin": true,
           "gridcolor": "white",
           "linecolor": "white",
           "ticks": "",
           "title": {
            "standoff": 15
           },
           "zerolinecolor": "white",
           "zerolinewidth": 2
          }
         }
        },
        "xaxis": {
         "anchor": "y",
         "domain": [
          0,
          1
         ],
         "title": {
          "text": "index"
         }
        },
        "yaxis": {
         "anchor": "x",
         "domain": [
          0,
          1
         ],
         "title": {
          "text": "value"
         }
        }
       }
      }
     },
     "metadata": {},
     "output_type": "display_data"
    }
   ],
   "source": [
    "qois = [\"ceilingMinusFloor\", \"outMinusFloor\", \"intWallMinusFloor\", \"extWallMinusFloor\"]\n",
    "fig = px.histogram(\n",
    "    dfFull,\n",
    "    x = qois,\n",
    "    marginal=\"box\", # or violin, rug\n",
    "    barmode = \"group\"\n",
    "    )\n",
    "fig.show()\n",
    "\n",
    "fig = px.line(dfFull, y = qois)\n",
    "fig.show()\n"
   ]
  },
  {
   "cell_type": "code",
   "execution_count": 69,
   "metadata": {},
   "outputs": [
    {
     "data": {
      "application/vnd.plotly.v1+json": {
       "config": {
        "plotlyServerURL": "https://plot.ly"
       },
       "data": [
        {
         "hovertemplate": "variable=ceilingMinusFloor<br>material_type=Medium<br>floorTempAdjustment=%{x}<br>value=%{y}<extra></extra>",
         "legendgroup": "ceilingMinusFloor",
         "marker": {
          "color": "#636efa",
          "symbol": "circle"
         },
         "mode": "markers",
         "name": "ceilingMinusFloor",
         "orientation": "v",
         "showlegend": true,
         "type": "scatter",
         "x": [
          -4.151563245246183,
          -4.52232948861212,
          -4.151563245246183,
          -4.52232948861212
         ],
         "xaxis": "x",
         "y": [
          null,
          1.2429767329758192,
          null,
          0.9929643398781992
         ],
         "yaxis": "y"
        },
        {
         "hovertemplate": "<b>OLS trendline</b><br>value = -0.235687 * floorTempAdjustment + 0.0521163<br>R<sup>2</sup>=0.000000<br><br>variable=ceilingMinusFloor<br>material_type=Medium<br>floorTempAdjustment=%{x}<br>value=%{y} <b>(trend)</b><extra></extra>",
         "legendgroup": "ceilingMinusFloor",
         "marker": {
          "color": "#636efa",
          "symbol": "circle"
         },
         "mode": "lines",
         "name": "ceilingMinusFloor",
         "showlegend": false,
         "type": "scatter",
         "x": [
          -4.52232948861212,
          -4.52232948861212
         ],
         "xaxis": "x",
         "y": [
          1.1179705364270094,
          1.1179705364270094
         ],
         "yaxis": "y"
        },
        {
         "hovertemplate": "variable=ceilingMinusFloor<br>material_type=Light<br>floorTempAdjustment=%{x}<br>value=%{y}<extra></extra>",
         "legendgroup": "ceilingMinusFloor",
         "marker": {
          "color": "#636efa",
          "symbol": "circle"
         },
         "mode": "markers",
         "name": "ceilingMinusFloor",
         "orientation": "v",
         "showlegend": false,
         "type": "scatter",
         "x": [
          -4.07824050982345,
          -4.766832127721428,
          -4.07824050982345,
          -4.766832127721428
         ],
         "xaxis": "x2",
         "y": [
          2.522704934998984,
          3.4223993116175677,
          2.033859557892754,
          2.9509869106404096
         ],
         "yaxis": "y2"
        },
        {
         "hovertemplate": "<b>OLS trendline</b><br>value = -1.31923 * floorTempAdjustment + -3.10186<br>R<sup>2</sup>=0.781590<br><br>variable=ceilingMinusFloor<br>material_type=Light<br>floorTempAdjustment=%{x}<br>value=%{y} <b>(trend)</b><extra></extra>",
         "legendgroup": "ceilingMinusFloor",
         "marker": {
          "color": "#636efa",
          "symbol": "circle"
         },
         "mode": "lines",
         "name": "ceilingMinusFloor",
         "showlegend": false,
         "type": "scatter",
         "x": [
          -4.766832127721428,
          -4.766832127721428,
          -4.07824050982345,
          -4.07824050982345
         ],
         "xaxis": "x2",
         "y": [
          3.186693111128991,
          3.186693111128991,
          2.278282246445871,
          2.278282246445871
         ],
         "yaxis": "y2"
        },
        {
         "hovertemplate": "variable=outMinusFloor<br>material_type=Medium<br>floorTempAdjustment=%{x}<br>value=%{y}<extra></extra>",
         "legendgroup": "outMinusFloor",
         "marker": {
          "color": "#EF553B",
          "symbol": "circle"
         },
         "mode": "markers",
         "name": "outMinusFloor",
         "orientation": "v",
         "showlegend": true,
         "type": "scatter",
         "x": [
          -4.151563245246183,
          -4.52232948861212,
          -4.151563245246183,
          -4.52232948861212
         ],
         "xaxis": "x",
         "y": [
          null,
          0.7597884316160588,
          null,
          0.7426148203758061
         ],
         "yaxis": "y"
        },
        {
         "hovertemplate": "<b>OLS trendline</b><br>value = -0.158366 * floorTempAdjustment + 0.0350187<br>R<sup>2</sup>=0.000000<br><br>variable=outMinusFloor<br>material_type=Medium<br>floorTempAdjustment=%{x}<br>value=%{y} <b>(trend)</b><extra></extra>",
         "legendgroup": "outMinusFloor",
         "marker": {
          "color": "#EF553B",
          "symbol": "circle"
         },
         "mode": "lines",
         "name": "outMinusFloor",
         "showlegend": false,
         "type": "scatter",
         "x": [
          -4.52232948861212,
          -4.52232948861212
         ],
         "xaxis": "x",
         "y": [
          0.7512016259959325,
          0.7512016259959325
         ],
         "yaxis": "y"
        },
        {
         "hovertemplate": "variable=outMinusFloor<br>material_type=Light<br>floorTempAdjustment=%{x}<br>value=%{y}<extra></extra>",
         "legendgroup": "outMinusFloor",
         "marker": {
          "color": "#EF553B",
          "symbol": "circle"
         },
         "mode": "markers",
         "name": "outMinusFloor",
         "orientation": "v",
         "showlegend": false,
         "type": "scatter",
         "x": [
          -4.07824050982345,
          -4.766832127721428,
          -4.07824050982345,
          -4.766832127721428
         ],
         "xaxis": "x2",
         "y": [
          1.4712294497871738,
          1.5943571286132254,
          1.292871431410347,
          1.417696567841503
         ],
         "yaxis": "y2"
        },
        {
         "hovertemplate": "<b>OLS trendline</b><br>value = -0.180043 * floorTempAdjustment + 0.64779<br>R<sup>2</sup>=0.327859<br><br>variable=outMinusFloor<br>material_type=Light<br>floorTempAdjustment=%{x}<br>value=%{y} <b>(trend)</b><extra></extra>",
         "legendgroup": "outMinusFloor",
         "marker": {
          "color": "#EF553B",
          "symbol": "circle"
         },
         "mode": "lines",
         "name": "outMinusFloor",
         "showlegend": false,
         "type": "scatter",
         "x": [
          -4.766832127721428,
          -4.766832127721428,
          -4.07824050982345,
          -4.07824050982345
         ],
         "xaxis": "x2",
         "y": [
          1.506026848227364,
          1.506026848227364,
          1.3820504405987608,
          1.3820504405987608
         ],
         "yaxis": "y2"
        },
        {
         "hovertemplate": "variable=intWallMinusFloor<br>material_type=Medium<br>floorTempAdjustment=%{x}<br>value=%{y}<extra></extra>",
         "legendgroup": "intWallMinusFloor",
         "marker": {
          "color": "#00cc96",
          "symbol": "circle"
         },
         "mode": "markers",
         "name": "intWallMinusFloor",
         "orientation": "v",
         "showlegend": true,
         "type": "scatter",
         "x": [
          -4.151563245246183,
          -4.52232948861212,
          -4.151563245246183,
          -4.52232948861212
         ],
         "xaxis": "x",
         "y": [
          null,
          0.6478700394876142,
          null,
          0.6339873782655966
         ],
         "yaxis": "y"
        },
        {
         "hovertemplate": "<b>OLS trendline</b><br>value = -0.135119 * floorTempAdjustment + 0.0298781<br>R<sup>2</sup>=0.000000<br><br>variable=intWallMinusFloor<br>material_type=Medium<br>floorTempAdjustment=%{x}<br>value=%{y} <b>(trend)</b><extra></extra>",
         "legendgroup": "intWallMinusFloor",
         "marker": {
          "color": "#00cc96",
          "symbol": "circle"
         },
         "mode": "lines",
         "name": "intWallMinusFloor",
         "showlegend": false,
         "type": "scatter",
         "x": [
          -4.52232948861212,
          -4.52232948861212
         ],
         "xaxis": "x",
         "y": [
          0.6409287088766056,
          0.6409287088766056
         ],
         "yaxis": "y"
        },
        {
         "hovertemplate": "variable=intWallMinusFloor<br>material_type=Light<br>floorTempAdjustment=%{x}<br>value=%{y}<extra></extra>",
         "legendgroup": "intWallMinusFloor",
         "marker": {
          "color": "#00cc96",
          "symbol": "circle"
         },
         "mode": "markers",
         "name": "intWallMinusFloor",
         "orientation": "v",
         "showlegend": false,
         "type": "scatter",
         "x": [
          -4.07824050982345,
          -4.766832127721428,
          -4.07824050982345,
          -4.766832127721428
         ],
         "xaxis": "x2",
         "y": [
          1.1315326609964036,
          1.168692287508885,
          1.0896361848386722,
          1.061369837339484
         ],
         "yaxis": "y2"
        },
        {
         "hovertemplate": "<b>OLS trendline</b><br>value = -0.00645759 * floorTempAdjustment + 1.08425<br>R<sup>2</sup>=0.002970<br><br>variable=intWallMinusFloor<br>material_type=Light<br>floorTempAdjustment=%{x}<br>value=%{y} <b>(trend)</b><extra></extra>",
         "legendgroup": "intWallMinusFloor",
         "marker": {
          "color": "#00cc96",
          "symbol": "circle"
         },
         "mode": "lines",
         "name": "intWallMinusFloor",
         "showlegend": false,
         "type": "scatter",
         "x": [
          -4.766832127721428,
          -4.766832127721428,
          -4.07824050982345,
          -4.07824050982345
         ],
         "xaxis": "x2",
         "y": [
          1.1150310624241846,
          1.1150310624241846,
          1.1105844229175386,
          1.1105844229175386
         ],
         "yaxis": "y2"
        },
        {
         "hovertemplate": "variable=extWallMinusFloor<br>material_type=Medium<br>floorTempAdjustment=%{x}<br>value=%{y}<extra></extra>",
         "legendgroup": "extWallMinusFloor",
         "marker": {
          "color": "#ab63fa",
          "symbol": "circle"
         },
         "mode": "markers",
         "name": "extWallMinusFloor",
         "orientation": "v",
         "showlegend": true,
         "type": "scatter",
         "x": [
          -4.151563245246183,
          -4.52232948861212,
          -4.151563245246183,
          -4.52232948861212
         ],
         "xaxis": "x",
         "y": [
          null,
          1.1315124644235652,
          null,
          1.2796456901924813
         ],
         "yaxis": "y"
        },
        {
         "hovertemplate": "<b>OLS trendline</b><br>value = -0.254156 * floorTempAdjustment + 0.0562003<br>R<sup>2</sup>=0.000000<br><br>variable=extWallMinusFloor<br>material_type=Medium<br>floorTempAdjustment=%{x}<br>value=%{y} <b>(trend)</b><extra></extra>",
         "legendgroup": "extWallMinusFloor",
         "marker": {
          "color": "#ab63fa",
          "symbol": "circle"
         },
         "mode": "lines",
         "name": "extWallMinusFloor",
         "showlegend": false,
         "type": "scatter",
         "x": [
          -4.52232948861212,
          -4.52232948861212
         ],
         "xaxis": "x",
         "y": [
          1.2055790773080235,
          1.2055790773080235
         ],
         "yaxis": "y"
        },
        {
         "hovertemplate": "variable=extWallMinusFloor<br>material_type=Light<br>floorTempAdjustment=%{x}<br>value=%{y}<extra></extra>",
         "legendgroup": "extWallMinusFloor",
         "marker": {
          "color": "#ab63fa",
          "symbol": "circle"
         },
         "mode": "markers",
         "name": "extWallMinusFloor",
         "orientation": "v",
         "showlegend": false,
         "type": "scatter",
         "x": [
          -4.07824050982345,
          -4.766832127721428,
          -4.07824050982345,
          -4.766832127721428
         ],
         "xaxis": "x2",
         "y": [
          2.233521985399861,
          2.0120267512377836,
          1.9490017213397124,
          1.8184807936677176
         ],
         "yaxis": "y2"
        },
        {
         "hovertemplate": "<b>OLS trendline</b><br>value = 0.255606 * floorTempAdjustment + 3.13368<br>R<sup>2</sup>=0.343504<br><br>variable=extWallMinusFloor<br>material_type=Light<br>floorTempAdjustment=%{x}<br>value=%{y} <b>(trend)</b><extra></extra>",
         "legendgroup": "extWallMinusFloor",
         "marker": {
          "color": "#ab63fa",
          "symbol": "circle"
         },
         "mode": "lines",
         "name": "extWallMinusFloor",
         "showlegend": false,
         "type": "scatter",
         "x": [
          -4.766832127721428,
          -4.766832127721428,
          -4.07824050982345,
          -4.07824050982345
         ],
         "xaxis": "x2",
         "y": [
          1.9152537724527507,
          1.9152537724527507,
          2.091261853369788,
          2.091261853369788
         ],
         "yaxis": "y2"
        }
       ],
       "layout": {
        "annotations": [
         {
          "font": {},
          "showarrow": false,
          "text": "material_type=Medium",
          "x": 0.245,
          "xanchor": "center",
          "xref": "paper",
          "y": 1,
          "yanchor": "bottom",
          "yref": "paper"
         },
         {
          "font": {},
          "showarrow": false,
          "text": "material_type=Light",
          "x": 0.755,
          "xanchor": "center",
          "xref": "paper",
          "y": 1,
          "yanchor": "bottom",
          "yref": "paper"
         }
        ],
        "legend": {
         "title": {
          "text": "variable"
         },
         "tracegroupgap": 0
        },
        "margin": {
         "t": 60
        },
        "template": {
         "data": {
          "bar": [
           {
            "error_x": {
             "color": "#2a3f5f"
            },
            "error_y": {
             "color": "#2a3f5f"
            },
            "marker": {
             "line": {
              "color": "#E5ECF6",
              "width": 0.5
             },
             "pattern": {
              "fillmode": "overlay",
              "size": 10,
              "solidity": 0.2
             }
            },
            "type": "bar"
           }
          ],
          "barpolar": [
           {
            "marker": {
             "line": {
              "color": "#E5ECF6",
              "width": 0.5
             },
             "pattern": {
              "fillmode": "overlay",
              "size": 10,
              "solidity": 0.2
             }
            },
            "type": "barpolar"
           }
          ],
          "carpet": [
           {
            "aaxis": {
             "endlinecolor": "#2a3f5f",
             "gridcolor": "white",
             "linecolor": "white",
             "minorgridcolor": "white",
             "startlinecolor": "#2a3f5f"
            },
            "baxis": {
             "endlinecolor": "#2a3f5f",
             "gridcolor": "white",
             "linecolor": "white",
             "minorgridcolor": "white",
             "startlinecolor": "#2a3f5f"
            },
            "type": "carpet"
           }
          ],
          "choropleth": [
           {
            "colorbar": {
             "outlinewidth": 0,
             "ticks": ""
            },
            "type": "choropleth"
           }
          ],
          "contour": [
           {
            "colorbar": {
             "outlinewidth": 0,
             "ticks": ""
            },
            "colorscale": [
             [
              0,
              "#0d0887"
             ],
             [
              0.1111111111111111,
              "#46039f"
             ],
             [
              0.2222222222222222,
              "#7201a8"
             ],
             [
              0.3333333333333333,
              "#9c179e"
             ],
             [
              0.4444444444444444,
              "#bd3786"
             ],
             [
              0.5555555555555556,
              "#d8576b"
             ],
             [
              0.6666666666666666,
              "#ed7953"
             ],
             [
              0.7777777777777778,
              "#fb9f3a"
             ],
             [
              0.8888888888888888,
              "#fdca26"
             ],
             [
              1,
              "#f0f921"
             ]
            ],
            "type": "contour"
           }
          ],
          "contourcarpet": [
           {
            "colorbar": {
             "outlinewidth": 0,
             "ticks": ""
            },
            "type": "contourcarpet"
           }
          ],
          "heatmap": [
           {
            "colorbar": {
             "outlinewidth": 0,
             "ticks": ""
            },
            "colorscale": [
             [
              0,
              "#0d0887"
             ],
             [
              0.1111111111111111,
              "#46039f"
             ],
             [
              0.2222222222222222,
              "#7201a8"
             ],
             [
              0.3333333333333333,
              "#9c179e"
             ],
             [
              0.4444444444444444,
              "#bd3786"
             ],
             [
              0.5555555555555556,
              "#d8576b"
             ],
             [
              0.6666666666666666,
              "#ed7953"
             ],
             [
              0.7777777777777778,
              "#fb9f3a"
             ],
             [
              0.8888888888888888,
              "#fdca26"
             ],
             [
              1,
              "#f0f921"
             ]
            ],
            "type": "heatmap"
           }
          ],
          "heatmapgl": [
           {
            "colorbar": {
             "outlinewidth": 0,
             "ticks": ""
            },
            "colorscale": [
             [
              0,
              "#0d0887"
             ],
             [
              0.1111111111111111,
              "#46039f"
             ],
             [
              0.2222222222222222,
              "#7201a8"
             ],
             [
              0.3333333333333333,
              "#9c179e"
             ],
             [
              0.4444444444444444,
              "#bd3786"
             ],
             [
              0.5555555555555556,
              "#d8576b"
             ],
             [
              0.6666666666666666,
              "#ed7953"
             ],
             [
              0.7777777777777778,
              "#fb9f3a"
             ],
             [
              0.8888888888888888,
              "#fdca26"
             ],
             [
              1,
              "#f0f921"
             ]
            ],
            "type": "heatmapgl"
           }
          ],
          "histogram": [
           {
            "marker": {
             "pattern": {
              "fillmode": "overlay",
              "size": 10,
              "solidity": 0.2
             }
            },
            "type": "histogram"
           }
          ],
          "histogram2d": [
           {
            "colorbar": {
             "outlinewidth": 0,
             "ticks": ""
            },
            "colorscale": [
             [
              0,
              "#0d0887"
             ],
             [
              0.1111111111111111,
              "#46039f"
             ],
             [
              0.2222222222222222,
              "#7201a8"
             ],
             [
              0.3333333333333333,
              "#9c179e"
             ],
             [
              0.4444444444444444,
              "#bd3786"
             ],
             [
              0.5555555555555556,
              "#d8576b"
             ],
             [
              0.6666666666666666,
              "#ed7953"
             ],
             [
              0.7777777777777778,
              "#fb9f3a"
             ],
             [
              0.8888888888888888,
              "#fdca26"
             ],
             [
              1,
              "#f0f921"
             ]
            ],
            "type": "histogram2d"
           }
          ],
          "histogram2dcontour": [
           {
            "colorbar": {
             "outlinewidth": 0,
             "ticks": ""
            },
            "colorscale": [
             [
              0,
              "#0d0887"
             ],
             [
              0.1111111111111111,
              "#46039f"
             ],
             [
              0.2222222222222222,
              "#7201a8"
             ],
             [
              0.3333333333333333,
              "#9c179e"
             ],
             [
              0.4444444444444444,
              "#bd3786"
             ],
             [
              0.5555555555555556,
              "#d8576b"
             ],
             [
              0.6666666666666666,
              "#ed7953"
             ],
             [
              0.7777777777777778,
              "#fb9f3a"
             ],
             [
              0.8888888888888888,
              "#fdca26"
             ],
             [
              1,
              "#f0f921"
             ]
            ],
            "type": "histogram2dcontour"
           }
          ],
          "mesh3d": [
           {
            "colorbar": {
             "outlinewidth": 0,
             "ticks": ""
            },
            "type": "mesh3d"
           }
          ],
          "parcoords": [
           {
            "line": {
             "colorbar": {
              "outlinewidth": 0,
              "ticks": ""
             }
            },
            "type": "parcoords"
           }
          ],
          "pie": [
           {
            "automargin": true,
            "type": "pie"
           }
          ],
          "scatter": [
           {
            "fillpattern": {
             "fillmode": "overlay",
             "size": 10,
             "solidity": 0.2
            },
            "type": "scatter"
           }
          ],
          "scatter3d": [
           {
            "line": {
             "colorbar": {
              "outlinewidth": 0,
              "ticks": ""
             }
            },
            "marker": {
             "colorbar": {
              "outlinewidth": 0,
              "ticks": ""
             }
            },
            "type": "scatter3d"
           }
          ],
          "scattercarpet": [
           {
            "marker": {
             "colorbar": {
              "outlinewidth": 0,
              "ticks": ""
             }
            },
            "type": "scattercarpet"
           }
          ],
          "scattergeo": [
           {
            "marker": {
             "colorbar": {
              "outlinewidth": 0,
              "ticks": ""
             }
            },
            "type": "scattergeo"
           }
          ],
          "scattergl": [
           {
            "marker": {
             "colorbar": {
              "outlinewidth": 0,
              "ticks": ""
             }
            },
            "type": "scattergl"
           }
          ],
          "scattermapbox": [
           {
            "marker": {
             "colorbar": {
              "outlinewidth": 0,
              "ticks": ""
             }
            },
            "type": "scattermapbox"
           }
          ],
          "scatterpolar": [
           {
            "marker": {
             "colorbar": {
              "outlinewidth": 0,
              "ticks": ""
             }
            },
            "type": "scatterpolar"
           }
          ],
          "scatterpolargl": [
           {
            "marker": {
             "colorbar": {
              "outlinewidth": 0,
              "ticks": ""
             }
            },
            "type": "scatterpolargl"
           }
          ],
          "scatterternary": [
           {
            "marker": {
             "colorbar": {
              "outlinewidth": 0,
              "ticks": ""
             }
            },
            "type": "scatterternary"
           }
          ],
          "surface": [
           {
            "colorbar": {
             "outlinewidth": 0,
             "ticks": ""
            },
            "colorscale": [
             [
              0,
              "#0d0887"
             ],
             [
              0.1111111111111111,
              "#46039f"
             ],
             [
              0.2222222222222222,
              "#7201a8"
             ],
             [
              0.3333333333333333,
              "#9c179e"
             ],
             [
              0.4444444444444444,
              "#bd3786"
             ],
             [
              0.5555555555555556,
              "#d8576b"
             ],
             [
              0.6666666666666666,
              "#ed7953"
             ],
             [
              0.7777777777777778,
              "#fb9f3a"
             ],
             [
              0.8888888888888888,
              "#fdca26"
             ],
             [
              1,
              "#f0f921"
             ]
            ],
            "type": "surface"
           }
          ],
          "table": [
           {
            "cells": {
             "fill": {
              "color": "#EBF0F8"
             },
             "line": {
              "color": "white"
             }
            },
            "header": {
             "fill": {
              "color": "#C8D4E3"
             },
             "line": {
              "color": "white"
             }
            },
            "type": "table"
           }
          ]
         },
         "layout": {
          "annotationdefaults": {
           "arrowcolor": "#2a3f5f",
           "arrowhead": 0,
           "arrowwidth": 1
          },
          "autotypenumbers": "strict",
          "coloraxis": {
           "colorbar": {
            "outlinewidth": 0,
            "ticks": ""
           }
          },
          "colorscale": {
           "diverging": [
            [
             0,
             "#8e0152"
            ],
            [
             0.1,
             "#c51b7d"
            ],
            [
             0.2,
             "#de77ae"
            ],
            [
             0.3,
             "#f1b6da"
            ],
            [
             0.4,
             "#fde0ef"
            ],
            [
             0.5,
             "#f7f7f7"
            ],
            [
             0.6,
             "#e6f5d0"
            ],
            [
             0.7,
             "#b8e186"
            ],
            [
             0.8,
             "#7fbc41"
            ],
            [
             0.9,
             "#4d9221"
            ],
            [
             1,
             "#276419"
            ]
           ],
           "sequential": [
            [
             0,
             "#0d0887"
            ],
            [
             0.1111111111111111,
             "#46039f"
            ],
            [
             0.2222222222222222,
             "#7201a8"
            ],
            [
             0.3333333333333333,
             "#9c179e"
            ],
            [
             0.4444444444444444,
             "#bd3786"
            ],
            [
             0.5555555555555556,
             "#d8576b"
            ],
            [
             0.6666666666666666,
             "#ed7953"
            ],
            [
             0.7777777777777778,
             "#fb9f3a"
            ],
            [
             0.8888888888888888,
             "#fdca26"
            ],
            [
             1,
             "#f0f921"
            ]
           ],
           "sequentialminus": [
            [
             0,
             "#0d0887"
            ],
            [
             0.1111111111111111,
             "#46039f"
            ],
            [
             0.2222222222222222,
             "#7201a8"
            ],
            [
             0.3333333333333333,
             "#9c179e"
            ],
            [
             0.4444444444444444,
             "#bd3786"
            ],
            [
             0.5555555555555556,
             "#d8576b"
            ],
            [
             0.6666666666666666,
             "#ed7953"
            ],
            [
             0.7777777777777778,
             "#fb9f3a"
            ],
            [
             0.8888888888888888,
             "#fdca26"
            ],
            [
             1,
             "#f0f921"
            ]
           ]
          },
          "colorway": [
           "#636efa",
           "#EF553B",
           "#00cc96",
           "#ab63fa",
           "#FFA15A",
           "#19d3f3",
           "#FF6692",
           "#B6E880",
           "#FF97FF",
           "#FECB52"
          ],
          "font": {
           "color": "#2a3f5f"
          },
          "geo": {
           "bgcolor": "white",
           "lakecolor": "white",
           "landcolor": "#E5ECF6",
           "showlakes": true,
           "showland": true,
           "subunitcolor": "white"
          },
          "hoverlabel": {
           "align": "left"
          },
          "hovermode": "closest",
          "mapbox": {
           "style": "light"
          },
          "paper_bgcolor": "white",
          "plot_bgcolor": "#E5ECF6",
          "polar": {
           "angularaxis": {
            "gridcolor": "white",
            "linecolor": "white",
            "ticks": ""
           },
           "bgcolor": "#E5ECF6",
           "radialaxis": {
            "gridcolor": "white",
            "linecolor": "white",
            "ticks": ""
           }
          },
          "scene": {
           "xaxis": {
            "backgroundcolor": "#E5ECF6",
            "gridcolor": "white",
            "gridwidth": 2,
            "linecolor": "white",
            "showbackground": true,
            "ticks": "",
            "zerolinecolor": "white"
           },
           "yaxis": {
            "backgroundcolor": "#E5ECF6",
            "gridcolor": "white",
            "gridwidth": 2,
            "linecolor": "white",
            "showbackground": true,
            "ticks": "",
            "zerolinecolor": "white"
           },
           "zaxis": {
            "backgroundcolor": "#E5ECF6",
            "gridcolor": "white",
            "gridwidth": 2,
            "linecolor": "white",
            "showbackground": true,
            "ticks": "",
            "zerolinecolor": "white"
           }
          },
          "shapedefaults": {
           "line": {
            "color": "#2a3f5f"
           }
          },
          "ternary": {
           "aaxis": {
            "gridcolor": "white",
            "linecolor": "white",
            "ticks": ""
           },
           "baxis": {
            "gridcolor": "white",
            "linecolor": "white",
            "ticks": ""
           },
           "bgcolor": "#E5ECF6",
           "caxis": {
            "gridcolor": "white",
            "linecolor": "white",
            "ticks": ""
           }
          },
          "title": {
           "x": 0.05
          },
          "xaxis": {
           "automargin": true,
           "gridcolor": "white",
           "linecolor": "white",
           "ticks": "",
           "title": {
            "standoff": 15
           },
           "zerolinecolor": "white",
           "zerolinewidth": 2
          },
          "yaxis": {
           "automargin": true,
           "gridcolor": "white",
           "linecolor": "white",
           "ticks": "",
           "title": {
            "standoff": 15
           },
           "zerolinecolor": "white",
           "zerolinewidth": 2
          }
         }
        },
        "xaxis": {
         "anchor": "y",
         "domain": [
          0,
          0.49
         ],
         "title": {
          "text": "floorTempAdjustment"
         }
        },
        "xaxis2": {
         "anchor": "y2",
         "domain": [
          0.51,
          1
         ],
         "matches": "x",
         "title": {
          "text": "floorTempAdjustment"
         }
        },
        "yaxis": {
         "anchor": "x",
         "domain": [
          0,
          1
         ],
         "title": {
          "text": "value"
         }
        },
        "yaxis2": {
         "anchor": "x2",
         "domain": [
          0,
          1
         ],
         "matches": "y",
         "showticklabels": false
        }
       }
      }
     },
     "metadata": {},
     "output_type": "display_data"
    },
    {
     "data": {
      "application/vnd.plotly.v1+json": {
       "config": {
        "plotlyServerURL": "https://plot.ly"
       },
       "data": [
        {
         "hovertemplate": "variable=ceilingMinusFloor<br>material_type=Medium<br>hInterior=%{x}<br>value=%{y}<extra></extra>",
         "legendgroup": "ceilingMinusFloor",
         "marker": {
          "color": "#636efa",
          "symbol": "circle"
         },
         "mode": "markers",
         "name": "ceilingMinusFloor",
         "orientation": "v",
         "showlegend": true,
         "type": "scatter",
         "x": [
          2.001253381583438,
          1.3395417969118877,
          2.001253381583438,
          1.3395417969118877
         ],
         "xaxis": "x",
         "y": [
          null,
          1.2429767329758192,
          null,
          0.9929643398781992
         ],
         "yaxis": "y"
        },
        {
         "hovertemplate": "<b>OLS trendline</b><br>value = 0.535923 * hInterior + 0.400079<br>R<sup>2</sup>=0.000000<br><br>variable=ceilingMinusFloor<br>material_type=Medium<br>hInterior=%{x}<br>value=%{y} <b>(trend)</b><extra></extra>",
         "legendgroup": "ceilingMinusFloor",
         "marker": {
          "color": "#636efa",
          "symbol": "circle"
         },
         "mode": "lines",
         "name": "ceilingMinusFloor",
         "showlegend": false,
         "type": "scatter",
         "x": [
          1.3395417969118877,
          1.3395417969118877
         ],
         "xaxis": "x",
         "y": [
          1.1179705364270094,
          1.1179705364270094
         ],
         "yaxis": "y"
        },
        {
         "hovertemplate": "variable=ceilingMinusFloor<br>material_type=Light<br>hInterior=%{x}<br>value=%{y}<extra></extra>",
         "legendgroup": "ceilingMinusFloor",
         "marker": {
          "color": "#636efa",
          "symbol": "circle"
         },
         "mode": "markers",
         "name": "ceilingMinusFloor",
         "orientation": "v",
         "showlegend": false,
         "type": "scatter",
         "x": [
          2.258219919608913,
          2.9377506421678174,
          2.258219919608913,
          2.9377506421678174
         ],
         "xaxis": "x2",
         "y": [
          2.522704934998984,
          3.4223993116175677,
          2.033859557892754,
          2.9509869106404096
         ],
         "yaxis": "y2"
        },
        {
         "hovertemplate": "<b>OLS trendline</b><br>value = 1.33682 * hInterior + -0.740553<br>R<sup>2</sup>=0.781590<br><br>variable=ceilingMinusFloor<br>material_type=Light<br>hInterior=%{x}<br>value=%{y} <b>(trend)</b><extra></extra>",
         "legendgroup": "ceilingMinusFloor",
         "marker": {
          "color": "#636efa",
          "symbol": "circle"
         },
         "mode": "lines",
         "name": "ceilingMinusFloor",
         "showlegend": false,
         "type": "scatter",
         "x": [
          2.258219919608913,
          2.258219919608913,
          2.9377506421678174,
          2.9377506421678174
         ],
         "xaxis": "x2",
         "y": [
          2.278282246445869,
          2.278282246445869,
          3.186693111128988,
          3.186693111128988
         ],
         "yaxis": "y2"
        },
        {
         "hovertemplate": "variable=outMinusFloor<br>material_type=Medium<br>hInterior=%{x}<br>value=%{y}<extra></extra>",
         "legendgroup": "outMinusFloor",
         "marker": {
          "color": "#EF553B",
          "symbol": "circle"
         },
         "mode": "markers",
         "name": "outMinusFloor",
         "orientation": "v",
         "showlegend": true,
         "type": "scatter",
         "x": [
          2.001253381583438,
          1.3395417969118877,
          2.001253381583438,
          1.3395417969118877
         ],
         "xaxis": "x",
         "y": [
          null,
          0.7597884316160588,
          null,
          0.7426148203758061
         ],
         "yaxis": "y"
        },
        {
         "hovertemplate": "<b>OLS trendline</b><br>value = 0.360104 * hInterior + 0.268827<br>R<sup>2</sup>=0.000000<br><br>variable=outMinusFloor<br>material_type=Medium<br>hInterior=%{x}<br>value=%{y} <b>(trend)</b><extra></extra>",
         "legendgroup": "outMinusFloor",
         "marker": {
          "color": "#EF553B",
          "symbol": "circle"
         },
         "mode": "lines",
         "name": "outMinusFloor",
         "showlegend": false,
         "type": "scatter",
         "x": [
          1.3395417969118877,
          1.3395417969118877
         ],
         "xaxis": "x",
         "y": [
          0.7512016259959325,
          0.7512016259959325
         ],
         "yaxis": "y"
        },
        {
         "hovertemplate": "variable=outMinusFloor<br>material_type=Light<br>hInterior=%{x}<br>value=%{y}<extra></extra>",
         "legendgroup": "outMinusFloor",
         "marker": {
          "color": "#EF553B",
          "symbol": "circle"
         },
         "mode": "markers",
         "name": "outMinusFloor",
         "orientation": "v",
         "showlegend": false,
         "type": "scatter",
         "x": [
          2.258219919608913,
          2.9377506421678174,
          2.258219919608913,
          2.9377506421678174
         ],
         "xaxis": "x2",
         "y": [
          1.4712294497871738,
          1.5943571286132254,
          1.292871431410347,
          1.417696567841503
         ],
         "yaxis": "y2"
        },
        {
         "hovertemplate": "<b>OLS trendline</b><br>value = 0.182444 * hInterior + 0.970051<br>R<sup>2</sup>=0.327859<br><br>variable=outMinusFloor<br>material_type=Light<br>hInterior=%{x}<br>value=%{y} <b>(trend)</b><extra></extra>",
         "legendgroup": "outMinusFloor",
         "marker": {
          "color": "#EF553B",
          "symbol": "circle"
         },
         "mode": "lines",
         "name": "outMinusFloor",
         "showlegend": false,
         "type": "scatter",
         "x": [
          2.258219919608913,
          2.258219919608913,
          2.9377506421678174,
          2.9377506421678174
         ],
         "xaxis": "x2",
         "y": [
          1.3820504405987595,
          1.3820504405987595,
          1.5060268482273629,
          1.5060268482273629
         ],
         "yaxis": "y2"
        },
        {
         "hovertemplate": "variable=intWallMinusFloor<br>material_type=Medium<br>hInterior=%{x}<br>value=%{y}<extra></extra>",
         "legendgroup": "intWallMinusFloor",
         "marker": {
          "color": "#00cc96",
          "symbol": "circle"
         },
         "mode": "markers",
         "name": "intWallMinusFloor",
         "orientation": "v",
         "showlegend": true,
         "type": "scatter",
         "x": [
          2.001253381583438,
          1.3395417969118877,
          2.001253381583438,
          1.3395417969118877
         ],
         "xaxis": "x",
         "y": [
          null,
          0.6478700394876142,
          null,
          0.6339873782655966
         ],
         "yaxis": "y"
        },
        {
         "hovertemplate": "<b>OLS trendline</b><br>value = 0.307243 * hInterior + 0.229364<br>R<sup>2</sup>=0.000000<br><br>variable=intWallMinusFloor<br>material_type=Medium<br>hInterior=%{x}<br>value=%{y} <b>(trend)</b><extra></extra>",
         "legendgroup": "intWallMinusFloor",
         "marker": {
          "color": "#00cc96",
          "symbol": "circle"
         },
         "mode": "lines",
         "name": "intWallMinusFloor",
         "showlegend": false,
         "type": "scatter",
         "x": [
          1.3395417969118877,
          1.3395417969118877
         ],
         "xaxis": "x",
         "y": [
          0.6409287088766055,
          0.6409287088766055
         ],
         "yaxis": "y"
        },
        {
         "hovertemplate": "variable=intWallMinusFloor<br>material_type=Light<br>hInterior=%{x}<br>value=%{y}<extra></extra>",
         "legendgroup": "intWallMinusFloor",
         "marker": {
          "color": "#00cc96",
          "symbol": "circle"
         },
         "mode": "markers",
         "name": "intWallMinusFloor",
         "orientation": "v",
         "showlegend": false,
         "type": "scatter",
         "x": [
          2.258219919608913,
          2.9377506421678174,
          2.258219919608913,
          2.9377506421678174
         ],
         "xaxis": "x2",
         "y": [
          1.1315326609964036,
          1.168692287508885,
          1.0896361848386722,
          1.061369837339484
         ],
         "yaxis": "y2"
        },
        {
         "hovertemplate": "<b>OLS trendline</b><br>value = 0.00654369 * hInterior + 1.09581<br>R<sup>2</sup>=0.002970<br><br>variable=intWallMinusFloor<br>material_type=Light<br>hInterior=%{x}<br>value=%{y} <b>(trend)</b><extra></extra>",
         "legendgroup": "intWallMinusFloor",
         "marker": {
          "color": "#00cc96",
          "symbol": "circle"
         },
         "mode": "lines",
         "name": "intWallMinusFloor",
         "showlegend": false,
         "type": "scatter",
         "x": [
          2.258219919608913,
          2.258219919608913,
          2.9377506421678174,
          2.9377506421678174
         ],
         "xaxis": "x2",
         "y": [
          1.110584422917537,
          1.110584422917537,
          1.1150310624241835,
          1.1150310624241835
         ],
         "yaxis": "y2"
        },
        {
         "hovertemplate": "variable=extWallMinusFloor<br>material_type=Medium<br>hInterior=%{x}<br>value=%{y}<extra></extra>",
         "legendgroup": "extWallMinusFloor",
         "marker": {
          "color": "#ab63fa",
          "symbol": "circle"
         },
         "mode": "markers",
         "name": "extWallMinusFloor",
         "orientation": "v",
         "showlegend": true,
         "type": "scatter",
         "x": [
          2.001253381583438,
          1.3395417969118877,
          2.001253381583438,
          1.3395417969118877
         ],
         "xaxis": "x",
         "y": [
          null,
          1.1315124644235652,
          null,
          1.2796456901924813
         ],
         "yaxis": "y"
        },
        {
         "hovertemplate": "<b>OLS trendline</b><br>value = 0.57792 * hInterior + 0.431431<br>R<sup>2</sup>=0.000000<br><br>variable=extWallMinusFloor<br>material_type=Medium<br>hInterior=%{x}<br>value=%{y} <b>(trend)</b><extra></extra>",
         "legendgroup": "extWallMinusFloor",
         "marker": {
          "color": "#ab63fa",
          "symbol": "circle"
         },
         "mode": "lines",
         "name": "extWallMinusFloor",
         "showlegend": false,
         "type": "scatter",
         "x": [
          1.3395417969118877,
          1.3395417969118877
         ],
         "xaxis": "x",
         "y": [
          1.2055790773080233,
          1.2055790773080233
         ],
         "yaxis": "y"
        },
        {
         "hovertemplate": "variable=extWallMinusFloor<br>material_type=Light<br>hInterior=%{x}<br>value=%{y}<extra></extra>",
         "legendgroup": "extWallMinusFloor",
         "marker": {
          "color": "#ab63fa",
          "symbol": "circle"
         },
         "mode": "markers",
         "name": "extWallMinusFloor",
         "orientation": "v",
         "showlegend": false,
         "type": "scatter",
         "x": [
          2.258219919608913,
          2.9377506421678174,
          2.258219919608913,
          2.9377506421678174
         ],
         "xaxis": "x2",
         "y": [
          2.233521985399861,
          2.0120267512377836,
          1.9490017213397124,
          1.8184807936677176
         ],
         "yaxis": "y2"
        },
        {
         "hovertemplate": "<b>OLS trendline</b><br>value = -0.259014 * hInterior + 2.67617<br>R<sup>2</sup>=0.343504<br><br>variable=extWallMinusFloor<br>material_type=Light<br>hInterior=%{x}<br>value=%{y} <b>(trend)</b><extra></extra>",
         "legendgroup": "extWallMinusFloor",
         "marker": {
          "color": "#ab63fa",
          "symbol": "circle"
         },
         "mode": "lines",
         "name": "extWallMinusFloor",
         "showlegend": false,
         "type": "scatter",
         "x": [
          2.258219919608913,
          2.258219919608913,
          2.9377506421678174,
          2.9377506421678174
         ],
         "xaxis": "x2",
         "y": [
          2.0912618533697858,
          2.0912618533697858,
          1.9152537724527492,
          1.9152537724527492
         ],
         "yaxis": "y2"
        }
       ],
       "layout": {
        "annotations": [
         {
          "font": {},
          "showarrow": false,
          "text": "material_type=Medium",
          "x": 0.245,
          "xanchor": "center",
          "xref": "paper",
          "y": 1,
          "yanchor": "bottom",
          "yref": "paper"
         },
         {
          "font": {},
          "showarrow": false,
          "text": "material_type=Light",
          "x": 0.755,
          "xanchor": "center",
          "xref": "paper",
          "y": 1,
          "yanchor": "bottom",
          "yref": "paper"
         }
        ],
        "legend": {
         "title": {
          "text": "variable"
         },
         "tracegroupgap": 0
        },
        "margin": {
         "t": 60
        },
        "template": {
         "data": {
          "bar": [
           {
            "error_x": {
             "color": "#2a3f5f"
            },
            "error_y": {
             "color": "#2a3f5f"
            },
            "marker": {
             "line": {
              "color": "#E5ECF6",
              "width": 0.5
             },
             "pattern": {
              "fillmode": "overlay",
              "size": 10,
              "solidity": 0.2
             }
            },
            "type": "bar"
           }
          ],
          "barpolar": [
           {
            "marker": {
             "line": {
              "color": "#E5ECF6",
              "width": 0.5
             },
             "pattern": {
              "fillmode": "overlay",
              "size": 10,
              "solidity": 0.2
             }
            },
            "type": "barpolar"
           }
          ],
          "carpet": [
           {
            "aaxis": {
             "endlinecolor": "#2a3f5f",
             "gridcolor": "white",
             "linecolor": "white",
             "minorgridcolor": "white",
             "startlinecolor": "#2a3f5f"
            },
            "baxis": {
             "endlinecolor": "#2a3f5f",
             "gridcolor": "white",
             "linecolor": "white",
             "minorgridcolor": "white",
             "startlinecolor": "#2a3f5f"
            },
            "type": "carpet"
           }
          ],
          "choropleth": [
           {
            "colorbar": {
             "outlinewidth": 0,
             "ticks": ""
            },
            "type": "choropleth"
           }
          ],
          "contour": [
           {
            "colorbar": {
             "outlinewidth": 0,
             "ticks": ""
            },
            "colorscale": [
             [
              0,
              "#0d0887"
             ],
             [
              0.1111111111111111,
              "#46039f"
             ],
             [
              0.2222222222222222,
              "#7201a8"
             ],
             [
              0.3333333333333333,
              "#9c179e"
             ],
             [
              0.4444444444444444,
              "#bd3786"
             ],
             [
              0.5555555555555556,
              "#d8576b"
             ],
             [
              0.6666666666666666,
              "#ed7953"
             ],
             [
              0.7777777777777778,
              "#fb9f3a"
             ],
             [
              0.8888888888888888,
              "#fdca26"
             ],
             [
              1,
              "#f0f921"
             ]
            ],
            "type": "contour"
           }
          ],
          "contourcarpet": [
           {
            "colorbar": {
             "outlinewidth": 0,
             "ticks": ""
            },
            "type": "contourcarpet"
           }
          ],
          "heatmap": [
           {
            "colorbar": {
             "outlinewidth": 0,
             "ticks": ""
            },
            "colorscale": [
             [
              0,
              "#0d0887"
             ],
             [
              0.1111111111111111,
              "#46039f"
             ],
             [
              0.2222222222222222,
              "#7201a8"
             ],
             [
              0.3333333333333333,
              "#9c179e"
             ],
             [
              0.4444444444444444,
              "#bd3786"
             ],
             [
              0.5555555555555556,
              "#d8576b"
             ],
             [
              0.6666666666666666,
              "#ed7953"
             ],
             [
              0.7777777777777778,
              "#fb9f3a"
             ],
             [
              0.8888888888888888,
              "#fdca26"
             ],
             [
              1,
              "#f0f921"
             ]
            ],
            "type": "heatmap"
           }
          ],
          "heatmapgl": [
           {
            "colorbar": {
             "outlinewidth": 0,
             "ticks": ""
            },
            "colorscale": [
             [
              0,
              "#0d0887"
             ],
             [
              0.1111111111111111,
              "#46039f"
             ],
             [
              0.2222222222222222,
              "#7201a8"
             ],
             [
              0.3333333333333333,
              "#9c179e"
             ],
             [
              0.4444444444444444,
              "#bd3786"
             ],
             [
              0.5555555555555556,
              "#d8576b"
             ],
             [
              0.6666666666666666,
              "#ed7953"
             ],
             [
              0.7777777777777778,
              "#fb9f3a"
             ],
             [
              0.8888888888888888,
              "#fdca26"
             ],
             [
              1,
              "#f0f921"
             ]
            ],
            "type": "heatmapgl"
           }
          ],
          "histogram": [
           {
            "marker": {
             "pattern": {
              "fillmode": "overlay",
              "size": 10,
              "solidity": 0.2
             }
            },
            "type": "histogram"
           }
          ],
          "histogram2d": [
           {
            "colorbar": {
             "outlinewidth": 0,
             "ticks": ""
            },
            "colorscale": [
             [
              0,
              "#0d0887"
             ],
             [
              0.1111111111111111,
              "#46039f"
             ],
             [
              0.2222222222222222,
              "#7201a8"
             ],
             [
              0.3333333333333333,
              "#9c179e"
             ],
             [
              0.4444444444444444,
              "#bd3786"
             ],
             [
              0.5555555555555556,
              "#d8576b"
             ],
             [
              0.6666666666666666,
              "#ed7953"
             ],
             [
              0.7777777777777778,
              "#fb9f3a"
             ],
             [
              0.8888888888888888,
              "#fdca26"
             ],
             [
              1,
              "#f0f921"
             ]
            ],
            "type": "histogram2d"
           }
          ],
          "histogram2dcontour": [
           {
            "colorbar": {
             "outlinewidth": 0,
             "ticks": ""
            },
            "colorscale": [
             [
              0,
              "#0d0887"
             ],
             [
              0.1111111111111111,
              "#46039f"
             ],
             [
              0.2222222222222222,
              "#7201a8"
             ],
             [
              0.3333333333333333,
              "#9c179e"
             ],
             [
              0.4444444444444444,
              "#bd3786"
             ],
             [
              0.5555555555555556,
              "#d8576b"
             ],
             [
              0.6666666666666666,
              "#ed7953"
             ],
             [
              0.7777777777777778,
              "#fb9f3a"
             ],
             [
              0.8888888888888888,
              "#fdca26"
             ],
             [
              1,
              "#f0f921"
             ]
            ],
            "type": "histogram2dcontour"
           }
          ],
          "mesh3d": [
           {
            "colorbar": {
             "outlinewidth": 0,
             "ticks": ""
            },
            "type": "mesh3d"
           }
          ],
          "parcoords": [
           {
            "line": {
             "colorbar": {
              "outlinewidth": 0,
              "ticks": ""
             }
            },
            "type": "parcoords"
           }
          ],
          "pie": [
           {
            "automargin": true,
            "type": "pie"
           }
          ],
          "scatter": [
           {
            "fillpattern": {
             "fillmode": "overlay",
             "size": 10,
             "solidity": 0.2
            },
            "type": "scatter"
           }
          ],
          "scatter3d": [
           {
            "line": {
             "colorbar": {
              "outlinewidth": 0,
              "ticks": ""
             }
            },
            "marker": {
             "colorbar": {
              "outlinewidth": 0,
              "ticks": ""
             }
            },
            "type": "scatter3d"
           }
          ],
          "scattercarpet": [
           {
            "marker": {
             "colorbar": {
              "outlinewidth": 0,
              "ticks": ""
             }
            },
            "type": "scattercarpet"
           }
          ],
          "scattergeo": [
           {
            "marker": {
             "colorbar": {
              "outlinewidth": 0,
              "ticks": ""
             }
            },
            "type": "scattergeo"
           }
          ],
          "scattergl": [
           {
            "marker": {
             "colorbar": {
              "outlinewidth": 0,
              "ticks": ""
             }
            },
            "type": "scattergl"
           }
          ],
          "scattermapbox": [
           {
            "marker": {
             "colorbar": {
              "outlinewidth": 0,
              "ticks": ""
             }
            },
            "type": "scattermapbox"
           }
          ],
          "scatterpolar": [
           {
            "marker": {
             "colorbar": {
              "outlinewidth": 0,
              "ticks": ""
             }
            },
            "type": "scatterpolar"
           }
          ],
          "scatterpolargl": [
           {
            "marker": {
             "colorbar": {
              "outlinewidth": 0,
              "ticks": ""
             }
            },
            "type": "scatterpolargl"
           }
          ],
          "scatterternary": [
           {
            "marker": {
             "colorbar": {
              "outlinewidth": 0,
              "ticks": ""
             }
            },
            "type": "scatterternary"
           }
          ],
          "surface": [
           {
            "colorbar": {
             "outlinewidth": 0,
             "ticks": ""
            },
            "colorscale": [
             [
              0,
              "#0d0887"
             ],
             [
              0.1111111111111111,
              "#46039f"
             ],
             [
              0.2222222222222222,
              "#7201a8"
             ],
             [
              0.3333333333333333,
              "#9c179e"
             ],
             [
              0.4444444444444444,
              "#bd3786"
             ],
             [
              0.5555555555555556,
              "#d8576b"
             ],
             [
              0.6666666666666666,
              "#ed7953"
             ],
             [
              0.7777777777777778,
              "#fb9f3a"
             ],
             [
              0.8888888888888888,
              "#fdca26"
             ],
             [
              1,
              "#f0f921"
             ]
            ],
            "type": "surface"
           }
          ],
          "table": [
           {
            "cells": {
             "fill": {
              "color": "#EBF0F8"
             },
             "line": {
              "color": "white"
             }
            },
            "header": {
             "fill": {
              "color": "#C8D4E3"
             },
             "line": {
              "color": "white"
             }
            },
            "type": "table"
           }
          ]
         },
         "layout": {
          "annotationdefaults": {
           "arrowcolor": "#2a3f5f",
           "arrowhead": 0,
           "arrowwidth": 1
          },
          "autotypenumbers": "strict",
          "coloraxis": {
           "colorbar": {
            "outlinewidth": 0,
            "ticks": ""
           }
          },
          "colorscale": {
           "diverging": [
            [
             0,
             "#8e0152"
            ],
            [
             0.1,
             "#c51b7d"
            ],
            [
             0.2,
             "#de77ae"
            ],
            [
             0.3,
             "#f1b6da"
            ],
            [
             0.4,
             "#fde0ef"
            ],
            [
             0.5,
             "#f7f7f7"
            ],
            [
             0.6,
             "#e6f5d0"
            ],
            [
             0.7,
             "#b8e186"
            ],
            [
             0.8,
             "#7fbc41"
            ],
            [
             0.9,
             "#4d9221"
            ],
            [
             1,
             "#276419"
            ]
           ],
           "sequential": [
            [
             0,
             "#0d0887"
            ],
            [
             0.1111111111111111,
             "#46039f"
            ],
            [
             0.2222222222222222,
             "#7201a8"
            ],
            [
             0.3333333333333333,
             "#9c179e"
            ],
            [
             0.4444444444444444,
             "#bd3786"
            ],
            [
             0.5555555555555556,
             "#d8576b"
            ],
            [
             0.6666666666666666,
             "#ed7953"
            ],
            [
             0.7777777777777778,
             "#fb9f3a"
            ],
            [
             0.8888888888888888,
             "#fdca26"
            ],
            [
             1,
             "#f0f921"
            ]
           ],
           "sequentialminus": [
            [
             0,
             "#0d0887"
            ],
            [
             0.1111111111111111,
             "#46039f"
            ],
            [
             0.2222222222222222,
             "#7201a8"
            ],
            [
             0.3333333333333333,
             "#9c179e"
            ],
            [
             0.4444444444444444,
             "#bd3786"
            ],
            [
             0.5555555555555556,
             "#d8576b"
            ],
            [
             0.6666666666666666,
             "#ed7953"
            ],
            [
             0.7777777777777778,
             "#fb9f3a"
            ],
            [
             0.8888888888888888,
             "#fdca26"
            ],
            [
             1,
             "#f0f921"
            ]
           ]
          },
          "colorway": [
           "#636efa",
           "#EF553B",
           "#00cc96",
           "#ab63fa",
           "#FFA15A",
           "#19d3f3",
           "#FF6692",
           "#B6E880",
           "#FF97FF",
           "#FECB52"
          ],
          "font": {
           "color": "#2a3f5f"
          },
          "geo": {
           "bgcolor": "white",
           "lakecolor": "white",
           "landcolor": "#E5ECF6",
           "showlakes": true,
           "showland": true,
           "subunitcolor": "white"
          },
          "hoverlabel": {
           "align": "left"
          },
          "hovermode": "closest",
          "mapbox": {
           "style": "light"
          },
          "paper_bgcolor": "white",
          "plot_bgcolor": "#E5ECF6",
          "polar": {
           "angularaxis": {
            "gridcolor": "white",
            "linecolor": "white",
            "ticks": ""
           },
           "bgcolor": "#E5ECF6",
           "radialaxis": {
            "gridcolor": "white",
            "linecolor": "white",
            "ticks": ""
           }
          },
          "scene": {
           "xaxis": {
            "backgroundcolor": "#E5ECF6",
            "gridcolor": "white",
            "gridwidth": 2,
            "linecolor": "white",
            "showbackground": true,
            "ticks": "",
            "zerolinecolor": "white"
           },
           "yaxis": {
            "backgroundcolor": "#E5ECF6",
            "gridcolor": "white",
            "gridwidth": 2,
            "linecolor": "white",
            "showbackground": true,
            "ticks": "",
            "zerolinecolor": "white"
           },
           "zaxis": {
            "backgroundcolor": "#E5ECF6",
            "gridcolor": "white",
            "gridwidth": 2,
            "linecolor": "white",
            "showbackground": true,
            "ticks": "",
            "zerolinecolor": "white"
           }
          },
          "shapedefaults": {
           "line": {
            "color": "#2a3f5f"
           }
          },
          "ternary": {
           "aaxis": {
            "gridcolor": "white",
            "linecolor": "white",
            "ticks": ""
           },
           "baxis": {
            "gridcolor": "white",
            "linecolor": "white",
            "ticks": ""
           },
           "bgcolor": "#E5ECF6",
           "caxis": {
            "gridcolor": "white",
            "linecolor": "white",
            "ticks": ""
           }
          },
          "title": {
           "x": 0.05
          },
          "xaxis": {
           "automargin": true,
           "gridcolor": "white",
           "linecolor": "white",
           "ticks": "",
           "title": {
            "standoff": 15
           },
           "zerolinecolor": "white",
           "zerolinewidth": 2
          },
          "yaxis": {
           "automargin": true,
           "gridcolor": "white",
           "linecolor": "white",
           "ticks": "",
           "title": {
            "standoff": 15
           },
           "zerolinecolor": "white",
           "zerolinewidth": 2
          }
         }
        },
        "xaxis": {
         "anchor": "y",
         "domain": [
          0,
          0.49
         ],
         "title": {
          "text": "hInterior"
         }
        },
        "xaxis2": {
         "anchor": "y2",
         "domain": [
          0.51,
          1
         ],
         "matches": "x",
         "title": {
          "text": "hInterior"
         }
        },
        "yaxis": {
         "anchor": "x",
         "domain": [
          0,
          1
         ],
         "title": {
          "text": "value"
         }
        },
        "yaxis2": {
         "anchor": "x2",
         "domain": [
          0,
          1
         ],
         "matches": "y",
         "showticklabels": false
        }
       }
      }
     },
     "metadata": {},
     "output_type": "display_data"
    },
    {
     "data": {
      "application/vnd.plotly.v1+json": {
       "config": {
        "plotlyServerURL": "https://plot.ly"
       },
       "data": [
        {
         "hovertemplate": "variable=ceilingMinusFloor<br>material_type=Medium<br>alphaRoof=%{x}<br>value=%{y}<extra></extra>",
         "legendgroup": "ceilingMinusFloor",
         "marker": {
          "color": "#636efa",
          "symbol": "circle"
         },
         "mode": "markers",
         "name": "ceilingMinusFloor",
         "orientation": "v",
         "showlegend": true,
         "type": "scatter",
         "x": [
          0.843407845231292,
          0.8764976903120407,
          0.843407845231292,
          0.8764976903120407
         ],
         "xaxis": "x",
         "y": [
          null,
          1.2429767329758192,
          null,
          0.9929643398781992
         ],
         "yaxis": "y"
        },
        {
         "hovertemplate": "<b>OLS trendline</b><br>value = 0.554163 * alphaRoof + 0.632248<br>R<sup>2</sup>=0.000000<br><br>variable=ceilingMinusFloor<br>material_type=Medium<br>alphaRoof=%{x}<br>value=%{y} <b>(trend)</b><extra></extra>",
         "legendgroup": "ceilingMinusFloor",
         "marker": {
          "color": "#636efa",
          "symbol": "circle"
         },
         "mode": "lines",
         "name": "ceilingMinusFloor",
         "showlegend": false,
         "type": "scatter",
         "x": [
          0.8764976903120407,
          0.8764976903120407
         ],
         "xaxis": "x",
         "y": [
          1.1179705364270094,
          1.1179705364270094
         ],
         "yaxis": "y"
        },
        {
         "hovertemplate": "variable=ceilingMinusFloor<br>material_type=Light<br>alphaRoof=%{x}<br>value=%{y}<extra></extra>",
         "legendgroup": "ceilingMinusFloor",
         "marker": {
          "color": "#636efa",
          "symbol": "circle"
         },
         "mode": "markers",
         "name": "ceilingMinusFloor",
         "orientation": "v",
         "showlegend": false,
         "type": "scatter",
         "x": [
          0.8675477063182921,
          0.6640837683236005,
          0.8675477063182921,
          0.6640837683236005
         ],
         "xaxis": "x2",
         "y": [
          2.522704934998984,
          3.4223993116175677,
          2.033859557892754,
          2.9509869106404096
         ],
         "yaxis": "y2"
        },
        {
         "hovertemplate": "<b>OLS trendline</b><br>value = -4.46473 * alphaRoof + 6.15165<br>R<sup>2</sup>=0.781590<br><br>variable=ceilingMinusFloor<br>material_type=Light<br>alphaRoof=%{x}<br>value=%{y} <b>(trend)</b><extra></extra>",
         "legendgroup": "ceilingMinusFloor",
         "marker": {
          "color": "#636efa",
          "symbol": "circle"
         },
         "mode": "lines",
         "name": "ceilingMinusFloor",
         "showlegend": false,
         "type": "scatter",
         "x": [
          0.6640837683236005,
          0.6640837683236005,
          0.8675477063182921,
          0.8675477063182921
         ],
         "xaxis": "x2",
         "y": [
          3.1866931111289847,
          3.1866931111289847,
          2.278282246445866,
          2.278282246445866
         ],
         "yaxis": "y2"
        },
        {
         "hovertemplate": "variable=outMinusFloor<br>material_type=Medium<br>alphaRoof=%{x}<br>value=%{y}<extra></extra>",
         "legendgroup": "outMinusFloor",
         "marker": {
          "color": "#EF553B",
          "symbol": "circle"
         },
         "mode": "markers",
         "name": "outMinusFloor",
         "orientation": "v",
         "showlegend": true,
         "type": "scatter",
         "x": [
          0.843407845231292,
          0.8764976903120407,
          0.843407845231292,
          0.8764976903120407
         ],
         "xaxis": "x",
         "y": [
          null,
          0.7597884316160588,
          null,
          0.7426148203758061
         ],
         "yaxis": "y"
        },
        {
         "hovertemplate": "<b>OLS trendline</b><br>value = 0.372361 * alphaRoof + 0.424828<br>R<sup>2</sup>=0.000000<br><br>variable=outMinusFloor<br>material_type=Medium<br>alphaRoof=%{x}<br>value=%{y} <b>(trend)</b><extra></extra>",
         "legendgroup": "outMinusFloor",
         "marker": {
          "color": "#EF553B",
          "symbol": "circle"
         },
         "mode": "lines",
         "name": "outMinusFloor",
         "showlegend": false,
         "type": "scatter",
         "x": [
          0.8764976903120407,
          0.8764976903120407
         ],
         "xaxis": "x",
         "y": [
          0.7512016259959325,
          0.7512016259959325
         ],
         "yaxis": "y"
        },
        {
         "hovertemplate": "variable=outMinusFloor<br>material_type=Light<br>alphaRoof=%{x}<br>value=%{y}<extra></extra>",
         "legendgroup": "outMinusFloor",
         "marker": {
          "color": "#EF553B",
          "symbol": "circle"
         },
         "mode": "markers",
         "name": "outMinusFloor",
         "orientation": "v",
         "showlegend": false,
         "type": "scatter",
         "x": [
          0.8675477063182921,
          0.6640837683236005,
          0.8675477063182921,
          0.6640837683236005
         ],
         "xaxis": "x2",
         "y": [
          1.4712294497871738,
          1.5943571286132254,
          1.292871431410347,
          1.417696567841503
         ],
         "yaxis": "y2"
        },
        {
         "hovertemplate": "<b>OLS trendline</b><br>value = -0.609329 * alphaRoof + 1.91067<br>R<sup>2</sup>=0.327859<br><br>variable=outMinusFloor<br>material_type=Light<br>alphaRoof=%{x}<br>value=%{y} <b>(trend)</b><extra></extra>",
         "legendgroup": "outMinusFloor",
         "marker": {
          "color": "#EF553B",
          "symbol": "circle"
         },
         "mode": "lines",
         "name": "outMinusFloor",
         "showlegend": false,
         "type": "scatter",
         "x": [
          0.6640837683236005,
          0.6640837683236005,
          0.8675477063182921,
          0.8675477063182921
         ],
         "xaxis": "x2",
         "y": [
          1.5060268482273629,
          1.5060268482273629,
          1.3820504405987593,
          1.3820504405987593
         ],
         "yaxis": "y2"
        },
        {
         "hovertemplate": "variable=intWallMinusFloor<br>material_type=Medium<br>alphaRoof=%{x}<br>value=%{y}<extra></extra>",
         "legendgroup": "intWallMinusFloor",
         "marker": {
          "color": "#00cc96",
          "symbol": "circle"
         },
         "mode": "markers",
         "name": "intWallMinusFloor",
         "orientation": "v",
         "showlegend": true,
         "type": "scatter",
         "x": [
          0.843407845231292,
          0.8764976903120407,
          0.843407845231292,
          0.8764976903120407
         ],
         "xaxis": "x",
         "y": [
          null,
          0.6478700394876142,
          null,
          0.6339873782655966
         ],
         "yaxis": "y"
        },
        {
         "hovertemplate": "<b>OLS trendline</b><br>value = 0.3177 * alphaRoof + 0.362465<br>R<sup>2</sup>=0.000000<br><br>variable=intWallMinusFloor<br>material_type=Medium<br>alphaRoof=%{x}<br>value=%{y} <b>(trend)</b><extra></extra>",
         "legendgroup": "intWallMinusFloor",
         "marker": {
          "color": "#00cc96",
          "symbol": "circle"
         },
         "mode": "lines",
         "name": "intWallMinusFloor",
         "showlegend": false,
         "type": "scatter",
         "x": [
          0.8764976903120407,
          0.8764976903120407
         ],
         "xaxis": "x",
         "y": [
          0.6409287088766055,
          0.6409287088766055
         ],
         "yaxis": "y"
        },
        {
         "hovertemplate": "variable=intWallMinusFloor<br>material_type=Light<br>alphaRoof=%{x}<br>value=%{y}<extra></extra>",
         "legendgroup": "intWallMinusFloor",
         "marker": {
          "color": "#00cc96",
          "symbol": "circle"
         },
         "mode": "markers",
         "name": "intWallMinusFloor",
         "orientation": "v",
         "showlegend": false,
         "type": "scatter",
         "x": [
          0.8675477063182921,
          0.6640837683236005,
          0.8675477063182921,
          0.6640837683236005
         ],
         "xaxis": "x2",
         "y": [
          1.1315326609964036,
          1.168692287508885,
          1.0896361848386722,
          1.061369837339484
         ],
         "yaxis": "y2"
        },
        {
         "hovertemplate": "<b>OLS trendline</b><br>value = -0.0218547 * alphaRoof + 1.12954<br>R<sup>2</sup>=0.002970<br><br>variable=intWallMinusFloor<br>material_type=Light<br>alphaRoof=%{x}<br>value=%{y} <b>(trend)</b><extra></extra>",
         "legendgroup": "intWallMinusFloor",
         "marker": {
          "color": "#00cc96",
          "symbol": "circle"
         },
         "mode": "lines",
         "name": "intWallMinusFloor",
         "showlegend": false,
         "type": "scatter",
         "x": [
          0.6640837683236005,
          0.6640837683236005,
          0.8675477063182921,
          0.8675477063182921
         ],
         "xaxis": "x2",
         "y": [
          1.1150310624241835,
          1.1150310624241835,
          1.1105844229175368,
          1.1105844229175368
         ],
         "yaxis": "y2"
        },
        {
         "hovertemplate": "variable=extWallMinusFloor<br>material_type=Medium<br>alphaRoof=%{x}<br>value=%{y}<extra></extra>",
         "legendgroup": "extWallMinusFloor",
         "marker": {
          "color": "#ab63fa",
          "symbol": "circle"
         },
         "mode": "markers",
         "name": "extWallMinusFloor",
         "orientation": "v",
         "showlegend": true,
         "type": "scatter",
         "x": [
          0.843407845231292,
          0.8764976903120407,
          0.843407845231292,
          0.8764976903120407
         ],
         "xaxis": "x",
         "y": [
          null,
          1.1315124644235652,
          null,
          1.2796456901924813
         ],
         "yaxis": "y"
        },
        {
         "hovertemplate": "<b>OLS trendline</b><br>value = 0.59759 * alphaRoof + 0.681793<br>R<sup>2</sup>=0.000000<br><br>variable=extWallMinusFloor<br>material_type=Medium<br>alphaRoof=%{x}<br>value=%{y} <b>(trend)</b><extra></extra>",
         "legendgroup": "extWallMinusFloor",
         "marker": {
          "color": "#ab63fa",
          "symbol": "circle"
         },
         "mode": "lines",
         "name": "extWallMinusFloor",
         "showlegend": false,
         "type": "scatter",
         "x": [
          0.8764976903120407,
          0.8764976903120407
         ],
         "xaxis": "x",
         "y": [
          1.2055790773080235,
          1.2055790773080235
         ],
         "yaxis": "y"
        },
        {
         "hovertemplate": "variable=extWallMinusFloor<br>material_type=Light<br>alphaRoof=%{x}<br>value=%{y}<extra></extra>",
         "legendgroup": "extWallMinusFloor",
         "marker": {
          "color": "#ab63fa",
          "symbol": "circle"
         },
         "mode": "markers",
         "name": "extWallMinusFloor",
         "orientation": "v",
         "showlegend": false,
         "type": "scatter",
         "x": [
          0.8675477063182921,
          0.6640837683236005,
          0.8675477063182921,
          0.6640837683236005
         ],
         "xaxis": "x2",
         "y": [
          2.233521985399861,
          2.0120267512377836,
          1.9490017213397124,
          1.8184807936677176
         ],
         "yaxis": "y2"
        },
        {
         "hovertemplate": "<b>OLS trendline</b><br>value = 0.865058 * alphaRoof + 1.34078<br>R<sup>2</sup>=0.343504<br><br>variable=extWallMinusFloor<br>material_type=Light<br>alphaRoof=%{x}<br>value=%{y} <b>(trend)</b><extra></extra>",
         "legendgroup": "extWallMinusFloor",
         "marker": {
          "color": "#ab63fa",
          "symbol": "circle"
         },
         "mode": "lines",
         "name": "extWallMinusFloor",
         "showlegend": false,
         "type": "scatter",
         "x": [
          0.6640837683236005,
          0.6640837683236005,
          0.8675477063182921,
          0.8675477063182921
         ],
         "xaxis": "x2",
         "y": [
          1.91525377245275,
          1.91525377245275,
          2.0912618533697858,
          2.0912618533697858
         ],
         "yaxis": "y2"
        }
       ],
       "layout": {
        "annotations": [
         {
          "font": {},
          "showarrow": false,
          "text": "material_type=Medium",
          "x": 0.245,
          "xanchor": "center",
          "xref": "paper",
          "y": 1,
          "yanchor": "bottom",
          "yref": "paper"
         },
         {
          "font": {},
          "showarrow": false,
          "text": "material_type=Light",
          "x": 0.755,
          "xanchor": "center",
          "xref": "paper",
          "y": 1,
          "yanchor": "bottom",
          "yref": "paper"
         }
        ],
        "legend": {
         "title": {
          "text": "variable"
         },
         "tracegroupgap": 0
        },
        "margin": {
         "t": 60
        },
        "template": {
         "data": {
          "bar": [
           {
            "error_x": {
             "color": "#2a3f5f"
            },
            "error_y": {
             "color": "#2a3f5f"
            },
            "marker": {
             "line": {
              "color": "#E5ECF6",
              "width": 0.5
             },
             "pattern": {
              "fillmode": "overlay",
              "size": 10,
              "solidity": 0.2
             }
            },
            "type": "bar"
           }
          ],
          "barpolar": [
           {
            "marker": {
             "line": {
              "color": "#E5ECF6",
              "width": 0.5
             },
             "pattern": {
              "fillmode": "overlay",
              "size": 10,
              "solidity": 0.2
             }
            },
            "type": "barpolar"
           }
          ],
          "carpet": [
           {
            "aaxis": {
             "endlinecolor": "#2a3f5f",
             "gridcolor": "white",
             "linecolor": "white",
             "minorgridcolor": "white",
             "startlinecolor": "#2a3f5f"
            },
            "baxis": {
             "endlinecolor": "#2a3f5f",
             "gridcolor": "white",
             "linecolor": "white",
             "minorgridcolor": "white",
             "startlinecolor": "#2a3f5f"
            },
            "type": "carpet"
           }
          ],
          "choropleth": [
           {
            "colorbar": {
             "outlinewidth": 0,
             "ticks": ""
            },
            "type": "choropleth"
           }
          ],
          "contour": [
           {
            "colorbar": {
             "outlinewidth": 0,
             "ticks": ""
            },
            "colorscale": [
             [
              0,
              "#0d0887"
             ],
             [
              0.1111111111111111,
              "#46039f"
             ],
             [
              0.2222222222222222,
              "#7201a8"
             ],
             [
              0.3333333333333333,
              "#9c179e"
             ],
             [
              0.4444444444444444,
              "#bd3786"
             ],
             [
              0.5555555555555556,
              "#d8576b"
             ],
             [
              0.6666666666666666,
              "#ed7953"
             ],
             [
              0.7777777777777778,
              "#fb9f3a"
             ],
             [
              0.8888888888888888,
              "#fdca26"
             ],
             [
              1,
              "#f0f921"
             ]
            ],
            "type": "contour"
           }
          ],
          "contourcarpet": [
           {
            "colorbar": {
             "outlinewidth": 0,
             "ticks": ""
            },
            "type": "contourcarpet"
           }
          ],
          "heatmap": [
           {
            "colorbar": {
             "outlinewidth": 0,
             "ticks": ""
            },
            "colorscale": [
             [
              0,
              "#0d0887"
             ],
             [
              0.1111111111111111,
              "#46039f"
             ],
             [
              0.2222222222222222,
              "#7201a8"
             ],
             [
              0.3333333333333333,
              "#9c179e"
             ],
             [
              0.4444444444444444,
              "#bd3786"
             ],
             [
              0.5555555555555556,
              "#d8576b"
             ],
             [
              0.6666666666666666,
              "#ed7953"
             ],
             [
              0.7777777777777778,
              "#fb9f3a"
             ],
             [
              0.8888888888888888,
              "#fdca26"
             ],
             [
              1,
              "#f0f921"
             ]
            ],
            "type": "heatmap"
           }
          ],
          "heatmapgl": [
           {
            "colorbar": {
             "outlinewidth": 0,
             "ticks": ""
            },
            "colorscale": [
             [
              0,
              "#0d0887"
             ],
             [
              0.1111111111111111,
              "#46039f"
             ],
             [
              0.2222222222222222,
              "#7201a8"
             ],
             [
              0.3333333333333333,
              "#9c179e"
             ],
             [
              0.4444444444444444,
              "#bd3786"
             ],
             [
              0.5555555555555556,
              "#d8576b"
             ],
             [
              0.6666666666666666,
              "#ed7953"
             ],
             [
              0.7777777777777778,
              "#fb9f3a"
             ],
             [
              0.8888888888888888,
              "#fdca26"
             ],
             [
              1,
              "#f0f921"
             ]
            ],
            "type": "heatmapgl"
           }
          ],
          "histogram": [
           {
            "marker": {
             "pattern": {
              "fillmode": "overlay",
              "size": 10,
              "solidity": 0.2
             }
            },
            "type": "histogram"
           }
          ],
          "histogram2d": [
           {
            "colorbar": {
             "outlinewidth": 0,
             "ticks": ""
            },
            "colorscale": [
             [
              0,
              "#0d0887"
             ],
             [
              0.1111111111111111,
              "#46039f"
             ],
             [
              0.2222222222222222,
              "#7201a8"
             ],
             [
              0.3333333333333333,
              "#9c179e"
             ],
             [
              0.4444444444444444,
              "#bd3786"
             ],
             [
              0.5555555555555556,
              "#d8576b"
             ],
             [
              0.6666666666666666,
              "#ed7953"
             ],
             [
              0.7777777777777778,
              "#fb9f3a"
             ],
             [
              0.8888888888888888,
              "#fdca26"
             ],
             [
              1,
              "#f0f921"
             ]
            ],
            "type": "histogram2d"
           }
          ],
          "histogram2dcontour": [
           {
            "colorbar": {
             "outlinewidth": 0,
             "ticks": ""
            },
            "colorscale": [
             [
              0,
              "#0d0887"
             ],
             [
              0.1111111111111111,
              "#46039f"
             ],
             [
              0.2222222222222222,
              "#7201a8"
             ],
             [
              0.3333333333333333,
              "#9c179e"
             ],
             [
              0.4444444444444444,
              "#bd3786"
             ],
             [
              0.5555555555555556,
              "#d8576b"
             ],
             [
              0.6666666666666666,
              "#ed7953"
             ],
             [
              0.7777777777777778,
              "#fb9f3a"
             ],
             [
              0.8888888888888888,
              "#fdca26"
             ],
             [
              1,
              "#f0f921"
             ]
            ],
            "type": "histogram2dcontour"
           }
          ],
          "mesh3d": [
           {
            "colorbar": {
             "outlinewidth": 0,
             "ticks": ""
            },
            "type": "mesh3d"
           }
          ],
          "parcoords": [
           {
            "line": {
             "colorbar": {
              "outlinewidth": 0,
              "ticks": ""
             }
            },
            "type": "parcoords"
           }
          ],
          "pie": [
           {
            "automargin": true,
            "type": "pie"
           }
          ],
          "scatter": [
           {
            "fillpattern": {
             "fillmode": "overlay",
             "size": 10,
             "solidity": 0.2
            },
            "type": "scatter"
           }
          ],
          "scatter3d": [
           {
            "line": {
             "colorbar": {
              "outlinewidth": 0,
              "ticks": ""
             }
            },
            "marker": {
             "colorbar": {
              "outlinewidth": 0,
              "ticks": ""
             }
            },
            "type": "scatter3d"
           }
          ],
          "scattercarpet": [
           {
            "marker": {
             "colorbar": {
              "outlinewidth": 0,
              "ticks": ""
             }
            },
            "type": "scattercarpet"
           }
          ],
          "scattergeo": [
           {
            "marker": {
             "colorbar": {
              "outlinewidth": 0,
              "ticks": ""
             }
            },
            "type": "scattergeo"
           }
          ],
          "scattergl": [
           {
            "marker": {
             "colorbar": {
              "outlinewidth": 0,
              "ticks": ""
             }
            },
            "type": "scattergl"
           }
          ],
          "scattermapbox": [
           {
            "marker": {
             "colorbar": {
              "outlinewidth": 0,
              "ticks": ""
             }
            },
            "type": "scattermapbox"
           }
          ],
          "scatterpolar": [
           {
            "marker": {
             "colorbar": {
              "outlinewidth": 0,
              "ticks": ""
             }
            },
            "type": "scatterpolar"
           }
          ],
          "scatterpolargl": [
           {
            "marker": {
             "colorbar": {
              "outlinewidth": 0,
              "ticks": ""
             }
            },
            "type": "scatterpolargl"
           }
          ],
          "scatterternary": [
           {
            "marker": {
             "colorbar": {
              "outlinewidth": 0,
              "ticks": ""
             }
            },
            "type": "scatterternary"
           }
          ],
          "surface": [
           {
            "colorbar": {
             "outlinewidth": 0,
             "ticks": ""
            },
            "colorscale": [
             [
              0,
              "#0d0887"
             ],
             [
              0.1111111111111111,
              "#46039f"
             ],
             [
              0.2222222222222222,
              "#7201a8"
             ],
             [
              0.3333333333333333,
              "#9c179e"
             ],
             [
              0.4444444444444444,
              "#bd3786"
             ],
             [
              0.5555555555555556,
              "#d8576b"
             ],
             [
              0.6666666666666666,
              "#ed7953"
             ],
             [
              0.7777777777777778,
              "#fb9f3a"
             ],
             [
              0.8888888888888888,
              "#fdca26"
             ],
             [
              1,
              "#f0f921"
             ]
            ],
            "type": "surface"
           }
          ],
          "table": [
           {
            "cells": {
             "fill": {
              "color": "#EBF0F8"
             },
             "line": {
              "color": "white"
             }
            },
            "header": {
             "fill": {
              "color": "#C8D4E3"
             },
             "line": {
              "color": "white"
             }
            },
            "type": "table"
           }
          ]
         },
         "layout": {
          "annotationdefaults": {
           "arrowcolor": "#2a3f5f",
           "arrowhead": 0,
           "arrowwidth": 1
          },
          "autotypenumbers": "strict",
          "coloraxis": {
           "colorbar": {
            "outlinewidth": 0,
            "ticks": ""
           }
          },
          "colorscale": {
           "diverging": [
            [
             0,
             "#8e0152"
            ],
            [
             0.1,
             "#c51b7d"
            ],
            [
             0.2,
             "#de77ae"
            ],
            [
             0.3,
             "#f1b6da"
            ],
            [
             0.4,
             "#fde0ef"
            ],
            [
             0.5,
             "#f7f7f7"
            ],
            [
             0.6,
             "#e6f5d0"
            ],
            [
             0.7,
             "#b8e186"
            ],
            [
             0.8,
             "#7fbc41"
            ],
            [
             0.9,
             "#4d9221"
            ],
            [
             1,
             "#276419"
            ]
           ],
           "sequential": [
            [
             0,
             "#0d0887"
            ],
            [
             0.1111111111111111,
             "#46039f"
            ],
            [
             0.2222222222222222,
             "#7201a8"
            ],
            [
             0.3333333333333333,
             "#9c179e"
            ],
            [
             0.4444444444444444,
             "#bd3786"
            ],
            [
             0.5555555555555556,
             "#d8576b"
            ],
            [
             0.6666666666666666,
             "#ed7953"
            ],
            [
             0.7777777777777778,
             "#fb9f3a"
            ],
            [
             0.8888888888888888,
             "#fdca26"
            ],
            [
             1,
             "#f0f921"
            ]
           ],
           "sequentialminus": [
            [
             0,
             "#0d0887"
            ],
            [
             0.1111111111111111,
             "#46039f"
            ],
            [
             0.2222222222222222,
             "#7201a8"
            ],
            [
             0.3333333333333333,
             "#9c179e"
            ],
            [
             0.4444444444444444,
             "#bd3786"
            ],
            [
             0.5555555555555556,
             "#d8576b"
            ],
            [
             0.6666666666666666,
             "#ed7953"
            ],
            [
             0.7777777777777778,
             "#fb9f3a"
            ],
            [
             0.8888888888888888,
             "#fdca26"
            ],
            [
             1,
             "#f0f921"
            ]
           ]
          },
          "colorway": [
           "#636efa",
           "#EF553B",
           "#00cc96",
           "#ab63fa",
           "#FFA15A",
           "#19d3f3",
           "#FF6692",
           "#B6E880",
           "#FF97FF",
           "#FECB52"
          ],
          "font": {
           "color": "#2a3f5f"
          },
          "geo": {
           "bgcolor": "white",
           "lakecolor": "white",
           "landcolor": "#E5ECF6",
           "showlakes": true,
           "showland": true,
           "subunitcolor": "white"
          },
          "hoverlabel": {
           "align": "left"
          },
          "hovermode": "closest",
          "mapbox": {
           "style": "light"
          },
          "paper_bgcolor": "white",
          "plot_bgcolor": "#E5ECF6",
          "polar": {
           "angularaxis": {
            "gridcolor": "white",
            "linecolor": "white",
            "ticks": ""
           },
           "bgcolor": "#E5ECF6",
           "radialaxis": {
            "gridcolor": "white",
            "linecolor": "white",
            "ticks": ""
           }
          },
          "scene": {
           "xaxis": {
            "backgroundcolor": "#E5ECF6",
            "gridcolor": "white",
            "gridwidth": 2,
            "linecolor": "white",
            "showbackground": true,
            "ticks": "",
            "zerolinecolor": "white"
           },
           "yaxis": {
            "backgroundcolor": "#E5ECF6",
            "gridcolor": "white",
            "gridwidth": 2,
            "linecolor": "white",
            "showbackground": true,
            "ticks": "",
            "zerolinecolor": "white"
           },
           "zaxis": {
            "backgroundcolor": "#E5ECF6",
            "gridcolor": "white",
            "gridwidth": 2,
            "linecolor": "white",
            "showbackground": true,
            "ticks": "",
            "zerolinecolor": "white"
           }
          },
          "shapedefaults": {
           "line": {
            "color": "#2a3f5f"
           }
          },
          "ternary": {
           "aaxis": {
            "gridcolor": "white",
            "linecolor": "white",
            "ticks": ""
           },
           "baxis": {
            "gridcolor": "white",
            "linecolor": "white",
            "ticks": ""
           },
           "bgcolor": "#E5ECF6",
           "caxis": {
            "gridcolor": "white",
            "linecolor": "white",
            "ticks": ""
           }
          },
          "title": {
           "x": 0.05
          },
          "xaxis": {
           "automargin": true,
           "gridcolor": "white",
           "linecolor": "white",
           "ticks": "",
           "title": {
            "standoff": 15
           },
           "zerolinecolor": "white",
           "zerolinewidth": 2
          },
          "yaxis": {
           "automargin": true,
           "gridcolor": "white",
           "linecolor": "white",
           "ticks": "",
           "title": {
            "standoff": 15
           },
           "zerolinecolor": "white",
           "zerolinewidth": 2
          }
         }
        },
        "xaxis": {
         "anchor": "y",
         "domain": [
          0,
          0.49
         ],
         "title": {
          "text": "alphaRoof"
         }
        },
        "xaxis2": {
         "anchor": "y2",
         "domain": [
          0.51,
          1
         ],
         "matches": "x",
         "title": {
          "text": "alphaRoof"
         }
        },
        "yaxis": {
         "anchor": "x",
         "domain": [
          0,
          1
         ],
         "title": {
          "text": "value"
         }
        },
        "yaxis2": {
         "anchor": "x2",
         "domain": [
          0,
          1
         ],
         "matches": "y",
         "showticklabels": false
        }
       }
      }
     },
     "metadata": {},
     "output_type": "display_data"
    },
    {
     "data": {
      "application/vnd.plotly.v1+json": {
       "config": {
        "plotlyServerURL": "https://plot.ly"
       },
       "data": [
        {
         "hovertemplate": "variable=ceilingMinusFloor<br>material_type=Medium<br>day=%{x}<br>value=%{y}<extra></extra>",
         "legendgroup": "ceilingMinusFloor",
         "marker": {
          "color": "#636efa",
          "symbol": "circle"
         },
         "mode": "markers",
         "name": "ceilingMinusFloor",
         "orientation": "v",
         "showlegend": true,
         "type": "scatter",
         "x": [
          1,
          1,
          2,
          2
         ],
         "xaxis": "x",
         "y": [
          null,
          1.2429767329758192,
          null,
          0.9929643398781992
         ],
         "yaxis": "y"
        },
        {
         "hovertemplate": "<b>OLS trendline</b><br>value = -0.250012 * day + 1.49299<br>R<sup>2</sup>=1.000000<br><br>variable=ceilingMinusFloor<br>material_type=Medium<br>day=%{x}<br>value=%{y} <b>(trend)</b><extra></extra>",
         "legendgroup": "ceilingMinusFloor",
         "marker": {
          "color": "#636efa",
          "symbol": "circle"
         },
         "mode": "lines",
         "name": "ceilingMinusFloor",
         "showlegend": false,
         "type": "scatter",
         "x": [
          1,
          2
         ],
         "xaxis": "x",
         "y": [
          1.2429767329758188,
          0.9929643398781984
         ],
         "yaxis": "y"
        },
        {
         "hovertemplate": "variable=ceilingMinusFloor<br>material_type=Light<br>day=%{x}<br>value=%{y}<extra></extra>",
         "legendgroup": "ceilingMinusFloor",
         "marker": {
          "color": "#636efa",
          "symbol": "circle"
         },
         "mode": "markers",
         "name": "ceilingMinusFloor",
         "orientation": "v",
         "showlegend": false,
         "type": "scatter",
         "x": [
          1,
          1,
          2,
          2
         ],
         "xaxis": "x2",
         "y": [
          2.522704934998984,
          3.4223993116175677,
          2.033859557892754,
          2.9509869106404096
         ],
         "yaxis": "y2"
        },
        {
         "hovertemplate": "<b>OLS trendline</b><br>value = -0.480129 * day + 3.45268<br>R<sup>2</sup>=0.218338<br><br>variable=ceilingMinusFloor<br>material_type=Light<br>day=%{x}<br>value=%{y} <b>(trend)</b><extra></extra>",
         "legendgroup": "ceilingMinusFloor",
         "marker": {
          "color": "#636efa",
          "symbol": "circle"
         },
         "mode": "lines",
         "name": "ceilingMinusFloor",
         "showlegend": false,
         "type": "scatter",
         "x": [
          1,
          1,
          2,
          2
         ],
         "xaxis": "x2",
         "y": [
          2.972552123308275,
          2.972552123308275,
          2.492423234266582,
          2.492423234266582
         ],
         "yaxis": "y2"
        },
        {
         "hovertemplate": "variable=outMinusFloor<br>material_type=Medium<br>day=%{x}<br>value=%{y}<extra></extra>",
         "legendgroup": "outMinusFloor",
         "marker": {
          "color": "#EF553B",
          "symbol": "circle"
         },
         "mode": "markers",
         "name": "outMinusFloor",
         "orientation": "v",
         "showlegend": true,
         "type": "scatter",
         "x": [
          1,
          1,
          2,
          2
         ],
         "xaxis": "x",
         "y": [
          null,
          0.7597884316160588,
          null,
          0.7426148203758061
         ],
         "yaxis": "y"
        },
        {
         "hovertemplate": "<b>OLS trendline</b><br>value = -0.0171736 * day + 0.776962<br>R<sup>2</sup>=1.000000<br><br>variable=outMinusFloor<br>material_type=Medium<br>day=%{x}<br>value=%{y} <b>(trend)</b><extra></extra>",
         "legendgroup": "outMinusFloor",
         "marker": {
          "color": "#EF553B",
          "symbol": "circle"
         },
         "mode": "lines",
         "name": "outMinusFloor",
         "showlegend": false,
         "type": "scatter",
         "x": [
          1,
          2
         ],
         "xaxis": "x",
         "y": [
          0.7597884316160586,
          0.7426148203758056
         ],
         "yaxis": "y"
        },
        {
         "hovertemplate": "variable=outMinusFloor<br>material_type=Light<br>day=%{x}<br>value=%{y}<extra></extra>",
         "legendgroup": "outMinusFloor",
         "marker": {
          "color": "#EF553B",
          "symbol": "circle"
         },
         "mode": "markers",
         "name": "outMinusFloor",
         "orientation": "v",
         "showlegend": false,
         "type": "scatter",
         "x": [
          1,
          1,
          2,
          2
         ],
         "xaxis": "x2",
         "y": [
          1.4712294497871738,
          1.5943571286132254,
          1.292871431410347,
          1.417696567841503
         ],
         "yaxis": "y2"
        },
        {
         "hovertemplate": "<b>OLS trendline</b><br>value = -0.177509 * day + 1.7103<br>R<sup>2</sup>=0.672126<br><br>variable=outMinusFloor<br>material_type=Light<br>day=%{x}<br>value=%{y} <b>(trend)</b><extra></extra>",
         "legendgroup": "outMinusFloor",
         "marker": {
          "color": "#EF553B",
          "symbol": "circle"
         },
         "mode": "lines",
         "name": "outMinusFloor",
         "showlegend": false,
         "type": "scatter",
         "x": [
          1,
          1,
          2,
          2
         ],
         "xaxis": "x2",
         "y": [
          1.5327932892001996,
          1.5327932892001996,
          1.3552839996259256,
          1.3552839996259256
         ],
         "yaxis": "y2"
        },
        {
         "hovertemplate": "variable=intWallMinusFloor<br>material_type=Medium<br>day=%{x}<br>value=%{y}<extra></extra>",
         "legendgroup": "intWallMinusFloor",
         "marker": {
          "color": "#00cc96",
          "symbol": "circle"
         },
         "mode": "markers",
         "name": "intWallMinusFloor",
         "orientation": "v",
         "showlegend": true,
         "type": "scatter",
         "x": [
          1,
          1,
          2,
          2
         ],
         "xaxis": "x",
         "y": [
          null,
          0.6478700394876142,
          null,
          0.6339873782655966
         ],
         "yaxis": "y"
        },
        {
         "hovertemplate": "<b>OLS trendline</b><br>value = -0.0138827 * day + 0.661753<br>R<sup>2</sup>=1.000000<br><br>variable=intWallMinusFloor<br>material_type=Medium<br>day=%{x}<br>value=%{y} <b>(trend)</b><extra></extra>",
         "legendgroup": "intWallMinusFloor",
         "marker": {
          "color": "#00cc96",
          "symbol": "circle"
         },
         "mode": "lines",
         "name": "intWallMinusFloor",
         "showlegend": false,
         "type": "scatter",
         "x": [
          1,
          2
         ],
         "xaxis": "x",
         "y": [
          0.6478700394876141,
          0.6339873782655964
         ],
         "yaxis": "y"
        },
        {
         "hovertemplate": "variable=intWallMinusFloor<br>material_type=Light<br>day=%{x}<br>value=%{y}<extra></extra>",
         "legendgroup": "intWallMinusFloor",
         "marker": {
          "color": "#00cc96",
          "symbol": "circle"
         },
         "mode": "markers",
         "name": "intWallMinusFloor",
         "orientation": "v",
         "showlegend": false,
         "type": "scatter",
         "x": [
          1,
          1,
          2,
          2
         ],
         "xaxis": "x2",
         "y": [
          1.1315326609964036,
          1.168692287508885,
          1.0896361848386722,
          1.061369837339484
         ],
         "yaxis": "y2"
        },
        {
         "hovertemplate": "<b>OLS trendline</b><br>value = -0.0746095 * day + 1.22472<br>R<sup>2</sup>=0.836263<br><br>variable=intWallMinusFloor<br>material_type=Light<br>day=%{x}<br>value=%{y} <b>(trend)</b><extra></extra>",
         "legendgroup": "intWallMinusFloor",
         "marker": {
          "color": "#00cc96",
          "symbol": "circle"
         },
         "mode": "lines",
         "name": "intWallMinusFloor",
         "showlegend": false,
         "type": "scatter",
         "x": [
          1,
          1,
          2,
          2
         ],
         "xaxis": "x2",
         "y": [
          1.1501124742526438,
          1.1501124742526438,
          1.075503011089078,
          1.075503011089078
         ],
         "yaxis": "y2"
        },
        {
         "hovertemplate": "variable=extWallMinusFloor<br>material_type=Medium<br>day=%{x}<br>value=%{y}<extra></extra>",
         "legendgroup": "extWallMinusFloor",
         "marker": {
          "color": "#ab63fa",
          "symbol": "circle"
         },
         "mode": "markers",
         "name": "extWallMinusFloor",
         "orientation": "v",
         "showlegend": true,
         "type": "scatter",
         "x": [
          1,
          1,
          2,
          2
         ],
         "xaxis": "x",
         "y": [
          null,
          1.1315124644235652,
          null,
          1.2796456901924813
         ],
         "yaxis": "y"
        },
        {
         "hovertemplate": "<b>OLS trendline</b><br>value = 0.148133 * day + 0.983379<br>R<sup>2</sup>=1.000000<br><br>variable=extWallMinusFloor<br>material_type=Medium<br>day=%{x}<br>value=%{y} <b>(trend)</b><extra></extra>",
         "legendgroup": "extWallMinusFloor",
         "marker": {
          "color": "#ab63fa",
          "symbol": "circle"
         },
         "mode": "lines",
         "name": "extWallMinusFloor",
         "showlegend": false,
         "type": "scatter",
         "x": [
          1,
          2
         ],
         "xaxis": "x",
         "y": [
          1.131512464423565,
          1.2796456901924806
         ],
         "yaxis": "y"
        },
        {
         "hovertemplate": "variable=extWallMinusFloor<br>material_type=Light<br>day=%{x}<br>value=%{y}<extra></extra>",
         "legendgroup": "extWallMinusFloor",
         "marker": {
          "color": "#ab63fa",
          "symbol": "circle"
         },
         "mode": "markers",
         "name": "extWallMinusFloor",
         "orientation": "v",
         "showlegend": false,
         "type": "scatter",
         "x": [
          1,
          1,
          2,
          2
         ],
         "xaxis": "x2",
         "y": [
          2.233521985399861,
          2.0120267512377836,
          1.9490017213397124,
          1.8184807936677176
         ],
         "yaxis": "y2"
        },
        {
         "hovertemplate": "<b>OLS trendline</b><br>value = -0.239033 * day + 2.36181<br>R<sup>2</sup>=0.633553<br><br>variable=extWallMinusFloor<br>material_type=Light<br>day=%{x}<br>value=%{y} <b>(trend)</b><extra></extra>",
         "legendgroup": "extWallMinusFloor",
         "marker": {
          "color": "#ab63fa",
          "symbol": "circle"
         },
         "mode": "lines",
         "name": "extWallMinusFloor",
         "showlegend": false,
         "type": "scatter",
         "x": [
          1,
          1,
          2,
          2
         ],
         "xaxis": "x2",
         "y": [
          2.1227743683188214,
          2.1227743683188214,
          1.8837412575037147,
          1.8837412575037147
         ],
         "yaxis": "y2"
        }
       ],
       "layout": {
        "annotations": [
         {
          "font": {},
          "showarrow": false,
          "text": "material_type=Medium",
          "x": 0.245,
          "xanchor": "center",
          "xref": "paper",
          "y": 1,
          "yanchor": "bottom",
          "yref": "paper"
         },
         {
          "font": {},
          "showarrow": false,
          "text": "material_type=Light",
          "x": 0.755,
          "xanchor": "center",
          "xref": "paper",
          "y": 1,
          "yanchor": "bottom",
          "yref": "paper"
         }
        ],
        "legend": {
         "title": {
          "text": "variable"
         },
         "tracegroupgap": 0
        },
        "margin": {
         "t": 60
        },
        "template": {
         "data": {
          "bar": [
           {
            "error_x": {
             "color": "#2a3f5f"
            },
            "error_y": {
             "color": "#2a3f5f"
            },
            "marker": {
             "line": {
              "color": "#E5ECF6",
              "width": 0.5
             },
             "pattern": {
              "fillmode": "overlay",
              "size": 10,
              "solidity": 0.2
             }
            },
            "type": "bar"
           }
          ],
          "barpolar": [
           {
            "marker": {
             "line": {
              "color": "#E5ECF6",
              "width": 0.5
             },
             "pattern": {
              "fillmode": "overlay",
              "size": 10,
              "solidity": 0.2
             }
            },
            "type": "barpolar"
           }
          ],
          "carpet": [
           {
            "aaxis": {
             "endlinecolor": "#2a3f5f",
             "gridcolor": "white",
             "linecolor": "white",
             "minorgridcolor": "white",
             "startlinecolor": "#2a3f5f"
            },
            "baxis": {
             "endlinecolor": "#2a3f5f",
             "gridcolor": "white",
             "linecolor": "white",
             "minorgridcolor": "white",
             "startlinecolor": "#2a3f5f"
            },
            "type": "carpet"
           }
          ],
          "choropleth": [
           {
            "colorbar": {
             "outlinewidth": 0,
             "ticks": ""
            },
            "type": "choropleth"
           }
          ],
          "contour": [
           {
            "colorbar": {
             "outlinewidth": 0,
             "ticks": ""
            },
            "colorscale": [
             [
              0,
              "#0d0887"
             ],
             [
              0.1111111111111111,
              "#46039f"
             ],
             [
              0.2222222222222222,
              "#7201a8"
             ],
             [
              0.3333333333333333,
              "#9c179e"
             ],
             [
              0.4444444444444444,
              "#bd3786"
             ],
             [
              0.5555555555555556,
              "#d8576b"
             ],
             [
              0.6666666666666666,
              "#ed7953"
             ],
             [
              0.7777777777777778,
              "#fb9f3a"
             ],
             [
              0.8888888888888888,
              "#fdca26"
             ],
             [
              1,
              "#f0f921"
             ]
            ],
            "type": "contour"
           }
          ],
          "contourcarpet": [
           {
            "colorbar": {
             "outlinewidth": 0,
             "ticks": ""
            },
            "type": "contourcarpet"
           }
          ],
          "heatmap": [
           {
            "colorbar": {
             "outlinewidth": 0,
             "ticks": ""
            },
            "colorscale": [
             [
              0,
              "#0d0887"
             ],
             [
              0.1111111111111111,
              "#46039f"
             ],
             [
              0.2222222222222222,
              "#7201a8"
             ],
             [
              0.3333333333333333,
              "#9c179e"
             ],
             [
              0.4444444444444444,
              "#bd3786"
             ],
             [
              0.5555555555555556,
              "#d8576b"
             ],
             [
              0.6666666666666666,
              "#ed7953"
             ],
             [
              0.7777777777777778,
              "#fb9f3a"
             ],
             [
              0.8888888888888888,
              "#fdca26"
             ],
             [
              1,
              "#f0f921"
             ]
            ],
            "type": "heatmap"
           }
          ],
          "heatmapgl": [
           {
            "colorbar": {
             "outlinewidth": 0,
             "ticks": ""
            },
            "colorscale": [
             [
              0,
              "#0d0887"
             ],
             [
              0.1111111111111111,
              "#46039f"
             ],
             [
              0.2222222222222222,
              "#7201a8"
             ],
             [
              0.3333333333333333,
              "#9c179e"
             ],
             [
              0.4444444444444444,
              "#bd3786"
             ],
             [
              0.5555555555555556,
              "#d8576b"
             ],
             [
              0.6666666666666666,
              "#ed7953"
             ],
             [
              0.7777777777777778,
              "#fb9f3a"
             ],
             [
              0.8888888888888888,
              "#fdca26"
             ],
             [
              1,
              "#f0f921"
             ]
            ],
            "type": "heatmapgl"
           }
          ],
          "histogram": [
           {
            "marker": {
             "pattern": {
              "fillmode": "overlay",
              "size": 10,
              "solidity": 0.2
             }
            },
            "type": "histogram"
           }
          ],
          "histogram2d": [
           {
            "colorbar": {
             "outlinewidth": 0,
             "ticks": ""
            },
            "colorscale": [
             [
              0,
              "#0d0887"
             ],
             [
              0.1111111111111111,
              "#46039f"
             ],
             [
              0.2222222222222222,
              "#7201a8"
             ],
             [
              0.3333333333333333,
              "#9c179e"
             ],
             [
              0.4444444444444444,
              "#bd3786"
             ],
             [
              0.5555555555555556,
              "#d8576b"
             ],
             [
              0.6666666666666666,
              "#ed7953"
             ],
             [
              0.7777777777777778,
              "#fb9f3a"
             ],
             [
              0.8888888888888888,
              "#fdca26"
             ],
             [
              1,
              "#f0f921"
             ]
            ],
            "type": "histogram2d"
           }
          ],
          "histogram2dcontour": [
           {
            "colorbar": {
             "outlinewidth": 0,
             "ticks": ""
            },
            "colorscale": [
             [
              0,
              "#0d0887"
             ],
             [
              0.1111111111111111,
              "#46039f"
             ],
             [
              0.2222222222222222,
              "#7201a8"
             ],
             [
              0.3333333333333333,
              "#9c179e"
             ],
             [
              0.4444444444444444,
              "#bd3786"
             ],
             [
              0.5555555555555556,
              "#d8576b"
             ],
             [
              0.6666666666666666,
              "#ed7953"
             ],
             [
              0.7777777777777778,
              "#fb9f3a"
             ],
             [
              0.8888888888888888,
              "#fdca26"
             ],
             [
              1,
              "#f0f921"
             ]
            ],
            "type": "histogram2dcontour"
           }
          ],
          "mesh3d": [
           {
            "colorbar": {
             "outlinewidth": 0,
             "ticks": ""
            },
            "type": "mesh3d"
           }
          ],
          "parcoords": [
           {
            "line": {
             "colorbar": {
              "outlinewidth": 0,
              "ticks": ""
             }
            },
            "type": "parcoords"
           }
          ],
          "pie": [
           {
            "automargin": true,
            "type": "pie"
           }
          ],
          "scatter": [
           {
            "fillpattern": {
             "fillmode": "overlay",
             "size": 10,
             "solidity": 0.2
            },
            "type": "scatter"
           }
          ],
          "scatter3d": [
           {
            "line": {
             "colorbar": {
              "outlinewidth": 0,
              "ticks": ""
             }
            },
            "marker": {
             "colorbar": {
              "outlinewidth": 0,
              "ticks": ""
             }
            },
            "type": "scatter3d"
           }
          ],
          "scattercarpet": [
           {
            "marker": {
             "colorbar": {
              "outlinewidth": 0,
              "ticks": ""
             }
            },
            "type": "scattercarpet"
           }
          ],
          "scattergeo": [
           {
            "marker": {
             "colorbar": {
              "outlinewidth": 0,
              "ticks": ""
             }
            },
            "type": "scattergeo"
           }
          ],
          "scattergl": [
           {
            "marker": {
             "colorbar": {
              "outlinewidth": 0,
              "ticks": ""
             }
            },
            "type": "scattergl"
           }
          ],
          "scattermapbox": [
           {
            "marker": {
             "colorbar": {
              "outlinewidth": 0,
              "ticks": ""
             }
            },
            "type": "scattermapbox"
           }
          ],
          "scatterpolar": [
           {
            "marker": {
             "colorbar": {
              "outlinewidth": 0,
              "ticks": ""
             }
            },
            "type": "scatterpolar"
           }
          ],
          "scatterpolargl": [
           {
            "marker": {
             "colorbar": {
              "outlinewidth": 0,
              "ticks": ""
             }
            },
            "type": "scatterpolargl"
           }
          ],
          "scatterternary": [
           {
            "marker": {
             "colorbar": {
              "outlinewidth": 0,
              "ticks": ""
             }
            },
            "type": "scatterternary"
           }
          ],
          "surface": [
           {
            "colorbar": {
             "outlinewidth": 0,
             "ticks": ""
            },
            "colorscale": [
             [
              0,
              "#0d0887"
             ],
             [
              0.1111111111111111,
              "#46039f"
             ],
             [
              0.2222222222222222,
              "#7201a8"
             ],
             [
              0.3333333333333333,
              "#9c179e"
             ],
             [
              0.4444444444444444,
              "#bd3786"
             ],
             [
              0.5555555555555556,
              "#d8576b"
             ],
             [
              0.6666666666666666,
              "#ed7953"
             ],
             [
              0.7777777777777778,
              "#fb9f3a"
             ],
             [
              0.8888888888888888,
              "#fdca26"
             ],
             [
              1,
              "#f0f921"
             ]
            ],
            "type": "surface"
           }
          ],
          "table": [
           {
            "cells": {
             "fill": {
              "color": "#EBF0F8"
             },
             "line": {
              "color": "white"
             }
            },
            "header": {
             "fill": {
              "color": "#C8D4E3"
             },
             "line": {
              "color": "white"
             }
            },
            "type": "table"
           }
          ]
         },
         "layout": {
          "annotationdefaults": {
           "arrowcolor": "#2a3f5f",
           "arrowhead": 0,
           "arrowwidth": 1
          },
          "autotypenumbers": "strict",
          "coloraxis": {
           "colorbar": {
            "outlinewidth": 0,
            "ticks": ""
           }
          },
          "colorscale": {
           "diverging": [
            [
             0,
             "#8e0152"
            ],
            [
             0.1,
             "#c51b7d"
            ],
            [
             0.2,
             "#de77ae"
            ],
            [
             0.3,
             "#f1b6da"
            ],
            [
             0.4,
             "#fde0ef"
            ],
            [
             0.5,
             "#f7f7f7"
            ],
            [
             0.6,
             "#e6f5d0"
            ],
            [
             0.7,
             "#b8e186"
            ],
            [
             0.8,
             "#7fbc41"
            ],
            [
             0.9,
             "#4d9221"
            ],
            [
             1,
             "#276419"
            ]
           ],
           "sequential": [
            [
             0,
             "#0d0887"
            ],
            [
             0.1111111111111111,
             "#46039f"
            ],
            [
             0.2222222222222222,
             "#7201a8"
            ],
            [
             0.3333333333333333,
             "#9c179e"
            ],
            [
             0.4444444444444444,
             "#bd3786"
            ],
            [
             0.5555555555555556,
             "#d8576b"
            ],
            [
             0.6666666666666666,
             "#ed7953"
            ],
            [
             0.7777777777777778,
             "#fb9f3a"
            ],
            [
             0.8888888888888888,
             "#fdca26"
            ],
            [
             1,
             "#f0f921"
            ]
           ],
           "sequentialminus": [
            [
             0,
             "#0d0887"
            ],
            [
             0.1111111111111111,
             "#46039f"
            ],
            [
             0.2222222222222222,
             "#7201a8"
            ],
            [
             0.3333333333333333,
             "#9c179e"
            ],
            [
             0.4444444444444444,
             "#bd3786"
            ],
            [
             0.5555555555555556,
             "#d8576b"
            ],
            [
             0.6666666666666666,
             "#ed7953"
            ],
            [
             0.7777777777777778,
             "#fb9f3a"
            ],
            [
             0.8888888888888888,
             "#fdca26"
            ],
            [
             1,
             "#f0f921"
            ]
           ]
          },
          "colorway": [
           "#636efa",
           "#EF553B",
           "#00cc96",
           "#ab63fa",
           "#FFA15A",
           "#19d3f3",
           "#FF6692",
           "#B6E880",
           "#FF97FF",
           "#FECB52"
          ],
          "font": {
           "color": "#2a3f5f"
          },
          "geo": {
           "bgcolor": "white",
           "lakecolor": "white",
           "landcolor": "#E5ECF6",
           "showlakes": true,
           "showland": true,
           "subunitcolor": "white"
          },
          "hoverlabel": {
           "align": "left"
          },
          "hovermode": "closest",
          "mapbox": {
           "style": "light"
          },
          "paper_bgcolor": "white",
          "plot_bgcolor": "#E5ECF6",
          "polar": {
           "angularaxis": {
            "gridcolor": "white",
            "linecolor": "white",
            "ticks": ""
           },
           "bgcolor": "#E5ECF6",
           "radialaxis": {
            "gridcolor": "white",
            "linecolor": "white",
            "ticks": ""
           }
          },
          "scene": {
           "xaxis": {
            "backgroundcolor": "#E5ECF6",
            "gridcolor": "white",
            "gridwidth": 2,
            "linecolor": "white",
            "showbackground": true,
            "ticks": "",
            "zerolinecolor": "white"
           },
           "yaxis": {
            "backgroundcolor": "#E5ECF6",
            "gridcolor": "white",
            "gridwidth": 2,
            "linecolor": "white",
            "showbackground": true,
            "ticks": "",
            "zerolinecolor": "white"
           },
           "zaxis": {
            "backgroundcolor": "#E5ECF6",
            "gridcolor": "white",
            "gridwidth": 2,
            "linecolor": "white",
            "showbackground": true,
            "ticks": "",
            "zerolinecolor": "white"
           }
          },
          "shapedefaults": {
           "line": {
            "color": "#2a3f5f"
           }
          },
          "ternary": {
           "aaxis": {
            "gridcolor": "white",
            "linecolor": "white",
            "ticks": ""
           },
           "baxis": {
            "gridcolor": "white",
            "linecolor": "white",
            "ticks": ""
           },
           "bgcolor": "#E5ECF6",
           "caxis": {
            "gridcolor": "white",
            "linecolor": "white",
            "ticks": ""
           }
          },
          "title": {
           "x": 0.05
          },
          "xaxis": {
           "automargin": true,
           "gridcolor": "white",
           "linecolor": "white",
           "ticks": "",
           "title": {
            "standoff": 15
           },
           "zerolinecolor": "white",
           "zerolinewidth": 2
          },
          "yaxis": {
           "automargin": true,
           "gridcolor": "white",
           "linecolor": "white",
           "ticks": "",
           "title": {
            "standoff": 15
           },
           "zerolinecolor": "white",
           "zerolinewidth": 2
          }
         }
        },
        "xaxis": {
         "anchor": "y",
         "domain": [
          0,
          0.49
         ],
         "title": {
          "text": "day"
         }
        },
        "xaxis2": {
         "anchor": "y2",
         "domain": [
          0.51,
          1
         ],
         "matches": "x",
         "title": {
          "text": "day"
         }
        },
        "yaxis": {
         "anchor": "x",
         "domain": [
          0,
          1
         ],
         "title": {
          "text": "value"
         }
        },
        "yaxis2": {
         "anchor": "x2",
         "domain": [
          0,
          1
         ],
         "matches": "y",
         "showticklabels": false
        }
       }
      }
     },
     "metadata": {},
     "output_type": "display_data"
    },
    {
     "data": {
      "application/vnd.plotly.v1+json": {
       "config": {
        "plotlyServerURL": "https://plot.ly"
       },
       "data": [
        {
         "hovertemplate": "variable=ceilingMinusFloor<br>material_type=Medium<br>windSpeed=%{x}<br>value=%{y}<extra></extra>",
         "legendgroup": "ceilingMinusFloor",
         "marker": {
          "color": "#636efa",
          "symbol": "circle"
         },
         "mode": "markers",
         "name": "ceilingMinusFloor",
         "orientation": "v",
         "showlegend": true,
         "type": "scatter",
         "x": [
          3.322042455323831,
          3.6630758439315336,
          3.322042455323831,
          3.6630758439315336
         ],
         "xaxis": "x",
         "y": [
          null,
          1.2429767329758192,
          null,
          0.9929643398781992
         ],
         "yaxis": "y"
        },
        {
         "hovertemplate": "<b>OLS trendline</b><br>value = 0.284032 * windSpeed + 0.0775392<br>R<sup>2</sup>=0.000000<br><br>variable=ceilingMinusFloor<br>material_type=Medium<br>windSpeed=%{x}<br>value=%{y} <b>(trend)</b><extra></extra>",
         "legendgroup": "ceilingMinusFloor",
         "marker": {
          "color": "#636efa",
          "symbol": "circle"
         },
         "mode": "lines",
         "name": "ceilingMinusFloor",
         "showlegend": false,
         "type": "scatter",
         "x": [
          3.6630758439315336,
          3.6630758439315336
         ],
         "xaxis": "x",
         "y": [
          1.117970536427009,
          1.117970536427009
         ],
         "yaxis": "y"
        },
        {
         "hovertemplate": "variable=ceilingMinusFloor<br>material_type=Light<br>windSpeed=%{x}<br>value=%{y}<extra></extra>",
         "legendgroup": "ceilingMinusFloor",
         "marker": {
          "color": "#636efa",
          "symbol": "circle"
         },
         "mode": "markers",
         "name": "ceilingMinusFloor",
         "orientation": "v",
         "showlegend": false,
         "type": "scatter",
         "x": [
          5.932906966633126,
          0.2655599324509314,
          5.932906966633126,
          0.2655599324509314
         ],
         "xaxis": "x2",
         "y": [
          2.522704934998984,
          3.4223993116175677,
          2.033859557892754,
          2.9509869106404096
         ],
         "yaxis": "y2"
        },
        {
         "hovertemplate": "<b>OLS trendline</b><br>value = -0.160289 * windSpeed + 3.22926<br>R<sup>2</sup>=0.781590<br><br>variable=ceilingMinusFloor<br>material_type=Light<br>windSpeed=%{x}<br>value=%{y} <b>(trend)</b><extra></extra>",
         "legendgroup": "ceilingMinusFloor",
         "marker": {
          "color": "#636efa",
          "symbol": "circle"
         },
         "mode": "lines",
         "name": "ceilingMinusFloor",
         "showlegend": false,
         "type": "scatter",
         "x": [
          0.2655599324509314,
          0.2655599324509314,
          5.932906966633126,
          5.932906966633126
         ],
         "xaxis": "x2",
         "y": [
          3.1866931111289882,
          3.1866931111289882,
          2.2782822464458685,
          2.2782822464458685
         ],
         "yaxis": "y2"
        },
        {
         "hovertemplate": "variable=outMinusFloor<br>material_type=Medium<br>windSpeed=%{x}<br>value=%{y}<extra></extra>",
         "legendgroup": "outMinusFloor",
         "marker": {
          "color": "#EF553B",
          "symbol": "circle"
         },
         "mode": "markers",
         "name": "outMinusFloor",
         "orientation": "v",
         "showlegend": true,
         "type": "scatter",
         "x": [
          3.322042455323831,
          3.6630758439315336,
          3.322042455323831,
          3.6630758439315336
         ],
         "xaxis": "x",
         "y": [
          null,
          0.7597884316160588,
          null,
          0.7426148203758061
         ],
         "yaxis": "y"
        },
        {
         "hovertemplate": "<b>OLS trendline</b><br>value = 0.190851 * windSpeed + 0.0521012<br>R<sup>2</sup>=0.000000<br><br>variable=outMinusFloor<br>material_type=Medium<br>windSpeed=%{x}<br>value=%{y} <b>(trend)</b><extra></extra>",
         "legendgroup": "outMinusFloor",
         "marker": {
          "color": "#EF553B",
          "symbol": "circle"
         },
         "mode": "lines",
         "name": "outMinusFloor",
         "showlegend": false,
         "type": "scatter",
         "x": [
          3.6630758439315336,
          3.6630758439315336
         ],
         "xaxis": "x",
         "y": [
          0.7512016259959321,
          0.7512016259959321
         ],
         "yaxis": "y"
        },
        {
         "hovertemplate": "variable=outMinusFloor<br>material_type=Light<br>windSpeed=%{x}<br>value=%{y}<extra></extra>",
         "legendgroup": "outMinusFloor",
         "marker": {
          "color": "#EF553B",
          "symbol": "circle"
         },
         "mode": "markers",
         "name": "outMinusFloor",
         "orientation": "v",
         "showlegend": false,
         "type": "scatter",
         "x": [
          5.932906966633126,
          0.2655599324509314,
          5.932906966633126,
          0.2655599324509314
         ],
         "xaxis": "x2",
         "y": [
          1.4712294497871738,
          1.5943571286132254,
          1.292871431410347,
          1.417696567841503
         ],
         "yaxis": "y2"
        },
        {
         "hovertemplate": "<b>OLS trendline</b><br>value = -0.0218756 * windSpeed + 1.51184<br>R<sup>2</sup>=0.327859<br><br>variable=outMinusFloor<br>material_type=Light<br>windSpeed=%{x}<br>value=%{y} <b>(trend)</b><extra></extra>",
         "legendgroup": "outMinusFloor",
         "marker": {
          "color": "#EF553B",
          "symbol": "circle"
         },
         "mode": "lines",
         "name": "outMinusFloor",
         "showlegend": false,
         "type": "scatter",
         "x": [
          0.2655599324509314,
          0.2655599324509314,
          5.932906966633126,
          5.932906966633126
         ],
         "xaxis": "x2",
         "y": [
          1.5060268482273642,
          1.5060268482273642,
          1.3820504405987604,
          1.3820504405987604
         ],
         "yaxis": "y2"
        },
        {
         "hovertemplate": "variable=intWallMinusFloor<br>material_type=Medium<br>windSpeed=%{x}<br>value=%{y}<extra></extra>",
         "legendgroup": "intWallMinusFloor",
         "marker": {
          "color": "#00cc96",
          "symbol": "circle"
         },
         "mode": "markers",
         "name": "intWallMinusFloor",
         "orientation": "v",
         "showlegend": true,
         "type": "scatter",
         "x": [
          3.322042455323831,
          3.6630758439315336,
          3.322042455323831,
          3.6630758439315336
         ],
         "xaxis": "x",
         "y": [
          null,
          0.6478700394876142,
          null,
          0.6339873782655966
         ],
         "yaxis": "y"
        },
        {
         "hovertemplate": "<b>OLS trendline</b><br>value = 0.162835 * windSpeed + 0.044453<br>R<sup>2</sup>=0.000000<br><br>variable=intWallMinusFloor<br>material_type=Medium<br>windSpeed=%{x}<br>value=%{y} <b>(trend)</b><extra></extra>",
         "legendgroup": "intWallMinusFloor",
         "marker": {
          "color": "#00cc96",
          "symbol": "circle"
         },
         "mode": "lines",
         "name": "intWallMinusFloor",
         "showlegend": false,
         "type": "scatter",
         "x": [
          3.6630758439315336,
          3.6630758439315336
         ],
         "xaxis": "x",
         "y": [
          0.6409287088766051,
          0.6409287088766051
         ],
         "yaxis": "y"
        },
        {
         "hovertemplate": "variable=intWallMinusFloor<br>material_type=Light<br>windSpeed=%{x}<br>value=%{y}<extra></extra>",
         "legendgroup": "intWallMinusFloor",
         "marker": {
          "color": "#00cc96",
          "symbol": "circle"
         },
         "mode": "markers",
         "name": "intWallMinusFloor",
         "orientation": "v",
         "showlegend": false,
         "type": "scatter",
         "x": [
          5.932906966633126,
          0.2655599324509314,
          5.932906966633126,
          0.2655599324509314
         ],
         "xaxis": "x2",
         "y": [
          1.1315326609964036,
          1.168692287508885,
          1.0896361848386722,
          1.061369837339484
         ],
         "yaxis": "y2"
        },
        {
         "hovertemplate": "<b>OLS trendline</b><br>value = -0.000784607 * windSpeed + 1.11524<br>R<sup>2</sup>=0.002970<br><br>variable=intWallMinusFloor<br>material_type=Light<br>windSpeed=%{x}<br>value=%{y} <b>(trend)</b><extra></extra>",
         "legendgroup": "intWallMinusFloor",
         "marker": {
          "color": "#00cc96",
          "symbol": "circle"
         },
         "mode": "lines",
         "name": "intWallMinusFloor",
         "showlegend": false,
         "type": "scatter",
         "x": [
          0.2655599324509314,
          0.2655599324509314,
          5.932906966633126,
          5.932906966633126
         ],
         "xaxis": "x2",
         "y": [
          1.1150310624241844,
          1.1150310624241844,
          1.1105844229175377,
          1.1105844229175377
         ],
         "yaxis": "y2"
        },
        {
         "hovertemplate": "variable=extWallMinusFloor<br>material_type=Medium<br>windSpeed=%{x}<br>value=%{y}<extra></extra>",
         "legendgroup": "extWallMinusFloor",
         "marker": {
          "color": "#ab63fa",
          "symbol": "circle"
         },
         "mode": "markers",
         "name": "extWallMinusFloor",
         "orientation": "v",
         "showlegend": true,
         "type": "scatter",
         "x": [
          3.322042455323831,
          3.6630758439315336,
          3.322042455323831,
          3.6630758439315336
         ],
         "xaxis": "x",
         "y": [
          null,
          1.1315124644235652,
          null,
          1.2796456901924813
         ],
         "yaxis": "y"
        },
        {
         "hovertemplate": "<b>OLS trendline</b><br>value = 0.30629 * windSpeed + 0.0836155<br>R<sup>2</sup>=0.000000<br><br>variable=extWallMinusFloor<br>material_type=Medium<br>windSpeed=%{x}<br>value=%{y} <b>(trend)</b><extra></extra>",
         "legendgroup": "extWallMinusFloor",
         "marker": {
          "color": "#ab63fa",
          "symbol": "circle"
         },
         "mode": "lines",
         "name": "extWallMinusFloor",
         "showlegend": false,
         "type": "scatter",
         "x": [
          3.6630758439315336,
          3.6630758439315336
         ],
         "xaxis": "x",
         "y": [
          1.2055790773080228,
          1.2055790773080228
         ],
         "yaxis": "y"
        },
        {
         "hovertemplate": "variable=extWallMinusFloor<br>material_type=Light<br>windSpeed=%{x}<br>value=%{y}<extra></extra>",
         "legendgroup": "extWallMinusFloor",
         "marker": {
          "color": "#ab63fa",
          "symbol": "circle"
         },
         "mode": "markers",
         "name": "extWallMinusFloor",
         "orientation": "v",
         "showlegend": false,
         "type": "scatter",
         "x": [
          5.932906966633126,
          0.2655599324509314,
          5.932906966633126,
          0.2655599324509314
         ],
         "xaxis": "x2",
         "y": [
          2.233521985399861,
          2.0120267512377836,
          1.9490017213397124,
          1.8184807936677176
         ],
         "yaxis": "y2"
        },
        {
         "hovertemplate": "<b>OLS trendline</b><br>value = 0.0310565 * windSpeed + 1.90701<br>R<sup>2</sup>=0.343504<br><br>variable=extWallMinusFloor<br>material_type=Light<br>windSpeed=%{x}<br>value=%{y} <b>(trend)</b><extra></extra>",
         "legendgroup": "extWallMinusFloor",
         "marker": {
          "color": "#ab63fa",
          "symbol": "circle"
         },
         "mode": "lines",
         "name": "extWallMinusFloor",
         "showlegend": false,
         "type": "scatter",
         "x": [
          0.2655599324509314,
          0.2655599324509314,
          5.932906966633126,
          5.932906966633126
         ],
         "xaxis": "x2",
         "y": [
          1.9152537724527505,
          1.9152537724527505,
          2.0912618533697866,
          2.0912618533697866
         ],
         "yaxis": "y2"
        }
       ],
       "layout": {
        "annotations": [
         {
          "font": {},
          "showarrow": false,
          "text": "material_type=Medium",
          "x": 0.245,
          "xanchor": "center",
          "xref": "paper",
          "y": 1,
          "yanchor": "bottom",
          "yref": "paper"
         },
         {
          "font": {},
          "showarrow": false,
          "text": "material_type=Light",
          "x": 0.755,
          "xanchor": "center",
          "xref": "paper",
          "y": 1,
          "yanchor": "bottom",
          "yref": "paper"
         }
        ],
        "legend": {
         "title": {
          "text": "variable"
         },
         "tracegroupgap": 0
        },
        "margin": {
         "t": 60
        },
        "template": {
         "data": {
          "bar": [
           {
            "error_x": {
             "color": "#2a3f5f"
            },
            "error_y": {
             "color": "#2a3f5f"
            },
            "marker": {
             "line": {
              "color": "#E5ECF6",
              "width": 0.5
             },
             "pattern": {
              "fillmode": "overlay",
              "size": 10,
              "solidity": 0.2
             }
            },
            "type": "bar"
           }
          ],
          "barpolar": [
           {
            "marker": {
             "line": {
              "color": "#E5ECF6",
              "width": 0.5
             },
             "pattern": {
              "fillmode": "overlay",
              "size": 10,
              "solidity": 0.2
             }
            },
            "type": "barpolar"
           }
          ],
          "carpet": [
           {
            "aaxis": {
             "endlinecolor": "#2a3f5f",
             "gridcolor": "white",
             "linecolor": "white",
             "minorgridcolor": "white",
             "startlinecolor": "#2a3f5f"
            },
            "baxis": {
             "endlinecolor": "#2a3f5f",
             "gridcolor": "white",
             "linecolor": "white",
             "minorgridcolor": "white",
             "startlinecolor": "#2a3f5f"
            },
            "type": "carpet"
           }
          ],
          "choropleth": [
           {
            "colorbar": {
             "outlinewidth": 0,
             "ticks": ""
            },
            "type": "choropleth"
           }
          ],
          "contour": [
           {
            "colorbar": {
             "outlinewidth": 0,
             "ticks": ""
            },
            "colorscale": [
             [
              0,
              "#0d0887"
             ],
             [
              0.1111111111111111,
              "#46039f"
             ],
             [
              0.2222222222222222,
              "#7201a8"
             ],
             [
              0.3333333333333333,
              "#9c179e"
             ],
             [
              0.4444444444444444,
              "#bd3786"
             ],
             [
              0.5555555555555556,
              "#d8576b"
             ],
             [
              0.6666666666666666,
              "#ed7953"
             ],
             [
              0.7777777777777778,
              "#fb9f3a"
             ],
             [
              0.8888888888888888,
              "#fdca26"
             ],
             [
              1,
              "#f0f921"
             ]
            ],
            "type": "contour"
           }
          ],
          "contourcarpet": [
           {
            "colorbar": {
             "outlinewidth": 0,
             "ticks": ""
            },
            "type": "contourcarpet"
           }
          ],
          "heatmap": [
           {
            "colorbar": {
             "outlinewidth": 0,
             "ticks": ""
            },
            "colorscale": [
             [
              0,
              "#0d0887"
             ],
             [
              0.1111111111111111,
              "#46039f"
             ],
             [
              0.2222222222222222,
              "#7201a8"
             ],
             [
              0.3333333333333333,
              "#9c179e"
             ],
             [
              0.4444444444444444,
              "#bd3786"
             ],
             [
              0.5555555555555556,
              "#d8576b"
             ],
             [
              0.6666666666666666,
              "#ed7953"
             ],
             [
              0.7777777777777778,
              "#fb9f3a"
             ],
             [
              0.8888888888888888,
              "#fdca26"
             ],
             [
              1,
              "#f0f921"
             ]
            ],
            "type": "heatmap"
           }
          ],
          "heatmapgl": [
           {
            "colorbar": {
             "outlinewidth": 0,
             "ticks": ""
            },
            "colorscale": [
             [
              0,
              "#0d0887"
             ],
             [
              0.1111111111111111,
              "#46039f"
             ],
             [
              0.2222222222222222,
              "#7201a8"
             ],
             [
              0.3333333333333333,
              "#9c179e"
             ],
             [
              0.4444444444444444,
              "#bd3786"
             ],
             [
              0.5555555555555556,
              "#d8576b"
             ],
             [
              0.6666666666666666,
              "#ed7953"
             ],
             [
              0.7777777777777778,
              "#fb9f3a"
             ],
             [
              0.8888888888888888,
              "#fdca26"
             ],
             [
              1,
              "#f0f921"
             ]
            ],
            "type": "heatmapgl"
           }
          ],
          "histogram": [
           {
            "marker": {
             "pattern": {
              "fillmode": "overlay",
              "size": 10,
              "solidity": 0.2
             }
            },
            "type": "histogram"
           }
          ],
          "histogram2d": [
           {
            "colorbar": {
             "outlinewidth": 0,
             "ticks": ""
            },
            "colorscale": [
             [
              0,
              "#0d0887"
             ],
             [
              0.1111111111111111,
              "#46039f"
             ],
             [
              0.2222222222222222,
              "#7201a8"
             ],
             [
              0.3333333333333333,
              "#9c179e"
             ],
             [
              0.4444444444444444,
              "#bd3786"
             ],
             [
              0.5555555555555556,
              "#d8576b"
             ],
             [
              0.6666666666666666,
              "#ed7953"
             ],
             [
              0.7777777777777778,
              "#fb9f3a"
             ],
             [
              0.8888888888888888,
              "#fdca26"
             ],
             [
              1,
              "#f0f921"
             ]
            ],
            "type": "histogram2d"
           }
          ],
          "histogram2dcontour": [
           {
            "colorbar": {
             "outlinewidth": 0,
             "ticks": ""
            },
            "colorscale": [
             [
              0,
              "#0d0887"
             ],
             [
              0.1111111111111111,
              "#46039f"
             ],
             [
              0.2222222222222222,
              "#7201a8"
             ],
             [
              0.3333333333333333,
              "#9c179e"
             ],
             [
              0.4444444444444444,
              "#bd3786"
             ],
             [
              0.5555555555555556,
              "#d8576b"
             ],
             [
              0.6666666666666666,
              "#ed7953"
             ],
             [
              0.7777777777777778,
              "#fb9f3a"
             ],
             [
              0.8888888888888888,
              "#fdca26"
             ],
             [
              1,
              "#f0f921"
             ]
            ],
            "type": "histogram2dcontour"
           }
          ],
          "mesh3d": [
           {
            "colorbar": {
             "outlinewidth": 0,
             "ticks": ""
            },
            "type": "mesh3d"
           }
          ],
          "parcoords": [
           {
            "line": {
             "colorbar": {
              "outlinewidth": 0,
              "ticks": ""
             }
            },
            "type": "parcoords"
           }
          ],
          "pie": [
           {
            "automargin": true,
            "type": "pie"
           }
          ],
          "scatter": [
           {
            "fillpattern": {
             "fillmode": "overlay",
             "size": 10,
             "solidity": 0.2
            },
            "type": "scatter"
           }
          ],
          "scatter3d": [
           {
            "line": {
             "colorbar": {
              "outlinewidth": 0,
              "ticks": ""
             }
            },
            "marker": {
             "colorbar": {
              "outlinewidth": 0,
              "ticks": ""
             }
            },
            "type": "scatter3d"
           }
          ],
          "scattercarpet": [
           {
            "marker": {
             "colorbar": {
              "outlinewidth": 0,
              "ticks": ""
             }
            },
            "type": "scattercarpet"
           }
          ],
          "scattergeo": [
           {
            "marker": {
             "colorbar": {
              "outlinewidth": 0,
              "ticks": ""
             }
            },
            "type": "scattergeo"
           }
          ],
          "scattergl": [
           {
            "marker": {
             "colorbar": {
              "outlinewidth": 0,
              "ticks": ""
             }
            },
            "type": "scattergl"
           }
          ],
          "scattermapbox": [
           {
            "marker": {
             "colorbar": {
              "outlinewidth": 0,
              "ticks": ""
             }
            },
            "type": "scattermapbox"
           }
          ],
          "scatterpolar": [
           {
            "marker": {
             "colorbar": {
              "outlinewidth": 0,
              "ticks": ""
             }
            },
            "type": "scatterpolar"
           }
          ],
          "scatterpolargl": [
           {
            "marker": {
             "colorbar": {
              "outlinewidth": 0,
              "ticks": ""
             }
            },
            "type": "scatterpolargl"
           }
          ],
          "scatterternary": [
           {
            "marker": {
             "colorbar": {
              "outlinewidth": 0,
              "ticks": ""
             }
            },
            "type": "scatterternary"
           }
          ],
          "surface": [
           {
            "colorbar": {
             "outlinewidth": 0,
             "ticks": ""
            },
            "colorscale": [
             [
              0,
              "#0d0887"
             ],
             [
              0.1111111111111111,
              "#46039f"
             ],
             [
              0.2222222222222222,
              "#7201a8"
             ],
             [
              0.3333333333333333,
              "#9c179e"
             ],
             [
              0.4444444444444444,
              "#bd3786"
             ],
             [
              0.5555555555555556,
              "#d8576b"
             ],
             [
              0.6666666666666666,
              "#ed7953"
             ],
             [
              0.7777777777777778,
              "#fb9f3a"
             ],
             [
              0.8888888888888888,
              "#fdca26"
             ],
             [
              1,
              "#f0f921"
             ]
            ],
            "type": "surface"
           }
          ],
          "table": [
           {
            "cells": {
             "fill": {
              "color": "#EBF0F8"
             },
             "line": {
              "color": "white"
             }
            },
            "header": {
             "fill": {
              "color": "#C8D4E3"
             },
             "line": {
              "color": "white"
             }
            },
            "type": "table"
           }
          ]
         },
         "layout": {
          "annotationdefaults": {
           "arrowcolor": "#2a3f5f",
           "arrowhead": 0,
           "arrowwidth": 1
          },
          "autotypenumbers": "strict",
          "coloraxis": {
           "colorbar": {
            "outlinewidth": 0,
            "ticks": ""
           }
          },
          "colorscale": {
           "diverging": [
            [
             0,
             "#8e0152"
            ],
            [
             0.1,
             "#c51b7d"
            ],
            [
             0.2,
             "#de77ae"
            ],
            [
             0.3,
             "#f1b6da"
            ],
            [
             0.4,
             "#fde0ef"
            ],
            [
             0.5,
             "#f7f7f7"
            ],
            [
             0.6,
             "#e6f5d0"
            ],
            [
             0.7,
             "#b8e186"
            ],
            [
             0.8,
             "#7fbc41"
            ],
            [
             0.9,
             "#4d9221"
            ],
            [
             1,
             "#276419"
            ]
           ],
           "sequential": [
            [
             0,
             "#0d0887"
            ],
            [
             0.1111111111111111,
             "#46039f"
            ],
            [
             0.2222222222222222,
             "#7201a8"
            ],
            [
             0.3333333333333333,
             "#9c179e"
            ],
            [
             0.4444444444444444,
             "#bd3786"
            ],
            [
             0.5555555555555556,
             "#d8576b"
            ],
            [
             0.6666666666666666,
             "#ed7953"
            ],
            [
             0.7777777777777778,
             "#fb9f3a"
            ],
            [
             0.8888888888888888,
             "#fdca26"
            ],
            [
             1,
             "#f0f921"
            ]
           ],
           "sequentialminus": [
            [
             0,
             "#0d0887"
            ],
            [
             0.1111111111111111,
             "#46039f"
            ],
            [
             0.2222222222222222,
             "#7201a8"
            ],
            [
             0.3333333333333333,
             "#9c179e"
            ],
            [
             0.4444444444444444,
             "#bd3786"
            ],
            [
             0.5555555555555556,
             "#d8576b"
            ],
            [
             0.6666666666666666,
             "#ed7953"
            ],
            [
             0.7777777777777778,
             "#fb9f3a"
            ],
            [
             0.8888888888888888,
             "#fdca26"
            ],
            [
             1,
             "#f0f921"
            ]
           ]
          },
          "colorway": [
           "#636efa",
           "#EF553B",
           "#00cc96",
           "#ab63fa",
           "#FFA15A",
           "#19d3f3",
           "#FF6692",
           "#B6E880",
           "#FF97FF",
           "#FECB52"
          ],
          "font": {
           "color": "#2a3f5f"
          },
          "geo": {
           "bgcolor": "white",
           "lakecolor": "white",
           "landcolor": "#E5ECF6",
           "showlakes": true,
           "showland": true,
           "subunitcolor": "white"
          },
          "hoverlabel": {
           "align": "left"
          },
          "hovermode": "closest",
          "mapbox": {
           "style": "light"
          },
          "paper_bgcolor": "white",
          "plot_bgcolor": "#E5ECF6",
          "polar": {
           "angularaxis": {
            "gridcolor": "white",
            "linecolor": "white",
            "ticks": ""
           },
           "bgcolor": "#E5ECF6",
           "radialaxis": {
            "gridcolor": "white",
            "linecolor": "white",
            "ticks": ""
           }
          },
          "scene": {
           "xaxis": {
            "backgroundcolor": "#E5ECF6",
            "gridcolor": "white",
            "gridwidth": 2,
            "linecolor": "white",
            "showbackground": true,
            "ticks": "",
            "zerolinecolor": "white"
           },
           "yaxis": {
            "backgroundcolor": "#E5ECF6",
            "gridcolor": "white",
            "gridwidth": 2,
            "linecolor": "white",
            "showbackground": true,
            "ticks": "",
            "zerolinecolor": "white"
           },
           "zaxis": {
            "backgroundcolor": "#E5ECF6",
            "gridcolor": "white",
            "gridwidth": 2,
            "linecolor": "white",
            "showbackground": true,
            "ticks": "",
            "zerolinecolor": "white"
           }
          },
          "shapedefaults": {
           "line": {
            "color": "#2a3f5f"
           }
          },
          "ternary": {
           "aaxis": {
            "gridcolor": "white",
            "linecolor": "white",
            "ticks": ""
           },
           "baxis": {
            "gridcolor": "white",
            "linecolor": "white",
            "ticks": ""
           },
           "bgcolor": "#E5ECF6",
           "caxis": {
            "gridcolor": "white",
            "linecolor": "white",
            "ticks": ""
           }
          },
          "title": {
           "x": 0.05
          },
          "xaxis": {
           "automargin": true,
           "gridcolor": "white",
           "linecolor": "white",
           "ticks": "",
           "title": {
            "standoff": 15
           },
           "zerolinecolor": "white",
           "zerolinewidth": 2
          },
          "yaxis": {
           "automargin": true,
           "gridcolor": "white",
           "linecolor": "white",
           "ticks": "",
           "title": {
            "standoff": 15
           },
           "zerolinecolor": "white",
           "zerolinewidth": 2
          }
         }
        },
        "xaxis": {
         "anchor": "y",
         "domain": [
          0,
          0.49
         ],
         "title": {
          "text": "windSpeed"
         }
        },
        "xaxis2": {
         "anchor": "y2",
         "domain": [
          0.51,
          1
         ],
         "matches": "x",
         "title": {
          "text": "windSpeed"
         }
        },
        "yaxis": {
         "anchor": "x",
         "domain": [
          0,
          1
         ],
         "title": {
          "text": "value"
         }
        },
        "yaxis2": {
         "anchor": "x2",
         "domain": [
          0,
          1
         ],
         "matches": "y",
         "showticklabels": false
        }
       }
      }
     },
     "metadata": {},
     "output_type": "display_data"
    },
    {
     "data": {
      "application/vnd.plotly.v1+json": {
       "config": {
        "plotlyServerURL": "https://plot.ly"
       },
       "data": [
        {
         "hovertemplate": "variable=ceilingMinusFloor<br>material_type=Medium<br>wallRoughness=%{x}<br>value=%{y}<extra></extra>",
         "legendgroup": "ceilingMinusFloor",
         "marker": {
          "color": "#636efa",
          "symbol": "circle"
         },
         "mode": "markers",
         "name": "ceilingMinusFloor",
         "orientation": "v",
         "showlegend": true,
         "type": "scatter",
         "x": [
          1.8649052543425453,
          1.5552695828012677,
          1.8649052543425453,
          1.5552695828012677
         ],
         "xaxis": "x",
         "y": [
          null,
          1.2429767329758192,
          null,
          0.9929643398781992
         ],
         "yaxis": "y"
        },
        {
         "hovertemplate": "<b>OLS trendline</b><br>value = 0.508574 * wallRoughness + 0.327001<br>R<sup>2</sup>=0.000000<br><br>variable=ceilingMinusFloor<br>material_type=Medium<br>wallRoughness=%{x}<br>value=%{y} <b>(trend)</b><extra></extra>",
         "legendgroup": "ceilingMinusFloor",
         "marker": {
          "color": "#636efa",
          "symbol": "circle"
         },
         "mode": "lines",
         "name": "ceilingMinusFloor",
         "showlegend": false,
         "type": "scatter",
         "x": [
          1.5552695828012677,
          1.5552695828012677
         ],
         "xaxis": "x",
         "y": [
          1.1179705364270094,
          1.1179705364270094
         ],
         "yaxis": "y"
        },
        {
         "hovertemplate": "variable=ceilingMinusFloor<br>material_type=Light<br>wallRoughness=%{x}<br>value=%{y}<extra></extra>",
         "legendgroup": "ceilingMinusFloor",
         "marker": {
          "color": "#636efa",
          "symbol": "circle"
         },
         "mode": "markers",
         "name": "ceilingMinusFloor",
         "orientation": "v",
         "showlegend": false,
         "type": "scatter",
         "x": [
          1.1277710650995392,
          1.787955071891093,
          1.1277710650995392,
          1.787955071891093
         ],
         "xaxis": "x2",
         "y": [
          2.522704934998984,
          3.4223993116175677,
          2.033859557892754,
          2.9509869106404096
         ],
         "yaxis": "y2"
        },
        {
         "hovertemplate": "<b>OLS trendline</b><br>value = 1.376 * wallRoughness + 0.726473<br>R<sup>2</sup>=0.781590<br><br>variable=ceilingMinusFloor<br>material_type=Light<br>wallRoughness=%{x}<br>value=%{y} <b>(trend)</b><extra></extra>",
         "legendgroup": "ceilingMinusFloor",
         "marker": {
          "color": "#636efa",
          "symbol": "circle"
         },
         "mode": "lines",
         "name": "ceilingMinusFloor",
         "showlegend": false,
         "type": "scatter",
         "x": [
          1.1277710650995392,
          1.1277710650995392,
          1.787955071891093,
          1.787955071891093
         ],
         "xaxis": "x2",
         "y": [
          2.2782822464458685,
          2.2782822464458685,
          3.1866931111289873,
          3.1866931111289873
         ],
         "yaxis": "y2"
        },
        {
         "hovertemplate": "variable=outMinusFloor<br>material_type=Medium<br>wallRoughness=%{x}<br>value=%{y}<extra></extra>",
         "legendgroup": "outMinusFloor",
         "marker": {
          "color": "#EF553B",
          "symbol": "circle"
         },
         "mode": "markers",
         "name": "outMinusFloor",
         "orientation": "v",
         "showlegend": true,
         "type": "scatter",
         "x": [
          1.8649052543425453,
          1.5552695828012677,
          1.8649052543425453,
          1.5552695828012677
         ],
         "xaxis": "x",
         "y": [
          null,
          0.7597884316160588,
          null,
          0.7426148203758061
         ],
         "yaxis": "y"
        },
        {
         "hovertemplate": "<b>OLS trendline</b><br>value = 0.341728 * wallRoughness + 0.219723<br>R<sup>2</sup>=0.000000<br><br>variable=outMinusFloor<br>material_type=Medium<br>wallRoughness=%{x}<br>value=%{y} <b>(trend)</b><extra></extra>",
         "legendgroup": "outMinusFloor",
         "marker": {
          "color": "#EF553B",
          "symbol": "circle"
         },
         "mode": "lines",
         "name": "outMinusFloor",
         "showlegend": false,
         "type": "scatter",
         "x": [
          1.5552695828012677,
          1.5552695828012677
         ],
         "xaxis": "x",
         "y": [
          0.7512016259959325,
          0.7512016259959325
         ],
         "yaxis": "y"
        },
        {
         "hovertemplate": "variable=outMinusFloor<br>material_type=Light<br>wallRoughness=%{x}<br>value=%{y}<extra></extra>",
         "legendgroup": "outMinusFloor",
         "marker": {
          "color": "#EF553B",
          "symbol": "circle"
         },
         "mode": "markers",
         "name": "outMinusFloor",
         "orientation": "v",
         "showlegend": false,
         "type": "scatter",
         "x": [
          1.1277710650995392,
          1.787955071891093,
          1.1277710650995392,
          1.787955071891093
         ],
         "xaxis": "x2",
         "y": [
          1.4712294497871738,
          1.5943571286132254,
          1.292871431410347,
          1.417696567841503
         ],
         "yaxis": "y2"
        },
        {
         "hovertemplate": "<b>OLS trendline</b><br>value = 0.187791 * wallRoughness + 1.17027<br>R<sup>2</sup>=0.327859<br><br>variable=outMinusFloor<br>material_type=Light<br>wallRoughness=%{x}<br>value=%{y} <b>(trend)</b><extra></extra>",
         "legendgroup": "outMinusFloor",
         "marker": {
          "color": "#EF553B",
          "symbol": "circle"
         },
         "mode": "lines",
         "name": "outMinusFloor",
         "showlegend": false,
         "type": "scatter",
         "x": [
          1.1277710650995392,
          1.1277710650995392,
          1.787955071891093,
          1.787955071891093
         ],
         "xaxis": "x2",
         "y": [
          1.3820504405987601,
          1.3820504405987601,
          1.5060268482273635,
          1.5060268482273635
         ],
         "yaxis": "y2"
        },
        {
         "hovertemplate": "variable=intWallMinusFloor<br>material_type=Medium<br>wallRoughness=%{x}<br>value=%{y}<extra></extra>",
         "legendgroup": "intWallMinusFloor",
         "marker": {
          "color": "#00cc96",
          "symbol": "circle"
         },
         "mode": "markers",
         "name": "intWallMinusFloor",
         "orientation": "v",
         "showlegend": true,
         "type": "scatter",
         "x": [
          1.8649052543425453,
          1.5552695828012677,
          1.8649052543425453,
          1.5552695828012677
         ],
         "xaxis": "x",
         "y": [
          null,
          0.6478700394876142,
          null,
          0.6339873782655966
         ],
         "yaxis": "y"
        },
        {
         "hovertemplate": "<b>OLS trendline</b><br>value = 0.291564 * wallRoughness + 0.187468<br>R<sup>2</sup>=0.000000<br><br>variable=intWallMinusFloor<br>material_type=Medium<br>wallRoughness=%{x}<br>value=%{y} <b>(trend)</b><extra></extra>",
         "legendgroup": "intWallMinusFloor",
         "marker": {
          "color": "#00cc96",
          "symbol": "circle"
         },
         "mode": "lines",
         "name": "intWallMinusFloor",
         "showlegend": false,
         "type": "scatter",
         "x": [
          1.5552695828012677,
          1.5552695828012677
         ],
         "xaxis": "x",
         "y": [
          0.6409287088766055,
          0.6409287088766055
         ],
         "yaxis": "y"
        },
        {
         "hovertemplate": "variable=intWallMinusFloor<br>material_type=Light<br>wallRoughness=%{x}<br>value=%{y}<extra></extra>",
         "legendgroup": "intWallMinusFloor",
         "marker": {
          "color": "#00cc96",
          "symbol": "circle"
         },
         "mode": "markers",
         "name": "intWallMinusFloor",
         "orientation": "v",
         "showlegend": false,
         "type": "scatter",
         "x": [
          1.1277710650995392,
          1.787955071891093,
          1.1277710650995392,
          1.787955071891093
         ],
         "xaxis": "x2",
         "y": [
          1.1315326609964036,
          1.168692287508885,
          1.0896361848386722,
          1.061369837339484
         ],
         "yaxis": "y2"
        },
        {
         "hovertemplate": "<b>OLS trendline</b><br>value = 0.00673545 * wallRoughness + 1.10299<br>R<sup>2</sup>=0.002970<br><br>variable=intWallMinusFloor<br>material_type=Light<br>wallRoughness=%{x}<br>value=%{y} <b>(trend)</b><extra></extra>",
         "legendgroup": "intWallMinusFloor",
         "marker": {
          "color": "#00cc96",
          "symbol": "circle"
         },
         "mode": "lines",
         "name": "intWallMinusFloor",
         "showlegend": false,
         "type": "scatter",
         "x": [
          1.1277710650995392,
          1.1277710650995392,
          1.787955071891093,
          1.787955071891093
         ],
         "xaxis": "x2",
         "y": [
          1.1105844229175377,
          1.1105844229175377,
          1.115031062424184,
          1.115031062424184
         ],
         "yaxis": "y2"
        },
        {
         "hovertemplate": "variable=extWallMinusFloor<br>material_type=Medium<br>wallRoughness=%{x}<br>value=%{y}<extra></extra>",
         "legendgroup": "extWallMinusFloor",
         "marker": {
          "color": "#ab63fa",
          "symbol": "circle"
         },
         "mode": "markers",
         "name": "extWallMinusFloor",
         "orientation": "v",
         "showlegend": true,
         "type": "scatter",
         "x": [
          1.8649052543425453,
          1.5552695828012677,
          1.8649052543425453,
          1.5552695828012677
         ],
         "xaxis": "x",
         "y": [
          null,
          1.1315124644235652,
          null,
          1.2796456901924813
         ],
         "yaxis": "y"
        },
        {
         "hovertemplate": "<b>OLS trendline</b><br>value = 0.548428 * wallRoughness + 0.352626<br>R<sup>2</sup>=0.000000<br><br>variable=extWallMinusFloor<br>material_type=Medium<br>wallRoughness=%{x}<br>value=%{y} <b>(trend)</b><extra></extra>",
         "legendgroup": "extWallMinusFloor",
         "marker": {
          "color": "#ab63fa",
          "symbol": "circle"
         },
         "mode": "lines",
         "name": "extWallMinusFloor",
         "showlegend": false,
         "type": "scatter",
         "x": [
          1.5552695828012677,
          1.5552695828012677
         ],
         "xaxis": "x",
         "y": [
          1.2055790773080233,
          1.2055790773080233
         ],
         "yaxis": "y"
        },
        {
         "hovertemplate": "variable=extWallMinusFloor<br>material_type=Light<br>wallRoughness=%{x}<br>value=%{y}<extra></extra>",
         "legendgroup": "extWallMinusFloor",
         "marker": {
          "color": "#ab63fa",
          "symbol": "circle"
         },
         "mode": "markers",
         "name": "extWallMinusFloor",
         "orientation": "v",
         "showlegend": false,
         "type": "scatter",
         "x": [
          1.1277710650995392,
          1.787955071891093,
          1.1277710650995392,
          1.787955071891093
         ],
         "xaxis": "x2",
         "y": [
          2.233521985399861,
          2.0120267512377836,
          1.9490017213397124,
          1.8184807936677176
         ],
         "yaxis": "y2"
        },
        {
         "hovertemplate": "<b>OLS trendline</b><br>value = -0.266605 * wallRoughness + 2.39193<br>R<sup>2</sup>=0.343504<br><br>variable=extWallMinusFloor<br>material_type=Light<br>wallRoughness=%{x}<br>value=%{y} <b>(trend)</b><extra></extra>",
         "legendgroup": "extWallMinusFloor",
         "marker": {
          "color": "#ab63fa",
          "symbol": "circle"
         },
         "mode": "lines",
         "name": "extWallMinusFloor",
         "showlegend": false,
         "type": "scatter",
         "x": [
          1.1277710650995392,
          1.1277710650995392,
          1.787955071891093,
          1.787955071891093
         ],
         "xaxis": "x2",
         "y": [
          2.0912618533697866,
          2.0912618533697866,
          1.9152537724527503,
          1.9152537724527503
         ],
         "yaxis": "y2"
        }
       ],
       "layout": {
        "annotations": [
         {
          "font": {},
          "showarrow": false,
          "text": "material_type=Medium",
          "x": 0.245,
          "xanchor": "center",
          "xref": "paper",
          "y": 1,
          "yanchor": "bottom",
          "yref": "paper"
         },
         {
          "font": {},
          "showarrow": false,
          "text": "material_type=Light",
          "x": 0.755,
          "xanchor": "center",
          "xref": "paper",
          "y": 1,
          "yanchor": "bottom",
          "yref": "paper"
         }
        ],
        "legend": {
         "title": {
          "text": "variable"
         },
         "tracegroupgap": 0
        },
        "margin": {
         "t": 60
        },
        "template": {
         "data": {
          "bar": [
           {
            "error_x": {
             "color": "#2a3f5f"
            },
            "error_y": {
             "color": "#2a3f5f"
            },
            "marker": {
             "line": {
              "color": "#E5ECF6",
              "width": 0.5
             },
             "pattern": {
              "fillmode": "overlay",
              "size": 10,
              "solidity": 0.2
             }
            },
            "type": "bar"
           }
          ],
          "barpolar": [
           {
            "marker": {
             "line": {
              "color": "#E5ECF6",
              "width": 0.5
             },
             "pattern": {
              "fillmode": "overlay",
              "size": 10,
              "solidity": 0.2
             }
            },
            "type": "barpolar"
           }
          ],
          "carpet": [
           {
            "aaxis": {
             "endlinecolor": "#2a3f5f",
             "gridcolor": "white",
             "linecolor": "white",
             "minorgridcolor": "white",
             "startlinecolor": "#2a3f5f"
            },
            "baxis": {
             "endlinecolor": "#2a3f5f",
             "gridcolor": "white",
             "linecolor": "white",
             "minorgridcolor": "white",
             "startlinecolor": "#2a3f5f"
            },
            "type": "carpet"
           }
          ],
          "choropleth": [
           {
            "colorbar": {
             "outlinewidth": 0,
             "ticks": ""
            },
            "type": "choropleth"
           }
          ],
          "contour": [
           {
            "colorbar": {
             "outlinewidth": 0,
             "ticks": ""
            },
            "colorscale": [
             [
              0,
              "#0d0887"
             ],
             [
              0.1111111111111111,
              "#46039f"
             ],
             [
              0.2222222222222222,
              "#7201a8"
             ],
             [
              0.3333333333333333,
              "#9c179e"
             ],
             [
              0.4444444444444444,
              "#bd3786"
             ],
             [
              0.5555555555555556,
              "#d8576b"
             ],
             [
              0.6666666666666666,
              "#ed7953"
             ],
             [
              0.7777777777777778,
              "#fb9f3a"
             ],
             [
              0.8888888888888888,
              "#fdca26"
             ],
             [
              1,
              "#f0f921"
             ]
            ],
            "type": "contour"
           }
          ],
          "contourcarpet": [
           {
            "colorbar": {
             "outlinewidth": 0,
             "ticks": ""
            },
            "type": "contourcarpet"
           }
          ],
          "heatmap": [
           {
            "colorbar": {
             "outlinewidth": 0,
             "ticks": ""
            },
            "colorscale": [
             [
              0,
              "#0d0887"
             ],
             [
              0.1111111111111111,
              "#46039f"
             ],
             [
              0.2222222222222222,
              "#7201a8"
             ],
             [
              0.3333333333333333,
              "#9c179e"
             ],
             [
              0.4444444444444444,
              "#bd3786"
             ],
             [
              0.5555555555555556,
              "#d8576b"
             ],
             [
              0.6666666666666666,
              "#ed7953"
             ],
             [
              0.7777777777777778,
              "#fb9f3a"
             ],
             [
              0.8888888888888888,
              "#fdca26"
             ],
             [
              1,
              "#f0f921"
             ]
            ],
            "type": "heatmap"
           }
          ],
          "heatmapgl": [
           {
            "colorbar": {
             "outlinewidth": 0,
             "ticks": ""
            },
            "colorscale": [
             [
              0,
              "#0d0887"
             ],
             [
              0.1111111111111111,
              "#46039f"
             ],
             [
              0.2222222222222222,
              "#7201a8"
             ],
             [
              0.3333333333333333,
              "#9c179e"
             ],
             [
              0.4444444444444444,
              "#bd3786"
             ],
             [
              0.5555555555555556,
              "#d8576b"
             ],
             [
              0.6666666666666666,
              "#ed7953"
             ],
             [
              0.7777777777777778,
              "#fb9f3a"
             ],
             [
              0.8888888888888888,
              "#fdca26"
             ],
             [
              1,
              "#f0f921"
             ]
            ],
            "type": "heatmapgl"
           }
          ],
          "histogram": [
           {
            "marker": {
             "pattern": {
              "fillmode": "overlay",
              "size": 10,
              "solidity": 0.2
             }
            },
            "type": "histogram"
           }
          ],
          "histogram2d": [
           {
            "colorbar": {
             "outlinewidth": 0,
             "ticks": ""
            },
            "colorscale": [
             [
              0,
              "#0d0887"
             ],
             [
              0.1111111111111111,
              "#46039f"
             ],
             [
              0.2222222222222222,
              "#7201a8"
             ],
             [
              0.3333333333333333,
              "#9c179e"
             ],
             [
              0.4444444444444444,
              "#bd3786"
             ],
             [
              0.5555555555555556,
              "#d8576b"
             ],
             [
              0.6666666666666666,
              "#ed7953"
             ],
             [
              0.7777777777777778,
              "#fb9f3a"
             ],
             [
              0.8888888888888888,
              "#fdca26"
             ],
             [
              1,
              "#f0f921"
             ]
            ],
            "type": "histogram2d"
           }
          ],
          "histogram2dcontour": [
           {
            "colorbar": {
             "outlinewidth": 0,
             "ticks": ""
            },
            "colorscale": [
             [
              0,
              "#0d0887"
             ],
             [
              0.1111111111111111,
              "#46039f"
             ],
             [
              0.2222222222222222,
              "#7201a8"
             ],
             [
              0.3333333333333333,
              "#9c179e"
             ],
             [
              0.4444444444444444,
              "#bd3786"
             ],
             [
              0.5555555555555556,
              "#d8576b"
             ],
             [
              0.6666666666666666,
              "#ed7953"
             ],
             [
              0.7777777777777778,
              "#fb9f3a"
             ],
             [
              0.8888888888888888,
              "#fdca26"
             ],
             [
              1,
              "#f0f921"
             ]
            ],
            "type": "histogram2dcontour"
           }
          ],
          "mesh3d": [
           {
            "colorbar": {
             "outlinewidth": 0,
             "ticks": ""
            },
            "type": "mesh3d"
           }
          ],
          "parcoords": [
           {
            "line": {
             "colorbar": {
              "outlinewidth": 0,
              "ticks": ""
             }
            },
            "type": "parcoords"
           }
          ],
          "pie": [
           {
            "automargin": true,
            "type": "pie"
           }
          ],
          "scatter": [
           {
            "fillpattern": {
             "fillmode": "overlay",
             "size": 10,
             "solidity": 0.2
            },
            "type": "scatter"
           }
          ],
          "scatter3d": [
           {
            "line": {
             "colorbar": {
              "outlinewidth": 0,
              "ticks": ""
             }
            },
            "marker": {
             "colorbar": {
              "outlinewidth": 0,
              "ticks": ""
             }
            },
            "type": "scatter3d"
           }
          ],
          "scattercarpet": [
           {
            "marker": {
             "colorbar": {
              "outlinewidth": 0,
              "ticks": ""
             }
            },
            "type": "scattercarpet"
           }
          ],
          "scattergeo": [
           {
            "marker": {
             "colorbar": {
              "outlinewidth": 0,
              "ticks": ""
             }
            },
            "type": "scattergeo"
           }
          ],
          "scattergl": [
           {
            "marker": {
             "colorbar": {
              "outlinewidth": 0,
              "ticks": ""
             }
            },
            "type": "scattergl"
           }
          ],
          "scattermapbox": [
           {
            "marker": {
             "colorbar": {
              "outlinewidth": 0,
              "ticks": ""
             }
            },
            "type": "scattermapbox"
           }
          ],
          "scatterpolar": [
           {
            "marker": {
             "colorbar": {
              "outlinewidth": 0,
              "ticks": ""
             }
            },
            "type": "scatterpolar"
           }
          ],
          "scatterpolargl": [
           {
            "marker": {
             "colorbar": {
              "outlinewidth": 0,
              "ticks": ""
             }
            },
            "type": "scatterpolargl"
           }
          ],
          "scatterternary": [
           {
            "marker": {
             "colorbar": {
              "outlinewidth": 0,
              "ticks": ""
             }
            },
            "type": "scatterternary"
           }
          ],
          "surface": [
           {
            "colorbar": {
             "outlinewidth": 0,
             "ticks": ""
            },
            "colorscale": [
             [
              0,
              "#0d0887"
             ],
             [
              0.1111111111111111,
              "#46039f"
             ],
             [
              0.2222222222222222,
              "#7201a8"
             ],
             [
              0.3333333333333333,
              "#9c179e"
             ],
             [
              0.4444444444444444,
              "#bd3786"
             ],
             [
              0.5555555555555556,
              "#d8576b"
             ],
             [
              0.6666666666666666,
              "#ed7953"
             ],
             [
              0.7777777777777778,
              "#fb9f3a"
             ],
             [
              0.8888888888888888,
              "#fdca26"
             ],
             [
              1,
              "#f0f921"
             ]
            ],
            "type": "surface"
           }
          ],
          "table": [
           {
            "cells": {
             "fill": {
              "color": "#EBF0F8"
             },
             "line": {
              "color": "white"
             }
            },
            "header": {
             "fill": {
              "color": "#C8D4E3"
             },
             "line": {
              "color": "white"
             }
            },
            "type": "table"
           }
          ]
         },
         "layout": {
          "annotationdefaults": {
           "arrowcolor": "#2a3f5f",
           "arrowhead": 0,
           "arrowwidth": 1
          },
          "autotypenumbers": "strict",
          "coloraxis": {
           "colorbar": {
            "outlinewidth": 0,
            "ticks": ""
           }
          },
          "colorscale": {
           "diverging": [
            [
             0,
             "#8e0152"
            ],
            [
             0.1,
             "#c51b7d"
            ],
            [
             0.2,
             "#de77ae"
            ],
            [
             0.3,
             "#f1b6da"
            ],
            [
             0.4,
             "#fde0ef"
            ],
            [
             0.5,
             "#f7f7f7"
            ],
            [
             0.6,
             "#e6f5d0"
            ],
            [
             0.7,
             "#b8e186"
            ],
            [
             0.8,
             "#7fbc41"
            ],
            [
             0.9,
             "#4d9221"
            ],
            [
             1,
             "#276419"
            ]
           ],
           "sequential": [
            [
             0,
             "#0d0887"
            ],
            [
             0.1111111111111111,
             "#46039f"
            ],
            [
             0.2222222222222222,
             "#7201a8"
            ],
            [
             0.3333333333333333,
             "#9c179e"
            ],
            [
             0.4444444444444444,
             "#bd3786"
            ],
            [
             0.5555555555555556,
             "#d8576b"
            ],
            [
             0.6666666666666666,
             "#ed7953"
            ],
            [
             0.7777777777777778,
             "#fb9f3a"
            ],
            [
             0.8888888888888888,
             "#fdca26"
            ],
            [
             1,
             "#f0f921"
            ]
           ],
           "sequentialminus": [
            [
             0,
             "#0d0887"
            ],
            [
             0.1111111111111111,
             "#46039f"
            ],
            [
             0.2222222222222222,
             "#7201a8"
            ],
            [
             0.3333333333333333,
             "#9c179e"
            ],
            [
             0.4444444444444444,
             "#bd3786"
            ],
            [
             0.5555555555555556,
             "#d8576b"
            ],
            [
             0.6666666666666666,
             "#ed7953"
            ],
            [
             0.7777777777777778,
             "#fb9f3a"
            ],
            [
             0.8888888888888888,
             "#fdca26"
            ],
            [
             1,
             "#f0f921"
            ]
           ]
          },
          "colorway": [
           "#636efa",
           "#EF553B",
           "#00cc96",
           "#ab63fa",
           "#FFA15A",
           "#19d3f3",
           "#FF6692",
           "#B6E880",
           "#FF97FF",
           "#FECB52"
          ],
          "font": {
           "color": "#2a3f5f"
          },
          "geo": {
           "bgcolor": "white",
           "lakecolor": "white",
           "landcolor": "#E5ECF6",
           "showlakes": true,
           "showland": true,
           "subunitcolor": "white"
          },
          "hoverlabel": {
           "align": "left"
          },
          "hovermode": "closest",
          "mapbox": {
           "style": "light"
          },
          "paper_bgcolor": "white",
          "plot_bgcolor": "#E5ECF6",
          "polar": {
           "angularaxis": {
            "gridcolor": "white",
            "linecolor": "white",
            "ticks": ""
           },
           "bgcolor": "#E5ECF6",
           "radialaxis": {
            "gridcolor": "white",
            "linecolor": "white",
            "ticks": ""
           }
          },
          "scene": {
           "xaxis": {
            "backgroundcolor": "#E5ECF6",
            "gridcolor": "white",
            "gridwidth": 2,
            "linecolor": "white",
            "showbackground": true,
            "ticks": "",
            "zerolinecolor": "white"
           },
           "yaxis": {
            "backgroundcolor": "#E5ECF6",
            "gridcolor": "white",
            "gridwidth": 2,
            "linecolor": "white",
            "showbackground": true,
            "ticks": "",
            "zerolinecolor": "white"
           },
           "zaxis": {
            "backgroundcolor": "#E5ECF6",
            "gridcolor": "white",
            "gridwidth": 2,
            "linecolor": "white",
            "showbackground": true,
            "ticks": "",
            "zerolinecolor": "white"
           }
          },
          "shapedefaults": {
           "line": {
            "color": "#2a3f5f"
           }
          },
          "ternary": {
           "aaxis": {
            "gridcolor": "white",
            "linecolor": "white",
            "ticks": ""
           },
           "baxis": {
            "gridcolor": "white",
            "linecolor": "white",
            "ticks": ""
           },
           "bgcolor": "#E5ECF6",
           "caxis": {
            "gridcolor": "white",
            "linecolor": "white",
            "ticks": ""
           }
          },
          "title": {
           "x": 0.05
          },
          "xaxis": {
           "automargin": true,
           "gridcolor": "white",
           "linecolor": "white",
           "ticks": "",
           "title": {
            "standoff": 15
           },
           "zerolinecolor": "white",
           "zerolinewidth": 2
          },
          "yaxis": {
           "automargin": true,
           "gridcolor": "white",
           "linecolor": "white",
           "ticks": "",
           "title": {
            "standoff": 15
           },
           "zerolinecolor": "white",
           "zerolinewidth": 2
          }
         }
        },
        "xaxis": {
         "anchor": "y",
         "domain": [
          0,
          0.49
         ],
         "title": {
          "text": "wallRoughness"
         }
        },
        "xaxis2": {
         "anchor": "y2",
         "domain": [
          0.51,
          1
         ],
         "matches": "x",
         "title": {
          "text": "wallRoughness"
         }
        },
        "yaxis": {
         "anchor": "x",
         "domain": [
          0,
          1
         ],
         "title": {
          "text": "value"
         }
        },
        "yaxis2": {
         "anchor": "x2",
         "domain": [
          0,
          1
         ],
         "matches": "y",
         "showticklabels": false
        }
       }
      }
     },
     "metadata": {},
     "output_type": "display_data"
    },
    {
     "data": {
      "application/vnd.plotly.v1+json": {
       "config": {
        "plotlyServerURL": "https://plot.ly"
       },
       "data": [
        {
         "hovertemplate": "variable=ceilingMinusFloor<br>material_type=Medium<br>hExterior=%{x}<br>value=%{y}<extra></extra>",
         "legendgroup": "ceilingMinusFloor",
         "marker": {
          "color": "#636efa",
          "symbol": "circle"
         },
         "mode": "markers",
         "name": "ceilingMinusFloor",
         "orientation": "v",
         "showlegend": true,
         "type": "scatter",
         "x": [
          11.21735723673713,
          10.13024199757925,
          11.21735723673713,
          10.13024199757925
         ],
         "xaxis": "x",
         "y": [
          null,
          1.2429767329758192,
          null,
          0.9929643398781992
         ],
         "yaxis": "y"
        },
        {
         "hovertemplate": "<b>OLS trendline</b><br>value = 0.109295 * hExterior + 0.010789<br>R<sup>2</sup>=0.000000<br><br>variable=ceilingMinusFloor<br>material_type=Medium<br>hExterior=%{x}<br>value=%{y} <b>(trend)</b><extra></extra>",
         "legendgroup": "ceilingMinusFloor",
         "marker": {
          "color": "#636efa",
          "symbol": "circle"
         },
         "mode": "lines",
         "name": "ceilingMinusFloor",
         "showlegend": false,
         "type": "scatter",
         "x": [
          10.13024199757925,
          10.13024199757925
         ],
         "xaxis": "x",
         "y": [
          1.117970536427009,
          1.117970536427009
         ],
         "yaxis": "y"
        },
        {
         "hovertemplate": "variable=ceilingMinusFloor<br>material_type=Light<br>hExterior=%{x}<br>value=%{y}<extra></extra>",
         "legendgroup": "ceilingMinusFloor",
         "marker": {
          "color": "#636efa",
          "symbol": "circle"
         },
         "mode": "markers",
         "name": "ceilingMinusFloor",
         "orientation": "v",
         "showlegend": false,
         "type": "scatter",
         "x": [
          11.402304808111206,
          1.718429360799979,
          11.402304808111206,
          1.718429360799979
         ],
         "xaxis": "x2",
         "y": [
          2.522704934998984,
          3.4223993116175677,
          2.033859557892754,
          2.9509869106404096
         ],
         "yaxis": "y2"
        },
        {
         "hovertemplate": "<b>OLS trendline</b><br>value = -0.0938065 * hExterior + 3.34789<br>R<sup>2</sup>=0.781590<br><br>variable=ceilingMinusFloor<br>material_type=Light<br>hExterior=%{x}<br>value=%{y} <b>(trend)</b><extra></extra>",
         "legendgroup": "ceilingMinusFloor",
         "marker": {
          "color": "#636efa",
          "symbol": "circle"
         },
         "mode": "lines",
         "name": "ceilingMinusFloor",
         "showlegend": false,
         "type": "scatter",
         "x": [
          1.718429360799979,
          1.718429360799979,
          11.402304808111206,
          11.402304808111206
         ],
         "xaxis": "x2",
         "y": [
          3.186693111128989,
          3.186693111128989,
          2.2782822464458694,
          2.2782822464458694
         ],
         "yaxis": "y2"
        },
        {
         "hovertemplate": "variable=outMinusFloor<br>material_type=Medium<br>hExterior=%{x}<br>value=%{y}<extra></extra>",
         "legendgroup": "outMinusFloor",
         "marker": {
          "color": "#EF553B",
          "symbol": "circle"
         },
         "mode": "markers",
         "name": "outMinusFloor",
         "orientation": "v",
         "showlegend": true,
         "type": "scatter",
         "x": [
          11.21735723673713,
          10.13024199757925,
          11.21735723673713,
          10.13024199757925
         ],
         "xaxis": "x",
         "y": [
          null,
          0.7597884316160588,
          null,
          0.7426148203758061
         ],
         "yaxis": "y"
        },
        {
         "hovertemplate": "<b>OLS trendline</b><br>value = 0.0734387 * hExterior + 0.00724946<br>R<sup>2</sup>=0.000000<br><br>variable=outMinusFloor<br>material_type=Medium<br>hExterior=%{x}<br>value=%{y} <b>(trend)</b><extra></extra>",
         "legendgroup": "outMinusFloor",
         "marker": {
          "color": "#EF553B",
          "symbol": "circle"
         },
         "mode": "lines",
         "name": "outMinusFloor",
         "showlegend": false,
         "type": "scatter",
         "x": [
          10.13024199757925,
          10.13024199757925
         ],
         "xaxis": "x",
         "y": [
          0.7512016259959322,
          0.7512016259959322
         ],
         "yaxis": "y"
        },
        {
         "hovertemplate": "variable=outMinusFloor<br>material_type=Light<br>hExterior=%{x}<br>value=%{y}<extra></extra>",
         "legendgroup": "outMinusFloor",
         "marker": {
          "color": "#EF553B",
          "symbol": "circle"
         },
         "mode": "markers",
         "name": "outMinusFloor",
         "orientation": "v",
         "showlegend": false,
         "type": "scatter",
         "x": [
          11.402304808111206,
          1.718429360799979,
          11.402304808111206,
          1.718429360799979
         ],
         "xaxis": "x2",
         "y": [
          1.4712294497871738,
          1.5943571286132254,
          1.292871431410347,
          1.417696567841503
         ],
         "yaxis": "y2"
        },
        {
         "hovertemplate": "<b>OLS trendline</b><br>value = -0.0128024 * hExterior + 1.52803<br>R<sup>2</sup>=0.327859<br><br>variable=outMinusFloor<br>material_type=Light<br>hExterior=%{x}<br>value=%{y} <b>(trend)</b><extra></extra>",
         "legendgroup": "outMinusFloor",
         "marker": {
          "color": "#EF553B",
          "symbol": "circle"
         },
         "mode": "lines",
         "name": "outMinusFloor",
         "showlegend": false,
         "type": "scatter",
         "x": [
          1.718429360799979,
          1.718429360799979,
          11.402304808111206,
          11.402304808111206
         ],
         "xaxis": "x2",
         "y": [
          1.5060268482273644,
          1.5060268482273644,
          1.3820504405987606,
          1.3820504405987606
         ],
         "yaxis": "y2"
        },
        {
         "hovertemplate": "variable=intWallMinusFloor<br>material_type=Medium<br>hExterior=%{x}<br>value=%{y}<extra></extra>",
         "legendgroup": "intWallMinusFloor",
         "marker": {
          "color": "#00cc96",
          "symbol": "circle"
         },
         "mode": "markers",
         "name": "intWallMinusFloor",
         "orientation": "v",
         "showlegend": true,
         "type": "scatter",
         "x": [
          11.21735723673713,
          10.13024199757925,
          11.21735723673713,
          10.13024199757925
         ],
         "xaxis": "x",
         "y": [
          null,
          0.6478700394876142,
          null,
          0.6339873782655966
         ],
         "yaxis": "y"
        },
        {
         "hovertemplate": "<b>OLS trendline</b><br>value = 0.0626583 * hExterior + 0.00618527<br>R<sup>2</sup>=0.000000<br><br>variable=intWallMinusFloor<br>material_type=Medium<br>hExterior=%{x}<br>value=%{y} <b>(trend)</b><extra></extra>",
         "legendgroup": "intWallMinusFloor",
         "marker": {
          "color": "#00cc96",
          "symbol": "circle"
         },
         "mode": "lines",
         "name": "intWallMinusFloor",
         "showlegend": false,
         "type": "scatter",
         "x": [
          10.13024199757925,
          10.13024199757925
         ],
         "xaxis": "x",
         "y": [
          0.6409287088766051,
          0.6409287088766051
         ],
         "yaxis": "y"
        },
        {
         "hovertemplate": "variable=intWallMinusFloor<br>material_type=Light<br>hExterior=%{x}<br>value=%{y}<extra></extra>",
         "legendgroup": "intWallMinusFloor",
         "marker": {
          "color": "#00cc96",
          "symbol": "circle"
         },
         "mode": "markers",
         "name": "intWallMinusFloor",
         "orientation": "v",
         "showlegend": false,
         "type": "scatter",
         "x": [
          11.402304808111206,
          1.718429360799979,
          11.402304808111206,
          1.718429360799979
         ],
         "xaxis": "x2",
         "y": [
          1.1315326609964036,
          1.168692287508885,
          1.0896361848386722,
          1.061369837339484
         ],
         "yaxis": "y2"
        },
        {
         "hovertemplate": "<b>OLS trendline</b><br>value = -0.00045918 * hExterior + 1.11582<br>R<sup>2</sup>=0.002970<br><br>variable=intWallMinusFloor<br>material_type=Light<br>hExterior=%{x}<br>value=%{y} <b>(trend)</b><extra></extra>",
         "legendgroup": "intWallMinusFloor",
         "marker": {
          "color": "#00cc96",
          "symbol": "circle"
         },
         "mode": "lines",
         "name": "intWallMinusFloor",
         "showlegend": false,
         "type": "scatter",
         "x": [
          1.718429360799979,
          1.718429360799979,
          11.402304808111206,
          11.402304808111206
         ],
         "xaxis": "x2",
         "y": [
          1.1150310624241844,
          1.1150310624241844,
          1.110584422917538,
          1.110584422917538
         ],
         "yaxis": "y2"
        },
        {
         "hovertemplate": "variable=extWallMinusFloor<br>material_type=Medium<br>hExterior=%{x}<br>value=%{y}<extra></extra>",
         "legendgroup": "extWallMinusFloor",
         "marker": {
          "color": "#ab63fa",
          "symbol": "circle"
         },
         "mode": "markers",
         "name": "extWallMinusFloor",
         "orientation": "v",
         "showlegend": true,
         "type": "scatter",
         "x": [
          11.21735723673713,
          10.13024199757925,
          11.21735723673713,
          10.13024199757925
         ],
         "xaxis": "x",
         "y": [
          null,
          1.1315124644235652,
          null,
          1.2796456901924813
         ],
         "yaxis": "y"
        },
        {
         "hovertemplate": "<b>OLS trendline</b><br>value = 0.117859 * hExterior + 0.0116344<br>R<sup>2</sup>=0.000000<br><br>variable=extWallMinusFloor<br>material_type=Medium<br>hExterior=%{x}<br>value=%{y} <b>(trend)</b><extra></extra>",
         "legendgroup": "extWallMinusFloor",
         "marker": {
          "color": "#ab63fa",
          "symbol": "circle"
         },
         "mode": "lines",
         "name": "extWallMinusFloor",
         "showlegend": false,
         "type": "scatter",
         "x": [
          10.13024199757925,
          10.13024199757925
         ],
         "xaxis": "x",
         "y": [
          1.205579077308023,
          1.205579077308023
         ],
         "yaxis": "y"
        },
        {
         "hovertemplate": "variable=extWallMinusFloor<br>material_type=Light<br>hExterior=%{x}<br>value=%{y}<extra></extra>",
         "legendgroup": "extWallMinusFloor",
         "marker": {
          "color": "#ab63fa",
          "symbol": "circle"
         },
         "mode": "markers",
         "name": "extWallMinusFloor",
         "orientation": "v",
         "showlegend": false,
         "type": "scatter",
         "x": [
          11.402304808111206,
          1.718429360799979,
          11.402304808111206,
          1.718429360799979
         ],
         "xaxis": "x2",
         "y": [
          2.233521985399861,
          2.0120267512377836,
          1.9490017213397124,
          1.8184807936677176
         ],
         "yaxis": "y2"
        },
        {
         "hovertemplate": "<b>OLS trendline</b><br>value = 0.0181754 * hExterior + 1.88402<br>R<sup>2</sup>=0.343504<br><br>variable=extWallMinusFloor<br>material_type=Light<br>hExterior=%{x}<br>value=%{y} <b>(trend)</b><extra></extra>",
         "legendgroup": "extWallMinusFloor",
         "marker": {
          "color": "#ab63fa",
          "symbol": "circle"
         },
         "mode": "lines",
         "name": "extWallMinusFloor",
         "showlegend": false,
         "type": "scatter",
         "x": [
          1.718429360799979,
          1.718429360799979,
          11.402304808111206,
          11.402304808111206
         ],
         "xaxis": "x2",
         "y": [
          1.9152537724527507,
          1.9152537724527507,
          2.0912618533697866,
          2.0912618533697866
         ],
         "yaxis": "y2"
        }
       ],
       "layout": {
        "annotations": [
         {
          "font": {},
          "showarrow": false,
          "text": "material_type=Medium",
          "x": 0.245,
          "xanchor": "center",
          "xref": "paper",
          "y": 1,
          "yanchor": "bottom",
          "yref": "paper"
         },
         {
          "font": {},
          "showarrow": false,
          "text": "material_type=Light",
          "x": 0.755,
          "xanchor": "center",
          "xref": "paper",
          "y": 1,
          "yanchor": "bottom",
          "yref": "paper"
         }
        ],
        "legend": {
         "title": {
          "text": "variable"
         },
         "tracegroupgap": 0
        },
        "margin": {
         "t": 60
        },
        "template": {
         "data": {
          "bar": [
           {
            "error_x": {
             "color": "#2a3f5f"
            },
            "error_y": {
             "color": "#2a3f5f"
            },
            "marker": {
             "line": {
              "color": "#E5ECF6",
              "width": 0.5
             },
             "pattern": {
              "fillmode": "overlay",
              "size": 10,
              "solidity": 0.2
             }
            },
            "type": "bar"
           }
          ],
          "barpolar": [
           {
            "marker": {
             "line": {
              "color": "#E5ECF6",
              "width": 0.5
             },
             "pattern": {
              "fillmode": "overlay",
              "size": 10,
              "solidity": 0.2
             }
            },
            "type": "barpolar"
           }
          ],
          "carpet": [
           {
            "aaxis": {
             "endlinecolor": "#2a3f5f",
             "gridcolor": "white",
             "linecolor": "white",
             "minorgridcolor": "white",
             "startlinecolor": "#2a3f5f"
            },
            "baxis": {
             "endlinecolor": "#2a3f5f",
             "gridcolor": "white",
             "linecolor": "white",
             "minorgridcolor": "white",
             "startlinecolor": "#2a3f5f"
            },
            "type": "carpet"
           }
          ],
          "choropleth": [
           {
            "colorbar": {
             "outlinewidth": 0,
             "ticks": ""
            },
            "type": "choropleth"
           }
          ],
          "contour": [
           {
            "colorbar": {
             "outlinewidth": 0,
             "ticks": ""
            },
            "colorscale": [
             [
              0,
              "#0d0887"
             ],
             [
              0.1111111111111111,
              "#46039f"
             ],
             [
              0.2222222222222222,
              "#7201a8"
             ],
             [
              0.3333333333333333,
              "#9c179e"
             ],
             [
              0.4444444444444444,
              "#bd3786"
             ],
             [
              0.5555555555555556,
              "#d8576b"
             ],
             [
              0.6666666666666666,
              "#ed7953"
             ],
             [
              0.7777777777777778,
              "#fb9f3a"
             ],
             [
              0.8888888888888888,
              "#fdca26"
             ],
             [
              1,
              "#f0f921"
             ]
            ],
            "type": "contour"
           }
          ],
          "contourcarpet": [
           {
            "colorbar": {
             "outlinewidth": 0,
             "ticks": ""
            },
            "type": "contourcarpet"
           }
          ],
          "heatmap": [
           {
            "colorbar": {
             "outlinewidth": 0,
             "ticks": ""
            },
            "colorscale": [
             [
              0,
              "#0d0887"
             ],
             [
              0.1111111111111111,
              "#46039f"
             ],
             [
              0.2222222222222222,
              "#7201a8"
             ],
             [
              0.3333333333333333,
              "#9c179e"
             ],
             [
              0.4444444444444444,
              "#bd3786"
             ],
             [
              0.5555555555555556,
              "#d8576b"
             ],
             [
              0.6666666666666666,
              "#ed7953"
             ],
             [
              0.7777777777777778,
              "#fb9f3a"
             ],
             [
              0.8888888888888888,
              "#fdca26"
             ],
             [
              1,
              "#f0f921"
             ]
            ],
            "type": "heatmap"
           }
          ],
          "heatmapgl": [
           {
            "colorbar": {
             "outlinewidth": 0,
             "ticks": ""
            },
            "colorscale": [
             [
              0,
              "#0d0887"
             ],
             [
              0.1111111111111111,
              "#46039f"
             ],
             [
              0.2222222222222222,
              "#7201a8"
             ],
             [
              0.3333333333333333,
              "#9c179e"
             ],
             [
              0.4444444444444444,
              "#bd3786"
             ],
             [
              0.5555555555555556,
              "#d8576b"
             ],
             [
              0.6666666666666666,
              "#ed7953"
             ],
             [
              0.7777777777777778,
              "#fb9f3a"
             ],
             [
              0.8888888888888888,
              "#fdca26"
             ],
             [
              1,
              "#f0f921"
             ]
            ],
            "type": "heatmapgl"
           }
          ],
          "histogram": [
           {
            "marker": {
             "pattern": {
              "fillmode": "overlay",
              "size": 10,
              "solidity": 0.2
             }
            },
            "type": "histogram"
           }
          ],
          "histogram2d": [
           {
            "colorbar": {
             "outlinewidth": 0,
             "ticks": ""
            },
            "colorscale": [
             [
              0,
              "#0d0887"
             ],
             [
              0.1111111111111111,
              "#46039f"
             ],
             [
              0.2222222222222222,
              "#7201a8"
             ],
             [
              0.3333333333333333,
              "#9c179e"
             ],
             [
              0.4444444444444444,
              "#bd3786"
             ],
             [
              0.5555555555555556,
              "#d8576b"
             ],
             [
              0.6666666666666666,
              "#ed7953"
             ],
             [
              0.7777777777777778,
              "#fb9f3a"
             ],
             [
              0.8888888888888888,
              "#fdca26"
             ],
             [
              1,
              "#f0f921"
             ]
            ],
            "type": "histogram2d"
           }
          ],
          "histogram2dcontour": [
           {
            "colorbar": {
             "outlinewidth": 0,
             "ticks": ""
            },
            "colorscale": [
             [
              0,
              "#0d0887"
             ],
             [
              0.1111111111111111,
              "#46039f"
             ],
             [
              0.2222222222222222,
              "#7201a8"
             ],
             [
              0.3333333333333333,
              "#9c179e"
             ],
             [
              0.4444444444444444,
              "#bd3786"
             ],
             [
              0.5555555555555556,
              "#d8576b"
             ],
             [
              0.6666666666666666,
              "#ed7953"
             ],
             [
              0.7777777777777778,
              "#fb9f3a"
             ],
             [
              0.8888888888888888,
              "#fdca26"
             ],
             [
              1,
              "#f0f921"
             ]
            ],
            "type": "histogram2dcontour"
           }
          ],
          "mesh3d": [
           {
            "colorbar": {
             "outlinewidth": 0,
             "ticks": ""
            },
            "type": "mesh3d"
           }
          ],
          "parcoords": [
           {
            "line": {
             "colorbar": {
              "outlinewidth": 0,
              "ticks": ""
             }
            },
            "type": "parcoords"
           }
          ],
          "pie": [
           {
            "automargin": true,
            "type": "pie"
           }
          ],
          "scatter": [
           {
            "fillpattern": {
             "fillmode": "overlay",
             "size": 10,
             "solidity": 0.2
            },
            "type": "scatter"
           }
          ],
          "scatter3d": [
           {
            "line": {
             "colorbar": {
              "outlinewidth": 0,
              "ticks": ""
             }
            },
            "marker": {
             "colorbar": {
              "outlinewidth": 0,
              "ticks": ""
             }
            },
            "type": "scatter3d"
           }
          ],
          "scattercarpet": [
           {
            "marker": {
             "colorbar": {
              "outlinewidth": 0,
              "ticks": ""
             }
            },
            "type": "scattercarpet"
           }
          ],
          "scattergeo": [
           {
            "marker": {
             "colorbar": {
              "outlinewidth": 0,
              "ticks": ""
             }
            },
            "type": "scattergeo"
           }
          ],
          "scattergl": [
           {
            "marker": {
             "colorbar": {
              "outlinewidth": 0,
              "ticks": ""
             }
            },
            "type": "scattergl"
           }
          ],
          "scattermapbox": [
           {
            "marker": {
             "colorbar": {
              "outlinewidth": 0,
              "ticks": ""
             }
            },
            "type": "scattermapbox"
           }
          ],
          "scatterpolar": [
           {
            "marker": {
             "colorbar": {
              "outlinewidth": 0,
              "ticks": ""
             }
            },
            "type": "scatterpolar"
           }
          ],
          "scatterpolargl": [
           {
            "marker": {
             "colorbar": {
              "outlinewidth": 0,
              "ticks": ""
             }
            },
            "type": "scatterpolargl"
           }
          ],
          "scatterternary": [
           {
            "marker": {
             "colorbar": {
              "outlinewidth": 0,
              "ticks": ""
             }
            },
            "type": "scatterternary"
           }
          ],
          "surface": [
           {
            "colorbar": {
             "outlinewidth": 0,
             "ticks": ""
            },
            "colorscale": [
             [
              0,
              "#0d0887"
             ],
             [
              0.1111111111111111,
              "#46039f"
             ],
             [
              0.2222222222222222,
              "#7201a8"
             ],
             [
              0.3333333333333333,
              "#9c179e"
             ],
             [
              0.4444444444444444,
              "#bd3786"
             ],
             [
              0.5555555555555556,
              "#d8576b"
             ],
             [
              0.6666666666666666,
              "#ed7953"
             ],
             [
              0.7777777777777778,
              "#fb9f3a"
             ],
             [
              0.8888888888888888,
              "#fdca26"
             ],
             [
              1,
              "#f0f921"
             ]
            ],
            "type": "surface"
           }
          ],
          "table": [
           {
            "cells": {
             "fill": {
              "color": "#EBF0F8"
             },
             "line": {
              "color": "white"
             }
            },
            "header": {
             "fill": {
              "color": "#C8D4E3"
             },
             "line": {
              "color": "white"
             }
            },
            "type": "table"
           }
          ]
         },
         "layout": {
          "annotationdefaults": {
           "arrowcolor": "#2a3f5f",
           "arrowhead": 0,
           "arrowwidth": 1
          },
          "autotypenumbers": "strict",
          "coloraxis": {
           "colorbar": {
            "outlinewidth": 0,
            "ticks": ""
           }
          },
          "colorscale": {
           "diverging": [
            [
             0,
             "#8e0152"
            ],
            [
             0.1,
             "#c51b7d"
            ],
            [
             0.2,
             "#de77ae"
            ],
            [
             0.3,
             "#f1b6da"
            ],
            [
             0.4,
             "#fde0ef"
            ],
            [
             0.5,
             "#f7f7f7"
            ],
            [
             0.6,
             "#e6f5d0"
            ],
            [
             0.7,
             "#b8e186"
            ],
            [
             0.8,
             "#7fbc41"
            ],
            [
             0.9,
             "#4d9221"
            ],
            [
             1,
             "#276419"
            ]
           ],
           "sequential": [
            [
             0,
             "#0d0887"
            ],
            [
             0.1111111111111111,
             "#46039f"
            ],
            [
             0.2222222222222222,
             "#7201a8"
            ],
            [
             0.3333333333333333,
             "#9c179e"
            ],
            [
             0.4444444444444444,
             "#bd3786"
            ],
            [
             0.5555555555555556,
             "#d8576b"
            ],
            [
             0.6666666666666666,
             "#ed7953"
            ],
            [
             0.7777777777777778,
             "#fb9f3a"
            ],
            [
             0.8888888888888888,
             "#fdca26"
            ],
            [
             1,
             "#f0f921"
            ]
           ],
           "sequentialminus": [
            [
             0,
             "#0d0887"
            ],
            [
             0.1111111111111111,
             "#46039f"
            ],
            [
             0.2222222222222222,
             "#7201a8"
            ],
            [
             0.3333333333333333,
             "#9c179e"
            ],
            [
             0.4444444444444444,
             "#bd3786"
            ],
            [
             0.5555555555555556,
             "#d8576b"
            ],
            [
             0.6666666666666666,
             "#ed7953"
            ],
            [
             0.7777777777777778,
             "#fb9f3a"
            ],
            [
             0.8888888888888888,
             "#fdca26"
            ],
            [
             1,
             "#f0f921"
            ]
           ]
          },
          "colorway": [
           "#636efa",
           "#EF553B",
           "#00cc96",
           "#ab63fa",
           "#FFA15A",
           "#19d3f3",
           "#FF6692",
           "#B6E880",
           "#FF97FF",
           "#FECB52"
          ],
          "font": {
           "color": "#2a3f5f"
          },
          "geo": {
           "bgcolor": "white",
           "lakecolor": "white",
           "landcolor": "#E5ECF6",
           "showlakes": true,
           "showland": true,
           "subunitcolor": "white"
          },
          "hoverlabel": {
           "align": "left"
          },
          "hovermode": "closest",
          "mapbox": {
           "style": "light"
          },
          "paper_bgcolor": "white",
          "plot_bgcolor": "#E5ECF6",
          "polar": {
           "angularaxis": {
            "gridcolor": "white",
            "linecolor": "white",
            "ticks": ""
           },
           "bgcolor": "#E5ECF6",
           "radialaxis": {
            "gridcolor": "white",
            "linecolor": "white",
            "ticks": ""
           }
          },
          "scene": {
           "xaxis": {
            "backgroundcolor": "#E5ECF6",
            "gridcolor": "white",
            "gridwidth": 2,
            "linecolor": "white",
            "showbackground": true,
            "ticks": "",
            "zerolinecolor": "white"
           },
           "yaxis": {
            "backgroundcolor": "#E5ECF6",
            "gridcolor": "white",
            "gridwidth": 2,
            "linecolor": "white",
            "showbackground": true,
            "ticks": "",
            "zerolinecolor": "white"
           },
           "zaxis": {
            "backgroundcolor": "#E5ECF6",
            "gridcolor": "white",
            "gridwidth": 2,
            "linecolor": "white",
            "showbackground": true,
            "ticks": "",
            "zerolinecolor": "white"
           }
          },
          "shapedefaults": {
           "line": {
            "color": "#2a3f5f"
           }
          },
          "ternary": {
           "aaxis": {
            "gridcolor": "white",
            "linecolor": "white",
            "ticks": ""
           },
           "baxis": {
            "gridcolor": "white",
            "linecolor": "white",
            "ticks": ""
           },
           "bgcolor": "#E5ECF6",
           "caxis": {
            "gridcolor": "white",
            "linecolor": "white",
            "ticks": ""
           }
          },
          "title": {
           "x": 0.05
          },
          "xaxis": {
           "automargin": true,
           "gridcolor": "white",
           "linecolor": "white",
           "ticks": "",
           "title": {
            "standoff": 15
           },
           "zerolinecolor": "white",
           "zerolinewidth": 2
          },
          "yaxis": {
           "automargin": true,
           "gridcolor": "white",
           "linecolor": "white",
           "ticks": "",
           "title": {
            "standoff": 15
           },
           "zerolinecolor": "white",
           "zerolinewidth": 2
          }
         }
        },
        "xaxis": {
         "anchor": "y",
         "domain": [
          0,
          0.49
         ],
         "title": {
          "text": "hExterior"
         }
        },
        "xaxis2": {
         "anchor": "y2",
         "domain": [
          0.51,
          1
         ],
         "matches": "x",
         "title": {
          "text": "hExterior"
         }
        },
        "yaxis": {
         "anchor": "x",
         "domain": [
          0,
          1
         ],
         "title": {
          "text": "value"
         }
        },
        "yaxis2": {
         "anchor": "x2",
         "domain": [
          0,
          1
         ],
         "matches": "y",
         "showticklabels": false
        }
       }
      }
     },
     "metadata": {},
     "output_type": "display_data"
    },
    {
     "data": {
      "application/vnd.plotly.v1+json": {
       "config": {
        "plotlyServerURL": "https://plot.ly"
       },
       "data": [
        {
         "hovertemplate": "variable=ceilingMinusFloor<br>material_type=Medium<br>logRi=%{x}<br>value=%{y}<extra></extra>",
         "legendgroup": "ceilingMinusFloor",
         "marker": {
          "color": "#636efa",
          "symbol": "circle"
         },
         "mode": "markers",
         "name": "ceilingMinusFloor",
         "orientation": "v",
         "showlegend": true,
         "type": "scatter",
         "x": [
          null,
          -4.641381080302436,
          null,
          -4.86595070129731
         ],
         "xaxis": "x",
         "y": [
          null,
          1.2429767329758192,
          null,
          0.9929643398781992
         ],
         "yaxis": "y"
        },
        {
         "hovertemplate": "<b>OLS trendline</b><br>value = 1.1133 * logRi + 6.41021<br>R<sup>2</sup>=1.000000<br><br>variable=ceilingMinusFloor<br>material_type=Medium<br>logRi=%{x}<br>value=%{y} <b>(trend)</b><extra></extra>",
         "legendgroup": "ceilingMinusFloor",
         "marker": {
          "color": "#636efa",
          "symbol": "circle"
         },
         "mode": "lines",
         "name": "ceilingMinusFloor",
         "showlegend": false,
         "type": "scatter",
         "x": [
          -4.86595070129731,
          -4.641381080302436
         ],
         "xaxis": "x",
         "y": [
          0.9929643398781993,
          1.2429767329758197
         ],
         "yaxis": "y"
        },
        {
         "hovertemplate": "variable=ceilingMinusFloor<br>material_type=Light<br>logRi=%{x}<br>value=%{y}<extra></extra>",
         "legendgroup": "ceilingMinusFloor",
         "marker": {
          "color": "#636efa",
          "symbol": "circle"
         },
         "mode": "markers",
         "name": "ceilingMinusFloor",
         "orientation": "v",
         "showlegend": false,
         "type": "scatter",
         "x": [
          -4.8979806964440336,
          1.6198875209768646,
          -5.113377161211776,
          1.4716853231546423
         ],
         "xaxis": "x2",
         "y": [
          2.522704934998984,
          3.4223993116175677,
          2.033859557892754,
          2.9509869106404096
         ],
         "yaxis": "y2"
        },
        {
         "hovertemplate": "<b>OLS trendline</b><br>value = 0.140586 * logRi + 2.97569<br>R<sup>2</sup>=0.804122<br><br>variable=ceilingMinusFloor<br>material_type=Light<br>logRi=%{x}<br>value=%{y} <b>(trend)</b><extra></extra>",
         "legendgroup": "ceilingMinusFloor",
         "marker": {
          "color": "#636efa",
          "symbol": "circle"
         },
         "mode": "lines",
         "name": "ceilingMinusFloor",
         "showlegend": false,
         "type": "scatter",
         "x": [
          -5.113377161211776,
          -4.8979806964440336,
          1.4716853231546423,
          1.6198875209768646
         ],
         "xaxis": "x2",
         "y": [
          2.2568240941746165,
          2.287105857667178,
          3.182592792144381,
          3.203427971163542
         ],
         "yaxis": "y2"
        },
        {
         "hovertemplate": "variable=outMinusFloor<br>material_type=Medium<br>logRi=%{x}<br>value=%{y}<extra></extra>",
         "legendgroup": "outMinusFloor",
         "marker": {
          "color": "#EF553B",
          "symbol": "circle"
         },
         "mode": "markers",
         "name": "outMinusFloor",
         "orientation": "v",
         "showlegend": true,
         "type": "scatter",
         "x": [
          null,
          -4.641381080302436,
          null,
          -4.86595070129731
         ],
         "xaxis": "x",
         "y": [
          null,
          0.7597884316160588,
          null,
          0.7426148203758061
         ],
         "yaxis": "y"
        },
        {
         "hovertemplate": "<b>OLS trendline</b><br>value = 0.0764734 * logRi + 1.11473<br>R<sup>2</sup>=1.000000<br><br>variable=outMinusFloor<br>material_type=Medium<br>logRi=%{x}<br>value=%{y} <b>(trend)</b><extra></extra>",
         "legendgroup": "outMinusFloor",
         "marker": {
          "color": "#EF553B",
          "symbol": "circle"
         },
         "mode": "lines",
         "name": "outMinusFloor",
         "showlegend": false,
         "type": "scatter",
         "x": [
          -4.86595070129731,
          -4.641381080302436
         ],
         "xaxis": "x",
         "y": [
          0.742614820375806,
          0.7597884316160588
         ],
         "yaxis": "y"
        },
        {
         "hovertemplate": "variable=outMinusFloor<br>material_type=Light<br>logRi=%{x}<br>value=%{y}<extra></extra>",
         "legendgroup": "outMinusFloor",
         "marker": {
          "color": "#EF553B",
          "symbol": "circle"
         },
         "mode": "markers",
         "name": "outMinusFloor",
         "orientation": "v",
         "showlegend": false,
         "type": "scatter",
         "x": [
          -4.8979806964440336,
          1.6198875209768646,
          -5.113377161211776,
          1.4716853231546423
         ],
         "xaxis": "x2",
         "y": [
          1.4712294497871738,
          1.5943571286132254,
          1.292871431410347,
          1.417696567841503
         ],
         "yaxis": "y2"
        },
        {
         "hovertemplate": "<b>OLS trendline</b><br>value = 0.0196603 * logRi + 1.47805<br>R<sup>2</sup>=0.354171<br><br>variable=outMinusFloor<br>material_type=Light<br>logRi=%{x}<br>value=%{y} <b>(trend)</b><extra></extra>",
         "legendgroup": "outMinusFloor",
         "marker": {
          "color": "#EF553B",
          "symbol": "circle"
         },
         "mode": "lines",
         "name": "outMinusFloor",
         "showlegend": false,
         "type": "scatter",
         "x": [
          -5.113377161211776,
          -4.8979806964440336,
          1.4716853231546423,
          1.6198875209768646
         ],
         "xaxis": "x2",
         "y": [
          1.3775192772707003,
          1.3817540427827997,
          1.5069837767641487,
          1.5098974808346013
         ],
         "yaxis": "y2"
        },
        {
         "hovertemplate": "variable=intWallMinusFloor<br>material_type=Medium<br>logRi=%{x}<br>value=%{y}<extra></extra>",
         "legendgroup": "intWallMinusFloor",
         "marker": {
          "color": "#00cc96",
          "symbol": "circle"
         },
         "mode": "markers",
         "name": "intWallMinusFloor",
         "orientation": "v",
         "showlegend": true,
         "type": "scatter",
         "x": [
          null,
          -4.641381080302436,
          null,
          -4.86595070129731
         ],
         "xaxis": "x",
         "y": [
          null,
          0.6478700394876142,
          null,
          0.6339873782655966
         ],
         "yaxis": "y"
        },
        {
         "hovertemplate": "<b>OLS trendline</b><br>value = 0.061819 * logRi + 0.934795<br>R<sup>2</sup>=1.000000<br><br>variable=intWallMinusFloor<br>material_type=Medium<br>logRi=%{x}<br>value=%{y} <b>(trend)</b><extra></extra>",
         "legendgroup": "intWallMinusFloor",
         "marker": {
          "color": "#00cc96",
          "symbol": "circle"
         },
         "mode": "lines",
         "name": "intWallMinusFloor",
         "showlegend": false,
         "type": "scatter",
         "x": [
          -4.86595070129731,
          -4.641381080302436
         ],
         "xaxis": "x",
         "y": [
          0.6339873782655964,
          0.6478700394876141
         ],
         "yaxis": "y"
        },
        {
         "hovertemplate": "variable=intWallMinusFloor<br>material_type=Light<br>logRi=%{x}<br>value=%{y}<extra></extra>",
         "legendgroup": "intWallMinusFloor",
         "marker": {
          "color": "#00cc96",
          "symbol": "circle"
         },
         "mode": "markers",
         "name": "intWallMinusFloor",
         "orientation": "v",
         "showlegend": false,
         "type": "scatter",
         "x": [
          -4.8979806964440336,
          1.6198875209768646,
          -5.113377161211776,
          1.4716853231546423
         ],
         "xaxis": "x2",
         "y": [
          1.1315326609964036,
          1.168692287508885,
          1.0896361848386722,
          1.061369837339484
         ],
         "yaxis": "y2"
        },
        {
         "hovertemplate": "<b>OLS trendline</b><br>value = 0.000968363 * logRi + 1.11448<br>R<sup>2</sup>=0.006051<br><br>variable=intWallMinusFloor<br>material_type=Light<br>logRi=%{x}<br>value=%{y} <b>(trend)</b><extra></extra>",
         "legendgroup": "intWallMinusFloor",
         "marker": {
          "color": "#00cc96",
          "symbol": "circle"
         },
         "mode": "lines",
         "name": "intWallMinusFloor",
         "showlegend": false,
         "type": "scatter",
         "x": [
          -5.113377161211776,
          -4.8979806964440336,
          1.4716853231546423,
          1.6198875209768646
         ],
         "xaxis": "x2",
         "y": [
          1.1095313526041553,
          1.10973993461951,
          1.1159080849507454,
          1.1160515985090347
         ],
         "yaxis": "y2"
        },
        {
         "hovertemplate": "variable=extWallMinusFloor<br>material_type=Medium<br>logRi=%{x}<br>value=%{y}<extra></extra>",
         "legendgroup": "extWallMinusFloor",
         "marker": {
          "color": "#ab63fa",
          "symbol": "circle"
         },
         "mode": "markers",
         "name": "extWallMinusFloor",
         "orientation": "v",
         "showlegend": true,
         "type": "scatter",
         "x": [
          null,
          -4.641381080302436,
          null,
          -4.86595070129731
         ],
         "xaxis": "x",
         "y": [
          null,
          1.1315124644235652,
          null,
          1.2796456901924813
         ],
         "yaxis": "y"
        },
        {
         "hovertemplate": "<b>OLS trendline</b><br>value = -0.659632 * logRi + -1.93009<br>R<sup>2</sup>=1.000000<br><br>variable=extWallMinusFloor<br>material_type=Medium<br>logRi=%{x}<br>value=%{y} <b>(trend)</b><extra></extra>",
         "legendgroup": "extWallMinusFloor",
         "marker": {
          "color": "#ab63fa",
          "symbol": "circle"
         },
         "mode": "lines",
         "name": "extWallMinusFloor",
         "showlegend": false,
         "type": "scatter",
         "x": [
          -4.86595070129731,
          -4.641381080302436
         ],
         "xaxis": "x",
         "y": [
          1.279645690192482,
          1.1315124644235661
         ],
         "yaxis": "y"
        },
        {
         "hovertemplate": "variable=extWallMinusFloor<br>material_type=Light<br>logRi=%{x}<br>value=%{y}<extra></extra>",
         "legendgroup": "extWallMinusFloor",
         "marker": {
          "color": "#ab63fa",
          "symbol": "circle"
         },
         "mode": "markers",
         "name": "extWallMinusFloor",
         "orientation": "v",
         "showlegend": false,
         "type": "scatter",
         "x": [
          -4.8979806964440336,
          1.6198875209768646,
          -5.113377161211776,
          1.4716853231546423
         ],
         "xaxis": "x2",
         "y": [
          2.233521985399861,
          2.0120267512377836,
          1.9490017213397124,
          1.8184807936677176
         ],
         "yaxis": "y2"
        },
        {
         "hovertemplate": "<b>OLS trendline</b><br>value = -0.0257969 * logRi + 1.95863<br>R<sup>2</sup>=0.316974<br><br>variable=extWallMinusFloor<br>material_type=Light<br>logRi=%{x}<br>value=%{y} <b>(trend)</b><extra></extra>",
         "legendgroup": "extWallMinusFloor",
         "marker": {
          "color": "#ab63fa",
          "symbol": "circle"
         },
         "mode": "lines",
         "name": "extWallMinusFloor",
         "showlegend": false,
         "type": "scatter",
         "x": [
          -5.113377161211776,
          -4.8979806964440336,
          1.4716853231546423,
          1.6198875209768646
         ],
         "xaxis": "x2",
         "y": [
          2.0905396886213916,
          2.0849831373045773,
          1.9206657881455076,
          1.916842637573599
         ],
         "yaxis": "y2"
        }
       ],
       "layout": {
        "annotations": [
         {
          "font": {},
          "showarrow": false,
          "text": "material_type=Medium",
          "x": 0.245,
          "xanchor": "center",
          "xref": "paper",
          "y": 1,
          "yanchor": "bottom",
          "yref": "paper"
         },
         {
          "font": {},
          "showarrow": false,
          "text": "material_type=Light",
          "x": 0.755,
          "xanchor": "center",
          "xref": "paper",
          "y": 1,
          "yanchor": "bottom",
          "yref": "paper"
         }
        ],
        "legend": {
         "title": {
          "text": "variable"
         },
         "tracegroupgap": 0
        },
        "margin": {
         "t": 60
        },
        "template": {
         "data": {
          "bar": [
           {
            "error_x": {
             "color": "#2a3f5f"
            },
            "error_y": {
             "color": "#2a3f5f"
            },
            "marker": {
             "line": {
              "color": "#E5ECF6",
              "width": 0.5
             },
             "pattern": {
              "fillmode": "overlay",
              "size": 10,
              "solidity": 0.2
             }
            },
            "type": "bar"
           }
          ],
          "barpolar": [
           {
            "marker": {
             "line": {
              "color": "#E5ECF6",
              "width": 0.5
             },
             "pattern": {
              "fillmode": "overlay",
              "size": 10,
              "solidity": 0.2
             }
            },
            "type": "barpolar"
           }
          ],
          "carpet": [
           {
            "aaxis": {
             "endlinecolor": "#2a3f5f",
             "gridcolor": "white",
             "linecolor": "white",
             "minorgridcolor": "white",
             "startlinecolor": "#2a3f5f"
            },
            "baxis": {
             "endlinecolor": "#2a3f5f",
             "gridcolor": "white",
             "linecolor": "white",
             "minorgridcolor": "white",
             "startlinecolor": "#2a3f5f"
            },
            "type": "carpet"
           }
          ],
          "choropleth": [
           {
            "colorbar": {
             "outlinewidth": 0,
             "ticks": ""
            },
            "type": "choropleth"
           }
          ],
          "contour": [
           {
            "colorbar": {
             "outlinewidth": 0,
             "ticks": ""
            },
            "colorscale": [
             [
              0,
              "#0d0887"
             ],
             [
              0.1111111111111111,
              "#46039f"
             ],
             [
              0.2222222222222222,
              "#7201a8"
             ],
             [
              0.3333333333333333,
              "#9c179e"
             ],
             [
              0.4444444444444444,
              "#bd3786"
             ],
             [
              0.5555555555555556,
              "#d8576b"
             ],
             [
              0.6666666666666666,
              "#ed7953"
             ],
             [
              0.7777777777777778,
              "#fb9f3a"
             ],
             [
              0.8888888888888888,
              "#fdca26"
             ],
             [
              1,
              "#f0f921"
             ]
            ],
            "type": "contour"
           }
          ],
          "contourcarpet": [
           {
            "colorbar": {
             "outlinewidth": 0,
             "ticks": ""
            },
            "type": "contourcarpet"
           }
          ],
          "heatmap": [
           {
            "colorbar": {
             "outlinewidth": 0,
             "ticks": ""
            },
            "colorscale": [
             [
              0,
              "#0d0887"
             ],
             [
              0.1111111111111111,
              "#46039f"
             ],
             [
              0.2222222222222222,
              "#7201a8"
             ],
             [
              0.3333333333333333,
              "#9c179e"
             ],
             [
              0.4444444444444444,
              "#bd3786"
             ],
             [
              0.5555555555555556,
              "#d8576b"
             ],
             [
              0.6666666666666666,
              "#ed7953"
             ],
             [
              0.7777777777777778,
              "#fb9f3a"
             ],
             [
              0.8888888888888888,
              "#fdca26"
             ],
             [
              1,
              "#f0f921"
             ]
            ],
            "type": "heatmap"
           }
          ],
          "heatmapgl": [
           {
            "colorbar": {
             "outlinewidth": 0,
             "ticks": ""
            },
            "colorscale": [
             [
              0,
              "#0d0887"
             ],
             [
              0.1111111111111111,
              "#46039f"
             ],
             [
              0.2222222222222222,
              "#7201a8"
             ],
             [
              0.3333333333333333,
              "#9c179e"
             ],
             [
              0.4444444444444444,
              "#bd3786"
             ],
             [
              0.5555555555555556,
              "#d8576b"
             ],
             [
              0.6666666666666666,
              "#ed7953"
             ],
             [
              0.7777777777777778,
              "#fb9f3a"
             ],
             [
              0.8888888888888888,
              "#fdca26"
             ],
             [
              1,
              "#f0f921"
             ]
            ],
            "type": "heatmapgl"
           }
          ],
          "histogram": [
           {
            "marker": {
             "pattern": {
              "fillmode": "overlay",
              "size": 10,
              "solidity": 0.2
             }
            },
            "type": "histogram"
           }
          ],
          "histogram2d": [
           {
            "colorbar": {
             "outlinewidth": 0,
             "ticks": ""
            },
            "colorscale": [
             [
              0,
              "#0d0887"
             ],
             [
              0.1111111111111111,
              "#46039f"
             ],
             [
              0.2222222222222222,
              "#7201a8"
             ],
             [
              0.3333333333333333,
              "#9c179e"
             ],
             [
              0.4444444444444444,
              "#bd3786"
             ],
             [
              0.5555555555555556,
              "#d8576b"
             ],
             [
              0.6666666666666666,
              "#ed7953"
             ],
             [
              0.7777777777777778,
              "#fb9f3a"
             ],
             [
              0.8888888888888888,
              "#fdca26"
             ],
             [
              1,
              "#f0f921"
             ]
            ],
            "type": "histogram2d"
           }
          ],
          "histogram2dcontour": [
           {
            "colorbar": {
             "outlinewidth": 0,
             "ticks": ""
            },
            "colorscale": [
             [
              0,
              "#0d0887"
             ],
             [
              0.1111111111111111,
              "#46039f"
             ],
             [
              0.2222222222222222,
              "#7201a8"
             ],
             [
              0.3333333333333333,
              "#9c179e"
             ],
             [
              0.4444444444444444,
              "#bd3786"
             ],
             [
              0.5555555555555556,
              "#d8576b"
             ],
             [
              0.6666666666666666,
              "#ed7953"
             ],
             [
              0.7777777777777778,
              "#fb9f3a"
             ],
             [
              0.8888888888888888,
              "#fdca26"
             ],
             [
              1,
              "#f0f921"
             ]
            ],
            "type": "histogram2dcontour"
           }
          ],
          "mesh3d": [
           {
            "colorbar": {
             "outlinewidth": 0,
             "ticks": ""
            },
            "type": "mesh3d"
           }
          ],
          "parcoords": [
           {
            "line": {
             "colorbar": {
              "outlinewidth": 0,
              "ticks": ""
             }
            },
            "type": "parcoords"
           }
          ],
          "pie": [
           {
            "automargin": true,
            "type": "pie"
           }
          ],
          "scatter": [
           {
            "fillpattern": {
             "fillmode": "overlay",
             "size": 10,
             "solidity": 0.2
            },
            "type": "scatter"
           }
          ],
          "scatter3d": [
           {
            "line": {
             "colorbar": {
              "outlinewidth": 0,
              "ticks": ""
             }
            },
            "marker": {
             "colorbar": {
              "outlinewidth": 0,
              "ticks": ""
             }
            },
            "type": "scatter3d"
           }
          ],
          "scattercarpet": [
           {
            "marker": {
             "colorbar": {
              "outlinewidth": 0,
              "ticks": ""
             }
            },
            "type": "scattercarpet"
           }
          ],
          "scattergeo": [
           {
            "marker": {
             "colorbar": {
              "outlinewidth": 0,
              "ticks": ""
             }
            },
            "type": "scattergeo"
           }
          ],
          "scattergl": [
           {
            "marker": {
             "colorbar": {
              "outlinewidth": 0,
              "ticks": ""
             }
            },
            "type": "scattergl"
           }
          ],
          "scattermapbox": [
           {
            "marker": {
             "colorbar": {
              "outlinewidth": 0,
              "ticks": ""
             }
            },
            "type": "scattermapbox"
           }
          ],
          "scatterpolar": [
           {
            "marker": {
             "colorbar": {
              "outlinewidth": 0,
              "ticks": ""
             }
            },
            "type": "scatterpolar"
           }
          ],
          "scatterpolargl": [
           {
            "marker": {
             "colorbar": {
              "outlinewidth": 0,
              "ticks": ""
             }
            },
            "type": "scatterpolargl"
           }
          ],
          "scatterternary": [
           {
            "marker": {
             "colorbar": {
              "outlinewidth": 0,
              "ticks": ""
             }
            },
            "type": "scatterternary"
           }
          ],
          "surface": [
           {
            "colorbar": {
             "outlinewidth": 0,
             "ticks": ""
            },
            "colorscale": [
             [
              0,
              "#0d0887"
             ],
             [
              0.1111111111111111,
              "#46039f"
             ],
             [
              0.2222222222222222,
              "#7201a8"
             ],
             [
              0.3333333333333333,
              "#9c179e"
             ],
             [
              0.4444444444444444,
              "#bd3786"
             ],
             [
              0.5555555555555556,
              "#d8576b"
             ],
             [
              0.6666666666666666,
              "#ed7953"
             ],
             [
              0.7777777777777778,
              "#fb9f3a"
             ],
             [
              0.8888888888888888,
              "#fdca26"
             ],
             [
              1,
              "#f0f921"
             ]
            ],
            "type": "surface"
           }
          ],
          "table": [
           {
            "cells": {
             "fill": {
              "color": "#EBF0F8"
             },
             "line": {
              "color": "white"
             }
            },
            "header": {
             "fill": {
              "color": "#C8D4E3"
             },
             "line": {
              "color": "white"
             }
            },
            "type": "table"
           }
          ]
         },
         "layout": {
          "annotationdefaults": {
           "arrowcolor": "#2a3f5f",
           "arrowhead": 0,
           "arrowwidth": 1
          },
          "autotypenumbers": "strict",
          "coloraxis": {
           "colorbar": {
            "outlinewidth": 0,
            "ticks": ""
           }
          },
          "colorscale": {
           "diverging": [
            [
             0,
             "#8e0152"
            ],
            [
             0.1,
             "#c51b7d"
            ],
            [
             0.2,
             "#de77ae"
            ],
            [
             0.3,
             "#f1b6da"
            ],
            [
             0.4,
             "#fde0ef"
            ],
            [
             0.5,
             "#f7f7f7"
            ],
            [
             0.6,
             "#e6f5d0"
            ],
            [
             0.7,
             "#b8e186"
            ],
            [
             0.8,
             "#7fbc41"
            ],
            [
             0.9,
             "#4d9221"
            ],
            [
             1,
             "#276419"
            ]
           ],
           "sequential": [
            [
             0,
             "#0d0887"
            ],
            [
             0.1111111111111111,
             "#46039f"
            ],
            [
             0.2222222222222222,
             "#7201a8"
            ],
            [
             0.3333333333333333,
             "#9c179e"
            ],
            [
             0.4444444444444444,
             "#bd3786"
            ],
            [
             0.5555555555555556,
             "#d8576b"
            ],
            [
             0.6666666666666666,
             "#ed7953"
            ],
            [
             0.7777777777777778,
             "#fb9f3a"
            ],
            [
             0.8888888888888888,
             "#fdca26"
            ],
            [
             1,
             "#f0f921"
            ]
           ],
           "sequentialminus": [
            [
             0,
             "#0d0887"
            ],
            [
             0.1111111111111111,
             "#46039f"
            ],
            [
             0.2222222222222222,
             "#7201a8"
            ],
            [
             0.3333333333333333,
             "#9c179e"
            ],
            [
             0.4444444444444444,
             "#bd3786"
            ],
            [
             0.5555555555555556,
             "#d8576b"
            ],
            [
             0.6666666666666666,
             "#ed7953"
            ],
            [
             0.7777777777777778,
             "#fb9f3a"
            ],
            [
             0.8888888888888888,
             "#fdca26"
            ],
            [
             1,
             "#f0f921"
            ]
           ]
          },
          "colorway": [
           "#636efa",
           "#EF553B",
           "#00cc96",
           "#ab63fa",
           "#FFA15A",
           "#19d3f3",
           "#FF6692",
           "#B6E880",
           "#FF97FF",
           "#FECB52"
          ],
          "font": {
           "color": "#2a3f5f"
          },
          "geo": {
           "bgcolor": "white",
           "lakecolor": "white",
           "landcolor": "#E5ECF6",
           "showlakes": true,
           "showland": true,
           "subunitcolor": "white"
          },
          "hoverlabel": {
           "align": "left"
          },
          "hovermode": "closest",
          "mapbox": {
           "style": "light"
          },
          "paper_bgcolor": "white",
          "plot_bgcolor": "#E5ECF6",
          "polar": {
           "angularaxis": {
            "gridcolor": "white",
            "linecolor": "white",
            "ticks": ""
           },
           "bgcolor": "#E5ECF6",
           "radialaxis": {
            "gridcolor": "white",
            "linecolor": "white",
            "ticks": ""
           }
          },
          "scene": {
           "xaxis": {
            "backgroundcolor": "#E5ECF6",
            "gridcolor": "white",
            "gridwidth": 2,
            "linecolor": "white",
            "showbackground": true,
            "ticks": "",
            "zerolinecolor": "white"
           },
           "yaxis": {
            "backgroundcolor": "#E5ECF6",
            "gridcolor": "white",
            "gridwidth": 2,
            "linecolor": "white",
            "showbackground": true,
            "ticks": "",
            "zerolinecolor": "white"
           },
           "zaxis": {
            "backgroundcolor": "#E5ECF6",
            "gridcolor": "white",
            "gridwidth": 2,
            "linecolor": "white",
            "showbackground": true,
            "ticks": "",
            "zerolinecolor": "white"
           }
          },
          "shapedefaults": {
           "line": {
            "color": "#2a3f5f"
           }
          },
          "ternary": {
           "aaxis": {
            "gridcolor": "white",
            "linecolor": "white",
            "ticks": ""
           },
           "baxis": {
            "gridcolor": "white",
            "linecolor": "white",
            "ticks": ""
           },
           "bgcolor": "#E5ECF6",
           "caxis": {
            "gridcolor": "white",
            "linecolor": "white",
            "ticks": ""
           }
          },
          "title": {
           "x": 0.05
          },
          "xaxis": {
           "automargin": true,
           "gridcolor": "white",
           "linecolor": "white",
           "ticks": "",
           "title": {
            "standoff": 15
           },
           "zerolinecolor": "white",
           "zerolinewidth": 2
          },
          "yaxis": {
           "automargin": true,
           "gridcolor": "white",
           "linecolor": "white",
           "ticks": "",
           "title": {
            "standoff": 15
           },
           "zerolinecolor": "white",
           "zerolinewidth": 2
          }
         }
        },
        "xaxis": {
         "anchor": "y",
         "domain": [
          0,
          0.49
         ],
         "title": {
          "text": "logRi"
         }
        },
        "xaxis2": {
         "anchor": "y2",
         "domain": [
          0.51,
          1
         ],
         "matches": "x",
         "title": {
          "text": "logRi"
         }
        },
        "yaxis": {
         "anchor": "x",
         "domain": [
          0,
          1
         ],
         "title": {
          "text": "value"
         }
        },
        "yaxis2": {
         "anchor": "x2",
         "domain": [
          0,
          1
         ],
         "matches": "y",
         "showticklabels": false
        }
       }
      }
     },
     "metadata": {},
     "output_type": "display_data"
    }
   ],
   "source": [
    "fig = px.scatter(dfFull, x=\"floorTempAdjustment\", y=qois, facet_col=\"material_type\", trendline=\"ols\")\n",
    "fig.show()\n",
    "fig = px.scatter(dfFull, x=\"hInterior\", y=qois, facet_col=\"material_type\", trendline=\"ols\")\n",
    "fig.show()\n",
    "fig = px.scatter(dfFull, x=\"alphaRoof\", y=qois, facet_col=\"material_type\", trendline=\"ols\")\n",
    "fig.show()\n",
    "fig = px.scatter(dfFull, x=\"day\", y=qois, facet_col=\"material_type\", trendline=\"ols\")\n",
    "fig.show()\n",
    "fig = px.scatter(dfFull, x=\"windSpeed\", y=qois, facet_col=\"material_type\", trendline=\"ols\")\n",
    "fig.show()\n",
    "fig = px.scatter(dfFull, x=\"wallRoughness\", y=qois, facet_col=\"material_type\", trendline=\"ols\")\n",
    "fig.show()\n",
    "fig = px.scatter(dfFull, x=\"hExterior\", y=qois, facet_col=\"material_type\", trendline=\"ols\")\n",
    "fig.show()\n",
    "fig = px.scatter(dfFull, x=\"logRi\", y=qois, facet_col=\"material_type\", trendline=\"ols\")\n",
    "fig.show()"
   ]
  },
  {
   "cell_type": "code",
   "execution_count": 70,
   "metadata": {},
   "outputs": [
    {
     "data": {
      "application/vnd.plotly.v1+json": {
       "config": {
        "plotlyServerURL": "https://plot.ly"
       },
       "data": [
        {
         "hovertemplate": "material_type=Medium<br>windSpeed=%{x}<br>logRi=%{y}<extra></extra>",
         "legendgroup": "Medium",
         "marker": {
          "color": "#636efa",
          "symbol": "circle"
         },
         "mode": "markers",
         "name": "Medium",
         "orientation": "v",
         "showlegend": true,
         "type": "scatter",
         "x": [
          3.322042455323831,
          3.6630758439315336,
          3.322042455323831,
          3.6630758439315336
         ],
         "xaxis": "x",
         "y": [
          null,
          -4.641381080302436,
          null,
          -4.86595070129731
         ],
         "yaxis": "y"
        },
        {
         "hovertemplate": "material_type=Light<br>windSpeed=%{x}<br>logRi=%{y}<extra></extra>",
         "legendgroup": "Light",
         "marker": {
          "color": "#636efa",
          "symbol": "diamond"
         },
         "mode": "markers",
         "name": "Light",
         "orientation": "v",
         "showlegend": true,
         "type": "scatter",
         "x": [
          5.932906966633126,
          0.2655599324509314,
          5.932906966633126,
          0.2655599324509314
         ],
         "xaxis": "x",
         "y": [
          -4.8979806964440336,
          1.6198875209768646,
          -5.113377161211776,
          1.4716853231546423
         ],
         "yaxis": "y"
        }
       ],
       "layout": {
        "legend": {
         "title": {
          "text": "material_type"
         },
         "tracegroupgap": 0
        },
        "margin": {
         "t": 60
        },
        "template": {
         "data": {
          "bar": [
           {
            "error_x": {
             "color": "#2a3f5f"
            },
            "error_y": {
             "color": "#2a3f5f"
            },
            "marker": {
             "line": {
              "color": "#E5ECF6",
              "width": 0.5
             },
             "pattern": {
              "fillmode": "overlay",
              "size": 10,
              "solidity": 0.2
             }
            },
            "type": "bar"
           }
          ],
          "barpolar": [
           {
            "marker": {
             "line": {
              "color": "#E5ECF6",
              "width": 0.5
             },
             "pattern": {
              "fillmode": "overlay",
              "size": 10,
              "solidity": 0.2
             }
            },
            "type": "barpolar"
           }
          ],
          "carpet": [
           {
            "aaxis": {
             "endlinecolor": "#2a3f5f",
             "gridcolor": "white",
             "linecolor": "white",
             "minorgridcolor": "white",
             "startlinecolor": "#2a3f5f"
            },
            "baxis": {
             "endlinecolor": "#2a3f5f",
             "gridcolor": "white",
             "linecolor": "white",
             "minorgridcolor": "white",
             "startlinecolor": "#2a3f5f"
            },
            "type": "carpet"
           }
          ],
          "choropleth": [
           {
            "colorbar": {
             "outlinewidth": 0,
             "ticks": ""
            },
            "type": "choropleth"
           }
          ],
          "contour": [
           {
            "colorbar": {
             "outlinewidth": 0,
             "ticks": ""
            },
            "colorscale": [
             [
              0,
              "#0d0887"
             ],
             [
              0.1111111111111111,
              "#46039f"
             ],
             [
              0.2222222222222222,
              "#7201a8"
             ],
             [
              0.3333333333333333,
              "#9c179e"
             ],
             [
              0.4444444444444444,
              "#bd3786"
             ],
             [
              0.5555555555555556,
              "#d8576b"
             ],
             [
              0.6666666666666666,
              "#ed7953"
             ],
             [
              0.7777777777777778,
              "#fb9f3a"
             ],
             [
              0.8888888888888888,
              "#fdca26"
             ],
             [
              1,
              "#f0f921"
             ]
            ],
            "type": "contour"
           }
          ],
          "contourcarpet": [
           {
            "colorbar": {
             "outlinewidth": 0,
             "ticks": ""
            },
            "type": "contourcarpet"
           }
          ],
          "heatmap": [
           {
            "colorbar": {
             "outlinewidth": 0,
             "ticks": ""
            },
            "colorscale": [
             [
              0,
              "#0d0887"
             ],
             [
              0.1111111111111111,
              "#46039f"
             ],
             [
              0.2222222222222222,
              "#7201a8"
             ],
             [
              0.3333333333333333,
              "#9c179e"
             ],
             [
              0.4444444444444444,
              "#bd3786"
             ],
             [
              0.5555555555555556,
              "#d8576b"
             ],
             [
              0.6666666666666666,
              "#ed7953"
             ],
             [
              0.7777777777777778,
              "#fb9f3a"
             ],
             [
              0.8888888888888888,
              "#fdca26"
             ],
             [
              1,
              "#f0f921"
             ]
            ],
            "type": "heatmap"
           }
          ],
          "heatmapgl": [
           {
            "colorbar": {
             "outlinewidth": 0,
             "ticks": ""
            },
            "colorscale": [
             [
              0,
              "#0d0887"
             ],
             [
              0.1111111111111111,
              "#46039f"
             ],
             [
              0.2222222222222222,
              "#7201a8"
             ],
             [
              0.3333333333333333,
              "#9c179e"
             ],
             [
              0.4444444444444444,
              "#bd3786"
             ],
             [
              0.5555555555555556,
              "#d8576b"
             ],
             [
              0.6666666666666666,
              "#ed7953"
             ],
             [
              0.7777777777777778,
              "#fb9f3a"
             ],
             [
              0.8888888888888888,
              "#fdca26"
             ],
             [
              1,
              "#f0f921"
             ]
            ],
            "type": "heatmapgl"
           }
          ],
          "histogram": [
           {
            "marker": {
             "pattern": {
              "fillmode": "overlay",
              "size": 10,
              "solidity": 0.2
             }
            },
            "type": "histogram"
           }
          ],
          "histogram2d": [
           {
            "colorbar": {
             "outlinewidth": 0,
             "ticks": ""
            },
            "colorscale": [
             [
              0,
              "#0d0887"
             ],
             [
              0.1111111111111111,
              "#46039f"
             ],
             [
              0.2222222222222222,
              "#7201a8"
             ],
             [
              0.3333333333333333,
              "#9c179e"
             ],
             [
              0.4444444444444444,
              "#bd3786"
             ],
             [
              0.5555555555555556,
              "#d8576b"
             ],
             [
              0.6666666666666666,
              "#ed7953"
             ],
             [
              0.7777777777777778,
              "#fb9f3a"
             ],
             [
              0.8888888888888888,
              "#fdca26"
             ],
             [
              1,
              "#f0f921"
             ]
            ],
            "type": "histogram2d"
           }
          ],
          "histogram2dcontour": [
           {
            "colorbar": {
             "outlinewidth": 0,
             "ticks": ""
            },
            "colorscale": [
             [
              0,
              "#0d0887"
             ],
             [
              0.1111111111111111,
              "#46039f"
             ],
             [
              0.2222222222222222,
              "#7201a8"
             ],
             [
              0.3333333333333333,
              "#9c179e"
             ],
             [
              0.4444444444444444,
              "#bd3786"
             ],
             [
              0.5555555555555556,
              "#d8576b"
             ],
             [
              0.6666666666666666,
              "#ed7953"
             ],
             [
              0.7777777777777778,
              "#fb9f3a"
             ],
             [
              0.8888888888888888,
              "#fdca26"
             ],
             [
              1,
              "#f0f921"
             ]
            ],
            "type": "histogram2dcontour"
           }
          ],
          "mesh3d": [
           {
            "colorbar": {
             "outlinewidth": 0,
             "ticks": ""
            },
            "type": "mesh3d"
           }
          ],
          "parcoords": [
           {
            "line": {
             "colorbar": {
              "outlinewidth": 0,
              "ticks": ""
             }
            },
            "type": "parcoords"
           }
          ],
          "pie": [
           {
            "automargin": true,
            "type": "pie"
           }
          ],
          "scatter": [
           {
            "fillpattern": {
             "fillmode": "overlay",
             "size": 10,
             "solidity": 0.2
            },
            "type": "scatter"
           }
          ],
          "scatter3d": [
           {
            "line": {
             "colorbar": {
              "outlinewidth": 0,
              "ticks": ""
             }
            },
            "marker": {
             "colorbar": {
              "outlinewidth": 0,
              "ticks": ""
             }
            },
            "type": "scatter3d"
           }
          ],
          "scattercarpet": [
           {
            "marker": {
             "colorbar": {
              "outlinewidth": 0,
              "ticks": ""
             }
            },
            "type": "scattercarpet"
           }
          ],
          "scattergeo": [
           {
            "marker": {
             "colorbar": {
              "outlinewidth": 0,
              "ticks": ""
             }
            },
            "type": "scattergeo"
           }
          ],
          "scattergl": [
           {
            "marker": {
             "colorbar": {
              "outlinewidth": 0,
              "ticks": ""
             }
            },
            "type": "scattergl"
           }
          ],
          "scattermapbox": [
           {
            "marker": {
             "colorbar": {
              "outlinewidth": 0,
              "ticks": ""
             }
            },
            "type": "scattermapbox"
           }
          ],
          "scatterpolar": [
           {
            "marker": {
             "colorbar": {
              "outlinewidth": 0,
              "ticks": ""
             }
            },
            "type": "scatterpolar"
           }
          ],
          "scatterpolargl": [
           {
            "marker": {
             "colorbar": {
              "outlinewidth": 0,
              "ticks": ""
             }
            },
            "type": "scatterpolargl"
           }
          ],
          "scatterternary": [
           {
            "marker": {
             "colorbar": {
              "outlinewidth": 0,
              "ticks": ""
             }
            },
            "type": "scatterternary"
           }
          ],
          "surface": [
           {
            "colorbar": {
             "outlinewidth": 0,
             "ticks": ""
            },
            "colorscale": [
             [
              0,
              "#0d0887"
             ],
             [
              0.1111111111111111,
              "#46039f"
             ],
             [
              0.2222222222222222,
              "#7201a8"
             ],
             [
              0.3333333333333333,
              "#9c179e"
             ],
             [
              0.4444444444444444,
              "#bd3786"
             ],
             [
              0.5555555555555556,
              "#d8576b"
             ],
             [
              0.6666666666666666,
              "#ed7953"
             ],
             [
              0.7777777777777778,
              "#fb9f3a"
             ],
             [
              0.8888888888888888,
              "#fdca26"
             ],
             [
              1,
              "#f0f921"
             ]
            ],
            "type": "surface"
           }
          ],
          "table": [
           {
            "cells": {
             "fill": {
              "color": "#EBF0F8"
             },
             "line": {
              "color": "white"
             }
            },
            "header": {
             "fill": {
              "color": "#C8D4E3"
             },
             "line": {
              "color": "white"
             }
            },
            "type": "table"
           }
          ]
         },
         "layout": {
          "annotationdefaults": {
           "arrowcolor": "#2a3f5f",
           "arrowhead": 0,
           "arrowwidth": 1
          },
          "autotypenumbers": "strict",
          "coloraxis": {
           "colorbar": {
            "outlinewidth": 0,
            "ticks": ""
           }
          },
          "colorscale": {
           "diverging": [
            [
             0,
             "#8e0152"
            ],
            [
             0.1,
             "#c51b7d"
            ],
            [
             0.2,
             "#de77ae"
            ],
            [
             0.3,
             "#f1b6da"
            ],
            [
             0.4,
             "#fde0ef"
            ],
            [
             0.5,
             "#f7f7f7"
            ],
            [
             0.6,
             "#e6f5d0"
            ],
            [
             0.7,
             "#b8e186"
            ],
            [
             0.8,
             "#7fbc41"
            ],
            [
             0.9,
             "#4d9221"
            ],
            [
             1,
             "#276419"
            ]
           ],
           "sequential": [
            [
             0,
             "#0d0887"
            ],
            [
             0.1111111111111111,
             "#46039f"
            ],
            [
             0.2222222222222222,
             "#7201a8"
            ],
            [
             0.3333333333333333,
             "#9c179e"
            ],
            [
             0.4444444444444444,
             "#bd3786"
            ],
            [
             0.5555555555555556,
             "#d8576b"
            ],
            [
             0.6666666666666666,
             "#ed7953"
            ],
            [
             0.7777777777777778,
             "#fb9f3a"
            ],
            [
             0.8888888888888888,
             "#fdca26"
            ],
            [
             1,
             "#f0f921"
            ]
           ],
           "sequentialminus": [
            [
             0,
             "#0d0887"
            ],
            [
             0.1111111111111111,
             "#46039f"
            ],
            [
             0.2222222222222222,
             "#7201a8"
            ],
            [
             0.3333333333333333,
             "#9c179e"
            ],
            [
             0.4444444444444444,
             "#bd3786"
            ],
            [
             0.5555555555555556,
             "#d8576b"
            ],
            [
             0.6666666666666666,
             "#ed7953"
            ],
            [
             0.7777777777777778,
             "#fb9f3a"
            ],
            [
             0.8888888888888888,
             "#fdca26"
            ],
            [
             1,
             "#f0f921"
            ]
           ]
          },
          "colorway": [
           "#636efa",
           "#EF553B",
           "#00cc96",
           "#ab63fa",
           "#FFA15A",
           "#19d3f3",
           "#FF6692",
           "#B6E880",
           "#FF97FF",
           "#FECB52"
          ],
          "font": {
           "color": "#2a3f5f"
          },
          "geo": {
           "bgcolor": "white",
           "lakecolor": "white",
           "landcolor": "#E5ECF6",
           "showlakes": true,
           "showland": true,
           "subunitcolor": "white"
          },
          "hoverlabel": {
           "align": "left"
          },
          "hovermode": "closest",
          "mapbox": {
           "style": "light"
          },
          "paper_bgcolor": "white",
          "plot_bgcolor": "#E5ECF6",
          "polar": {
           "angularaxis": {
            "gridcolor": "white",
            "linecolor": "white",
            "ticks": ""
           },
           "bgcolor": "#E5ECF6",
           "radialaxis": {
            "gridcolor": "white",
            "linecolor": "white",
            "ticks": ""
           }
          },
          "scene": {
           "xaxis": {
            "backgroundcolor": "#E5ECF6",
            "gridcolor": "white",
            "gridwidth": 2,
            "linecolor": "white",
            "showbackground": true,
            "ticks": "",
            "zerolinecolor": "white"
           },
           "yaxis": {
            "backgroundcolor": "#E5ECF6",
            "gridcolor": "white",
            "gridwidth": 2,
            "linecolor": "white",
            "showbackground": true,
            "ticks": "",
            "zerolinecolor": "white"
           },
           "zaxis": {
            "backgroundcolor": "#E5ECF6",
            "gridcolor": "white",
            "gridwidth": 2,
            "linecolor": "white",
            "showbackground": true,
            "ticks": "",
            "zerolinecolor": "white"
           }
          },
          "shapedefaults": {
           "line": {
            "color": "#2a3f5f"
           }
          },
          "ternary": {
           "aaxis": {
            "gridcolor": "white",
            "linecolor": "white",
            "ticks": ""
           },
           "baxis": {
            "gridcolor": "white",
            "linecolor": "white",
            "ticks": ""
           },
           "bgcolor": "#E5ECF6",
           "caxis": {
            "gridcolor": "white",
            "linecolor": "white",
            "ticks": ""
           }
          },
          "title": {
           "x": 0.05
          },
          "xaxis": {
           "automargin": true,
           "gridcolor": "white",
           "linecolor": "white",
           "ticks": "",
           "title": {
            "standoff": 15
           },
           "zerolinecolor": "white",
           "zerolinewidth": 2
          },
          "yaxis": {
           "automargin": true,
           "gridcolor": "white",
           "linecolor": "white",
           "ticks": "",
           "title": {
            "standoff": 15
           },
           "zerolinecolor": "white",
           "zerolinewidth": 2
          }
         }
        },
        "xaxis": {
         "anchor": "y",
         "domain": [
          0,
          1
         ],
         "title": {
          "text": "windSpeed"
         }
        },
        "yaxis": {
         "anchor": "x",
         "domain": [
          0,
          1
         ],
         "title": {
          "text": "logRi"
         }
        }
       }
      }
     },
     "metadata": {},
     "output_type": "display_data"
    },
    {
     "data": {
      "application/vnd.plotly.v1+json": {
       "config": {
        "plotlyServerURL": "https://plot.ly"
       },
       "data": [
        {
         "hovertemplate": "material_type=Medium<br>windSpeed=%{x}<br>Ri=%{y}<extra></extra>",
         "legendgroup": "Medium",
         "marker": {
          "color": "#636efa",
          "symbol": "circle"
         },
         "mode": "markers",
         "name": "Medium",
         "orientation": "v",
         "showlegend": true,
         "type": "scatter",
         "x": [
          3.322042455323831,
          3.6630758439315336,
          3.322042455323831,
          3.6630758439315336
         ],
         "xaxis": "x",
         "y": [
          null,
          0.009644368777802012,
          null,
          0.007704500030394689
         ],
         "yaxis": "y"
        },
        {
         "hovertemplate": "material_type=Light<br>windSpeed=%{x}<br>Ri=%{y}<extra></extra>",
         "legendgroup": "Light",
         "marker": {
          "color": "#636efa",
          "symbol": "diamond"
         },
         "mode": "markers",
         "name": "Light",
         "orientation": "v",
         "showlegend": true,
         "type": "scatter",
         "x": [
          5.932906966633126,
          5.932906966633126
         ],
         "xaxis": "x",
         "y": [
          0.007461635174868081,
          0.006015732481183071
         ],
         "yaxis": "y"
        }
       ],
       "layout": {
        "legend": {
         "title": {
          "text": "material_type"
         },
         "tracegroupgap": 0
        },
        "margin": {
         "t": 60
        },
        "template": {
         "data": {
          "bar": [
           {
            "error_x": {
             "color": "#2a3f5f"
            },
            "error_y": {
             "color": "#2a3f5f"
            },
            "marker": {
             "line": {
              "color": "#E5ECF6",
              "width": 0.5
             },
             "pattern": {
              "fillmode": "overlay",
              "size": 10,
              "solidity": 0.2
             }
            },
            "type": "bar"
           }
          ],
          "barpolar": [
           {
            "marker": {
             "line": {
              "color": "#E5ECF6",
              "width": 0.5
             },
             "pattern": {
              "fillmode": "overlay",
              "size": 10,
              "solidity": 0.2
             }
            },
            "type": "barpolar"
           }
          ],
          "carpet": [
           {
            "aaxis": {
             "endlinecolor": "#2a3f5f",
             "gridcolor": "white",
             "linecolor": "white",
             "minorgridcolor": "white",
             "startlinecolor": "#2a3f5f"
            },
            "baxis": {
             "endlinecolor": "#2a3f5f",
             "gridcolor": "white",
             "linecolor": "white",
             "minorgridcolor": "white",
             "startlinecolor": "#2a3f5f"
            },
            "type": "carpet"
           }
          ],
          "choropleth": [
           {
            "colorbar": {
             "outlinewidth": 0,
             "ticks": ""
            },
            "type": "choropleth"
           }
          ],
          "contour": [
           {
            "colorbar": {
             "outlinewidth": 0,
             "ticks": ""
            },
            "colorscale": [
             [
              0,
              "#0d0887"
             ],
             [
              0.1111111111111111,
              "#46039f"
             ],
             [
              0.2222222222222222,
              "#7201a8"
             ],
             [
              0.3333333333333333,
              "#9c179e"
             ],
             [
              0.4444444444444444,
              "#bd3786"
             ],
             [
              0.5555555555555556,
              "#d8576b"
             ],
             [
              0.6666666666666666,
              "#ed7953"
             ],
             [
              0.7777777777777778,
              "#fb9f3a"
             ],
             [
              0.8888888888888888,
              "#fdca26"
             ],
             [
              1,
              "#f0f921"
             ]
            ],
            "type": "contour"
           }
          ],
          "contourcarpet": [
           {
            "colorbar": {
             "outlinewidth": 0,
             "ticks": ""
            },
            "type": "contourcarpet"
           }
          ],
          "heatmap": [
           {
            "colorbar": {
             "outlinewidth": 0,
             "ticks": ""
            },
            "colorscale": [
             [
              0,
              "#0d0887"
             ],
             [
              0.1111111111111111,
              "#46039f"
             ],
             [
              0.2222222222222222,
              "#7201a8"
             ],
             [
              0.3333333333333333,
              "#9c179e"
             ],
             [
              0.4444444444444444,
              "#bd3786"
             ],
             [
              0.5555555555555556,
              "#d8576b"
             ],
             [
              0.6666666666666666,
              "#ed7953"
             ],
             [
              0.7777777777777778,
              "#fb9f3a"
             ],
             [
              0.8888888888888888,
              "#fdca26"
             ],
             [
              1,
              "#f0f921"
             ]
            ],
            "type": "heatmap"
           }
          ],
          "heatmapgl": [
           {
            "colorbar": {
             "outlinewidth": 0,
             "ticks": ""
            },
            "colorscale": [
             [
              0,
              "#0d0887"
             ],
             [
              0.1111111111111111,
              "#46039f"
             ],
             [
              0.2222222222222222,
              "#7201a8"
             ],
             [
              0.3333333333333333,
              "#9c179e"
             ],
             [
              0.4444444444444444,
              "#bd3786"
             ],
             [
              0.5555555555555556,
              "#d8576b"
             ],
             [
              0.6666666666666666,
              "#ed7953"
             ],
             [
              0.7777777777777778,
              "#fb9f3a"
             ],
             [
              0.8888888888888888,
              "#fdca26"
             ],
             [
              1,
              "#f0f921"
             ]
            ],
            "type": "heatmapgl"
           }
          ],
          "histogram": [
           {
            "marker": {
             "pattern": {
              "fillmode": "overlay",
              "size": 10,
              "solidity": 0.2
             }
            },
            "type": "histogram"
           }
          ],
          "histogram2d": [
           {
            "colorbar": {
             "outlinewidth": 0,
             "ticks": ""
            },
            "colorscale": [
             [
              0,
              "#0d0887"
             ],
             [
              0.1111111111111111,
              "#46039f"
             ],
             [
              0.2222222222222222,
              "#7201a8"
             ],
             [
              0.3333333333333333,
              "#9c179e"
             ],
             [
              0.4444444444444444,
              "#bd3786"
             ],
             [
              0.5555555555555556,
              "#d8576b"
             ],
             [
              0.6666666666666666,
              "#ed7953"
             ],
             [
              0.7777777777777778,
              "#fb9f3a"
             ],
             [
              0.8888888888888888,
              "#fdca26"
             ],
             [
              1,
              "#f0f921"
             ]
            ],
            "type": "histogram2d"
           }
          ],
          "histogram2dcontour": [
           {
            "colorbar": {
             "outlinewidth": 0,
             "ticks": ""
            },
            "colorscale": [
             [
              0,
              "#0d0887"
             ],
             [
              0.1111111111111111,
              "#46039f"
             ],
             [
              0.2222222222222222,
              "#7201a8"
             ],
             [
              0.3333333333333333,
              "#9c179e"
             ],
             [
              0.4444444444444444,
              "#bd3786"
             ],
             [
              0.5555555555555556,
              "#d8576b"
             ],
             [
              0.6666666666666666,
              "#ed7953"
             ],
             [
              0.7777777777777778,
              "#fb9f3a"
             ],
             [
              0.8888888888888888,
              "#fdca26"
             ],
             [
              1,
              "#f0f921"
             ]
            ],
            "type": "histogram2dcontour"
           }
          ],
          "mesh3d": [
           {
            "colorbar": {
             "outlinewidth": 0,
             "ticks": ""
            },
            "type": "mesh3d"
           }
          ],
          "parcoords": [
           {
            "line": {
             "colorbar": {
              "outlinewidth": 0,
              "ticks": ""
             }
            },
            "type": "parcoords"
           }
          ],
          "pie": [
           {
            "automargin": true,
            "type": "pie"
           }
          ],
          "scatter": [
           {
            "fillpattern": {
             "fillmode": "overlay",
             "size": 10,
             "solidity": 0.2
            },
            "type": "scatter"
           }
          ],
          "scatter3d": [
           {
            "line": {
             "colorbar": {
              "outlinewidth": 0,
              "ticks": ""
             }
            },
            "marker": {
             "colorbar": {
              "outlinewidth": 0,
              "ticks": ""
             }
            },
            "type": "scatter3d"
           }
          ],
          "scattercarpet": [
           {
            "marker": {
             "colorbar": {
              "outlinewidth": 0,
              "ticks": ""
             }
            },
            "type": "scattercarpet"
           }
          ],
          "scattergeo": [
           {
            "marker": {
             "colorbar": {
              "outlinewidth": 0,
              "ticks": ""
             }
            },
            "type": "scattergeo"
           }
          ],
          "scattergl": [
           {
            "marker": {
             "colorbar": {
              "outlinewidth": 0,
              "ticks": ""
             }
            },
            "type": "scattergl"
           }
          ],
          "scattermapbox": [
           {
            "marker": {
             "colorbar": {
              "outlinewidth": 0,
              "ticks": ""
             }
            },
            "type": "scattermapbox"
           }
          ],
          "scatterpolar": [
           {
            "marker": {
             "colorbar": {
              "outlinewidth": 0,
              "ticks": ""
             }
            },
            "type": "scatterpolar"
           }
          ],
          "scatterpolargl": [
           {
            "marker": {
             "colorbar": {
              "outlinewidth": 0,
              "ticks": ""
             }
            },
            "type": "scatterpolargl"
           }
          ],
          "scatterternary": [
           {
            "marker": {
             "colorbar": {
              "outlinewidth": 0,
              "ticks": ""
             }
            },
            "type": "scatterternary"
           }
          ],
          "surface": [
           {
            "colorbar": {
             "outlinewidth": 0,
             "ticks": ""
            },
            "colorscale": [
             [
              0,
              "#0d0887"
             ],
             [
              0.1111111111111111,
              "#46039f"
             ],
             [
              0.2222222222222222,
              "#7201a8"
             ],
             [
              0.3333333333333333,
              "#9c179e"
             ],
             [
              0.4444444444444444,
              "#bd3786"
             ],
             [
              0.5555555555555556,
              "#d8576b"
             ],
             [
              0.6666666666666666,
              "#ed7953"
             ],
             [
              0.7777777777777778,
              "#fb9f3a"
             ],
             [
              0.8888888888888888,
              "#fdca26"
             ],
             [
              1,
              "#f0f921"
             ]
            ],
            "type": "surface"
           }
          ],
          "table": [
           {
            "cells": {
             "fill": {
              "color": "#EBF0F8"
             },
             "line": {
              "color": "white"
             }
            },
            "header": {
             "fill": {
              "color": "#C8D4E3"
             },
             "line": {
              "color": "white"
             }
            },
            "type": "table"
           }
          ]
         },
         "layout": {
          "annotationdefaults": {
           "arrowcolor": "#2a3f5f",
           "arrowhead": 0,
           "arrowwidth": 1
          },
          "autotypenumbers": "strict",
          "coloraxis": {
           "colorbar": {
            "outlinewidth": 0,
            "ticks": ""
           }
          },
          "colorscale": {
           "diverging": [
            [
             0,
             "#8e0152"
            ],
            [
             0.1,
             "#c51b7d"
            ],
            [
             0.2,
             "#de77ae"
            ],
            [
             0.3,
             "#f1b6da"
            ],
            [
             0.4,
             "#fde0ef"
            ],
            [
             0.5,
             "#f7f7f7"
            ],
            [
             0.6,
             "#e6f5d0"
            ],
            [
             0.7,
             "#b8e186"
            ],
            [
             0.8,
             "#7fbc41"
            ],
            [
             0.9,
             "#4d9221"
            ],
            [
             1,
             "#276419"
            ]
           ],
           "sequential": [
            [
             0,
             "#0d0887"
            ],
            [
             0.1111111111111111,
             "#46039f"
            ],
            [
             0.2222222222222222,
             "#7201a8"
            ],
            [
             0.3333333333333333,
             "#9c179e"
            ],
            [
             0.4444444444444444,
             "#bd3786"
            ],
            [
             0.5555555555555556,
             "#d8576b"
            ],
            [
             0.6666666666666666,
             "#ed7953"
            ],
            [
             0.7777777777777778,
             "#fb9f3a"
            ],
            [
             0.8888888888888888,
             "#fdca26"
            ],
            [
             1,
             "#f0f921"
            ]
           ],
           "sequentialminus": [
            [
             0,
             "#0d0887"
            ],
            [
             0.1111111111111111,
             "#46039f"
            ],
            [
             0.2222222222222222,
             "#7201a8"
            ],
            [
             0.3333333333333333,
             "#9c179e"
            ],
            [
             0.4444444444444444,
             "#bd3786"
            ],
            [
             0.5555555555555556,
             "#d8576b"
            ],
            [
             0.6666666666666666,
             "#ed7953"
            ],
            [
             0.7777777777777778,
             "#fb9f3a"
            ],
            [
             0.8888888888888888,
             "#fdca26"
            ],
            [
             1,
             "#f0f921"
            ]
           ]
          },
          "colorway": [
           "#636efa",
           "#EF553B",
           "#00cc96",
           "#ab63fa",
           "#FFA15A",
           "#19d3f3",
           "#FF6692",
           "#B6E880",
           "#FF97FF",
           "#FECB52"
          ],
          "font": {
           "color": "#2a3f5f"
          },
          "geo": {
           "bgcolor": "white",
           "lakecolor": "white",
           "landcolor": "#E5ECF6",
           "showlakes": true,
           "showland": true,
           "subunitcolor": "white"
          },
          "hoverlabel": {
           "align": "left"
          },
          "hovermode": "closest",
          "mapbox": {
           "style": "light"
          },
          "paper_bgcolor": "white",
          "plot_bgcolor": "#E5ECF6",
          "polar": {
           "angularaxis": {
            "gridcolor": "white",
            "linecolor": "white",
            "ticks": ""
           },
           "bgcolor": "#E5ECF6",
           "radialaxis": {
            "gridcolor": "white",
            "linecolor": "white",
            "ticks": ""
           }
          },
          "scene": {
           "xaxis": {
            "backgroundcolor": "#E5ECF6",
            "gridcolor": "white",
            "gridwidth": 2,
            "linecolor": "white",
            "showbackground": true,
            "ticks": "",
            "zerolinecolor": "white"
           },
           "yaxis": {
            "backgroundcolor": "#E5ECF6",
            "gridcolor": "white",
            "gridwidth": 2,
            "linecolor": "white",
            "showbackground": true,
            "ticks": "",
            "zerolinecolor": "white"
           },
           "zaxis": {
            "backgroundcolor": "#E5ECF6",
            "gridcolor": "white",
            "gridwidth": 2,
            "linecolor": "white",
            "showbackground": true,
            "ticks": "",
            "zerolinecolor": "white"
           }
          },
          "shapedefaults": {
           "line": {
            "color": "#2a3f5f"
           }
          },
          "ternary": {
           "aaxis": {
            "gridcolor": "white",
            "linecolor": "white",
            "ticks": ""
           },
           "baxis": {
            "gridcolor": "white",
            "linecolor": "white",
            "ticks": ""
           },
           "bgcolor": "#E5ECF6",
           "caxis": {
            "gridcolor": "white",
            "linecolor": "white",
            "ticks": ""
           }
          },
          "title": {
           "x": 0.05
          },
          "xaxis": {
           "automargin": true,
           "gridcolor": "white",
           "linecolor": "white",
           "ticks": "",
           "title": {
            "standoff": 15
           },
           "zerolinecolor": "white",
           "zerolinewidth": 2
          },
          "yaxis": {
           "automargin": true,
           "gridcolor": "white",
           "linecolor": "white",
           "ticks": "",
           "title": {
            "standoff": 15
           },
           "zerolinecolor": "white",
           "zerolinewidth": 2
          }
         }
        },
        "xaxis": {
         "anchor": "y",
         "domain": [
          0,
          1
         ],
         "title": {
          "text": "windSpeed"
         }
        },
        "yaxis": {
         "anchor": "x",
         "domain": [
          0,
          1
         ],
         "title": {
          "text": "Ri"
         }
        }
       }
      }
     },
     "metadata": {},
     "output_type": "display_data"
    }
   ],
   "source": [
    "fig = px.scatter(dfFull, x=\"windSpeed\", y=\"logRi\", symbol=\"material_type\")\n",
    "fig.show()\n",
    "fig = px.scatter(dfFull.loc[dfFull[\"windSpeed\"] >= 2], x=\"windSpeed\", y=\"Ri\", symbol=\"material_type\")\n",
    "fig.show()"
   ]
  },
  {
   "cell_type": "code",
   "execution_count": 71,
   "metadata": {},
   "outputs": [
    {
     "data": {
      "application/vnd.plotly.v1+json": {
       "config": {
        "plotlyServerURL": "https://plot.ly"
       },
       "data": [
        {
         "hovertemplate": "material_type=Medium<br>outMinusFloor=%{x}<br>ceilingMinusFloor=%{y}<br>extWallMinusFloor=%{z}<br>windSpeed=%{marker.size}<br>intWallMinusFloor=%{marker.color}<extra></extra>",
         "legendgroup": "Medium",
         "marker": {
          "color": [
           null,
           0.6478700394876142,
           null,
           0.6339873782655966
          ],
          "coloraxis": "coloraxis",
          "size": [
           3.322042455323831,
           3.6630758439315336,
           3.322042455323831,
           3.6630758439315336
          ],
          "sizemode": "area",
          "sizeref": 0.014832267416582813,
          "symbol": "circle"
         },
         "mode": "markers",
         "name": "Medium",
         "scene": "scene",
         "showlegend": true,
         "type": "scatter3d",
         "x": [
          null,
          0.7597884316160588,
          null,
          0.7426148203758061
         ],
         "y": [
          null,
          1.2429767329758192,
          null,
          0.9929643398781992
         ],
         "z": [
          null,
          1.1315124644235652,
          null,
          1.2796456901924813
         ]
        },
        {
         "hovertemplate": "material_type=Light<br>outMinusFloor=%{x}<br>ceilingMinusFloor=%{y}<br>extWallMinusFloor=%{z}<br>windSpeed=%{marker.size}<br>intWallMinusFloor=%{marker.color}<extra></extra>",
         "legendgroup": "Light",
         "marker": {
          "color": [
           1.1315326609964036,
           1.168692287508885,
           1.0896361848386722,
           1.061369837339484
          ],
          "coloraxis": "coloraxis",
          "size": [
           5.932906966633126,
           0.2655599324509314,
           5.932906966633126,
           0.2655599324509314
          ],
          "sizemode": "area",
          "sizeref": 0.014832267416582813,
          "symbol": "diamond"
         },
         "mode": "markers",
         "name": "Light",
         "scene": "scene",
         "showlegend": true,
         "type": "scatter3d",
         "x": [
          1.4712294497871738,
          1.5943571286132254,
          1.292871431410347,
          1.417696567841503
         ],
         "y": [
          2.522704934998984,
          3.4223993116175677,
          2.033859557892754,
          2.9509869106404096
         ],
         "z": [
          2.233521985399861,
          2.0120267512377836,
          1.9490017213397124,
          1.8184807936677176
         ]
        }
       ],
       "layout": {
        "coloraxis": {
         "colorbar": {
          "title": {
           "text": "intWallMinusFloor"
          }
         },
         "colorscale": [
          [
           0,
           "#0d0887"
          ],
          [
           0.1111111111111111,
           "#46039f"
          ],
          [
           0.2222222222222222,
           "#7201a8"
          ],
          [
           0.3333333333333333,
           "#9c179e"
          ],
          [
           0.4444444444444444,
           "#bd3786"
          ],
          [
           0.5555555555555556,
           "#d8576b"
          ],
          [
           0.6666666666666666,
           "#ed7953"
          ],
          [
           0.7777777777777778,
           "#fb9f3a"
          ],
          [
           0.8888888888888888,
           "#fdca26"
          ],
          [
           1,
           "#f0f921"
          ]
         ]
        },
        "legend": {
         "itemsizing": "constant",
         "title": {
          "text": "material_type"
         },
         "tracegroupgap": 0
        },
        "margin": {
         "t": 60
        },
        "scene": {
         "domain": {
          "x": [
           0,
           1
          ],
          "y": [
           0,
           1
          ]
         },
         "xaxis": {
          "title": {
           "text": "outMinusFloor"
          }
         },
         "yaxis": {
          "title": {
           "text": "ceilingMinusFloor"
          }
         },
         "zaxis": {
          "title": {
           "text": "extWallMinusFloor"
          }
         }
        },
        "template": {
         "data": {
          "bar": [
           {
            "error_x": {
             "color": "#2a3f5f"
            },
            "error_y": {
             "color": "#2a3f5f"
            },
            "marker": {
             "line": {
              "color": "#E5ECF6",
              "width": 0.5
             },
             "pattern": {
              "fillmode": "overlay",
              "size": 10,
              "solidity": 0.2
             }
            },
            "type": "bar"
           }
          ],
          "barpolar": [
           {
            "marker": {
             "line": {
              "color": "#E5ECF6",
              "width": 0.5
             },
             "pattern": {
              "fillmode": "overlay",
              "size": 10,
              "solidity": 0.2
             }
            },
            "type": "barpolar"
           }
          ],
          "carpet": [
           {
            "aaxis": {
             "endlinecolor": "#2a3f5f",
             "gridcolor": "white",
             "linecolor": "white",
             "minorgridcolor": "white",
             "startlinecolor": "#2a3f5f"
            },
            "baxis": {
             "endlinecolor": "#2a3f5f",
             "gridcolor": "white",
             "linecolor": "white",
             "minorgridcolor": "white",
             "startlinecolor": "#2a3f5f"
            },
            "type": "carpet"
           }
          ],
          "choropleth": [
           {
            "colorbar": {
             "outlinewidth": 0,
             "ticks": ""
            },
            "type": "choropleth"
           }
          ],
          "contour": [
           {
            "colorbar": {
             "outlinewidth": 0,
             "ticks": ""
            },
            "colorscale": [
             [
              0,
              "#0d0887"
             ],
             [
              0.1111111111111111,
              "#46039f"
             ],
             [
              0.2222222222222222,
              "#7201a8"
             ],
             [
              0.3333333333333333,
              "#9c179e"
             ],
             [
              0.4444444444444444,
              "#bd3786"
             ],
             [
              0.5555555555555556,
              "#d8576b"
             ],
             [
              0.6666666666666666,
              "#ed7953"
             ],
             [
              0.7777777777777778,
              "#fb9f3a"
             ],
             [
              0.8888888888888888,
              "#fdca26"
             ],
             [
              1,
              "#f0f921"
             ]
            ],
            "type": "contour"
           }
          ],
          "contourcarpet": [
           {
            "colorbar": {
             "outlinewidth": 0,
             "ticks": ""
            },
            "type": "contourcarpet"
           }
          ],
          "heatmap": [
           {
            "colorbar": {
             "outlinewidth": 0,
             "ticks": ""
            },
            "colorscale": [
             [
              0,
              "#0d0887"
             ],
             [
              0.1111111111111111,
              "#46039f"
             ],
             [
              0.2222222222222222,
              "#7201a8"
             ],
             [
              0.3333333333333333,
              "#9c179e"
             ],
             [
              0.4444444444444444,
              "#bd3786"
             ],
             [
              0.5555555555555556,
              "#d8576b"
             ],
             [
              0.6666666666666666,
              "#ed7953"
             ],
             [
              0.7777777777777778,
              "#fb9f3a"
             ],
             [
              0.8888888888888888,
              "#fdca26"
             ],
             [
              1,
              "#f0f921"
             ]
            ],
            "type": "heatmap"
           }
          ],
          "heatmapgl": [
           {
            "colorbar": {
             "outlinewidth": 0,
             "ticks": ""
            },
            "colorscale": [
             [
              0,
              "#0d0887"
             ],
             [
              0.1111111111111111,
              "#46039f"
             ],
             [
              0.2222222222222222,
              "#7201a8"
             ],
             [
              0.3333333333333333,
              "#9c179e"
             ],
             [
              0.4444444444444444,
              "#bd3786"
             ],
             [
              0.5555555555555556,
              "#d8576b"
             ],
             [
              0.6666666666666666,
              "#ed7953"
             ],
             [
              0.7777777777777778,
              "#fb9f3a"
             ],
             [
              0.8888888888888888,
              "#fdca26"
             ],
             [
              1,
              "#f0f921"
             ]
            ],
            "type": "heatmapgl"
           }
          ],
          "histogram": [
           {
            "marker": {
             "pattern": {
              "fillmode": "overlay",
              "size": 10,
              "solidity": 0.2
             }
            },
            "type": "histogram"
           }
          ],
          "histogram2d": [
           {
            "colorbar": {
             "outlinewidth": 0,
             "ticks": ""
            },
            "colorscale": [
             [
              0,
              "#0d0887"
             ],
             [
              0.1111111111111111,
              "#46039f"
             ],
             [
              0.2222222222222222,
              "#7201a8"
             ],
             [
              0.3333333333333333,
              "#9c179e"
             ],
             [
              0.4444444444444444,
              "#bd3786"
             ],
             [
              0.5555555555555556,
              "#d8576b"
             ],
             [
              0.6666666666666666,
              "#ed7953"
             ],
             [
              0.7777777777777778,
              "#fb9f3a"
             ],
             [
              0.8888888888888888,
              "#fdca26"
             ],
             [
              1,
              "#f0f921"
             ]
            ],
            "type": "histogram2d"
           }
          ],
          "histogram2dcontour": [
           {
            "colorbar": {
             "outlinewidth": 0,
             "ticks": ""
            },
            "colorscale": [
             [
              0,
              "#0d0887"
             ],
             [
              0.1111111111111111,
              "#46039f"
             ],
             [
              0.2222222222222222,
              "#7201a8"
             ],
             [
              0.3333333333333333,
              "#9c179e"
             ],
             [
              0.4444444444444444,
              "#bd3786"
             ],
             [
              0.5555555555555556,
              "#d8576b"
             ],
             [
              0.6666666666666666,
              "#ed7953"
             ],
             [
              0.7777777777777778,
              "#fb9f3a"
             ],
             [
              0.8888888888888888,
              "#fdca26"
             ],
             [
              1,
              "#f0f921"
             ]
            ],
            "type": "histogram2dcontour"
           }
          ],
          "mesh3d": [
           {
            "colorbar": {
             "outlinewidth": 0,
             "ticks": ""
            },
            "type": "mesh3d"
           }
          ],
          "parcoords": [
           {
            "line": {
             "colorbar": {
              "outlinewidth": 0,
              "ticks": ""
             }
            },
            "type": "parcoords"
           }
          ],
          "pie": [
           {
            "automargin": true,
            "type": "pie"
           }
          ],
          "scatter": [
           {
            "fillpattern": {
             "fillmode": "overlay",
             "size": 10,
             "solidity": 0.2
            },
            "type": "scatter"
           }
          ],
          "scatter3d": [
           {
            "line": {
             "colorbar": {
              "outlinewidth": 0,
              "ticks": ""
             }
            },
            "marker": {
             "colorbar": {
              "outlinewidth": 0,
              "ticks": ""
             }
            },
            "type": "scatter3d"
           }
          ],
          "scattercarpet": [
           {
            "marker": {
             "colorbar": {
              "outlinewidth": 0,
              "ticks": ""
             }
            },
            "type": "scattercarpet"
           }
          ],
          "scattergeo": [
           {
            "marker": {
             "colorbar": {
              "outlinewidth": 0,
              "ticks": ""
             }
            },
            "type": "scattergeo"
           }
          ],
          "scattergl": [
           {
            "marker": {
             "colorbar": {
              "outlinewidth": 0,
              "ticks": ""
             }
            },
            "type": "scattergl"
           }
          ],
          "scattermapbox": [
           {
            "marker": {
             "colorbar": {
              "outlinewidth": 0,
              "ticks": ""
             }
            },
            "type": "scattermapbox"
           }
          ],
          "scatterpolar": [
           {
            "marker": {
             "colorbar": {
              "outlinewidth": 0,
              "ticks": ""
             }
            },
            "type": "scatterpolar"
           }
          ],
          "scatterpolargl": [
           {
            "marker": {
             "colorbar": {
              "outlinewidth": 0,
              "ticks": ""
             }
            },
            "type": "scatterpolargl"
           }
          ],
          "scatterternary": [
           {
            "marker": {
             "colorbar": {
              "outlinewidth": 0,
              "ticks": ""
             }
            },
            "type": "scatterternary"
           }
          ],
          "surface": [
           {
            "colorbar": {
             "outlinewidth": 0,
             "ticks": ""
            },
            "colorscale": [
             [
              0,
              "#0d0887"
             ],
             [
              0.1111111111111111,
              "#46039f"
             ],
             [
              0.2222222222222222,
              "#7201a8"
             ],
             [
              0.3333333333333333,
              "#9c179e"
             ],
             [
              0.4444444444444444,
              "#bd3786"
             ],
             [
              0.5555555555555556,
              "#d8576b"
             ],
             [
              0.6666666666666666,
              "#ed7953"
             ],
             [
              0.7777777777777778,
              "#fb9f3a"
             ],
             [
              0.8888888888888888,
              "#fdca26"
             ],
             [
              1,
              "#f0f921"
             ]
            ],
            "type": "surface"
           }
          ],
          "table": [
           {
            "cells": {
             "fill": {
              "color": "#EBF0F8"
             },
             "line": {
              "color": "white"
             }
            },
            "header": {
             "fill": {
              "color": "#C8D4E3"
             },
             "line": {
              "color": "white"
             }
            },
            "type": "table"
           }
          ]
         },
         "layout": {
          "annotationdefaults": {
           "arrowcolor": "#2a3f5f",
           "arrowhead": 0,
           "arrowwidth": 1
          },
          "autotypenumbers": "strict",
          "coloraxis": {
           "colorbar": {
            "outlinewidth": 0,
            "ticks": ""
           }
          },
          "colorscale": {
           "diverging": [
            [
             0,
             "#8e0152"
            ],
            [
             0.1,
             "#c51b7d"
            ],
            [
             0.2,
             "#de77ae"
            ],
            [
             0.3,
             "#f1b6da"
            ],
            [
             0.4,
             "#fde0ef"
            ],
            [
             0.5,
             "#f7f7f7"
            ],
            [
             0.6,
             "#e6f5d0"
            ],
            [
             0.7,
             "#b8e186"
            ],
            [
             0.8,
             "#7fbc41"
            ],
            [
             0.9,
             "#4d9221"
            ],
            [
             1,
             "#276419"
            ]
           ],
           "sequential": [
            [
             0,
             "#0d0887"
            ],
            [
             0.1111111111111111,
             "#46039f"
            ],
            [
             0.2222222222222222,
             "#7201a8"
            ],
            [
             0.3333333333333333,
             "#9c179e"
            ],
            [
             0.4444444444444444,
             "#bd3786"
            ],
            [
             0.5555555555555556,
             "#d8576b"
            ],
            [
             0.6666666666666666,
             "#ed7953"
            ],
            [
             0.7777777777777778,
             "#fb9f3a"
            ],
            [
             0.8888888888888888,
             "#fdca26"
            ],
            [
             1,
             "#f0f921"
            ]
           ],
           "sequentialminus": [
            [
             0,
             "#0d0887"
            ],
            [
             0.1111111111111111,
             "#46039f"
            ],
            [
             0.2222222222222222,
             "#7201a8"
            ],
            [
             0.3333333333333333,
             "#9c179e"
            ],
            [
             0.4444444444444444,
             "#bd3786"
            ],
            [
             0.5555555555555556,
             "#d8576b"
            ],
            [
             0.6666666666666666,
             "#ed7953"
            ],
            [
             0.7777777777777778,
             "#fb9f3a"
            ],
            [
             0.8888888888888888,
             "#fdca26"
            ],
            [
             1,
             "#f0f921"
            ]
           ]
          },
          "colorway": [
           "#636efa",
           "#EF553B",
           "#00cc96",
           "#ab63fa",
           "#FFA15A",
           "#19d3f3",
           "#FF6692",
           "#B6E880",
           "#FF97FF",
           "#FECB52"
          ],
          "font": {
           "color": "#2a3f5f"
          },
          "geo": {
           "bgcolor": "white",
           "lakecolor": "white",
           "landcolor": "#E5ECF6",
           "showlakes": true,
           "showland": true,
           "subunitcolor": "white"
          },
          "hoverlabel": {
           "align": "left"
          },
          "hovermode": "closest",
          "mapbox": {
           "style": "light"
          },
          "paper_bgcolor": "white",
          "plot_bgcolor": "#E5ECF6",
          "polar": {
           "angularaxis": {
            "gridcolor": "white",
            "linecolor": "white",
            "ticks": ""
           },
           "bgcolor": "#E5ECF6",
           "radialaxis": {
            "gridcolor": "white",
            "linecolor": "white",
            "ticks": ""
           }
          },
          "scene": {
           "xaxis": {
            "backgroundcolor": "#E5ECF6",
            "gridcolor": "white",
            "gridwidth": 2,
            "linecolor": "white",
            "showbackground": true,
            "ticks": "",
            "zerolinecolor": "white"
           },
           "yaxis": {
            "backgroundcolor": "#E5ECF6",
            "gridcolor": "white",
            "gridwidth": 2,
            "linecolor": "white",
            "showbackground": true,
            "ticks": "",
            "zerolinecolor": "white"
           },
           "zaxis": {
            "backgroundcolor": "#E5ECF6",
            "gridcolor": "white",
            "gridwidth": 2,
            "linecolor": "white",
            "showbackground": true,
            "ticks": "",
            "zerolinecolor": "white"
           }
          },
          "shapedefaults": {
           "line": {
            "color": "#2a3f5f"
           }
          },
          "ternary": {
           "aaxis": {
            "gridcolor": "white",
            "linecolor": "white",
            "ticks": ""
           },
           "baxis": {
            "gridcolor": "white",
            "linecolor": "white",
            "ticks": ""
           },
           "bgcolor": "#E5ECF6",
           "caxis": {
            "gridcolor": "white",
            "linecolor": "white",
            "ticks": ""
           }
          },
          "title": {
           "x": 0.05
          },
          "xaxis": {
           "automargin": true,
           "gridcolor": "white",
           "linecolor": "white",
           "ticks": "",
           "title": {
            "standoff": 15
           },
           "zerolinecolor": "white",
           "zerolinewidth": 2
          },
          "yaxis": {
           "automargin": true,
           "gridcolor": "white",
           "linecolor": "white",
           "ticks": "",
           "title": {
            "standoff": 15
           },
           "zerolinecolor": "white",
           "zerolinewidth": 2
          }
         }
        }
       }
      }
     },
     "metadata": {},
     "output_type": "display_data"
    }
   ],
   "source": [
    "fig = px.scatter_3d(dfFull, x=\"outMinusFloor\", y=\"ceilingMinusFloor\", z=\"extWallMinusFloor\", color=\"intWallMinusFloor\", symbol=\"material_type\", size = \"windSpeed\")\n",
    "fig.show()\n",
    "\n",
    "# fig = px.scatter(dfFull, x=\"outMinusFloor\", y=\"ceilingMinusFloor\", color=\"intWallMinusFloor\", symbol=\"material_type\",  size = \"windSpeed\")\n",
    "# fig.show()\n",
    "# fig = px.scatter(dfFull, x=\"outMinusFloor\", y=\"extWallMinusFloor\", color=\"intWallMinusFloor\", symbol=\"material_type\",  size = \"windSpeed\")\n",
    "# fig.show()\n",
    "# fig = px.scatter(dfFull, x=\"ceilingMinusFloor\", y=\"extWallMinusFloor\", color=\"intWallMinusFloor\", symbol=\"material_type\",  size = \"windSpeed\")\n",
    "# fig.show()"
   ]
  },
  {
   "cell_type": "code",
   "execution_count": 72,
   "metadata": {},
   "outputs": [
    {
     "data": {
      "text/plain": [
       "array([8.18732131, 0.87758242, 0.09350177, 0.00997641])"
      ]
     },
     "execution_count": 72,
     "metadata": {},
     "output_type": "execute_result"
    }
   ],
   "source": [
    "qoiX = dfFull.dropna()[qois]\n",
    "U, S, V = np.linalg.svd(qoiX)\n",
    "S"
   ]
  },
  {
   "cell_type": "code",
   "execution_count": 73,
   "metadata": {},
   "outputs": [
    {
     "data": {
      "text/html": [
       "<div>\n",
       "<style scoped>\n",
       "    .dataframe tbody tr th:only-of-type {\n",
       "        vertical-align: middle;\n",
       "    }\n",
       "\n",
       "    .dataframe tbody tr th {\n",
       "        vertical-align: top;\n",
       "    }\n",
       "\n",
       "    .dataframe thead th {\n",
       "        text-align: right;\n",
       "    }\n",
       "</style>\n",
       "<table border=\"1\" class=\"dataframe\">\n",
       "  <thead>\n",
       "    <tr style=\"text-align: right;\">\n",
       "      <th></th>\n",
       "      <th>0</th>\n",
       "      <th>1</th>\n",
       "    </tr>\n",
       "  </thead>\n",
       "  <tbody>\n",
       "    <tr>\n",
       "      <th>1</th>\n",
       "      <td>-3.837193</td>\n",
       "      <td>-0.263605</td>\n",
       "    </tr>\n",
       "    <tr>\n",
       "      <th>2</th>\n",
       "      <td>-1.946580</td>\n",
       "      <td>-0.177860</td>\n",
       "    </tr>\n",
       "    <tr>\n",
       "      <th>3</th>\n",
       "      <td>-4.409566</td>\n",
       "      <td>0.473913</td>\n",
       "    </tr>\n",
       "    <tr>\n",
       "      <th>5</th>\n",
       "      <td>-3.264002</td>\n",
       "      <td>-0.370808</td>\n",
       "    </tr>\n",
       "    <tr>\n",
       "      <th>6</th>\n",
       "      <td>-1.838643</td>\n",
       "      <td>-0.442637</td>\n",
       "    </tr>\n",
       "    <tr>\n",
       "      <th>7</th>\n",
       "      <td>-3.878198</td>\n",
       "      <td>0.333181</td>\n",
       "    </tr>\n",
       "  </tbody>\n",
       "</table>\n",
       "</div>"
      ],
      "text/plain": [
       "          0         1\n",
       "1 -3.837193 -0.263605\n",
       "2 -1.946580 -0.177860\n",
       "3 -4.409566  0.473913\n",
       "5 -3.264002 -0.370808\n",
       "6 -1.838643 -0.442637\n",
       "7 -3.878198  0.333181"
      ]
     },
     "execution_count": 73,
     "metadata": {},
     "output_type": "execute_result"
    }
   ],
   "source": [
    "qoiX @ V[0:2,:].T"
   ]
  },
  {
   "cell_type": "code",
   "execution_count": 74,
   "metadata": {},
   "outputs": [
    {
     "data": {
      "application/vnd.plotly.v1+json": {
       "config": {
        "plotlyServerURL": "https://plot.ly"
       },
       "data": [
        {
         "hovertemplate": "0=%{x}<br>1=%{y}<br>2=%{z}<br>3=%{marker.color}<extra></extra>",
         "legendgroup": "",
         "marker": {
          "color": [
           -0.0032460798401089076,
           0.004582191138593992,
           0.001830492560307965,
           -0.0050059887854786616,
           0.006291331061973377,
           0.00006100786818245326
          ],
          "coloraxis": "coloraxis",
          "symbol": "circle"
         },
         "mode": "markers",
         "name": "",
         "scene": "scene",
         "showlegend": false,
         "type": "scatter3d",
         "x": [
          -3.8371932680756586,
          -1.9465802618014543,
          -4.409565854211033,
          -3.264001881341025,
          -1.838642972385384,
          -3.878197524042473
         ],
         "y": [
          -0.26360549249738635,
          -0.17785954315318303,
          0.47391266088180134,
          -0.37080767391235336,
          -0.44263723549838424,
          0.33318127548464965
         ],
         "z": [
          0.06318493397285807,
          -0.03867732600753185,
          0.004174784839228607,
          -0.052766392049471686,
          0.01768493543861687,
          -0.011825068638359927
         ]
        }
       ],
       "layout": {
        "coloraxis": {
         "colorbar": {
          "title": {
           "text": "3"
          }
         },
         "colorscale": [
          [
           0,
           "#0d0887"
          ],
          [
           0.1111111111111111,
           "#46039f"
          ],
          [
           0.2222222222222222,
           "#7201a8"
          ],
          [
           0.3333333333333333,
           "#9c179e"
          ],
          [
           0.4444444444444444,
           "#bd3786"
          ],
          [
           0.5555555555555556,
           "#d8576b"
          ],
          [
           0.6666666666666666,
           "#ed7953"
          ],
          [
           0.7777777777777778,
           "#fb9f3a"
          ],
          [
           0.8888888888888888,
           "#fdca26"
          ],
          [
           1,
           "#f0f921"
          ]
         ]
        },
        "legend": {
         "tracegroupgap": 0
        },
        "margin": {
         "t": 60
        },
        "scene": {
         "domain": {
          "x": [
           0,
           1
          ],
          "y": [
           0,
           1
          ]
         },
         "xaxis": {
          "title": {
           "text": "0"
          }
         },
         "yaxis": {
          "title": {
           "text": "1"
          }
         },
         "zaxis": {
          "title": {
           "text": "2"
          }
         }
        },
        "template": {
         "data": {
          "bar": [
           {
            "error_x": {
             "color": "#2a3f5f"
            },
            "error_y": {
             "color": "#2a3f5f"
            },
            "marker": {
             "line": {
              "color": "#E5ECF6",
              "width": 0.5
             },
             "pattern": {
              "fillmode": "overlay",
              "size": 10,
              "solidity": 0.2
             }
            },
            "type": "bar"
           }
          ],
          "barpolar": [
           {
            "marker": {
             "line": {
              "color": "#E5ECF6",
              "width": 0.5
             },
             "pattern": {
              "fillmode": "overlay",
              "size": 10,
              "solidity": 0.2
             }
            },
            "type": "barpolar"
           }
          ],
          "carpet": [
           {
            "aaxis": {
             "endlinecolor": "#2a3f5f",
             "gridcolor": "white",
             "linecolor": "white",
             "minorgridcolor": "white",
             "startlinecolor": "#2a3f5f"
            },
            "baxis": {
             "endlinecolor": "#2a3f5f",
             "gridcolor": "white",
             "linecolor": "white",
             "minorgridcolor": "white",
             "startlinecolor": "#2a3f5f"
            },
            "type": "carpet"
           }
          ],
          "choropleth": [
           {
            "colorbar": {
             "outlinewidth": 0,
             "ticks": ""
            },
            "type": "choropleth"
           }
          ],
          "contour": [
           {
            "colorbar": {
             "outlinewidth": 0,
             "ticks": ""
            },
            "colorscale": [
             [
              0,
              "#0d0887"
             ],
             [
              0.1111111111111111,
              "#46039f"
             ],
             [
              0.2222222222222222,
              "#7201a8"
             ],
             [
              0.3333333333333333,
              "#9c179e"
             ],
             [
              0.4444444444444444,
              "#bd3786"
             ],
             [
              0.5555555555555556,
              "#d8576b"
             ],
             [
              0.6666666666666666,
              "#ed7953"
             ],
             [
              0.7777777777777778,
              "#fb9f3a"
             ],
             [
              0.8888888888888888,
              "#fdca26"
             ],
             [
              1,
              "#f0f921"
             ]
            ],
            "type": "contour"
           }
          ],
          "contourcarpet": [
           {
            "colorbar": {
             "outlinewidth": 0,
             "ticks": ""
            },
            "type": "contourcarpet"
           }
          ],
          "heatmap": [
           {
            "colorbar": {
             "outlinewidth": 0,
             "ticks": ""
            },
            "colorscale": [
             [
              0,
              "#0d0887"
             ],
             [
              0.1111111111111111,
              "#46039f"
             ],
             [
              0.2222222222222222,
              "#7201a8"
             ],
             [
              0.3333333333333333,
              "#9c179e"
             ],
             [
              0.4444444444444444,
              "#bd3786"
             ],
             [
              0.5555555555555556,
              "#d8576b"
             ],
             [
              0.6666666666666666,
              "#ed7953"
             ],
             [
              0.7777777777777778,
              "#fb9f3a"
             ],
             [
              0.8888888888888888,
              "#fdca26"
             ],
             [
              1,
              "#f0f921"
             ]
            ],
            "type": "heatmap"
           }
          ],
          "heatmapgl": [
           {
            "colorbar": {
             "outlinewidth": 0,
             "ticks": ""
            },
            "colorscale": [
             [
              0,
              "#0d0887"
             ],
             [
              0.1111111111111111,
              "#46039f"
             ],
             [
              0.2222222222222222,
              "#7201a8"
             ],
             [
              0.3333333333333333,
              "#9c179e"
             ],
             [
              0.4444444444444444,
              "#bd3786"
             ],
             [
              0.5555555555555556,
              "#d8576b"
             ],
             [
              0.6666666666666666,
              "#ed7953"
             ],
             [
              0.7777777777777778,
              "#fb9f3a"
             ],
             [
              0.8888888888888888,
              "#fdca26"
             ],
             [
              1,
              "#f0f921"
             ]
            ],
            "type": "heatmapgl"
           }
          ],
          "histogram": [
           {
            "marker": {
             "pattern": {
              "fillmode": "overlay",
              "size": 10,
              "solidity": 0.2
             }
            },
            "type": "histogram"
           }
          ],
          "histogram2d": [
           {
            "colorbar": {
             "outlinewidth": 0,
             "ticks": ""
            },
            "colorscale": [
             [
              0,
              "#0d0887"
             ],
             [
              0.1111111111111111,
              "#46039f"
             ],
             [
              0.2222222222222222,
              "#7201a8"
             ],
             [
              0.3333333333333333,
              "#9c179e"
             ],
             [
              0.4444444444444444,
              "#bd3786"
             ],
             [
              0.5555555555555556,
              "#d8576b"
             ],
             [
              0.6666666666666666,
              "#ed7953"
             ],
             [
              0.7777777777777778,
              "#fb9f3a"
             ],
             [
              0.8888888888888888,
              "#fdca26"
             ],
             [
              1,
              "#f0f921"
             ]
            ],
            "type": "histogram2d"
           }
          ],
          "histogram2dcontour": [
           {
            "colorbar": {
             "outlinewidth": 0,
             "ticks": ""
            },
            "colorscale": [
             [
              0,
              "#0d0887"
             ],
             [
              0.1111111111111111,
              "#46039f"
             ],
             [
              0.2222222222222222,
              "#7201a8"
             ],
             [
              0.3333333333333333,
              "#9c179e"
             ],
             [
              0.4444444444444444,
              "#bd3786"
             ],
             [
              0.5555555555555556,
              "#d8576b"
             ],
             [
              0.6666666666666666,
              "#ed7953"
             ],
             [
              0.7777777777777778,
              "#fb9f3a"
             ],
             [
              0.8888888888888888,
              "#fdca26"
             ],
             [
              1,
              "#f0f921"
             ]
            ],
            "type": "histogram2dcontour"
           }
          ],
          "mesh3d": [
           {
            "colorbar": {
             "outlinewidth": 0,
             "ticks": ""
            },
            "type": "mesh3d"
           }
          ],
          "parcoords": [
           {
            "line": {
             "colorbar": {
              "outlinewidth": 0,
              "ticks": ""
             }
            },
            "type": "parcoords"
           }
          ],
          "pie": [
           {
            "automargin": true,
            "type": "pie"
           }
          ],
          "scatter": [
           {
            "fillpattern": {
             "fillmode": "overlay",
             "size": 10,
             "solidity": 0.2
            },
            "type": "scatter"
           }
          ],
          "scatter3d": [
           {
            "line": {
             "colorbar": {
              "outlinewidth": 0,
              "ticks": ""
             }
            },
            "marker": {
             "colorbar": {
              "outlinewidth": 0,
              "ticks": ""
             }
            },
            "type": "scatter3d"
           }
          ],
          "scattercarpet": [
           {
            "marker": {
             "colorbar": {
              "outlinewidth": 0,
              "ticks": ""
             }
            },
            "type": "scattercarpet"
           }
          ],
          "scattergeo": [
           {
            "marker": {
             "colorbar": {
              "outlinewidth": 0,
              "ticks": ""
             }
            },
            "type": "scattergeo"
           }
          ],
          "scattergl": [
           {
            "marker": {
             "colorbar": {
              "outlinewidth": 0,
              "ticks": ""
             }
            },
            "type": "scattergl"
           }
          ],
          "scattermapbox": [
           {
            "marker": {
             "colorbar": {
              "outlinewidth": 0,
              "ticks": ""
             }
            },
            "type": "scattermapbox"
           }
          ],
          "scatterpolar": [
           {
            "marker": {
             "colorbar": {
              "outlinewidth": 0,
              "ticks": ""
             }
            },
            "type": "scatterpolar"
           }
          ],
          "scatterpolargl": [
           {
            "marker": {
             "colorbar": {
              "outlinewidth": 0,
              "ticks": ""
             }
            },
            "type": "scatterpolargl"
           }
          ],
          "scatterternary": [
           {
            "marker": {
             "colorbar": {
              "outlinewidth": 0,
              "ticks": ""
             }
            },
            "type": "scatterternary"
           }
          ],
          "surface": [
           {
            "colorbar": {
             "outlinewidth": 0,
             "ticks": ""
            },
            "colorscale": [
             [
              0,
              "#0d0887"
             ],
             [
              0.1111111111111111,
              "#46039f"
             ],
             [
              0.2222222222222222,
              "#7201a8"
             ],
             [
              0.3333333333333333,
              "#9c179e"
             ],
             [
              0.4444444444444444,
              "#bd3786"
             ],
             [
              0.5555555555555556,
              "#d8576b"
             ],
             [
              0.6666666666666666,
              "#ed7953"
             ],
             [
              0.7777777777777778,
              "#fb9f3a"
             ],
             [
              0.8888888888888888,
              "#fdca26"
             ],
             [
              1,
              "#f0f921"
             ]
            ],
            "type": "surface"
           }
          ],
          "table": [
           {
            "cells": {
             "fill": {
              "color": "#EBF0F8"
             },
             "line": {
              "color": "white"
             }
            },
            "header": {
             "fill": {
              "color": "#C8D4E3"
             },
             "line": {
              "color": "white"
             }
            },
            "type": "table"
           }
          ]
         },
         "layout": {
          "annotationdefaults": {
           "arrowcolor": "#2a3f5f",
           "arrowhead": 0,
           "arrowwidth": 1
          },
          "autotypenumbers": "strict",
          "coloraxis": {
           "colorbar": {
            "outlinewidth": 0,
            "ticks": ""
           }
          },
          "colorscale": {
           "diverging": [
            [
             0,
             "#8e0152"
            ],
            [
             0.1,
             "#c51b7d"
            ],
            [
             0.2,
             "#de77ae"
            ],
            [
             0.3,
             "#f1b6da"
            ],
            [
             0.4,
             "#fde0ef"
            ],
            [
             0.5,
             "#f7f7f7"
            ],
            [
             0.6,
             "#e6f5d0"
            ],
            [
             0.7,
             "#b8e186"
            ],
            [
             0.8,
             "#7fbc41"
            ],
            [
             0.9,
             "#4d9221"
            ],
            [
             1,
             "#276419"
            ]
           ],
           "sequential": [
            [
             0,
             "#0d0887"
            ],
            [
             0.1111111111111111,
             "#46039f"
            ],
            [
             0.2222222222222222,
             "#7201a8"
            ],
            [
             0.3333333333333333,
             "#9c179e"
            ],
            [
             0.4444444444444444,
             "#bd3786"
            ],
            [
             0.5555555555555556,
             "#d8576b"
            ],
            [
             0.6666666666666666,
             "#ed7953"
            ],
            [
             0.7777777777777778,
             "#fb9f3a"
            ],
            [
             0.8888888888888888,
             "#fdca26"
            ],
            [
             1,
             "#f0f921"
            ]
           ],
           "sequentialminus": [
            [
             0,
             "#0d0887"
            ],
            [
             0.1111111111111111,
             "#46039f"
            ],
            [
             0.2222222222222222,
             "#7201a8"
            ],
            [
             0.3333333333333333,
             "#9c179e"
            ],
            [
             0.4444444444444444,
             "#bd3786"
            ],
            [
             0.5555555555555556,
             "#d8576b"
            ],
            [
             0.6666666666666666,
             "#ed7953"
            ],
            [
             0.7777777777777778,
             "#fb9f3a"
            ],
            [
             0.8888888888888888,
             "#fdca26"
            ],
            [
             1,
             "#f0f921"
            ]
           ]
          },
          "colorway": [
           "#636efa",
           "#EF553B",
           "#00cc96",
           "#ab63fa",
           "#FFA15A",
           "#19d3f3",
           "#FF6692",
           "#B6E880",
           "#FF97FF",
           "#FECB52"
          ],
          "font": {
           "color": "#2a3f5f"
          },
          "geo": {
           "bgcolor": "white",
           "lakecolor": "white",
           "landcolor": "#E5ECF6",
           "showlakes": true,
           "showland": true,
           "subunitcolor": "white"
          },
          "hoverlabel": {
           "align": "left"
          },
          "hovermode": "closest",
          "mapbox": {
           "style": "light"
          },
          "paper_bgcolor": "white",
          "plot_bgcolor": "#E5ECF6",
          "polar": {
           "angularaxis": {
            "gridcolor": "white",
            "linecolor": "white",
            "ticks": ""
           },
           "bgcolor": "#E5ECF6",
           "radialaxis": {
            "gridcolor": "white",
            "linecolor": "white",
            "ticks": ""
           }
          },
          "scene": {
           "xaxis": {
            "backgroundcolor": "#E5ECF6",
            "gridcolor": "white",
            "gridwidth": 2,
            "linecolor": "white",
            "showbackground": true,
            "ticks": "",
            "zerolinecolor": "white"
           },
           "yaxis": {
            "backgroundcolor": "#E5ECF6",
            "gridcolor": "white",
            "gridwidth": 2,
            "linecolor": "white",
            "showbackground": true,
            "ticks": "",
            "zerolinecolor": "white"
           },
           "zaxis": {
            "backgroundcolor": "#E5ECF6",
            "gridcolor": "white",
            "gridwidth": 2,
            "linecolor": "white",
            "showbackground": true,
            "ticks": "",
            "zerolinecolor": "white"
           }
          },
          "shapedefaults": {
           "line": {
            "color": "#2a3f5f"
           }
          },
          "ternary": {
           "aaxis": {
            "gridcolor": "white",
            "linecolor": "white",
            "ticks": ""
           },
           "baxis": {
            "gridcolor": "white",
            "linecolor": "white",
            "ticks": ""
           },
           "bgcolor": "#E5ECF6",
           "caxis": {
            "gridcolor": "white",
            "linecolor": "white",
            "ticks": ""
           }
          },
          "title": {
           "x": 0.05
          },
          "xaxis": {
           "automargin": true,
           "gridcolor": "white",
           "linecolor": "white",
           "ticks": "",
           "title": {
            "standoff": 15
           },
           "zerolinecolor": "white",
           "zerolinewidth": 2
          },
          "yaxis": {
           "automargin": true,
           "gridcolor": "white",
           "linecolor": "white",
           "ticks": "",
           "title": {
            "standoff": 15
           },
           "zerolinecolor": "white",
           "zerolinewidth": 2
          }
         }
        }
       }
      }
     },
     "metadata": {},
     "output_type": "display_data"
    },
    {
     "ename": "ValueError",
     "evalue": "All arguments should have the same length. The length of argument `color` is 8, whereas the length of  previously-processed arguments ['0', '1'] is 6",
     "output_type": "error",
     "traceback": [
      "\u001b[0;31m---------------------------------------------------------------------------\u001b[0m",
      "\u001b[0;31mValueError\u001b[0m                                Traceback (most recent call last)",
      "Cell \u001b[0;32mIn[74], line 4\u001b[0m\n\u001b[1;32m      1\u001b[0m fig \u001b[38;5;241m=\u001b[39m px\u001b[38;5;241m.\u001b[39mscatter_3d(qoiX \u001b[38;5;241m@\u001b[39m V\u001b[38;5;241m.\u001b[39mT, x\u001b[38;5;241m=\u001b[39m\u001b[38;5;241m0\u001b[39m, y\u001b[38;5;241m=\u001b[39m\u001b[38;5;241m1\u001b[39m, z\u001b[38;5;241m=\u001b[39m\u001b[38;5;241m2\u001b[39m, color\u001b[38;5;241m=\u001b[39m\u001b[38;5;241m3\u001b[39m)\n\u001b[1;32m      2\u001b[0m fig\u001b[38;5;241m.\u001b[39mshow()\n\u001b[0;32m----> 4\u001b[0m fig \u001b[38;5;241m=\u001b[39m \u001b[43mpx\u001b[49m\u001b[38;5;241;43m.\u001b[39;49m\u001b[43mscatter\u001b[49m\u001b[43m(\u001b[49m\u001b[43mqoiX\u001b[49m\u001b[43m \u001b[49m\u001b[38;5;241;43m@\u001b[39;49m\u001b[43m \u001b[49m\u001b[43mV\u001b[49m\u001b[43m[\u001b[49m\u001b[38;5;241;43m0\u001b[39;49m\u001b[43m:\u001b[49m\u001b[38;5;241;43m2\u001b[39;49m\u001b[43m,\u001b[49m\u001b[43m:\u001b[49m\u001b[43m]\u001b[49m\u001b[38;5;241;43m.\u001b[39;49m\u001b[43mT\u001b[49m\u001b[43m,\u001b[49m\u001b[43m \u001b[49m\u001b[43mx\u001b[49m\u001b[38;5;241;43m=\u001b[39;49m\u001b[38;5;241;43m0\u001b[39;49m\u001b[43m,\u001b[49m\u001b[43m \u001b[49m\u001b[43my\u001b[49m\u001b[38;5;241;43m=\u001b[39;49m\u001b[38;5;241;43m1\u001b[39;49m\u001b[43m,\u001b[49m\u001b[43m \u001b[49m\u001b[43mcolor\u001b[49m\u001b[38;5;241;43m=\u001b[39;49m\u001b[43mdfFull\u001b[49m\u001b[43m[\u001b[49m\u001b[38;5;124;43m\"\u001b[39;49m\u001b[38;5;124;43mwindSpeed\u001b[39;49m\u001b[38;5;124;43m\"\u001b[39;49m\u001b[43m]\u001b[49m\u001b[43m,\u001b[49m\u001b[43m \u001b[49m\u001b[43msymbol\u001b[49m\u001b[38;5;241;43m=\u001b[39;49m\u001b[43mdfFull\u001b[49m\u001b[43m[\u001b[49m\u001b[38;5;124;43m\"\u001b[39;49m\u001b[38;5;124;43mmaterial_type\u001b[39;49m\u001b[38;5;124;43m\"\u001b[39;49m\u001b[43m]\u001b[49m\u001b[43m)\u001b[49m\n\u001b[1;32m      5\u001b[0m fig\u001b[38;5;241m.\u001b[39mshow()\n\u001b[1;32m      7\u001b[0m fig \u001b[38;5;241m=\u001b[39m px\u001b[38;5;241m.\u001b[39mscatter(qoiX \u001b[38;5;241m@\u001b[39m V[\u001b[38;5;241m2\u001b[39m:,:]\u001b[38;5;241m.\u001b[39mT, x\u001b[38;5;241m=\u001b[39m\u001b[38;5;241m0\u001b[39m, y\u001b[38;5;241m=\u001b[39m\u001b[38;5;241m1\u001b[39m, color\u001b[38;5;241m=\u001b[39mdfFull[\u001b[38;5;124m\"\u001b[39m\u001b[38;5;124mwindSpeed\u001b[39m\u001b[38;5;124m\"\u001b[39m], symbol\u001b[38;5;241m=\u001b[39mdfFull[\u001b[38;5;124m\"\u001b[39m\u001b[38;5;124mmaterial_type\u001b[39m\u001b[38;5;124m\"\u001b[39m])\n",
      "File \u001b[0;32m/opt/homebrew/Caskroom/miniconda/base/envs/pycascade/lib/python3.10/site-packages/plotly/express/_chart_types.py:66\u001b[0m, in \u001b[0;36mscatter\u001b[0;34m(data_frame, x, y, color, symbol, size, hover_name, hover_data, custom_data, text, facet_row, facet_col, facet_col_wrap, facet_row_spacing, facet_col_spacing, error_x, error_x_minus, error_y, error_y_minus, animation_frame, animation_group, category_orders, labels, orientation, color_discrete_sequence, color_discrete_map, color_continuous_scale, range_color, color_continuous_midpoint, symbol_sequence, symbol_map, opacity, size_max, marginal_x, marginal_y, trendline, trendline_options, trendline_color_override, trendline_scope, log_x, log_y, range_x, range_y, render_mode, title, template, width, height)\u001b[0m\n\u001b[1;32m     12\u001b[0m \u001b[38;5;28;01mdef\u001b[39;00m \u001b[38;5;21mscatter\u001b[39m(\n\u001b[1;32m     13\u001b[0m     data_frame\u001b[38;5;241m=\u001b[39m\u001b[38;5;28;01mNone\u001b[39;00m,\n\u001b[1;32m     14\u001b[0m     x\u001b[38;5;241m=\u001b[39m\u001b[38;5;28;01mNone\u001b[39;00m,\n\u001b[0;32m   (...)\u001b[0m\n\u001b[1;32m     60\u001b[0m     height\u001b[38;5;241m=\u001b[39m\u001b[38;5;28;01mNone\u001b[39;00m,\n\u001b[1;32m     61\u001b[0m ) \u001b[38;5;241m-\u001b[39m\u001b[38;5;241m>\u001b[39m go\u001b[38;5;241m.\u001b[39mFigure:\n\u001b[1;32m     62\u001b[0m \u001b[38;5;250m    \u001b[39m\u001b[38;5;124;03m\"\"\"\u001b[39;00m\n\u001b[1;32m     63\u001b[0m \u001b[38;5;124;03m    In a scatter plot, each row of `data_frame` is represented by a symbol\u001b[39;00m\n\u001b[1;32m     64\u001b[0m \u001b[38;5;124;03m    mark in 2D space.\u001b[39;00m\n\u001b[1;32m     65\u001b[0m \u001b[38;5;124;03m    \"\"\"\u001b[39;00m\n\u001b[0;32m---> 66\u001b[0m     \u001b[38;5;28;01mreturn\u001b[39;00m \u001b[43mmake_figure\u001b[49m\u001b[43m(\u001b[49m\u001b[43margs\u001b[49m\u001b[38;5;241;43m=\u001b[39;49m\u001b[38;5;28;43mlocals\u001b[39;49m\u001b[43m(\u001b[49m\u001b[43m)\u001b[49m\u001b[43m,\u001b[49m\u001b[43m \u001b[49m\u001b[43mconstructor\u001b[49m\u001b[38;5;241;43m=\u001b[39;49m\u001b[43mgo\u001b[49m\u001b[38;5;241;43m.\u001b[39;49m\u001b[43mScatter\u001b[49m\u001b[43m)\u001b[49m\n",
      "File \u001b[0;32m/opt/homebrew/Caskroom/miniconda/base/envs/pycascade/lib/python3.10/site-packages/plotly/express/_core.py:1990\u001b[0m, in \u001b[0;36mmake_figure\u001b[0;34m(args, constructor, trace_patch, layout_patch)\u001b[0m\n\u001b[1;32m   1987\u001b[0m layout_patch \u001b[38;5;241m=\u001b[39m layout_patch \u001b[38;5;129;01mor\u001b[39;00m {}\n\u001b[1;32m   1988\u001b[0m apply_default_cascade(args)\n\u001b[0;32m-> 1990\u001b[0m args \u001b[38;5;241m=\u001b[39m \u001b[43mbuild_dataframe\u001b[49m\u001b[43m(\u001b[49m\u001b[43margs\u001b[49m\u001b[43m,\u001b[49m\u001b[43m \u001b[49m\u001b[43mconstructor\u001b[49m\u001b[43m)\u001b[49m\n\u001b[1;32m   1991\u001b[0m \u001b[38;5;28;01mif\u001b[39;00m constructor \u001b[38;5;129;01min\u001b[39;00m [go\u001b[38;5;241m.\u001b[39mTreemap, go\u001b[38;5;241m.\u001b[39mSunburst, go\u001b[38;5;241m.\u001b[39mIcicle] \u001b[38;5;129;01mand\u001b[39;00m args[\u001b[38;5;124m\"\u001b[39m\u001b[38;5;124mpath\u001b[39m\u001b[38;5;124m\"\u001b[39m] \u001b[38;5;129;01mis\u001b[39;00m \u001b[38;5;129;01mnot\u001b[39;00m \u001b[38;5;28;01mNone\u001b[39;00m:\n\u001b[1;32m   1992\u001b[0m     args \u001b[38;5;241m=\u001b[39m process_dataframe_hierarchy(args)\n",
      "File \u001b[0;32m/opt/homebrew/Caskroom/miniconda/base/envs/pycascade/lib/python3.10/site-packages/plotly/express/_core.py:1405\u001b[0m, in \u001b[0;36mbuild_dataframe\u001b[0;34m(args, constructor)\u001b[0m\n\u001b[1;32m   1402\u001b[0m     args[\u001b[38;5;124m\"\u001b[39m\u001b[38;5;124mcolor\u001b[39m\u001b[38;5;124m\"\u001b[39m] \u001b[38;5;241m=\u001b[39m \u001b[38;5;28;01mNone\u001b[39;00m\n\u001b[1;32m   1403\u001b[0m \u001b[38;5;66;03m# now that things have been prepped, we do the systematic rewriting of `args`\u001b[39;00m\n\u001b[0;32m-> 1405\u001b[0m df_output, wide_id_vars \u001b[38;5;241m=\u001b[39m \u001b[43mprocess_args_into_dataframe\u001b[49m\u001b[43m(\u001b[49m\n\u001b[1;32m   1406\u001b[0m \u001b[43m    \u001b[49m\u001b[43margs\u001b[49m\u001b[43m,\u001b[49m\u001b[43m \u001b[49m\u001b[43mwide_mode\u001b[49m\u001b[43m,\u001b[49m\u001b[43m \u001b[49m\u001b[43mvar_name\u001b[49m\u001b[43m,\u001b[49m\u001b[43m \u001b[49m\u001b[43mvalue_name\u001b[49m\n\u001b[1;32m   1407\u001b[0m \u001b[43m\u001b[49m\u001b[43m)\u001b[49m\n\u001b[1;32m   1409\u001b[0m \u001b[38;5;66;03m# now that `df_output` exists and `args` contains only references, we complete\u001b[39;00m\n\u001b[1;32m   1410\u001b[0m \u001b[38;5;66;03m# the special-case and wide-mode handling by further rewriting args and/or mutating\u001b[39;00m\n\u001b[1;32m   1411\u001b[0m \u001b[38;5;66;03m# df_output\u001b[39;00m\n\u001b[1;32m   1413\u001b[0m count_name \u001b[38;5;241m=\u001b[39m _escape_col_name(df_output, \u001b[38;5;124m\"\u001b[39m\u001b[38;5;124mcount\u001b[39m\u001b[38;5;124m\"\u001b[39m, [var_name, value_name])\n",
      "File \u001b[0;32m/opt/homebrew/Caskroom/miniconda/base/envs/pycascade/lib/python3.10/site-packages/plotly/express/_core.py:1245\u001b[0m, in \u001b[0;36mprocess_args_into_dataframe\u001b[0;34m(args, wide_mode, var_name, value_name)\u001b[0m\n\u001b[1;32m   1242\u001b[0m         col_name \u001b[38;5;241m=\u001b[39m _check_name_not_reserved(field, reserved_names)\n\u001b[1;32m   1244\u001b[0m     \u001b[38;5;28;01mif\u001b[39;00m length \u001b[38;5;129;01mand\u001b[39;00m \u001b[38;5;28mlen\u001b[39m(argument) \u001b[38;5;241m!=\u001b[39m length:\n\u001b[0;32m-> 1245\u001b[0m         \u001b[38;5;28;01mraise\u001b[39;00m \u001b[38;5;167;01mValueError\u001b[39;00m(\n\u001b[1;32m   1246\u001b[0m             \u001b[38;5;124m\"\u001b[39m\u001b[38;5;124mAll arguments should have the same length. \u001b[39m\u001b[38;5;124m\"\u001b[39m\n\u001b[1;32m   1247\u001b[0m             \u001b[38;5;124m\"\u001b[39m\u001b[38;5;124mThe length of argument `\u001b[39m\u001b[38;5;132;01m%s\u001b[39;00m\u001b[38;5;124m` is \u001b[39m\u001b[38;5;132;01m%d\u001b[39;00m\u001b[38;5;124m, whereas the \u001b[39m\u001b[38;5;124m\"\u001b[39m\n\u001b[1;32m   1248\u001b[0m             \u001b[38;5;124m\"\u001b[39m\u001b[38;5;124mlength of  previously-processed arguments \u001b[39m\u001b[38;5;132;01m%s\u001b[39;00m\u001b[38;5;124m is \u001b[39m\u001b[38;5;132;01m%d\u001b[39;00m\u001b[38;5;124m\"\u001b[39m\n\u001b[1;32m   1249\u001b[0m             \u001b[38;5;241m%\u001b[39m (field, \u001b[38;5;28mlen\u001b[39m(argument), \u001b[38;5;28mstr\u001b[39m(\u001b[38;5;28mlist\u001b[39m(df_output\u001b[38;5;241m.\u001b[39mcolumns)), length)\n\u001b[1;32m   1250\u001b[0m         )\n\u001b[1;32m   1251\u001b[0m     df_output[\u001b[38;5;28mstr\u001b[39m(col_name)] \u001b[38;5;241m=\u001b[39m to_unindexed_series(argument)\n\u001b[1;32m   1253\u001b[0m \u001b[38;5;66;03m# Finally, update argument with column name now that column exists\u001b[39;00m\n",
      "\u001b[0;31mValueError\u001b[0m: All arguments should have the same length. The length of argument `color` is 8, whereas the length of  previously-processed arguments ['0', '1'] is 6"
     ]
    }
   ],
   "source": [
    "fig = px.scatter_3d(qoiX @ V.T, x=0, y=1, z=2, color=3)\n",
    "fig.show()\n",
    "\n",
    "fig = px.scatter(qoiX @ V[0:2,:].T, x=0, y=1, color=dfFull[\"windSpeed\"], symbol=dfFull[\"material_type\"])\n",
    "fig.show()\n",
    "\n",
    "fig = px.scatter(qoiX @ V[2:,:].T, x=0, y=1, color=dfFull[\"windSpeed\"], symbol=dfFull[\"material_type\"])\n",
    "fig.show()"
   ]
  },
  {
   "cell_type": "code",
   "execution_count": null,
   "metadata": {},
   "outputs": [
    {
     "data": {
      "application/vnd.jupyter.widget-view+json": {
       "model_id": "9d04873cc94243ecb8d5140a8bd47f81",
       "version_major": 2,
       "version_minor": 0
      },
      "image/png": "[encoded data removed]",
      "text/html": [
       "\n",
       "            <div style=\"display: inline-block;\">\n",
       "                <div class=\"jupyter-widgets widget-label\" style=\"text-align: center;\">\n",
       "                    Figure\n",
       "                </div>\n",
       "                <img src='data:image/png;base64,iVBORw0KGgoAAAANSUhEUgAAAoAAAAHgCAYAAAA10dzkAAAAOXRFWHRTb2Z0d2FyZQBNYXRwbG90bGliIHZlcnNpb24zLjguMCwgaHR0cHM6Ly9tYXRwbG90bGliLm9yZy81sbWrAAAACXBIWXMAAA9hAAAPYQGoP6dpAAEAAElEQVR4nOy9d5xjdb3//zppkzZJpve6Ozuzu7O9ziBNmosFFBUvoiKIBe5V5ArK76IiflUU5AJXARssxY73oiCCKCxXdmm7O5neey/JtPRyzu+PveeYZJKZJOdkkuy8n4/HPmAyp3xSJud13uX1ZjiO40AQBEEQBEFsGGTJXgBBEARBEASxvpAAJAiCIAiC2GCQACQIgiAIgthgkAAkCIIgCILYYJAAJAiCIAiC2GCQACQIgiAIgthgkAAkCIIgCILYYJAAJAiCIAiC2GCQACQIgiAIgthgkAAkCIIgCILYYJAAJAiCIAiC2GCQACQIgiAIgthgkAAkCIIgCILYYJAAJAiCIAiC2GCQACQIgiAIgthgkAAkCIIgCILYYJAAJAiCIAiC2GCQACQIgiAIgthgkAAkCIIgCILYYJAAJAiCIAiC2GCQACQIgiAIgthgkAAkCIIgCILYYJAAJAiCIAiC2GCQACQIgiAIgthgkAAkCIIgCILYYJAAJAiCIAiC2GCQACQIgiAIgthgkAAkCIIgCILYYJAAJAiCIAiC2GCQACQIgiAIgthgkAAkCIIgCILYYJAAJAiCIAiC2GCQACQIgiAIgthgkAAkCIIgCILYYJAAJAiCIAiC2GCQACQIgiAIgthgkAAkiLOco0ePgmEYnDx5Mujxubk57N+/H3q9Hi+//HLYfYeGhsAwDBiGwV133RV2m+uvv17Y5myAZVk89dRTuPjii5GbmwulUon8/Hy8733vw3PPPQeWZQH887U5evRoQtYxMTGBu+66C2azOSHH5z8XQ0NDCTk+QRCpDQlAgtiAjI2N4dxzz8XAwAD+9re/4ZJLLll1+8zMTBw9elQQPzw2mw2///3vYTAYErncdcPlcuHyyy/Hpz71KeTn5+ORRx7BK6+8gkcffRTFxcX4yEc+gueee25d1jIxMYFvfetbCROA733ve/HGG2+gqKgoIccnCCK1USR7AQRBrC+9vb24+OKL4fV68dprr2HHjh1r7nP11Vfj5z//Of7+978HicXf/va38Pv9uPLKK/H0008nctnrwq233oqXXnoJTzzxBD75yU8G/e5DH/oQbrvtNjidziStThqcTifUajXy8vKQl5eX7OUQBJEkKAJIEBsIs9mMd73rXVAoFHj99dejEn8AUFtbi8bGRjz22GNBjz/22GP40Ic+BKPRGHa/3/72t2hoaIBOp4Ner8dll12GpqamoG1OnjyJj33sY6isrIRGo0FlZSX+5V/+BcPDw0Hb8SnLV199FV/4wheQm5uLnJwcfOhDH8LExETQtq+88gouuOAC5OTkQKPRoLy8HFdddRUcDkfE5zg1NYWf//znuOyyy1aIP56amhrs3Lkz4jGuu+46VFZWrnj8rrvuWpEi//3vf49Dhw7BaDRCq9Wiuroa119/PQDg2LFjOHDgAADg05/+dNg0/MmTJ/GBD3wA2dnZUKvV2LNnD373u9+Ffc3++te/4vrrr0deXh60Wi3cbnfYFPAFF1yA+vp6vPPOOzj33HOFdd1zzz0ror/t7e249NJLodVqkZeXh5tvvhl//vOfwTAMjh07FvE1IggiNSABSBAbhNdffx0XXHAB8vPz8frrr6O6ujqm/W+44QY8++yzmJ+fBwB0d3fjxIkTuOGGG8Ju/93vfhf/8i//gm3btuF3v/sdnnrqKSwvL+Pcc89FR0eHsN3Q0BBqa2vxwAMP4KWXXsL3v/99TE5O4sCBA5ibm1tx3M985jNQKpX41a9+hR/84Ac4duwYrr322qDjvfe974VKpcJjjz2GF198Effccw90Oh08Hk/E5/fqq6/C6/XiyiuvjOl1iYc33ngDV199Naqrq/Gb3/wGf/7zn/GNb3wDPp8PALB37148/vjjAIA777wTb7zxBt544w185jOfEdZ6zjnnYGFhAY8++ij++Mc/Yvfu3bj66qvD1iRef/31UCqVeOqpp/DMM89AqVRGXNvU1BQ+/vGP49prr8Wf/vQnHDlyBHfccUdQhHdychLnn38+uru78cgjj+DJJ5/E8vIy/vVf/1XCV4kgiITCEQRxVvP4449zADgAnNFo5GZmZqLed3BwkAPA3Xvvvdzy8jKn1+u5H/3oRxzHcdxtt93GVVVVcSzLcjfffDMX+HUyMjLCKRQK7t/+7d+Cjre8vMwVFhZyH/3oRyOe0+fzcTabjdPpdNyDDz644nncdNNNQdv/4Ac/4ABwk5OTHMdx3DPPPMMB4Mxmc9TPk+M47p577uEAcC+++GJU2/OvzeOPPy489qlPfYqrqKhYse03v/nNoNfnvvvu4wBwCwsLEY//zjvvrDg+T11dHbdnzx7O6/UGPf6+972PKyoq4vx+P8dx/3zNPvnJT644Bv+7wcFB4bHzzz+fA8C99dZbQdtu27aNu+yyy4Sfb7vtNo5hGK69vT1ou8suu4wDwL366qsRnxdBEKkBRQAJYoPwgQ98AIuLi7jlllvg9/uDfufz+YL+cRy3Yn+9Xo+PfOQjeOyxx+Dz+fDkk08K6clQXnrpJfh8Pnzyk58MOq5arcb5558flCK02Wz46le/is2bN0OhUEChUECv18Nut6OzszPs8wiET8nyKePdu3dDpVLhs5/9LJ544gkMDAzE/FolGj69+9GPfhS/+93vMD4+HvW+fX196Orqwsc//nEAwe/d5ZdfjsnJSXR3dwftc9VVV0V9/MLCQhw8eDDosZ07dwal5F977TXU19dj27ZtQdv9y7/8S9TnIQgiuZAAJIgNwte//nV84xvfwK9+9Stce+21QSJQqVQG/XviiSfCHuOGG27A6dOn8Z3vfAezs7O47rrrwm43PT0N4IzQCT32b3/726DU7jXXXIMf/ehH+MxnPoOXXnoJb7/9Nt555x3k5eWFbbjIyckJ+jkjIwMAhG03bdqEv/3tb8jPz8fNN9+MTZs2YdOmTXjwwQdXfX3Ky8sBAIODg6tuJwXnnXcenn32WUEkl5aWor6+Hr/+9a/X3Jd/bb/yla+seG1vuukmAFiROo+l0zf09QXOvMaB74XFYkFBQcGK7cI9RhBEakJdwASxgfjWt74FhmHwrW99CyzL4pe//CUUCgXeeeedoO2qqqrC7n/OOeegtrYWd999Ny655BKUlZWF3S43NxcA8Mwzz6CioiLiehYXF/H888/jm9/8Jr72ta8Jj7vdblit1lifnsC5556Lc889F36/HydPnsR//dd/4ZZbbkFBQQE+9rGPhd3nwgsvhFKpxLPPPovPf/7zcZ1XrVbD7XaveDxcLeMVV1yBK664Am63G2+++Sa+973v4ZprrkFlZSUaGhoinoN/be+44w586EMfCrtNbW1t0M9SezTm5OQIQjSQqakpSc9DEETiIAFIEBuMu+66CzKZDN/85jfBcRx+9atfYf/+/VHvf+edd+KZZ57BzTffHHGbyy67DAqFAv39/aumHxmGAcdxQhSP5+c///mKNHU8yOVyHDp0CHV1dfjlL3+J06dPRxSAhYWF+MxnPiM0NYTrBO7v74fdbo/YCVxZWYmZmRlMT08L0TCPx4OXXnop4hozMjJw/vnnw2Qy4aWXXkJTUxMaGhpWRDZ5amtrUVNTg+bmZnz3u9+N6nWQmvPPPx/33XcfOjo6gtLAv/nNb5KyHoIgYocEIEFsQL7xjW9AJpPh61//OjiOw69//WsoFNF9HVx77bVBXbfhqKysxN13343/+I//wMDAAN7znvcgKysL09PTePvtt6HT6fCtb30LBoMB5513Hu69917k5uaisrISr732Gn7xi1/AZDLF9dweffRRvPLKK3jve9+L8vJyuFwuwb7m4osvXnXf+++/HwMDA7juuuvw0ksv4YMf/CAKCgowNzeHl19+GY8//jh+85vfRBSAV199Nb7xjW/gYx/7GG677Ta4XC489NBDK8TsN77xDYyNjeGiiy5CaWkpFhYW8OCDD0KpVOL8888HcCaVrdFo8Mtf/hJbt26FXq9HcXExiouL8ZOf/ARHjhzBZZddhuuuuw4lJSWwWq3o7OzE6dOn8fvf/z6u1y5abrnlFjz22GM4cuQI7r77bhQUFOBXv/oVurq6AAAyGVUXEUSqQ3+lBLFBufPOO/Gd73wHzzzzDK6++mp4vV5Jj3/HHXfgmWeeQU9PDz71qU/hsssuw+23347h4WGcd955wna/+tWvcOGFF+L222/Hhz70IZw8eRIvv/xyRG/Btdi9ezd8Ph+++c1v4siRI/jEJz6B2dlZ/OlPf8Kll1666r5qtRp//vOfcfToUUxNTeFzn/sc3v3ud+Nzn/schoaG8Nhjj+H9739/xP2rqqrwxz/+EQsLC/jwhz+M2267DR/5yEdWRBMPHTqEqakpfPWrX8Wll16Kz372s9BoNHjllVewfft2AIBWq8Vjjz0Gi8WCSy+9FAcOHMBPf/pTAGfS1W+//TZMJhNuueUWXHzxxfjCF76Av/3tb2uKXCkoLi7Ga6+9hi1btuDzn/88Pv7xj0OlUuHuu+8GgLjFO0EQ6wfDhWv3IwiCIIgY+exnP4tf//rXsFgsUKlUyV4OQRCrQClggiAIImbuvvtuFBcXo7q6GjabDc8//zx+/vOf48477yTxRxBpAAlAgiAIImaUSiXuvfdejI2NwefzoaamBvfffz++9KUvJXtpBEFEAaWACYIgCIIgNhjUBEIQBEEQBLHBIAFIEARBEASxwSABSBAEQRAEscEgAUgQBEEQBLHBIAFIEARBEASxwSABSBAEQRAEscEgAUgQBEEQBLHBIAFIEARBEASxwSABSBAEQRAEscEgAUgQBEEQBLHBIAFIEARBEASxwVAkewEEQRBE4uA4Dj6fD36/P9lLIdYZuVwOhUIBhmGSvRQiBSEBSBAEcZbi8XgwOTkJh8OR7KUQSUKr1aKoqAgqlSrZSyFSDIbjOC7ZiyAIgiCkhWVZ9Pb2Qi6XIy8vDyqViiJBGwiO4+DxeDA7Owu/34+amhrIZFT1RfwTigASBEGchXg8HrAsi7KyMmi12mQvh0gCGo0GSqUSw8PD8Hg8UKvVyV4SkULQ7QBBEMRZDEV9Njb0/hORoE8GQRAEQRDEBoMEIEEQBEGsA0ePHoXJZEr2MggCAAlAgiAIIsW47rrrwDAMGIaBUqlEQUEBLrnkEjz22GNgWTamY0kpui644AJhXRkZGdiyZQu++93vRm2xc/XVV6Onpyfmc95yyy1xrJYgVocEIEEQBJFyvOc978Hk5CSGhobwl7/8BRdeeCG+9KUv4X3vex98Pl/S1nXjjTdicnIS3d3d+OIXv4g777wT9913X1T7ajQa5OfnJ3iFBBEdJAAJgiCIVZkYs+J//9aBltPDYNn1cQ7LyMhAYWEhSkpKsHfvXvx//9//hz/+8Y/4y1/+gqNHjwrb3X///dixYwd0Oh3Kyspw0003wWazAQCOHTuGT3/601hcXBQid3fddRcA4Omnn8b+/fuRmZmJwsJCXHPNNZiZmVlzXVqtFoWFhaisrMS//uu/4qKLLsKzzz4LAJifn8cnP/lJZGVlQavV4siRI+jt7RX2DY1G3nXXXdi9ezeeeuopVFZWwmg04mMf+xiWl5cBnImEvvbaa3jwwQeF9Q8NDWF+fh4f//jHkZeXB41Gg5qaGjz++OPiXnBiw0ECkCAIggiLx+PD9+78b1z3oR/h//1/z+Arn38Cn/7wjzDUv7ZQSgTvfve7sWvXLvz3f/+38JhMJsNDDz2EtrY2PPHEE3jllVdw++23AwAaGxvxwAMPwGAwYHJyEpOTk/jKV77yf8/Ng29/+9tobm7Gs88+i8HBQVx33XUxr0mj0cDr9QI4I9hOnjyJP/3pT3jjjTfAcRwuv/xy4ffh6O/vx7PPPovnn38ezz//PF577TXcc889AIAHH3wQDQ0NQtRxcnISZWVl+PrXv46Ojg785S9/QWdnJx555BHk5ubGvHZiY0M+gARBEERYfvGjv+PYy+1Bj01PLOBr//Y0nnz2i1Cp1v8SUldXh5aWFuHnwPq4qqoqfPvb38YXvvAFPPzww1CpVDAajWAYBoWFhUHHuf7664X/r66uxkMPPYSDBw/CZrNBr9evuQ6WZfHXv/4VL730Em655Rb09vbiT3/6E44fP47GxkYAwC9/+UuUlZXh2WefxUc+8pGIxzl69CgyMzMBAJ/4xCfw97//Hd/5zndgNBqhUqmEqCPPyMgI9uzZg/379wMAKisr11wvQYRCEUCCIAhiBW6XFy/8zymEDotiWQ7WORve/N/YmhmkguO4oIkmr776Ki655BKUlJQgMzMTn/zkJ2GxWGC321c9TlNTE6644gpUVFQgMzMTF1xwAYAz4mo1Hn74Yej1eqjVanzgAx/Atddei29+85vo7OyEQqHAoUOHhG1zcnJQW1uLzs7OiMerrKwUxB8AFBUVrZmK/sIXvoDf/OY32L17N26//XacOHFi1e0JIhwkAAmCIIgVLC464HaHb7aQyRhMTcyv84rO0NnZiaqqKgDA8PAwLr/8ctTX1+MPf/gDTp06hR//+McAsGra1W6349JLL4Ver8fTTz+Nd955B//zP/8D4ExqeDU+/vGPw2w2o7+/H06nE7/4xS+g1WpXCGWeUMEailKpDPqZYZg1O52PHDmC4eFh3HLLLZiYmMBFF10kpLYJIlpIABIEQRArMGXpoNWpwv6OZTmUVa5/zdkrr7yC1tZWXHXVVQCAkydPwufz4Yc//CEOHz6MLVu2YGJiImgflUq1wqalq6sLc3NzuOeee3Duueeirq4uqgYQADAajdi8eTPKysogl8uFx7dt2wafz4e33npLeMxisaCnpwdbt26N9ymHXT8A5OXl4brrrsPTTz+NBx54AD/96U/jPgexMSEBSBAEQaxApVLgQ/9yeMXjMrkMxaXZONhYk9Dzu91uTE1NYXx8HKdPn8Z3v/tdXHHFFXjf+96HT37ykwCATZs2wefz4b/+678wMDCAp556Co8++mjQcSorK2Gz2fD3v/8dc3NzcDgcKC8vh0qlEvb705/+hG9/+9ui1ltTU4MrrrgCN954I15//XU0Nzfj2muvRUlJCa644oq4j1tZWYm33noLQ0NDmJubA8uy+MY3voE//vGP6OvrQ3t7O55//nlRIpPYmJAAJAiCIMLy8RvOw1XXHIZC+c9IV922Ynz/x9dCrkjs5ePFF19EUVERKisr8Z73vAevvvoqHnroIfzxj38UIm+7d+/G/fffj+9///uor6/HL3/5S3zve98LOk5jYyM+//nP4+qrr0ZeXh5+8IMfIC8vD0ePHsXvf/97bNu2Dffcc0/UXn6r8fjjj2Pfvn143/veh4aGBnAchxdeeGFFmjcWvvKVr0Aul2Pbtm3Iy8vDyMgIVCoV7rjjDuzcuRPnnXce5HI5fvOb34heP7GxYLhIhQsEQRBE2uJyuTA4OIiqqiqo1WpRx1padGJ4YAZZ2XqUVuRItEJiPZDyc0CcXZANDEEQBLEqBqMGO/ZUJHsZBEFICKWACYIgCIIgNhgkAAmCIAiCIDYYlAImCCLpcBwnWF3I5fJVfdMIgiAI8ZAAJAgiqbAsC6/XC6fTCY7jIJPJoFQqIZfLoVAoIJPJSBASBEFIDAlAgiCSAh/18/l8YFlWEHkcx8HlcgE4MxWBF4QKhQJyuZwEIUEQhASQACQIYt3hOA5er1dI+/Kijv8nl8vBcZzwb25uDsPDw6ivrydBSBAEIQEkAAmCWFdYloXH4wHLsoJ4C2dHyotB4IxAtNvtkMlkKyKEfKqYBCFBEET0kAAkCGJd4FO+Xq9XqPULFGqRhGDg/jLZGeOCwAghy7Jwu91wuVyQyWSQyWQkCMXidAIaTeK2Jwgi6ZANDEEQCYdlWSwvLwuRu1hFWThxyNcHBkYAGYaB3++H2+2G3W7H8vIylpeX4XA44PF44Pf7VxWZBICf/QzYuRMYHY1u+9HRM9v/7GeJXVeKc+zYMTAMg4WFhYjbHD16FCaTad3WRBCrQQKQIIiEwUf9PB4P3nrrLSwuLsYVkYtme14QBkb/eEHocrkEQWiz2eB0OoU0NAnCAJxO4Ac/APr6gAsuWFsEjo6e2a6v78x+TqdkS5mamsK//du/obq6GhkZGSgrK8P73/9+/P3vf5fsHBdccAFuueUWSY7V2NiIyclJGI1GSY5HEImGUsAEQSQEjuPg8/ng8/kARCfi1jpeLPA1hHzamE8Z+3w+eL3eoIaTUNG4YVPGGg3wyitnRN3AwJn/HjsGlJWt3JYXfwMDQHX1mf0kSgMPDQ3hnHPOgclkwg9+8APs3LkTXq8XL730Em6++WZ0dXVJcp5o4G9iFIrVL5cqlQqFhYXrtCqCEA9FAAmCkBy+0cPr9QLAqs0e0SCFIAuMEPI+gwzDwOfzwel0wmazYWlpCTabDS6XC16vFyzLij5v2lFWdkb0VVf/UwSGRgJDxV8kkRgnN910ExiGwdtvv40Pf/jD2LJlC7Zv345bb70Vb775JgBgcXERn/3sZ5Gfnw+DwYB3v/vdaG5uFo5x1113Yffu3XjqqadQWVkJo9GIj33sY1heXgYAXHfddXjttdfw4IMPCqJ/aGhISOW+9NJL2L9/PzIyMvCPf/wDbrcbX/ziF5Gfnw+1Wo13vetdeOedd4TzhUsBHz16FOXl5dBqtfjgBz8Ii8US9Dybm5tx4YUXIjMzEwaDAfv27cPJkyclex0JYjVIABIEIRl8hI2vt+ObMoC1mzyiObaUrCYIHQ4HlpeXN64gXE0EJlj8Wa1WvPjii7j55puh0+lW/N5kMoHjOLz3ve/F1NQUXnjhBZw6dQp79+7FRRddBKvVKmzb39+PZ599Fs8//zyef/55vPbaa7jnnnsAAA8++CAaGhpw4403YnJyEpOTkygLeB633347vve976GzsxM7d+7E7bffjj/84Q944okncPr0aWzevBmXXXZZ0PkCeeutt3D99dfjpptugtlsxoUXXoj/9//+X9A2H//4x1FaWop33nkHp06dwte+9jUolUopXkaCWBNKARMEIQmRvP14xEYAE12rFyll7PV64fF4AGBFjSHfZXxWwovAwHTwU08Bn/hEwsQfAPT19YHjONTV1UXc5tVXX0VraytmZmaQkZEBALjvvvvw7LPP4plnnsFnP/tZAGci0UePHkVmZiYA4BOf+AT+/ve/4zvf+Q6MRiNUKhW0Wm3Y1O3dd9+NSy65BABgt9vxyCOP4OjRozhy5AgA4Gc/+xlefvll/OIXv8Btt922Yv8HH3wQl112Gb72ta8BALZs2YITJ07gxRdfFLYZGRnBbbfdJjzXmpqamF8vgoiXs/SbiyCI9YS3YvH5fIKICk3bJjsFHM85AyOEfA0YP7ZuQ6SMQyOB55yTUPEH/DPSu9p7furUKdhsNuTk5ECv1wv/BgcH0d/fL2xXWVkpiD8AKCoqwszMTFTr2L9/v/D//f398Hq9OOecc4THlEolDh48iM7OzrD7d3Z2oqGhIeix0J9vvfVWfOYzn8HFF1+Me+65J2jtBJFoSAASBBE3fMrX7XYHGTuHYy0B6PP51vQBTCbhGkaA1QVhstcsCWVlZyJ/gTz1VELEH3AmCsYwTERhBZy54SgqKoLZbA76193dHRSNC02nMgwTtUgPTD9HEqUcx0X8vEfz3t91111ob2/He9/7XrzyyivYtm0b/ud//ieq9RGEWEgAEgQRF3x6NLTRIxKRBCDHcRgaGsI//vEPHD9+HK2trRgbG4Pdbo8qGpQsVhOEQ0ND6OrqChKEawnclGV09EzaN5BPfCJ6n8AYyc7OxmWXXYYf//jHsNvtK36/sLCAvXv3YmpqCgqFAps3bw76l5ubG/W5VCqVULKwGps3b4ZKpcLrr78uPOb1enHy5Els3bo17D7btm0TGlZ4Qn8GzqSGv/zlL+Ovf/0rPvShD+Hxxx+Pev0EIQaqASQIImb4iR5rRf0CCScAPR4PWltbsby8jD179oDjOCwuLmJ2dhZ9fX1QKBTIysqCXq9PefHEC0LgzPNyOp1BNYThfAr5xpOUJbThI7AGcDWLGJE8/PDDaGxsxMGDB3H33Xdj586d8Pl8ePnll/HII4+go6MDDQ0NuPLKK/H9738ftbW1mJiYwAsvvIArr7wyKH27GpWVlXjrrbcwNDQEvV6P7OzssNvpdDp84QtfwG233Ybs7GyUl5fjBz/4ARwOB2644Yaw+3zxi19EY2MjfvCDH+DKK6/EX//616D6P6fTidtuuw0f/vCHUVVVhbGxMbzzzju46qqrYn/BCCIOSAASBBE1od5+sZg6hwpAq9WK5uZmmEwmNDY2AjiT2svKykJlZSX8fj+WlpYwPz8v1G2dOHECWVlZwj++ASAVCRSE/PPm7XHcbnfqC8JI3b6hjSEJEIFVVVU4ffo0vvOd7+Df//3fMTk5iby8POzbtw+PPPIIGIbBCy+8gP/4j//A9ddfj9nZWRQWFuK8885DQUFB1Of5yle+gk996lPYtm0bnE4nBgcHI257zz33gGVZfOITn8Dy8jL279+Pl156CVlZWWG3P3z4MH7+85/jm9/8Ju666y5cfPHFuPPOO/Htb38bwJlxhhaLBZ/85CcxPT2N3NxcfOhDH8K3vvWt2F4sgogThkv122qCIFIClmWDGh1iNUw+efIkCgoKUFpaiv7+fgwODmLLli0oLy8HgKCIYihutxvHjx/Hzp07sbCwgPn5eSwvL0Or1Qpi0GQyQaVSSfNkRTI4OAiXyxUxPRgoCPluY6kFocvlwuDgIKqqqqBWq2PbeS2rlwRbwRDSIepzQJzVUASQIIhV4TgOLMtifn4ep06dwvnnnx+XKGEYBh6PB++88w5cLhcOHToEg8EgnCMasrOzhRovr9criMGhoSHYbDbo9fogQbjW9IZEsdbz4V+/cBFCt9u9qu1MwiOE0Yi7dYoEEgSROEgAEgQRkVBvP36EWjx4PB4MDAygoKAAe/fujUmc8ecMFFZKpRJ5eXnIy8sTjs8Lwr6+PjidzhWCkBdcqUagIJTL5UJUkOO4FYKQN61WKBRxzVVeFacTePe7o4vshYrAd78baGmRbBwcQRCJhQQgQRBh4VO+gRM94vG5Y1kWvb29WFpaQkFBAXbs2BGzaIlme5VKhfz8fOTn5wM4kzaen5/H/Pw8uru74Xa7YTAYBEFoNBpT1sQ5ML0eKghdLpewDS8I+QihaEGo0QC33w784AdnZvuuFdHjReC7331mPxJ/BJE2kAAkCCIIjuPg9/vh8/mCunxlMlnMnbhOpxPNzc3w+XzIycmB0WgUJVBiOX9GRgYKCwuFKQ9Op1MQhBMTE/D5fDAajYIgzMzMPKsEYTT2JmG58Ubg2mujF3NlZRT5I4g0hAQgQRACq41zC0zDRiPipqen0dbWhsLCQtTV1aGtrS2igFuroUSKNKdGo4FGo0FxcTE4joPD4RAE4ejoKFiWhclkEgShXq8Xdd5E1upFIwj5phq/3w+WZVe8j6sSq5gj8UcQaQcJQIIgAKzt7RetAPT7/eju7sbExATq6+uFCJwU83ylMi1gGAY6nQ46nQ6lpaXgOA42m00QhIODg2AYJshyRqvVpo5FSwjhBCEv4lmWDercDt0+VZ8TIQ1k9EFEggQgQWxwAr39OI6LWEfGp0cjWbUAgN1uh9lsBsMwaGxshFarFX4nxSzgRF3MGIZBZmYmMjMzUV5eDpZlYbPZYLVag0ypAyOEGo1G1BiwRMIwjDAGzeVyQavVChFCYOVoMxKEZy8OhwPAyrF4BEECkCA2MCzLwufzhU35hrKWCJuYmEB7ezvKysqwZcuWFSJRCgG4XshkMhgMBhgMBlRWVoJlWcGUenp6Gj09PVCpVEERwlTzWJPL5dDpdJidnQWAFYI19L3gm334TmkShOkNX+YwMzOT0h3wRPIgAUgQGxDe28/r9Qop3bUu9JEEoM/nQ2dnJ2ZmZrBr1y6hCzfc/qmSAo4VmUwGk8kEk8mEqqoq+P1+LC4uYn5+HuPj4+jq6oJarRbEoN/vTwnhxI824yeprIbH4xFsaAIJfB6p8JyI2DCZTEIZBkEEQgKQIDYYoY0e0U70CEwB8ywvL8NsNkOlUuGcc85ZNQq2lgBMdBOIlMjlcmRnZwsCy+fzCR6Ew8PDsNlsUCgUQh2hyWRKSgqOYRjk5OQgKytLGN8XidbWVhQXFyMnJ0dIF/OTSvjPSKD/IG87Q6QuvGckQYSDBCBBbCBCvf3iEVa8OBgbG0NXVxcqKyuxadOmNcXAWgIwmuhesmvrIqFQKJCbmytMKenp6YHD4QDHcejv74fD4UBmZmaQB+F6TimRyWRrjsnz+/1QKBRhtwsUhHxXsd/vh1wuF0QGCUKCSC9IABLEBoDvCu3v70dOTk5cFid8FMjr9aK7uxvz8/PYu3cvcnJyYlpHPCS6CURqZDIZNBoNamtrAQSbUvf09MDlcq0QhMmO1KzW3c2/97zA4wWhz+eD1+sFEH5sHQlCgkhdSAASxFlOYMp3dHQUWq0WmZmZcR/v9OnT0Ol0aGxsREZGRtT7yWSy+M2JkXpp4FgIZ0rNp4w7Ozvh9XqDppQYDIZ1F0/R+jsCkQWh1+uFx+MRfk+CkCBSFxKABHEWw7IsPB6PYN3Ce8TFCsdxGB4eBsdxKCgoQF1dXdzpYzGkSwRwLXhT6qKiInAcFzSlZGxsDH6/P8hyJjMzM+ECOBYBGEo4QciXG/ARwlBByNdIEgSRHEgAEsRZCJ/y5bt8+Xq/eDpxPR4PWltbsby8DLlcjpKSkrgu3PGMkgtEii7i9SSWaJpWq4VWq0VJSQk4joPdbhcE4fDwMAAECUKdTie5eBIjAEPhG0YCj80LwnARQl4UkiAkiPWDBCBBnGWs5u0nk8mCunjXwmq1oqWlBQaDAY2NjXj99ddFiTCxAnAjwDAM9Ho99Ho9ysrKwHEclpeXMT8/D4vFgoGBAchkMkEMmkwmSaaUSCkAQ4lGEPIR6sCmko3ynhNEMiABSBBnCdF4+zEME5UA5DgOAwMDGBgYwJYtW1BeXi5cpGMRkIGsFQGM5mKfThFAqWAYRjClrqioAMuyWF5ehtVqxfT0NHp7e6FQKIJMqTVxzOZNpAAMJVAQ8u9pOEEYWkNIgpAgpIMEIEGcBQSOcwMie/tFk4Z1u91oaWmB0+nEwYMHYTQahd+JTcNulAhgIoWqTCaD0WiE0WgUTKn5KSWTk5Po7u5GRkZGkCCMpllnPQVgIIEzjPl1AP+sX3W73SQICSIBkAAkiDQn0NsvsBA/HGtF8Obm5tDS0oKcnBzs2bNnhVedGAEotgYQ2JgRwLWQy+WC0APOmFLzU0pGR0fR0dEBrVYblDKO5PWXCoJqLUHo8XgAhLedSYX1E0S6QAKQINIUvtHD5/MJXb7RjHMLJwBZlkVfXx+Gh4exdevWiI0eYlLA/JpXW9tqnK1NIFKjUCiQk5Mj+DN6vV7BcmZwcBB2ux16vT5IECoUipQRgKGEE4T8P6fTiZaWFuzYsQMqlYoEIUHEAAlAgkhDQse5RTvVI1wUzul0orm5GT6fDw0NDdDr9RH3FyPCxF6M6WIeH0qlEnl5ecjLywNwpqub7zDu6+uD0+lEZmamkErWaDRJN6VejcDyBr4ekv9cu93uoJSxUqkUBGG8k28I4myFBCBBpBmh3n6xXNRCI4DT09Noa2tDQUEBtm7duuaFX6wAFBM9BCgFLAUqlQoFBQUoKCgAALhcLszPz2NpaQkDAwPo7u4OMqU2Go0pa+DMfx4C5xMHRghdLhcAkCAkiDCQACSINCGSt18s8JESlmXR3d2N8fFxbN++HUVFRVHtn+gIoNgu4VQhVdOpPAw7C4YdAoM5aBV6aAoq0dnJYe/evWAYRogQTkxMwOfzwWg0BplSp4og5CPgga91YIRwNUHIm1GTICQ2KiQACSIN4FO+J0+eRHV1NUwmU9xmzG63G2+++SYAoKGhATqdLqb9443irRUBjEZYUgRQPAw7Cbn/DYCzA4weDLcAjh2FQeuHTCaDWq2GRqNBcXExOI6Dw+EQBOHIyAg4jgsypY5nrrRURHMjFEkQsiwrCEKZTLaiqYQEIXG2QwKQIFIcPurHsiwcDgd8Pl/cFyaHwwGLxYLy8nLU1tbGHMlJdg0gCUCRcCwYthvgnOBkFWceYwCOnYNR2wMGLgBqYXOGYaDT6aDT6VBaWgqO42Cz2QRBODg4CIZhgixnpDCljha+DCIWIglCv98Pv98Pl8tFgpDYEJAAJIgUJdTbj78oxSOC/H4/Ojs7YbVakZOTg61bt8a1pmTWAKbbxTc11+uEjLOAY7KDHuU4ExQKJ2TMEgBTxL0ZhkFmZiYyMzNRXl4uNGHMz89jdnYWfX19gik1HyXUaDQJey1YlpXkxiJ0jnGgIAxtKgmcY5ya7zFBRAcJQIJIQXhvP14wBV6kYhVRy8vLaG5uhkKhQGlpqSgRJjYFLBaKAIpF/n//vEGPcpwX4GRgmNguCYGm1JWVlWBZVvAgnJ6eRk9PD1QqVVCEUK1Wr33gKIknArgWqwlCPvoeroaQBCGRbpAAJIgUInCcW7gu31gEGMdxGBsbQ1dXFyoqKrB582YMDAzA6XTGvb5kRwBJAIqEUYNlyiBn28BCCzAqgPODwTScHiMQEhmMlcAZxcCZyDMvCMfHx9HV1QW1Wh0kCMOZUkdLIgRgKJEEoc/ng9frDRKEgXOMU6VRhiAiQQKQIFKEaLz9ohWAPp8PbW1tsFqt2LNnD3Jzc2PaPxLJrgFMF1JZqLLyrQDskLGjAFiAA1guG9ZlIxiZUtJzyeVyZGdnIzv7jLD0+XyCKfXw8DDa29uh0+mCTKmVyujXsB4CMBQShMTZAglAgkgBAse5rVZsHo2AW1xcRHNzMzQaDc4555ygObDJjMJJEcFLZWGVNjBasPJGcLIZAHYAKnjYLHh8JxMushUKBXJzc4UbEo/HIwjC/v5+OBwOZGZmBnkQho4jDITvAk4mawlCIPzYumSvmyBIABJEEol1nNtqApDjOAwPD6O3txfV1dWorq4OG0EUI6LE1gCKHQWXTqT0ehkFOKZY+JHDP/3x1hOVSoX8/Hzk5+cDANxut9Bh3N3dDbfbDYPBIDSUGI3GILPyZEQA1yKSIPR6vfB4PMLvSRASyYYEIEEkiXjGuUUSYB6PB21tbVhaWsL+/fuFGqxQUjkCOD8/j8XFReTk5ETsHKUIYGLgjauTLVozMjJQWFiIwsJCAGfGFPKCsKOjAz6fL2hKid/vT/qa1yKcIGRZFrOzsxgcHMSePXtWCEK+y5ggEgkJQIJIAoHefrH4i4UTgPPz82hubobBYEBjY+OqRfViI4CJEIAcx6G/vx8DAwPQ6/Xo6+tDRkYGsrKykJ2dLTQKUBNI4kjVySUajSbIlDpQEI6NjcHn80GhUGB4eFiYUpKKzyMQvj6QjwzK5XKhBCRchDCwy5ggpIQEIEGsI4HefvGMcwsUgBzHYWBgAAMDA6ipqUFFRUXcEcR4zh8r4QScx+NBS0sLHA4HDh48KNQrLiwswGq1Co0Cer0eHo8Hy8vLyMnJWXNmcbJJN6GaDutlGAZarRZarRYlJSXCjYPFYsHi4iKGh4cBIGhKiU6nS1nh5Pf7BWEX+HkOdALgBSE/5ziwqSRVnxeRPpAAJIh1gmVZ+Hy+mFK+ofACzO12o6WlBU6nEwcPHoTRaIxq/1RKAS8sLMBsNsNoNKKhoQFyuRwejwcymQw5OTnIyckBcEYkzs/Po6enBxMTExgZGYHRaBS6S9Mh6pPqpGoEcDUYhoFSqYROp0N9fT04jhNMqS0WC/r7+yGXy4MsZxJpSh0rkeoXoxWEx44dg0wmw/vf//71XDZxFkECkCASDP8FPjc3h+7ubhw8eDDui5BMJoPdbsfx48eRnZ2NPXv2rNolGW7/ZKeAOY7DyMgIenp6sHnzZlRWVq4qTFUqFQoKCjA2Nobi4mIYjUbMz8/DarViZGQEAIQLfHZ2dkpd5JOG3w9mehpccfHa2+LMZ1S9sAB4PIAIX771JlBEMQwDg8EAg8GAiooKsCyLpaUlwZS6t7cXSqVyxZSSZMFHANciUBDyf3ssy+K5556DwWAgAUjEDQlAgkgggY0e/CzfeMUJy7JCo8S2bdtQWloadwQxXhiGESKY8ezLsiyam5sxPz+/arPKascITQMuLy/DarUKo8iUSqVQO5idnS3KaFgMSROhHAfZqVNgLBawDge4zZvX3IWZmICprw/yt9+G/9AhIAYvvmSymg2MTCaDyWSCyWRCVVVVkCn1xMQEuru7hVpT/l+gZVKiiVYABhI4w9jhcKCoqCgRSyM2CCQACSJBhHr7KRSKuMWX0+kUauVyc3NRVlYW13HEpoDFRBCdTic8Hg+8Xi8aGxtjvtiGiz4GRn0qKyuFi7zVasXo6Cg6Ojqg0+kEQWgymWKKmMZLUmvqGAZcdjYYiwWy3l6wwKoikJmYgLKtDQwAzmgE1uH1kYpYbGDCmVLzgpD/rGi12iBBGIspdTxrF1PLarfbodPpJFwRsdFIn790gkgTInn7yWSyuKJnMzMzaG1tRUFBAXJzc7G8vBz32pKVAh4fH0d7eztkMhn2798fV3Qsmn1CL/Jer1dIF/f29sLlcsFgMATVD56N/mvc5s1gAch6e1cVgczEBGTNzeBYFq78fLD19UAapc/F+AAqFIqgWlOv1yuYUg8ODqKtrQ16vT5oSomUNw/8jWG82O126PV6ydZDbDxIABKEhKzm7cfbPURbcM+yLLq7uzE2Nobt27ejuLgYQ0NDolO469kE4vf70dnZienpadTV1aGnp0dUajRW8alUKoOMhp1OJ6xWq2AjwrJsUP2gVqs9a+oH1xKBvPgDAF9xMWxAWok/QHwULRClUom8vDzk5eUB+Gfz0fz8vHDzEDqlRMy5/X6/qAgjCUBCLCQACUIiWJaFx+OJ6O0XaAS7lshwOBwwm80AgMbGRiHVI4WNy3pNAuGfA8MwaGxshN/vT1oDCo9Go0FJSYlQP2iz2WC1WoWuUYVCEVQ/uJ41YYkgkggMFH9caSk8xcWQ9fYmda3xkMhJIHzzUUFBAQDA5XIJgrCzsxMejwdGozFoSkksa/H7/VCr1XGvz+FwUAqYEAUJQIIQCZ/y9Xq9q3r78dGCtS5ak5OTaG9vR0lJCWpra4O2TeYoNyB6ETYzM4OWlhYUFxejrq5O6F4WKwClhGEYZGZmIjMzExUVFfD7/VhaWoLVasX4+Dg6Ozuh0+kEMbhe9YNSEyoCMTkJ2GxnfldaCra+HpzVmpaRz/UcBadWq1FUVISioqIVptQTExPw+XwwGo1ChHCt8gIx0UuO4ygCSIgm/b7NCCKFiMXbj78Y+P3+sEIiMF26Y8cOIfIQeoxUTgGzLIve3l6MjIygvr4+qEtRigheIpsrAj3jgH/WhFmtVvT19cHpdApjyLKzs2EwGFa9wKeSoAoUgaHiD//3vqTSeqMlWbOAw3WjOxwOQRCOjIyA47ggU2q9Xh/0GoutAbTZbMjMzJTi6RAbFBKABBEHgeas0c5R5X8fToDZbDaYzWYoFAo0NjZG9CdLdgp4NQHpcrnQ3NwMr9eLhoaGFdEJsQJwvQVKaE2Yy+US6gdbW1vBsqxwgc/Ozg6aOpGSkzW02qAfOY1GqPlLVwG4mg3MesIwDHQ6HXQ6HUpLS4XyAl4QDg4OgmGYoA5jn88nqobQ4XBQBJAQBQlAgoiRwHFuAKISf/x2oZ3AHMcJ6caKigps3rx51QuaVAIw3gt+JAFpsVjQ3NyM3Nxc7Nu3L2yEk5FAbCRTWKnVahQXFwtzae12uyAIBwcHgyKI8XolJorAmj+ewJrAlBSsUZCsCOBaBJYXlJeXg2VZYUoJ71fJ/+3zjUhqtTrqvwv+80c1gIQYSAASRAwEevvxgi4W+E5g4IwPWXt7OywWC/bs2YPc3Nw195ciBQzEL8JCo3iB84jr6upWNaeW+tzJhGEY6PV66PV64QLP1w9OTExgaWkJCwsL8Hg8Qv1gIj3lVl1rSMMHW18Ppr8/uDEkTcfpsSybFuuWyWQwGo0wGo2orKwEy7J44403oFarMTk5KZhSB6aMV2sQcTqdYFmWUsCEKEgAEkQURPL2ixVewC0tLcFsNkOj0eCcc86JuttUigggEH/kJDAF7PF40NraCpvNFtU8YrHp0VS+0AdOnaiurkZbWxuAM2vu7++Hw+EIqh+MtWM0XsKJPzDMisYQRVYWmDSZ/hFIqkYA14Jfc0lJCUwmE/x+v+BByGcEtFptkCAMnGhjt9sBQHQK+H//939x77334tSpU5icnMT//M//4Morr4y4/bFjx3DhhReueLyzsxN1dXWi1kKsPyQACWINOI6Dx+NBS0sLamtroVKp4hYjDMNgYmIC4+PjqK6uRnV1dUzHkioCGO8x+BTw4uIimpqakJmZicbGxqiiW1LUx6VKBHAtZDIZtFotKisrAQBut1tIF7e3t8Pn88FkMgmWM6ENAlIQSfzxBIpAZX8/tJmZwL59kq4h0SRKAHrZJcx7W+DnHNDIS2BQ1ELGSHu5DBwFJ5fLg0ypfT6fIAiHh4fR3t4udKQPDg4iLy8PMplM9Cxju92OXbt24dOf/jSuuuqqqPfr7u6GwWAQfubrZIn0ggQgQawC7+3n9/sxMTGBzZs3x32h9nq98Hq9mJycxL59+4RpFbEgVQRQjJByu914++23sWnTJlRVVUX9ekgRAUwXARhKRkZGkIWIw+EIqh+UyWRCdDArK0v0hX0t8cfDi0DuzTehHRkB09cX1ezgVCERAnDB245B+xNwsZYzc5UZBYzKemzW3QCFTLqau9VsYBQKBXJzc4WyEI/HI3Sk33nnnYKh+te+9jVcdNFFeNe73hVXNPDIkSM4cuRIzPvl5+fDZDLFvB+RWqRf7Jwg1gG+0cPtdgtf1IH1e7EyPz+P48ePg2EY1NXVxSX+gORGAH0+H4aHh+F2u7Fv376Yo5cp3SErMas9R75jtKysDDt37sS5556LnTt3QqfTYXJyEm+++SbeeOMNdHV1YWZmBl6vN9aTQzY4eOZ/VxF/wuabN8NdVQWZTAbZyAgQ6/mSiNQC0MfaMWh/Cm6/BVpZMXSKcihlWZj3NGHc9RfJzsO7CETbBaxSqZCfn4+6ujq88847eOKJJ6DX62GxWHDTTTchKysLzzzzjGTrW4s9e/agqKgIF110EV599dV1Oy8hLRQBJIgQIo1zk8vlMXd3chyHwcFB9Pf3o6amBpOTk6IuWFIIwHgiaTabDU1NTWAYBmq1Oi4Bu5EjgKsR2CBQVVUVlP7jZ9LyI8j4+sFVhQPDwH/gAJiREXCbNkU13s1TUQHH8jL8hw4BaVQLKLUNzKK3HW52Fmp5ERjmzGusYDTwMzpYPG+hTHMFZIz41yfwuyUeDAYD8vLy8Itf/AIMw2BwcHDNGlwpKCoqwk9/+lPs27cPbrcbTz31FC666CIcO3YM5513XsLPT0gLCUCCCICf6BGu0SNW8eV2u9Ha2gq73S40SczMzCTVxoU/RixrmJiYQHt7OyoqKpCdnY2Ojo64zns2N4FISWj6z+12B40g83q9wsSJ7OxsZIbr4FWpYkrlchwHT0kJkGa2IlJHAP1wgeNYMAgW2AyjBMt5wHJeSQQg//cXrw+g3W4PmltdVVUlek3RUFtbi9raWuHnhoYGjI6O4r777iMBmIaQACQIrPT2C9flG0sE0GKxoKWlBVlZWUFNEvFEEQMJ7OKN9+IRrQBkWRZdXV2YnJzErl27kJ+fD6vVKlrAbYQmECnJyMhAYWEhCgsLgyZOWK1WjIyMAMCK+sFYxXK6GkFLbQOjlZdBzmjg42xQMmcsVjiOg49dhFG5HXJGXG0mT7w2Ujw2my1lTKAPHz6Mp59+OtnLIOKABCCx4eG9/XhRFMnYORrxxrIs+vv7MTQ0FNYXT0obl3gFYDSpVIfDAbPZDODMXb72/6ZIJHqUXKL2TQaJEFShEycCDYanp6fR09ODjIyMIEEYaB8SiXQUgHwdnZQRQJ28Ejmq/ZjxvA6f3w45kwEvuwylTI8izWWSvUZix8Cl0hzgpqamoJGPRPpAApDYsASOc4vG228t8caPQvN4PDh8+HBYk1YpBaCYY6y2/8zMDFpbW1FYWIi6urogoSnFKLmNkAJeL6EaajAc6CfH24fo9XpBDJpMprA3DukqAIH46+jCwTAMqnTXQiMvxqz7OHycHdmqPShUXwSjcptk5wm0gIkHqaaA2Gw29PX1CT8PDg7CbDYjOzsb5eXluOOOOzA+Po4nn3wSAPDAAw+gsrIS27dvh8fjwdNPP40//OEP+MMf/iB6LcT6QwKQ2JBEavRYjdUigLxoys/PjzgKjT+PmBSwWB8//hjh9mdZFn19fRgeHsb27dtRXFwcdt9ECsC13oN0igAmg1A/OY/HI6SLu7u74Xa7YTQaBUGYmZkpWtQnC/4zLLUNjIxRoVjzHhSpLwMHv+T+f4C4CD4gnQA8efJkkLHzrbfeCgD41Kc+haNHj2JyclIoMwDOfJ6+8pWvYHx8HBqNBtu3b8ef//xnXH755aLXQqw/JACJDUfgOLdYJnqEE28sy6Knpwejo6MRRVMgYqxkgH+mp6VoJAnE7XajubkZbrcbDQ0NEdNL65ECjhSNSrcIVSqgUqlgyFVAk6NFJfLAebQr6gdNJpMgSNIpEpiICGAgDMOASdAlUooIoBQp4AsuuGDVv8ejR48G/Xz77bfj9ttvF31eIjUgAUhsGMSOcwsVbw6HA83NzWBZFo2NjVHdkYtNAUtxjFARZ7Va0dzcjKysLOzduzdi9JLfN5ERwLUESDpFqpItpHysC2OuY5j39sDHOaFgNMhSbkFp0QUoKSkBx3FC/eD4+DhcLhdOnDgRVD8Y7YjCZJCoCOB6ILYG0Gazxe0lShA8JACJDUE8Kd9QAlPAk5OTaG9vR3FxMWpra6O+m5fJZLEb+4Y5hlRWMkNDQ+jr60NtbS3KysrWfE2SXQOYTgIw2Uy4Xse0+zQ08lyoZTnwcXbMeE4DkKFSeykYhoHBYIDBYBD+NvLy8jA/P4/R0VF0dHRAp9MF1Q+udnOw3vAdwMkW2vEgNgLodDpTpgmESF9S56+ZIBKE1+uFw+GAUqmMS/jx8OKtvb0dk5OTqK+vR2FhYUzHkMvlcLlccZ0/cB1iBaDX60VTUxOWlpZw4MCBqMc68SIs3lQhCcD1wc0uwerrgkaejQzZmZmtKsYADhwWfD1ws4eQIfuncTBvqJydnY3s7Gxs2rQJXq9XSBf39vbC5XLBYDAI2/D1g8kiUXOA1wOxNYA2m03ozCeIeCEBSJy18N5+CwsLeOutt3DxxReLihb4/X5MTU1Bq9WisbExri/gVEgB+/1+9PT0wGg0orGxMSqbEJ5AL7/1FoD8edOBZK/Tx9rhZ91QyQ1BjysYLRz+aXhZW1gBGIhSqUR+fj7y8/MBnIk68YJwbGwMLMsiKytLSBkHGhOvB1J7AAYi6+gAW1kJRPs37nRCNjAAdvv2qDY/m2xgiPSFBCBxVsKyLHw+n5BqEdN5y3EcxsfHMTk5Cb1ej0OHDsX95Z1MAchxHMbGxrC8vIz8/Hzs2bMn5gso/7yTEcVLx1RfslDJDFDItPCyNsjl/6wV87LLUMg0UAWIPyA6Qa/RaKDRaFBcXAyO42Cz2TA/Pw+LxYL+/n4oFAohXZydnZ3w+sFERQBlp09D/eUvg62rg+s//3NtEeh0Qv3v/w5ZWxtcP/wh2AMH1jyH2BSww+EgAUiIhgQgcVYR6O3HX9T4uqV40i4+nw8dHR2Ym5sTzE6TOcuXP0asIsrv96O9vR1zc3MwGo3Izc2NO4IHJEYARrOeZEfW0gWlTIdcZT3G3a+D87NQyvTwsjZ4uGUUq86BShYsHmKN6DIMg8zMTGRmZqK8vBwsy2JxcRFWqxXj4+Po7OyEVqsVBGFWVpbk9YMJSwFnZAByOWRmM9Rf/vLqIpAXf6dOndkmStGbKj6AxMaGBCBx1hDa6MEXiPNftLF+6S4tLcFsNkOtVqOxsRFTU1OYn58XtUax0UggdhFps9lgNpuhVCrR2NiIjo6OuEWoWB9CMT6A6VYDmOyIZZH6MBjIMedthds/D4VMi1LV+ShUr4xQibV/kclkgtADztTdLiwswGq1or+/H06nE5mZmYIgNBqNosVbogQgu307XP/1X1D/27+tLgJDxJ/rwQfB7twZ9drjFcQcx8Fut4c1mieIWCABSJwVrObtFygAo4HjOIyMjKCnpwdVVVXYtGmTMLdzvcWb2GNMTk6ira0N5eXlqKmpgUwmE9XJSyng9EHGKFGsaUR+xl54ORuUjA4KWfhZtlL7/ymVSuTl5SEvLw/AmSk5fP3gxMQEfD5fUP2gTqeLa35xoppA1hSBIsQfcOa7KJba21CoBpCQAhKARFoTjbdfLOLN6/Wira0NCwsL2LdvX5DXllgTZ2D9BCDLsuju7sb4+Dh27tyJgoIC4XdizJwTmQKOhnSJAKbSOhUyNRRQr7pNog2g1Wo1ioqKUFRUJESwrFYr5ufnMTg4KHQg84JQrV59vUDiu4AjikCGESX+AKoBJFIDEoBE2hKLt180qdeFhQWYzWZkZmbinHPOWXGHLlX6NtFRRKfTCbPZLBhUh3Yri4kAJjIF7HK5MDw8LMyuDU2RpVsKOJ1YzwkgDMNAr9dDr9cL9YNLS0uwWq2YnJxEd3c3NBqNECHMysqCUqlccZxEdgEL5wgVgV/4AsAwkHV2xi3+AHE2MCzLUg0gIQkkAIm0hGVZeDyeqCd6rCbeOI7D4OAg+vr6UFNTg8rKyrDHk0K8JTqKODs7i5aWFhQUFGDr1q1hLzJSTBKROgI4Pz+PpqYm6HQ6zMzMoL29XfCcy8nJoXqnBJPMEXAymQwmk0nwouStm6xWKwYHB9HW1gaDwSBEBw0Gg/B3tB4+gIIIvPFGyLq6zjzIMHGLP0CcDYzD4QDHcfQ3QYiGBCCRVvApX77LN1pj50gC0OPxoKWlBXa7HQcPHlzVEDmVU8Acx6Gvrw9DQ0PYtm0bSkpKIu6fiFnC0RIqAAPrLbds2YKCggIwDBNUMzY6OgoAyMjIgEwmg8vliipFmGzSqWYxlWYAKxQK5ObmIjc3F8CZOdV8uri9vR0+nw8mk0n4O1iPtbPV1YBSCfDfITIZ2M2b4z6emBSww+EAAEoBE6IhAUikDYHefkBs49zCCUCLxYKWlhaYTCY0NjaGTTOtdYxYSYQA9Hg8aG5uhtPpxOHDh9eMDKTKODfemsZisWD//v0wmUzweDwAVnrOLS0tYXBwEMvLy3jjjTeg0WiEiRRZWVmi6qmI1BKAoWRkZATVDzocDqGZxOFw4PXXXw9qKNFowje6xM3/NXwgcIKP37+2RcwqiBGAdrsdCoUipec0E+kBCUAi5Qnn7Sdmjm9gtCzaGbiANOJNahE5Pz8Ps9mMrKws7NmzJyprCYZhRK1BbBMJfxE3m82QyWRoaGiAWq1e1R/QaDQiOzsbcrkcW7duFaKDPT09cLvdMBqNyMnJQXZ2NvR6fcqKmVQllQVgIAzDQKfTQafTwe/3w2azoaysDFarFdPT0+jp6UFGRkbQzcFaN3arEqbbF3L52hYxayCmBpAfA5euY/CI1IEEIJHS8OPcfD4fAMQl/oB/Ci+Xy4Xm5mZ4PJ6oomXhjiEGPvom5oLL1yIODQ2ht7cXNTU1qKioiPp4YiOAYlPAy8vL6OrqQlFREerq6qK+kPHiUaFQBFmM8BEhq9WKoaGhoJm26zGRIhzp1qySLgIwEI7jIJfLYTQaYTQaUVVVBZ/PJxhS8/WDmZmZQnTQaDRGL7xWsXqJyidwFcREAG02G6V/CUkgAUikLCzLYm5uDkqlEmq1WtQdr1wux+LiInp7e5GXl4d9+/bFbMTK1wCKFW+AuAgAx3GYnZ0Fx3HYv3+/YL4byxqS0QTCcZwwT3b79u2r1ilGOm84tFottFotSktLgzpK+YkUOp1OiA7GJAA2EOkoAMM1gSgUCuTk5CAnJwfAmfrB+fl5zM/Po7OzE16vF0ajURCEmZmZ4Z/3Gj5/UZtFR0BsEwh1ABNSQAKQSDkCvf26u7tRVFSEsrKyuI/HsixsNhscDgfq6+tjFh48Uog3/hjxRgCWlpYwMTEBuVwe1qomGsQ2gcSzv8/nQ2trK1wuFyoqKuJ+D9YSnoEdpdXV1fB6vcK8Wl4AmEwmIToYjwHx2Ui6CsC11pyRkYHCwkIUFhYKNyB8Q8nIyAgACGIwKysLGo0GjMsVlc9fvCKQL2kRUwOo1WrT7v0iUg8SgERKEertp1AoRKVdHQ6HkPItLi6OW3gAwRNFxArAeATY2NgYOjs7YTQakZGREfckgfVuArHZbGhqaoJarV7T5FfsrOBQlEol8vPzkZ+fH9RAYLVaMTAwAIVCEZQuFjOdQYr1Jot0FYCx/B0yDLMiWmyz2VbUD246eRJlb70FZGbCs4bVS6gIVDz3HHxXX73mugFQCvj/WFpagsFgEH622WxQKpXU5LIOkAAkUoZw3n5iBODU1BTa2tpQXFwMo9Eoen2B0Tsxx4g1gub3+9HR0YGZmRns2bMHS0tLWFpaErWG9bKBmZmZQUtLC8rKylBTU4Pm5uakTQIJbCAoKysDy7JYXFyExWLByMgIOjo6hHm1fLp4oxTap6sAFNPgIZPJYDAYYDAYUFlZCb/fj4WFBczn5WF4YgLjmzeDdbmQ1duL7OxsmEymsKKNF4HyV1+F76MfXfO8gS4G8XC2pIBnZmbw4x//GP39/bjkkktwzTXX4Pnnn8dTTz0FlUqFG264AZdcckmyl3lWQwKQSBn8fv8KY2e5XC40gMRynK6uLkxOTqK+vh6FhYXo7e2F2+0WtT5+pNx6egHa7XaYzWYh5atWq2Gz2UQLoUTXAAZ2Wu/YsQOFhYVR7yvmvLEgk8kE+xDgjJ0OHx1sb2+H3+8PShfHknajJpDEI7URtFwu/2f94D33IMfjEeoHu7u7hW7zwPpBIaK/fTvY7dujOo9YAXg2RADdbjfuuecePPnkkzh48CC+8Y1vwGKx4O6778aVV16JyclJfPCDH8SxY8ewf//+ZC/3rIUEIJEy8AIr8EIUawTQZrOhubkZMpksaAxaPEIyHFJ0Akd7DD6CWVJSgtraWuGCsZ4RvHCsJSC9Xi+am5vhcDjCdlqLHUOXKFQqVVC9GD+vdm5uDv39/VCpVNLZi6QY6SgAeSP4RKFSqVBQUCDM0Q6sHxwdHQXHcUH1g9HeIPCp63hf77NhDNz09DR+97vf4fnnn8fhw4fx3//93/joRz+KX//61/jIRz4Cv9+PL33pS/jhD3+IX//618le7lkLCUAiZQhn8SKXywVz4LUYHx9HR0cHysvLUVNTE3RxkEK4Aeszy5dlWfT09GBsbEyIYMay/1okchLI8vIyTp8+Db1ej4aGhhUiSaz4XK/IWui8Wj49yNuLtLe3B6WLDQZDWqeL01EArtcoOB6NRoOSkhKUlJSA4zgsLy9jfn4es7Oz6Ovrg1KpDBKEkWrYxNQQA2cEYLpHAOfn58FxHA4cOAAA2Lx5MzIyMnDJJZcI9j7nn38+7r777iSv9OyGBCCRMoS7AEUTufP5fOjo6MDs7Cx2794t+MOFHkds6laq46wm4FwuF8xmM/x+PxoaGsLe6adCBDDc/pOTk2hra0NVVRU2bdoUUVCkSgo4FoLSg/jneDKr1YrW1lawLBvUTJJukACMDYZhhPrBiooK+P1+LC4uCtHBjo4O6HQ6QRCaTCbBdkqMBQxwRgDyY/LSFYfDAbVajcXFRWRnZ8Pn8+HgwYNBtjxerzfqm38iPkgAEinNWing5eVlmM1mZGRkCDVy4ZAqBZzICODc3BxaWlqQl5eHbdu2RYwSSCEApYwgBkYsIwnwwHOnW31cOELHky0vLwd1k/KvkUqlQlZWVsyek+tNugrAVFmzXC4XxP+mTZsE+6H5+Xn09vbC5XLBYDAgOzsbMplMtACsqqqScPXrj1arxa5duzAyMoLs7Gzs2LEDzz77rPCd5/P5MDg4iE2bNiV5pWc3qf2tRGx4IqVuOY7D6Ogouru714w48cdJlQhg6HPiOA79/f0YHBzE1q1bUVpauur+yTJyDjw/v7/b7RZsdiJFLENJxwjgagRGgyorK+Hz+XDq1CkwDIP+/n44nU7h4p+TkxPZfDiJpKsATGba3c/5MO7qwJx3BCqZBhXq3chUnIkQB9oPARAM0K1WKywWC/x+P5qbm4V0cSx+lA6HQ6htTleqq6tx6623wmQyATjzegU6NYyMjKCnpwfvec97krTCjQEJQCJlCPcFGC4C6PV60dbWhoWFBezdu1dIy62GVDWAUs/y9Xg8aGlpgcPhwKFDh4L8sKLZX+z544EXYgsLCzCbzTCZTNi7d29UUS6xY+TSAYVCITQQFBcXC80DVqsVo6OjABCULl7NF3G9IAEYG27Wgb9bfopJTy/AceDAoUn2AhpN/4JN2pVdqxqNBhqNBsXFxZiYmMD4+DiysrJgsVjQ398PhUIRVD+42mfibOgCzszMxLve9a6Iv6+ursYTTzyxjivamKRv1TKxIQhN3S4sLODEiRPw+/0455xzohJ//HFSrQmEfy5yuRwNDQ1Rib/A/cWeP14YhoHVasU777yDiooK7Nq1K6YUZzQWMpHOm4oRwLXgmwd27NiBd73rXdi1axd0Oh0mJyfxxhtv4M0330Rvb68QGUoGJABjo3npRUy4u5Ah00KnyIJOngUP58SJhV/D7p9fdV++NKC8vBy7d+/Geeedh+3bt0Oj0WB8fFz4TPT09GB2dnZF6YrD4Yhphnk4/vd//xfvf//7UVxcDIZh8Oyzz665z2uvvYZ9+/ZBrVajuroajz76qKg1pOPf8tkGRQCJlIYXbhzHYWhoCL29vaipqUFlZWVMFywpI4BiU8AMw2B2dhadnZ3YvHlzzM8lmSlglmWxvLwMj8cTdfRVqnMD6X/RkMlkMBqNMBqNqKqqgtfrFbqLea+5QO9BvV6/LsKMBGAM5+VY9DnfhpxRQsGcmRzDMAy0MiPs/gWMOFuwVX9+5P1DJpgE+lHy4wv5zwRfQpCZmYmJiQkolUosLy+LTgHb7Xbs2rULn/70p3HVVVetuf3g4CAuv/xy3HjjjXj66adx/Phx3HTTTcjLy4tq/3Ck2+ftbIQEIJHSKBQKeL1enD59GjabDQcPHhTqRmIhUEiK+eIRKyR9Ph9sNht8Ph/2798vmBDHQrIigC6XC01NTfD5fCgvL49Z/AHiLGjS7YIRzXqVSiXy8vKQl5cXNKvWarViaGgIMpksKF2cqPFY6SgAE+0DGAkWfvg4D2RMaJPWmdfPw61uOL+WDUzgZwI483c3Pz+P559/Ho8//jgWFhbwve99DwMDA7j44ouxY8eOmF+HI0eO4MiRI1Fv/+ijj6K8vBwPPPAAAGDr1q04efIk7rvvvrgFYCjp+BlMdygFTKQM4f74l5eXhTv9xsbGuMQfcEa4cRwnOoIkRnwtLy/jjTfeAMuyKCsri0v8iV0DEJ8Is1qtOHHiBPR6PXJzc+PuahX7BZ8uEcB41snPqi0tLcXOnTtx7rnnYseOHVCr1RgbG8Px48fx9ttvo6+vD1arVdJ0cTpefJMVAVQwSuSpKuFlXUHvs49zQ87Ika+qXHX/WG1g1Go1ioqKcNddd2FgYABGoxHnnHMOjh07hne96124/vrr430qUfPGG2/g0ksvDXrssssuw8mTJ+H1eiU5R7p9/s4GKAJIpBR8ipDvjB0YGAAA7NixQ5SVBn/HLdaDK94IIG9SXVlZCZfLJWoN6+kDyHEchoeH0dvbi9raWpSVlaGtrU1UFG+jRADFIpPJYDKZYDKZBGsRPjrY2dkJr9cblC6OpZM0lHQVgMla8+7M92DWMwS73wqFLAMs5wfL+VGh2YVC1eZV9xVjBC2TyeDxeHDDDTegvr5esJtJNFNTU8JEFJ6CggL4fD7Mzc2hqKgo7mPz5T0OhwPl5eXIzMwUbZZNRAcJQCLlcLlcaGlpgcvlwsGDB/Hmm2/C7/dLJgDFDpCPxU+Qn0s8NTUleOR1dnaKit7wAi7ei3a0Iszv96OtrQ1WqxUHDhwQoq/J6uRN1yYQqVAqlcJoMo7j4HA4BEE4MDAApVIZNKpOpVJFdVwxn6VkkswmkKKMLbgk5wtoXX4Z055+aOUG1GgbUK+/CAyz+pr8fn/U7024fR0Oh2C3xNvNrAehnw/+b1HM58bv9+MnP/kJ/vSnP+Gvf/0rfvjDH+LLX/4ynnvuOQwPD+Oaa65Z1VeUEAcJQCKlmJ2dRUtLC3Jzc7F3715hZqbYdBc/Z1iKOb7RutM7HA6YzWYwDIPGxkZoNBoA4juJhQH0IcXkse6/2kXf4XCgqakJCoUCjY2NQbVnYoSY2DF0G1kABsIwDHQ6HXQ6HcrKyoSucqvViuHh4RWj6oxG45piKZ0EIC9ak+kDWJRRg6KMGnAcu6boCyTev1vgTPMGANFdwLFSWFiIqampoMdmZmagUCjiqgXmxfvjjz+OBx54AP/+7/+O0dFRQRiXlpbiP//zP3Hw4EESgAmEBCCRMnAch4GBAdTW1qKkpER4PJU8/KI9xszMDFpaWlBcXIy6urqgC5VMJhNVNyOVAIy0Py/Ci4uLUVtbu+Iim6w0bjoJlPUmsFkEOOMvyUcH29vb4ff7BZ+57OxsaDQa4fWUIpKz3vCfv1SYvxyL+APElaE4HA4AWHcfwIaGBjz33HNBj/31r3/F/v3748qo8J+5n/3sZ7j55pvxuc99Dj/72c8E/8P6+npMTEzQKLgEQwKQSBkYhsGhQ4dWRHkUCoUkY9ykMnFe7Rgsy6K3txcjIyOor68PWxsjRQ0ffy6x+wcKQF6ADwwMYPv27SguLo64f7yv42rikWGYNUVIOkUAkymoVCoVCgsLUVhYCI7jYLfbYbFYMDs7i76+PqhUqqDoYLLXGyv85yAVBGCsiKlvs9vtUKlUcaeQeWw2G/r6+oSfBwcHYTabkZ2djfLyctxxxx0YHx/Hk08+CQD4/Oc/jx/96Ee49dZbceONN+KNN97AL37xC/z6178WtQ6LxYLCwkIAwNLSUlBkc3FxUciaEImBBCCRUoRLL6ZaBDCSgHG5XGhubobX60VDQ0PEu3Sx6+Av1GKjcEEdjD4fWltbsbS0tOZEErEp4HhJpxrAVFonwzDQ6/XQ6/WoqKiA3+8X0sWDg4NCWnF4eBh5eXnIzMxMeWGVShHAWBGTArbZbNBqtaLF+smTJ3HhhRcKP996660AgE996lM4evQoJicnMTIyIvy+qqoKL7zwAr785S/jxz/+MYqLi/HQQw/FbQHDv2/nnnsuXnzxRVx99dXw+XzCd+ZvfvMbFBQUCOKQSAwkAImUJ3QaiJjjJCoFbLFY0NzcjNzcXOzbt2/VhhUpbFzEiKHQCKLNZkNTUxPUajUaGhrWjC6IFYBn+yi4VEculyMnJ0eo3bLZbHj77bfhdDrR0tICjuNWpItTDf6zm46fCTEpYLvdHtW87bW44IILVv07PHr06IrHzj//fJw+fVr0uYF/vm933nknPvKRj+C2227D+Pg4/vGPf+DNN9/E/fffj3vuuSeoFIiQHhKAREoR7TzgeJB6ji8QnDatq6tDaWnpmhclsQJQ7DECI4jT09NobW1FeXk5ampqorqgiq0B3MiTQFIRXvBv374dDMNgeXkZVqsV09PT6OnpgVqtRnZ2NnJycmAymUR140sF30SQrgJQTAp4vabDrAclJSV4+OGH8e1vfxvV1dX42c9+huzsbDz00EP49Kc/fdY8z1Ql+X/JBLEGqZYC5o/h8XjQ2toqTCjha6nWQsp5wvHCMAwGBwcxMTGBHTt2xJRqEWsDQxHA1CKwCYRhGBgMBhgMBlRWVsLn8wnp4r6+PjidThiNRiE6mJmZmZT3JZkegGIRKwDFjoFLJW6++WZ85zvfwZ///OdkL2VDQgKQSHlSMQW8uLgIs9mMzMxMNDY2xtQJJ8U8YTEC0OPxgOM4zM3NrVqrGIlEpoBXu6inUw0gkD6CdbUuYIVCgdzcXOTm5gJA0Ki6kZERMAwTlC7muzgTTTI9AMUitgZwvTuAE4Xf78fRo0fxH//xH0GPp6MnZbpCApBIKVI9BcwwDLxeL95++21s2rQJVVVVMX9ZJTMFvLS0hKamJjAMgx07dsR1MUmkAFzruOkiANNlnUBsF1yNRoOSkhKUlJSAZVkhXTw5OYnu7m5otVpBDJpMpoRNc0i2B2C8cBwn2gZGihrAVIBlWdx666147rnn8LnPfU64eSDxt36QACRSnlSJAPp8PvT398Pv9+PgwYOC51qsJEsATkxMoL29HdXV1RgeHo77IiS2/pBSwKlFvBEXmUwGo9EIo9GIqqoqYSyZ1WpFd3c33G530Kg6KWvXxI50TBb8343YGsCzAZ/Ph+npafzwhz9EV1cX9u7di9zcXOh0Omg0GhiNRuzcuTPZyzyrIQFIpDwKhQJut1v0ccQIQJvNBrPZLHxxZ2VlJWUdPLGIMJZl0d3djYmJCWEc3ejoaNLq+KgJJLWQKuXGjyXLz88Hx3FB6eKhoSHI5XJBDGZnZ4vyskvXCKBYAWiz2c6aCODCwgKOHz+OxsZGvPjii/j9738Pj8cDn88Hl8uF8vJyDA0NJXuZZzUkAImUItyFSMomkHiEJB85q6ioQFlZGV577TVRF831jAC63W6YzWb4fD40NDQIBeTJjOKttq/NZgPLsmGjRRQBTAyJqLliGAZarRZarRalpaVgWRaLi4uwWq0YHR1FR0cH9Hp9kBl1LKIoXWsA+e+xZNvApAJFRUXo7+8XfuY4Dl6vFx6PB06nU/R3JLE2JACJlCdZXcAsy6KrqwuTk5PYtWsX8vPzhVS0mBTUegnAhYUFNDU1ITs7G9u3bw+y7xArAKUWjxzHYWRkBN3d3QDORJN4r7qsrCwoFApqAkkQ61F0L5PJkJWVhaysLGzatAkej0dIF3d2dsLr9QY1k6xldpyuXcD890a8a3c4HCgoKJB4VcnB7/djaWkJSqUSMpkMcrkcMpkMGo0GOp0uLd/fdIMEIJHyJKMG0Ol0wmw2g+O4FZEz4MyXVzwzMPlj+P3+hEYRR0dH0dXVhZqaGlRUVISNpokxkpYyAsiyLDo6OjAzM4M9e/ZAq9VieXkZFosF/f39gvVIZmYmWJalLkGJScbrqVKpUFBQgIKCAnAcB4fDAYvFIrznSqUyKF0c+reWzhFAMY0xZ0MNIP95a29vx1e/+lWUl5dDrVZDq9VCrVbDYDBAJpOhtrYW73nPe5K93LMaEoBESpEKXcCzs7NoaWlBYWEhtm7dGnSh4e/exUTw+AtAIgSg3+9HZ2cnZmZmsHfvXmHaQ7T7R4OUKWC3242mpiawLIvGxkZh7jN/4a+pqRFqyWZmZgAAx48fD4oOxivEE0k6RSqTLagZhoFOp4NOp0N5eblgs2S1WjE8PIz29nZkZmYGpYvTVQCKsYABzq4UsMfjwdLSEgYHB7G4uAi73Y6FhQXMzc3B4/HgmmuuIQGYYEgAEinPeqWAOY5Db28vhoeHsX37dhQXFydkPYGj2KRMI/NRSwBobGxc1ZNNbBpXCvG4uLiIpqYmZGVlob6+PmKkl7ceyc7OxhtvvIHt27fDYrFgcHAQ7e3tMBgMwqSKZBkTpzOplk4NbBYBztwk8M0kbW1tYFlW+Gw7HA5oNJqUWv9qUATwn98B+/fvx/Hjx1f8/ne/+x3+/Oc/49vf/nYSVrexIAFIpDx8VEgsqwk3t9uN5uZmuN3uNc2Rxdbwhc7ijYdQEcbPIs7Pz8e2bdvWFJZi0rhSpIAnJyfR1tYWk5civ43JZEJWVhY2b94Mt9stpA5HR0fBMAxycnIk6TTdKCQ7ArgWGRkZKCoqQlFRETiOg81mw8DAAJaWlvDWW28hIyNDeL9TNSLMI9a+xm63IzMzU8IVJQf+8xb4PcJ3dn/0ox/FiRMncP/99+OBBx5I0go3BiQAiZQi0V3A4Y5jtVrR3NyMrKws7N27d81Zp1JFAMUeg6+HGx4eRm9vL+rq6lBWVhbT/vEgthnD7Xajvb1daKwJPfZq5w0lIyMDxcXFKC4uBsuyWFpaEsRgZ2enkDrMycmBwWBYV6GTyqIqkFQXgIEwDIPMzEwYjUYolUrU1tYKo+pCI8L8qLpUShVLEQE8W0bB+f1+eL1eofkDOPNZdLlcGB8fP2uaXVIZEoBEypOoJhCO4zA0NIS+vj7U1tairKwsqguhWAHIMIwkUUSfz4eWlhZYrVYcOHAAJpMppjWst5efz+dDb28v/H4/zjnnnLhTWZEEi0wmg8lkgslkwqZNm4TUocViwdjYGAAIYjAnJ4eigwGkiwDk4dPWcrlceD8BwOVyCeni0dFRAAjqLtZoNMlctqgaQI7jzooIIF/68tvf/hbPPPMMKisroVarodfrodFo8Oqrr6K1tRU//OEPk73Usx4SgETKESowFAoFOI4TXfgdKNy8Xi9aW1uxtLSEgwcPwmg0Rn2cZI5y4/H7/ZienoZer0djYyMyMjLW7fzx7Gu323H69GkoFAqoVKq4R9DFQmjqkI8Ojo+Po6urS/Ch46ODUkaKqAkksUT6LlCr1UJEmOM4YVTd9PQ0enp6oNFogkbVrRXtlxqxKWCHw5H2NYA8DocDg4ODGB0dxdLSEux2OxiGwebNm/Hwww/jyJEjyV7iWQ8JQCLl4e+YxX558gKQn4fLi6dYI0FSpKTlcnncAmx2dhbT09PQ6XQ4cOBAXK9JIrz8IjE3Nwez2YzS0lIUFBQIjSrxnBeIT1wxDCOMLauurobH4xGig62treA4DllZWUI0KVZBnc6cTQIwEIZhYDAYYDAYUFlZCZ/PJ3gP9vb2wuVywWg0BqWLE/06UBPIP0tgrrvuOnzmM59J8mo2NiQAiZSH/8L0+XyiCrz55oU333wTmzZtQnV1ddwzUKUY5RbrMTiOw8DAAAYGBpCbmwuVSiWqizjRKeDAFPu2bdtQUlKCxcXFVfflOG7NY0sRXVOpVCgsLERhYaEQKbJYLJicnER3dze0Wq0gBo1GY0rVkUlNugrAWL8LFAoF8vLykJeXBwBBo+pGRkbAMIyQLk7UTYAYAej3++FyudLeBsbj8UClUuGWW27Bu971LnzsYx+Dx+MRPoNKpRIPPfQQzj33XOzZsyfJqz27IQFIpByhAoOv9REjuvx+vzBlYteuXaIKjMVE73hiTaPyKevl5WUcOnQIMzMzcDgc63b+QKKJHvr9frS3t8NisQTVJ4qtPUwEgZGiqqoqeL1eQRi0t7fD7/cL0cFUqCOTmlSzgYkGKXwAeXuhkpISsCwr3ARMTEwINwGB6WIxkbvAdYuZAwwgrWsAOY4TMi5/+9vfcODAAQBYkYV56KGHUFpaSgIwwZAAJNICMQLQbrejqalJiBjEUu8XDqkigNEKMJvNhtOnT0Or1aKhoQEqlQpzc3OS2sjEwlrRQ5fLhaamJgBAQ0NDkB+hFOPcEl1fp1Qqg6ZU2Gw2WCyWoDqywOhgpAt6uoiqdIwA8pYhUiGTyYJKBLxer5Au7u7uhsfjgdFoFG4C4h1V5vf74647tNvtAJDWKWCGYXD06FEwDAO73Y6Ojg6cOHFCqAs2Go2YmJiAz+ejLuB1gAQgkRbE6wU4NTWFtrY2lJWVoaamBn/7298kqd9brxTw1NQUWltbUVFRgZqaGuGiIyaFK3b/1UQcP384JycH27dvXyGOUjECuNY5MzMzkZmZGVRHZrFYgmbY8sIgHS060lEAJnoSiFKpRH5+PvLz88FxXFC6eHBwMMisOha/STEpYLvdDrVave6NK1Lzpz/9Ca2trRgfH8dPf/pTPPHEE/B6vcJ4zOXlZVx55ZWora1N9lLPetL7k0SclUjhBciyLLq7uzE+Po4dO3YId5PJbuCI9hgcx6Gnpwejo6PYuXPnirthKWxk4n0dIkUPx8fH0dHREXH+ML+vWAGYzA7bwDoy3pbDarVidnYWvb29UKvVyMnJgdfrFf0ZWS/SVQCu15oZhoFWq4VWq0VpaSlYlhVG1Y2OjqKjo0PoKOfTxZHEqdgUsFarTbv3KpQHHngASqUS1113HW644QZs2rQJDocDHo8HLMsiJycHe/bsSfvnmQ6QACTSgliEGz8SjeM4NDY2BkVl1jN6t9YxIgkEj8eD5uZmuFwuHD58OGzKR6wAFCPEAk1b+eN0d3djbGwMu3fvForspT4vT6pYrDAMA71eD71ej/Lycvh8PiwsLMBiscDj8aC9vR0TExNB0cFUvKilqwBMVmOOTCZDVlYWsrKysGnTJng8HiFd3NHRAZ/PF+Q9GPi+i3EyOFvmAJeXlwMAnn766VW/K4jEQwKQSAuiTQHPzs6ipaUFBQUF2Lp164q7bakigGKNqSOtg7eoMRgMaGhoiJjukSICKKYJBDgjHHw+H5qbm+F0OtHQ0LDmBSrdUsCxoFAokJubi9zcXMzPz6OsrAwsy8JisaC/vx8qlUoQg1lZWSmTyiMBKA6VShVUM8pHhfn3XalUCmKQn3wRD7wFTLq9V+HgOA55eXkYGBjAyMgIlEolZDIZ9Ho9DAYDMjIyUFhYmOxlnvWkxjcQQazBWsKN4zj09fVhaGhIsByJ5zhSrCUawgkwPoVaXV29pkWNFBFAsQLQZrPBbDZDp9Ph8OHDUdlyBIrHSCnitUiVCOBqMAyDjIwM5ObmoqysDH6/X4gO9vf3w+l0wmQyCZYj8TYVSAEJQOkIjQr7/X4hXTw8PCzMMbbb7cjOzo7JgPxsGgPHMAxOnjyJ2267Df39/RgbG1vxnSZGLBPRQQKQSDlirQHkU6ZOpxOHDx9e1SYhUeJNzDFYlkVXVxcmJyexZ88e5ObmJnwNYppA+AvW22+/jbKyMmzZsiVqAbGWAIx233Qg8PmFjixzOp2wWCywWCwYHBwUokR8hHC9o4MkABNDYLMIAJw4cQL5+flwOp1obW0Fy7Ir0sWROBtMoHn8fj9uu+02ZGdn48EHH8R5552HZ555BoODg/jhD3+Iu+++m8TfOkACkEgLIqWA5+fnYTabkZWVhT179qx54Uy1CKDb7YbZbIbP50NDQ0PUd/jJigByHIfh4WEAwJYtW4R6nljOyx9ntd+vtX+qs5ZI1Wg0KC0tFZoK+Ojg4OAg2tvbYTAYBMGY6LRfOvoASm0Ds16wLIu8vDwYDAbBYiiwiSgjIyNimYCUNYAPP/ww7r33XkxOTmL79u144IEHcO6554bd9tixY7jwwgtXPN7Z2Ym6urq4zm+z2dDc3Izu7m5B1O7cuRMXX3wx1Go1jh49io9+9KNxHZuIHhKARFoQKrp4IdLb27tq1+lax5FiLfEgk8ngcDhw4sSJiJYpa+2/3hFAv9+PtrY2WK1WAIjLp0uKKF66RACjRSaTBUWJXC4XLBaLkDbko0i8MBAzDScclAJePwKbQAIthioqKuD3+4VmEr5MwGAwQKfTYWpqCktLS5JEAH/729/illtuwcMPP4xzzjkHP/nJT3DkyBF0dHSsekPX3d0Ng8Eg/CymgcPhcEAmk0Gr1WJpaQlGoxHT09PIz89HVVUV3nrrrbiPTUQPCUAi5YiUAna73QDOjIRrbW3F4uJi0JSJaEiFFDBfKG6xWFBXV4fy8vKYL8Dr3QTicrlw+vRpyGQyNDQ04NixY3GdPxoBuNprkW5CJR7UanXQhIrFxUVYLBYMDw+jo6MDmZmZQnRQivm1JADXB47jVrWBkcvlQhMRcOZvzmq14u2338ZNN90Ej8eDoqIi/PznP8ell14ac/Sd5/7778cNN9wgzOF94IEH8NJLL+GRRx7B9773vYj75efnx/Rduxa7d+/GqVOnsGfPHmzbtg2PPvoovva1r+HJJ59EVVWVZOchIpNef0HEhkWhUMDv92N5eRknTpyAz+dDY2NjzF9IyY4A8lG0+fl55OTkRB25DGU9U8Dz8/M4ceIEDAYDDh48CLVaHXc3r9gIoBQ2MukEbzmyefNmHDx4EI2NjSguLobdbofZbMbrr7+O9vZ2TE1NwePxxHWOdBWA6bZmfs51tJF+tVqN4uJiXHnllRgZGcF73vMeFBYW4oknnkB1dTV27twZ8/eQx+PBqVOncOmllwY9fumll+LEiROr7rtnzx4UFRXhoosuwquvvhrTeUPJysrCl770JbhcLmRmZuKmm27C008/jYqKCrz44ou46667RB2fiA6KABJpgVwuh91ux5tvvomqqips2rQpbuGULB9Ap9OJpqYmMAyD8vJyOJ1OUWtYjxTw2NgYOjs7hXo//jVPlgAUu+96kgiBkpGRgeLiYhQXF4NlWSwtLQUZEgdGBw0GQ9Rd1ekmptIxAsh/Z8SzboVCAaPRiG3btuF73/selpaW0NzcHHOjxNzcHPx+/4ryjYKCAkxNTYXdp6ioCD/96U+xb98+uN1uPPXUU7joootw7NgxnHfeeTE/F+CMuH3/+98v/Pz+978f/f396OnpQV1dnVAOQSQWEoBEyhF6MfL7/ZiYmIDdbse+ffui6pKNhEKhEFLJ8RLPJBCLxQKz2YzCwkJs3boVIyMjwmzPeEh0CpifpDIxMYG9e/cK3as88TaRSBEBJM4gk8lgMplgMplQXV0Nj8cj1A62tLSA47ig2sGMjIywxyEBuD7wAlCsDyAAGAyGiE0b0RD6fq/2GaitrQ0ay9bQ0IDR0VHcd999cQtA/pxdXV2YmJhAQUEB6uvrkZubK/r7mYgeEoBESsOnuliWhVarFSX+gPVPAXMch6GhIfT19WHr1q0oLS0VjiHFJI94L96rCTjeVsftdkfsTI7XRmajRACTsUaVSoWioiIUFRUJM1UtFgvGx8fR1dUFnU4niEGj0bhioku6wH9u000A8qI13tdaChuY3NxcyOXyFdG+mZmZmJq6Dh8+jKeffjrudbAsi2eeeQYPPfQQTpw4gd27d+P06dNoa2vDww8/jI985CNhO48JaSEBSKQs09PTaG1tRUlJCXJzc9HZ2Sn6mOuZAvb5fGhra8PCwgIOHjwIo9EYdAyxETwg/ot3JAG3vLyMpqYm6PV6HD58OKKtjtiJHhQBTCwMw8BgMMBgMKCqqgper1eYTtHW1gaWZYXooM/ng0qlSvaSo4b/7KSbAPT7/aK87aSwgVGpVNi3bx9efvllfPCDHxQef/nll3HFFVdEfZympiYUFRXFfH5eBL/++uv4/ve/j2uuuQZHjhzBK6+8AgCCefZf/vIXEoDrAAlAIuXgUwNjY2Oor69HYWEhFhcXRY9fA/7ZTCIGuVy+ZvTNbrejqakJKpUKDQ0NK9JvYiOR/MUv3lRYuAjgzMwMmpubUVlZic2bN6/ZjZssAZgOEcBUQ6lUBo0rs9lssFgsmJycxOLiomAtk52dDZPJlNLiKl0jgGLmAANnrFNWM7mPlltvvRWf+MQnsH//fjQ0NOCnP/0pRkZG8PnPfx4AcMcdd2B8fBxPPvkkgDNdwpWVldi+fTs8Hg+efvpp/OEPf8Af/vCHmM/N/+2eOHECubm5+Pd//3fce++9wo2mwWCAXC7HzMyM6OdJrA0JQCLl8Pv9K2bLSpG6BaSJAPJ38X6/P2yEbGZmBi0tLSgtLcWWLVvCfulLFQGM9xiBEUCO4zAwMICBgQHs2LEjqhmcYkfJne0p4FQm0H+usrIS7e3tYFkWXq8XHR0d8Pv9wnSKnJwcaDSaZC85CP5zl27RYLERQJvNJskouKuvvhoWiwV33303JicnUV9fjxdeeAEVFRUAgMnJSYyMjAjbezwefOUrX8H4+Dg0Gg22b9+OP//5z7j88svjXsPi4qJwU7ywsBAkbK1Wq+hSHyI6SAASKYdSqcTevXuDLvS8ABRbryRFBDCS+OI4Dv39/RgcHER9ff2qKZJUEIAsywalqQ8dOhRk9LrW/pQCjkw61dXx82urqqqCPCpnZmbQ29sLjUYj1A6aTKakj+hK1wjgah6Aa8FxnGQRQAC46aabcNNNN4X93dGjR4N+vv3223H77bdLcl7+b+LQoUM4fvw4Tp48iaWlJUHYPvfccxgdHcV73/teSc5HrA4JQCIt4CNtkaJu0SKVETS/Fh6v14uWlhbY7fY15xHzxxCzDoZhREfhWJbFW2+9BYVCgcbGxpjqwBKRxuWNcn0+HxiGEQrmQy/0FAGUlkCxyotBvV6PiooK+Hw+zM/Pw2KxoKurC16vNyg6KEVEKlbSsQMYEJ8ClnIUXLLgn/8HPvABHDt2DHfccQcGBgZgNBrxxS9+Eb/61a/w0Y9+FB/+8IeTvNKNAQlAIi1YK+0aLVKkgBmGCRKSfOOETqdDQ0NDVKO6xHYBA+KiiMvLy/D5fDCZTNi6dWvMFyapU8Acx8Hv9wsXSf5nHplMJghCEoDSslq0UqFQIC8vD3l5eUIUymKxYG5uDn19fVCr1YIYzMrKWpfoYDoLQLFNIFJFAJONTCbDfffdJ9QTDgwM4K233hIaQ1Kt7OBshQQgkZKEXuj5i79Y8SZFCphfD8uymJqaQmtra1SNE+H2l2INsTI6Oip0VG/fvj3uc0sVAeQjf3yKTKFQgGXZoMc5joPH4xEihH6/P2x0kIidaNPVDMNAp9NBp9MJ3Zr87Nre3l64XC6YTCbBiFqr1SYkDc5xXFq+72JSwF6vFx6PR5JZwMnkP//zP3H48GE0NDRAoVDggx/8IK677rpkL2vDQgKQSBsUCoXoTmApm0kGBwcxOzuLXbt2IT8/P+b911sAsiyLrq4uTE5OYseOHWhubhblIyiFAOQjfaEeafwFnr9gut1udHR0QKVSQa/Xh40OpqMoSAXi/QyEzq7lo4NWqxUDAwNQKpWCGMzKyhIVuQ9EbCo1WYiJANpsNgBIewF477334s4770RDQwMA4LrrrsNVV12Fa6+9Nm0ju+kMCUAibZCqfo+PLMX7ZePxeOD1ejE/P4/Dhw/H9aXMizcxzQKxCECPxwOz2Qyv14uGhgbhQpQII+loCIzurWWQy5uB63Q67N27VxCQfFMQx3HCjcFqtYPrTbo0gUjVsKLVaqHValFWVga/34+FhQVYrVb09/fD6XTCaDQKglCn08V9znSNAIoRrvzUoHSvAdTr9cjLyxN+7urqEv520/E9TXdIABIpSbiLg1wuFx0BDGwmiecLZ3FxEU1NTZDJZKitrY37jpwXYGLSQtEKwOXlZZw+fRoGgwF79+6FQqGAx+MRzh+vj6CYCCDLskGzUSOJAavViubmZpSWlq5IsQe+hrwYDDwuf+xkRAfTqU4xER3LcrlcEHs1NTVwOp2CEfXQ0FDQ77OysqKqm+VhWTZtxHUgYiKAdrsdWq026R3YYllaWkJJSYnwM8dxMWdPCOkgAUikDVJauPj9/pguOgAwPj6Ojo4ObNq0CdPT05KsI9ECkK9RrKqqwqZNm1akWOMVKvHWAPJiw2KxQKPRQK1WR9x2bGwM3d3dqKurC7pohFtL4OsZmFbm//Hb8d3TFG34J+thWaPRaFBSUoKSkhKwLCtEBwcHB9He3g6DwSAIQr1ev+p60jVV6Pf7I85jXgteAKaj8A3E6XTi+PHjYFkW+fn5mJ2dxczMDKampqBQKJCRkQGVShX360TEBglAIm2QKgUcazNJYO3cnj17kJubi7m5OckmeYg5RqT9OY5DX18fhoaGsHPnzhVzPsWeP54IIB+hKysrw8TEBIaGhmAwGJCbm4u8vDzhws9xHHp7ezExMYE9e/YgOzs76nOE1g7yEcHAphJ+/amSKk426+1ZKJPJkJ2djezsbGzevBkul0uIDg4PD0Mulwu/z8nJWXGjlq4CUMy6zwYLGACorKzE008/jf/+7/8WbsYeeughPP7445DJZFCpVHC73XjuuefOmo7nVIYEIJGSJCoFDMQWSXS5XDCbzWBZFg0NDYLvmVgbFym6miMJQJ/Ph9bWViwtLUX0JORfX7Fp3GgJjMqVlZWhvLwcLpcLc3NzmJubw9DQEBQKBbKzs2G32+H1enHgwAHRF73VooOpkCpOBZJtWq1Wq1FcXIzi4mKwLIulpSVYLBaMjIygs7MTmZmZghG1wWBIWwEotglETN1kqnDvvfdifn4ebrcbTqcTPp8PdrsdTqcTLpcLHo8Hy8vLFAFcJ0gAEmmDlBYu0Rxnfn4eZrMZOTk52L59e9CXt1TRSKkjgA6HA6dPnxZmEEcydxZrJB1LCjhSs4darUZpaSlKS0vBsiymp6fR3d0t1PN1d3cLXaZSGA6vFR2UupEkXS7WyRaAgchkMphMJphMJmzatAlut1uIDo6OjoJhGKjVasEWKBbz8mQjtgbwbIgAXnrppcleAhEACUAibZDKwmWt43Ach5GREfT09GDLli0oLy9fcYFMpo9fpP0tFgvMZjOKiopQV1e3pngRc/5oUsB8h240zR7Ly8vo6elBfn4+6urq4HQ6MTc3h9nZWfT09ECj0QipYpPJJEkEKDQ6GPhPbHRwozeBSEVGRgaKiopQVFQEjuOwtLSEwcFBLC0t4fXXX0dmZqaQKjYYDCkdGRRT72u329PeAoZIPUgAEilJslLAfr8f7e3tsFgs2L9/P7KyssJuJ1UEUIoUcKBgraurQ1lZWVT7S9HJG4lAmxZ++0giY3p6Gu3t7di0aZMgtnnDYX4cmdVqxezsLFpbW+H3+5GTkyNEB6VIF4VLFQeaUKeizYxUpLIADIRhGBiNRqFruKamRogOtra2guO4oNrBVEsjirWBORsigERqQQKQSBsUCgXcbrfo40QSXk6nU7B4aWhoWLVDVYqRcmLrCPkawvb2dszMzKwqWMORqAhgJHPncNsNDQ1hcHAQO3bsCPIHC0ShUCA/Px/5+fngOA7Ly8uYm5vD+Pi4UCPGi0GDwSBazERKFaeSzYyUpIsA5OFtYFQqFQoLC1FYWCh8LiwWCyYnJ9Hd3Q2dTieIQaPRmPT3SGwKmCKAhNSQACTSBqkigOGid3Nzc2hubkZhYWFUs3Hlcjm8Xq+odYhNAXMch9HRUaHeL9b5mYmoAYxW/LEsi46ODlitVhw4cCDqjj+GYWAwGGAwGFBdXQ2PxyM0koyMjEAmkyEnJwd5eXnIzs6O2eonHJEaSQKjhPzaVnvOqUo6CsDQv8/Az0VVVRW8Xq8QHWxvb4ff70dWVpZgNbPazV2ioBpAItUgAUikDVI1gQQKQI7jMDg4iP7+fmzduhWlpaVRH8PlcolahxgBuLS0hLm5OajVahw6dCiuC4vYeb6ha492sofH40FzczNYlsWhQ4dEpepUKlVQB+nCwgLm5ubQ39+P1tZWmEwmITooRRdlNNHBwNrHdOhYPRsEYChKpRIFBQUoKCgAx3Gw2WywWCyYnp5GT08PtFqtEB2UqqY0mnVTBJBIJUgAEilJpBpAKQWgz+dDW1sbFhYWcPDgQRiNxqiPIVUKOJ5jTE5Ooq2tDXq9HllZWXFfVMREAEPn+Ubb7GGz2WA2m2EwGFZ0Vosl0F9uy5YtQY0k/f39yMjIEMSgmNct9JyhjSTd3d0AzjQwBI65SlUT6nQUgLG8dwzDIDMzE5mZmaisrBRqSq1WKzo7O+H1eoOig7FG0qNFbA0gP3OZIKSCBCCRNkiZAnY6nXjzzTehUqnQ2NgYs52E2Po9IPYIIG+QPDIygl27dsFqtYrqNhUbAeSFHx/54gVOJDFhsVjQ0tKCsrKyoKkkiUKj0aCsrEyYTWu1WjE3N4fOzk54PB5kZ2cjLy8Pubm5kqQEOY5DW1sbHA6HENlMBxPqdBSAYlL7oTWldrtdaDLq7e2FWq0WxKDJZJLkRoH/DFAEkEglSAASaYNUKWC32425uTlUVFRgy5YtcV2EpYgAxiIAfT4fmpubYbfbcfjwYej1eiwsLIiqQxSTgpbJZPD5fILAWUvMjI6OoqenB9u2bUNRUVG8S44buVyOvLw85OXlCSnBubk5TE5OoqurCzqdTrCZicdOxOPxCA1EBw4cEARKOphQp5sA5DhOsteKYRjo9Xro9XqUl5fD5/Nhfn4eVqsV3d3d8Hg8MJlMghF1vOPY+L+zeAWgw+EgAUhIDglAIiVJRAqYH482NzeHrKws1NXVxX2s9TSCttvtaGpqQkZGBhoaGoLEhdguYjERQF4AyuXyVTt9e3p6MDk5iX379sFkMsW9XqkITAnyDQMWiwVzc3Mwm80AINjM5OTkrBkd5t8fg8GA+vr6sOIksHYwtEYw2TYz6SYAE1lXqVAogm4UHA6H0EzS398PlUoVFB1UKKK7hAaWR8QDNYEQiYAEIJE2iBFdXq8XLS0tsNvtKCsrE93BK0UKOJrnw3cnFxcXo7a2NugCkohJItHAcRy0Wi2GhoawsLAgRM6ysrKC1sePpHM6nTh48KAk0zwSgVKpDLITWVxcxNzcHIaHh9He3g6DwSCkivl5xTwLCwswm80oLi5GTU1NVEIqtBZQahPqWElHAbge6w30o+TLCBYWFmCxWNDb2wuXyxUUHVytyYgvkYj3fbTZbDQbl5AcEoBEyhIaoVIoFHHVAC4vL6OpqQk6nQ4NDQ0YHx/H/Py8qLUlOgXMcRyGh4fR29uLbdu2oaSkJKb9xZ4/0pr4yFVBQQHy8vIwPz+P2dlZtLe3w+fzCZEzvV6Pjo4OZGRkBKVEUx2GYYRRZJs3bw6aVzw4OAiFQiE0kvj9fnR2dmLz5s0oLy+P+5zJNqFORwGYjHS5XC4Xon8AgqKDAwMDUCqVghjMzs4Oig6KsYDh6xRT9QaKSF9IABJpA58+i+UCwHfMVlVVCY0HUjSTJLIJhGVZtLe3Y25uDgcOHIiYNpUiBRzt/uE870LTZTabDbOzsxgeHobdbodSqUR+fj6cTicUCkVaiQye0HnFvODt6OiA1+sVojIOhyOh84oTaUJNAjA+tFottFotSktL4ff7sbi4KIjB9vZ2GI1GwWpGjAAEzny+KAJISA0JQCJt4L9AfT7fmnVZLMuip6cHY2Nj2LVrF/Lz84OOkywLl0DCRRFdLheampoAIKppJGIjgNHUAIaOdQt38eXr6mw2G1wuFzZt2gS1Wi0IQj5yxhs0S2n/sl7wNjMWiwUcx6G+vh4ej0eYV6zVaoXoYKLmFQfWDgYKcjE2MyQAxSOXy4XIX01NDZxOpxAdHB4eFrIZ09PTcRmUUw0gkQhIABIpS2gKmBcNawkvj8cDs9kMj8eDhoaGFV+cybBwCUdoJHJxcRGnT59GTk5OVB556xEBjGWs28DAAEZGRrBz507Bs4w3aJ6fn8fc3By6u7vhdruRnZ0tiKVE+a5JDcuyaGtrw9LSEg4ePCh8rvh5xXwjSWtrK1iWFWxmpJpLGyk6KNZmhgSg9Gg0GpSUlKCkpAQsy2J4eBhjY2MYHh5GR0cHDAaDEB3MzMxc8/W32+0UASQkhwQgkTbw6dvVBODi4iKamppgMpmwd+/esF16UqWA+ahYvBfPQAE3MTGB9vZ2bN68GZWVlVEdM9ERwGjFn9/vR0dHBxYWFnDgwIEVdhX8eLacnBxs2bIFDocDs7OzmJ6eFma28k0WRqMxJcWI1+uF2WwGy7I4ePDgigi0QqEImjyxvLyM2dlZjI6OCo0kUs4rBlaPDoZLFfP/Hwj//qfiax4JKW1g1gOZTAaNRgOtVot9+/bB7XbDYrHAYrFgdHQUDMMIYjA7O3vFZ8vj8cDn85ENDCE5JACJtGK1RpCxsTGhKH81ESVVBy8gbrwTnwLu7u7G6Ogodu/ejby8vJj2T0QTSKDB81riz+12o7m5GQBw6NChNVPzgZ2VlZWVggXL7OwsmpqawDBMUKo4FZpHnE4nmpqaoNFosHPnzjXf78C5tJs2bQo7r5gXgzk5OVFbiazGWtHBSI0k6SgA16sLWEoCo5YZGRlB4wuXlpYEMdjR0YHMzEzhhslgMMBmswGAJALw4Ycfxr333ovJyUls374dDzzwAM4999yI27/22mu49dZb0d7ejuLiYtx+++34/Oc/L3odRGpAApBIWaL1AmRZFp2dnZiamsLevXuFLr1ISFW/x59bTD3b/Pw8bDabYO4cC2JGufH7h0YAQ5s9VhN/y8vLMJvNMJlM2LZtW1yvQ6AFC8uyggULP8s3KytLEITJ6IJcXl7G6dOnkZ+fj7q6uriER7TzivnnmIjoYCSbmXQVgOlWQxqpCUQmkwld5/zNgsVigdVqRXNzM+6++27hJmhpaQkGgyHuNfz2t7/FLbfcgocffhjnnHMOfvKTn+DIkSPo6OgI28U+ODiIyy+/HDfeeCOefvppHD9+HDfddBPy8vJw1VVXxb0OInUgAUikFaHijW+a4DgOjY2NUdWTSZUCBs58sccTpbLZbBgcHATHcTh8+HBcx5A6AhhNswfP7OwsWltbUVFRgerqaslES1ZWFrKysoRC+tnZWczNzaG3txcajUZIFUvVZLEac3NzaGlpQVVVVdRp+bUIN6+Yf47rNa84UORbrVYAZz7HXq83pUbURSIdI4DRdgGrVCoUFRWhqKgIHMfhzjvvxFNPPQWZTIaKigrs3LkTR44cwWc/+1lUVlbGtIb7778fN9xwAz7zmc8AAB544AG89NJLeOSRR/C9731vxfaPPvooysvL8cADDwAAtm7dipMnT+K+++4jAXiWQAKQSCsCU8BWqxVmsxl5eXkxRaDisZMJhe+4jCeSODs7i+bmZmRlZcHr9cad5pSyCSSWZo/R0VH09fVh27ZtKCwsjPv8a6HRaFBeXi6M6OLntfJNFjk5OUKTRayznNdifHwcXV1dCR9dF/gc+XnFgTYzvK+iVPOKA1PF09PT6OjoQF1dHVQqVcqNqItEOjSBhBKPDQzDMLjgggug0+nw2muvoa2tDS+//DJefPFFLCwsxHQsj8eDU6dO4Wtf+1rQ45deeilOnDgRdp833ngDl156adBjl112GX7xi1+I+t4iUgcSgETKEikF7PP5MDw8jJ6eHtTW1qKsrCymiEBgnZSYC0mstYQcx2FoaAh9fX3Yvn07ZDIZBgYG4j6/FBFAPuLH/3c18ceyLLq7uzEzM4O9e/eu61g3hUKB/Px85Ofng+M4LC0tBU3rMBqNQhp1tYkMaxHYzbxnzx5kZ2dL/EwiE828YqmaZcbGxtDT04OdO3cKdaeBjSR8HWgyR9RFIh0FoJi0NW8Bk5ubi2uuuQbXXHNNzMeYm5sTDNwDKSgowNTUVNh9pqamwm7v8/kwNzeXlJnehLSQACTSCplMhrGxMbjdbuzfvx9ZWVkxHyMwfSumAD+WWkK/34/29nZYLBYcPHgQRqMRs7OzSRnlFri/x+OJKvLHj9LzeDw4ePBgUq1bGIaB0WiE0WjEpk2bgqZ1DAwMQKVSCUIpljQqX0tqtVrDdjOvJ+HmFfPPMXRecW5ubtTRGP4mZGhoCHv27An6+0mGCXWs8MI03QRgvKUiwJlyETE3NYGEHmMtF4Nw24d7nEhPSAASaYPD4cD8/DzkcvmaJsmrwQudRBg5hyOSuXOyZvkC//wiX1xcxMzMDHJyciJ+qTscDpjNZmg0Ghw4cECSrlUpCZzW4ff7hWkdnZ2d8Hg8UaVRfT4fWlpa4Ha7ceDAAUnSrVKiVCqDasP4ZpmhoaGgCGi4ecU8HMehp6cHU1NT2L9//5q+cuthQh0r0dSnpiJ+vz/uz5QUJtC5ubmQy+Uron0zMzMronw8hYWFYbdXKBRrNtoR6UFqfZMTRACBF7G5uTk0NzcLRfJiL9BSTQNZS4AtLCygqakJubm5QtqXRyofv1i9CPkLeWFhIbxeL/r6+tDW1iaYM+fl5Qmv7/z8PJqbm1FUVIQtW7ak/J2/XC4XhFBgGnViYgJdXV3Q6/VCdJD343O73WhqaoJSqUxJgRvKavOK+QgoXx/JT11hWTbIqzHWjupEmVDHSqDoTCekSAGLQaVSYd++fXj55ZfxwQ9+UHj85ZdfxhVXXBF2n4aGBjz33HNBj/31r3/F/v37qf7vLCG1v+mIDQ/HcRgcHER/fz+2bdsGm80muoMXWJ9xcOPj4+jo6EBNTQ0qKipWiCexa+AvgrEIwMAOUI1Gg9raWtTW1sJut2N2dhZTU1Po7u6GXq+HWq3G3NwctmzZEtYmItUJTaOG8+MzmUyYn59HdnY26uvr005YAOEjoIFTV0wmE9xuNziOw4EDBySbSiLWhDoeAoVmOuH3++N+/na7XZJyhFtvvRWf+MQnsH//fjQ0NOCnP/0pRkZGBF+/O+64A+Pj43jyyScBAJ///Ofxox/9CLfeeituvPFGvPHGG/jFL36BX//616LXQqQGJACJlMXn88FsNmNxcVGom+vv74fb7RZ9bKm8AMNF8PhmiYmJCezZs0cYixbt/rGcnz9ftCO/ItX7BZozu91udHZ2Ym5uDgzDYGhoCDabLa3n+AIr/fhGR0fR29sLhUKBmZkZmM1mIQKaLuPpQgmNgC4uLqK1tRU+nw9+vx+nTp1KyLxi/txA9CbU8ZCuEcB4uoB5pBKAV199NSwWC+6++25MTk6ivr4eL7zwAioqKgAAk5OTGBkZEbavqqrCCy+8gC9/+cv48Y9/jOLiYjz00ENkAXMWQQKQSFnsdjtYlkVjY6Ng8yGFcJPqOOGOwY8Mc7vdOHz48KqpGykF4FoE1m2tNdatq6sLNpsNDQ0N0Gg0Qk1d4BxfvltVimhSMpiZmUFfXx/q6upQWloKu92Oubk5zM7OoqenB1qtNqjjNt0EB3DG+qOzsxN6vR47d+4Ex3Er5hUH1kdKZaUTrQl1PI0kvAdgOkYAk5kC5rnppptw0003hf3d0aNHVzx2/vnn4/Tp05Kcm0g9SAASKYvJZMK+ffuCHpPCxJk/jtQC0Gaz4fTp09DpdDh8+PCatWR8DV+8thbRCEC+RpBf51pj3cxmM2QyWdC8W34sFcdxQqqYr6nLzMwUxGCk5oNUguM4DA8PY2BgALt27RKis3wEtKKiAl6vV/Dj48fcBXoOpkP9k8PhwOnTp4UpLfxnJXBeMW+lEziCbD3mFfNiMJ7oYDpawADiawDXatghiHggAUikFQqFImUigIERvJmZGbS0tKC8vBw1NTVRXTzF+hHykZBIAjB0ssdqkZPl5WU0NTUhOzs7SDCEnk+v10Ov1wfV1M3OzmJoaAhKpVJIoUo1xUJKOI5Dd3c3pqensX///ohjtZRKZZBQ4jtuBwcH0dbWlpDRbVLCj68rLCyM2LgTaqXjdruFmczrPa84FpuZdLSAAcTXAJLnHpEISAASaUWqpYB9Ph/6+/sxMDCA+vr6mL6oY0nhrnaMcPsHRlpWi/oBZ8RrW1tbzCPPQmvqrFYr5ubm0NnZGTTFIi8vT/JJHbHi9/vR1tYGm80Wk49haMet0+kURC8/ui3QczDZ4mR+fh5msxmVlZUxvZcZGRmrzivmZzLn5uYmbF5xNCbU6RoBTJUUMEEEQgKQSFlWmwQiFqmE5PT0NPx+Pw4dOhTzoPZECcBYxrrx6dDt27dH9AOLdh28QKitrYXNZsPs7CzGxsbQ2dkJg8EgpIqlMrWNFo/HA7PZDIZhcPDgQVEpXI1Gg7KyMpSVlcHv9ws1dW1tbfD7/UKqWMqaumjhx+Rt2bIFpaWlcR8ndF6xw+EQuqf7+voEKyY+0pvIRpLQ6KDH40lLISgmBexwOEgAEgmBBCCR0jAMI6QwgdRJATudTszMzIBhGDQ2NsbVDCFmnjBPqACMttmDn3oxNze3ajo0HgLtV6qrq+F2u4WoWeCkDikFRCQcDgeampqQmZmJ7du3S5qWlsvlQePplpeXMTs7K9TUGQwGQSgluj5yYmICnZ2dqK+vFyXkw6HVaoPmFfOit729HT6fT/CPlGpeMRA+Ouj1ejExMQG1Wi3cBK6nCXW88CI22V3ABBEKCUAirUiFFPD8/DyampqgVquh1+tFdcLGOk84FF4AxtLs4fV60dzcDJ/Ph0OHDiV86kVGRgZKSkpQUlICv98vpIp5AZGoqNni4iKamprWxcSaYRgYDAYYDAahpo6Pmg0NDUGhUAjPUWorneHhYfT392P37t0Jn9AQKnpD5xXr9XpBDIqdV8zDT9zp6OiA1+vF7t27gz7362VCHS+Bf5PxQAKQSBQkAIm0go8Axjr9IhS5XA6v1xvzfqOjo+jq6kJtbS28Xi+Wl5fjXgMgjRWM3++PutnDbrfDbDZDp9Nh9+7d6z71Qi6XC9G/uro6IWo2MjKCjo4OGI1GQSiJSRXz6dDNmzcnxcQ6UPSyLCtY6XR1dcHj8QhWOmKiZhzHob+/H2NjY9i3bx+MRqPEz2J1whlt89FBMfOKQ+H9QFmWxd69e4OOE40JdbLFIL+meEQ/x3GUAiYSBglAIqUJTQHzX6J+v1+UeJHL5XC5XFFvz7Isurq6MDk5ib179yInJwfDw8OixBsgXgAyDAOfzxdVs4fVakVzczNKS0uxefPmpHevhkbN+JFmoQ0WeXl5MZkW8wbPYusapUImkwlWOvzUlXBRs7y8vKjtVziOE1L4Bw4cSAmBoFKphHnFLMtiaWlJ6BCPdl5xKLyvJsMw2Lt374q/+fU0oY4X3rsw3vPabDaygSESAglAIq3gv+h9Pp9oARhtCphvIvB4PGhoaBDmqK7HOLnV4DgOcrkcw8PD8Hg8yM/Pj5hCHRsbQ3d3N+rq6lBSUiJmyQkjdKRZONNiPmoWLprEcRz6+vowPj6OvXv3wmQyrf+TWINAK53Kykp4vV4hVXz69Omo7FdYlkVrayvsdjsOHjyY8BR+PPBj9kwmE2pqaoLEPV8Hyj/PSClxr9eL06dPQ6lUYteuXVFF0BJpQh0vYjqAAUoBE4mDBCCRVvBf2uslvHhPNYPBsCICITZ6J+YY/EVt27ZtmJmZEYyZQ7ttAaC3t1cYS5ednS1qvetFaK0ZH00aHh5Ge3t7kBefTqcDy7Job2/H4uJiykTEokGpVAZFzRYXF4UIKG+/woterVYLn88n1G/u378/6fY60bLWvOLA56nRaODxeHDq1CloNBrs3LkzbqN0KU2o40WMByBvvk4CkEgEJACJtGO9Im/T09NoaWlBVVUVNm3atCJllch5wpEIbfbQ6XSorq4Wum1nZ2eFKAvfnMKyLPbv35+2F5FA0+JQL76+vj6o1Wqhy3L//v0pGRGLBplMhqysLGRlZQXZr/Dj6TQaDXw+HzIyMrB37960EX+hhM4r5lPi09PT6O7uhkajgdfrhV6vR319/brazPDbShkdFBMBdLlcYFk2bf92idSGBCCR0iTKC3A18cYX1w8ODmLHjh0oLCwMu51UEcBoRWRgBANY2eyRkZEhRFnsdjtOnz4tRDtOnjwpRMykmuyQLAK9+Ox2O06dOgXgTMrwzTffTLuxbZEItF/hI9EymQwulwvHjx8XRJSYBotkE5oS55+nQqGA3W7HP/7xj3WZVxzYSBL4NyaFzYxYCxgAJACJhJC+VwFiwyKFF2AkAejz+dDa2oqlpSUcPnx41eJrqSKR0YjIwAvUWhejxcVFmM1modOWYZgVqUW+CzUvLy9tI2b8+Lrc3NwVz5Mf2xaaQk1HbDYbmpqakJeXh61btwLAipS4VN3TycThcMBsNiM/Px91dXUAsGJeMe+tmJubi8zMTMlsZoDIjSRibWbEpIBtNhtkMlnUk2sIIhZIABJpR6JSwLxpsFKpRENDw5rRhvVKAUc72QM4k7Zub29HdXU1KioqhG0DC/LtdjtmZ2cxNTWF7u5uZGZmCmIw0YbFUmGxWNDS0rJi5Fng83Q6nUJKvKenB1qtVnieUnnUJRrey7C0tDSoDCEwJR6ue1rqSR2Jxmaz4dSpUyvmF4fOKw70VgxMJUsZ1V4tOhguVcz/fyTEpIB5C5h0+KwS6QcJQCKlWa8UsNVqFUyD6+rqorporkcTSCxj3YaGhjA4OIj6+nrk5+dHPKZOp4NOp0NlZSU8Ho8gHoaGhqBUKtdtSke88FMvtm7diuLi4ojbaTQaIYXq8/lgsVgwOzsreNSlekrcYrGgubkZmzZtQkVFRcTtQhsswhlt80JJjGl5olheXsapU6dWiNxQQr0VFxYWhDrQ0HnFUjUBSWEzIyYFbLPZSAASCSP1vvUIYg2kTgGPjIwIFillZWVxHSNeItUA8s0e0Y516+jogNVqxYEDB2LyDFOpVCguLkZxcbHQnTk7O4v29vYVs22TXWfGcRwGBwcxPDwc89QLhUKBgoICFBQUgOM4LCwsYG5uLiglzgvCVEi3TU9Po62tbU2RG0qo0TY/k3l8fBydnZ3IzMwUnqdUKVQx8BHOiooKVFVVRb1f4Lzi2traoHnFvb29UKvVwudWyhuZeGxmxEQA7XZ72nS0E+kHCUAi7ZCy9q6trQ0zMzPYt29fzBYpMplMEGnxXmDC1QCGNnusJv48Hg+am5vBsiwOHTokeiwdH0Gpq6tbYeTL19MlQyTxRtz87GIxxrgMwwjdtjU1NXA4HJidncXMzAx6enqg0+mE5xmtMbOU8EbWO3fuRF5eXtzHCZ3JHBjtHR4ehkKhCEqhSjmeLhoWFhbQ1NQklCuIIbBhxufzrYiCrse8YgBho4MejwcMw8T1PcELwGQLdeLshAQgkdIkKgXMC8iFhQU0NDTEJWgC00LxCsDQFDCf8uWnn6x2XJvNBrPZjMzMTNTX10t6AQ9nvRJYT7eeIolvzHG5XAkxPtZqtaioqEBFRQW8Xq+QKg40ZuZTxYkUSYERzj179iArK0vS4wdGe/nxdHNzc+jp6QnrxZdIrFYrzGYztmzZgtLSUkmPrVAows4r5r0yEzWvOPC//A0cX59ZUFAgfGfFYjNDEUAikZAAJNIOsSngpaUlnD59GgCwd+/euC92UoylC0wBx9LswTdBlJWVrVo3JRWB9XThRBIvBiNNdYgXt9stNObs378/4WlopVKJwsJCFBYWBtWZ9fb2BhkzS909zXEcenp6MDU1JTrCGQ2B4+l4z8HZ2VnBi48X+FKKJJ65uTm0tLSgrq4upvR2PKw2r7ipqQkMwwRFQaX6fMlkMni9XrS0tMBoNKKqqkqIDMZiQs3XABJEIiABSKQdcrkcbrc7rn2npqbQ2tqK6upq9Pb2iloHf1EUI0blcjk8Hk9Q5G8t8Tc6Ooqenp6Y68OkIlQk8XWDXV1d8Hq9QXWDYnzbeC/DrKwsbNu2bd0bUkLrzEK7p/V6vfA8xURB+RrOhYUFHDhwYN3tahiGCWoM4gX+3NzcioaZ7OxsUSJpZmYGra2t2L59e0R/zUQSOq94cXERc3Nzgm0QP6+YnzAT73vKTzLho/OBx4nFhJqmgBCJhAQgkdKE+wLmTWJjgZ8TOzQ0hF27diE/Px+Dg4OixBvDMFH7+K12DL/fH3Wnb09PDyYnJ7F3717JU4TxEBhJqq2tFZoOeN823p8ucDRdNMzPz6O5uXnNztD1JLR7mo+CjoyMxB0F9fv9aGlpgcvlwoEDB1KiSzdU4PMiKXA8XTzdtlNTU2hvb8eOHTtW7VJfLwInr/C2QXwjSbTzisPh8Xhw8uTJsOKPP2+0JtTLy8sUASQSBglAIu2ItQnE5/OhpaUFNpstyNx5vUbKRYKP9i0uLmJ8fBx5eXkRBQBfB+d0OnHw4MGUNDUObToI9afjOzPz8/NXTSvyXoaJqA+TitBIUuhs20Cj7UjvqdfrFSJs65HejodwIml2dlbottVoNELEzGQyRYzSjo+Po7u7G7t27UJubu46P4voCJwwEzivuKurCx6PJ6iRJFLZCB/50+v12L59+5o3LqvZzLAsi7/85S8paVFEnB3QJ4tIO2JpAnE4HDh9+jQyMjJw+PDhoJRkMmb58vB3/Xxx+Pj4OLq6umA0GpGfn4+8vDxB5DmdTpjNZmRkZODAgQMpKRTCEehPF86HjxdIgc0Vw8PD6O/vx44dO0R1wK4nofV0fKqYbzoIZ73idrtx+vRpqNVq7Ny5c907cOMl1FvRarVidnYWra2tYFk27Ng2vqt59+7dMXfaJ4vAjng+/R84r5g3FedrJGUymSD+dDpd3DOM+eggy7L46le/irm5OTz99NMJeIYEATAc325IEClKaL3f9PQ0+vv70djYuOp+FosFZrMZxcXFqK2tXfGFfPz4cdTU1IhKR/3jH//A1q1bY4pqBNb+BKZ8XS6X0GlrtVqh0+mQmZmJ2dlZFBQURG1QnerwPnz8c3W5XMjOzgbLslheXsaePXtgNBqTvUxJCLResVgsUCqVMJlMsFqtyM7Oxvbt28+a95Qf2zY7OwubzQaDwQClUon5+fmEdDUnC6/XKwjfubk5cByHrKwsLC8vQ6/XY9euXaLeU5Zl8fWvfx2/+93vcOzYMdTU/P/t3XlYlPX6P/D3DPu+byKrgiKIbO5LmKWiIJim1jllaaZli1ppHtuzn6Wlthy3Fs00tVjUXEhLcUNN2TdFEBQQZgFZhmWY5fn94fd5zoAoAwzMIPfrurquGIfheRSdN5/P575vHw1ePSH/QwGQ6LzWAVAsFiMvLw/jx49v8/kMw+DWrVu4ceMG/Pz8HriNeOnSJXh4eMDFxaXT15acnIwBAwbAyclJreerW+krk8lQWFiIkpIS8Pl8bkKHo6Ojzk7o6Kza2lpkZ2ejsbERSqUSlpaW3L0+Sj3QlEolysrKkJ+fz90Tu1Wsq1M6OqupqYnr28jj8bjzdOyEmd6y4tkehmFQVVWF7Oxs7oe6rswrZhgGn376KXbt2oXTp09zs58J6Q60BUx0Ho/Hg+rPKQ/bAmYrKoVCIcLCwh666tDTW8Cqh7zbK/a4ffs2ysvLERwcDFtbW9y9exdCoZCb0MG+mdrb2/fqM0LNzc24fv069PX1uUDPrgwWFRXByMiI2yp+2Bmz3qCmpgYFBQVc42N2q5id0sEGX3t7+14zk7ktDMOgtLQUNTU1GDlyJExNTbnzdHl5eWhubm6xVazpvo49SS6X48aNG7CyskJgYCBkMlmb84rZ4qCH/V1lGAZffPEFfvzxR5w6dYrCH+l2tAJIdB7bJoVVV1eHy5cv44knnmjxPLZnnFKpREhISLtvLKmpqbCzs+vSFIIrV67AxcXlocUKbO8vNmzyeLwHvrkrFAquJUhwcPB9LSDYrTY2JNXX17coOOhNb6aNjY1ITU2Fubl5m42s2bm27L0qlcoWTZl7y1lIANw5uQcVtkil0hZbxYaGhjo/k7ktbKW6QCBAaGjofRWsDMNwwVcsFqOmpkZj7XR6mkwmQ2pqKgwNDdvc9lUtDhKLxWhsbHxgBTXDMNi0aRM2bdqEv//+G0FBQT18N6QvogBIdF7rANjQ0IBz585h8uTJ3JsFO1PUxsZG7akYGRkZXMVqZ6WkpMDe3v6BIbIjkz2kUikyMjIAAMOGDVNrS1B1jFlNTQ0sLCy4IhJd3j6tqalBeno6nJ2d4evr2+51thV8tTmariPu3LmDvLw8BAQEqHVUgA2+bCCUy+Ua663YnRiGQV5eHiorKxEaGqpWpbpqO53KysoWk1faWzHTpvbCX1tU5xVXVVXBxMQEf//9NwIDA3Hz5k189dVXOHHiBIYPH94Dd0AIBUDSC8hkshbbrM3NzTh16hSefPJJ6Onp4c6dO8jJycGAAQPg5eWldujJzs6GkZFRlw5Zp6enc53+W3tQsUdb6urqkJ6eDmtrawwZMqRTZ6TYggOhUIjKykoYGRlxYdDa2lpnwiC7GjZgwIBOr76ywVckEqG6uppbRVKttNUFbFVzZytgGYZBXV0dd68SiURjzYo1iWEY5OTkoLq6GqGhoZ0K5KqTV9gVM7b1ii6FfLlcjtTUVBgYGHS64IOtin/nnXeQmJiI+vp6PPbYY3juuecwbdq0Lp1LJkRdFACJzmsdABUKBU6ePImJEyeiuLgYJSUlGDZsWIfbhuTl5YHH42Hw4MGdvrasrCyYmJhg4MCBLR7vyFg3NhB5eHjA29tbI2/oCoWCW1kRiUQA2m670tNKS0uRn58Pf39/tQtn2sOeu2KDg76+foumzNrYPmUbj5eVlWm0qlm1t2JVVZVOnJFUKpXIzs6GRCJBaGioxopZ2NYrYrEYd+/ebbP1Sk9jw5++vj6GDRvWpb9HDMPg559/xqpVq7Bp0yZUVFTg6NGjuHLlCtLS0jB06FANXjkh96MASHRe6wDIMAz+/PNP2NraoqmpCSEhIZ0al5Sfnw+ZTAZ/f/9OX1tOTg709fUxaNAg7rGOFHuUlJSgoKAAQ4YM6bbRWKptV4RCIaRSKezs7ODo6NhjW4oMw3BVzUFBQd3WEkR1NJ1IJNLoaDp1qW6FhoSEdNskh7bOSKrea0+ckVQqlcjMzERjYyNCQ0O77fe3desVANy99tR5ULlcjrS0NOjp6Wkk/O3duxdvvfUWDh8+jIkTJ3K/JhKJYGdn12vOfZLeiwIg0XlyubxFtW59fT3OnTsHa2trhIaGdvof/8LCQtTX1yMwMLDT13bt2jUwDAM/P78OFXsolUpcv34dQqEQw4YNg7W1daevoSPYQ/hCoRAikQh1dXVtNp/WJLYym+0H11OzTRmGgUQi4e5VIpHA2tqaWzHrjntVKBTIzs5GfX29WoVImqJ6RlIsFnP3qrpVrGkKhQIZGRmQyWQICQnpsaIchmG48XTseVDVezU1NdX4tjgb/vh8PoKCgroc/n7//Xe89tpriIuLw5QpUzR4pYSojwIg0XmqAVAkEiEjIwMMw7Tb5qU9xcXFXCjprBs3bkAqlcLf379FscfDwp9MJkNmZiaam5sRFBSk1bNNbTWfZnvwaeIsHXuvMpkMwcHBWu111/pe2S1FBweHh46mU5dcLkdGRgbkcjmCg4O1WqzR+l5NTEy4lUFNbBXL5XKkp6eDYRgEBwdrtVhDdYav6ra4vb29RiqoFQoFUlNTNRL+ACAhIQEvv/wyDhw4gMjIyC69FiFdQQGQ6Dy5XA65XI7i4mJuu7SwsBD+/v6ws7Pr9OuWlJRAIBAgLCys069RWFgIiUSCgIAAtYo9GhoakJ6eDhMTEwwdOlSnqhxlMhkqKyu5IhI9PT1uZbAzb6RNTU1IS0uDkZERAgMDdepeVUfTsc2KVVvMdPRNvrm5uUVhgK7dq+r2aVfb6chkMm4rVBOBSJNUt8XFYnGXK6gVCgXS0tIAAMHBwV2+1yNHjuDFF1/Enj17MHPmzC69FiFdRQGQ6DypVIrMzExUVlYiODgY1tbWHZ7A0ZY7d+6gpKQEI0eO7PRrFBUVQSQScQHnYeHv7t27yMjIgIuLi1qtT7SJPUvHbp92tPl0XV0d0tLSYGdnBz8/P50+z6RafSoSibgzkupO6GD7GVpYWHR6BmxPaWv7lO1Np862OBt02VCvS+GvNbaCmr3Xuro6bkqHg4NDu822FQpFi1XOrt5rYmIinnvuOezcuRNz5szp0msRogkUAInOYyd7BAcHc2eqLl++DDc3N/Tr16/Tr6vuTOEHYYMDu+1nb2/PFVa0DkhsLzhfX1+4ubl1+pq1oaPNp6uqqpCRkQEPD48OteXRBaqNikUiEWpra7kJHW21XZFIJEhNTYWDgwMGDx7cq+4VuBde2XtVrbRta1tcKpUiNTUVpqamGDp0qE4H3bawzbbFYjEqKyuhr6/fouegasBjw59SqdTIFvepU6cwb948bNu2Df/617963fcJeTRRACQ6r7m5GXK5vMU/0FevXoWjoyPc3d07/boikQjXrl174EzhB2ld7AGgRbEBG5DYMFhaWoqSkhIEBgZ2actaVzys+XRtbS3y8vLg5+fXpXCuK1pP6FBtu8Ln85Geng43NzeNte/Rptbb4gBaFJFkZGTA0tIS/v7+vS78taZaLS4WiyGVSrkfamxsbHDt2jWNhb+zZ8/i6aefxjfffIMXXnih13+fkEcHBUCi8xQKxX2zfx/WgFld7JZseHi42p+j2t+PLfRo/Q86u4LEBiQ+nw83Nzf079+/WypPtam5uZlbQRKLxWAYhgvmutR8WhNUeysKhULI5XJYWlrC09MTdnZ2OnXur6vY1kFisRgCgQCNjY0wMjKCh4cHHB0ddaYpsyawq75sE3XVv7NOTk5dGk938eJFzJw5E+vXr8fixYsfqb8PpPd7dP7FIo+stv7R1NPTa7EC1xkdfY3W4e9BqyBmZmbQ19eHQCCApaUlnJycUFVVheTkZJiZmXGrZbo0saKzDA0N4eLigtraWujr68PLywsSiYQbacdWFLfeYuuN2KIYpVKJ8vJyeHt7Q6lUorCwEFlZWb12JnNbeDwebGxsYGhoiIqKCri4uMDCwgIikQg3btzgqsXZpsy9+fuYx+PB3NwcpqamqKqqgoWFBdzc3FBVVcVV/7LzezsS9K9cuYJZs2bhs88+o/BHdBKtABKdp1QqIZPJWjyWm5sLPp/fpSkeEokEycnJmDx5crvP7chkD7YAwtbWFkOGDOGCYuuJFQYGBi2qbHvjG4RCoeAaAQcHB3MrQ0qlEjU1Ndy2uDaaT3eHkpIS3LhxA0OHDm0xeYZdQWo9ms7R0bHdYgNdJZFIkJKSAhcXF/j4+HD3wFaLs9/HvWV+78MolUpkZGSgubm5RU9D9vuYvdeGhgZuBrW9vf0DV/TT0tIQGRmJ9957DytWrOiVf/7k0UcBkOi8tgKgJqZ4NDU1ISkpCVOmTHnoP9AdCX9CoRDZ2dnw8vKCp6fnA5+r2q5CKBQC6H2rZVKpFOnp6dxkhAe1E2mr+XR3N2TWNIZhcPPmTdy+fZurRH8QdiYze27QwMCAu1dN9KXrCXV1dUhJSWn3fCNbCMXeb1NTExeQestK6IPCX1saGhq4e2WLZtjVQQsLCxgYGCArKwvTpk3D22+/jXfffZfCH9FZFACJzmMYBs3NzS0e08QUj+bmZpw6dQpPPPFEm6sWHZnswTAMbt26hZs3b3Z4zi173ooNSM3NzS1Wy3pqwkJH1NfXIy0tDVZWVh0uCuju5tOaxjAMrl+/DoFAgJCQEFhYWKj9uUqlssW4NrZavCfHtXVUTU0NUlNT4enp2eEztqoV1DU1NTA3N+futytn6boLO8quqampw1OF2KIZsViM69ev45VXXsHQoUORlZWFV155BV988YXO3S8hqigAEp3XVgAsLi5GVVUVQkJCOv26SqUSJ06cwMSJE+/r9cYwDDfPF2h/rFteXh7EYjGCgoJgZWXV6WtSHV8mFArbbbmiDdXV1UhPT4erqysGDhzYpTc51ebT7La4Lq2WKZVK5OTkoKamBqGhoV0qfmD70rEBqSdG03XU3bt3kZ6ejgEDBnSpwh5oeeShsrISfD6fu1ddWOVWKpXIysri5hh3JYwrFAr8+uuvWL58OSwtLSEWizF69GhERkbizTff1Im/t4S0RgGQ6Ly2AmBpaSnKy8sxfPjwLr3uiRMnMH78+BZvvuyqH/tX42EhRCaTcX0Ag4KCNP4PfeuWK5aWlty5we6Y79oedovbx8dH4/0MW6+WdbT5tKaxs26bm5u7ZYxd6x587EqotlbLKisrkZGRAV9fX/Tv31+jr822XWEDoWrbFXt7+x4PSJoMf8C9HYmpU6di3rx52LBhA+7cuYNjx47h3Llz+Pnnn7X+gwwhbaEASHoFqVTa4uPy8nIUFxdj9OjRXXrdkydPYtSoUdy2XkfO+9XX1yM9PR1mZmYICAjo9oDCtlxhR7WZmppyYbAnAsPt27dRUFCAgIAAODo6duvXUm0+LRQK0dDQ0KMroey4Mx6Ph6CgoG7fqm2rsKInV8tEIhGysrIwePDgbu/f2FazbbZopieq45VKJbKzs1FfX4/Q0NAuFyQVFxcjIiICM2bMwNdff01hj/QaFABJr9A6AAqFQuTn52PcuHFdet3Tp09zh/rVCX9KJYOM1NtIPp+H0pIK+AxyQVTMaDg4WrZ8okIBvT/+gCI6GlDzzYx//jyUAwcCzs7tPlcul7eoKNbX1+fO0VlbW2v0TYhhGNy4cQN37txBcHBwl7a4O6uhoYE7I9m6+XTr6Rxdxc4wZuc19/RWpepoOqFQyJ0JZQOSpiuoBQIBsrOzERAQ0KXRip3VumiG/V62t7fXePjVdPgrLS3FlClTMGXKFGzZsoXCH+lVKACSXqG5uRmq36pVVVXIysrCY4891qXXPXv2LIYMGQJbW1vuzN+Dwh/DMDgcn4o/j2agobEJJibG4IEPR2dLLF76OFxcrdknwvDll6H/66+QrVoF2fvvtxsC+adOwejpp8F4eqIpMRFQaTHSHnbrlA1IDMNwY+ns7Oy69AaqUCiQk5OD2tpahISE6MQ5NdXm05WVlTA2NubCb1d70tXX1yM1NRW2trY6McO4rQpqKyurFqPpuqK8vBy5ubkIDAxs0dZGW1QndKgWRKk7l7m9187JyYFEItFI+CsvL8fUqVMxfvx4fP/991o/00hIR/W+hk2E4F5T3tbTQTqDz+dDLpdzlb4P2/YtK72LE8czoFDK4OHpAAMDw3tNgcuq8def2Xhuwf+tRvJ4UAYGAr/+CoMvvgCAh4ZANvzxmpqg9PICLC3bfN7D7oFtRcEwDNd/Lz8/H1KplDtH5+Dg0KGtTJlMhvT0dDAMgxEjRuhM7z5DQ0O4urrC1dW1xXSO9PR0AJ1vp1NbW4u0tLT7+t5pE9uk2NzcHN7e3pBKpVw4Kiws5MKvg4NDhyevlJWV4fr16wgKCtKZEYV8Ph92dnaws7PDoEGDIJFIIBKJUFZWhry8PFhaWnLfzx3pr8gwDHJyclBXV4ewsLAufy8LBAJERkZi5MiR3R7+zp49iw0bNiAlJQXl5eVISEhATEzMQz9n7969WL9+PW7cuAErKytMnToVX375pc78ORPdQAGQ9EqamATCMAz09PQgFAphbGz80PYecrkcp07+g4YGKTw8HaCvfy9I8fl8mJkbIye7DDKZAgYG994I5K+/DgAwfPfdh4ZA1fCniIiAdO9eoAurHDweD9bW1rC2toaPjw+3enT79m3k5uZyPdocHR0feo6usbERaWlpMDU11co2qLrY6RzshA42/F6/fr1F+G2v+XRVVRUyMjK4/o26ysjICP3790f//v1bhF928gp7v+1NrGAbWgcFBcHW1ranLr9DeDweLCwsYGFhwYVfdqu4qKgIhoaGalWMq4Y/Taz8icViREVFITAwELt27er2vxv19fUYNmwYXnzxRcyaNavd558/fx7PP/88Nm3ahKioKJSVlWHJkiV46aWXkJCQ0K3XSnoXCoCkV+DxeC22gPX19aFUKsEwTKdWatjzft7e3igpKcE///wDExMTLkyoHkRvampCeno6lIwSJsYm0NPTv++1+Dwe+PyW19FeCNR0+Gut9eoRW3XKrg6qnqMzNzfnPo9dCXNycsKgQYN0YiVMHXw+HzY2NrCxsYGvry+3esSGX7blSutZtmxl86BBg+Dq6qrFO+gY1fDLrvyKRCIUFBQgOzv7gVW2xcXFKCoqQkhIyEMbWusaIyOjFiu/VVVVEIvFyMnJgVwub7FVzIY8NvzV1NQgLCysy5XcVVVVmDFjBnx8fLBnz54eqUyPiIhARESE2s+/dOkSPD098cYbbwAAvLy8sHjxYqxfv767LpH0UnQGkPQKMpmM68nHfvz3338/sInzwzAMA0ldI8TCWphbmsDWzpwrqlDtR+fo6AgzMzMUFBTcW1WxdcVX645DoVDCxvZe4YFcroCgvAbhk/ww99+j2vx6+t9+C8N337133f93JpB/+nSb4e9WTinOxV5Co6QJQ8YMwojpwTAw1PybDHvwXigUQiQUwdjYGM4uzjA0NERBQQEGDBgADw+PXhP+2sM2nxYKhS1argD3AlFgYGC3Vzb3pNYNmS0sLGBvbw+pVAqBQIDQ0FBYdvCoga5qq7+ipaUlHBwcUFNTA4lEguHDh3c5/NXU1CAqKgrOzs6Ii4vTeFsgdfB4vHa3gJOTkzFx4kQkJCQgIiICQqEQc+bMgZ+fH7Zt29ZzF0t0HgVA0iu0DoBsE+fw8PAOtQSRyeT4+3gWzv19DfX1Uhga6GPIMFfEzB0OC8t7q0Ls6sKtW7dw9+5d6OnpwdnZGU5OTki7Wo5jhzPQ1CgDeAAPgJuHPRYtDYednfkDv65qCFSMGAF+ZuZ94e/Qt4nY/eFvAHjg8QCFQgmfEC98mPA2zKw0X3xRWiDA7v/3B1JP5wEAvINdEBYzAA5u1nB2doajo6NONGPWNLZBcXFxMSQSCQwMDODs7Kwzzac1jS2aKS4uRkNDA4yMjFrMoH7U7pcN+0VFRZBKpTA2Nuam6nT2fuvq6hAdHQ0rKyscOnRIa42d1QmAABAbG4sXX3wRTU1NkMvlmDFjBmJjY3Vy8gzRHtoCJr1C65UoPp8PPp+v9jlAdrLHmZM5OBqfBgNDPVhamaBZKsc/FwrRIGnGy8smgcfjgc/nQyKRoLa2FoGBgTAwMIBQKEROTg74BnJMifKC4I4UDKMPL28HhAz3hLn5w98QVLeD9f75BwBahL/buaXY/eFvUCoZ6OnfK0ThAyhMK8Zv6w/jxc/mdfw37SHEd+5i9cyv0VTfDEZ572fAm2nluJNfiQ/2L4ICUuTk5EChUHDnrOzt7XX2LGBH6OvrQyKRQCqVYvjw4ZDL5RCJRNz9qlZQ93Tz6e5gYGCAuro6KBQKjBo1igtI2dnZUCqVLc4NPgoBwcjICHV1deDz+RgzZgzXTJ29X9WtYnXut76+HrNnz4apqSkSEhJ0fqpHbm4u3njjDXzwwQeYMmUKysvL8c4772DJkiX48ccftX15RIf0/n/dSJ+lbiUwe96vWSrDhdP50NPnw87hXsGHkbEB9A30cONaOYoLRfDwtkdubi6qqqowfPhwrjDE1tYWgwYNQm1tLYRCIczMBZBKpbCylaKu7i6MjNp/M1H6+7f8eNAg4P/OKp2LvQyAx4U/4P8qlBVynP71gsYD4JEfz6KpvhlKxf9WVRklA2mDDBcPZmP+ezMwePBg7n7Zc2Xd2Y+uJ7Bj+9g/X7aNir29PXe/bIVtVlYWbG1tudUybWz5dRXDMMjLy0NlZSWGDx8OExMTWFhYwMHBoUWz7aKiImRnZ3NFQg4ODl0ae6ctDMPg2rVrqKqqQlhYGIyNjbntftX7vXXrFnJyctptqdPQ0IA5c+aAx+Ph8OHDOtEGqT3r1q3D2LFj8c477wAAAgMDYWZmhvHjx2Pt2rVwcXHR8hUSXUEBkPRa+vr67a4Aqs70ra9vRl1dE8zMW76RG5sYoEosgaD8LsR3b0GpVGLkyJH3veHzeDxYWVnBysoKAwcO5Gb2FhcXIycnhwsLjo6O94UjtuBDlcHmzYCREWTvv49GSRN4vPtXOnk8Hprqmzr4O9O+nMuFLcIfS6lQIvtSAfe12fv18fHhiipKS0uRl5cHa2trLhz1hrCgUCiQlZWFhoYGDB8+/L6VnNZ/vuw5uvLycly7do07V9Ydzae7g1KpRG5uLmpqatS6X9XRdPn5+VofTddRbPirrKxEaGhou/fLroSyhTMmJiawt7cHn8+Hh4cHlEolnnnmGTQ1NeHPP/9sUSilyxoaGu5buWZX7unEF1FFAZD0Cm29+bTXCqb1ZA8zcyOYmhpCImmCqdn/wp1UKoeeHg8lZUXw9XNBQEBAu1udqi0qBgwYwE2quHPnDq5du8aFI0dHR5gmJ99X8KG/Y0eL6uAhY6bi6I6/wMf/Zg+z/1j7jxvc0d+udplZGoPHA1q/H/D4PFhYt73KwVYUe3l5tSiqyM/Ph7m5OXe/uhiO5HL5vUpupRLDhw9Xa+vPzMwMZmZm8PT0bDGG7+bNmxptPt0d2Fm39fX1ale/mpiYwN3dHe7u7tw5SZFIhNTUVOjp6XFb4zY2Njp3FIBhGFy/fh1isRhhYWFq/UBibGwMNzc3uLm5QS6Xc3Oo33vvPSQnJ8PU1BTm5uY4deqUVgtmJBIJCgoKuI+LioqQnp4OW1tbuLu7Y/Xq1SgrK8Pu3bsBAFFRUVi0aBG2bt3KbQEvW7YMI0aM6PYxf6R3oSIQ0isoFIr7tnsvXrwIT0/PNrc02FW/1pM9/jycgWMH02BqZgRzS2NIm2QQCWphbcfHi0vHw8dnYJffzFXDkd7p0xj52WfQa26GdPJkKPbv51q9qBaGNL69Eu+c46EwrRhKldY2Bob6+OTIKgwaPqBL16RKIpFg/5Y/cPy/V9r89eXfPodxM4LVfj2ZTMatpIjFYq7IQFfCUXNzM1JTU2FoaIhhw4Z1Obyw/ffYinEej8eFo56Y26vO9WVmZkIqlSIkJKTLW/Wtp3PIZLI2W65oC8MwyM/Ph1AoVDv8PUxTUxMiIyO56v/8/HxMmDABy5cvR2RkpIauWn1JSUmYOHHifY/Pnz8fu3btwgsvvIDi4mIkJSVxv/btt99i27ZtKCoqgrW1NR5//HF88cUXvarNEel+FABJr9BWALxy5QpcXFzQv39/7jGGYbiVP+DeSp1qAJHJFDgSm4J/kgvR2NAMhlHA3JqHfy0YjyEBAzV6zap9/qrGjMHFt96CkaVli16DBt99x4XAmmXvYC8G4/T+ZDRJmuA/bjDmvhut0fDHNjx2c3PDyR9S8Ne+y+Dr3VtxVCqUeOKZUViy7ulOh7a2wpHqZI6erjhtbGxEamoqLCwsEBAQoPGvrzq3VyQSdaj5dHdQKBRIT0+HQqFAcHCwxos6GIbhjgJ0x2i6zlwPG/5CQ0O7fEZPLpdjwYIFuHbtGk6fPg0HBwcUFxfjyJEjGDhwIKZOnaqhKydE+ygAkl6hrQDIzmxlJzewwY/9lm4d/lRViutw9Z9s1NdXI3zSSI1PQ2irybNcT6/NXoPehw7B6uOPAUDt2cGdUVFRgZycHAwePBiurq5gGAYFGbfxz4kcAMCIyf4YOMxdYyt2bDhi59jK5fIW4ai7K2wlEglSU1Ph6OjYIw2tVcORUCiERCJ5YPPp7iCXy5GWlgYACA4O7pEKZtVzdFVVVTA1NeXCYHev/jIMgxs3bqCiogJhYWFdDn8KhQKLFy9Geno6Tp06BWdnZw1dKSG6iQIg6RWUSiVkMlmLxzIzM2FmZoYBAwZwxR4KheKh83yBe2+UWVlZaGxsRFBQkOYr+xgGRlOnQu/8+QdO+GB7DbLhyOvgQfh9/z2UlpZovHIFPJVVza5fDoNbt27h5s2bCAwMhL29vcZeuyPXwFZgCoVCNDY2cpMq2iqa6arq6mqkpaXB3d0d3t7eWtmGbqv5NFs0ozppRhNkMhnS0tKgp6eHoKAgrWxDy+VybjSdWCwGAC4M2tnZafSauiP8vf7660hOTsbp06dpq5T0CRQASa/QVgDMycmBgYEBfHx8WhR7POyNtbGxEenp6TA0NOR6/HWL6moYfPUVZO+91+54N3alTPnddyjt1w93BwzgglFX3zjZykihUIjg4GCdmf7AVtgKhULU1tbCysqK2xrv6kqZWCxGZmYmBg4cCHd3dw1dcdeoFlWwq7/qzLFVB3vG0cjICIGBgVo/gwiAm8vM/hlLpVIu8He1pQ7DMCgoKMCdO3cQFhbW5W1npVKJ5cuX4++//0ZSUpLOfM8Q0t0oAJJeoa0AeO3aNSiVSvj6+qoV/qqrq5GRkcFtCeriBAR2pqtQKOTeONkCA3Ub17JU254EBwfrbKuW1tuI7EqZo6MjzM3NO7RSVl5ejtzcXAwZMkRn+50plcoWq79sM+bONJ+WSqVISUmBubl5t5xx1ASGYbgqeZFIhNra2k631GEYBoWFhSgrK9NY+Fu1ahWOHDmC06dPw9vbu0uv156zZ89iw4YNSElJQXl5uVpTPaRSKT755BPs2bMHFRUV6N+/P9asWYMFCxZ067WSRx8FQNIrMAyD5ubmFh/fuHEDYrEYvr6+sLKyeuibHxsMfHx84ObmpvXKVHWwZ8rYMFhfX//QXoOqmpubkZ6eDh6Ph6CgoF4z4YFdKRMKhaisrIShoSG3Gmptbf3QP7eSkhLcuHFDa9vcncFujbPhqKGhQe3m001NTUhJSYGVlRWGDBmik+GvLWxLHZFIhMrKShgZGXFh0Nra+qH3UVBQoNHw99577yE2NhanT5+Gj49Pl15PHcePH8eFCxcQEhKCWbNmqRUAo6OjIRAIsHbtWgwcOBBCoRByuRxjxozp9usljzYKgKRXUA2AbLFHY2Mjbt68CZFIBD09PS4Y2djYcEGBYRjcvHkTt2/fRkBAABwcHLR5G13CrqKw26aqvQZVm942NDQgNTUVlpaW8Pf314ktwc5ofU4SQIuKYtXmtuyfcXBwMKytrbV41V3Dbo2LRCLU1NQ8cKWssbERV69ehZ2dHfz8/HrFDzRtYf+M2XtWHU3XulCosLAQpaWlCA0N7XJTZoZh8Mknn+Dnn39GUlISBg/WfK/N9qgz1zcxMRHz5s3DzZs3NV6oRggFQNIrsAGwdXNnHo/H9SkTCAQQCoVc6xF7e3tUVFSgpqYGQUFB3Fi3R0HrAgMLCwvu/Ny1a9fQr18/+Pj49Npg0Bp7powNwDKZjAsKd+/ehVgsRkhISK+Z1qAOqVTKrYZWVVVxzactLCyQn58PJyenHqlu7ikPWg11cHBAY2Mjd+ZPE+Hv888/x7Zt23D69GkEBARo6A46Rp0A+OqrryI/Px9hYWH45ZdfYGZmhhkzZuDTTz/V2SMdpPegSSCkV+DxeG2GP+De5Aw7OztuNeTu3bsoLy9HZmYmAMDR0RFNTU0wMzPrNdtk7VGdYsBuqZWWlqK2thaGhobg8/moq6vTeLWptvD5fNjY2MDGxga+vr6QSCQQCAS4du0a5HI5bGxsUF1dDQMDg145s7ctRkZGcHV1haurK9df8c6dO7h16xb4fD4UCgXEYrFONJ/WhNajBxsaGiASiVBcXMz9/RUIBFAqlZ3+vmYYBps2bcKWLVvw999/ay38qevmzZs4f/48jI2NkZCQALFYjFdffRVVVVX46aeftH15pJejAEh6hUuXLuHq1auYPn06HBwcHviPP4/Hg4GBAaqqquDo6Ij+/ftDLBbj2rVrkMlk3Baivb39I/GmCQCGhob/N+u4HgEBAeDxeBAKhbh69SrXa9DJyUknpnJoAo/Hg6mpKWpra2FiYtIi9LMze7kxfJpu8aMlenp6MDY2RnV1Nby8vGBrawuRSMR9X+vSZA5NMTU15Vo7hYWFcavet27dgr6+Prc1rm6DcYZh8N1332Hjxo34888/ERQU1P030UVKpRI8Hg979+6FlZUVAGDjxo2YPXs2/vvf/9IqIOkSCoCkV7h79y5+/vlnLF++HGPGjEFMTAxmzJgBZ2fnFqFGKBQiOzsbHh4eXP83W1tb+Pj4oK6uDgKBAAUFBcjOzuYqLx0cHHqkaW53YFtilJWVISQkhDv/5uzs3OIMHVsQonpOsreuhrI97/h8PsLCwqCvrw8rKyt4enpCKpVyW+MFBQUwMzPjQn9vXg1l+xp6eXlxjc9tbW251VCRSITbt28jNzeXOxvq4ODQqwNCcXExbt26hdDQUO74houLC3fkQygUIjc3974G420VPDEMgx07dmDdunU4fvw4hg8f3tO30ykuLi5wdXXlwh8A+Pn5gWEYlJaW9kjhCnl00RlA0muwDY3j4uIQHx+Py5cvY+TIkYiOjkZUVBR++eUXZGRk4Ntvv31oF//W1bXsWSMnJyc4ODj0mopZpVKJ7Oxs1NbWIjg4+KFVkapTOYRCIRQKhcZ6DfakpqYmpKamwtTUFEOHDn3odcvl8vsmr6hWFPeWAHz37l2kpaWp1dewsbGRK6jo7ubT3am4uBhFRUUIDQ19aO9KhmFQV1fH3bPq9BU7OzuYm5uDYRjs2rULq1evxpEjRzBhwoQevJMHU+cM4I4dO7Bs2TIIhULu7OOhQ4fw1FNPQSKR9OqAT7SPAiDplRiGQVlZGeLj4/H777/jwoUL4PP5eO655/D222/D09NT7Te7+vp6CIVCCAQCSCQStVutaJNMJkNGRgY387Uj1/mwXoO6vBpaX1/Pjf/z8/PrUIBr3XuPYZhum1KhSZWVlcjIyMCgQYM6PJ2iO5tPdyd2ak174a8tqj0ld+3ahb/++gseHh64cuUK/vjjD0yaNKmbrlo9EokEBQUFAO6N69u4cSMmTpwIW1tbuLu7Y/Xq1SgrK8Pu3bu55/v5+WHUqFH4+OOPIRaL8dJLL+Gxxx7D999/r81bIY8ACoCkV6uursacOXNQWlqKZ555BmfOnMGZM2cQEBCA6OhoxMTEdKgatrGxkasmflirFW1qbGxEWloaTExMujz5oa1eg3Z2dlwY1JUAXFtbi9TUVLi6umLgwIFdWsnSZLPt7iQSiZCVlQU/P78uN7XWZPPp7nT79m0UFhZ2Kvy1VllZiQ8++AC//PILTExMYGZmhsjISDz99NOYMmWKhq64Y5KSkjBx4sT7Hp8/fz527dqFF154AcXFxUhKSuJ+7dq1a3j99ddx4cIF2NnZYc6cOVi7di2t/pEuowBIerXFixejrKwM+/btg4WFBRiGQWVlJQ4dOoTY2FicOnUKvr6+mDFjBmbOnNmhnmlNTU1cSKiuroalpSWcnJw0Mq6ss+rq6pCamtpt00xaj2jThQBcVVWFjIyMFuffNEU1ALNbiDY2NlwA1tY9CwQCZGdnIyAgAE5OThp97a40n+5ObPgLCQlpceatsxISErB48WIcOHAAkydPxoULF3D48GHweDx89dVXGrhiQno3CoCkV6urq4OpqWmbq2AMw6C6uhqHDx9GfHw8Tpw4AXd3d0RHR2PmzJkYOnSo2gGKLS4QCAS4e/cuzM3NuTDY1YkE6qqsrERmZiY8PT07tMXdWQ/qNdiT9ywUCpGVlYXBgwd3eAu0MxobG7nQr9qIuSfvuby8HHl5eRg6dGiPNC5/UPPpnrznkpISFBQUaCz8HTlyBC+++CL27t3b7qQNQvoqCoCkz6itrcWRI0cQHx+PxMREODo6cmEwJCRE7TAok8m4MFhZWckdtHdycurQXNOOuHPnDvLy8rQ245btNciOaDM1NeXuuaPzetVVVlaGa9euYejQoXB0dNT467dH9Z6rqqpgYmLCBSNLS8tuuefS0lLk5+dj2LBhsLOz0/jrt6et5tPsymB3tRFiw5+mprgkJibi+eefx86dO/H00093/QIJeURRACR9Un19PY4fP464uDgcPXoUNjY2mDFjBqKjozFy5Ei1z9XJ5XIuJIjFYhgbG3Mrg5qoulQdczZs2DCdGAfVurrW0NCQWxnUVEhgq0B16Z4rKyu5e2ZHD2qyoILdAg0KCoKNjY0Grrpr2Htmi0jYCTts7z1NFM6wgVe1hVFXnDp1CvPmzcP27dvx7LPP9pqqZ0K0gQIg6fMaGxtx4sQJxMXF4ciRIzA2NsaMGTMQExODMWPGqH1Anp3MIBAINBKMlEol8vLyUFlZqbNjzlrP6+1qr0GGYXDjxg2Ul5cjODi4y4UA3UG1D51QKIRSqexyS52ioiIUFxdrbAtU09g2QuwPO6rNpzvbOokNf8HBwRoJvGfPnsXTTz+Nb7/9FvPnz+/28Hf27Fls2LABKSkpKC8vb7eli6oLFy7gscceQ0BAANLT07v1Ogl5EAqAhKhobm7GX3/9hbi4OO7AeGRkJGbOnIkJEyao/UbHBiOBQACRSMStGLHBqL03J7lcjszMTEilUgQHB+tMBfLDdLXXIBt4q6qqEBIS0mPnz7qCrShmg1FTUxNXRa3OVA52hbekpKRFw2Nd1lbhTEebT5eVleH69esaC3/Jycl46qmnsGHDBrz88ss9svJ3/PhxXLhwASEhIZg1a5baAbCmpgYhISEYOHAgBAIBBUCiNRQACXkAmUyGM2fOIDY2FgcPHoRMJsP06dMRExODiRMnql0tqdqCQygUcltpTk5Oba6SSaVSpKWlwcDAAMOGDdOZFh0d0brVSnNzc4v2Mq3vSaFQICsrCw0NDQgJCekVgbc1hmG4npJCobBFMGqrilp1tTM0NFQnV3jV0dHm03fu3MG1a9cQFBSkke39K1euIDo6GmvXrsXSpUu1su2rTlNn1rx58+Dj4wM9PT0cPHiQAiDRGgqAhKhBoVDg3LlziIuLQ0JCAiQSCSIiIhATE4MnnnhC7bYwqqtkAoGAa0jMrpI1NDQgLS0NNjY2GDJkiM426+2I9noN8ng8ZGRkQKlUIjg4WGf68HVV6zZC5ubmLWYU5+fnQyQS9ZrVTnU8qPk0O32loqJCo+EvLS0NkZGReP/997F8+XKtnflTNwDu3LkTW7ZswcWLF7F27VoKgESrKAAS0kEKhQKXLl3iwqBYLMaUKVMQExODyZMnq72Sw66SsY2nZTIZd57M39+/V678qUO112BNTQ309PRgZGSEoKCgRyYItdbc3MwVzlRWVoLH44HH42HIkCFwdHR8JIsVFAoFd1ZSJBJBLpeDYRiujVFXv7+zsrIwbdo0vPPOO1i1apVWfw/VCYA3btzAuHHjcO7cOfj6+uKjjz6iAEi0igIgIV2gVCqRkpKC2NhYJCQkoLS0FE8++SSio6Mxbdo0tYsYysvLkZubCxsbGzQ2NqKpqQn29vZwcnKCvb39IxkGGxsbcfXqVRgYGEBfXx/V1dVa6TXYk5RKJbKyslBdXQ1ra2tUVVWBz+d3qXCmN2DbGDk4OEAikaChoaFFEUlHm0/n5uYiIiICr732Gj744AOtB+j2AqBCocCoUaOwcOFCLFmyBAAoABKtowBIiIYolUpkZmZyYbCwsBCTJk3CjBkzEBkZCWtr6/veqBiG4dp/sI1/VbdMBQIBGhsbW2yZPgpbpBKJBCkpKXBycsKgQYPA4/G00muwJ7Hhjz3naGRkxFUUs/etUCh0ckRbV1RUVCA3N7dFb8PWE2c60nz6+vXriIiIwMKFC7F27Vqd+L5oLwBWV1fDxsamRSGUUqkEwzDQ09PDiRMn8Pjjj/fQ1RJyDwVAQroBwzDIy8tDbGws4uPjkZubi8ceewwxMTGIjIyEvb09FAoFfvrpJwwaNAhBQUEPbP/BFhYIBAJIJBJubJejo6POzOrtiOrqaqSlpcHd3R3e3t5tvoH3RK/BnqRQKLiq7pCQkDb/3FqPaGtsbGwxoq03/lmz4S8wMBD29vZtPoedsiMSidptPl1QUICIiAg888wzWL9+vc6slrYXAJVKJXJzc1s8tmXLFpw6dQqxsbHw8vJ6JFe8iW6jAEhIN2MYBgUFBVwYTE9Px6hRo7hAl5ycrPaki4aGBq6wgJ3V6+TkpNW5tR0hEomQlZUFHx8fuLm5qfU5mu412NMUCgXS09OhUCg6VOTCBn+RSITa2lpYWVlx962tWdQdwc4zDgwMVHuknWrzaZFIBD6fj6KiIpiYmGDo0KF46qmnEBMTg82bN2v9z10ikaCgoAAAEBwcjI0bN2LixImwtbWFu7s7Vq9ejbKyMuzevbvNz6ctYKJtFAAJ6UEMwyA1NRWzZs1CZWUlGhoaMHr0aERHRyM6Ohqurq5qr26xVaYCgQA1NTU6HxDYc47+/v5wdnbu1Gt0RxPm7iSXy5GWlgYej4egoKBOb+m2nstsbm7O3bcubo93Jvy1xlbMb9myBd9//z0qKyvh6emJDz/8EFFRUVqfEJOUlISJEyfe9/j8+fOxa9cuvPDCCyguLkZSUlKbn08BkGgbBUBCelBRURGmTJmCwMBA7N69G5WVlYiPj0d8fDwuXLiA0NBQxMTEIDo6Gh4eHmq/sUulUi4U3b17lyumcHJygqmpaTffVftu376NgoICjc64bavXoL29PVdYoO3zczKZDKmpqVw/R02FU7bVCrs9bmRkpFPb40KhEFlZWRqb4VxeXo4pU6bA398fwcHBOHz4MLKysvDWW2/h888/18AVE9I3UQAkpAeVl5fjhx9+wJo1a1psYTEMg4qKCiQkJCAuLg5nz57F0KFDER0djZiYGAwcOFDtN/bWxRRsY162mKInMQyDwsJClJaWIigoSCPzXh/0dR7Wa7Cnz881NzcjJSUFJiYmCAwM7LbtSoVC0WLLlG0y7ujoCFtb2x7fJtV0+BMIBIiIiMDw4cOxa9cuLkTfunULtbW1GDp0aJe/BiF9FQVAQnQMwzAQi8U4dOgQ4uLicOrUKQwaNIibT+zn56d2GGy9WmRiYsKtFrU1pUHT93Ht2jWu2XFPhs/WVaYPm8ihaVKpFCkpKTA3N0dAQECPhTDVJuMikQgymYyrKO6JVkIikQiZmZkICAiAk5NTl19PLBZj2rRp8Pf3x969e7W+okvIo4YCICE6jGEYVFdX4/Dhw4iLi8PJkyfh4eGB6OhozJw5s0MBQ6FQQCwWQyAQtKisdXJygqWlpUbDoFKpRHZ2Nurq6hASEqLVM4mtJ3J0Z6/BxsZGpKSkwNraGv7+/lrbjmUYBnV1dVwYrK+vb1FR3NG+e+3RdPirqqpCZGQkvLy88Ntvvz0SrY8I0TUUAAnpRWpra3HkyBHExcUhMTERzs7O3DZxSEhIh8JgZWUlFxD09PS4MNhWv8KOkMvlyMzMRHNz8wNbnmjLg7bHNVFM0dDQgJSUFNjb22Pw4MFaP4unqvWKqJWVFbdV3NUzomKxGBkZGRoLf9XV1YiKioKLiwvi4+O7/fvn7Nmz2LBhA1JSUlBeXt7uRI/4+Hhs3boV6enpkEql8Pf3x0cffYQpU6Z0y/VlZGQgMzMTN27cwL///W/4+Pjo1PcW6b0oABLSS0kkEhw/fhxxcXE4duwYbGxsuG3iESNGqF10oFQquTYrQqGwS21WmpubkZ6eDj6f36Wq156gyV6D9fX1XGNrX19fnX6DZvvuCYVCVFVVdSkEV1ZWIiMjA0OGDOl0Zbeq2tpaxMTEwMrKCocOHeqR1kbHjx/HhQsXEBISglmzZrUbAJctW4Z+/fph4sSJsLa2xs6dO/Hll1/i8uXLCA4O1ui1nTx5EgsWLICnpydKSkq4HwDHjBkDhmF0+vuM6D4KgIQ8AhobG/Hnn38iPj4ef/zxB0xNTTFjxgxER0djzJgxagcx9hwZO5+YYZgWbVYeFgabmpqQmpoKMzMzBAQE6FxLlodR7TUoFAo7NJ6trq4OqampcHV1xYABA3rVmzJ7RlQkEkEsFsPAwIC77/ZWgtnw5+fnBxcXly5fi0QiwVNPPQVDQ0McPXpUK8cG1Jnp2xZ/f3/MnTsXH3zwgcauJS0tDVOmTMH777+PBQsWwMzMDHPnzkVxcTEuX76ssa9D+i4KgERrOrr18qC+W3l5eRg8eHA3Xmnv0tTUhL///hvx8fE4dOgQ9PT0EBkZiZkzZ2L8+PFqn6di26ywYVAul3PziVv33Kuvr0dqairs7Ow6VKSiizrSa7C2thapqancVJPerHXDbQAtKopV71vT4a+hoQGzZ88GwzA4evRoj1erszoTAJVKJTw9PbFy5Uq89tprGrmOxsZGrFy5EgqFAps3b4a+vj74fD6OHj2KlStXIi0tTaeOVpDeSXf3Z8gjr76+HsOGDcOLL76IWbNmqf15169fh6WlJfdxZxvNPqqMjY0xffp0TJ8+Hdu2bcOZM2cQGxuLl156CTKZDJGRkYiJiUF4ePhDiwF4PB6sra1hbW0NX19fbkxZfn4+13OPHUeXmZkJV1fXDrWr0VV8Ph92dnaws7PD4MGDuV6Dre/bwMAAmZmZ8Pb2hoeHh7Yvu8v09PS4Hops8ZFQKMS1a9cgk8m4tjp6enrIzs7G4MGDNRL+mpqa8Mwzz6C5uRmJiYlaC3+d9dVXX6G+vh5z5szR2Guy1fpGRkYtgt6AAQMgFApRUVEBV1fXXrXKTnQPrQASnaDOT97sCuDdu3e7rZ/co0wul+P8+fOIjY3FwYMHIZFIMG3aNMTExGDSpElqb7mxPfcEAgHKy8vR1NQEMzMzeHp6wsHB4ZGt2FTtNXjnzh3uvj08PHrtrF51qN53eXk5GhsbYWZmBjc3Ny6kdJZUKsW//vUviMVinDhxQut/rzu6Arhv3z689NJLOHToEJ544gmNXMPDzvYVFhZi/Pjx+Oeff9C/f38AwNGjRzFixAj6QZh0GK0Akl4nODgYTU1NGDJkCN577702t4XJ/fT19REeHo7w8HB8/fXXuHTpEmJjY7Fq1SqIxWJMnToV0dHRmDJlykPbo/B4PFhYWKChoQG3bt3CwIEDwTAMbt++jdzcXNja2nLziR+lUMTet1Qq5e4bAEpLS5GXl9ejvQZ7Envfcrmcu28+n4+KigpuNZ5tL9ORtjoymQwvvPACysvL8ffff2s9/HXUgQMHsHDhQvz+++8aC3/Avd9v1RCo+v88Hg/GxsbcKunTTz+NnJwcpKWlaezrk76DVgCJTlDnJ+/r16/j7NmzCA0NhVQqxS+//IJt27YhKSkJEyZM6LmLfcQolUpcvXoVsbGxSEhIwJ07d/Dkk08iOjoaERERLbbbWaWlpcjPz0dAQECLiQ8NDQ3c2bna2lrY2NhwoUjTvee0gZ100XqecU/2GtSGu3fvIi0tDb6+vtzKE3Cv6ps9M1hZWQlTU1O1Go3L5XIsWLAA169fx6lTp3Rm9UrdFcB9+/ZhwYIF2LdvX4cLRrri1q1bGDVqFP755x98+OGHSExMREZGhs78/pHehQIg0Qmdrb6LiooCj8fD4cOHu+fC+hilUomMjAzExcUhPj4eN2/exBNPPIEZM2Zg+vTpsLS0xGeffQZvb29Mnz4dNjY2D3wtNhQJBALU1NTAysqKCwfabAzdWRUVFcjJyWl3zFl39hrUhurqaqSmpt4X/lpj2+qwFcX6+vpcEYm1tTVXSa1QKLB48WKkp6fj9OnTGukd2BUSiQQFBQUA7u0ubNy4ERMnToStrS3c3d2xevVqlJWVYffu3QDuhb/nn38eX3/9NZ566inudUxMTGBlZdWt11pWVobw8HD069cPmZmZyM3N1cg5TNI3UQAkOqGzAfCzzz7Dnj17kJeX1z0X1ocxDIPc3FzExsYiPj4eubm5cHZ2RlVVFX755RdMmTJF7TAjlUq5FbK7d+/CwsICTk5OGmlE3BPu3LmDa9euITAwEPb29mp/niZ7DWpDdXU10tLSMHDgQLi5uan9eaq9JUUiEZqbm7Fz505MnToV586dw5UrV5CUlIR+/fp149Wr50HdBebPn49du3bhhRdeQHFxMZKSkgAA4eHhOHPmzAOfrwltnQNkGAY3b96Ej48PXF1dcfHixYcGckLaQwGQ6ITOBsDZs2ejqqoKp06d6p4LIwDundeaO3cukpKS4OLigvz8fIwbNw4xMTGIioqCk5OT2mGmrRUyNgzqYgVoSUkJbty4gaCgINja2nb6dVpPX+lIr0FtqKmpQWpqaofDX2vs+dB169YhLi4OjY2NmDx5Mp599llERkZ26fe0t1MqleDz+RCLxaipqYGhoSGcnZ1hYGAAuVzeZv/O9evXY86cOfD09Oz5CyaPFCoCIVqjuvUCAEVFRUhPT3/g1svmzZvh6ekJf39/NDc3Y8+ePYiLi0NcXJy2bqFPYBgGc+bMQWFhIXJycuDs7IyioiLExcXhwIEDeOuttzB69GhER0djxowZcHV1fWgYNDQ0hKurK1xdXblGxAKBAEVFRVz7CycnJ53YLr116xZu3ryJkJCQLhcpsOP2HB0dW/QazM7OBsMwXHuZ1r0GtYENfwMGDOhS+APu/XDn5uYGc3Nz2NnZYfv27UhJScHXX3+NhQsX4sqVKwgKCtLMhfcibPhLTk7G8uXLIRaL4erqCltbW/z888/3bSezz1+5cqWWrpg8amgFkGhNR7de1q9fjx07dqCsrAwmJibw9/fH6tWrMW3atB6+8r6HrXRsfeaPYRiUlJQgPj4eCQkJuHDhAsLCwhAdHY3o6Gh4eHioHeLkcjkqKyshEAi47VJ2ZdDS0rLHw2BRURFu3bqF4ODgbj3bxTbcZrfIVXsN2tvb9/g4PdXw5+7u3uXXUyqVeO+99xAbG4vTp0/Dx8eH+7Vbt27B1dVVp0cGdqecnByMGTMGy5Ytw6JFi3Dy5EksXLgQGzduxLJly7R9eeQRRwGQEKIRDMNwE13i4+Nx9uxZBAYGcmGwI02iW2+X6uvrqz2iTBP3UVhYiNLSUoSGhsLCwqLbvlZbX5vtuScUClFfX881YO6Jtjq1tbVISUnRWHNrhmHwySefYPfu3Th9+jRN7Gnls88+Q2FhIX766Sc0NzcjODgYISEh2LVrF/T09CCVSh+J6nmimygAEkI0jmEYiMViHDx4EHFxcTh16hQGDx6M6OhoxMTEYPDgwWqHOLagQCAQQCQSgcfjddvZOYZhkJ+fD4FAgNDQUK23cKmvr+fCYF1dXbf2GmTDn5eXl0bOlzEMg88//xzbt2/HqVOnEBAQ0PWL7OUUCgX09PRQW1sLS0tLvPHGG1AoFNi4cSNCQ0Ph6+uLffv2wcjICH/++SeKi4uxcOHCPrtCSrqXbp06JoQ8Eng8HhwcHLBo0SIcP34cFRUVWLFiBdLT0zF27FiEhYXhk08+QVZWFpRK5UNfi8/nw97eHv7+/pgwYQIXJLKzs3H27Fnk5ORALBa3+zrtYRgG165dg1AoRFhYmNbDHwCYmZnBy8sLI0eOxLhx4+Do6AihUIjz58/j8uXLKCoqQn19fZe/Tl1dHVJTUzUa/jZt2oQtW7bg5MmTPRL+zp49i6ioKPTr1w88Hg8HDx5s93POnDmD0NBQGBsbw9vbG9u2bevWa9TT08ONGzfw9NNPIzU1FU5OTigpKcGYMWPg4eGB/fv3w8jICAqFAomJibh+/TpkMlm3XhPpu2gFkBDSo2pqanDkyBHEx8cjMTERLi4u3MpgcHCw2it6qvNqhUIh5HI513euo4UUbMubu3fvIjQ0VOf7FGqy12BdXR1SUlLg4eEBLy+vLl8bwzD47rvv8MUXX+DEiRMICwvr8muq4/jx47hw4QJCQkIwa9asdrsKFBUVISAgAIsWLcLixYtx4cIFvPrqq9i3b1+HZpOrg63obW5u5s7Gbtu2DWVlZRgzZgzEYjGuXr0KPz8/MAyDb775BmvXrsWxY8cwfPhwjV4LISwKgIQQrZFIJDh27Bji4+Nx7Ngx2NraYsaMGYiJicHw4cPVDnEMw6C2tpZrPN2RQgqlUons7GxIJBKEhIT0ujFuXek1KJFIcPXqVbi7u8Pb27vL18IwDHbs2IGPP/4YiYmJGDVqVJdfszPUaSu1atUqHD58uEUP0SVLliAjIwMXL17U+DUJBAL8+OOPKCwsxIoVK+Dv7w8ASEtLw9SpU+Hh4cFNkDl+/Dj27duHiIgIjV8HISwKgISoad26dYiPj8e1a9dgYmKCMWPG4IsvvsCgQYMe+nlnzpzBihUrkJOTg379+mHlypVYsmRJD11179HQ0IATJ04gLi4OR44cgZmZGaKiohATE4PRo0erfQ6KLaQQCAQQCoVobGyEnZ0dnJycYG9vDwMDA+65SqUSmZmZaGxsRGhoaK+fXdyRXoNs+HNzc8OAAQO6/LUZhsGuXbuwevVqHD16FOPHj+/ya3aWOgFwwoQJCA4Oxtdff809lpCQgDlz5qChoaHF94kmHD9+HNOnTwcAbnwl2/BZKBRiy5YtKCsrw6BBgzB+/HiMHDlSo1+fkNYoABKipqlTp2LevHkYPnw45HI51qxZg6ysLOTm5j7wvFhPbjM9SpqamvD3338jLi4Ohw8fhr6+PiIjIzFz5kyMGzeuQ2/ObFWtQCBAfX09bG1t4eTkBDs7O+Tm5kImkyEkJETjb/japtprUCgUgmEYbovcyMgIaWlp6N+/v8bC3549e/D222/jjz/+QHh4eNdvoAvUCYC+vr544YUX8J///Id7LDk5GWPHjsWdO3e6PGKNLfiQy+VQKpUwNDTEiRMnMGvWLMTExGDLli2wsLDgnkdIT6PSIkLUlJiY2OLjnTt3wtHRESkpKZgwYUKbn7Nt2za4u7tj8+bNAAA/Pz9cvXoVX375JQXAhzA2Nsb06dMxffp0yGQyJCUlITY2FgsWLIBCoUBkZCRiYmIQHh7e7qqdubk5zM3N4e3tjYaGBgiFQpSUlCA3Nxf6+vrw8vLqcgGJLuLz+bCzs4OdnR0GDx7M9RrMy8uDVCqFmZkZTE1NHzhxQl0Mw+C3337DW2+9hfj4eK2Hv45oa9xaW493hp6eHpqamjB79mw899xziI6OxuTJk3HgwAHMnj0bxsbG+Prrr7lRiOxqYFtj4AjpDlQFTEgn1dTUAMBDR1ldvHgRkydPbvHYlClTcPXqVaruU5OBgQGefPJJbN++HWVlZYiNjYWZmRmWLl0KT09PLFq0CEeOHEFTU1O7r2VqagpXV1fo6enBysoKnp6eEIlE3Hza27dvq/U6vQ2Px4O1tTVcXV2hVCrRr18/ODo6co3W09LSUFZWhubm5g6/dkJCAl5//XUcOHDgvu91Xebs7IyKiooWjwmFQujr68POzk4jX8PY2BiVlZV4//33cezYMTQ2NmLatGk4ePAg9u3bh9dffx0SiQTA/0InhT/SU2gFkJBOYBgGK1aswLhx4x7a4qKiogJOTk4tHnNycuIO7nd1m6mv0dfXR3h4OMLDw/HNN9/g4sWLiIuLw8qVK1FVVYWpU6dyKy1tbcvLZDKkpqbCwMAAw4YNg56eHry8vCCVSrmt0vz8fFhYWHBTSNgVmt6uvr4eV69ehaurK9eUe+DAgVyvwdLSUuTl5XWo1+CRI0ewePFi7N27lzvf1luMHj0af/zxR4vH2Krlzh4HaGs79+LFi5g5cybeeustyOVyREZGYvLkyThy5AieeOIJ1NTUYP/+/dTrj/Q4+o4jpBNee+01ZGZm4vz58+0+tzu3mfoyPT09jBs3DuPGjcNXX32FK1euIC4uDh999BFefvllTJ48GdHR0YiIiICFhQXKysrw22+/4fHHH8fQoUNbFEQYGRnBzc0Nbm5uXIsVgUCAgoICmJubc/OJdaE3YGc0NDQgJSUFLi4u901kYXsNenl5oampqUUQtrS05KaQtL73xMRELFiwALt27XroWbue0tHZ4kuWLMF3332HFStWYNGiRbh48SJ+/PFH7Nu3r9PXoKenx/WTVG12zhaXvPnmm1AqlYiMjER4eDj++usvVFRUUPgjWkFFIIR00Ouvv46DBw/i7Nmz7fZN6+lKQ3Kv+CEjIwOxsbGIj49HcXExxowZg/T0dISGhiIuLk7tQ/cymaxFvz0TExMuDHa03562NDQ04OrVq3B2doaPj4/a19xWr8GLFy9izJgxkEgkePbZZ7Fjxw4888wzOvH70NHZ4sC9Cv3ly5dzFfqrVq3qVIW+TCbj/i6/8sorOHDgAI4dO4YRI0a0+EEjMjISubm5+PDDDzFz5kxYWlp2/EYJ0RAKgISoiWEYvP7660hISEBSUlKLofYPsmrVKvzxxx/Izc3lHnvllVeQnp7eLb3GSEsMw+DkyZOYN28eGIZBfX09Jk6ciJiYGERGRsLW1lbt8NJWvz12m9jS0lInQlBr7Mqfo6MjfH19O32NbBBeunQpkpKSIJPJMGXKFLz//vsYNWqURsfx9WYZGRkYOnQoRo0ahdraWvz4448YNWoU9wPHzz//jIULF8Lc3Bz//PMPfH19tXzFpC+jAEiIml599VX8+uuvOHToUIvef1ZWVtzkiNbbTGwbmMWLF3PbTEuWLKE2MD2koKAAkyZNQmRkJL755hsUFBQgLi4O8fHxyMjIwPjx4xETE4OoqCg4OjqqHZBa99vT19fnVgbba77cUxobG3H16lU4ODhg0KBBGrmm5ORkzJw5E//+97/R2NiIw4cPw9jYGP/9738xc+ZMDVx17/LRRx9BLpdj7dq1CAkJwYgRI7hxcqNGjYJIJMJPP/2EsWPHQl9fH3v37oVcLoebmxsef/xxLV896esoABKipge9ge7cuRMvvPACAHTrNhPpuNTUVBw8eBAff/xxiz8/hmFQVFTEhcGrV69i9OjRiI6OxowZM7h5supQKpUtwiCPx+PCoLW1tVZWx7oj/P3zzz+IiYnB2rVrsXTpUvB4PMhkMpw5cwaenp4YOHCgBq6896ivr8fWrVuxdu1a2Nvbw8HBARcuXADDMNyK3/jx4yEQCDB79my4u7vjP//5DzZt2oT58+dr+eoJoQBICOnjGIZBSUkJ4uPjER8fj+TkZAwfPpwbSefu7t6hMNi6+TJbUWtra9sjYbCxsREpKSlc/z9NhL/U1FRERUXhgw8+wLJly3RihVMXSCQSDB06FLdu3cKbb76JTZs2Abj3Z8DuCixevBgpKSloaGjAvHnz8MEHH2jzkgnhUAAkhJD/wzAMysvLkZCQgLi4OJw7dw6BgYGIiYlBdHQ0BgwYoHb4YRgG1dXV3BQShULBTeKws7PrlukPTU1NuHr1qkbDX2ZmJqZPn46VK1di5cqVFP7wv6bN1dXV+PHHHwEAn3/+Of71r39xTd/r6+u5yunGxkbU1NTA2dlZW5dMyH0oABJCSBsYhoFYLObC4OnTpzF48GAuDHYkYDEMg9raWm4+cXNzM+zt7bn5xJoIg2z4s7W1hZ+fn0aCWm5uLiIiIvD666/j/fff79Hwt2XLFmzYsAHl5eXw9/fH5s2bHzpfeO/evVi/fj1u3LgBKysrTJ06FV9++aXGmjoDbff5A4Dq6mrs378fH3zwAWbPno0tW7YAAMrLy3Hp0iVER0eDx+NReCY6hQIgIYS0g2EY3L17F4cOHUJ8fDxOnjwJb29vREdHY+bMmRgyZIja27sMw0AikXBhsLGxEfb29nB0dIS9vX2nWgM1NTUhJSUF1tbWGDJkiEaCxvXr1xEREYGFCxdi7dq1PRpeDhw4gOeeew5btmzB2LFjsX37dvzwww/Izc2Fu7v7fc8/f/48HnvsMWzatAlRUVEoKyvDkiVL4OPjg4SEBI1ck2r42717N4RCIfT09PDyyy/DzMwMVVVVSEhIwJo1axAeHo7ly5cjKioKr776Kj766CONXAMhmkQBkBBCOqimpgZ//PEH4uPj8eeff6Jfv37cymBQUFCHzvpJJBJum7i+vh52dnZc8+X25hwDgFQqxdWrVzUa/goKChAREYFnn30WX3zxRY8XsowcORIhISHYunUr95ifnx9iYmKwbt26+57/5ZdfYuvWrSgsLOQe+/bbb7F+/XqUlJR0+XpU5/M+//zzuHLlCreyePfuXfz555/o378/qqur8ddff2HlypXQ19fHxIkTsX379i5/fUK6AzVvIuQRtm7dOgwfPhwWFhZwdHRETEwMrl+//tDPSUpK4rarVP+7du1aD1217rOyssK///1vxMfHQyAQ4LPPPsPt27cRERGBoUOHYvXq1bh8+TKUSmW7r2Vubg5vb2+MHj0aY8aMgbW1NUpLS3H27FmkpKSgpKQEUqm0zc9lw5+VlZXGwl9xcTEiIyMxa9YsrYS/5uZmpKSk3DdXePLkyUhOTm7zc8aMGYPS0lIcO3YMDMNAIBAgNjZWY+Pp2N/X999/H8nJyTh27BjOnz+PJ598Enl5eRg9ejTy8/NhbW2Np556CtnZ2YiPj6fwR3QaBUBCHmFnzpzB0qVLcenSJZw8eRJyuRyTJ09GfX19u597/fp1lJeXc/+p0/i6LzI3N8ecOXNw4MABCAQCbNy4EZWVlXjqqafg5+eHt99+G+fPn4dCoWj3tUxNTeHl5YWRI0di7NixsLe3R0VFBc6dO4crV67g9u3baGpqAnAv/KWkpMDKygr+/v4aCX8lJSWYPn06pk2bhs2bN2ulhY1YLIZCoWhzhnZFRUWbnzNmzBjs3bsXc+fOhaGhIZydnWFtbY1vv/1WY9dVWlqKkpISfPfdd/Dy8sL333+PTZs24fvvv4enpyemTJmCa9eugc/nw9TU9KEzwgnRBTSAkJBHWGJiYouPd+7cCUdHR6SkpGDChAkP/VxHR0dYW1t349U9ekxNTTFz5kzMnDkTTU1N+OuvvxAfH49nnnkGBgYGiIqKwsyZMzF27Nh2z/qZmJjAw8MDHh4ekEql3DZxfn4+zM3NIZVKYWlpqbHwV15ejunTp+Pxxx/Hf//7X61P92hrhvaD7jM3NxdvvPEGPvjgA0yZMgXl5eV45513sGTJEq5Kt6v69++PuXPnIjg4GOfOncNnn32GH374AbNnz0ZNTQ3efvttDBkyBEVFRfDw8NDI1ySkO1EAJKQPqampAQDY2tq2+9zg4GA0NTVhyJAheO+999qcs0oezNjYGJGRkYiMjIRMJsPp06cRFxeHF198EQqFApGRkYiJiUF4eHi7Z/2MjIzg5uYGNzc3SCQSpKSkAAAqKytx+fJlrvE023akowQCAaZPn44xY8Zgx44d3dKiRl1sVXTr1T6hUHjfqiBr3bp1GDt2LN555x0AQGBgIMzMzDB+/HisXbsWLi4uHboGpVLZZgCOiIgAAPz+++8YNmwYoqKiAAAuLi5466234OvrS+GP9Bq0BUxIH8EwDFasWIFx48Y9dHvKxcUFO3bs4KZkDBo0CJMmTcLZs2d78GofLQYGBpg8eTK2b9+OsrIy/P777zAzM8PSpUvh5eWFl19+GUeOHOG2dx+kubkZWVlZsLGxwfjx4/HYY4/B3d0dtbW1uHTpEpKTk1FYWIi6ujqoW98nFosRFRWFoKAg/PTTT1oNfwBgaGiI0NBQnDx5ssXjJ0+exJgxY9r8nIaGhvsCG3sfHa1zVA1/u3btwpIlS7Bo0SJs3LiRe45QKMSZM2fQ1NSEO3fuYMuWLTA3N8eiRYs69LUI0SaqAiakj1i6dCmOHj2K8+fPo3///h363KioKPB4PBw+fLibrq5vUigUSE5ORlxcHBISElBdXY2pU6ciOjoakydPhqmpKffcxsZGpKenw8zMDAEBAfcFHrlcDrFYzI2kMzY25qaQWFpatrl9WlVVhenTp2PAgAE4cOBAp1rQdAe2Dcy2bdswevRo7NixA99//z1ycnLg4eFx38ztXbt2YdGiRfjmm2+4LeBly5aBz+fj8uXLnbqGDz/8ENu3b8czzzwDCwsLrF27Fi+//DK2bduG4uJizJo1C1lZWejfvz/c3Nxw5swZTf4WENL9GELII++1115j+vfvz9y8ebNTn7927Vpm8ODBGr4qokqhUDCXLl1i3n77bWbAgAGMmZkZExMTw+zatYvJzMxkBg0axHz33XdMXV0dU19f/9D/amtrmaKiIubSpUvMkSNHmMTERCY1NZUpKyvjPr+srIwJCQlhIiMjGalUqu3bv89///tfxsPDgzE0NGRCQkKYM2fOcL82f/585rHHHmvx/G+++YYZMmQIY2Jiwri4uDD/+te/mNLS0k597YsXLzKenp7M33//zTAMwxw6dIgxMTFhtm/fzj2nsrKS2bVrF3PgwIFOfQ1CtI1WAAl5hDEMg9dffx0JCQlISkrqdCXv7NmzUVVVhVOnTmn4CklblEol0tPTERsbi9jYWBQUFMDW1haffvopoqOjYWVl1aH5xJWVlRAKhbh58ybeeOMNjB07lmuqfPjwYRgbG3fzHem2xMREiEQiPPfccwCAw4cPY926dbh48SISExMxZ84cfPHFF3jllVdQXV2Nc+fOcef/COmt6AwgIY+wpUuXYs+ePfj1119hYWGBiooKVFRUoLGxkXvO6tWr8fzzz3Mfb968GQcPHsSNGzeQk5OD1atXIy4uDq+99po2bqFP4vP5CAkJwcqVK2FpaYnw8HC88sor2Lp1K7y8vDBr1izs3r0blZWV7Z5x4/P5cHBwgL+/P6ZMmYJ169bh7NmzuHnzJtLS0vDGG2/gzz//hEwm66G70y2nT5/GtGnTuAIp4F41t7m5OX799VfMmTMHn376KV555RUAQEZGBg4cOIAbN25o65IJ0QgKgIQ8wrZu3YqamhqEh4fDxcWF++/AgQPcc8rLy3H79m3u4+bmZrz99tsIDAzE+PHjcf78eRw9ehRPPfWUNm6hT3vmmWfQr18/JCYm4tNPP0VGRgYyMzMxYcIEfP/99/D29saMGTPwww8/QCAQtBsG5XI5du/eDX9/f4hEIsTFxcHExAQvvfQSTp8+3UN3pTvOnj2LyZMn46uvvmrxA87AgQNRVFSEf//731ixYgXefPNNAPd6L27YsAFKpZL6YpJej7aACSFER+Xn58PDwwNGRkb3/RrDMLh58yZXrZ2SkoLRo0cjOjoa0dHRcHFxabFN3NTUhLlz56K+vh6JiYmwtLTkfo2dWKLt3n89KSsrC0FBQdi4cSMX8ABgy5YtmDNnDi5duoQZM2ZgwYIFCA8Ph7W1NbZs2YLi4mKkp6erNaaPEF1GAZCQHiaTyXSm2pI8GhiGQUlJCVdNfPHiRQwfPhwzZsxATEwMnJyc8K9//QtisRgnTpzo8w2+m5ub8corr+CPP/7At99+i7lz5wIA3nzzTRw6dAgnT56Ej48PDh48iM2bNyMvLw/e3t5wcXHBnj17WlRnE9JbUQAkpIe9++67OHPmDB5//HEsXLgQ3t7e2r4k8ghhGAZ37txBQkIC4uPjcfbsWW4W9MWLF9VqAq4pW7ZswYYNG1BeXg5/f39s3rwZ48ePf+DzpVIpPvnkE+zZswcVFRXo378/1qxZgwULFmj82jIyMrBp0ybcuHEDb731FrKysrBjxw78/vvvGDNmDDd5pLa2FvX19TA2NoalpaXW+yQSoikUAAnpQSKRCIsWLUJRURFsbW1x4cIFODs7Izo6GuvXr4eJiYm2L5E8QhiGgUgkwqpVq/DWW2/16Hxatpffli1bMHbsWGzfvh0//PADV33clujoaAgEAqxduxYDBw6EUCiEXC5/YAPorsrNzcUXX3yB5ORklJSUIDk5GSEhIVAoFBT0yCOPAiAhPejYsWNYu3YtFi5ciIULF6KqqgqHDh1CUlISvv322xbnsgjpzUaOHImQkBBs3bqVe8zPzw8xMTFYt27dfc9PTEzEvHnzcPPmzR5dpbxx4wbWrVuH1NRUvPrqq3j55ZcBPHgcHCGPCvruJqQHXb58Gfr6+pg5cyYAwMbGBi+++CJ+/vnn+8KfUqmEQqHQxmUS0iXNzc1ISUnB5MmTWzw+efJkJCcnt/k5hw8fRlhYGNavXw9XV1f4+vri7bffbtGyqDv4+PhgzZo1CAsLw86dO/HNN98AuFcQwxbHEPIoogBISA+pqqpCeno6Ll++jBUrViApKem+Zr61tbU4d+4cqqurwefz+/Q21NatWxEYGAhLS0tYWlpi9OjROH78+EM/58yZMwgNDYWxsTG8vb2xbdu2HrpaokosFkOhUMDJyanF405OTqioqGjzc27evInz588jOzsbCQkJ2Lx5M2JjY7F06dJuv94BAwZgzZo1GDp0KH7//XesXbsWQN+qiiZ9D313E9JDrly5AqFQiPnz58PY2Bjz5s2Di4sL9u3bB4VCgYSEBIwdOxbvvPMOXFxc8OSTTyItLe2+12EYBgqFosND7nub/v374/PPP8fVq1dx9epVPP7444iOjkZOTk6bzy8qKsK0adMwfvx4pKWl4T//+Q/eeOMNxMXF9fCVE1brH3DYwoq2KJVK8Hg87N27FyNGjMC0adOwceNG7Nq1q9tXAQHAy8sL77//Pjw8PHDhwgXU1tZ2+9ckRJsoABLSQy5dugQ+n49ly5Zh27ZtyM/Pxy+//ILHHnsMhw8fxsaNG7FkyRJcunQJeXl56NevH9avX9/iNZqamsDj8aCnpwcej/dIh8CoqChMmzYNvr6+8PX1xWeffQZzc3NcunSpzedv27YN7u7u2Lx5M/z8/PDSSy9hwYIF+PLLL3v4yom9vT309PTuW+0TCoX3rQqyXFxc4OrqCisrK+4xPz8/MAyD0tLSbr1elpubGzZs2IDdu3fTeVzyyKMASEgPqK6u5qofhwwZAgCwtLTEE088gX79+uGrr77ChQsXkJaWhsuXL8PT0xOrVq1CQUEBkpKSANzbIluxYgXCw8Px8ccf486dO/etpmRkZDzwjFVvplAosH//ftTX12P06NFtPufixYv3nTmbMmUKrl692mfHnGmLoaEhQkNDcfLkyRaPnzx58oEVvWPHjsWdO3cgkUi4x/Lz88Hn89G/f/9uvV5VLi4ucHBw6LGvR4i2UAAkpAckJycjLy8PI0eOBIAWxR1CoRApKSl45513IJFIEBMTA2dnZ6xZswYpKSnQ19cHcO9c1ejRoxETE4PTp09jypQpXDhkJSQkYOrUqQDujf3q7bKysmBubg4jIyMsWbIECQkJXIBuraKios0zZ3K5HGKxuCcul6hYsWIFfvjhB/z000/Iy8vD8uXLcfv2bSxZsgTA/TOon332WdjZ2eHFF19Ebm4uzp49i3feeQcLFiyg9kiEdAN9bV8AIX2Bo6MjRo0axTXBVV25u337NgYMGIBJkyZh8uTJqK2txYULF/D7778jODiYW/EaMWIERowYAQBYtmwZoqKisGvXLowePRoNDQ1Yvnw5jhw5ghkzZgAAFxyBe2FQ9ePeYtCgQUhPT0d1dTXi4uIwf/58nDlz5oEhsK0zZ209Trrf3LlzUVlZiU8++QTl5eUICAjAsWPH4OHhAeD+GdTm5uY4efIkXn/9dYSFhcHOzg5z5szhCjIIIZpFfQAJ0bLGxkYMHz4co0aNwg8//NDi19ixcVeuXEFsbCwuX76M/v3745lnnkFVVRXWrl2L7OxsGBgY4OOPP8bHH38MU1NT8Hg8fPLJJ1i2bNkjFX6eeOIJDBgwANu3b7/v1yZMmIDg4GB8/fXX3GMJCQmYM2cOGhoaaPweIYSooC1gQrTMxMQEGzZsQEZGBt59911kZmYiPz8fly5dgoGBAUpKSrBw4UKcPn0aMTExsLa2xhtvvIH58+ejX79+MDAwQH19PQwNDeHu7g6JRILdu3fDzs4OPB4PYWFhOH36NPf1evPPfAzDQCqVtvlro0ePvu/M2YkTJxAWFkbhjxBCWul9e0KEPIKmTJkCiUSCTZs24YcffsDQoUMxcuRIjBo1ChUVFcjOzsatW7fg5uYGALh+/TpGjRrFNZQWCoU4fvw4nnzySQDgHr9y5QpSU1Nb9DPj8XjIzMxEYGBgi2vQte3S//znP4iIiICbmxvq6uqwf/9+JCUlITExEcC9M2RlZWXYvXs3AGDJkiX47rvvsGLFCixatAgXL17Ejz/+iH379mnzNgghRCfRCiAhOoDP5+Ppp59GcnIySktL8fnnn2Px4sUA7q0Quru74+jRo1Aqlbh+/Tq+/fZb1NTUIDo6GgBQWFiI7Oxs/Pvf/wYArm/ajz/+iBEjRrQ4M3fs2DEEBQXhwoULAICGhgYA94KfroQ/ABAIBHjuuecwaNAgTJo0CZcvX0ZiYiIXclufIfPy8sKxY8eQlJSEoKAgfPrpp/jmm28wa9Ysbd0CIYToLDoDSIiOk0ql2Lx5Mz766CP4+voiJCQEP//8M8LDw3Hq1Ck0Nzdj48aN+O9//4uSkhIA/2u46+joiKVLl2LNmjVcEchLL72EoqIi7Ny5E+7u7njjjTeQkZGBHTt2QCgUcoUqLLZiuS9PJSGEkEcNrQASouOMjIywatUqNDQ04KuvvsLy5csRGBjI9VPj8/m4ePEihg4dCuB/zaIzMjJQWVmJxx9/vEUFcGJiIsLDw7mWKWlpaTh37hw2b96MWbNmITIyElVVVdzz9fT0KPwRQsgjhgIgIb0Ej8fDE088gcDAQKSnp+O9994DcK/di6enJ2pra3Hx4kUYGxsDAI4cOYKgoCB4e3tzr3Hu3DnU19djzJgxMDIyQmZmJi5cuIA333wTb7/9Nm7fvo2NGzdCIpHg+++/x8yZMzFjxgwcPHhQG7dMdMCWLVvg5eUFY2NjhIaG4ty5c2p93oULF6Cvr4+goKDuvUBCSKdQACSkl2KDHnCvL+DAgQMRHh6Ojz76CMC9s4PV1dWor6/nnrdt2zYMHjwYPj4+AIDffvsN3t7eWL16NQYMGABjY2PY2Nhg6dKl2LZtG5588km4ublh9erV+OKLLx56PTKZrMUUB9L7HThwAMuWLcOaNWuQlpaG8ePHIyIiosXZy7bU1NTg+eefx6RJk3roSgkhHUVnAAl5xFRUVMDZ2RnFxcWYOnUqhg4ditmzZyMuLg6HDh3CmjVrsHLlShgbG8PPzw9RUVFYv349d25w3bp1WLduHf7880+uCfWxY8ewaNEinD17FgMGDGjz66ampmLr1q0oKirCiBEjsGzZMjg6OvbkrRMNGzlyJEJCQrB161buMT8/P8TExGDdunUP/Lx58+bBx8cHenp6OHjwINLT03vgagkhHUErgIQ8YpydncEwDDw9PbF//34YGRnh3LlzGDx4MGQyGUJDQ2FsbIy8vDwUFBTgqaeeAvC/9i+7du2Cubk5pk+fjkGDBuGTTz4Bj8fD0KFDkZKS8sCvy+Px4O3tjbFjx+Lzzz/H/v37W4y8I71Lc3MzUlJS7puvPHny5IfOm965cycKCwvx4YcfdvclEkK6gPoAEvIIYsNcUFAQ9uzZAwC4c+cOnJ2duWKRn376Cfb29tzHwL15w7du3cLRo0fh5+eHY8eOYf/+/fjmm29QVVWFNWvWAPhflbGq4OBgBAcH4/jx47C0tMS4ceP6dPHI1q1bsXXrVhQXFwMA/P398cEHHyAiIqLN5yclJWHixIn3PZ6Xl4fBgwd356W2SSwWQ6FQtDlfuaKios3PuXHjBt59912cO3euV44eJKQvob+hhPQR/fr1w6uvvsp97OHhgddeew1mZmbcY42NjRgyZAguXryISZMm4aWXXsJLL72EiooKpKamtjnLmNXc3AxDQ0P88ssvCA4OhpeXV/fflA7r378/Pv/8cwwcOBAA8PPPPyM6OhppaWnw9/d/4Oddv34dlpaW3McODg7dfq0P09Z85bb+/BUKBZ599ll8/PHH8PX17anLI4R0Ep0BJIQA+N8b+/vvv4+kpCRs27YN/v7+XLBTl6WlJT766CMsW7asxQQSAtja2mLDhg1YuHDhfb/GrgDevXsX1tbWPX9xrTQ3N8PU1BS///47N1kGAN58802kp6fjzJkzLZ5fXV0NGxubFqu+SqUSDMNAT08PJ06cwOOPP95j108IeTj615kQAuB/Kz2vvfYaXFxcMGLECDz++OP44IMP8Pnnn0MkEj3wc9mzfmfOnIFUKsWECRMo/KlQKBTYv38/6uvrucKaBwkODoaLiwsmTZrUYoZzTzM0NERoaOh985VPnjzJ9aBUZWlpiaysLKSnp3P/LVmyBIMGDUJ6ejpGjhzZU5dOCFEDbQETQlpwcnLCb7/9hps3b+LAgQO4ffs2Ro0apdZW5A8//IDhw4f3+e1fVlZWFkaPHo2mpiaYm5sjP3quWQAAA5tJREFUISGhxVg+VS4uLtixYwdCQ0MhlUrxyy+/YNKkSUhKSsKECRN6+MrvWbFiBZ577jmEhYVh9OjR2LFjB27fvo0lS5YAaDmPmc/nIyAgoMXnOzo6wtjY+L7HCSHaRwGQENImtj8gcG97+EHYLT7gXvPp1atX68QWpi5gV7+qq6sRFxeH+fPn48yZM22GwEGDBmHQoEHcx6NHj0ZJSQm+/PJLrQXAuXPnorKyEp988gnKy8sREBCAY8eOwcPDA8D985gJIb0HnQEkhHRac3Mztm3bhoqKCvj4+GDp0qU4e/YswsLCtH1pOumJJ57AgAEDsH37drWe/9lnn2HPnj3Iy8vr5isjhPQ1tAJICOk0AwMDODk5YdOmTSgpKYFSqcSOHTugr68Pf39/GBgYaPsSdQrDMJBKpWo/Py0tDS4uLt14RYSQvooCICGk03g8HubOnYu5c+dCIpHgt99+wzfffIPMzEzs3r27T7cD+c9//oOIiAi4ubmhrq4O+/fvR1JSEhITEwG0PD8HAJs3b4anpydXeb1nzx7ExcUhLi5Om7dBCHlEUQAkhGiEubk5FixYgAULFnS4dcyjSCAQ4LnnnkN5eTmsrKwQGBiIxMREPPnkkwDuPz/X3NyMt99+G2VlZTAxMYG/vz+OHj2KadOmaesWCCGPMDoDSAghhBDSx1CjLkIIIYSQPoYCICGEEEJIH0MBkBBCCCGkj6EASAghhBDSx1AAJIQQQgjpYygAEkIIIYT0MRQACSGEEEL6GAqAhBBCCCF9DAVAQgghhJA+hgIgIYQQQkgfQwGQEEIIIaSPoQBICCGEENLHUAAkhBBCCOljKAASQgghhPQxFAAJIYQQQvoYCoCEEEIIIX0MBUBCCCGEkD6GAiAhhBBCSB9DAZAQQgghpI+hAEgIIYQQ0sdQACSEEEII6WMoABJCCCGE9DEUAAkhhBBC+hgKgIQQQgghfQwFQEIIIYSQPoYCICGEEEJIH0MBkBBCCCGkj6EASAghhBDSx1AAJIQQQgjpYygAEkIIIYT0MRQACSGEEEL6GAqAhBBCCCF9DAVAQgghhJA+hgIgIYQQQkgfQwGQEEIIIaSPoQBICCGEENLHUAAkhBBCCOljKAASQgghhPQxFAAJIYQQQvoYCoCEEEIIIX0MBUBCCCGEkD6GAiAhhBBCSB9DAZAQQgghpI+hAEgIIYQQ0sdQACSEEEII6WMoABJCCCGE9DH/H112yoWfDesSAAAAAElFTkSuQmCC' width=640.0/>\n",
       "            </div>\n",
       "        "
      ],
      "text/plain": [
       "Canvas(toolbar=Toolbar(toolitems=[('Home', 'Reset original view', 'home', 'home'), ('Back', 'Back to previous …"
      ]
     },
     "metadata": {},
     "output_type": "display_data"
    }
   ],
   "source": [
    "from sklearn.cluster import KMeans\n",
    "import numpy as np\n",
    "\n",
    "# Assuming X contains your 4-dimensional data\n",
    "# X = [[feature1_1, feature2_1, feature3_1, feature4_1],\n",
    "#      [feature1_2, feature2_2, feature3_2, feature4_2],\n",
    "#      ...\n",
    "#      [feature1_n, feature2_n, feature3_n, feature4_n]]\n",
    "\n",
    "# Step 2: Choose the number of clusters (k)\n",
    "k = 3\n",
    "\n",
    "# Step 3: Apply K-Means Algorithm\n",
    "kmeans = KMeans(n_clusters=k, random_state=0, n_init='auto')\n",
    "\n",
    "# Step 4: Fit the model\n",
    "kmeans.fit(qoiX)\n",
    "\n",
    "# Step 5: Cluster Assignment\n",
    "labels = kmeans.labels_\n",
    "\n",
    "# Step 6: Interpret Results\n",
    "centroids = kmeans.cluster_centers_\n",
    "\n",
    "# Analyze the clusters and visualize the results as needed\n",
    "\n",
    "\n",
    "# Plotting the clusters\n",
    "fig = plt.figure()\n",
    "ax = fig.add_subplot(111, projection='3d')\n",
    "\n",
    "# Plot data points\n",
    "ax.scatter(qoiX.iloc[:, 0], qoiX.iloc[:, 1], qoiX.iloc[:, 2], c=qoiX.iloc[:, 3], cmap='viridis', label='Data Points')\n",
    "\n",
    "# Plot centroids\n",
    "ax.scatter(centroids[:, 0], centroids[:, 1], centroids[:, 2], marker='x', s=100, c='red', label='Centroids')\n",
    "\n",
    "ax.set_xlabel('Feature 1')\n",
    "ax.set_ylabel('Feature 2')\n",
    "ax.set_zlabel('Feature 3')\n",
    "ax.set_title('K-Means Clustering')\n",
    "\n",
    "plt.legend()\n",
    "plt.show()\n"
   ]
  }
 ],
 "metadata": {
  "kernelspec": {
   "display_name": "pycascade",
   "language": "python",
   "name": "python3"
  },
  "language_info": {
   "codemirror_mode": {
    "name": "ipython",
    "version": 3
   },
   "file_extension": ".py",
   "mimetype": "text/x-python",
   "name": "python",
   "nbconvert_exporter": "python",
   "pygments_lexer": "ipython3",
   "version": "3.10.13"
  }
 },
 "nbformat": 4,
 "nbformat_minor": 2
}
