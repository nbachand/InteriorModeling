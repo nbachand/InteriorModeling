{
 "cells": [
  {
   "cell_type": "code",
   "execution_count": 26,
   "metadata": {},
   "outputs": [
    {
     "name": "stdout",
     "output_type": "stream",
     "text": [
      "The autoreload extension is already loaded. To reload it, use:\n",
      "  %reload_ext autoreload\n"
     ]
    },
    {
     "data": {
      "text/plain": [
       "'/Users/nicholasbachand/Documents/Research/Cascade/city_block_cfd'"
      ]
     },
     "metadata": {},
     "output_type": "display_data"
    },
    {
     "data": {
      "text/plain": [
       "'/Users/nicholasbachand/Documents/Research/InteriorModeling'"
      ]
     },
     "metadata": {},
     "output_type": "display_data"
    }
   ],
   "source": [
    "%load_ext autoreload\n",
    "%autoreload 2\n",
    "%matplotlib widget\n",
    "\n",
    "import numpy as np\n",
    "from matplotlib import pyplot as plt\n",
    "import plotly.express as px\n",
    "import plotly.graph_objects as go\n",
    "import seaborn as sns\n",
    "import os\n",
    "import pandas as pd\n",
    "import scipy\n",
    "\n",
    "plt.close('all')\n",
    "\n",
    "############ Universal ################\n",
    "scratch_home = os.getenv('SCRATCH') #need to set SCRATCH (even if there is no real SCRATCH) to the location where results are written\n",
    "scratch_dir = f'{scratch_home}/Cascade/city_block_cfd'\n",
    "home_dir = !pwd\n",
    "home_dir = home_dir[0]\n",
    "\n",
    "display(scratch_dir)\n",
    "display(home_dir)\n",
    "plt.close('all')\n",
    "\n"
   ]
  },
  {
   "cell_type": "code",
   "execution_count": 27,
   "metadata": {},
   "outputs": [
    {
     "data": {
      "text/html": [
       "<div>\n",
       "<style scoped>\n",
       "    .dataframe tbody tr th:only-of-type {\n",
       "        vertical-align: middle;\n",
       "    }\n",
       "\n",
       "    .dataframe tbody tr th {\n",
       "        vertical-align: top;\n",
       "    }\n",
       "\n",
       "    .dataframe thead th {\n",
       "        text-align: right;\n",
       "    }\n",
       "</style>\n",
       "<table border=\"1\" class=\"dataframe\">\n",
       "  <thead>\n",
       "    <tr style=\"text-align: right;\">\n",
       "      <th></th>\n",
       "      <th>floorTempAdjustment</th>\n",
       "      <th>hInterior</th>\n",
       "      <th>hExterior</th>\n",
       "      <th>alphaRoof</th>\n",
       "      <th>material_type</th>\n",
       "      <th>windSpeed</th>\n",
       "      <th>wallRoughness</th>\n",
       "      <th>group</th>\n",
       "    </tr>\n",
       "  </thead>\n",
       "  <tbody>\n",
       "    <tr>\n",
       "      <th>0</th>\n",
       "      <td>-4.491601</td>\n",
       "      <td>1.707435</td>\n",
       "      <td>2.870371</td>\n",
       "      <td>0.709239</td>\n",
       "      <td>Light</td>\n",
       "      <td>0.543669</td>\n",
       "      <td>1.781051</td>\n",
       "      <td>temp</td>\n",
       "    </tr>\n",
       "  </tbody>\n",
       "</table>\n",
       "</div>"
      ],
      "text/plain": [
       "   floorTempAdjustment  hInterior  hExterior  alphaRoof material_type  \\\n",
       "0            -4.491601   1.707435   2.870371   0.709239         Light   \n",
       "\n",
       "   windSpeed  wallRoughness group  \n",
       "0   0.543669       1.781051  temp  "
      ]
     },
     "metadata": {},
     "output_type": "display_data"
    },
    {
     "data": {
      "text/html": [
       "<div>\n",
       "<style scoped>\n",
       "    .dataframe tbody tr th:only-of-type {\n",
       "        vertical-align: middle;\n",
       "    }\n",
       "\n",
       "    .dataframe tbody tr th {\n",
       "        vertical-align: top;\n",
       "    }\n",
       "\n",
       "    .dataframe thead tr th {\n",
       "        text-align: left;\n",
       "    }\n",
       "</style>\n",
       "<table border=\"1\" class=\"dataframe\">\n",
       "  <thead>\n",
       "    <tr>\n",
       "      <th></th>\n",
       "      <th colspan=\"10\" halign=\"left\">0</th>\n",
       "      <th>...</th>\n",
       "      <th colspan=\"10\" halign=\"left\">19</th>\n",
       "    </tr>\n",
       "    <tr>\n",
       "      <th></th>\n",
       "      <th>dVent</th>\n",
       "      <th>nVent</th>\n",
       "      <th>Tint</th>\n",
       "      <th>Tout</th>\n",
       "      <th>ToutMinusTint</th>\n",
       "      <th>maxToutVent</th>\n",
       "      <th>hVent</th>\n",
       "      <th>ceilingMinusFloor</th>\n",
       "      <th>outMinusFloor</th>\n",
       "      <th>intWallMinusFloor</th>\n",
       "      <th>...</th>\n",
       "      <th>nVent</th>\n",
       "      <th>Tint</th>\n",
       "      <th>Tout</th>\n",
       "      <th>ToutMinusTint</th>\n",
       "      <th>maxToutVent</th>\n",
       "      <th>hVent</th>\n",
       "      <th>ceilingMinusFloor</th>\n",
       "      <th>outMinusFloor</th>\n",
       "      <th>intWallMinusFloor</th>\n",
       "      <th>extWallMinusFloor</th>\n",
       "    </tr>\n",
       "  </thead>\n",
       "  <tbody>\n",
       "    <tr>\n",
       "      <th>0</th>\n",
       "      <td>0.0</td>\n",
       "      <td>0.0</td>\n",
       "      <td>305.197853</td>\n",
       "      <td>305.195833</td>\n",
       "      <td>-0.00202</td>\n",
       "      <td>309.25</td>\n",
       "      <td>19.0</td>\n",
       "      <td>3.637248</td>\n",
       "      <td>1.81162</td>\n",
       "      <td>1.268237</td>\n",
       "      <td>...</td>\n",
       "      <td>10.0</td>\n",
       "      <td>297.492704</td>\n",
       "      <td>291.056944</td>\n",
       "      <td>-6.43576</td>\n",
       "      <td>310.95</td>\n",
       "      <td>6.0</td>\n",
       "      <td>-0.681425</td>\n",
       "      <td>-6.78912</td>\n",
       "      <td>0.368608</td>\n",
       "      <td>-1.68248</td>\n",
       "    </tr>\n",
       "  </tbody>\n",
       "</table>\n",
       "<p>1 rows × 220 columns</p>\n",
       "</div>"
      ],
      "text/plain": [
       "      0                                                                \\\n",
       "  dVent nVent        Tint        Tout ToutMinusTint maxToutVent hVent   \n",
       "0   0.0   0.0  305.197853  305.195833      -0.00202      309.25  19.0   \n",
       "\n",
       "                                                     ...    19              \\\n",
       "  ceilingMinusFloor outMinusFloor intWallMinusFloor  ... nVent        Tint   \n",
       "0          3.637248       1.81162          1.268237  ...  10.0  297.492704   \n",
       "\n",
       "                                                                               \\\n",
       "         Tout ToutMinusTint maxToutVent hVent ceilingMinusFloor outMinusFloor   \n",
       "0  291.056944      -6.43576      310.95   6.0         -0.681425      -6.78912   \n",
       "\n",
       "                                       \n",
       "  intWallMinusFloor extWallMinusFloor  \n",
       "0          0.368608          -1.68248  \n",
       "\n",
       "[1 rows x 220 columns]"
      ]
     },
     "metadata": {},
     "output_type": "display_data"
    }
   ],
   "source": [
    "resultsTimes = [\"temp\"]\n",
    "# resultsTimes = [\"20240406-224437\", \"20240406-234343\", \"20240406-235655\"]\n",
    "# resultsTimes = [\"20240408-235543\", \"20240409-005549\", \"20240409-005827\"]\n",
    "outputs = []\n",
    "inputs = []\n",
    "for resultsTime in resultsTimes:\n",
    "    df = pd.read_csv(f'{home_dir}/resultsMC/outputs_{resultsTime}.csv', header=[0, 1], index_col=0)\n",
    "    outputs.append(df)\n",
    "    df = pd.read_csv(f'{home_dir}/resultsMC/inputs_{resultsTime}.csv', index_col=0)\n",
    "    df[\"group\"] = resultsTime\n",
    "    inputs.append(df)\n",
    "outputs = pd.concat(outputs, axis = \"index\", ignore_index=True)\n",
    "inputs = pd.concat(inputs, axis = \"index\", ignore_index=True)\n",
    "display(inputs, outputs)\n"
   ]
  },
  {
   "cell_type": "code",
   "execution_count": 28,
   "metadata": {},
   "outputs": [
    {
     "data": {
      "text/html": [
       "<div>\n",
       "<style scoped>\n",
       "    .dataframe tbody tr th:only-of-type {\n",
       "        vertical-align: middle;\n",
       "    }\n",
       "\n",
       "    .dataframe tbody tr th {\n",
       "        vertical-align: top;\n",
       "    }\n",
       "\n",
       "    .dataframe thead th {\n",
       "        text-align: right;\n",
       "    }\n",
       "</style>\n",
       "<table border=\"1\" class=\"dataframe\">\n",
       "  <thead>\n",
       "    <tr style=\"text-align: right;\">\n",
       "      <th></th>\n",
       "      <th>floorTempAdjustment</th>\n",
       "      <th>hInterior</th>\n",
       "      <th>hExterior</th>\n",
       "      <th>alphaRoof</th>\n",
       "      <th>material_type</th>\n",
       "      <th>windSpeed</th>\n",
       "      <th>wallRoughness</th>\n",
       "      <th>group</th>\n",
       "      <th>dVent</th>\n",
       "      <th>nVent</th>\n",
       "      <th>Tint</th>\n",
       "      <th>Tout</th>\n",
       "      <th>ToutMinusTint</th>\n",
       "      <th>maxToutVent</th>\n",
       "      <th>hVent</th>\n",
       "      <th>ceilingMinusFloor</th>\n",
       "      <th>outMinusFloor</th>\n",
       "      <th>intWallMinusFloor</th>\n",
       "      <th>extWallMinusFloor</th>\n",
       "      <th>run</th>\n",
       "    </tr>\n",
       "  </thead>\n",
       "  <tbody>\n",
       "    <tr>\n",
       "      <th>0</th>\n",
       "      <td>-4.491601</td>\n",
       "      <td>1.707435</td>\n",
       "      <td>2.870371</td>\n",
       "      <td>0.709239</td>\n",
       "      <td>Light</td>\n",
       "      <td>0.543669</td>\n",
       "      <td>1.781051</td>\n",
       "      <td>temp</td>\n",
       "      <td>0.0</td>\n",
       "      <td>0.0</td>\n",
       "      <td>305.197853</td>\n",
       "      <td>305.195833</td>\n",
       "      <td>-0.002020</td>\n",
       "      <td>309.25</td>\n",
       "      <td>19.0</td>\n",
       "      <td>3.637248</td>\n",
       "      <td>1.811620</td>\n",
       "      <td>1.268237</td>\n",
       "      <td>2.589516</td>\n",
       "      <td>0</td>\n",
       "    </tr>\n",
       "    <tr>\n",
       "      <th>1</th>\n",
       "      <td>-4.491601</td>\n",
       "      <td>1.707435</td>\n",
       "      <td>2.870371</td>\n",
       "      <td>0.709239</td>\n",
       "      <td>Light</td>\n",
       "      <td>0.543669</td>\n",
       "      <td>1.781051</td>\n",
       "      <td>temp</td>\n",
       "      <td>0.0</td>\n",
       "      <td>1.0</td>\n",
       "      <td>304.929645</td>\n",
       "      <td>300.755556</td>\n",
       "      <td>-4.174089</td>\n",
       "      <td>309.25</td>\n",
       "      <td>20.0</td>\n",
       "      <td>3.028435</td>\n",
       "      <td>-2.478429</td>\n",
       "      <td>1.577506</td>\n",
       "      <td>1.835124</td>\n",
       "      <td>0</td>\n",
       "    </tr>\n",
       "    <tr>\n",
       "      <th>2</th>\n",
       "      <td>-4.491601</td>\n",
       "      <td>1.707435</td>\n",
       "      <td>2.870371</td>\n",
       "      <td>0.709239</td>\n",
       "      <td>Light</td>\n",
       "      <td>0.543669</td>\n",
       "      <td>1.781051</td>\n",
       "      <td>temp</td>\n",
       "      <td>0.0</td>\n",
       "      <td>2.0</td>\n",
       "      <td>304.061108</td>\n",
       "      <td>297.660694</td>\n",
       "      <td>-6.400413</td>\n",
       "      <td>309.25</td>\n",
       "      <td>21.0</td>\n",
       "      <td>2.271252</td>\n",
       "      <td>-4.970734</td>\n",
       "      <td>1.790439</td>\n",
       "      <td>0.887248</td>\n",
       "      <td>0</td>\n",
       "    </tr>\n",
       "    <tr>\n",
       "      <th>3</th>\n",
       "      <td>-4.491601</td>\n",
       "      <td>1.707435</td>\n",
       "      <td>2.870371</td>\n",
       "      <td>0.709239</td>\n",
       "      <td>Light</td>\n",
       "      <td>0.543669</td>\n",
       "      <td>1.781051</td>\n",
       "      <td>temp</td>\n",
       "      <td>0.0</td>\n",
       "      <td>3.0</td>\n",
       "      <td>302.923081</td>\n",
       "      <td>295.690000</td>\n",
       "      <td>-7.233081</td>\n",
       "      <td>309.25</td>\n",
       "      <td>22.0</td>\n",
       "      <td>1.553569</td>\n",
       "      <td>-6.129899</td>\n",
       "      <td>1.812575</td>\n",
       "      <td>0.090534</td>\n",
       "      <td>0</td>\n",
       "    </tr>\n",
       "    <tr>\n",
       "      <th>4</th>\n",
       "      <td>-4.491601</td>\n",
       "      <td>1.707435</td>\n",
       "      <td>2.870371</td>\n",
       "      <td>0.709239</td>\n",
       "      <td>Light</td>\n",
       "      <td>0.543669</td>\n",
       "      <td>1.781051</td>\n",
       "      <td>temp</td>\n",
       "      <td>0.0</td>\n",
       "      <td>4.0</td>\n",
       "      <td>301.748267</td>\n",
       "      <td>294.325972</td>\n",
       "      <td>-7.422294</td>\n",
       "      <td>309.25</td>\n",
       "      <td>23.0</td>\n",
       "      <td>0.967550</td>\n",
       "      <td>-6.637356</td>\n",
       "      <td>1.681652</td>\n",
       "      <td>-0.499579</td>\n",
       "      <td>0</td>\n",
       "    </tr>\n",
       "    <tr>\n",
       "      <th>5</th>\n",
       "      <td>-4.491601</td>\n",
       "      <td>1.707435</td>\n",
       "      <td>2.870371</td>\n",
       "      <td>0.709239</td>\n",
       "      <td>Light</td>\n",
       "      <td>0.543669</td>\n",
       "      <td>1.781051</td>\n",
       "      <td>temp</td>\n",
       "      <td>0.0</td>\n",
       "      <td>5.0</td>\n",
       "      <td>300.635415</td>\n",
       "      <td>293.463333</td>\n",
       "      <td>-7.172081</td>\n",
       "      <td>309.25</td>\n",
       "      <td>0.0</td>\n",
       "      <td>0.507204</td>\n",
       "      <td>-6.671156</td>\n",
       "      <td>1.468015</td>\n",
       "      <td>-0.916005</td>\n",
       "      <td>0</td>\n",
       "    </tr>\n",
       "    <tr>\n",
       "      <th>6</th>\n",
       "      <td>-4.491601</td>\n",
       "      <td>1.707435</td>\n",
       "      <td>2.870371</td>\n",
       "      <td>0.709239</td>\n",
       "      <td>Light</td>\n",
       "      <td>0.543669</td>\n",
       "      <td>1.781051</td>\n",
       "      <td>temp</td>\n",
       "      <td>0.0</td>\n",
       "      <td>6.0</td>\n",
       "      <td>299.633086</td>\n",
       "      <td>292.862500</td>\n",
       "      <td>-6.770586</td>\n",
       "      <td>309.25</td>\n",
       "      <td>1.0</td>\n",
       "      <td>0.149050</td>\n",
       "      <td>-6.510084</td>\n",
       "      <td>1.219455</td>\n",
       "      <td>-1.181518</td>\n",
       "      <td>0</td>\n",
       "    </tr>\n",
       "    <tr>\n",
       "      <th>7</th>\n",
       "      <td>-4.491601</td>\n",
       "      <td>1.707435</td>\n",
       "      <td>2.870371</td>\n",
       "      <td>0.709239</td>\n",
       "      <td>Light</td>\n",
       "      <td>0.543669</td>\n",
       "      <td>1.781051</td>\n",
       "      <td>temp</td>\n",
       "      <td>0.0</td>\n",
       "      <td>7.0</td>\n",
       "      <td>298.744142</td>\n",
       "      <td>292.021389</td>\n",
       "      <td>-6.722753</td>\n",
       "      <td>309.25</td>\n",
       "      <td>2.0</td>\n",
       "      <td>-0.129394</td>\n",
       "      <td>-6.659921</td>\n",
       "      <td>0.975009</td>\n",
       "      <td>-1.364610</td>\n",
       "      <td>0</td>\n",
       "    </tr>\n",
       "    <tr>\n",
       "      <th>8</th>\n",
       "      <td>-4.491601</td>\n",
       "      <td>1.707435</td>\n",
       "      <td>2.870371</td>\n",
       "      <td>0.709239</td>\n",
       "      <td>Light</td>\n",
       "      <td>0.543669</td>\n",
       "      <td>1.781051</td>\n",
       "      <td>temp</td>\n",
       "      <td>0.0</td>\n",
       "      <td>8.0</td>\n",
       "      <td>297.917127</td>\n",
       "      <td>291.209028</td>\n",
       "      <td>-6.708100</td>\n",
       "      <td>309.25</td>\n",
       "      <td>3.0</td>\n",
       "      <td>-0.355929</td>\n",
       "      <td>-6.816533</td>\n",
       "      <td>0.765494</td>\n",
       "      <td>-1.565709</td>\n",
       "      <td>0</td>\n",
       "    </tr>\n",
       "    <tr>\n",
       "      <th>9</th>\n",
       "      <td>-4.491601</td>\n",
       "      <td>1.707435</td>\n",
       "      <td>2.870371</td>\n",
       "      <td>0.709239</td>\n",
       "      <td>Light</td>\n",
       "      <td>0.543669</td>\n",
       "      <td>1.781051</td>\n",
       "      <td>temp</td>\n",
       "      <td>1.0</td>\n",
       "      <td>0.0</td>\n",
       "      <td>306.038593</td>\n",
       "      <td>306.033333</td>\n",
       "      <td>-0.005259</td>\n",
       "      <td>310.95</td>\n",
       "      <td>20.0</td>\n",
       "      <td>2.948770</td>\n",
       "      <td>1.719233</td>\n",
       "      <td>1.330925</td>\n",
       "      <td>2.594258</td>\n",
       "      <td>0</td>\n",
       "    </tr>\n",
       "    <tr>\n",
       "      <th>10</th>\n",
       "      <td>-4.491601</td>\n",
       "      <td>1.707435</td>\n",
       "      <td>2.870371</td>\n",
       "      <td>0.709239</td>\n",
       "      <td>Light</td>\n",
       "      <td>0.543669</td>\n",
       "      <td>1.781051</td>\n",
       "      <td>temp</td>\n",
       "      <td>1.0</td>\n",
       "      <td>1.0</td>\n",
       "      <td>305.558371</td>\n",
       "      <td>301.263611</td>\n",
       "      <td>-4.294760</td>\n",
       "      <td>310.95</td>\n",
       "      <td>21.0</td>\n",
       "      <td>2.358754</td>\n",
       "      <td>-2.731971</td>\n",
       "      <td>1.575327</td>\n",
       "      <td>1.789902</td>\n",
       "      <td>0</td>\n",
       "    </tr>\n",
       "    <tr>\n",
       "      <th>11</th>\n",
       "      <td>-4.491601</td>\n",
       "      <td>1.707435</td>\n",
       "      <td>2.870371</td>\n",
       "      <td>0.709239</td>\n",
       "      <td>Light</td>\n",
       "      <td>0.543669</td>\n",
       "      <td>1.781051</td>\n",
       "      <td>temp</td>\n",
       "      <td>1.0</td>\n",
       "      <td>2.0</td>\n",
       "      <td>304.593049</td>\n",
       "      <td>299.103611</td>\n",
       "      <td>-5.489437</td>\n",
       "      <td>310.95</td>\n",
       "      <td>22.0</td>\n",
       "      <td>1.719988</td>\n",
       "      <td>-4.210150</td>\n",
       "      <td>1.713735</td>\n",
       "      <td>0.854150</td>\n",
       "      <td>0</td>\n",
       "    </tr>\n",
       "    <tr>\n",
       "      <th>12</th>\n",
       "      <td>-4.491601</td>\n",
       "      <td>1.707435</td>\n",
       "      <td>2.870371</td>\n",
       "      <td>0.709239</td>\n",
       "      <td>Light</td>\n",
       "      <td>0.543669</td>\n",
       "      <td>1.781051</td>\n",
       "      <td>temp</td>\n",
       "      <td>1.0</td>\n",
       "      <td>3.0</td>\n",
       "      <td>303.514685</td>\n",
       "      <td>297.410000</td>\n",
       "      <td>-6.104685</td>\n",
       "      <td>310.95</td>\n",
       "      <td>23.0</td>\n",
       "      <td>1.163852</td>\n",
       "      <td>-5.126798</td>\n",
       "      <td>1.667693</td>\n",
       "      <td>0.167263</td>\n",
       "      <td>0</td>\n",
       "    </tr>\n",
       "    <tr>\n",
       "      <th>13</th>\n",
       "      <td>-4.491601</td>\n",
       "      <td>1.707435</td>\n",
       "      <td>2.870371</td>\n",
       "      <td>0.709239</td>\n",
       "      <td>Light</td>\n",
       "      <td>0.543669</td>\n",
       "      <td>1.781051</td>\n",
       "      <td>temp</td>\n",
       "      <td>1.0</td>\n",
       "      <td>4.0</td>\n",
       "      <td>302.445726</td>\n",
       "      <td>295.852222</td>\n",
       "      <td>-6.593504</td>\n",
       "      <td>310.95</td>\n",
       "      <td>0.0</td>\n",
       "      <td>0.715362</td>\n",
       "      <td>-5.894149</td>\n",
       "      <td>1.518841</td>\n",
       "      <td>-0.358210</td>\n",
       "      <td>0</td>\n",
       "    </tr>\n",
       "    <tr>\n",
       "      <th>14</th>\n",
       "      <td>-4.491601</td>\n",
       "      <td>1.707435</td>\n",
       "      <td>2.870371</td>\n",
       "      <td>0.709239</td>\n",
       "      <td>Light</td>\n",
       "      <td>0.543669</td>\n",
       "      <td>1.781051</td>\n",
       "      <td>temp</td>\n",
       "      <td>1.0</td>\n",
       "      <td>5.0</td>\n",
       "      <td>301.414942</td>\n",
       "      <td>294.795833</td>\n",
       "      <td>-6.619109</td>\n",
       "      <td>310.95</td>\n",
       "      <td>1.0</td>\n",
       "      <td>0.349125</td>\n",
       "      <td>-6.172479</td>\n",
       "      <td>1.325946</td>\n",
       "      <td>-0.774848</td>\n",
       "      <td>0</td>\n",
       "    </tr>\n",
       "    <tr>\n",
       "      <th>15</th>\n",
       "      <td>-4.491601</td>\n",
       "      <td>1.707435</td>\n",
       "      <td>2.870371</td>\n",
       "      <td>0.709239</td>\n",
       "      <td>Light</td>\n",
       "      <td>0.543669</td>\n",
       "      <td>1.781051</td>\n",
       "      <td>temp</td>\n",
       "      <td>1.0</td>\n",
       "      <td>6.0</td>\n",
       "      <td>300.465914</td>\n",
       "      <td>294.149167</td>\n",
       "      <td>-6.316748</td>\n",
       "      <td>310.95</td>\n",
       "      <td>2.0</td>\n",
       "      <td>0.050751</td>\n",
       "      <td>-6.089816</td>\n",
       "      <td>1.109729</td>\n",
       "      <td>-1.064245</td>\n",
       "      <td>0</td>\n",
       "    </tr>\n",
       "    <tr>\n",
       "      <th>16</th>\n",
       "      <td>-4.491601</td>\n",
       "      <td>1.707435</td>\n",
       "      <td>2.870371</td>\n",
       "      <td>0.709239</td>\n",
       "      <td>Light</td>\n",
       "      <td>0.543669</td>\n",
       "      <td>1.781051</td>\n",
       "      <td>temp</td>\n",
       "      <td>1.0</td>\n",
       "      <td>7.0</td>\n",
       "      <td>299.609032</td>\n",
       "      <td>293.150000</td>\n",
       "      <td>-6.459032</td>\n",
       "      <td>310.95</td>\n",
       "      <td>3.0</td>\n",
       "      <td>-0.190151</td>\n",
       "      <td>-6.415371</td>\n",
       "      <td>0.897856</td>\n",
       "      <td>-1.283024</td>\n",
       "      <td>0</td>\n",
       "    </tr>\n",
       "    <tr>\n",
       "      <th>17</th>\n",
       "      <td>-4.491601</td>\n",
       "      <td>1.707435</td>\n",
       "      <td>2.870371</td>\n",
       "      <td>0.709239</td>\n",
       "      <td>Light</td>\n",
       "      <td>0.543669</td>\n",
       "      <td>1.781051</td>\n",
       "      <td>temp</td>\n",
       "      <td>1.0</td>\n",
       "      <td>8.0</td>\n",
       "      <td>298.818275</td>\n",
       "      <td>293.093333</td>\n",
       "      <td>-5.724942</td>\n",
       "      <td>310.95</td>\n",
       "      <td>4.0</td>\n",
       "      <td>-0.392790</td>\n",
       "      <td>-5.842839</td>\n",
       "      <td>0.701230</td>\n",
       "      <td>-1.447508</td>\n",
       "      <td>0</td>\n",
       "    </tr>\n",
       "    <tr>\n",
       "      <th>18</th>\n",
       "      <td>-4.491601</td>\n",
       "      <td>1.707435</td>\n",
       "      <td>2.870371</td>\n",
       "      <td>0.709239</td>\n",
       "      <td>Light</td>\n",
       "      <td>0.543669</td>\n",
       "      <td>1.781051</td>\n",
       "      <td>temp</td>\n",
       "      <td>1.0</td>\n",
       "      <td>9.0</td>\n",
       "      <td>298.140667</td>\n",
       "      <td>292.396667</td>\n",
       "      <td>-5.744000</td>\n",
       "      <td>310.95</td>\n",
       "      <td>5.0</td>\n",
       "      <td>-0.550696</td>\n",
       "      <td>-5.987315</td>\n",
       "      <td>0.511375</td>\n",
       "      <td>-1.522353</td>\n",
       "      <td>0</td>\n",
       "    </tr>\n",
       "    <tr>\n",
       "      <th>19</th>\n",
       "      <td>-4.491601</td>\n",
       "      <td>1.707435</td>\n",
       "      <td>2.870371</td>\n",
       "      <td>0.709239</td>\n",
       "      <td>Light</td>\n",
       "      <td>0.543669</td>\n",
       "      <td>1.781051</td>\n",
       "      <td>temp</td>\n",
       "      <td>1.0</td>\n",
       "      <td>10.0</td>\n",
       "      <td>297.492704</td>\n",
       "      <td>291.056944</td>\n",
       "      <td>-6.435760</td>\n",
       "      <td>310.95</td>\n",
       "      <td>6.0</td>\n",
       "      <td>-0.681425</td>\n",
       "      <td>-6.789120</td>\n",
       "      <td>0.368608</td>\n",
       "      <td>-1.682480</td>\n",
       "      <td>0</td>\n",
       "    </tr>\n",
       "  </tbody>\n",
       "</table>\n",
       "</div>"
      ],
      "text/plain": [
       "    floorTempAdjustment  hInterior  hExterior  alphaRoof material_type  \\\n",
       "0             -4.491601   1.707435   2.870371   0.709239         Light   \n",
       "1             -4.491601   1.707435   2.870371   0.709239         Light   \n",
       "2             -4.491601   1.707435   2.870371   0.709239         Light   \n",
       "3             -4.491601   1.707435   2.870371   0.709239         Light   \n",
       "4             -4.491601   1.707435   2.870371   0.709239         Light   \n",
       "5             -4.491601   1.707435   2.870371   0.709239         Light   \n",
       "6             -4.491601   1.707435   2.870371   0.709239         Light   \n",
       "7             -4.491601   1.707435   2.870371   0.709239         Light   \n",
       "8             -4.491601   1.707435   2.870371   0.709239         Light   \n",
       "9             -4.491601   1.707435   2.870371   0.709239         Light   \n",
       "10            -4.491601   1.707435   2.870371   0.709239         Light   \n",
       "11            -4.491601   1.707435   2.870371   0.709239         Light   \n",
       "12            -4.491601   1.707435   2.870371   0.709239         Light   \n",
       "13            -4.491601   1.707435   2.870371   0.709239         Light   \n",
       "14            -4.491601   1.707435   2.870371   0.709239         Light   \n",
       "15            -4.491601   1.707435   2.870371   0.709239         Light   \n",
       "16            -4.491601   1.707435   2.870371   0.709239         Light   \n",
       "17            -4.491601   1.707435   2.870371   0.709239         Light   \n",
       "18            -4.491601   1.707435   2.870371   0.709239         Light   \n",
       "19            -4.491601   1.707435   2.870371   0.709239         Light   \n",
       "\n",
       "    windSpeed  wallRoughness group  dVent  nVent        Tint        Tout  \\\n",
       "0    0.543669       1.781051  temp    0.0    0.0  305.197853  305.195833   \n",
       "1    0.543669       1.781051  temp    0.0    1.0  304.929645  300.755556   \n",
       "2    0.543669       1.781051  temp    0.0    2.0  304.061108  297.660694   \n",
       "3    0.543669       1.781051  temp    0.0    3.0  302.923081  295.690000   \n",
       "4    0.543669       1.781051  temp    0.0    4.0  301.748267  294.325972   \n",
       "5    0.543669       1.781051  temp    0.0    5.0  300.635415  293.463333   \n",
       "6    0.543669       1.781051  temp    0.0    6.0  299.633086  292.862500   \n",
       "7    0.543669       1.781051  temp    0.0    7.0  298.744142  292.021389   \n",
       "8    0.543669       1.781051  temp    0.0    8.0  297.917127  291.209028   \n",
       "9    0.543669       1.781051  temp    1.0    0.0  306.038593  306.033333   \n",
       "10   0.543669       1.781051  temp    1.0    1.0  305.558371  301.263611   \n",
       "11   0.543669       1.781051  temp    1.0    2.0  304.593049  299.103611   \n",
       "12   0.543669       1.781051  temp    1.0    3.0  303.514685  297.410000   \n",
       "13   0.543669       1.781051  temp    1.0    4.0  302.445726  295.852222   \n",
       "14   0.543669       1.781051  temp    1.0    5.0  301.414942  294.795833   \n",
       "15   0.543669       1.781051  temp    1.0    6.0  300.465914  294.149167   \n",
       "16   0.543669       1.781051  temp    1.0    7.0  299.609032  293.150000   \n",
       "17   0.543669       1.781051  temp    1.0    8.0  298.818275  293.093333   \n",
       "18   0.543669       1.781051  temp    1.0    9.0  298.140667  292.396667   \n",
       "19   0.543669       1.781051  temp    1.0   10.0  297.492704  291.056944   \n",
       "\n",
       "    ToutMinusTint  maxToutVent  hVent  ceilingMinusFloor  outMinusFloor  \\\n",
       "0       -0.002020       309.25   19.0           3.637248       1.811620   \n",
       "1       -4.174089       309.25   20.0           3.028435      -2.478429   \n",
       "2       -6.400413       309.25   21.0           2.271252      -4.970734   \n",
       "3       -7.233081       309.25   22.0           1.553569      -6.129899   \n",
       "4       -7.422294       309.25   23.0           0.967550      -6.637356   \n",
       "5       -7.172081       309.25    0.0           0.507204      -6.671156   \n",
       "6       -6.770586       309.25    1.0           0.149050      -6.510084   \n",
       "7       -6.722753       309.25    2.0          -0.129394      -6.659921   \n",
       "8       -6.708100       309.25    3.0          -0.355929      -6.816533   \n",
       "9       -0.005259       310.95   20.0           2.948770       1.719233   \n",
       "10      -4.294760       310.95   21.0           2.358754      -2.731971   \n",
       "11      -5.489437       310.95   22.0           1.719988      -4.210150   \n",
       "12      -6.104685       310.95   23.0           1.163852      -5.126798   \n",
       "13      -6.593504       310.95    0.0           0.715362      -5.894149   \n",
       "14      -6.619109       310.95    1.0           0.349125      -6.172479   \n",
       "15      -6.316748       310.95    2.0           0.050751      -6.089816   \n",
       "16      -6.459032       310.95    3.0          -0.190151      -6.415371   \n",
       "17      -5.724942       310.95    4.0          -0.392790      -5.842839   \n",
       "18      -5.744000       310.95    5.0          -0.550696      -5.987315   \n",
       "19      -6.435760       310.95    6.0          -0.681425      -6.789120   \n",
       "\n",
       "    intWallMinusFloor  extWallMinusFloor  run  \n",
       "0            1.268237           2.589516    0  \n",
       "1            1.577506           1.835124    0  \n",
       "2            1.790439           0.887248    0  \n",
       "3            1.812575           0.090534    0  \n",
       "4            1.681652          -0.499579    0  \n",
       "5            1.468015          -0.916005    0  \n",
       "6            1.219455          -1.181518    0  \n",
       "7            0.975009          -1.364610    0  \n",
       "8            0.765494          -1.565709    0  \n",
       "9            1.330925           2.594258    0  \n",
       "10           1.575327           1.789902    0  \n",
       "11           1.713735           0.854150    0  \n",
       "12           1.667693           0.167263    0  \n",
       "13           1.518841          -0.358210    0  \n",
       "14           1.325946          -0.774848    0  \n",
       "15           1.109729          -1.064245    0  \n",
       "16           0.897856          -1.283024    0  \n",
       "17           0.701230          -1.447508    0  \n",
       "18           0.511375          -1.522353    0  \n",
       "19           0.368608          -1.682480    0  "
      ]
     },
     "execution_count": 28,
     "metadata": {},
     "output_type": "execute_result"
    }
   ],
   "source": [
    "dfFull = pd.DataFrame()\n",
    "ventHeaders = outputs.columns.get_level_values(0).unique().values\n",
    "for header in ventHeaders:\n",
    "    df = pd.concat([inputs, outputs[header][:]], axis=1)\n",
    "    df[\"run\"] = df.index.values\n",
    "    dfFull = pd.concat([dfFull, df], axis = \"index\")\n",
    "\n",
    "dfFull = dfFull.dropna()\n",
    "dfFull = dfFull.reset_index(drop=True)\n",
    "dfFull"
   ]
  },
  {
   "cell_type": "code",
   "execution_count": 10,
   "metadata": {},
   "outputs": [],
   "source": [
    "dropCondition = dfFull[\"ceilingMinusFloor\"] > 10\n",
    "dfFull = dfFull[~dropCondition]"
   ]
  },
  {
   "cell_type": "code",
   "execution_count": 11,
   "metadata": {},
   "outputs": [
    {
     "name": "stderr",
     "output_type": "stream",
     "text": [
      "/opt/homebrew/Caskroom/miniconda/base/envs/pycascade/lib/python3.10/site-packages/pandas/core/arraylike.py:396: RuntimeWarning: invalid value encountered in log\n",
      "  result = getattr(ufunc, method)(*inputs, **kwargs)\n"
     ]
    },
    {
     "data": {
      "text/html": [
       "<div>\n",
       "<style scoped>\n",
       "    .dataframe tbody tr th:only-of-type {\n",
       "        vertical-align: middle;\n",
       "    }\n",
       "\n",
       "    .dataframe tbody tr th {\n",
       "        vertical-align: top;\n",
       "    }\n",
       "\n",
       "    .dataframe thead th {\n",
       "        text-align: right;\n",
       "    }\n",
       "</style>\n",
       "<table border=\"1\" class=\"dataframe\">\n",
       "  <thead>\n",
       "    <tr style=\"text-align: right;\">\n",
       "      <th></th>\n",
       "      <th>floorTempAdjustment</th>\n",
       "      <th>hInterior</th>\n",
       "      <th>hExterior</th>\n",
       "      <th>alphaRoof</th>\n",
       "      <th>material_type</th>\n",
       "      <th>windSpeed</th>\n",
       "      <th>wallRoughness</th>\n",
       "      <th>group</th>\n",
       "      <th>hVent</th>\n",
       "      <th>dVent</th>\n",
       "      <th>nVent</th>\n",
       "      <th>ceilingMinusFloor</th>\n",
       "      <th>outMinusFloor</th>\n",
       "      <th>intWallMinusFloor</th>\n",
       "      <th>extWallMinusFloor</th>\n",
       "      <th>run</th>\n",
       "      <th>Ri</th>\n",
       "      <th>logRi</th>\n",
       "    </tr>\n",
       "  </thead>\n",
       "  <tbody>\n",
       "    <tr>\n",
       "      <th>0</th>\n",
       "      <td>-4.491601</td>\n",
       "      <td>1.707435</td>\n",
       "      <td>2.870371</td>\n",
       "      <td>0.709239</td>\n",
       "      <td>Light</td>\n",
       "      <td>0.543669</td>\n",
       "      <td>1.781051</td>\n",
       "      <td>temp</td>\n",
       "      <td>19.0</td>\n",
       "      <td>0.0</td>\n",
       "      <td>0</td>\n",
       "      <td>3.637248</td>\n",
       "      <td>1.811620</td>\n",
       "      <td>1.268237</td>\n",
       "      <td>2.589516</td>\n",
       "      <td>0</td>\n",
       "      <td>1.281169</td>\n",
       "      <td>0.247773</td>\n",
       "    </tr>\n",
       "    <tr>\n",
       "      <th>1</th>\n",
       "      <td>-4.491601</td>\n",
       "      <td>1.707435</td>\n",
       "      <td>2.870371</td>\n",
       "      <td>0.709239</td>\n",
       "      <td>Light</td>\n",
       "      <td>0.543669</td>\n",
       "      <td>1.781051</td>\n",
       "      <td>temp</td>\n",
       "      <td>20.0</td>\n",
       "      <td>0.0</td>\n",
       "      <td>1</td>\n",
       "      <td>3.028435</td>\n",
       "      <td>-2.478429</td>\n",
       "      <td>1.577506</td>\n",
       "      <td>1.835124</td>\n",
       "      <td>0</td>\n",
       "      <td>1.066724</td>\n",
       "      <td>0.064592</td>\n",
       "    </tr>\n",
       "    <tr>\n",
       "      <th>2</th>\n",
       "      <td>-4.491601</td>\n",
       "      <td>1.707435</td>\n",
       "      <td>2.870371</td>\n",
       "      <td>0.709239</td>\n",
       "      <td>Light</td>\n",
       "      <td>0.543669</td>\n",
       "      <td>1.781051</td>\n",
       "      <td>temp</td>\n",
       "      <td>21.0</td>\n",
       "      <td>0.0</td>\n",
       "      <td>2</td>\n",
       "      <td>2.271252</td>\n",
       "      <td>-4.970734</td>\n",
       "      <td>1.790439</td>\n",
       "      <td>0.887248</td>\n",
       "      <td>0</td>\n",
       "      <td>0.800017</td>\n",
       "      <td>-0.223123</td>\n",
       "    </tr>\n",
       "    <tr>\n",
       "      <th>3</th>\n",
       "      <td>-4.491601</td>\n",
       "      <td>1.707435</td>\n",
       "      <td>2.870371</td>\n",
       "      <td>0.709239</td>\n",
       "      <td>Light</td>\n",
       "      <td>0.543669</td>\n",
       "      <td>1.781051</td>\n",
       "      <td>temp</td>\n",
       "      <td>22.0</td>\n",
       "      <td>0.0</td>\n",
       "      <td>3</td>\n",
       "      <td>1.553569</td>\n",
       "      <td>-6.129899</td>\n",
       "      <td>1.812575</td>\n",
       "      <td>0.090534</td>\n",
       "      <td>0</td>\n",
       "      <td>0.547223</td>\n",
       "      <td>-0.602899</td>\n",
       "    </tr>\n",
       "    <tr>\n",
       "      <th>4</th>\n",
       "      <td>-4.491601</td>\n",
       "      <td>1.707435</td>\n",
       "      <td>2.870371</td>\n",
       "      <td>0.709239</td>\n",
       "      <td>Light</td>\n",
       "      <td>0.543669</td>\n",
       "      <td>1.781051</td>\n",
       "      <td>temp</td>\n",
       "      <td>23.0</td>\n",
       "      <td>0.0</td>\n",
       "      <td>4</td>\n",
       "      <td>0.967550</td>\n",
       "      <td>-6.637356</td>\n",
       "      <td>1.681652</td>\n",
       "      <td>-0.499579</td>\n",
       "      <td>0</td>\n",
       "      <td>0.340806</td>\n",
       "      <td>-1.076443</td>\n",
       "    </tr>\n",
       "    <tr>\n",
       "      <th>5</th>\n",
       "      <td>-4.491601</td>\n",
       "      <td>1.707435</td>\n",
       "      <td>2.870371</td>\n",
       "      <td>0.709239</td>\n",
       "      <td>Light</td>\n",
       "      <td>0.543669</td>\n",
       "      <td>1.781051</td>\n",
       "      <td>temp</td>\n",
       "      <td>0.0</td>\n",
       "      <td>0.0</td>\n",
       "      <td>5</td>\n",
       "      <td>0.507204</td>\n",
       "      <td>-6.671156</td>\n",
       "      <td>1.468015</td>\n",
       "      <td>-0.916005</td>\n",
       "      <td>0</td>\n",
       "      <td>0.178656</td>\n",
       "      <td>-1.722295</td>\n",
       "    </tr>\n",
       "    <tr>\n",
       "      <th>6</th>\n",
       "      <td>-4.491601</td>\n",
       "      <td>1.707435</td>\n",
       "      <td>2.870371</td>\n",
       "      <td>0.709239</td>\n",
       "      <td>Light</td>\n",
       "      <td>0.543669</td>\n",
       "      <td>1.781051</td>\n",
       "      <td>temp</td>\n",
       "      <td>1.0</td>\n",
       "      <td>0.0</td>\n",
       "      <td>6</td>\n",
       "      <td>0.149050</td>\n",
       "      <td>-6.510084</td>\n",
       "      <td>1.219455</td>\n",
       "      <td>-1.181518</td>\n",
       "      <td>0</td>\n",
       "      <td>0.052501</td>\n",
       "      <td>-2.946925</td>\n",
       "    </tr>\n",
       "    <tr>\n",
       "      <th>7</th>\n",
       "      <td>-4.491601</td>\n",
       "      <td>1.707435</td>\n",
       "      <td>2.870371</td>\n",
       "      <td>0.709239</td>\n",
       "      <td>Light</td>\n",
       "      <td>0.543669</td>\n",
       "      <td>1.781051</td>\n",
       "      <td>temp</td>\n",
       "      <td>2.0</td>\n",
       "      <td>0.0</td>\n",
       "      <td>7</td>\n",
       "      <td>-0.129394</td>\n",
       "      <td>-6.659921</td>\n",
       "      <td>0.975009</td>\n",
       "      <td>-1.364610</td>\n",
       "      <td>0</td>\n",
       "      <td>-0.045577</td>\n",
       "      <td>NaN</td>\n",
       "    </tr>\n",
       "    <tr>\n",
       "      <th>8</th>\n",
       "      <td>-4.491601</td>\n",
       "      <td>1.707435</td>\n",
       "      <td>2.870371</td>\n",
       "      <td>0.709239</td>\n",
       "      <td>Light</td>\n",
       "      <td>0.543669</td>\n",
       "      <td>1.781051</td>\n",
       "      <td>temp</td>\n",
       "      <td>3.0</td>\n",
       "      <td>0.0</td>\n",
       "      <td>8</td>\n",
       "      <td>-0.355929</td>\n",
       "      <td>-6.816533</td>\n",
       "      <td>0.765494</td>\n",
       "      <td>-1.565709</td>\n",
       "      <td>0</td>\n",
       "      <td>-0.125371</td>\n",
       "      <td>NaN</td>\n",
       "    </tr>\n",
       "    <tr>\n",
       "      <th>9</th>\n",
       "      <td>-4.491601</td>\n",
       "      <td>1.707435</td>\n",
       "      <td>2.870371</td>\n",
       "      <td>0.709239</td>\n",
       "      <td>Light</td>\n",
       "      <td>0.543669</td>\n",
       "      <td>1.781051</td>\n",
       "      <td>temp</td>\n",
       "      <td>20.0</td>\n",
       "      <td>0.0</td>\n",
       "      <td>9</td>\n",
       "      <td>2.948770</td>\n",
       "      <td>1.719233</td>\n",
       "      <td>1.330925</td>\n",
       "      <td>2.594258</td>\n",
       "      <td>0</td>\n",
       "      <td>1.038663</td>\n",
       "      <td>0.037934</td>\n",
       "    </tr>\n",
       "    <tr>\n",
       "      <th>10</th>\n",
       "      <td>-4.491601</td>\n",
       "      <td>1.707435</td>\n",
       "      <td>2.870371</td>\n",
       "      <td>0.709239</td>\n",
       "      <td>Light</td>\n",
       "      <td>0.543669</td>\n",
       "      <td>1.781051</td>\n",
       "      <td>temp</td>\n",
       "      <td>21.0</td>\n",
       "      <td>0.0</td>\n",
       "      <td>10</td>\n",
       "      <td>2.358754</td>\n",
       "      <td>-2.731971</td>\n",
       "      <td>1.575327</td>\n",
       "      <td>1.789902</td>\n",
       "      <td>0</td>\n",
       "      <td>0.830838</td>\n",
       "      <td>-0.185320</td>\n",
       "    </tr>\n",
       "    <tr>\n",
       "      <th>11</th>\n",
       "      <td>-4.491601</td>\n",
       "      <td>1.707435</td>\n",
       "      <td>2.870371</td>\n",
       "      <td>0.709239</td>\n",
       "      <td>Light</td>\n",
       "      <td>0.543669</td>\n",
       "      <td>1.781051</td>\n",
       "      <td>temp</td>\n",
       "      <td>22.0</td>\n",
       "      <td>0.0</td>\n",
       "      <td>11</td>\n",
       "      <td>1.719988</td>\n",
       "      <td>-4.210150</td>\n",
       "      <td>1.713735</td>\n",
       "      <td>0.854150</td>\n",
       "      <td>0</td>\n",
       "      <td>0.605842</td>\n",
       "      <td>-0.501137</td>\n",
       "    </tr>\n",
       "    <tr>\n",
       "      <th>12</th>\n",
       "      <td>-4.491601</td>\n",
       "      <td>1.707435</td>\n",
       "      <td>2.870371</td>\n",
       "      <td>0.709239</td>\n",
       "      <td>Light</td>\n",
       "      <td>0.543669</td>\n",
       "      <td>1.781051</td>\n",
       "      <td>temp</td>\n",
       "      <td>23.0</td>\n",
       "      <td>0.0</td>\n",
       "      <td>12</td>\n",
       "      <td>1.163852</td>\n",
       "      <td>-5.126798</td>\n",
       "      <td>1.667693</td>\n",
       "      <td>0.167263</td>\n",
       "      <td>0</td>\n",
       "      <td>0.409950</td>\n",
       "      <td>-0.891719</td>\n",
       "    </tr>\n",
       "    <tr>\n",
       "      <th>13</th>\n",
       "      <td>-4.491601</td>\n",
       "      <td>1.707435</td>\n",
       "      <td>2.870371</td>\n",
       "      <td>0.709239</td>\n",
       "      <td>Light</td>\n",
       "      <td>0.543669</td>\n",
       "      <td>1.781051</td>\n",
       "      <td>temp</td>\n",
       "      <td>0.0</td>\n",
       "      <td>0.0</td>\n",
       "      <td>13</td>\n",
       "      <td>0.715362</td>\n",
       "      <td>-5.894149</td>\n",
       "      <td>1.518841</td>\n",
       "      <td>-0.358210</td>\n",
       "      <td>0</td>\n",
       "      <td>0.251976</td>\n",
       "      <td>-1.378421</td>\n",
       "    </tr>\n",
       "    <tr>\n",
       "      <th>14</th>\n",
       "      <td>-4.491601</td>\n",
       "      <td>1.707435</td>\n",
       "      <td>2.870371</td>\n",
       "      <td>0.709239</td>\n",
       "      <td>Light</td>\n",
       "      <td>0.543669</td>\n",
       "      <td>1.781051</td>\n",
       "      <td>temp</td>\n",
       "      <td>1.0</td>\n",
       "      <td>0.0</td>\n",
       "      <td>14</td>\n",
       "      <td>0.349125</td>\n",
       "      <td>-6.172479</td>\n",
       "      <td>1.325946</td>\n",
       "      <td>-0.774848</td>\n",
       "      <td>0</td>\n",
       "      <td>0.122974</td>\n",
       "      <td>-2.095779</td>\n",
       "    </tr>\n",
       "    <tr>\n",
       "      <th>15</th>\n",
       "      <td>-4.491601</td>\n",
       "      <td>1.707435</td>\n",
       "      <td>2.870371</td>\n",
       "      <td>0.709239</td>\n",
       "      <td>Light</td>\n",
       "      <td>0.543669</td>\n",
       "      <td>1.781051</td>\n",
       "      <td>temp</td>\n",
       "      <td>2.0</td>\n",
       "      <td>0.0</td>\n",
       "      <td>15</td>\n",
       "      <td>0.050751</td>\n",
       "      <td>-6.089816</td>\n",
       "      <td>1.109729</td>\n",
       "      <td>-1.064245</td>\n",
       "      <td>0</td>\n",
       "      <td>0.017876</td>\n",
       "      <td>-4.024278</td>\n",
       "    </tr>\n",
       "    <tr>\n",
       "      <th>16</th>\n",
       "      <td>-4.491601</td>\n",
       "      <td>1.707435</td>\n",
       "      <td>2.870371</td>\n",
       "      <td>0.709239</td>\n",
       "      <td>Light</td>\n",
       "      <td>0.543669</td>\n",
       "      <td>1.781051</td>\n",
       "      <td>temp</td>\n",
       "      <td>3.0</td>\n",
       "      <td>0.0</td>\n",
       "      <td>16</td>\n",
       "      <td>-0.190151</td>\n",
       "      <td>-6.415371</td>\n",
       "      <td>0.897856</td>\n",
       "      <td>-1.283024</td>\n",
       "      <td>0</td>\n",
       "      <td>-0.066978</td>\n",
       "      <td>NaN</td>\n",
       "    </tr>\n",
       "    <tr>\n",
       "      <th>17</th>\n",
       "      <td>-4.491601</td>\n",
       "      <td>1.707435</td>\n",
       "      <td>2.870371</td>\n",
       "      <td>0.709239</td>\n",
       "      <td>Light</td>\n",
       "      <td>0.543669</td>\n",
       "      <td>1.781051</td>\n",
       "      <td>temp</td>\n",
       "      <td>4.0</td>\n",
       "      <td>0.0</td>\n",
       "      <td>17</td>\n",
       "      <td>-0.392790</td>\n",
       "      <td>-5.842839</td>\n",
       "      <td>0.701230</td>\n",
       "      <td>-1.447508</td>\n",
       "      <td>0</td>\n",
       "      <td>-0.138355</td>\n",
       "      <td>NaN</td>\n",
       "    </tr>\n",
       "    <tr>\n",
       "      <th>18</th>\n",
       "      <td>-4.491601</td>\n",
       "      <td>1.707435</td>\n",
       "      <td>2.870371</td>\n",
       "      <td>0.709239</td>\n",
       "      <td>Light</td>\n",
       "      <td>0.543669</td>\n",
       "      <td>1.781051</td>\n",
       "      <td>temp</td>\n",
       "      <td>5.0</td>\n",
       "      <td>0.0</td>\n",
       "      <td>18</td>\n",
       "      <td>-0.550696</td>\n",
       "      <td>-5.987315</td>\n",
       "      <td>0.511375</td>\n",
       "      <td>-1.522353</td>\n",
       "      <td>0</td>\n",
       "      <td>-0.193975</td>\n",
       "      <td>NaN</td>\n",
       "    </tr>\n",
       "    <tr>\n",
       "      <th>19</th>\n",
       "      <td>-4.491601</td>\n",
       "      <td>1.707435</td>\n",
       "      <td>2.870371</td>\n",
       "      <td>0.709239</td>\n",
       "      <td>Light</td>\n",
       "      <td>0.543669</td>\n",
       "      <td>1.781051</td>\n",
       "      <td>temp</td>\n",
       "      <td>6.0</td>\n",
       "      <td>0.0</td>\n",
       "      <td>19</td>\n",
       "      <td>-0.681425</td>\n",
       "      <td>-6.789120</td>\n",
       "      <td>0.368608</td>\n",
       "      <td>-1.682480</td>\n",
       "      <td>0</td>\n",
       "      <td>-0.240022</td>\n",
       "      <td>NaN</td>\n",
       "    </tr>\n",
       "  </tbody>\n",
       "</table>\n",
       "</div>"
      ],
      "text/plain": [
       "    floorTempAdjustment  hInterior  hExterior  alphaRoof material_type  \\\n",
       "0             -4.491601   1.707435   2.870371   0.709239         Light   \n",
       "1             -4.491601   1.707435   2.870371   0.709239         Light   \n",
       "2             -4.491601   1.707435   2.870371   0.709239         Light   \n",
       "3             -4.491601   1.707435   2.870371   0.709239         Light   \n",
       "4             -4.491601   1.707435   2.870371   0.709239         Light   \n",
       "5             -4.491601   1.707435   2.870371   0.709239         Light   \n",
       "6             -4.491601   1.707435   2.870371   0.709239         Light   \n",
       "7             -4.491601   1.707435   2.870371   0.709239         Light   \n",
       "8             -4.491601   1.707435   2.870371   0.709239         Light   \n",
       "9             -4.491601   1.707435   2.870371   0.709239         Light   \n",
       "10            -4.491601   1.707435   2.870371   0.709239         Light   \n",
       "11            -4.491601   1.707435   2.870371   0.709239         Light   \n",
       "12            -4.491601   1.707435   2.870371   0.709239         Light   \n",
       "13            -4.491601   1.707435   2.870371   0.709239         Light   \n",
       "14            -4.491601   1.707435   2.870371   0.709239         Light   \n",
       "15            -4.491601   1.707435   2.870371   0.709239         Light   \n",
       "16            -4.491601   1.707435   2.870371   0.709239         Light   \n",
       "17            -4.491601   1.707435   2.870371   0.709239         Light   \n",
       "18            -4.491601   1.707435   2.870371   0.709239         Light   \n",
       "19            -4.491601   1.707435   2.870371   0.709239         Light   \n",
       "\n",
       "    windSpeed  wallRoughness group  hVent  dVent nVent  ceilingMinusFloor  \\\n",
       "0    0.543669       1.781051  temp   19.0    0.0     0           3.637248   \n",
       "1    0.543669       1.781051  temp   20.0    0.0     1           3.028435   \n",
       "2    0.543669       1.781051  temp   21.0    0.0     2           2.271252   \n",
       "3    0.543669       1.781051  temp   22.0    0.0     3           1.553569   \n",
       "4    0.543669       1.781051  temp   23.0    0.0     4           0.967550   \n",
       "5    0.543669       1.781051  temp    0.0    0.0     5           0.507204   \n",
       "6    0.543669       1.781051  temp    1.0    0.0     6           0.149050   \n",
       "7    0.543669       1.781051  temp    2.0    0.0     7          -0.129394   \n",
       "8    0.543669       1.781051  temp    3.0    0.0     8          -0.355929   \n",
       "9    0.543669       1.781051  temp   20.0    0.0     9           2.948770   \n",
       "10   0.543669       1.781051  temp   21.0    0.0    10           2.358754   \n",
       "11   0.543669       1.781051  temp   22.0    0.0    11           1.719988   \n",
       "12   0.543669       1.781051  temp   23.0    0.0    12           1.163852   \n",
       "13   0.543669       1.781051  temp    0.0    0.0    13           0.715362   \n",
       "14   0.543669       1.781051  temp    1.0    0.0    14           0.349125   \n",
       "15   0.543669       1.781051  temp    2.0    0.0    15           0.050751   \n",
       "16   0.543669       1.781051  temp    3.0    0.0    16          -0.190151   \n",
       "17   0.543669       1.781051  temp    4.0    0.0    17          -0.392790   \n",
       "18   0.543669       1.781051  temp    5.0    0.0    18          -0.550696   \n",
       "19   0.543669       1.781051  temp    6.0    0.0    19          -0.681425   \n",
       "\n",
       "    outMinusFloor  intWallMinusFloor  extWallMinusFloor  run        Ri  \\\n",
       "0        1.811620           1.268237           2.589516    0  1.281169   \n",
       "1       -2.478429           1.577506           1.835124    0  1.066724   \n",
       "2       -4.970734           1.790439           0.887248    0  0.800017   \n",
       "3       -6.129899           1.812575           0.090534    0  0.547223   \n",
       "4       -6.637356           1.681652          -0.499579    0  0.340806   \n",
       "5       -6.671156           1.468015          -0.916005    0  0.178656   \n",
       "6       -6.510084           1.219455          -1.181518    0  0.052501   \n",
       "7       -6.659921           0.975009          -1.364610    0 -0.045577   \n",
       "8       -6.816533           0.765494          -1.565709    0 -0.125371   \n",
       "9        1.719233           1.330925           2.594258    0  1.038663   \n",
       "10      -2.731971           1.575327           1.789902    0  0.830838   \n",
       "11      -4.210150           1.713735           0.854150    0  0.605842   \n",
       "12      -5.126798           1.667693           0.167263    0  0.409950   \n",
       "13      -5.894149           1.518841          -0.358210    0  0.251976   \n",
       "14      -6.172479           1.325946          -0.774848    0  0.122974   \n",
       "15      -6.089816           1.109729          -1.064245    0  0.017876   \n",
       "16      -6.415371           0.897856          -1.283024    0 -0.066978   \n",
       "17      -5.842839           0.701230          -1.447508    0 -0.138355   \n",
       "18      -5.987315           0.511375          -1.522353    0 -0.193975   \n",
       "19      -6.789120           0.368608          -1.682480    0 -0.240022   \n",
       "\n",
       "       logRi  \n",
       "0   0.247773  \n",
       "1   0.064592  \n",
       "2  -0.223123  \n",
       "3  -0.602899  \n",
       "4  -1.076443  \n",
       "5  -1.722295  \n",
       "6  -2.946925  \n",
       "7        NaN  \n",
       "8        NaN  \n",
       "9   0.037934  \n",
       "10 -0.185320  \n",
       "11 -0.501137  \n",
       "12 -0.891719  \n",
       "13 -1.378421  \n",
       "14 -2.095779  \n",
       "15 -4.024278  \n",
       "16       NaN  \n",
       "17       NaN  \n",
       "18       NaN  \n",
       "19       NaN  "
      ]
     },
     "execution_count": 11,
     "metadata": {},
     "output_type": "execute_result"
    }
   ],
   "source": [
    "def ventRi(delT, V, H = 3):\n",
    "    g = 10\n",
    "    Tref = 288.15\n",
    "    return g * delT / Tref * H / V**2\n",
    "\n",
    "dfFull.loc[:, \"Ri\"] = ventRi(dfFull[\"ceilingMinusFloor\"], dfFull[\"windSpeed\"])\n",
    "dfFull.loc[:, \"logRi\"] = np.log(dfFull[\"Ri\"])\n",
    "dfFull"
   ]
  },
  {
   "cell_type": "code",
   "execution_count": 12,
   "metadata": {},
   "outputs": [
    {
     "data": {
      "application/vnd.plotly.v1+json": {
       "config": {
        "plotlyServerURL": "https://plot.ly"
       },
       "data": [
        {
         "alignmentgroup": "True",
         "bingroup": "x",
         "hovertemplate": "variable=outMinusFloor<br>value=%{x}<br>count=%{y}<extra></extra>",
         "legendgroup": "outMinusFloor",
         "marker": {
          "color": "#636efa",
          "pattern": {
           "shape": ""
          }
         },
         "name": "outMinusFloor",
         "offsetgroup": "outMinusFloor",
         "orientation": "v",
         "showlegend": true,
         "type": "histogram",
         "x": [
          1.8116198020231875,
          -2.478429470073081,
          -4.970733929223627,
          -6.129898980149633,
          -6.637356228521028,
          -6.671156060994122,
          -6.51008351898696,
          -6.659921451069621,
          -6.816533110850841,
          1.7192334492559669,
          -2.731970508804295,
          -4.210149535783799,
          -5.126798165441201,
          -5.894148705375045,
          -6.172478903892127,
          -6.08981556075797,
          -6.415370840158133,
          -5.842838955439319,
          -5.987314775493573,
          -6.789119784389015
         ],
         "xaxis": "x",
         "yaxis": "y"
        },
        {
         "alignmentgroup": "True",
         "hovertemplate": "variable=outMinusFloor<br>value=%{x}<extra></extra>",
         "legendgroup": "outMinusFloor",
         "marker": {
          "color": "#636efa"
         },
         "name": "outMinusFloor",
         "notched": true,
         "offsetgroup": "outMinusFloor",
         "showlegend": false,
         "type": "box",
         "x": [
          1.8116198020231875,
          -2.478429470073081,
          -4.970733929223627,
          -6.129898980149633,
          -6.637356228521028,
          -6.671156060994122,
          -6.51008351898696,
          -6.659921451069621,
          -6.816533110850841,
          1.7192334492559669,
          -2.731970508804295,
          -4.210149535783799,
          -5.126798165441201,
          -5.894148705375045,
          -6.172478903892127,
          -6.08981556075797,
          -6.415370840158133,
          -5.842838955439319,
          -5.987314775493573,
          -6.789119784389015
         ],
         "xaxis": "x2",
         "yaxis": "y2"
        },
        {
         "alignmentgroup": "True",
         "bingroup": "x",
         "hovertemplate": "variable=ceilingMinusFloor<br>value=%{x}<br>count=%{y}<extra></extra>",
         "legendgroup": "ceilingMinusFloor",
         "marker": {
          "color": "#EF553B",
          "pattern": {
           "shape": ""
          }
         },
         "name": "ceilingMinusFloor",
         "offsetgroup": "ceilingMinusFloor",
         "orientation": "v",
         "showlegend": true,
         "type": "histogram",
         "x": [
          3.637247839980162,
          3.028434730179285,
          2.2712523710998624,
          1.553569331042425,
          0.9675497261022484,
          0.5072044322537437,
          0.1490503454102452,
          -0.1293944400783147,
          -0.3559285594990058,
          2.9487704729043003,
          2.3587544877354105,
          1.719988253221885,
          1.1638516308415203,
          0.715361868813531,
          0.3491250602000377,
          0.0507510049884274,
          -0.1901511169663479,
          -0.392790201891728,
          -0.5506955600032768,
          -0.6814252101254255
         ],
         "xaxis": "x",
         "yaxis": "y"
        },
        {
         "alignmentgroup": "True",
         "hovertemplate": "variable=ceilingMinusFloor<br>value=%{x}<extra></extra>",
         "legendgroup": "ceilingMinusFloor",
         "marker": {
          "color": "#EF553B"
         },
         "name": "ceilingMinusFloor",
         "notched": true,
         "offsetgroup": "ceilingMinusFloor",
         "showlegend": false,
         "type": "box",
         "x": [
          3.637247839980162,
          3.028434730179285,
          2.2712523710998624,
          1.553569331042425,
          0.9675497261022484,
          0.5072044322537437,
          0.1490503454102452,
          -0.1293944400783147,
          -0.3559285594990058,
          2.9487704729043003,
          2.3587544877354105,
          1.719988253221885,
          1.1638516308415203,
          0.715361868813531,
          0.3491250602000377,
          0.0507510049884274,
          -0.1901511169663479,
          -0.392790201891728,
          -0.5506955600032768,
          -0.6814252101254255
         ],
         "xaxis": "x2",
         "yaxis": "y2"
        },
        {
         "alignmentgroup": "True",
         "bingroup": "x",
         "hovertemplate": "variable=extWallMinusFloor<br>value=%{x}<br>count=%{y}<extra></extra>",
         "legendgroup": "extWallMinusFloor",
         "marker": {
          "color": "#00cc96",
          "pattern": {
           "shape": ""
          }
         },
         "name": "extWallMinusFloor",
         "offsetgroup": "extWallMinusFloor",
         "orientation": "v",
         "showlegend": true,
         "type": "histogram",
         "x": [
          2.5895164709926064,
          1.835124082927308,
          0.8872479839393463,
          0.0905338631364287,
          -0.499579450385454,
          -0.9160046277651616,
          -1.181517696445198,
          -1.364610023892567,
          -1.5657086044333823,
          2.594257549954648,
          1.7899018024860425,
          0.8541504007546337,
          0.1672629369165719,
          -0.3582103519194817,
          -0.7748483491676126,
          -1.064244532746372,
          -1.2830235756536297,
          -1.447507899324748,
          -1.5223533499075188,
          -1.6824796550483825
         ],
         "xaxis": "x",
         "yaxis": "y"
        },
        {
         "alignmentgroup": "True",
         "hovertemplate": "variable=extWallMinusFloor<br>value=%{x}<extra></extra>",
         "legendgroup": "extWallMinusFloor",
         "marker": {
          "color": "#00cc96"
         },
         "name": "extWallMinusFloor",
         "notched": true,
         "offsetgroup": "extWallMinusFloor",
         "showlegend": false,
         "type": "box",
         "x": [
          2.5895164709926064,
          1.835124082927308,
          0.8872479839393463,
          0.0905338631364287,
          -0.499579450385454,
          -0.9160046277651616,
          -1.181517696445198,
          -1.364610023892567,
          -1.5657086044333823,
          2.594257549954648,
          1.7899018024860425,
          0.8541504007546337,
          0.1672629369165719,
          -0.3582103519194817,
          -0.7748483491676126,
          -1.064244532746372,
          -1.2830235756536297,
          -1.447507899324748,
          -1.5223533499075188,
          -1.6824796550483825
         ],
         "xaxis": "x2",
         "yaxis": "y2"
        },
        {
         "alignmentgroup": "True",
         "bingroup": "x",
         "hovertemplate": "variable=intWallMinusFloor<br>value=%{x}<br>count=%{y}<extra></extra>",
         "legendgroup": "intWallMinusFloor",
         "marker": {
          "color": "#ab63fa",
          "pattern": {
           "shape": ""
          }
         },
         "name": "intWallMinusFloor",
         "offsetgroup": "intWallMinusFloor",
         "orientation": "v",
         "showlegend": true,
         "type": "histogram",
         "x": [
          1.2682374711522943,
          1.57750631731714,
          1.7904386394120309,
          1.8125745878817412,
          1.6816520279888938,
          1.468014877929685,
          1.2194551672836884,
          0.9750091264191476,
          0.7654938453894099,
          1.3309251939227142,
          1.5753271528965815,
          1.7137347076826093,
          1.667692980111454,
          1.5188409868106303,
          1.3259459305329624,
          1.109729253719384,
          0.8978558372781483,
          0.7012304634746348,
          0.5113753886085419,
          0.3686078928533381
         ],
         "xaxis": "x",
         "yaxis": "y"
        },
        {
         "alignmentgroup": "True",
         "hovertemplate": "variable=intWallMinusFloor<br>value=%{x}<extra></extra>",
         "legendgroup": "intWallMinusFloor",
         "marker": {
          "color": "#ab63fa"
         },
         "name": "intWallMinusFloor",
         "notched": true,
         "offsetgroup": "intWallMinusFloor",
         "showlegend": false,
         "type": "box",
         "x": [
          1.2682374711522943,
          1.57750631731714,
          1.7904386394120309,
          1.8125745878817412,
          1.6816520279888938,
          1.468014877929685,
          1.2194551672836884,
          0.9750091264191476,
          0.7654938453894099,
          1.3309251939227142,
          1.5753271528965815,
          1.7137347076826093,
          1.667692980111454,
          1.5188409868106303,
          1.3259459305329624,
          1.109729253719384,
          0.8978558372781483,
          0.7012304634746348,
          0.5113753886085419,
          0.3686078928533381
         ],
         "xaxis": "x2",
         "yaxis": "y2"
        }
       ],
       "layout": {
        "barmode": "group",
        "legend": {
         "title": {
          "text": "variable"
         },
         "tracegroupgap": 0
        },
        "margin": {
         "t": 60
        },
        "template": {
         "data": {
          "bar": [
           {
            "error_x": {
             "color": "#2a3f5f"
            },
            "error_y": {
             "color": "#2a3f5f"
            },
            "marker": {
             "line": {
              "color": "#E5ECF6",
              "width": 0.5
             },
             "pattern": {
              "fillmode": "overlay",
              "size": 10,
              "solidity": 0.2
             }
            },
            "type": "bar"
           }
          ],
          "barpolar": [
           {
            "marker": {
             "line": {
              "color": "#E5ECF6",
              "width": 0.5
             },
             "pattern": {
              "fillmode": "overlay",
              "size": 10,
              "solidity": 0.2
             }
            },
            "type": "barpolar"
           }
          ],
          "carpet": [
           {
            "aaxis": {
             "endlinecolor": "#2a3f5f",
             "gridcolor": "white",
             "linecolor": "white",
             "minorgridcolor": "white",
             "startlinecolor": "#2a3f5f"
            },
            "baxis": {
             "endlinecolor": "#2a3f5f",
             "gridcolor": "white",
             "linecolor": "white",
             "minorgridcolor": "white",
             "startlinecolor": "#2a3f5f"
            },
            "type": "carpet"
           }
          ],
          "choropleth": [
           {
            "colorbar": {
             "outlinewidth": 0,
             "ticks": ""
            },
            "type": "choropleth"
           }
          ],
          "contour": [
           {
            "colorbar": {
             "outlinewidth": 0,
             "ticks": ""
            },
            "colorscale": [
             [
              0,
              "#0d0887"
             ],
             [
              0.1111111111111111,
              "#46039f"
             ],
             [
              0.2222222222222222,
              "#7201a8"
             ],
             [
              0.3333333333333333,
              "#9c179e"
             ],
             [
              0.4444444444444444,
              "#bd3786"
             ],
             [
              0.5555555555555556,
              "#d8576b"
             ],
             [
              0.6666666666666666,
              "#ed7953"
             ],
             [
              0.7777777777777778,
              "#fb9f3a"
             ],
             [
              0.8888888888888888,
              "#fdca26"
             ],
             [
              1,
              "#f0f921"
             ]
            ],
            "type": "contour"
           }
          ],
          "contourcarpet": [
           {
            "colorbar": {
             "outlinewidth": 0,
             "ticks": ""
            },
            "type": "contourcarpet"
           }
          ],
          "heatmap": [
           {
            "colorbar": {
             "outlinewidth": 0,
             "ticks": ""
            },
            "colorscale": [
             [
              0,
              "#0d0887"
             ],
             [
              0.1111111111111111,
              "#46039f"
             ],
             [
              0.2222222222222222,
              "#7201a8"
             ],
             [
              0.3333333333333333,
              "#9c179e"
             ],
             [
              0.4444444444444444,
              "#bd3786"
             ],
             [
              0.5555555555555556,
              "#d8576b"
             ],
             [
              0.6666666666666666,
              "#ed7953"
             ],
             [
              0.7777777777777778,
              "#fb9f3a"
             ],
             [
              0.8888888888888888,
              "#fdca26"
             ],
             [
              1,
              "#f0f921"
             ]
            ],
            "type": "heatmap"
           }
          ],
          "heatmapgl": [
           {
            "colorbar": {
             "outlinewidth": 0,
             "ticks": ""
            },
            "colorscale": [
             [
              0,
              "#0d0887"
             ],
             [
              0.1111111111111111,
              "#46039f"
             ],
             [
              0.2222222222222222,
              "#7201a8"
             ],
             [
              0.3333333333333333,
              "#9c179e"
             ],
             [
              0.4444444444444444,
              "#bd3786"
             ],
             [
              0.5555555555555556,
              "#d8576b"
             ],
             [
              0.6666666666666666,
              "#ed7953"
             ],
             [
              0.7777777777777778,
              "#fb9f3a"
             ],
             [
              0.8888888888888888,
              "#fdca26"
             ],
             [
              1,
              "#f0f921"
             ]
            ],
            "type": "heatmapgl"
           }
          ],
          "histogram": [
           {
            "marker": {
             "pattern": {
              "fillmode": "overlay",
              "size": 10,
              "solidity": 0.2
             }
            },
            "type": "histogram"
           }
          ],
          "histogram2d": [
           {
            "colorbar": {
             "outlinewidth": 0,
             "ticks": ""
            },
            "colorscale": [
             [
              0,
              "#0d0887"
             ],
             [
              0.1111111111111111,
              "#46039f"
             ],
             [
              0.2222222222222222,
              "#7201a8"
             ],
             [
              0.3333333333333333,
              "#9c179e"
             ],
             [
              0.4444444444444444,
              "#bd3786"
             ],
             [
              0.5555555555555556,
              "#d8576b"
             ],
             [
              0.6666666666666666,
              "#ed7953"
             ],
             [
              0.7777777777777778,
              "#fb9f3a"
             ],
             [
              0.8888888888888888,
              "#fdca26"
             ],
             [
              1,
              "#f0f921"
             ]
            ],
            "type": "histogram2d"
           }
          ],
          "histogram2dcontour": [
           {
            "colorbar": {
             "outlinewidth": 0,
             "ticks": ""
            },
            "colorscale": [
             [
              0,
              "#0d0887"
             ],
             [
              0.1111111111111111,
              "#46039f"
             ],
             [
              0.2222222222222222,
              "#7201a8"
             ],
             [
              0.3333333333333333,
              "#9c179e"
             ],
             [
              0.4444444444444444,
              "#bd3786"
             ],
             [
              0.5555555555555556,
              "#d8576b"
             ],
             [
              0.6666666666666666,
              "#ed7953"
             ],
             [
              0.7777777777777778,
              "#fb9f3a"
             ],
             [
              0.8888888888888888,
              "#fdca26"
             ],
             [
              1,
              "#f0f921"
             ]
            ],
            "type": "histogram2dcontour"
           }
          ],
          "mesh3d": [
           {
            "colorbar": {
             "outlinewidth": 0,
             "ticks": ""
            },
            "type": "mesh3d"
           }
          ],
          "parcoords": [
           {
            "line": {
             "colorbar": {
              "outlinewidth": 0,
              "ticks": ""
             }
            },
            "type": "parcoords"
           }
          ],
          "pie": [
           {
            "automargin": true,
            "type": "pie"
           }
          ],
          "scatter": [
           {
            "fillpattern": {
             "fillmode": "overlay",
             "size": 10,
             "solidity": 0.2
            },
            "type": "scatter"
           }
          ],
          "scatter3d": [
           {
            "line": {
             "colorbar": {
              "outlinewidth": 0,
              "ticks": ""
             }
            },
            "marker": {
             "colorbar": {
              "outlinewidth": 0,
              "ticks": ""
             }
            },
            "type": "scatter3d"
           }
          ],
          "scattercarpet": [
           {
            "marker": {
             "colorbar": {
              "outlinewidth": 0,
              "ticks": ""
             }
            },
            "type": "scattercarpet"
           }
          ],
          "scattergeo": [
           {
            "marker": {
             "colorbar": {
              "outlinewidth": 0,
              "ticks": ""
             }
            },
            "type": "scattergeo"
           }
          ],
          "scattergl": [
           {
            "marker": {
             "colorbar": {
              "outlinewidth": 0,
              "ticks": ""
             }
            },
            "type": "scattergl"
           }
          ],
          "scattermapbox": [
           {
            "marker": {
             "colorbar": {
              "outlinewidth": 0,
              "ticks": ""
             }
            },
            "type": "scattermapbox"
           }
          ],
          "scatterpolar": [
           {
            "marker": {
             "colorbar": {
              "outlinewidth": 0,
              "ticks": ""
             }
            },
            "type": "scatterpolar"
           }
          ],
          "scatterpolargl": [
           {
            "marker": {
             "colorbar": {
              "outlinewidth": 0,
              "ticks": ""
             }
            },
            "type": "scatterpolargl"
           }
          ],
          "scatterternary": [
           {
            "marker": {
             "colorbar": {
              "outlinewidth": 0,
              "ticks": ""
             }
            },
            "type": "scatterternary"
           }
          ],
          "surface": [
           {
            "colorbar": {
             "outlinewidth": 0,
             "ticks": ""
            },
            "colorscale": [
             [
              0,
              "#0d0887"
             ],
             [
              0.1111111111111111,
              "#46039f"
             ],
             [
              0.2222222222222222,
              "#7201a8"
             ],
             [
              0.3333333333333333,
              "#9c179e"
             ],
             [
              0.4444444444444444,
              "#bd3786"
             ],
             [
              0.5555555555555556,
              "#d8576b"
             ],
             [
              0.6666666666666666,
              "#ed7953"
             ],
             [
              0.7777777777777778,
              "#fb9f3a"
             ],
             [
              0.8888888888888888,
              "#fdca26"
             ],
             [
              1,
              "#f0f921"
             ]
            ],
            "type": "surface"
           }
          ],
          "table": [
           {
            "cells": {
             "fill": {
              "color": "#EBF0F8"
             },
             "line": {
              "color": "white"
             }
            },
            "header": {
             "fill": {
              "color": "#C8D4E3"
             },
             "line": {
              "color": "white"
             }
            },
            "type": "table"
           }
          ]
         },
         "layout": {
          "annotationdefaults": {
           "arrowcolor": "#2a3f5f",
           "arrowhead": 0,
           "arrowwidth": 1
          },
          "autotypenumbers": "strict",
          "coloraxis": {
           "colorbar": {
            "outlinewidth": 0,
            "ticks": ""
           }
          },
          "colorscale": {
           "diverging": [
            [
             0,
             "#8e0152"
            ],
            [
             0.1,
             "#c51b7d"
            ],
            [
             0.2,
             "#de77ae"
            ],
            [
             0.3,
             "#f1b6da"
            ],
            [
             0.4,
             "#fde0ef"
            ],
            [
             0.5,
             "#f7f7f7"
            ],
            [
             0.6,
             "#e6f5d0"
            ],
            [
             0.7,
             "#b8e186"
            ],
            [
             0.8,
             "#7fbc41"
            ],
            [
             0.9,
             "#4d9221"
            ],
            [
             1,
             "#276419"
            ]
           ],
           "sequential": [
            [
             0,
             "#0d0887"
            ],
            [
             0.1111111111111111,
             "#46039f"
            ],
            [
             0.2222222222222222,
             "#7201a8"
            ],
            [
             0.3333333333333333,
             "#9c179e"
            ],
            [
             0.4444444444444444,
             "#bd3786"
            ],
            [
             0.5555555555555556,
             "#d8576b"
            ],
            [
             0.6666666666666666,
             "#ed7953"
            ],
            [
             0.7777777777777778,
             "#fb9f3a"
            ],
            [
             0.8888888888888888,
             "#fdca26"
            ],
            [
             1,
             "#f0f921"
            ]
           ],
           "sequentialminus": [
            [
             0,
             "#0d0887"
            ],
            [
             0.1111111111111111,
             "#46039f"
            ],
            [
             0.2222222222222222,
             "#7201a8"
            ],
            [
             0.3333333333333333,
             "#9c179e"
            ],
            [
             0.4444444444444444,
             "#bd3786"
            ],
            [
             0.5555555555555556,
             "#d8576b"
            ],
            [
             0.6666666666666666,
             "#ed7953"
            ],
            [
             0.7777777777777778,
             "#fb9f3a"
            ],
            [
             0.8888888888888888,
             "#fdca26"
            ],
            [
             1,
             "#f0f921"
            ]
           ]
          },
          "colorway": [
           "#636efa",
           "#EF553B",
           "#00cc96",
           "#ab63fa",
           "#FFA15A",
           "#19d3f3",
           "#FF6692",
           "#B6E880",
           "#FF97FF",
           "#FECB52"
          ],
          "font": {
           "color": "#2a3f5f"
          },
          "geo": {
           "bgcolor": "white",
           "lakecolor": "white",
           "landcolor": "#E5ECF6",
           "showlakes": true,
           "showland": true,
           "subunitcolor": "white"
          },
          "hoverlabel": {
           "align": "left"
          },
          "hovermode": "closest",
          "mapbox": {
           "style": "light"
          },
          "paper_bgcolor": "white",
          "plot_bgcolor": "#E5ECF6",
          "polar": {
           "angularaxis": {
            "gridcolor": "white",
            "linecolor": "white",
            "ticks": ""
           },
           "bgcolor": "#E5ECF6",
           "radialaxis": {
            "gridcolor": "white",
            "linecolor": "white",
            "ticks": ""
           }
          },
          "scene": {
           "xaxis": {
            "backgroundcolor": "#E5ECF6",
            "gridcolor": "white",
            "gridwidth": 2,
            "linecolor": "white",
            "showbackground": true,
            "ticks": "",
            "zerolinecolor": "white"
           },
           "yaxis": {
            "backgroundcolor": "#E5ECF6",
            "gridcolor": "white",
            "gridwidth": 2,
            "linecolor": "white",
            "showbackground": true,
            "ticks": "",
            "zerolinecolor": "white"
           },
           "zaxis": {
            "backgroundcolor": "#E5ECF6",
            "gridcolor": "white",
            "gridwidth": 2,
            "linecolor": "white",
            "showbackground": true,
            "ticks": "",
            "zerolinecolor": "white"
           }
          },
          "shapedefaults": {
           "line": {
            "color": "#2a3f5f"
           }
          },
          "ternary": {
           "aaxis": {
            "gridcolor": "white",
            "linecolor": "white",
            "ticks": ""
           },
           "baxis": {
            "gridcolor": "white",
            "linecolor": "white",
            "ticks": ""
           },
           "bgcolor": "#E5ECF6",
           "caxis": {
            "gridcolor": "white",
            "linecolor": "white",
            "ticks": ""
           }
          },
          "title": {
           "x": 0.05
          },
          "xaxis": {
           "automargin": true,
           "gridcolor": "white",
           "linecolor": "white",
           "ticks": "",
           "title": {
            "standoff": 15
           },
           "zerolinecolor": "white",
           "zerolinewidth": 2
          },
          "yaxis": {
           "automargin": true,
           "gridcolor": "white",
           "linecolor": "white",
           "ticks": "",
           "title": {
            "standoff": 15
           },
           "zerolinecolor": "white",
           "zerolinewidth": 2
          }
         }
        },
        "xaxis": {
         "anchor": "y",
         "domain": [
          0,
          1
         ],
         "title": {
          "text": "value"
         }
        },
        "xaxis2": {
         "anchor": "y2",
         "domain": [
          0,
          1
         ],
         "matches": "x",
         "showgrid": true,
         "showticklabels": false
        },
        "yaxis": {
         "anchor": "x",
         "domain": [
          0,
          0.7326
         ],
         "title": {
          "text": "count"
         }
        },
        "yaxis2": {
         "anchor": "x2",
         "domain": [
          0.7426,
          1
         ],
         "matches": "y2",
         "showgrid": false,
         "showline": false,
         "showticklabels": false,
         "ticks": ""
        }
       }
      }
     },
     "metadata": {},
     "output_type": "display_data"
    },
    {
     "data": {
      "application/vnd.plotly.v1+json": {
       "config": {
        "plotlyServerURL": "https://plot.ly"
       },
       "data": [
        {
         "hovertemplate": "variable=outMinusFloor<br>index=%{x}<br>value=%{y}<extra></extra>",
         "legendgroup": "outMinusFloor",
         "line": {
          "color": "#636efa",
          "dash": "solid"
         },
         "marker": {
          "symbol": "circle"
         },
         "mode": "lines",
         "name": "outMinusFloor",
         "orientation": "v",
         "showlegend": true,
         "type": "scatter",
         "x": [
          0,
          1,
          2,
          3,
          4,
          5,
          6,
          7,
          8,
          9,
          10,
          11,
          12,
          13,
          14,
          15,
          16,
          17,
          18,
          19
         ],
         "xaxis": "x",
         "y": [
          1.8116198020231875,
          -2.478429470073081,
          -4.970733929223627,
          -6.129898980149633,
          -6.637356228521028,
          -6.671156060994122,
          -6.51008351898696,
          -6.659921451069621,
          -6.816533110850841,
          1.7192334492559669,
          -2.731970508804295,
          -4.210149535783799,
          -5.126798165441201,
          -5.894148705375045,
          -6.172478903892127,
          -6.08981556075797,
          -6.415370840158133,
          -5.842838955439319,
          -5.987314775493573,
          -6.789119784389015
         ],
         "yaxis": "y"
        },
        {
         "hovertemplate": "variable=ceilingMinusFloor<br>index=%{x}<br>value=%{y}<extra></extra>",
         "legendgroup": "ceilingMinusFloor",
         "line": {
          "color": "#EF553B",
          "dash": "solid"
         },
         "marker": {
          "symbol": "circle"
         },
         "mode": "lines",
         "name": "ceilingMinusFloor",
         "orientation": "v",
         "showlegend": true,
         "type": "scatter",
         "x": [
          0,
          1,
          2,
          3,
          4,
          5,
          6,
          7,
          8,
          9,
          10,
          11,
          12,
          13,
          14,
          15,
          16,
          17,
          18,
          19
         ],
         "xaxis": "x",
         "y": [
          3.637247839980162,
          3.028434730179285,
          2.2712523710998624,
          1.553569331042425,
          0.9675497261022484,
          0.5072044322537437,
          0.1490503454102452,
          -0.1293944400783147,
          -0.3559285594990058,
          2.9487704729043003,
          2.3587544877354105,
          1.719988253221885,
          1.1638516308415203,
          0.715361868813531,
          0.3491250602000377,
          0.0507510049884274,
          -0.1901511169663479,
          -0.392790201891728,
          -0.5506955600032768,
          -0.6814252101254255
         ],
         "yaxis": "y"
        },
        {
         "hovertemplate": "variable=extWallMinusFloor<br>index=%{x}<br>value=%{y}<extra></extra>",
         "legendgroup": "extWallMinusFloor",
         "line": {
          "color": "#00cc96",
          "dash": "solid"
         },
         "marker": {
          "symbol": "circle"
         },
         "mode": "lines",
         "name": "extWallMinusFloor",
         "orientation": "v",
         "showlegend": true,
         "type": "scatter",
         "x": [
          0,
          1,
          2,
          3,
          4,
          5,
          6,
          7,
          8,
          9,
          10,
          11,
          12,
          13,
          14,
          15,
          16,
          17,
          18,
          19
         ],
         "xaxis": "x",
         "y": [
          2.5895164709926064,
          1.835124082927308,
          0.8872479839393463,
          0.0905338631364287,
          -0.499579450385454,
          -0.9160046277651616,
          -1.181517696445198,
          -1.364610023892567,
          -1.5657086044333823,
          2.594257549954648,
          1.7899018024860425,
          0.8541504007546337,
          0.1672629369165719,
          -0.3582103519194817,
          -0.7748483491676126,
          -1.064244532746372,
          -1.2830235756536297,
          -1.447507899324748,
          -1.5223533499075188,
          -1.6824796550483825
         ],
         "yaxis": "y"
        },
        {
         "hovertemplate": "variable=intWallMinusFloor<br>index=%{x}<br>value=%{y}<extra></extra>",
         "legendgroup": "intWallMinusFloor",
         "line": {
          "color": "#ab63fa",
          "dash": "solid"
         },
         "marker": {
          "symbol": "circle"
         },
         "mode": "lines",
         "name": "intWallMinusFloor",
         "orientation": "v",
         "showlegend": true,
         "type": "scatter",
         "x": [
          0,
          1,
          2,
          3,
          4,
          5,
          6,
          7,
          8,
          9,
          10,
          11,
          12,
          13,
          14,
          15,
          16,
          17,
          18,
          19
         ],
         "xaxis": "x",
         "y": [
          1.2682374711522943,
          1.57750631731714,
          1.7904386394120309,
          1.8125745878817412,
          1.6816520279888938,
          1.468014877929685,
          1.2194551672836884,
          0.9750091264191476,
          0.7654938453894099,
          1.3309251939227142,
          1.5753271528965815,
          1.7137347076826093,
          1.667692980111454,
          1.5188409868106303,
          1.3259459305329624,
          1.109729253719384,
          0.8978558372781483,
          0.7012304634746348,
          0.5113753886085419,
          0.3686078928533381
         ],
         "yaxis": "y"
        }
       ],
       "layout": {
        "legend": {
         "title": {
          "text": "variable"
         },
         "tracegroupgap": 0
        },
        "margin": {
         "t": 60
        },
        "template": {
         "data": {
          "bar": [
           {
            "error_x": {
             "color": "#2a3f5f"
            },
            "error_y": {
             "color": "#2a3f5f"
            },
            "marker": {
             "line": {
              "color": "#E5ECF6",
              "width": 0.5
             },
             "pattern": {
              "fillmode": "overlay",
              "size": 10,
              "solidity": 0.2
             }
            },
            "type": "bar"
           }
          ],
          "barpolar": [
           {
            "marker": {
             "line": {
              "color": "#E5ECF6",
              "width": 0.5
             },
             "pattern": {
              "fillmode": "overlay",
              "size": 10,
              "solidity": 0.2
             }
            },
            "type": "barpolar"
           }
          ],
          "carpet": [
           {
            "aaxis": {
             "endlinecolor": "#2a3f5f",
             "gridcolor": "white",
             "linecolor": "white",
             "minorgridcolor": "white",
             "startlinecolor": "#2a3f5f"
            },
            "baxis": {
             "endlinecolor": "#2a3f5f",
             "gridcolor": "white",
             "linecolor": "white",
             "minorgridcolor": "white",
             "startlinecolor": "#2a3f5f"
            },
            "type": "carpet"
           }
          ],
          "choropleth": [
           {
            "colorbar": {
             "outlinewidth": 0,
             "ticks": ""
            },
            "type": "choropleth"
           }
          ],
          "contour": [
           {
            "colorbar": {
             "outlinewidth": 0,
             "ticks": ""
            },
            "colorscale": [
             [
              0,
              "#0d0887"
             ],
             [
              0.1111111111111111,
              "#46039f"
             ],
             [
              0.2222222222222222,
              "#7201a8"
             ],
             [
              0.3333333333333333,
              "#9c179e"
             ],
             [
              0.4444444444444444,
              "#bd3786"
             ],
             [
              0.5555555555555556,
              "#d8576b"
             ],
             [
              0.6666666666666666,
              "#ed7953"
             ],
             [
              0.7777777777777778,
              "#fb9f3a"
             ],
             [
              0.8888888888888888,
              "#fdca26"
             ],
             [
              1,
              "#f0f921"
             ]
            ],
            "type": "contour"
           }
          ],
          "contourcarpet": [
           {
            "colorbar": {
             "outlinewidth": 0,
             "ticks": ""
            },
            "type": "contourcarpet"
           }
          ],
          "heatmap": [
           {
            "colorbar": {
             "outlinewidth": 0,
             "ticks": ""
            },
            "colorscale": [
             [
              0,
              "#0d0887"
             ],
             [
              0.1111111111111111,
              "#46039f"
             ],
             [
              0.2222222222222222,
              "#7201a8"
             ],
             [
              0.3333333333333333,
              "#9c179e"
             ],
             [
              0.4444444444444444,
              "#bd3786"
             ],
             [
              0.5555555555555556,
              "#d8576b"
             ],
             [
              0.6666666666666666,
              "#ed7953"
             ],
             [
              0.7777777777777778,
              "#fb9f3a"
             ],
             [
              0.8888888888888888,
              "#fdca26"
             ],
             [
              1,
              "#f0f921"
             ]
            ],
            "type": "heatmap"
           }
          ],
          "heatmapgl": [
           {
            "colorbar": {
             "outlinewidth": 0,
             "ticks": ""
            },
            "colorscale": [
             [
              0,
              "#0d0887"
             ],
             [
              0.1111111111111111,
              "#46039f"
             ],
             [
              0.2222222222222222,
              "#7201a8"
             ],
             [
              0.3333333333333333,
              "#9c179e"
             ],
             [
              0.4444444444444444,
              "#bd3786"
             ],
             [
              0.5555555555555556,
              "#d8576b"
             ],
             [
              0.6666666666666666,
              "#ed7953"
             ],
             [
              0.7777777777777778,
              "#fb9f3a"
             ],
             [
              0.8888888888888888,
              "#fdca26"
             ],
             [
              1,
              "#f0f921"
             ]
            ],
            "type": "heatmapgl"
           }
          ],
          "histogram": [
           {
            "marker": {
             "pattern": {
              "fillmode": "overlay",
              "size": 10,
              "solidity": 0.2
             }
            },
            "type": "histogram"
           }
          ],
          "histogram2d": [
           {
            "colorbar": {
             "outlinewidth": 0,
             "ticks": ""
            },
            "colorscale": [
             [
              0,
              "#0d0887"
             ],
             [
              0.1111111111111111,
              "#46039f"
             ],
             [
              0.2222222222222222,
              "#7201a8"
             ],
             [
              0.3333333333333333,
              "#9c179e"
             ],
             [
              0.4444444444444444,
              "#bd3786"
             ],
             [
              0.5555555555555556,
              "#d8576b"
             ],
             [
              0.6666666666666666,
              "#ed7953"
             ],
             [
              0.7777777777777778,
              "#fb9f3a"
             ],
             [
              0.8888888888888888,
              "#fdca26"
             ],
             [
              1,
              "#f0f921"
             ]
            ],
            "type": "histogram2d"
           }
          ],
          "histogram2dcontour": [
           {
            "colorbar": {
             "outlinewidth": 0,
             "ticks": ""
            },
            "colorscale": [
             [
              0,
              "#0d0887"
             ],
             [
              0.1111111111111111,
              "#46039f"
             ],
             [
              0.2222222222222222,
              "#7201a8"
             ],
             [
              0.3333333333333333,
              "#9c179e"
             ],
             [
              0.4444444444444444,
              "#bd3786"
             ],
             [
              0.5555555555555556,
              "#d8576b"
             ],
             [
              0.6666666666666666,
              "#ed7953"
             ],
             [
              0.7777777777777778,
              "#fb9f3a"
             ],
             [
              0.8888888888888888,
              "#fdca26"
             ],
             [
              1,
              "#f0f921"
             ]
            ],
            "type": "histogram2dcontour"
           }
          ],
          "mesh3d": [
           {
            "colorbar": {
             "outlinewidth": 0,
             "ticks": ""
            },
            "type": "mesh3d"
           }
          ],
          "parcoords": [
           {
            "line": {
             "colorbar": {
              "outlinewidth": 0,
              "ticks": ""
             }
            },
            "type": "parcoords"
           }
          ],
          "pie": [
           {
            "automargin": true,
            "type": "pie"
           }
          ],
          "scatter": [
           {
            "fillpattern": {
             "fillmode": "overlay",
             "size": 10,
             "solidity": 0.2
            },
            "type": "scatter"
           }
          ],
          "scatter3d": [
           {
            "line": {
             "colorbar": {
              "outlinewidth": 0,
              "ticks": ""
             }
            },
            "marker": {
             "colorbar": {
              "outlinewidth": 0,
              "ticks": ""
             }
            },
            "type": "scatter3d"
           }
          ],
          "scattercarpet": [
           {
            "marker": {
             "colorbar": {
              "outlinewidth": 0,
              "ticks": ""
             }
            },
            "type": "scattercarpet"
           }
          ],
          "scattergeo": [
           {
            "marker": {
             "colorbar": {
              "outlinewidth": 0,
              "ticks": ""
             }
            },
            "type": "scattergeo"
           }
          ],
          "scattergl": [
           {
            "marker": {
             "colorbar": {
              "outlinewidth": 0,
              "ticks": ""
             }
            },
            "type": "scattergl"
           }
          ],
          "scattermapbox": [
           {
            "marker": {
             "colorbar": {
              "outlinewidth": 0,
              "ticks": ""
             }
            },
            "type": "scattermapbox"
           }
          ],
          "scatterpolar": [
           {
            "marker": {
             "colorbar": {
              "outlinewidth": 0,
              "ticks": ""
             }
            },
            "type": "scatterpolar"
           }
          ],
          "scatterpolargl": [
           {
            "marker": {
             "colorbar": {
              "outlinewidth": 0,
              "ticks": ""
             }
            },
            "type": "scatterpolargl"
           }
          ],
          "scatterternary": [
           {
            "marker": {
             "colorbar": {
              "outlinewidth": 0,
              "ticks": ""
             }
            },
            "type": "scatterternary"
           }
          ],
          "surface": [
           {
            "colorbar": {
             "outlinewidth": 0,
             "ticks": ""
            },
            "colorscale": [
             [
              0,
              "#0d0887"
             ],
             [
              0.1111111111111111,
              "#46039f"
             ],
             [
              0.2222222222222222,
              "#7201a8"
             ],
             [
              0.3333333333333333,
              "#9c179e"
             ],
             [
              0.4444444444444444,
              "#bd3786"
             ],
             [
              0.5555555555555556,
              "#d8576b"
             ],
             [
              0.6666666666666666,
              "#ed7953"
             ],
             [
              0.7777777777777778,
              "#fb9f3a"
             ],
             [
              0.8888888888888888,
              "#fdca26"
             ],
             [
              1,
              "#f0f921"
             ]
            ],
            "type": "surface"
           }
          ],
          "table": [
           {
            "cells": {
             "fill": {
              "color": "#EBF0F8"
             },
             "line": {
              "color": "white"
             }
            },
            "header": {
             "fill": {
              "color": "#C8D4E3"
             },
             "line": {
              "color": "white"
             }
            },
            "type": "table"
           }
          ]
         },
         "layout": {
          "annotationdefaults": {
           "arrowcolor": "#2a3f5f",
           "arrowhead": 0,
           "arrowwidth": 1
          },
          "autotypenumbers": "strict",
          "coloraxis": {
           "colorbar": {
            "outlinewidth": 0,
            "ticks": ""
           }
          },
          "colorscale": {
           "diverging": [
            [
             0,
             "#8e0152"
            ],
            [
             0.1,
             "#c51b7d"
            ],
            [
             0.2,
             "#de77ae"
            ],
            [
             0.3,
             "#f1b6da"
            ],
            [
             0.4,
             "#fde0ef"
            ],
            [
             0.5,
             "#f7f7f7"
            ],
            [
             0.6,
             "#e6f5d0"
            ],
            [
             0.7,
             "#b8e186"
            ],
            [
             0.8,
             "#7fbc41"
            ],
            [
             0.9,
             "#4d9221"
            ],
            [
             1,
             "#276419"
            ]
           ],
           "sequential": [
            [
             0,
             "#0d0887"
            ],
            [
             0.1111111111111111,
             "#46039f"
            ],
            [
             0.2222222222222222,
             "#7201a8"
            ],
            [
             0.3333333333333333,
             "#9c179e"
            ],
            [
             0.4444444444444444,
             "#bd3786"
            ],
            [
             0.5555555555555556,
             "#d8576b"
            ],
            [
             0.6666666666666666,
             "#ed7953"
            ],
            [
             0.7777777777777778,
             "#fb9f3a"
            ],
            [
             0.8888888888888888,
             "#fdca26"
            ],
            [
             1,
             "#f0f921"
            ]
           ],
           "sequentialminus": [
            [
             0,
             "#0d0887"
            ],
            [
             0.1111111111111111,
             "#46039f"
            ],
            [
             0.2222222222222222,
             "#7201a8"
            ],
            [
             0.3333333333333333,
             "#9c179e"
            ],
            [
             0.4444444444444444,
             "#bd3786"
            ],
            [
             0.5555555555555556,
             "#d8576b"
            ],
            [
             0.6666666666666666,
             "#ed7953"
            ],
            [
             0.7777777777777778,
             "#fb9f3a"
            ],
            [
             0.8888888888888888,
             "#fdca26"
            ],
            [
             1,
             "#f0f921"
            ]
           ]
          },
          "colorway": [
           "#636efa",
           "#EF553B",
           "#00cc96",
           "#ab63fa",
           "#FFA15A",
           "#19d3f3",
           "#FF6692",
           "#B6E880",
           "#FF97FF",
           "#FECB52"
          ],
          "font": {
           "color": "#2a3f5f"
          },
          "geo": {
           "bgcolor": "white",
           "lakecolor": "white",
           "landcolor": "#E5ECF6",
           "showlakes": true,
           "showland": true,
           "subunitcolor": "white"
          },
          "hoverlabel": {
           "align": "left"
          },
          "hovermode": "closest",
          "mapbox": {
           "style": "light"
          },
          "paper_bgcolor": "white",
          "plot_bgcolor": "#E5ECF6",
          "polar": {
           "angularaxis": {
            "gridcolor": "white",
            "linecolor": "white",
            "ticks": ""
           },
           "bgcolor": "#E5ECF6",
           "radialaxis": {
            "gridcolor": "white",
            "linecolor": "white",
            "ticks": ""
           }
          },
          "scene": {
           "xaxis": {
            "backgroundcolor": "#E5ECF6",
            "gridcolor": "white",
            "gridwidth": 2,
            "linecolor": "white",
            "showbackground": true,
            "ticks": "",
            "zerolinecolor": "white"
           },
           "yaxis": {
            "backgroundcolor": "#E5ECF6",
            "gridcolor": "white",
            "gridwidth": 2,
            "linecolor": "white",
            "showbackground": true,
            "ticks": "",
            "zerolinecolor": "white"
           },
           "zaxis": {
            "backgroundcolor": "#E5ECF6",
            "gridcolor": "white",
            "gridwidth": 2,
            "linecolor": "white",
            "showbackground": true,
            "ticks": "",
            "zerolinecolor": "white"
           }
          },
          "shapedefaults": {
           "line": {
            "color": "#2a3f5f"
           }
          },
          "ternary": {
           "aaxis": {
            "gridcolor": "white",
            "linecolor": "white",
            "ticks": ""
           },
           "baxis": {
            "gridcolor": "white",
            "linecolor": "white",
            "ticks": ""
           },
           "bgcolor": "#E5ECF6",
           "caxis": {
            "gridcolor": "white",
            "linecolor": "white",
            "ticks": ""
           }
          },
          "title": {
           "x": 0.05
          },
          "xaxis": {
           "automargin": true,
           "gridcolor": "white",
           "linecolor": "white",
           "ticks": "",
           "title": {
            "standoff": 15
           },
           "zerolinecolor": "white",
           "zerolinewidth": 2
          },
          "yaxis": {
           "automargin": true,
           "gridcolor": "white",
           "linecolor": "white",
           "ticks": "",
           "title": {
            "standoff": 15
           },
           "zerolinecolor": "white",
           "zerolinewidth": 2
          }
         }
        },
        "xaxis": {
         "anchor": "y",
         "domain": [
          0,
          1
         ],
         "title": {
          "text": "index"
         }
        },
        "yaxis": {
         "anchor": "x",
         "domain": [
          0,
          1
         ],
         "title": {
          "text": "value"
         }
        }
       }
      }
     },
     "metadata": {},
     "output_type": "display_data"
    }
   ],
   "source": [
    "qois = [\"outMinusFloor\", \"ceilingMinusFloor\", \"extWallMinusFloor\", \"intWallMinusFloor\"]\n",
    "fig = px.histogram(\n",
    "    dfFull,\n",
    "    x = qois,\n",
    "    marginal=\"box\", # or violin, rug\n",
    "    barmode = \"group\"\n",
    "    )\n",
    "fig.show()\n",
    "\n",
    "fig = px.line(dfFull, y = qois)\n",
    "fig.show()\n"
   ]
  },
  {
   "cell_type": "code",
   "execution_count": 13,
   "metadata": {},
   "outputs": [
    {
     "data": {
      "application/vnd.plotly.v1+json": {
       "config": {
        "plotlyServerURL": "https://plot.ly"
       },
       "data": [
        {
         "hovertemplate": "variable=outMinusFloor<br>material_type=Light<br>floorTempAdjustment=%{x}<br>value=%{y}<extra></extra>",
         "legendgroup": "outMinusFloor",
         "marker": {
          "color": "#636efa",
          "symbol": "circle"
         },
         "mode": "markers",
         "name": "outMinusFloor",
         "orientation": "v",
         "showlegend": true,
         "type": "scatter",
         "x": [
          -4.491600585167717,
          -4.491600585167717,
          -4.491600585167717,
          -4.491600585167717,
          -4.491600585167717,
          -4.491600585167717,
          -4.491600585167717,
          -4.491600585167717,
          -4.491600585167717,
          -4.491600585167717,
          -4.491600585167717,
          -4.491600585167717,
          -4.491600585167717,
          -4.491600585167717,
          -4.491600585167717,
          -4.491600585167717,
          -4.491600585167717,
          -4.491600585167717,
          -4.491600585167717,
          -4.491600585167717
         ],
         "xaxis": "x",
         "y": [
          1.8116198020231875,
          -2.478429470073081,
          -4.970733929223627,
          -6.129898980149633,
          -6.637356228521028,
          -6.671156060994122,
          -6.51008351898696,
          -6.659921451069621,
          -6.816533110850841,
          1.7192334492559669,
          -2.731970508804295,
          -4.210149535783799,
          -5.126798165441201,
          -5.894148705375045,
          -6.172478903892127,
          -6.08981556075797,
          -6.415370840158133,
          -5.842838955439319,
          -5.987314775493573,
          -6.789119784389015
         ],
         "yaxis": "y"
        },
        {
         "hovertemplate": "<b>OLS trendline</b><br>value = 1.09764<br>R<sup>2</sup>=0.000000<br><br>variable=outMinusFloor<br>material_type=Light<br>floorTempAdjustment=%{x}<br>value=%{y} <b>(trend)</b><extra></extra>",
         "legendgroup": "outMinusFloor",
         "marker": {
          "color": "#636efa",
          "symbol": "circle"
         },
         "mode": "lines",
         "name": "outMinusFloor",
         "showlegend": false,
         "type": "scatter",
         "x": [
          -4.491600585167717,
          -4.491600585167717,
          -4.491600585167717,
          -4.491600585167717,
          -4.491600585167717,
          -4.491600585167717,
          -4.491600585167717,
          -4.491600585167717,
          -4.491600585167717,
          -4.491600585167717,
          -4.491600585167717,
          -4.491600585167717,
          -4.491600585167717,
          -4.491600585167717,
          -4.491600585167717,
          -4.491600585167717,
          -4.491600585167717,
          -4.491600585167717,
          -4.491600585167717,
          -4.491600585167717
         ],
         "xaxis": "x",
         "y": [
          -4.930163261706211,
          -4.930163261706211,
          -4.930163261706211,
          -4.930163261706211,
          -4.930163261706211,
          -4.930163261706211,
          -4.930163261706211,
          -4.930163261706211,
          -4.930163261706211,
          -4.930163261706211,
          -4.930163261706211,
          -4.930163261706211,
          -4.930163261706211,
          -4.930163261706211,
          -4.930163261706211,
          -4.930163261706211,
          -4.930163261706211,
          -4.930163261706211,
          -4.930163261706211,
          -4.930163261706211
         ],
         "yaxis": "y"
        },
        {
         "hovertemplate": "variable=ceilingMinusFloor<br>material_type=Light<br>floorTempAdjustment=%{x}<br>value=%{y}<extra></extra>",
         "legendgroup": "ceilingMinusFloor",
         "marker": {
          "color": "#EF553B",
          "symbol": "circle"
         },
         "mode": "markers",
         "name": "ceilingMinusFloor",
         "orientation": "v",
         "showlegend": true,
         "type": "scatter",
         "x": [
          -4.491600585167717,
          -4.491600585167717,
          -4.491600585167717,
          -4.491600585167717,
          -4.491600585167717,
          -4.491600585167717,
          -4.491600585167717,
          -4.491600585167717,
          -4.491600585167717,
          -4.491600585167717,
          -4.491600585167717,
          -4.491600585167717,
          -4.491600585167717,
          -4.491600585167717,
          -4.491600585167717,
          -4.491600585167717,
          -4.491600585167717,
          -4.491600585167717,
          -4.491600585167717,
          -4.491600585167717
         ],
         "xaxis": "x",
         "y": [
          3.637247839980162,
          3.028434730179285,
          2.2712523710998624,
          1.553569331042425,
          0.9675497261022484,
          0.5072044322537437,
          0.1490503454102452,
          -0.1293944400783147,
          -0.3559285594990058,
          2.9487704729043003,
          2.3587544877354105,
          1.719988253221885,
          1.1638516308415203,
          0.715361868813531,
          0.3491250602000377,
          0.0507510049884274,
          -0.1901511169663479,
          -0.392790201891728,
          -0.5506955600032768,
          -0.6814252101254255
         ],
         "yaxis": "y"
        },
        {
         "hovertemplate": "<b>OLS trendline</b><br>value = -0.212848<br>R<sup>2</sup>=0.000000<br><br>variable=ceilingMinusFloor<br>material_type=Light<br>floorTempAdjustment=%{x}<br>value=%{y} <b>(trend)</b><extra></extra>",
         "legendgroup": "ceilingMinusFloor",
         "marker": {
          "color": "#EF553B",
          "symbol": "circle"
         },
         "mode": "lines",
         "name": "ceilingMinusFloor",
         "showlegend": false,
         "type": "scatter",
         "x": [
          -4.491600585167717,
          -4.491600585167717,
          -4.491600585167717,
          -4.491600585167717,
          -4.491600585167717,
          -4.491600585167717,
          -4.491600585167717,
          -4.491600585167717,
          -4.491600585167717,
          -4.491600585167717,
          -4.491600585167717,
          -4.491600585167717,
          -4.491600585167717,
          -4.491600585167717,
          -4.491600585167717,
          -4.491600585167717,
          -4.491600585167717,
          -4.491600585167717,
          -4.491600585167717,
          -4.491600585167717
         ],
         "xaxis": "x",
         "y": [
          0.956026323310449,
          0.956026323310449,
          0.956026323310449,
          0.956026323310449,
          0.956026323310449,
          0.956026323310449,
          0.956026323310449,
          0.956026323310449,
          0.956026323310449,
          0.956026323310449,
          0.956026323310449,
          0.956026323310449,
          0.956026323310449,
          0.956026323310449,
          0.956026323310449,
          0.956026323310449,
          0.956026323310449,
          0.956026323310449,
          0.956026323310449,
          0.956026323310449
         ],
         "yaxis": "y"
        },
        {
         "hovertemplate": "variable=extWallMinusFloor<br>material_type=Light<br>floorTempAdjustment=%{x}<br>value=%{y}<extra></extra>",
         "legendgroup": "extWallMinusFloor",
         "marker": {
          "color": "#00cc96",
          "symbol": "circle"
         },
         "mode": "markers",
         "name": "extWallMinusFloor",
         "orientation": "v",
         "showlegend": true,
         "type": "scatter",
         "x": [
          -4.491600585167717,
          -4.491600585167717,
          -4.491600585167717,
          -4.491600585167717,
          -4.491600585167717,
          -4.491600585167717,
          -4.491600585167717,
          -4.491600585167717,
          -4.491600585167717,
          -4.491600585167717,
          -4.491600585167717,
          -4.491600585167717,
          -4.491600585167717,
          -4.491600585167717,
          -4.491600585167717,
          -4.491600585167717,
          -4.491600585167717,
          -4.491600585167717,
          -4.491600585167717,
          -4.491600585167717
         ],
         "xaxis": "x",
         "y": [
          2.5895164709926064,
          1.835124082927308,
          0.8872479839393463,
          0.0905338631364287,
          -0.499579450385454,
          -0.9160046277651616,
          -1.181517696445198,
          -1.364610023892567,
          -1.5657086044333823,
          2.594257549954648,
          1.7899018024860425,
          0.8541504007546337,
          0.1672629369165719,
          -0.3582103519194817,
          -0.7748483491676126,
          -1.064244532746372,
          -1.2830235756536297,
          -1.447507899324748,
          -1.5223533499075188,
          -1.6824796550483825
         ],
         "yaxis": "y"
        },
        {
         "hovertemplate": "<b>OLS trendline</b><br>value = 0.0317492<br>R<sup>2</sup>=0.000000<br><br>variable=extWallMinusFloor<br>material_type=Light<br>floorTempAdjustment=%{x}<br>value=%{y} <b>(trend)</b><extra></extra>",
         "legendgroup": "extWallMinusFloor",
         "marker": {
          "color": "#00cc96",
          "symbol": "circle"
         },
         "mode": "lines",
         "name": "extWallMinusFloor",
         "showlegend": false,
         "type": "scatter",
         "x": [
          -4.491600585167717,
          -4.491600585167717,
          -4.491600585167717,
          -4.491600585167717,
          -4.491600585167717,
          -4.491600585167717,
          -4.491600585167717,
          -4.491600585167717,
          -4.491600585167717,
          -4.491600585167717,
          -4.491600585167717,
          -4.491600585167717,
          -4.491600585167717,
          -4.491600585167717,
          -4.491600585167717,
          -4.491600585167717,
          -4.491600585167717,
          -4.491600585167717,
          -4.491600585167717,
          -4.491600585167717
         ],
         "xaxis": "x",
         "y": [
          -0.1426046512790961,
          -0.1426046512790961,
          -0.1426046512790961,
          -0.1426046512790961,
          -0.1426046512790961,
          -0.1426046512790961,
          -0.1426046512790961,
          -0.1426046512790961,
          -0.1426046512790961,
          -0.1426046512790961,
          -0.1426046512790961,
          -0.1426046512790961,
          -0.1426046512790961,
          -0.1426046512790961,
          -0.1426046512790961,
          -0.1426046512790961,
          -0.1426046512790961,
          -0.1426046512790961,
          -0.1426046512790961,
          -0.1426046512790961
         ],
         "yaxis": "y"
        },
        {
         "hovertemplate": "variable=intWallMinusFloor<br>material_type=Light<br>floorTempAdjustment=%{x}<br>value=%{y}<extra></extra>",
         "legendgroup": "intWallMinusFloor",
         "marker": {
          "color": "#ab63fa",
          "symbol": "circle"
         },
         "mode": "markers",
         "name": "intWallMinusFloor",
         "orientation": "v",
         "showlegend": true,
         "type": "scatter",
         "x": [
          -4.491600585167717,
          -4.491600585167717,
          -4.491600585167717,
          -4.491600585167717,
          -4.491600585167717,
          -4.491600585167717,
          -4.491600585167717,
          -4.491600585167717,
          -4.491600585167717,
          -4.491600585167717,
          -4.491600585167717,
          -4.491600585167717,
          -4.491600585167717,
          -4.491600585167717,
          -4.491600585167717,
          -4.491600585167717,
          -4.491600585167717,
          -4.491600585167717,
          -4.491600585167717,
          -4.491600585167717
         ],
         "xaxis": "x",
         "y": [
          1.2682374711522943,
          1.57750631731714,
          1.7904386394120309,
          1.8125745878817412,
          1.6816520279888938,
          1.468014877929685,
          1.2194551672836884,
          0.9750091264191476,
          0.7654938453894099,
          1.3309251939227142,
          1.5753271528965815,
          1.7137347076826093,
          1.667692980111454,
          1.5188409868106303,
          1.3259459305329624,
          1.109729253719384,
          0.8978558372781483,
          0.7012304634746348,
          0.5113753886085419,
          0.3686078928533381
         ],
         "yaxis": "y"
        },
        {
         "hovertemplate": "<b>OLS trendline</b><br>value = -0.28141<br>R<sup>2</sup>=0.000000<br><br>variable=intWallMinusFloor<br>material_type=Light<br>floorTempAdjustment=%{x}<br>value=%{y} <b>(trend)</b><extra></extra>",
         "legendgroup": "intWallMinusFloor",
         "marker": {
          "color": "#ab63fa",
          "symbol": "circle"
         },
         "mode": "lines",
         "name": "intWallMinusFloor",
         "showlegend": false,
         "type": "scatter",
         "x": [
          -4.491600585167717,
          -4.491600585167717,
          -4.491600585167717,
          -4.491600585167717,
          -4.491600585167717,
          -4.491600585167717,
          -4.491600585167717,
          -4.491600585167717,
          -4.491600585167717,
          -4.491600585167717,
          -4.491600585167717,
          -4.491600585167717,
          -4.491600585167717,
          -4.491600585167717,
          -4.491600585167717,
          -4.491600585167717,
          -4.491600585167717,
          -4.491600585167717,
          -4.491600585167717,
          -4.491600585167717
         ],
         "xaxis": "x",
         "y": [
          1.263982392433251,
          1.263982392433251,
          1.263982392433251,
          1.263982392433251,
          1.263982392433251,
          1.263982392433251,
          1.263982392433251,
          1.263982392433251,
          1.263982392433251,
          1.263982392433251,
          1.263982392433251,
          1.263982392433251,
          1.263982392433251,
          1.263982392433251,
          1.263982392433251,
          1.263982392433251,
          1.263982392433251,
          1.263982392433251,
          1.263982392433251,
          1.263982392433251
         ],
         "yaxis": "y"
        }
       ],
       "layout": {
        "annotations": [
         {
          "font": {},
          "showarrow": false,
          "text": "material_type=Light",
          "x": 0.15999999999999998,
          "xanchor": "center",
          "xref": "paper",
          "y": 1,
          "yanchor": "bottom",
          "yref": "paper"
         },
         {
          "font": {},
          "showarrow": false,
          "text": "material_type=Medium",
          "x": 0.49999999999999994,
          "xanchor": "center",
          "xref": "paper",
          "y": 1,
          "yanchor": "bottom",
          "yref": "paper"
         },
         {
          "font": {},
          "showarrow": false,
          "text": "material_type=Heavy",
          "x": 0.8399999999999999,
          "xanchor": "center",
          "xref": "paper",
          "y": 1,
          "yanchor": "bottom",
          "yref": "paper"
         }
        ],
        "legend": {
         "title": {
          "text": "variable"
         },
         "tracegroupgap": 0
        },
        "margin": {
         "t": 60
        },
        "template": {
         "data": {
          "bar": [
           {
            "error_x": {
             "color": "#2a3f5f"
            },
            "error_y": {
             "color": "#2a3f5f"
            },
            "marker": {
             "line": {
              "color": "#E5ECF6",
              "width": 0.5
             },
             "pattern": {
              "fillmode": "overlay",
              "size": 10,
              "solidity": 0.2
             }
            },
            "type": "bar"
           }
          ],
          "barpolar": [
           {
            "marker": {
             "line": {
              "color": "#E5ECF6",
              "width": 0.5
             },
             "pattern": {
              "fillmode": "overlay",
              "size": 10,
              "solidity": 0.2
             }
            },
            "type": "barpolar"
           }
          ],
          "carpet": [
           {
            "aaxis": {
             "endlinecolor": "#2a3f5f",
             "gridcolor": "white",
             "linecolor": "white",
             "minorgridcolor": "white",
             "startlinecolor": "#2a3f5f"
            },
            "baxis": {
             "endlinecolor": "#2a3f5f",
             "gridcolor": "white",
             "linecolor": "white",
             "minorgridcolor": "white",
             "startlinecolor": "#2a3f5f"
            },
            "type": "carpet"
           }
          ],
          "choropleth": [
           {
            "colorbar": {
             "outlinewidth": 0,
             "ticks": ""
            },
            "type": "choropleth"
           }
          ],
          "contour": [
           {
            "colorbar": {
             "outlinewidth": 0,
             "ticks": ""
            },
            "colorscale": [
             [
              0,
              "#0d0887"
             ],
             [
              0.1111111111111111,
              "#46039f"
             ],
             [
              0.2222222222222222,
              "#7201a8"
             ],
             [
              0.3333333333333333,
              "#9c179e"
             ],
             [
              0.4444444444444444,
              "#bd3786"
             ],
             [
              0.5555555555555556,
              "#d8576b"
             ],
             [
              0.6666666666666666,
              "#ed7953"
             ],
             [
              0.7777777777777778,
              "#fb9f3a"
             ],
             [
              0.8888888888888888,
              "#fdca26"
             ],
             [
              1,
              "#f0f921"
             ]
            ],
            "type": "contour"
           }
          ],
          "contourcarpet": [
           {
            "colorbar": {
             "outlinewidth": 0,
             "ticks": ""
            },
            "type": "contourcarpet"
           }
          ],
          "heatmap": [
           {
            "colorbar": {
             "outlinewidth": 0,
             "ticks": ""
            },
            "colorscale": [
             [
              0,
              "#0d0887"
             ],
             [
              0.1111111111111111,
              "#46039f"
             ],
             [
              0.2222222222222222,
              "#7201a8"
             ],
             [
              0.3333333333333333,
              "#9c179e"
             ],
             [
              0.4444444444444444,
              "#bd3786"
             ],
             [
              0.5555555555555556,
              "#d8576b"
             ],
             [
              0.6666666666666666,
              "#ed7953"
             ],
             [
              0.7777777777777778,
              "#fb9f3a"
             ],
             [
              0.8888888888888888,
              "#fdca26"
             ],
             [
              1,
              "#f0f921"
             ]
            ],
            "type": "heatmap"
           }
          ],
          "heatmapgl": [
           {
            "colorbar": {
             "outlinewidth": 0,
             "ticks": ""
            },
            "colorscale": [
             [
              0,
              "#0d0887"
             ],
             [
              0.1111111111111111,
              "#46039f"
             ],
             [
              0.2222222222222222,
              "#7201a8"
             ],
             [
              0.3333333333333333,
              "#9c179e"
             ],
             [
              0.4444444444444444,
              "#bd3786"
             ],
             [
              0.5555555555555556,
              "#d8576b"
             ],
             [
              0.6666666666666666,
              "#ed7953"
             ],
             [
              0.7777777777777778,
              "#fb9f3a"
             ],
             [
              0.8888888888888888,
              "#fdca26"
             ],
             [
              1,
              "#f0f921"
             ]
            ],
            "type": "heatmapgl"
           }
          ],
          "histogram": [
           {
            "marker": {
             "pattern": {
              "fillmode": "overlay",
              "size": 10,
              "solidity": 0.2
             }
            },
            "type": "histogram"
           }
          ],
          "histogram2d": [
           {
            "colorbar": {
             "outlinewidth": 0,
             "ticks": ""
            },
            "colorscale": [
             [
              0,
              "#0d0887"
             ],
             [
              0.1111111111111111,
              "#46039f"
             ],
             [
              0.2222222222222222,
              "#7201a8"
             ],
             [
              0.3333333333333333,
              "#9c179e"
             ],
             [
              0.4444444444444444,
              "#bd3786"
             ],
             [
              0.5555555555555556,
              "#d8576b"
             ],
             [
              0.6666666666666666,
              "#ed7953"
             ],
             [
              0.7777777777777778,
              "#fb9f3a"
             ],
             [
              0.8888888888888888,
              "#fdca26"
             ],
             [
              1,
              "#f0f921"
             ]
            ],
            "type": "histogram2d"
           }
          ],
          "histogram2dcontour": [
           {
            "colorbar": {
             "outlinewidth": 0,
             "ticks": ""
            },
            "colorscale": [
             [
              0,
              "#0d0887"
             ],
             [
              0.1111111111111111,
              "#46039f"
             ],
             [
              0.2222222222222222,
              "#7201a8"
             ],
             [
              0.3333333333333333,
              "#9c179e"
             ],
             [
              0.4444444444444444,
              "#bd3786"
             ],
             [
              0.5555555555555556,
              "#d8576b"
             ],
             [
              0.6666666666666666,
              "#ed7953"
             ],
             [
              0.7777777777777778,
              "#fb9f3a"
             ],
             [
              0.8888888888888888,
              "#fdca26"
             ],
             [
              1,
              "#f0f921"
             ]
            ],
            "type": "histogram2dcontour"
           }
          ],
          "mesh3d": [
           {
            "colorbar": {
             "outlinewidth": 0,
             "ticks": ""
            },
            "type": "mesh3d"
           }
          ],
          "parcoords": [
           {
            "line": {
             "colorbar": {
              "outlinewidth": 0,
              "ticks": ""
             }
            },
            "type": "parcoords"
           }
          ],
          "pie": [
           {
            "automargin": true,
            "type": "pie"
           }
          ],
          "scatter": [
           {
            "fillpattern": {
             "fillmode": "overlay",
             "size": 10,
             "solidity": 0.2
            },
            "type": "scatter"
           }
          ],
          "scatter3d": [
           {
            "line": {
             "colorbar": {
              "outlinewidth": 0,
              "ticks": ""
             }
            },
            "marker": {
             "colorbar": {
              "outlinewidth": 0,
              "ticks": ""
             }
            },
            "type": "scatter3d"
           }
          ],
          "scattercarpet": [
           {
            "marker": {
             "colorbar": {
              "outlinewidth": 0,
              "ticks": ""
             }
            },
            "type": "scattercarpet"
           }
          ],
          "scattergeo": [
           {
            "marker": {
             "colorbar": {
              "outlinewidth": 0,
              "ticks": ""
             }
            },
            "type": "scattergeo"
           }
          ],
          "scattergl": [
           {
            "marker": {
             "colorbar": {
              "outlinewidth": 0,
              "ticks": ""
             }
            },
            "type": "scattergl"
           }
          ],
          "scattermapbox": [
           {
            "marker": {
             "colorbar": {
              "outlinewidth": 0,
              "ticks": ""
             }
            },
            "type": "scattermapbox"
           }
          ],
          "scatterpolar": [
           {
            "marker": {
             "colorbar": {
              "outlinewidth": 0,
              "ticks": ""
             }
            },
            "type": "scatterpolar"
           }
          ],
          "scatterpolargl": [
           {
            "marker": {
             "colorbar": {
              "outlinewidth": 0,
              "ticks": ""
             }
            },
            "type": "scatterpolargl"
           }
          ],
          "scatterternary": [
           {
            "marker": {
             "colorbar": {
              "outlinewidth": 0,
              "ticks": ""
             }
            },
            "type": "scatterternary"
           }
          ],
          "surface": [
           {
            "colorbar": {
             "outlinewidth": 0,
             "ticks": ""
            },
            "colorscale": [
             [
              0,
              "#0d0887"
             ],
             [
              0.1111111111111111,
              "#46039f"
             ],
             [
              0.2222222222222222,
              "#7201a8"
             ],
             [
              0.3333333333333333,
              "#9c179e"
             ],
             [
              0.4444444444444444,
              "#bd3786"
             ],
             [
              0.5555555555555556,
              "#d8576b"
             ],
             [
              0.6666666666666666,
              "#ed7953"
             ],
             [
              0.7777777777777778,
              "#fb9f3a"
             ],
             [
              0.8888888888888888,
              "#fdca26"
             ],
             [
              1,
              "#f0f921"
             ]
            ],
            "type": "surface"
           }
          ],
          "table": [
           {
            "cells": {
             "fill": {
              "color": "#EBF0F8"
             },
             "line": {
              "color": "white"
             }
            },
            "header": {
             "fill": {
              "color": "#C8D4E3"
             },
             "line": {
              "color": "white"
             }
            },
            "type": "table"
           }
          ]
         },
         "layout": {
          "annotationdefaults": {
           "arrowcolor": "#2a3f5f",
           "arrowhead": 0,
           "arrowwidth": 1
          },
          "autotypenumbers": "strict",
          "coloraxis": {
           "colorbar": {
            "outlinewidth": 0,
            "ticks": ""
           }
          },
          "colorscale": {
           "diverging": [
            [
             0,
             "#8e0152"
            ],
            [
             0.1,
             "#c51b7d"
            ],
            [
             0.2,
             "#de77ae"
            ],
            [
             0.3,
             "#f1b6da"
            ],
            [
             0.4,
             "#fde0ef"
            ],
            [
             0.5,
             "#f7f7f7"
            ],
            [
             0.6,
             "#e6f5d0"
            ],
            [
             0.7,
             "#b8e186"
            ],
            [
             0.8,
             "#7fbc41"
            ],
            [
             0.9,
             "#4d9221"
            ],
            [
             1,
             "#276419"
            ]
           ],
           "sequential": [
            [
             0,
             "#0d0887"
            ],
            [
             0.1111111111111111,
             "#46039f"
            ],
            [
             0.2222222222222222,
             "#7201a8"
            ],
            [
             0.3333333333333333,
             "#9c179e"
            ],
            [
             0.4444444444444444,
             "#bd3786"
            ],
            [
             0.5555555555555556,
             "#d8576b"
            ],
            [
             0.6666666666666666,
             "#ed7953"
            ],
            [
             0.7777777777777778,
             "#fb9f3a"
            ],
            [
             0.8888888888888888,
             "#fdca26"
            ],
            [
             1,
             "#f0f921"
            ]
           ],
           "sequentialminus": [
            [
             0,
             "#0d0887"
            ],
            [
             0.1111111111111111,
             "#46039f"
            ],
            [
             0.2222222222222222,
             "#7201a8"
            ],
            [
             0.3333333333333333,
             "#9c179e"
            ],
            [
             0.4444444444444444,
             "#bd3786"
            ],
            [
             0.5555555555555556,
             "#d8576b"
            ],
            [
             0.6666666666666666,
             "#ed7953"
            ],
            [
             0.7777777777777778,
             "#fb9f3a"
            ],
            [
             0.8888888888888888,
             "#fdca26"
            ],
            [
             1,
             "#f0f921"
            ]
           ]
          },
          "colorway": [
           "#636efa",
           "#EF553B",
           "#00cc96",
           "#ab63fa",
           "#FFA15A",
           "#19d3f3",
           "#FF6692",
           "#B6E880",
           "#FF97FF",
           "#FECB52"
          ],
          "font": {
           "color": "#2a3f5f"
          },
          "geo": {
           "bgcolor": "white",
           "lakecolor": "white",
           "landcolor": "#E5ECF6",
           "showlakes": true,
           "showland": true,
           "subunitcolor": "white"
          },
          "hoverlabel": {
           "align": "left"
          },
          "hovermode": "closest",
          "mapbox": {
           "style": "light"
          },
          "paper_bgcolor": "white",
          "plot_bgcolor": "#E5ECF6",
          "polar": {
           "angularaxis": {
            "gridcolor": "white",
            "linecolor": "white",
            "ticks": ""
           },
           "bgcolor": "#E5ECF6",
           "radialaxis": {
            "gridcolor": "white",
            "linecolor": "white",
            "ticks": ""
           }
          },
          "scene": {
           "xaxis": {
            "backgroundcolor": "#E5ECF6",
            "gridcolor": "white",
            "gridwidth": 2,
            "linecolor": "white",
            "showbackground": true,
            "ticks": "",
            "zerolinecolor": "white"
           },
           "yaxis": {
            "backgroundcolor": "#E5ECF6",
            "gridcolor": "white",
            "gridwidth": 2,
            "linecolor": "white",
            "showbackground": true,
            "ticks": "",
            "zerolinecolor": "white"
           },
           "zaxis": {
            "backgroundcolor": "#E5ECF6",
            "gridcolor": "white",
            "gridwidth": 2,
            "linecolor": "white",
            "showbackground": true,
            "ticks": "",
            "zerolinecolor": "white"
           }
          },
          "shapedefaults": {
           "line": {
            "color": "#2a3f5f"
           }
          },
          "ternary": {
           "aaxis": {
            "gridcolor": "white",
            "linecolor": "white",
            "ticks": ""
           },
           "baxis": {
            "gridcolor": "white",
            "linecolor": "white",
            "ticks": ""
           },
           "bgcolor": "#E5ECF6",
           "caxis": {
            "gridcolor": "white",
            "linecolor": "white",
            "ticks": ""
           }
          },
          "title": {
           "x": 0.05
          },
          "xaxis": {
           "automargin": true,
           "gridcolor": "white",
           "linecolor": "white",
           "ticks": "",
           "title": {
            "standoff": 15
           },
           "zerolinecolor": "white",
           "zerolinewidth": 2
          },
          "yaxis": {
           "automargin": true,
           "gridcolor": "white",
           "linecolor": "white",
           "ticks": "",
           "title": {
            "standoff": 15
           },
           "zerolinecolor": "white",
           "zerolinewidth": 2
          }
         }
        },
        "xaxis": {
         "anchor": "y",
         "domain": [
          0,
          0.31999999999999995
         ],
         "title": {
          "text": "floorTempAdjustment"
         }
        },
        "xaxis2": {
         "anchor": "y2",
         "domain": [
          0.33999999999999997,
          0.6599999999999999
         ],
         "matches": "x",
         "title": {
          "text": "floorTempAdjustment"
         }
        },
        "xaxis3": {
         "anchor": "y3",
         "domain": [
          0.6799999999999999,
          0.9999999999999999
         ],
         "matches": "x",
         "title": {
          "text": "floorTempAdjustment"
         }
        },
        "yaxis": {
         "anchor": "x",
         "domain": [
          0,
          1
         ],
         "title": {
          "text": "value"
         }
        },
        "yaxis2": {
         "anchor": "x2",
         "domain": [
          0,
          1
         ],
         "matches": "y",
         "showticklabels": false
        },
        "yaxis3": {
         "anchor": "x3",
         "domain": [
          0,
          1
         ],
         "matches": "y",
         "showticklabels": false
        }
       }
      }
     },
     "metadata": {},
     "output_type": "display_data"
    },
    {
     "data": {
      "application/vnd.plotly.v1+json": {
       "config": {
        "plotlyServerURL": "https://plot.ly"
       },
       "data": [
        {
         "hovertemplate": "variable=outMinusFloor<br>material_type=Light<br>hInterior=%{x}<br>value=%{y}<extra></extra>",
         "legendgroup": "outMinusFloor",
         "marker": {
          "color": "#636efa",
          "symbol": "circle"
         },
         "mode": "markers",
         "name": "outMinusFloor",
         "orientation": "v",
         "showlegend": true,
         "type": "scatter",
         "x": [
          1.7074347482641217,
          1.7074347482641217,
          1.7074347482641217,
          1.7074347482641217,
          1.7074347482641217,
          1.7074347482641217,
          1.7074347482641217,
          1.7074347482641217,
          1.7074347482641217,
          1.7074347482641217,
          1.7074347482641217,
          1.7074347482641217,
          1.7074347482641217,
          1.7074347482641217,
          1.7074347482641217,
          1.7074347482641217,
          1.7074347482641217,
          1.7074347482641217,
          1.7074347482641217,
          1.7074347482641217
         ],
         "xaxis": "x",
         "y": [
          1.8116198020231875,
          -2.478429470073081,
          -4.970733929223627,
          -6.129898980149633,
          -6.637356228521028,
          -6.671156060994122,
          -6.51008351898696,
          -6.659921451069621,
          -6.816533110850841,
          1.7192334492559669,
          -2.731970508804295,
          -4.210149535783799,
          -5.126798165441201,
          -5.894148705375045,
          -6.172478903892127,
          -6.08981556075797,
          -6.415370840158133,
          -5.842838955439319,
          -5.987314775493573,
          -6.789119784389015
         ],
         "yaxis": "y"
        },
        {
         "hovertemplate": "<b>OLS trendline</b><br>value = -2.88747<br>R<sup>2</sup>=-0.000000<br><br>variable=outMinusFloor<br>material_type=Light<br>hInterior=%{x}<br>value=%{y} <b>(trend)</b><extra></extra>",
         "legendgroup": "outMinusFloor",
         "marker": {
          "color": "#636efa",
          "symbol": "circle"
         },
         "mode": "lines",
         "name": "outMinusFloor",
         "showlegend": false,
         "type": "scatter",
         "x": [
          1.7074347482641217,
          1.7074347482641217,
          1.7074347482641217,
          1.7074347482641217,
          1.7074347482641217,
          1.7074347482641217,
          1.7074347482641217,
          1.7074347482641217,
          1.7074347482641217,
          1.7074347482641217,
          1.7074347482641217,
          1.7074347482641217,
          1.7074347482641217,
          1.7074347482641217,
          1.7074347482641217,
          1.7074347482641217,
          1.7074347482641217,
          1.7074347482641217,
          1.7074347482641217,
          1.7074347482641217
         ],
         "xaxis": "x",
         "y": [
          -4.9301632617062126,
          -4.9301632617062126,
          -4.9301632617062126,
          -4.9301632617062126,
          -4.9301632617062126,
          -4.9301632617062126,
          -4.9301632617062126,
          -4.9301632617062126,
          -4.9301632617062126,
          -4.9301632617062126,
          -4.9301632617062126,
          -4.9301632617062126,
          -4.9301632617062126,
          -4.9301632617062126,
          -4.9301632617062126,
          -4.9301632617062126,
          -4.9301632617062126,
          -4.9301632617062126,
          -4.9301632617062126,
          -4.9301632617062126
         ],
         "yaxis": "y"
        },
        {
         "hovertemplate": "variable=ceilingMinusFloor<br>material_type=Light<br>hInterior=%{x}<br>value=%{y}<extra></extra>",
         "legendgroup": "ceilingMinusFloor",
         "marker": {
          "color": "#EF553B",
          "symbol": "circle"
         },
         "mode": "markers",
         "name": "ceilingMinusFloor",
         "orientation": "v",
         "showlegend": true,
         "type": "scatter",
         "x": [
          1.7074347482641217,
          1.7074347482641217,
          1.7074347482641217,
          1.7074347482641217,
          1.7074347482641217,
          1.7074347482641217,
          1.7074347482641217,
          1.7074347482641217,
          1.7074347482641217,
          1.7074347482641217,
          1.7074347482641217,
          1.7074347482641217,
          1.7074347482641217,
          1.7074347482641217,
          1.7074347482641217,
          1.7074347482641217,
          1.7074347482641217,
          1.7074347482641217,
          1.7074347482641217,
          1.7074347482641217
         ],
         "xaxis": "x",
         "y": [
          3.637247839980162,
          3.028434730179285,
          2.2712523710998624,
          1.553569331042425,
          0.9675497261022484,
          0.5072044322537437,
          0.1490503454102452,
          -0.1293944400783147,
          -0.3559285594990058,
          2.9487704729043003,
          2.3587544877354105,
          1.719988253221885,
          1.1638516308415203,
          0.715361868813531,
          0.3491250602000377,
          0.0507510049884274,
          -0.1901511169663479,
          -0.392790201891728,
          -0.5506955600032768,
          -0.6814252101254255
         ],
         "yaxis": "y"
        },
        {
         "hovertemplate": "<b>OLS trendline</b><br>value = 0.55992<br>R<sup>2</sup>=0.000000<br><br>variable=ceilingMinusFloor<br>material_type=Light<br>hInterior=%{x}<br>value=%{y} <b>(trend)</b><extra></extra>",
         "legendgroup": "ceilingMinusFloor",
         "marker": {
          "color": "#EF553B",
          "symbol": "circle"
         },
         "mode": "lines",
         "name": "ceilingMinusFloor",
         "showlegend": false,
         "type": "scatter",
         "x": [
          1.7074347482641217,
          1.7074347482641217,
          1.7074347482641217,
          1.7074347482641217,
          1.7074347482641217,
          1.7074347482641217,
          1.7074347482641217,
          1.7074347482641217,
          1.7074347482641217,
          1.7074347482641217,
          1.7074347482641217,
          1.7074347482641217,
          1.7074347482641217,
          1.7074347482641217,
          1.7074347482641217,
          1.7074347482641217,
          1.7074347482641217,
          1.7074347482641217,
          1.7074347482641217,
          1.7074347482641217
         ],
         "xaxis": "x",
         "y": [
          0.9560263233104496,
          0.9560263233104496,
          0.9560263233104496,
          0.9560263233104496,
          0.9560263233104496,
          0.9560263233104496,
          0.9560263233104496,
          0.9560263233104496,
          0.9560263233104496,
          0.9560263233104496,
          0.9560263233104496,
          0.9560263233104496,
          0.9560263233104496,
          0.9560263233104496,
          0.9560263233104496,
          0.9560263233104496,
          0.9560263233104496,
          0.9560263233104496,
          0.9560263233104496,
          0.9560263233104496
         ],
         "yaxis": "y"
        },
        {
         "hovertemplate": "variable=extWallMinusFloor<br>material_type=Light<br>hInterior=%{x}<br>value=%{y}<extra></extra>",
         "legendgroup": "extWallMinusFloor",
         "marker": {
          "color": "#00cc96",
          "symbol": "circle"
         },
         "mode": "markers",
         "name": "extWallMinusFloor",
         "orientation": "v",
         "showlegend": true,
         "type": "scatter",
         "x": [
          1.7074347482641217,
          1.7074347482641217,
          1.7074347482641217,
          1.7074347482641217,
          1.7074347482641217,
          1.7074347482641217,
          1.7074347482641217,
          1.7074347482641217,
          1.7074347482641217,
          1.7074347482641217,
          1.7074347482641217,
          1.7074347482641217,
          1.7074347482641217,
          1.7074347482641217,
          1.7074347482641217,
          1.7074347482641217,
          1.7074347482641217,
          1.7074347482641217,
          1.7074347482641217,
          1.7074347482641217
         ],
         "xaxis": "x",
         "y": [
          2.5895164709926064,
          1.835124082927308,
          0.8872479839393463,
          0.0905338631364287,
          -0.499579450385454,
          -0.9160046277651616,
          -1.181517696445198,
          -1.364610023892567,
          -1.5657086044333823,
          2.594257549954648,
          1.7899018024860425,
          0.8541504007546337,
          0.1672629369165719,
          -0.3582103519194817,
          -0.7748483491676126,
          -1.064244532746372,
          -1.2830235756536297,
          -1.447507899324748,
          -1.5223533499075188,
          -1.6824796550483825
         ],
         "yaxis": "y"
        },
        {
         "hovertemplate": "<b>OLS trendline</b><br>value = -0.0835198<br>R<sup>2</sup>=-0.000000<br><br>variable=extWallMinusFloor<br>material_type=Light<br>hInterior=%{x}<br>value=%{y} <b>(trend)</b><extra></extra>",
         "legendgroup": "extWallMinusFloor",
         "marker": {
          "color": "#00cc96",
          "symbol": "circle"
         },
         "mode": "lines",
         "name": "extWallMinusFloor",
         "showlegend": false,
         "type": "scatter",
         "x": [
          1.7074347482641217,
          1.7074347482641217,
          1.7074347482641217,
          1.7074347482641217,
          1.7074347482641217,
          1.7074347482641217,
          1.7074347482641217,
          1.7074347482641217,
          1.7074347482641217,
          1.7074347482641217,
          1.7074347482641217,
          1.7074347482641217,
          1.7074347482641217,
          1.7074347482641217,
          1.7074347482641217,
          1.7074347482641217,
          1.7074347482641217,
          1.7074347482641217,
          1.7074347482641217,
          1.7074347482641217
         ],
         "xaxis": "x",
         "y": [
          -0.1426046512790962,
          -0.1426046512790962,
          -0.1426046512790962,
          -0.1426046512790962,
          -0.1426046512790962,
          -0.1426046512790962,
          -0.1426046512790962,
          -0.1426046512790962,
          -0.1426046512790962,
          -0.1426046512790962,
          -0.1426046512790962,
          -0.1426046512790962,
          -0.1426046512790962,
          -0.1426046512790962,
          -0.1426046512790962,
          -0.1426046512790962,
          -0.1426046512790962,
          -0.1426046512790962,
          -0.1426046512790962,
          -0.1426046512790962
         ],
         "yaxis": "y"
        },
        {
         "hovertemplate": "variable=intWallMinusFloor<br>material_type=Light<br>hInterior=%{x}<br>value=%{y}<extra></extra>",
         "legendgroup": "intWallMinusFloor",
         "marker": {
          "color": "#ab63fa",
          "symbol": "circle"
         },
         "mode": "markers",
         "name": "intWallMinusFloor",
         "orientation": "v",
         "showlegend": true,
         "type": "scatter",
         "x": [
          1.7074347482641217,
          1.7074347482641217,
          1.7074347482641217,
          1.7074347482641217,
          1.7074347482641217,
          1.7074347482641217,
          1.7074347482641217,
          1.7074347482641217,
          1.7074347482641217,
          1.7074347482641217,
          1.7074347482641217,
          1.7074347482641217,
          1.7074347482641217,
          1.7074347482641217,
          1.7074347482641217,
          1.7074347482641217,
          1.7074347482641217,
          1.7074347482641217,
          1.7074347482641217,
          1.7074347482641217
         ],
         "xaxis": "x",
         "y": [
          1.2682374711522943,
          1.57750631731714,
          1.7904386394120309,
          1.8125745878817412,
          1.6816520279888938,
          1.468014877929685,
          1.2194551672836884,
          0.9750091264191476,
          0.7654938453894099,
          1.3309251939227142,
          1.5753271528965815,
          1.7137347076826093,
          1.667692980111454,
          1.5188409868106303,
          1.3259459305329624,
          1.109729253719384,
          0.8978558372781483,
          0.7012304634746348,
          0.5113753886085419,
          0.3686078928533381
         ],
         "yaxis": "y"
        },
        {
         "hovertemplate": "<b>OLS trendline</b><br>value = 0.740282<br>R<sup>2</sup>=0.000000<br><br>variable=intWallMinusFloor<br>material_type=Light<br>hInterior=%{x}<br>value=%{y} <b>(trend)</b><extra></extra>",
         "legendgroup": "intWallMinusFloor",
         "marker": {
          "color": "#ab63fa",
          "symbol": "circle"
         },
         "mode": "lines",
         "name": "intWallMinusFloor",
         "showlegend": false,
         "type": "scatter",
         "x": [
          1.7074347482641217,
          1.7074347482641217,
          1.7074347482641217,
          1.7074347482641217,
          1.7074347482641217,
          1.7074347482641217,
          1.7074347482641217,
          1.7074347482641217,
          1.7074347482641217,
          1.7074347482641217,
          1.7074347482641217,
          1.7074347482641217,
          1.7074347482641217,
          1.7074347482641217,
          1.7074347482641217,
          1.7074347482641217,
          1.7074347482641217,
          1.7074347482641217,
          1.7074347482641217,
          1.7074347482641217
         ],
         "xaxis": "x",
         "y": [
          1.2639823924332516,
          1.2639823924332516,
          1.2639823924332516,
          1.2639823924332516,
          1.2639823924332516,
          1.2639823924332516,
          1.2639823924332516,
          1.2639823924332516,
          1.2639823924332516,
          1.2639823924332516,
          1.2639823924332516,
          1.2639823924332516,
          1.2639823924332516,
          1.2639823924332516,
          1.2639823924332516,
          1.2639823924332516,
          1.2639823924332516,
          1.2639823924332516,
          1.2639823924332516,
          1.2639823924332516
         ],
         "yaxis": "y"
        }
       ],
       "layout": {
        "annotations": [
         {
          "font": {},
          "showarrow": false,
          "text": "material_type=Light",
          "x": 0.15999999999999998,
          "xanchor": "center",
          "xref": "paper",
          "y": 1,
          "yanchor": "bottom",
          "yref": "paper"
         },
         {
          "font": {},
          "showarrow": false,
          "text": "material_type=Medium",
          "x": 0.49999999999999994,
          "xanchor": "center",
          "xref": "paper",
          "y": 1,
          "yanchor": "bottom",
          "yref": "paper"
         },
         {
          "font": {},
          "showarrow": false,
          "text": "material_type=Heavy",
          "x": 0.8399999999999999,
          "xanchor": "center",
          "xref": "paper",
          "y": 1,
          "yanchor": "bottom",
          "yref": "paper"
         }
        ],
        "legend": {
         "title": {
          "text": "variable"
         },
         "tracegroupgap": 0
        },
        "margin": {
         "t": 60
        },
        "template": {
         "data": {
          "bar": [
           {
            "error_x": {
             "color": "#2a3f5f"
            },
            "error_y": {
             "color": "#2a3f5f"
            },
            "marker": {
             "line": {
              "color": "#E5ECF6",
              "width": 0.5
             },
             "pattern": {
              "fillmode": "overlay",
              "size": 10,
              "solidity": 0.2
             }
            },
            "type": "bar"
           }
          ],
          "barpolar": [
           {
            "marker": {
             "line": {
              "color": "#E5ECF6",
              "width": 0.5
             },
             "pattern": {
              "fillmode": "overlay",
              "size": 10,
              "solidity": 0.2
             }
            },
            "type": "barpolar"
           }
          ],
          "carpet": [
           {
            "aaxis": {
             "endlinecolor": "#2a3f5f",
             "gridcolor": "white",
             "linecolor": "white",
             "minorgridcolor": "white",
             "startlinecolor": "#2a3f5f"
            },
            "baxis": {
             "endlinecolor": "#2a3f5f",
             "gridcolor": "white",
             "linecolor": "white",
             "minorgridcolor": "white",
             "startlinecolor": "#2a3f5f"
            },
            "type": "carpet"
           }
          ],
          "choropleth": [
           {
            "colorbar": {
             "outlinewidth": 0,
             "ticks": ""
            },
            "type": "choropleth"
           }
          ],
          "contour": [
           {
            "colorbar": {
             "outlinewidth": 0,
             "ticks": ""
            },
            "colorscale": [
             [
              0,
              "#0d0887"
             ],
             [
              0.1111111111111111,
              "#46039f"
             ],
             [
              0.2222222222222222,
              "#7201a8"
             ],
             [
              0.3333333333333333,
              "#9c179e"
             ],
             [
              0.4444444444444444,
              "#bd3786"
             ],
             [
              0.5555555555555556,
              "#d8576b"
             ],
             [
              0.6666666666666666,
              "#ed7953"
             ],
             [
              0.7777777777777778,
              "#fb9f3a"
             ],
             [
              0.8888888888888888,
              "#fdca26"
             ],
             [
              1,
              "#f0f921"
             ]
            ],
            "type": "contour"
           }
          ],
          "contourcarpet": [
           {
            "colorbar": {
             "outlinewidth": 0,
             "ticks": ""
            },
            "type": "contourcarpet"
           }
          ],
          "heatmap": [
           {
            "colorbar": {
             "outlinewidth": 0,
             "ticks": ""
            },
            "colorscale": [
             [
              0,
              "#0d0887"
             ],
             [
              0.1111111111111111,
              "#46039f"
             ],
             [
              0.2222222222222222,
              "#7201a8"
             ],
             [
              0.3333333333333333,
              "#9c179e"
             ],
             [
              0.4444444444444444,
              "#bd3786"
             ],
             [
              0.5555555555555556,
              "#d8576b"
             ],
             [
              0.6666666666666666,
              "#ed7953"
             ],
             [
              0.7777777777777778,
              "#fb9f3a"
             ],
             [
              0.8888888888888888,
              "#fdca26"
             ],
             [
              1,
              "#f0f921"
             ]
            ],
            "type": "heatmap"
           }
          ],
          "heatmapgl": [
           {
            "colorbar": {
             "outlinewidth": 0,
             "ticks": ""
            },
            "colorscale": [
             [
              0,
              "#0d0887"
             ],
             [
              0.1111111111111111,
              "#46039f"
             ],
             [
              0.2222222222222222,
              "#7201a8"
             ],
             [
              0.3333333333333333,
              "#9c179e"
             ],
             [
              0.4444444444444444,
              "#bd3786"
             ],
             [
              0.5555555555555556,
              "#d8576b"
             ],
             [
              0.6666666666666666,
              "#ed7953"
             ],
             [
              0.7777777777777778,
              "#fb9f3a"
             ],
             [
              0.8888888888888888,
              "#fdca26"
             ],
             [
              1,
              "#f0f921"
             ]
            ],
            "type": "heatmapgl"
           }
          ],
          "histogram": [
           {
            "marker": {
             "pattern": {
              "fillmode": "overlay",
              "size": 10,
              "solidity": 0.2
             }
            },
            "type": "histogram"
           }
          ],
          "histogram2d": [
           {
            "colorbar": {
             "outlinewidth": 0,
             "ticks": ""
            },
            "colorscale": [
             [
              0,
              "#0d0887"
             ],
             [
              0.1111111111111111,
              "#46039f"
             ],
             [
              0.2222222222222222,
              "#7201a8"
             ],
             [
              0.3333333333333333,
              "#9c179e"
             ],
             [
              0.4444444444444444,
              "#bd3786"
             ],
             [
              0.5555555555555556,
              "#d8576b"
             ],
             [
              0.6666666666666666,
              "#ed7953"
             ],
             [
              0.7777777777777778,
              "#fb9f3a"
             ],
             [
              0.8888888888888888,
              "#fdca26"
             ],
             [
              1,
              "#f0f921"
             ]
            ],
            "type": "histogram2d"
           }
          ],
          "histogram2dcontour": [
           {
            "colorbar": {
             "outlinewidth": 0,
             "ticks": ""
            },
            "colorscale": [
             [
              0,
              "#0d0887"
             ],
             [
              0.1111111111111111,
              "#46039f"
             ],
             [
              0.2222222222222222,
              "#7201a8"
             ],
             [
              0.3333333333333333,
              "#9c179e"
             ],
             [
              0.4444444444444444,
              "#bd3786"
             ],
             [
              0.5555555555555556,
              "#d8576b"
             ],
             [
              0.6666666666666666,
              "#ed7953"
             ],
             [
              0.7777777777777778,
              "#fb9f3a"
             ],
             [
              0.8888888888888888,
              "#fdca26"
             ],
             [
              1,
              "#f0f921"
             ]
            ],
            "type": "histogram2dcontour"
           }
          ],
          "mesh3d": [
           {
            "colorbar": {
             "outlinewidth": 0,
             "ticks": ""
            },
            "type": "mesh3d"
           }
          ],
          "parcoords": [
           {
            "line": {
             "colorbar": {
              "outlinewidth": 0,
              "ticks": ""
             }
            },
            "type": "parcoords"
           }
          ],
          "pie": [
           {
            "automargin": true,
            "type": "pie"
           }
          ],
          "scatter": [
           {
            "fillpattern": {
             "fillmode": "overlay",
             "size": 10,
             "solidity": 0.2
            },
            "type": "scatter"
           }
          ],
          "scatter3d": [
           {
            "line": {
             "colorbar": {
              "outlinewidth": 0,
              "ticks": ""
             }
            },
            "marker": {
             "colorbar": {
              "outlinewidth": 0,
              "ticks": ""
             }
            },
            "type": "scatter3d"
           }
          ],
          "scattercarpet": [
           {
            "marker": {
             "colorbar": {
              "outlinewidth": 0,
              "ticks": ""
             }
            },
            "type": "scattercarpet"
           }
          ],
          "scattergeo": [
           {
            "marker": {
             "colorbar": {
              "outlinewidth": 0,
              "ticks": ""
             }
            },
            "type": "scattergeo"
           }
          ],
          "scattergl": [
           {
            "marker": {
             "colorbar": {
              "outlinewidth": 0,
              "ticks": ""
             }
            },
            "type": "scattergl"
           }
          ],
          "scattermapbox": [
           {
            "marker": {
             "colorbar": {
              "outlinewidth": 0,
              "ticks": ""
             }
            },
            "type": "scattermapbox"
           }
          ],
          "scatterpolar": [
           {
            "marker": {
             "colorbar": {
              "outlinewidth": 0,
              "ticks": ""
             }
            },
            "type": "scatterpolar"
           }
          ],
          "scatterpolargl": [
           {
            "marker": {
             "colorbar": {
              "outlinewidth": 0,
              "ticks": ""
             }
            },
            "type": "scatterpolargl"
           }
          ],
          "scatterternary": [
           {
            "marker": {
             "colorbar": {
              "outlinewidth": 0,
              "ticks": ""
             }
            },
            "type": "scatterternary"
           }
          ],
          "surface": [
           {
            "colorbar": {
             "outlinewidth": 0,
             "ticks": ""
            },
            "colorscale": [
             [
              0,
              "#0d0887"
             ],
             [
              0.1111111111111111,
              "#46039f"
             ],
             [
              0.2222222222222222,
              "#7201a8"
             ],
             [
              0.3333333333333333,
              "#9c179e"
             ],
             [
              0.4444444444444444,
              "#bd3786"
             ],
             [
              0.5555555555555556,
              "#d8576b"
             ],
             [
              0.6666666666666666,
              "#ed7953"
             ],
             [
              0.7777777777777778,
              "#fb9f3a"
             ],
             [
              0.8888888888888888,
              "#fdca26"
             ],
             [
              1,
              "#f0f921"
             ]
            ],
            "type": "surface"
           }
          ],
          "table": [
           {
            "cells": {
             "fill": {
              "color": "#EBF0F8"
             },
             "line": {
              "color": "white"
             }
            },
            "header": {
             "fill": {
              "color": "#C8D4E3"
             },
             "line": {
              "color": "white"
             }
            },
            "type": "table"
           }
          ]
         },
         "layout": {
          "annotationdefaults": {
           "arrowcolor": "#2a3f5f",
           "arrowhead": 0,
           "arrowwidth": 1
          },
          "autotypenumbers": "strict",
          "coloraxis": {
           "colorbar": {
            "outlinewidth": 0,
            "ticks": ""
           }
          },
          "colorscale": {
           "diverging": [
            [
             0,
             "#8e0152"
            ],
            [
             0.1,
             "#c51b7d"
            ],
            [
             0.2,
             "#de77ae"
            ],
            [
             0.3,
             "#f1b6da"
            ],
            [
             0.4,
             "#fde0ef"
            ],
            [
             0.5,
             "#f7f7f7"
            ],
            [
             0.6,
             "#e6f5d0"
            ],
            [
             0.7,
             "#b8e186"
            ],
            [
             0.8,
             "#7fbc41"
            ],
            [
             0.9,
             "#4d9221"
            ],
            [
             1,
             "#276419"
            ]
           ],
           "sequential": [
            [
             0,
             "#0d0887"
            ],
            [
             0.1111111111111111,
             "#46039f"
            ],
            [
             0.2222222222222222,
             "#7201a8"
            ],
            [
             0.3333333333333333,
             "#9c179e"
            ],
            [
             0.4444444444444444,
             "#bd3786"
            ],
            [
             0.5555555555555556,
             "#d8576b"
            ],
            [
             0.6666666666666666,
             "#ed7953"
            ],
            [
             0.7777777777777778,
             "#fb9f3a"
            ],
            [
             0.8888888888888888,
             "#fdca26"
            ],
            [
             1,
             "#f0f921"
            ]
           ],
           "sequentialminus": [
            [
             0,
             "#0d0887"
            ],
            [
             0.1111111111111111,
             "#46039f"
            ],
            [
             0.2222222222222222,
             "#7201a8"
            ],
            [
             0.3333333333333333,
             "#9c179e"
            ],
            [
             0.4444444444444444,
             "#bd3786"
            ],
            [
             0.5555555555555556,
             "#d8576b"
            ],
            [
             0.6666666666666666,
             "#ed7953"
            ],
            [
             0.7777777777777778,
             "#fb9f3a"
            ],
            [
             0.8888888888888888,
             "#fdca26"
            ],
            [
             1,
             "#f0f921"
            ]
           ]
          },
          "colorway": [
           "#636efa",
           "#EF553B",
           "#00cc96",
           "#ab63fa",
           "#FFA15A",
           "#19d3f3",
           "#FF6692",
           "#B6E880",
           "#FF97FF",
           "#FECB52"
          ],
          "font": {
           "color": "#2a3f5f"
          },
          "geo": {
           "bgcolor": "white",
           "lakecolor": "white",
           "landcolor": "#E5ECF6",
           "showlakes": true,
           "showland": true,
           "subunitcolor": "white"
          },
          "hoverlabel": {
           "align": "left"
          },
          "hovermode": "closest",
          "mapbox": {
           "style": "light"
          },
          "paper_bgcolor": "white",
          "plot_bgcolor": "#E5ECF6",
          "polar": {
           "angularaxis": {
            "gridcolor": "white",
            "linecolor": "white",
            "ticks": ""
           },
           "bgcolor": "#E5ECF6",
           "radialaxis": {
            "gridcolor": "white",
            "linecolor": "white",
            "ticks": ""
           }
          },
          "scene": {
           "xaxis": {
            "backgroundcolor": "#E5ECF6",
            "gridcolor": "white",
            "gridwidth": 2,
            "linecolor": "white",
            "showbackground": true,
            "ticks": "",
            "zerolinecolor": "white"
           },
           "yaxis": {
            "backgroundcolor": "#E5ECF6",
            "gridcolor": "white",
            "gridwidth": 2,
            "linecolor": "white",
            "showbackground": true,
            "ticks": "",
            "zerolinecolor": "white"
           },
           "zaxis": {
            "backgroundcolor": "#E5ECF6",
            "gridcolor": "white",
            "gridwidth": 2,
            "linecolor": "white",
            "showbackground": true,
            "ticks": "",
            "zerolinecolor": "white"
           }
          },
          "shapedefaults": {
           "line": {
            "color": "#2a3f5f"
           }
          },
          "ternary": {
           "aaxis": {
            "gridcolor": "white",
            "linecolor": "white",
            "ticks": ""
           },
           "baxis": {
            "gridcolor": "white",
            "linecolor": "white",
            "ticks": ""
           },
           "bgcolor": "#E5ECF6",
           "caxis": {
            "gridcolor": "white",
            "linecolor": "white",
            "ticks": ""
           }
          },
          "title": {
           "x": 0.05
          },
          "xaxis": {
           "automargin": true,
           "gridcolor": "white",
           "linecolor": "white",
           "ticks": "",
           "title": {
            "standoff": 15
           },
           "zerolinecolor": "white",
           "zerolinewidth": 2
          },
          "yaxis": {
           "automargin": true,
           "gridcolor": "white",
           "linecolor": "white",
           "ticks": "",
           "title": {
            "standoff": 15
           },
           "zerolinecolor": "white",
           "zerolinewidth": 2
          }
         }
        },
        "xaxis": {
         "anchor": "y",
         "domain": [
          0,
          0.31999999999999995
         ],
         "title": {
          "text": "hInterior"
         }
        },
        "xaxis2": {
         "anchor": "y2",
         "domain": [
          0.33999999999999997,
          0.6599999999999999
         ],
         "matches": "x",
         "title": {
          "text": "hInterior"
         }
        },
        "xaxis3": {
         "anchor": "y3",
         "domain": [
          0.6799999999999999,
          0.9999999999999999
         ],
         "matches": "x",
         "title": {
          "text": "hInterior"
         }
        },
        "yaxis": {
         "anchor": "x",
         "domain": [
          0,
          1
         ],
         "title": {
          "text": "value"
         }
        },
        "yaxis2": {
         "anchor": "x2",
         "domain": [
          0,
          1
         ],
         "matches": "y",
         "showticklabels": false
        },
        "yaxis3": {
         "anchor": "x3",
         "domain": [
          0,
          1
         ],
         "matches": "y",
         "showticklabels": false
        }
       }
      }
     },
     "metadata": {},
     "output_type": "display_data"
    },
    {
     "data": {
      "application/vnd.plotly.v1+json": {
       "config": {
        "plotlyServerURL": "https://plot.ly"
       },
       "data": [
        {
         "hovertemplate": "variable=outMinusFloor<br>material_type=Light<br>alphaRoof=%{x}<br>value=%{y}<extra></extra>",
         "legendgroup": "outMinusFloor",
         "marker": {
          "color": "#636efa",
          "symbol": "circle"
         },
         "mode": "markers",
         "name": "outMinusFloor",
         "orientation": "v",
         "showlegend": true,
         "type": "scatter",
         "x": [
          0.7092391382721889,
          0.7092391382721889,
          0.7092391382721889,
          0.7092391382721889,
          0.7092391382721889,
          0.7092391382721889,
          0.7092391382721889,
          0.7092391382721889,
          0.7092391382721889,
          0.7092391382721889,
          0.7092391382721889,
          0.7092391382721889,
          0.7092391382721889,
          0.7092391382721889,
          0.7092391382721889,
          0.7092391382721889,
          0.7092391382721889,
          0.7092391382721889,
          0.7092391382721889,
          0.7092391382721889
         ],
         "xaxis": "x",
         "y": [
          1.8116198020231875,
          -2.478429470073081,
          -4.970733929223627,
          -6.129898980149633,
          -6.637356228521028,
          -6.671156060994122,
          -6.51008351898696,
          -6.659921451069621,
          -6.816533110850841,
          1.7192334492559669,
          -2.731970508804295,
          -4.210149535783799,
          -5.126798165441201,
          -5.894148705375045,
          -6.172478903892127,
          -6.08981556075797,
          -6.415370840158133,
          -5.842838955439319,
          -5.987314775493573,
          -6.789119784389015
         ],
         "yaxis": "y"
        },
        {
         "hovertemplate": "<b>OLS trendline</b><br>value = -6.95134<br>R<sup>2</sup>=-0.000000<br><br>variable=outMinusFloor<br>material_type=Light<br>alphaRoof=%{x}<br>value=%{y} <b>(trend)</b><extra></extra>",
         "legendgroup": "outMinusFloor",
         "marker": {
          "color": "#636efa",
          "symbol": "circle"
         },
         "mode": "lines",
         "name": "outMinusFloor",
         "showlegend": false,
         "type": "scatter",
         "x": [
          0.7092391382721889,
          0.7092391382721889,
          0.7092391382721889,
          0.7092391382721889,
          0.7092391382721889,
          0.7092391382721889,
          0.7092391382721889,
          0.7092391382721889,
          0.7092391382721889,
          0.7092391382721889,
          0.7092391382721889,
          0.7092391382721889,
          0.7092391382721889,
          0.7092391382721889,
          0.7092391382721889,
          0.7092391382721889,
          0.7092391382721889,
          0.7092391382721889,
          0.7092391382721889,
          0.7092391382721889
         ],
         "xaxis": "x",
         "y": [
          -4.9301632617062126,
          -4.9301632617062126,
          -4.9301632617062126,
          -4.9301632617062126,
          -4.9301632617062126,
          -4.9301632617062126,
          -4.9301632617062126,
          -4.9301632617062126,
          -4.9301632617062126,
          -4.9301632617062126,
          -4.9301632617062126,
          -4.9301632617062126,
          -4.9301632617062126,
          -4.9301632617062126,
          -4.9301632617062126,
          -4.9301632617062126,
          -4.9301632617062126,
          -4.9301632617062126,
          -4.9301632617062126,
          -4.9301632617062126
         ],
         "yaxis": "y"
        },
        {
         "hovertemplate": "variable=ceilingMinusFloor<br>material_type=Light<br>alphaRoof=%{x}<br>value=%{y}<extra></extra>",
         "legendgroup": "ceilingMinusFloor",
         "marker": {
          "color": "#EF553B",
          "symbol": "circle"
         },
         "mode": "markers",
         "name": "ceilingMinusFloor",
         "orientation": "v",
         "showlegend": true,
         "type": "scatter",
         "x": [
          0.7092391382721889,
          0.7092391382721889,
          0.7092391382721889,
          0.7092391382721889,
          0.7092391382721889,
          0.7092391382721889,
          0.7092391382721889,
          0.7092391382721889,
          0.7092391382721889,
          0.7092391382721889,
          0.7092391382721889,
          0.7092391382721889,
          0.7092391382721889,
          0.7092391382721889,
          0.7092391382721889,
          0.7092391382721889,
          0.7092391382721889,
          0.7092391382721889,
          0.7092391382721889,
          0.7092391382721889
         ],
         "xaxis": "x",
         "y": [
          3.637247839980162,
          3.028434730179285,
          2.2712523710998624,
          1.553569331042425,
          0.9675497261022484,
          0.5072044322537437,
          0.1490503454102452,
          -0.1293944400783147,
          -0.3559285594990058,
          2.9487704729043003,
          2.3587544877354105,
          1.719988253221885,
          1.1638516308415203,
          0.715361868813531,
          0.3491250602000377,
          0.0507510049884274,
          -0.1901511169663479,
          -0.392790201891728,
          -0.5506955600032768,
          -0.6814252101254255
         ],
         "yaxis": "y"
        },
        {
         "hovertemplate": "<b>OLS trendline</b><br>value = 1.34796<br>R<sup>2</sup>=0.000000<br><br>variable=ceilingMinusFloor<br>material_type=Light<br>alphaRoof=%{x}<br>value=%{y} <b>(trend)</b><extra></extra>",
         "legendgroup": "ceilingMinusFloor",
         "marker": {
          "color": "#EF553B",
          "symbol": "circle"
         },
         "mode": "lines",
         "name": "ceilingMinusFloor",
         "showlegend": false,
         "type": "scatter",
         "x": [
          0.7092391382721889,
          0.7092391382721889,
          0.7092391382721889,
          0.7092391382721889,
          0.7092391382721889,
          0.7092391382721889,
          0.7092391382721889,
          0.7092391382721889,
          0.7092391382721889,
          0.7092391382721889,
          0.7092391382721889,
          0.7092391382721889,
          0.7092391382721889,
          0.7092391382721889,
          0.7092391382721889,
          0.7092391382721889,
          0.7092391382721889,
          0.7092391382721889,
          0.7092391382721889,
          0.7092391382721889
         ],
         "xaxis": "x",
         "y": [
          0.9560263233104492,
          0.9560263233104492,
          0.9560263233104492,
          0.9560263233104492,
          0.9560263233104492,
          0.9560263233104492,
          0.9560263233104492,
          0.9560263233104492,
          0.9560263233104492,
          0.9560263233104492,
          0.9560263233104492,
          0.9560263233104492,
          0.9560263233104492,
          0.9560263233104492,
          0.9560263233104492,
          0.9560263233104492,
          0.9560263233104492,
          0.9560263233104492,
          0.9560263233104492,
          0.9560263233104492
         ],
         "yaxis": "y"
        },
        {
         "hovertemplate": "variable=extWallMinusFloor<br>material_type=Light<br>alphaRoof=%{x}<br>value=%{y}<extra></extra>",
         "legendgroup": "extWallMinusFloor",
         "marker": {
          "color": "#00cc96",
          "symbol": "circle"
         },
         "mode": "markers",
         "name": "extWallMinusFloor",
         "orientation": "v",
         "showlegend": true,
         "type": "scatter",
         "x": [
          0.7092391382721889,
          0.7092391382721889,
          0.7092391382721889,
          0.7092391382721889,
          0.7092391382721889,
          0.7092391382721889,
          0.7092391382721889,
          0.7092391382721889,
          0.7092391382721889,
          0.7092391382721889,
          0.7092391382721889,
          0.7092391382721889,
          0.7092391382721889,
          0.7092391382721889,
          0.7092391382721889,
          0.7092391382721889,
          0.7092391382721889,
          0.7092391382721889,
          0.7092391382721889,
          0.7092391382721889
         ],
         "xaxis": "x",
         "y": [
          2.5895164709926064,
          1.835124082927308,
          0.8872479839393463,
          0.0905338631364287,
          -0.499579450385454,
          -0.9160046277651616,
          -1.181517696445198,
          -1.364610023892567,
          -1.5657086044333823,
          2.594257549954648,
          1.7899018024860425,
          0.8541504007546337,
          0.1672629369165719,
          -0.3582103519194817,
          -0.7748483491676126,
          -1.064244532746372,
          -1.2830235756536297,
          -1.447507899324748,
          -1.5223533499075188,
          -1.6824796550483825
         ],
         "yaxis": "y"
        },
        {
         "hovertemplate": "<b>OLS trendline</b><br>value = -0.201067<br>R<sup>2</sup>=-0.000000<br><br>variable=extWallMinusFloor<br>material_type=Light<br>alphaRoof=%{x}<br>value=%{y} <b>(trend)</b><extra></extra>",
         "legendgroup": "extWallMinusFloor",
         "marker": {
          "color": "#00cc96",
          "symbol": "circle"
         },
         "mode": "lines",
         "name": "extWallMinusFloor",
         "showlegend": false,
         "type": "scatter",
         "x": [
          0.7092391382721889,
          0.7092391382721889,
          0.7092391382721889,
          0.7092391382721889,
          0.7092391382721889,
          0.7092391382721889,
          0.7092391382721889,
          0.7092391382721889,
          0.7092391382721889,
          0.7092391382721889,
          0.7092391382721889,
          0.7092391382721889,
          0.7092391382721889,
          0.7092391382721889,
          0.7092391382721889,
          0.7092391382721889,
          0.7092391382721889,
          0.7092391382721889,
          0.7092391382721889,
          0.7092391382721889
         ],
         "xaxis": "x",
         "y": [
          -0.1426046512790962,
          -0.1426046512790962,
          -0.1426046512790962,
          -0.1426046512790962,
          -0.1426046512790962,
          -0.1426046512790962,
          -0.1426046512790962,
          -0.1426046512790962,
          -0.1426046512790962,
          -0.1426046512790962,
          -0.1426046512790962,
          -0.1426046512790962,
          -0.1426046512790962,
          -0.1426046512790962,
          -0.1426046512790962,
          -0.1426046512790962,
          -0.1426046512790962,
          -0.1426046512790962,
          -0.1426046512790962,
          -0.1426046512790962
         ],
         "yaxis": "y"
        },
        {
         "hovertemplate": "variable=intWallMinusFloor<br>material_type=Light<br>alphaRoof=%{x}<br>value=%{y}<extra></extra>",
         "legendgroup": "intWallMinusFloor",
         "marker": {
          "color": "#ab63fa",
          "symbol": "circle"
         },
         "mode": "markers",
         "name": "intWallMinusFloor",
         "orientation": "v",
         "showlegend": true,
         "type": "scatter",
         "x": [
          0.7092391382721889,
          0.7092391382721889,
          0.7092391382721889,
          0.7092391382721889,
          0.7092391382721889,
          0.7092391382721889,
          0.7092391382721889,
          0.7092391382721889,
          0.7092391382721889,
          0.7092391382721889,
          0.7092391382721889,
          0.7092391382721889,
          0.7092391382721889,
          0.7092391382721889,
          0.7092391382721889,
          0.7092391382721889,
          0.7092391382721889,
          0.7092391382721889,
          0.7092391382721889,
          0.7092391382721889
         ],
         "xaxis": "x",
         "y": [
          1.2682374711522943,
          1.57750631731714,
          1.7904386394120309,
          1.8125745878817412,
          1.6816520279888938,
          1.468014877929685,
          1.2194551672836884,
          0.9750091264191476,
          0.7654938453894099,
          1.3309251939227142,
          1.5753271528965815,
          1.7137347076826093,
          1.667692980111454,
          1.5188409868106303,
          1.3259459305329624,
          1.109729253719384,
          0.8978558372781483,
          0.7012304634746348,
          0.5113753886085419,
          0.3686078928533381
         ],
         "yaxis": "y"
        },
        {
         "hovertemplate": "<b>OLS trendline</b><br>value = 1.78217<br>R<sup>2</sup>=0.000000<br><br>variable=intWallMinusFloor<br>material_type=Light<br>alphaRoof=%{x}<br>value=%{y} <b>(trend)</b><extra></extra>",
         "legendgroup": "intWallMinusFloor",
         "marker": {
          "color": "#ab63fa",
          "symbol": "circle"
         },
         "mode": "lines",
         "name": "intWallMinusFloor",
         "showlegend": false,
         "type": "scatter",
         "x": [
          0.7092391382721889,
          0.7092391382721889,
          0.7092391382721889,
          0.7092391382721889,
          0.7092391382721889,
          0.7092391382721889,
          0.7092391382721889,
          0.7092391382721889,
          0.7092391382721889,
          0.7092391382721889,
          0.7092391382721889,
          0.7092391382721889,
          0.7092391382721889,
          0.7092391382721889,
          0.7092391382721889,
          0.7092391382721889,
          0.7092391382721889,
          0.7092391382721889,
          0.7092391382721889,
          0.7092391382721889
         ],
         "xaxis": "x",
         "y": [
          1.2639823924332516,
          1.2639823924332516,
          1.2639823924332516,
          1.2639823924332516,
          1.2639823924332516,
          1.2639823924332516,
          1.2639823924332516,
          1.2639823924332516,
          1.2639823924332516,
          1.2639823924332516,
          1.2639823924332516,
          1.2639823924332516,
          1.2639823924332516,
          1.2639823924332516,
          1.2639823924332516,
          1.2639823924332516,
          1.2639823924332516,
          1.2639823924332516,
          1.2639823924332516,
          1.2639823924332516
         ],
         "yaxis": "y"
        }
       ],
       "layout": {
        "annotations": [
         {
          "font": {},
          "showarrow": false,
          "text": "material_type=Light",
          "x": 0.15999999999999998,
          "xanchor": "center",
          "xref": "paper",
          "y": 1,
          "yanchor": "bottom",
          "yref": "paper"
         },
         {
          "font": {},
          "showarrow": false,
          "text": "material_type=Medium",
          "x": 0.49999999999999994,
          "xanchor": "center",
          "xref": "paper",
          "y": 1,
          "yanchor": "bottom",
          "yref": "paper"
         },
         {
          "font": {},
          "showarrow": false,
          "text": "material_type=Heavy",
          "x": 0.8399999999999999,
          "xanchor": "center",
          "xref": "paper",
          "y": 1,
          "yanchor": "bottom",
          "yref": "paper"
         }
        ],
        "legend": {
         "title": {
          "text": "variable"
         },
         "tracegroupgap": 0
        },
        "margin": {
         "t": 60
        },
        "template": {
         "data": {
          "bar": [
           {
            "error_x": {
             "color": "#2a3f5f"
            },
            "error_y": {
             "color": "#2a3f5f"
            },
            "marker": {
             "line": {
              "color": "#E5ECF6",
              "width": 0.5
             },
             "pattern": {
              "fillmode": "overlay",
              "size": 10,
              "solidity": 0.2
             }
            },
            "type": "bar"
           }
          ],
          "barpolar": [
           {
            "marker": {
             "line": {
              "color": "#E5ECF6",
              "width": 0.5
             },
             "pattern": {
              "fillmode": "overlay",
              "size": 10,
              "solidity": 0.2
             }
            },
            "type": "barpolar"
           }
          ],
          "carpet": [
           {
            "aaxis": {
             "endlinecolor": "#2a3f5f",
             "gridcolor": "white",
             "linecolor": "white",
             "minorgridcolor": "white",
             "startlinecolor": "#2a3f5f"
            },
            "baxis": {
             "endlinecolor": "#2a3f5f",
             "gridcolor": "white",
             "linecolor": "white",
             "minorgridcolor": "white",
             "startlinecolor": "#2a3f5f"
            },
            "type": "carpet"
           }
          ],
          "choropleth": [
           {
            "colorbar": {
             "outlinewidth": 0,
             "ticks": ""
            },
            "type": "choropleth"
           }
          ],
          "contour": [
           {
            "colorbar": {
             "outlinewidth": 0,
             "ticks": ""
            },
            "colorscale": [
             [
              0,
              "#0d0887"
             ],
             [
              0.1111111111111111,
              "#46039f"
             ],
             [
              0.2222222222222222,
              "#7201a8"
             ],
             [
              0.3333333333333333,
              "#9c179e"
             ],
             [
              0.4444444444444444,
              "#bd3786"
             ],
             [
              0.5555555555555556,
              "#d8576b"
             ],
             [
              0.6666666666666666,
              "#ed7953"
             ],
             [
              0.7777777777777778,
              "#fb9f3a"
             ],
             [
              0.8888888888888888,
              "#fdca26"
             ],
             [
              1,
              "#f0f921"
             ]
            ],
            "type": "contour"
           }
          ],
          "contourcarpet": [
           {
            "colorbar": {
             "outlinewidth": 0,
             "ticks": ""
            },
            "type": "contourcarpet"
           }
          ],
          "heatmap": [
           {
            "colorbar": {
             "outlinewidth": 0,
             "ticks": ""
            },
            "colorscale": [
             [
              0,
              "#0d0887"
             ],
             [
              0.1111111111111111,
              "#46039f"
             ],
             [
              0.2222222222222222,
              "#7201a8"
             ],
             [
              0.3333333333333333,
              "#9c179e"
             ],
             [
              0.4444444444444444,
              "#bd3786"
             ],
             [
              0.5555555555555556,
              "#d8576b"
             ],
             [
              0.6666666666666666,
              "#ed7953"
             ],
             [
              0.7777777777777778,
              "#fb9f3a"
             ],
             [
              0.8888888888888888,
              "#fdca26"
             ],
             [
              1,
              "#f0f921"
             ]
            ],
            "type": "heatmap"
           }
          ],
          "heatmapgl": [
           {
            "colorbar": {
             "outlinewidth": 0,
             "ticks": ""
            },
            "colorscale": [
             [
              0,
              "#0d0887"
             ],
             [
              0.1111111111111111,
              "#46039f"
             ],
             [
              0.2222222222222222,
              "#7201a8"
             ],
             [
              0.3333333333333333,
              "#9c179e"
             ],
             [
              0.4444444444444444,
              "#bd3786"
             ],
             [
              0.5555555555555556,
              "#d8576b"
             ],
             [
              0.6666666666666666,
              "#ed7953"
             ],
             [
              0.7777777777777778,
              "#fb9f3a"
             ],
             [
              0.8888888888888888,
              "#fdca26"
             ],
             [
              1,
              "#f0f921"
             ]
            ],
            "type": "heatmapgl"
           }
          ],
          "histogram": [
           {
            "marker": {
             "pattern": {
              "fillmode": "overlay",
              "size": 10,
              "solidity": 0.2
             }
            },
            "type": "histogram"
           }
          ],
          "histogram2d": [
           {
            "colorbar": {
             "outlinewidth": 0,
             "ticks": ""
            },
            "colorscale": [
             [
              0,
              "#0d0887"
             ],
             [
              0.1111111111111111,
              "#46039f"
             ],
             [
              0.2222222222222222,
              "#7201a8"
             ],
             [
              0.3333333333333333,
              "#9c179e"
             ],
             [
              0.4444444444444444,
              "#bd3786"
             ],
             [
              0.5555555555555556,
              "#d8576b"
             ],
             [
              0.6666666666666666,
              "#ed7953"
             ],
             [
              0.7777777777777778,
              "#fb9f3a"
             ],
             [
              0.8888888888888888,
              "#fdca26"
             ],
             [
              1,
              "#f0f921"
             ]
            ],
            "type": "histogram2d"
           }
          ],
          "histogram2dcontour": [
           {
            "colorbar": {
             "outlinewidth": 0,
             "ticks": ""
            },
            "colorscale": [
             [
              0,
              "#0d0887"
             ],
             [
              0.1111111111111111,
              "#46039f"
             ],
             [
              0.2222222222222222,
              "#7201a8"
             ],
             [
              0.3333333333333333,
              "#9c179e"
             ],
             [
              0.4444444444444444,
              "#bd3786"
             ],
             [
              0.5555555555555556,
              "#d8576b"
             ],
             [
              0.6666666666666666,
              "#ed7953"
             ],
             [
              0.7777777777777778,
              "#fb9f3a"
             ],
             [
              0.8888888888888888,
              "#fdca26"
             ],
             [
              1,
              "#f0f921"
             ]
            ],
            "type": "histogram2dcontour"
           }
          ],
          "mesh3d": [
           {
            "colorbar": {
             "outlinewidth": 0,
             "ticks": ""
            },
            "type": "mesh3d"
           }
          ],
          "parcoords": [
           {
            "line": {
             "colorbar": {
              "outlinewidth": 0,
              "ticks": ""
             }
            },
            "type": "parcoords"
           }
          ],
          "pie": [
           {
            "automargin": true,
            "type": "pie"
           }
          ],
          "scatter": [
           {
            "fillpattern": {
             "fillmode": "overlay",
             "size": 10,
             "solidity": 0.2
            },
            "type": "scatter"
           }
          ],
          "scatter3d": [
           {
            "line": {
             "colorbar": {
              "outlinewidth": 0,
              "ticks": ""
             }
            },
            "marker": {
             "colorbar": {
              "outlinewidth": 0,
              "ticks": ""
             }
            },
            "type": "scatter3d"
           }
          ],
          "scattercarpet": [
           {
            "marker": {
             "colorbar": {
              "outlinewidth": 0,
              "ticks": ""
             }
            },
            "type": "scattercarpet"
           }
          ],
          "scattergeo": [
           {
            "marker": {
             "colorbar": {
              "outlinewidth": 0,
              "ticks": ""
             }
            },
            "type": "scattergeo"
           }
          ],
          "scattergl": [
           {
            "marker": {
             "colorbar": {
              "outlinewidth": 0,
              "ticks": ""
             }
            },
            "type": "scattergl"
           }
          ],
          "scattermapbox": [
           {
            "marker": {
             "colorbar": {
              "outlinewidth": 0,
              "ticks": ""
             }
            },
            "type": "scattermapbox"
           }
          ],
          "scatterpolar": [
           {
            "marker": {
             "colorbar": {
              "outlinewidth": 0,
              "ticks": ""
             }
            },
            "type": "scatterpolar"
           }
          ],
          "scatterpolargl": [
           {
            "marker": {
             "colorbar": {
              "outlinewidth": 0,
              "ticks": ""
             }
            },
            "type": "scatterpolargl"
           }
          ],
          "scatterternary": [
           {
            "marker": {
             "colorbar": {
              "outlinewidth": 0,
              "ticks": ""
             }
            },
            "type": "scatterternary"
           }
          ],
          "surface": [
           {
            "colorbar": {
             "outlinewidth": 0,
             "ticks": ""
            },
            "colorscale": [
             [
              0,
              "#0d0887"
             ],
             [
              0.1111111111111111,
              "#46039f"
             ],
             [
              0.2222222222222222,
              "#7201a8"
             ],
             [
              0.3333333333333333,
              "#9c179e"
             ],
             [
              0.4444444444444444,
              "#bd3786"
             ],
             [
              0.5555555555555556,
              "#d8576b"
             ],
             [
              0.6666666666666666,
              "#ed7953"
             ],
             [
              0.7777777777777778,
              "#fb9f3a"
             ],
             [
              0.8888888888888888,
              "#fdca26"
             ],
             [
              1,
              "#f0f921"
             ]
            ],
            "type": "surface"
           }
          ],
          "table": [
           {
            "cells": {
             "fill": {
              "color": "#EBF0F8"
             },
             "line": {
              "color": "white"
             }
            },
            "header": {
             "fill": {
              "color": "#C8D4E3"
             },
             "line": {
              "color": "white"
             }
            },
            "type": "table"
           }
          ]
         },
         "layout": {
          "annotationdefaults": {
           "arrowcolor": "#2a3f5f",
           "arrowhead": 0,
           "arrowwidth": 1
          },
          "autotypenumbers": "strict",
          "coloraxis": {
           "colorbar": {
            "outlinewidth": 0,
            "ticks": ""
           }
          },
          "colorscale": {
           "diverging": [
            [
             0,
             "#8e0152"
            ],
            [
             0.1,
             "#c51b7d"
            ],
            [
             0.2,
             "#de77ae"
            ],
            [
             0.3,
             "#f1b6da"
            ],
            [
             0.4,
             "#fde0ef"
            ],
            [
             0.5,
             "#f7f7f7"
            ],
            [
             0.6,
             "#e6f5d0"
            ],
            [
             0.7,
             "#b8e186"
            ],
            [
             0.8,
             "#7fbc41"
            ],
            [
             0.9,
             "#4d9221"
            ],
            [
             1,
             "#276419"
            ]
           ],
           "sequential": [
            [
             0,
             "#0d0887"
            ],
            [
             0.1111111111111111,
             "#46039f"
            ],
            [
             0.2222222222222222,
             "#7201a8"
            ],
            [
             0.3333333333333333,
             "#9c179e"
            ],
            [
             0.4444444444444444,
             "#bd3786"
            ],
            [
             0.5555555555555556,
             "#d8576b"
            ],
            [
             0.6666666666666666,
             "#ed7953"
            ],
            [
             0.7777777777777778,
             "#fb9f3a"
            ],
            [
             0.8888888888888888,
             "#fdca26"
            ],
            [
             1,
             "#f0f921"
            ]
           ],
           "sequentialminus": [
            [
             0,
             "#0d0887"
            ],
            [
             0.1111111111111111,
             "#46039f"
            ],
            [
             0.2222222222222222,
             "#7201a8"
            ],
            [
             0.3333333333333333,
             "#9c179e"
            ],
            [
             0.4444444444444444,
             "#bd3786"
            ],
            [
             0.5555555555555556,
             "#d8576b"
            ],
            [
             0.6666666666666666,
             "#ed7953"
            ],
            [
             0.7777777777777778,
             "#fb9f3a"
            ],
            [
             0.8888888888888888,
             "#fdca26"
            ],
            [
             1,
             "#f0f921"
            ]
           ]
          },
          "colorway": [
           "#636efa",
           "#EF553B",
           "#00cc96",
           "#ab63fa",
           "#FFA15A",
           "#19d3f3",
           "#FF6692",
           "#B6E880",
           "#FF97FF",
           "#FECB52"
          ],
          "font": {
           "color": "#2a3f5f"
          },
          "geo": {
           "bgcolor": "white",
           "lakecolor": "white",
           "landcolor": "#E5ECF6",
           "showlakes": true,
           "showland": true,
           "subunitcolor": "white"
          },
          "hoverlabel": {
           "align": "left"
          },
          "hovermode": "closest",
          "mapbox": {
           "style": "light"
          },
          "paper_bgcolor": "white",
          "plot_bgcolor": "#E5ECF6",
          "polar": {
           "angularaxis": {
            "gridcolor": "white",
            "linecolor": "white",
            "ticks": ""
           },
           "bgcolor": "#E5ECF6",
           "radialaxis": {
            "gridcolor": "white",
            "linecolor": "white",
            "ticks": ""
           }
          },
          "scene": {
           "xaxis": {
            "backgroundcolor": "#E5ECF6",
            "gridcolor": "white",
            "gridwidth": 2,
            "linecolor": "white",
            "showbackground": true,
            "ticks": "",
            "zerolinecolor": "white"
           },
           "yaxis": {
            "backgroundcolor": "#E5ECF6",
            "gridcolor": "white",
            "gridwidth": 2,
            "linecolor": "white",
            "showbackground": true,
            "ticks": "",
            "zerolinecolor": "white"
           },
           "zaxis": {
            "backgroundcolor": "#E5ECF6",
            "gridcolor": "white",
            "gridwidth": 2,
            "linecolor": "white",
            "showbackground": true,
            "ticks": "",
            "zerolinecolor": "white"
           }
          },
          "shapedefaults": {
           "line": {
            "color": "#2a3f5f"
           }
          },
          "ternary": {
           "aaxis": {
            "gridcolor": "white",
            "linecolor": "white",
            "ticks": ""
           },
           "baxis": {
            "gridcolor": "white",
            "linecolor": "white",
            "ticks": ""
           },
           "bgcolor": "#E5ECF6",
           "caxis": {
            "gridcolor": "white",
            "linecolor": "white",
            "ticks": ""
           }
          },
          "title": {
           "x": 0.05
          },
          "xaxis": {
           "automargin": true,
           "gridcolor": "white",
           "linecolor": "white",
           "ticks": "",
           "title": {
            "standoff": 15
           },
           "zerolinecolor": "white",
           "zerolinewidth": 2
          },
          "yaxis": {
           "automargin": true,
           "gridcolor": "white",
           "linecolor": "white",
           "ticks": "",
           "title": {
            "standoff": 15
           },
           "zerolinecolor": "white",
           "zerolinewidth": 2
          }
         }
        },
        "xaxis": {
         "anchor": "y",
         "domain": [
          0,
          0.31999999999999995
         ],
         "title": {
          "text": "alphaRoof"
         }
        },
        "xaxis2": {
         "anchor": "y2",
         "domain": [
          0.33999999999999997,
          0.6599999999999999
         ],
         "matches": "x",
         "title": {
          "text": "alphaRoof"
         }
        },
        "xaxis3": {
         "anchor": "y3",
         "domain": [
          0.6799999999999999,
          0.9999999999999999
         ],
         "matches": "x",
         "title": {
          "text": "alphaRoof"
         }
        },
        "yaxis": {
         "anchor": "x",
         "domain": [
          0,
          1
         ],
         "title": {
          "text": "value"
         }
        },
        "yaxis2": {
         "anchor": "x2",
         "domain": [
          0,
          1
         ],
         "matches": "y",
         "showticklabels": false
        },
        "yaxis3": {
         "anchor": "x3",
         "domain": [
          0,
          1
         ],
         "matches": "y",
         "showticklabels": false
        }
       }
      }
     },
     "metadata": {},
     "output_type": "display_data"
    },
    {
     "data": {
      "application/vnd.plotly.v1+json": {
       "config": {
        "plotlyServerURL": "https://plot.ly"
       },
       "data": [
        {
         "hovertemplate": "variable=outMinusFloor<br>material_type=Light<br>dVent=%{x}<br>value=%{y}<extra></extra>",
         "legendgroup": "outMinusFloor",
         "marker": {
          "color": "#636efa",
          "symbol": "circle"
         },
         "mode": "markers",
         "name": "outMinusFloor",
         "orientation": "v",
         "showlegend": true,
         "type": "scatter",
         "x": [
          0,
          0,
          0,
          0,
          0,
          0,
          0,
          0,
          0,
          0,
          0,
          0,
          0,
          0,
          0,
          0,
          0,
          0,
          0,
          0
         ],
         "xaxis": "x",
         "y": [
          1.8116198020231875,
          -2.478429470073081,
          -4.970733929223627,
          -6.129898980149633,
          -6.637356228521028,
          -6.671156060994122,
          -6.51008351898696,
          -6.659921451069621,
          -6.816533110850841,
          1.7192334492559669,
          -2.731970508804295,
          -4.210149535783799,
          -5.126798165441201,
          -5.894148705375045,
          -6.172478903892127,
          -6.08981556075797,
          -6.415370840158133,
          -5.842838955439319,
          -5.987314775493573,
          -6.789119784389015
         ],
         "yaxis": "y"
        },
        {
         "hovertemplate": "<b>OLS trendline</b><br>value = 0 * dVent + -4.93016<br>R<sup>2</sup>=0.000000<br><br>variable=outMinusFloor<br>material_type=Light<br>dVent=%{x}<br>value=%{y} <b>(trend)</b><extra></extra>",
         "legendgroup": "outMinusFloor",
         "marker": {
          "color": "#636efa",
          "symbol": "circle"
         },
         "mode": "lines",
         "name": "outMinusFloor",
         "showlegend": false,
         "type": "scatter",
         "x": [
          0,
          0,
          0,
          0,
          0,
          0,
          0,
          0,
          0,
          0,
          0,
          0,
          0,
          0,
          0,
          0,
          0,
          0,
          0,
          0
         ],
         "xaxis": "x",
         "y": [
          -4.930163261706211,
          -4.930163261706211,
          -4.930163261706211,
          -4.930163261706211,
          -4.930163261706211,
          -4.930163261706211,
          -4.930163261706211,
          -4.930163261706211,
          -4.930163261706211,
          -4.930163261706211,
          -4.930163261706211,
          -4.930163261706211,
          -4.930163261706211,
          -4.930163261706211,
          -4.930163261706211,
          -4.930163261706211,
          -4.930163261706211,
          -4.930163261706211,
          -4.930163261706211,
          -4.930163261706211
         ],
         "yaxis": "y"
        },
        {
         "hovertemplate": "variable=ceilingMinusFloor<br>material_type=Light<br>dVent=%{x}<br>value=%{y}<extra></extra>",
         "legendgroup": "ceilingMinusFloor",
         "marker": {
          "color": "#EF553B",
          "symbol": "circle"
         },
         "mode": "markers",
         "name": "ceilingMinusFloor",
         "orientation": "v",
         "showlegend": true,
         "type": "scatter",
         "x": [
          0,
          0,
          0,
          0,
          0,
          0,
          0,
          0,
          0,
          0,
          0,
          0,
          0,
          0,
          0,
          0,
          0,
          0,
          0,
          0
         ],
         "xaxis": "x",
         "y": [
          3.637247839980162,
          3.028434730179285,
          2.2712523710998624,
          1.553569331042425,
          0.9675497261022484,
          0.5072044322537437,
          0.1490503454102452,
          -0.1293944400783147,
          -0.3559285594990058,
          2.9487704729043003,
          2.3587544877354105,
          1.719988253221885,
          1.1638516308415203,
          0.715361868813531,
          0.3491250602000377,
          0.0507510049884274,
          -0.1901511169663479,
          -0.392790201891728,
          -0.5506955600032768,
          -0.6814252101254255
         ],
         "yaxis": "y"
        },
        {
         "hovertemplate": "<b>OLS trendline</b><br>value = 0 * dVent + 0.956026<br>R<sup>2</sup>=0.000000<br><br>variable=ceilingMinusFloor<br>material_type=Light<br>dVent=%{x}<br>value=%{y} <b>(trend)</b><extra></extra>",
         "legendgroup": "ceilingMinusFloor",
         "marker": {
          "color": "#EF553B",
          "symbol": "circle"
         },
         "mode": "lines",
         "name": "ceilingMinusFloor",
         "showlegend": false,
         "type": "scatter",
         "x": [
          0,
          0,
          0,
          0,
          0,
          0,
          0,
          0,
          0,
          0,
          0,
          0,
          0,
          0,
          0,
          0,
          0,
          0,
          0,
          0
         ],
         "xaxis": "x",
         "y": [
          0.956026323310449,
          0.956026323310449,
          0.956026323310449,
          0.956026323310449,
          0.956026323310449,
          0.956026323310449,
          0.956026323310449,
          0.956026323310449,
          0.956026323310449,
          0.956026323310449,
          0.956026323310449,
          0.956026323310449,
          0.956026323310449,
          0.956026323310449,
          0.956026323310449,
          0.956026323310449,
          0.956026323310449,
          0.956026323310449,
          0.956026323310449,
          0.956026323310449
         ],
         "yaxis": "y"
        },
        {
         "hovertemplate": "variable=extWallMinusFloor<br>material_type=Light<br>dVent=%{x}<br>value=%{y}<extra></extra>",
         "legendgroup": "extWallMinusFloor",
         "marker": {
          "color": "#00cc96",
          "symbol": "circle"
         },
         "mode": "markers",
         "name": "extWallMinusFloor",
         "orientation": "v",
         "showlegend": true,
         "type": "scatter",
         "x": [
          0,
          0,
          0,
          0,
          0,
          0,
          0,
          0,
          0,
          0,
          0,
          0,
          0,
          0,
          0,
          0,
          0,
          0,
          0,
          0
         ],
         "xaxis": "x",
         "y": [
          2.5895164709926064,
          1.835124082927308,
          0.8872479839393463,
          0.0905338631364287,
          -0.499579450385454,
          -0.9160046277651616,
          -1.181517696445198,
          -1.364610023892567,
          -1.5657086044333823,
          2.594257549954648,
          1.7899018024860425,
          0.8541504007546337,
          0.1672629369165719,
          -0.3582103519194817,
          -0.7748483491676126,
          -1.064244532746372,
          -1.2830235756536297,
          -1.447507899324748,
          -1.5223533499075188,
          -1.6824796550483825
         ],
         "yaxis": "y"
        },
        {
         "hovertemplate": "<b>OLS trendline</b><br>value = 0 * dVent + -0.142605<br>R<sup>2</sup>=0.000000<br><br>variable=extWallMinusFloor<br>material_type=Light<br>dVent=%{x}<br>value=%{y} <b>(trend)</b><extra></extra>",
         "legendgroup": "extWallMinusFloor",
         "marker": {
          "color": "#00cc96",
          "symbol": "circle"
         },
         "mode": "lines",
         "name": "extWallMinusFloor",
         "showlegend": false,
         "type": "scatter",
         "x": [
          0,
          0,
          0,
          0,
          0,
          0,
          0,
          0,
          0,
          0,
          0,
          0,
          0,
          0,
          0,
          0,
          0,
          0,
          0,
          0
         ],
         "xaxis": "x",
         "y": [
          -0.1426046512790961,
          -0.1426046512790961,
          -0.1426046512790961,
          -0.1426046512790961,
          -0.1426046512790961,
          -0.1426046512790961,
          -0.1426046512790961,
          -0.1426046512790961,
          -0.1426046512790961,
          -0.1426046512790961,
          -0.1426046512790961,
          -0.1426046512790961,
          -0.1426046512790961,
          -0.1426046512790961,
          -0.1426046512790961,
          -0.1426046512790961,
          -0.1426046512790961,
          -0.1426046512790961,
          -0.1426046512790961,
          -0.1426046512790961
         ],
         "yaxis": "y"
        },
        {
         "hovertemplate": "variable=intWallMinusFloor<br>material_type=Light<br>dVent=%{x}<br>value=%{y}<extra></extra>",
         "legendgroup": "intWallMinusFloor",
         "marker": {
          "color": "#ab63fa",
          "symbol": "circle"
         },
         "mode": "markers",
         "name": "intWallMinusFloor",
         "orientation": "v",
         "showlegend": true,
         "type": "scatter",
         "x": [
          0,
          0,
          0,
          0,
          0,
          0,
          0,
          0,
          0,
          0,
          0,
          0,
          0,
          0,
          0,
          0,
          0,
          0,
          0,
          0
         ],
         "xaxis": "x",
         "y": [
          1.2682374711522943,
          1.57750631731714,
          1.7904386394120309,
          1.8125745878817412,
          1.6816520279888938,
          1.468014877929685,
          1.2194551672836884,
          0.9750091264191476,
          0.7654938453894099,
          1.3309251939227142,
          1.5753271528965815,
          1.7137347076826093,
          1.667692980111454,
          1.5188409868106303,
          1.3259459305329624,
          1.109729253719384,
          0.8978558372781483,
          0.7012304634746348,
          0.5113753886085419,
          0.3686078928533381
         ],
         "yaxis": "y"
        },
        {
         "hovertemplate": "<b>OLS trendline</b><br>value = 0 * dVent + 1.26398<br>R<sup>2</sup>=0.000000<br><br>variable=intWallMinusFloor<br>material_type=Light<br>dVent=%{x}<br>value=%{y} <b>(trend)</b><extra></extra>",
         "legendgroup": "intWallMinusFloor",
         "marker": {
          "color": "#ab63fa",
          "symbol": "circle"
         },
         "mode": "lines",
         "name": "intWallMinusFloor",
         "showlegend": false,
         "type": "scatter",
         "x": [
          0,
          0,
          0,
          0,
          0,
          0,
          0,
          0,
          0,
          0,
          0,
          0,
          0,
          0,
          0,
          0,
          0,
          0,
          0,
          0
         ],
         "xaxis": "x",
         "y": [
          1.2639823924332512,
          1.2639823924332512,
          1.2639823924332512,
          1.2639823924332512,
          1.2639823924332512,
          1.2639823924332512,
          1.2639823924332512,
          1.2639823924332512,
          1.2639823924332512,
          1.2639823924332512,
          1.2639823924332512,
          1.2639823924332512,
          1.2639823924332512,
          1.2639823924332512,
          1.2639823924332512,
          1.2639823924332512,
          1.2639823924332512,
          1.2639823924332512,
          1.2639823924332512,
          1.2639823924332512
         ],
         "yaxis": "y"
        }
       ],
       "layout": {
        "annotations": [
         {
          "font": {},
          "showarrow": false,
          "text": "material_type=Light",
          "x": 0.15999999999999998,
          "xanchor": "center",
          "xref": "paper",
          "y": 1,
          "yanchor": "bottom",
          "yref": "paper"
         },
         {
          "font": {},
          "showarrow": false,
          "text": "material_type=Medium",
          "x": 0.49999999999999994,
          "xanchor": "center",
          "xref": "paper",
          "y": 1,
          "yanchor": "bottom",
          "yref": "paper"
         },
         {
          "font": {},
          "showarrow": false,
          "text": "material_type=Heavy",
          "x": 0.8399999999999999,
          "xanchor": "center",
          "xref": "paper",
          "y": 1,
          "yanchor": "bottom",
          "yref": "paper"
         }
        ],
        "legend": {
         "title": {
          "text": "variable"
         },
         "tracegroupgap": 0
        },
        "margin": {
         "t": 60
        },
        "template": {
         "data": {
          "bar": [
           {
            "error_x": {
             "color": "#2a3f5f"
            },
            "error_y": {
             "color": "#2a3f5f"
            },
            "marker": {
             "line": {
              "color": "#E5ECF6",
              "width": 0.5
             },
             "pattern": {
              "fillmode": "overlay",
              "size": 10,
              "solidity": 0.2
             }
            },
            "type": "bar"
           }
          ],
          "barpolar": [
           {
            "marker": {
             "line": {
              "color": "#E5ECF6",
              "width": 0.5
             },
             "pattern": {
              "fillmode": "overlay",
              "size": 10,
              "solidity": 0.2
             }
            },
            "type": "barpolar"
           }
          ],
          "carpet": [
           {
            "aaxis": {
             "endlinecolor": "#2a3f5f",
             "gridcolor": "white",
             "linecolor": "white",
             "minorgridcolor": "white",
             "startlinecolor": "#2a3f5f"
            },
            "baxis": {
             "endlinecolor": "#2a3f5f",
             "gridcolor": "white",
             "linecolor": "white",
             "minorgridcolor": "white",
             "startlinecolor": "#2a3f5f"
            },
            "type": "carpet"
           }
          ],
          "choropleth": [
           {
            "colorbar": {
             "outlinewidth": 0,
             "ticks": ""
            },
            "type": "choropleth"
           }
          ],
          "contour": [
           {
            "colorbar": {
             "outlinewidth": 0,
             "ticks": ""
            },
            "colorscale": [
             [
              0,
              "#0d0887"
             ],
             [
              0.1111111111111111,
              "#46039f"
             ],
             [
              0.2222222222222222,
              "#7201a8"
             ],
             [
              0.3333333333333333,
              "#9c179e"
             ],
             [
              0.4444444444444444,
              "#bd3786"
             ],
             [
              0.5555555555555556,
              "#d8576b"
             ],
             [
              0.6666666666666666,
              "#ed7953"
             ],
             [
              0.7777777777777778,
              "#fb9f3a"
             ],
             [
              0.8888888888888888,
              "#fdca26"
             ],
             [
              1,
              "#f0f921"
             ]
            ],
            "type": "contour"
           }
          ],
          "contourcarpet": [
           {
            "colorbar": {
             "outlinewidth": 0,
             "ticks": ""
            },
            "type": "contourcarpet"
           }
          ],
          "heatmap": [
           {
            "colorbar": {
             "outlinewidth": 0,
             "ticks": ""
            },
            "colorscale": [
             [
              0,
              "#0d0887"
             ],
             [
              0.1111111111111111,
              "#46039f"
             ],
             [
              0.2222222222222222,
              "#7201a8"
             ],
             [
              0.3333333333333333,
              "#9c179e"
             ],
             [
              0.4444444444444444,
              "#bd3786"
             ],
             [
              0.5555555555555556,
              "#d8576b"
             ],
             [
              0.6666666666666666,
              "#ed7953"
             ],
             [
              0.7777777777777778,
              "#fb9f3a"
             ],
             [
              0.8888888888888888,
              "#fdca26"
             ],
             [
              1,
              "#f0f921"
             ]
            ],
            "type": "heatmap"
           }
          ],
          "heatmapgl": [
           {
            "colorbar": {
             "outlinewidth": 0,
             "ticks": ""
            },
            "colorscale": [
             [
              0,
              "#0d0887"
             ],
             [
              0.1111111111111111,
              "#46039f"
             ],
             [
              0.2222222222222222,
              "#7201a8"
             ],
             [
              0.3333333333333333,
              "#9c179e"
             ],
             [
              0.4444444444444444,
              "#bd3786"
             ],
             [
              0.5555555555555556,
              "#d8576b"
             ],
             [
              0.6666666666666666,
              "#ed7953"
             ],
             [
              0.7777777777777778,
              "#fb9f3a"
             ],
             [
              0.8888888888888888,
              "#fdca26"
             ],
             [
              1,
              "#f0f921"
             ]
            ],
            "type": "heatmapgl"
           }
          ],
          "histogram": [
           {
            "marker": {
             "pattern": {
              "fillmode": "overlay",
              "size": 10,
              "solidity": 0.2
             }
            },
            "type": "histogram"
           }
          ],
          "histogram2d": [
           {
            "colorbar": {
             "outlinewidth": 0,
             "ticks": ""
            },
            "colorscale": [
             [
              0,
              "#0d0887"
             ],
             [
              0.1111111111111111,
              "#46039f"
             ],
             [
              0.2222222222222222,
              "#7201a8"
             ],
             [
              0.3333333333333333,
              "#9c179e"
             ],
             [
              0.4444444444444444,
              "#bd3786"
             ],
             [
              0.5555555555555556,
              "#d8576b"
             ],
             [
              0.6666666666666666,
              "#ed7953"
             ],
             [
              0.7777777777777778,
              "#fb9f3a"
             ],
             [
              0.8888888888888888,
              "#fdca26"
             ],
             [
              1,
              "#f0f921"
             ]
            ],
            "type": "histogram2d"
           }
          ],
          "histogram2dcontour": [
           {
            "colorbar": {
             "outlinewidth": 0,
             "ticks": ""
            },
            "colorscale": [
             [
              0,
              "#0d0887"
             ],
             [
              0.1111111111111111,
              "#46039f"
             ],
             [
              0.2222222222222222,
              "#7201a8"
             ],
             [
              0.3333333333333333,
              "#9c179e"
             ],
             [
              0.4444444444444444,
              "#bd3786"
             ],
             [
              0.5555555555555556,
              "#d8576b"
             ],
             [
              0.6666666666666666,
              "#ed7953"
             ],
             [
              0.7777777777777778,
              "#fb9f3a"
             ],
             [
              0.8888888888888888,
              "#fdca26"
             ],
             [
              1,
              "#f0f921"
             ]
            ],
            "type": "histogram2dcontour"
           }
          ],
          "mesh3d": [
           {
            "colorbar": {
             "outlinewidth": 0,
             "ticks": ""
            },
            "type": "mesh3d"
           }
          ],
          "parcoords": [
           {
            "line": {
             "colorbar": {
              "outlinewidth": 0,
              "ticks": ""
             }
            },
            "type": "parcoords"
           }
          ],
          "pie": [
           {
            "automargin": true,
            "type": "pie"
           }
          ],
          "scatter": [
           {
            "fillpattern": {
             "fillmode": "overlay",
             "size": 10,
             "solidity": 0.2
            },
            "type": "scatter"
           }
          ],
          "scatter3d": [
           {
            "line": {
             "colorbar": {
              "outlinewidth": 0,
              "ticks": ""
             }
            },
            "marker": {
             "colorbar": {
              "outlinewidth": 0,
              "ticks": ""
             }
            },
            "type": "scatter3d"
           }
          ],
          "scattercarpet": [
           {
            "marker": {
             "colorbar": {
              "outlinewidth": 0,
              "ticks": ""
             }
            },
            "type": "scattercarpet"
           }
          ],
          "scattergeo": [
           {
            "marker": {
             "colorbar": {
              "outlinewidth": 0,
              "ticks": ""
             }
            },
            "type": "scattergeo"
           }
          ],
          "scattergl": [
           {
            "marker": {
             "colorbar": {
              "outlinewidth": 0,
              "ticks": ""
             }
            },
            "type": "scattergl"
           }
          ],
          "scattermapbox": [
           {
            "marker": {
             "colorbar": {
              "outlinewidth": 0,
              "ticks": ""
             }
            },
            "type": "scattermapbox"
           }
          ],
          "scatterpolar": [
           {
            "marker": {
             "colorbar": {
              "outlinewidth": 0,
              "ticks": ""
             }
            },
            "type": "scatterpolar"
           }
          ],
          "scatterpolargl": [
           {
            "marker": {
             "colorbar": {
              "outlinewidth": 0,
              "ticks": ""
             }
            },
            "type": "scatterpolargl"
           }
          ],
          "scatterternary": [
           {
            "marker": {
             "colorbar": {
              "outlinewidth": 0,
              "ticks": ""
             }
            },
            "type": "scatterternary"
           }
          ],
          "surface": [
           {
            "colorbar": {
             "outlinewidth": 0,
             "ticks": ""
            },
            "colorscale": [
             [
              0,
              "#0d0887"
             ],
             [
              0.1111111111111111,
              "#46039f"
             ],
             [
              0.2222222222222222,
              "#7201a8"
             ],
             [
              0.3333333333333333,
              "#9c179e"
             ],
             [
              0.4444444444444444,
              "#bd3786"
             ],
             [
              0.5555555555555556,
              "#d8576b"
             ],
             [
              0.6666666666666666,
              "#ed7953"
             ],
             [
              0.7777777777777778,
              "#fb9f3a"
             ],
             [
              0.8888888888888888,
              "#fdca26"
             ],
             [
              1,
              "#f0f921"
             ]
            ],
            "type": "surface"
           }
          ],
          "table": [
           {
            "cells": {
             "fill": {
              "color": "#EBF0F8"
             },
             "line": {
              "color": "white"
             }
            },
            "header": {
             "fill": {
              "color": "#C8D4E3"
             },
             "line": {
              "color": "white"
             }
            },
            "type": "table"
           }
          ]
         },
         "layout": {
          "annotationdefaults": {
           "arrowcolor": "#2a3f5f",
           "arrowhead": 0,
           "arrowwidth": 1
          },
          "autotypenumbers": "strict",
          "coloraxis": {
           "colorbar": {
            "outlinewidth": 0,
            "ticks": ""
           }
          },
          "colorscale": {
           "diverging": [
            [
             0,
             "#8e0152"
            ],
            [
             0.1,
             "#c51b7d"
            ],
            [
             0.2,
             "#de77ae"
            ],
            [
             0.3,
             "#f1b6da"
            ],
            [
             0.4,
             "#fde0ef"
            ],
            [
             0.5,
             "#f7f7f7"
            ],
            [
             0.6,
             "#e6f5d0"
            ],
            [
             0.7,
             "#b8e186"
            ],
            [
             0.8,
             "#7fbc41"
            ],
            [
             0.9,
             "#4d9221"
            ],
            [
             1,
             "#276419"
            ]
           ],
           "sequential": [
            [
             0,
             "#0d0887"
            ],
            [
             0.1111111111111111,
             "#46039f"
            ],
            [
             0.2222222222222222,
             "#7201a8"
            ],
            [
             0.3333333333333333,
             "#9c179e"
            ],
            [
             0.4444444444444444,
             "#bd3786"
            ],
            [
             0.5555555555555556,
             "#d8576b"
            ],
            [
             0.6666666666666666,
             "#ed7953"
            ],
            [
             0.7777777777777778,
             "#fb9f3a"
            ],
            [
             0.8888888888888888,
             "#fdca26"
            ],
            [
             1,
             "#f0f921"
            ]
           ],
           "sequentialminus": [
            [
             0,
             "#0d0887"
            ],
            [
             0.1111111111111111,
             "#46039f"
            ],
            [
             0.2222222222222222,
             "#7201a8"
            ],
            [
             0.3333333333333333,
             "#9c179e"
            ],
            [
             0.4444444444444444,
             "#bd3786"
            ],
            [
             0.5555555555555556,
             "#d8576b"
            ],
            [
             0.6666666666666666,
             "#ed7953"
            ],
            [
             0.7777777777777778,
             "#fb9f3a"
            ],
            [
             0.8888888888888888,
             "#fdca26"
            ],
            [
             1,
             "#f0f921"
            ]
           ]
          },
          "colorway": [
           "#636efa",
           "#EF553B",
           "#00cc96",
           "#ab63fa",
           "#FFA15A",
           "#19d3f3",
           "#FF6692",
           "#B6E880",
           "#FF97FF",
           "#FECB52"
          ],
          "font": {
           "color": "#2a3f5f"
          },
          "geo": {
           "bgcolor": "white",
           "lakecolor": "white",
           "landcolor": "#E5ECF6",
           "showlakes": true,
           "showland": true,
           "subunitcolor": "white"
          },
          "hoverlabel": {
           "align": "left"
          },
          "hovermode": "closest",
          "mapbox": {
           "style": "light"
          },
          "paper_bgcolor": "white",
          "plot_bgcolor": "#E5ECF6",
          "polar": {
           "angularaxis": {
            "gridcolor": "white",
            "linecolor": "white",
            "ticks": ""
           },
           "bgcolor": "#E5ECF6",
           "radialaxis": {
            "gridcolor": "white",
            "linecolor": "white",
            "ticks": ""
           }
          },
          "scene": {
           "xaxis": {
            "backgroundcolor": "#E5ECF6",
            "gridcolor": "white",
            "gridwidth": 2,
            "linecolor": "white",
            "showbackground": true,
            "ticks": "",
            "zerolinecolor": "white"
           },
           "yaxis": {
            "backgroundcolor": "#E5ECF6",
            "gridcolor": "white",
            "gridwidth": 2,
            "linecolor": "white",
            "showbackground": true,
            "ticks": "",
            "zerolinecolor": "white"
           },
           "zaxis": {
            "backgroundcolor": "#E5ECF6",
            "gridcolor": "white",
            "gridwidth": 2,
            "linecolor": "white",
            "showbackground": true,
            "ticks": "",
            "zerolinecolor": "white"
           }
          },
          "shapedefaults": {
           "line": {
            "color": "#2a3f5f"
           }
          },
          "ternary": {
           "aaxis": {
            "gridcolor": "white",
            "linecolor": "white",
            "ticks": ""
           },
           "baxis": {
            "gridcolor": "white",
            "linecolor": "white",
            "ticks": ""
           },
           "bgcolor": "#E5ECF6",
           "caxis": {
            "gridcolor": "white",
            "linecolor": "white",
            "ticks": ""
           }
          },
          "title": {
           "x": 0.05
          },
          "xaxis": {
           "automargin": true,
           "gridcolor": "white",
           "linecolor": "white",
           "ticks": "",
           "title": {
            "standoff": 15
           },
           "zerolinecolor": "white",
           "zerolinewidth": 2
          },
          "yaxis": {
           "automargin": true,
           "gridcolor": "white",
           "linecolor": "white",
           "ticks": "",
           "title": {
            "standoff": 15
           },
           "zerolinecolor": "white",
           "zerolinewidth": 2
          }
         }
        },
        "xaxis": {
         "anchor": "y",
         "domain": [
          0,
          0.31999999999999995
         ],
         "title": {
          "text": "dVent"
         }
        },
        "xaxis2": {
         "anchor": "y2",
         "domain": [
          0.33999999999999997,
          0.6599999999999999
         ],
         "matches": "x",
         "title": {
          "text": "dVent"
         }
        },
        "xaxis3": {
         "anchor": "y3",
         "domain": [
          0.6799999999999999,
          0.9999999999999999
         ],
         "matches": "x",
         "title": {
          "text": "dVent"
         }
        },
        "yaxis": {
         "anchor": "x",
         "domain": [
          0,
          1
         ],
         "title": {
          "text": "value"
         }
        },
        "yaxis2": {
         "anchor": "x2",
         "domain": [
          0,
          1
         ],
         "matches": "y",
         "showticklabels": false
        },
        "yaxis3": {
         "anchor": "x3",
         "domain": [
          0,
          1
         ],
         "matches": "y",
         "showticklabels": false
        }
       }
      }
     },
     "metadata": {},
     "output_type": "display_data"
    },
    {
     "ename": "ValueError",
     "evalue": "Value of 'x' is not the name of a column in 'data_frame'. Expected one of ['floorTempAdjustment', 'hInterior', 'hExterior', 'alphaRoof', 'material_type', 'windSpeed', 'wallRoughness', 'group', 'hVent', 'dVent', 'nVent', 'ceilingMinusFloor', 'outMinusFloor', 'intWallMinusFloor', 'extWallMinusFloor', 'run', 'Ri', 'logRi'] but received: hDayVent",
     "output_type": "error",
     "traceback": [
      "\u001b[0;31m---------------------------------------------------------------------------\u001b[0m",
      "\u001b[0;31mValueError\u001b[0m                                Traceback (most recent call last)",
      "Cell \u001b[0;32mIn[13], line 10\u001b[0m\n\u001b[1;32m      8\u001b[0m fig \u001b[38;5;241m=\u001b[39m px\u001b[38;5;241m.\u001b[39mscatter(dfFull, x\u001b[38;5;241m=\u001b[39m\u001b[38;5;124m\"\u001b[39m\u001b[38;5;124mdVent\u001b[39m\u001b[38;5;124m\"\u001b[39m, y\u001b[38;5;241m=\u001b[39mqois, facet_col\u001b[38;5;241m=\u001b[39m\u001b[38;5;124m\"\u001b[39m\u001b[38;5;124mmaterial_type\u001b[39m\u001b[38;5;124m\"\u001b[39m, trendline\u001b[38;5;241m=\u001b[39m\u001b[38;5;124m\"\u001b[39m\u001b[38;5;124mols\u001b[39m\u001b[38;5;124m\"\u001b[39m, category_orders\u001b[38;5;241m=\u001b[39m{\u001b[38;5;124m'\u001b[39m\u001b[38;5;124mmaterial_type\u001b[39m\u001b[38;5;124m'\u001b[39m: facet_col_order})\n\u001b[1;32m      9\u001b[0m fig\u001b[38;5;241m.\u001b[39mshow()\n\u001b[0;32m---> 10\u001b[0m fig \u001b[38;5;241m=\u001b[39m \u001b[43mpx\u001b[49m\u001b[38;5;241;43m.\u001b[39;49m\u001b[43mscatter\u001b[49m\u001b[43m(\u001b[49m\u001b[43mdfFull\u001b[49m\u001b[43m,\u001b[49m\u001b[43m \u001b[49m\u001b[43mx\u001b[49m\u001b[38;5;241;43m=\u001b[39;49m\u001b[38;5;124;43m\"\u001b[39;49m\u001b[38;5;124;43mhDayVent\u001b[39;49m\u001b[38;5;124;43m\"\u001b[39;49m\u001b[43m,\u001b[49m\u001b[43m \u001b[49m\u001b[43my\u001b[49m\u001b[38;5;241;43m=\u001b[39;49m\u001b[43mqois\u001b[49m\u001b[43m,\u001b[49m\u001b[43m \u001b[49m\u001b[43mfacet_col\u001b[49m\u001b[38;5;241;43m=\u001b[39;49m\u001b[38;5;124;43m\"\u001b[39;49m\u001b[38;5;124;43mmaterial_type\u001b[39;49m\u001b[38;5;124;43m\"\u001b[39;49m\u001b[43m,\u001b[49m\u001b[43m \u001b[49m\u001b[43mtrendline\u001b[49m\u001b[38;5;241;43m=\u001b[39;49m\u001b[38;5;124;43m\"\u001b[39;49m\u001b[38;5;124;43mols\u001b[39;49m\u001b[38;5;124;43m\"\u001b[39;49m\u001b[43m,\u001b[49m\u001b[43m \u001b[49m\u001b[43mcategory_orders\u001b[49m\u001b[38;5;241;43m=\u001b[39;49m\u001b[43m{\u001b[49m\u001b[38;5;124;43m'\u001b[39;49m\u001b[38;5;124;43mmaterial_type\u001b[39;49m\u001b[38;5;124;43m'\u001b[39;49m\u001b[43m:\u001b[49m\u001b[43m \u001b[49m\u001b[43mfacet_col_order\u001b[49m\u001b[43m}\u001b[49m\u001b[43m)\u001b[49m\n\u001b[1;32m     11\u001b[0m fig\u001b[38;5;241m.\u001b[39mshow()\n\u001b[1;32m     12\u001b[0m fig \u001b[38;5;241m=\u001b[39m px\u001b[38;5;241m.\u001b[39mscatter(dfFull, x\u001b[38;5;241m=\u001b[39m\u001b[38;5;124m\"\u001b[39m\u001b[38;5;124mwindSpeed\u001b[39m\u001b[38;5;124m\"\u001b[39m, y\u001b[38;5;241m=\u001b[39mqois, facet_col\u001b[38;5;241m=\u001b[39m\u001b[38;5;124m\"\u001b[39m\u001b[38;5;124mmaterial_type\u001b[39m\u001b[38;5;124m\"\u001b[39m, trendline\u001b[38;5;241m=\u001b[39m\u001b[38;5;124m\"\u001b[39m\u001b[38;5;124mols\u001b[39m\u001b[38;5;124m\"\u001b[39m, category_orders\u001b[38;5;241m=\u001b[39m{\u001b[38;5;124m'\u001b[39m\u001b[38;5;124mmaterial_type\u001b[39m\u001b[38;5;124m'\u001b[39m: facet_col_order})\n",
      "File \u001b[0;32m/opt/homebrew/Caskroom/miniconda/base/envs/pycascade/lib/python3.10/site-packages/plotly/express/_chart_types.py:66\u001b[0m, in \u001b[0;36mscatter\u001b[0;34m(data_frame, x, y, color, symbol, size, hover_name, hover_data, custom_data, text, facet_row, facet_col, facet_col_wrap, facet_row_spacing, facet_col_spacing, error_x, error_x_minus, error_y, error_y_minus, animation_frame, animation_group, category_orders, labels, orientation, color_discrete_sequence, color_discrete_map, color_continuous_scale, range_color, color_continuous_midpoint, symbol_sequence, symbol_map, opacity, size_max, marginal_x, marginal_y, trendline, trendline_options, trendline_color_override, trendline_scope, log_x, log_y, range_x, range_y, render_mode, title, template, width, height)\u001b[0m\n\u001b[1;32m     12\u001b[0m \u001b[38;5;28;01mdef\u001b[39;00m \u001b[38;5;21mscatter\u001b[39m(\n\u001b[1;32m     13\u001b[0m     data_frame\u001b[38;5;241m=\u001b[39m\u001b[38;5;28;01mNone\u001b[39;00m,\n\u001b[1;32m     14\u001b[0m     x\u001b[38;5;241m=\u001b[39m\u001b[38;5;28;01mNone\u001b[39;00m,\n\u001b[0;32m   (...)\u001b[0m\n\u001b[1;32m     60\u001b[0m     height\u001b[38;5;241m=\u001b[39m\u001b[38;5;28;01mNone\u001b[39;00m,\n\u001b[1;32m     61\u001b[0m ) \u001b[38;5;241m-\u001b[39m\u001b[38;5;241m>\u001b[39m go\u001b[38;5;241m.\u001b[39mFigure:\n\u001b[1;32m     62\u001b[0m \u001b[38;5;250m    \u001b[39m\u001b[38;5;124;03m\"\"\"\u001b[39;00m\n\u001b[1;32m     63\u001b[0m \u001b[38;5;124;03m    In a scatter plot, each row of `data_frame` is represented by a symbol\u001b[39;00m\n\u001b[1;32m     64\u001b[0m \u001b[38;5;124;03m    mark in 2D space.\u001b[39;00m\n\u001b[1;32m     65\u001b[0m \u001b[38;5;124;03m    \"\"\"\u001b[39;00m\n\u001b[0;32m---> 66\u001b[0m     \u001b[38;5;28;01mreturn\u001b[39;00m \u001b[43mmake_figure\u001b[49m\u001b[43m(\u001b[49m\u001b[43margs\u001b[49m\u001b[38;5;241;43m=\u001b[39;49m\u001b[38;5;28;43mlocals\u001b[39;49m\u001b[43m(\u001b[49m\u001b[43m)\u001b[49m\u001b[43m,\u001b[49m\u001b[43m \u001b[49m\u001b[43mconstructor\u001b[49m\u001b[38;5;241;43m=\u001b[39;49m\u001b[43mgo\u001b[49m\u001b[38;5;241;43m.\u001b[39;49m\u001b[43mScatter\u001b[49m\u001b[43m)\u001b[49m\n",
      "File \u001b[0;32m/opt/homebrew/Caskroom/miniconda/base/envs/pycascade/lib/python3.10/site-packages/plotly/express/_core.py:1990\u001b[0m, in \u001b[0;36mmake_figure\u001b[0;34m(args, constructor, trace_patch, layout_patch)\u001b[0m\n\u001b[1;32m   1987\u001b[0m layout_patch \u001b[38;5;241m=\u001b[39m layout_patch \u001b[38;5;129;01mor\u001b[39;00m {}\n\u001b[1;32m   1988\u001b[0m apply_default_cascade(args)\n\u001b[0;32m-> 1990\u001b[0m args \u001b[38;5;241m=\u001b[39m \u001b[43mbuild_dataframe\u001b[49m\u001b[43m(\u001b[49m\u001b[43margs\u001b[49m\u001b[43m,\u001b[49m\u001b[43m \u001b[49m\u001b[43mconstructor\u001b[49m\u001b[43m)\u001b[49m\n\u001b[1;32m   1991\u001b[0m \u001b[38;5;28;01mif\u001b[39;00m constructor \u001b[38;5;129;01min\u001b[39;00m [go\u001b[38;5;241m.\u001b[39mTreemap, go\u001b[38;5;241m.\u001b[39mSunburst, go\u001b[38;5;241m.\u001b[39mIcicle] \u001b[38;5;129;01mand\u001b[39;00m args[\u001b[38;5;124m\"\u001b[39m\u001b[38;5;124mpath\u001b[39m\u001b[38;5;124m\"\u001b[39m] \u001b[38;5;129;01mis\u001b[39;00m \u001b[38;5;129;01mnot\u001b[39;00m \u001b[38;5;28;01mNone\u001b[39;00m:\n\u001b[1;32m   1992\u001b[0m     args \u001b[38;5;241m=\u001b[39m process_dataframe_hierarchy(args)\n",
      "File \u001b[0;32m/opt/homebrew/Caskroom/miniconda/base/envs/pycascade/lib/python3.10/site-packages/plotly/express/_core.py:1405\u001b[0m, in \u001b[0;36mbuild_dataframe\u001b[0;34m(args, constructor)\u001b[0m\n\u001b[1;32m   1402\u001b[0m     args[\u001b[38;5;124m\"\u001b[39m\u001b[38;5;124mcolor\u001b[39m\u001b[38;5;124m\"\u001b[39m] \u001b[38;5;241m=\u001b[39m \u001b[38;5;28;01mNone\u001b[39;00m\n\u001b[1;32m   1403\u001b[0m \u001b[38;5;66;03m# now that things have been prepped, we do the systematic rewriting of `args`\u001b[39;00m\n\u001b[0;32m-> 1405\u001b[0m df_output, wide_id_vars \u001b[38;5;241m=\u001b[39m \u001b[43mprocess_args_into_dataframe\u001b[49m\u001b[43m(\u001b[49m\n\u001b[1;32m   1406\u001b[0m \u001b[43m    \u001b[49m\u001b[43margs\u001b[49m\u001b[43m,\u001b[49m\u001b[43m \u001b[49m\u001b[43mwide_mode\u001b[49m\u001b[43m,\u001b[49m\u001b[43m \u001b[49m\u001b[43mvar_name\u001b[49m\u001b[43m,\u001b[49m\u001b[43m \u001b[49m\u001b[43mvalue_name\u001b[49m\n\u001b[1;32m   1407\u001b[0m \u001b[43m\u001b[49m\u001b[43m)\u001b[49m\n\u001b[1;32m   1409\u001b[0m \u001b[38;5;66;03m# now that `df_output` exists and `args` contains only references, we complete\u001b[39;00m\n\u001b[1;32m   1410\u001b[0m \u001b[38;5;66;03m# the special-case and wide-mode handling by further rewriting args and/or mutating\u001b[39;00m\n\u001b[1;32m   1411\u001b[0m \u001b[38;5;66;03m# df_output\u001b[39;00m\n\u001b[1;32m   1413\u001b[0m count_name \u001b[38;5;241m=\u001b[39m _escape_col_name(df_output, \u001b[38;5;124m\"\u001b[39m\u001b[38;5;124mcount\u001b[39m\u001b[38;5;124m\"\u001b[39m, [var_name, value_name])\n",
      "File \u001b[0;32m/opt/homebrew/Caskroom/miniconda/base/envs/pycascade/lib/python3.10/site-packages/plotly/express/_core.py:1207\u001b[0m, in \u001b[0;36mprocess_args_into_dataframe\u001b[0;34m(args, wide_mode, var_name, value_name)\u001b[0m\n\u001b[1;32m   1205\u001b[0m         \u001b[38;5;28;01mif\u001b[39;00m argument \u001b[38;5;241m==\u001b[39m \u001b[38;5;124m\"\u001b[39m\u001b[38;5;124mindex\u001b[39m\u001b[38;5;124m\"\u001b[39m:\n\u001b[1;32m   1206\u001b[0m             err_msg \u001b[38;5;241m+\u001b[39m\u001b[38;5;241m=\u001b[39m \u001b[38;5;124m\"\u001b[39m\u001b[38;5;130;01m\\n\u001b[39;00m\u001b[38;5;124m To use the index, pass it in directly as `df.index`.\u001b[39m\u001b[38;5;124m\"\u001b[39m\n\u001b[0;32m-> 1207\u001b[0m         \u001b[38;5;28;01mraise\u001b[39;00m \u001b[38;5;167;01mValueError\u001b[39;00m(err_msg)\n\u001b[1;32m   1208\u001b[0m \u001b[38;5;28;01melif\u001b[39;00m length \u001b[38;5;129;01mand\u001b[39;00m \u001b[38;5;28mlen\u001b[39m(df_input[argument]) \u001b[38;5;241m!=\u001b[39m length:\n\u001b[1;32m   1209\u001b[0m     \u001b[38;5;28;01mraise\u001b[39;00m \u001b[38;5;167;01mValueError\u001b[39;00m(\n\u001b[1;32m   1210\u001b[0m         \u001b[38;5;124m\"\u001b[39m\u001b[38;5;124mAll arguments should have the same length. \u001b[39m\u001b[38;5;124m\"\u001b[39m\n\u001b[1;32m   1211\u001b[0m         \u001b[38;5;124m\"\u001b[39m\u001b[38;5;124mThe length of column argument `df[\u001b[39m\u001b[38;5;132;01m%s\u001b[39;00m\u001b[38;5;124m]` is \u001b[39m\u001b[38;5;132;01m%d\u001b[39;00m\u001b[38;5;124m, whereas the \u001b[39m\u001b[38;5;124m\"\u001b[39m\n\u001b[0;32m   (...)\u001b[0m\n\u001b[1;32m   1218\u001b[0m         )\n\u001b[1;32m   1219\u001b[0m     )\n",
      "\u001b[0;31mValueError\u001b[0m: Value of 'x' is not the name of a column in 'data_frame'. Expected one of ['floorTempAdjustment', 'hInterior', 'hExterior', 'alphaRoof', 'material_type', 'windSpeed', 'wallRoughness', 'group', 'hVent', 'dVent', 'nVent', 'ceilingMinusFloor', 'outMinusFloor', 'intWallMinusFloor', 'extWallMinusFloor', 'run', 'Ri', 'logRi'] but received: hDayVent"
     ]
    }
   ],
   "source": [
    "facet_col_order = ['Light', 'Medium', 'Heavy']\n",
    "fig = px.scatter(dfFull, x=\"floorTempAdjustment\", y=qois, facet_col=\"material_type\", trendline=\"ols\", category_orders={'material_type': facet_col_order})\n",
    "fig.show()\n",
    "fig = px.scatter(dfFull, x=\"hInterior\", y=qois, facet_col=\"material_type\", trendline=\"ols\", category_orders={'material_type': facet_col_order})\n",
    "fig.show()\n",
    "fig = px.scatter(dfFull, x=\"alphaRoof\", y=qois, facet_col=\"material_type\", trendline=\"ols\", category_orders={'material_type': facet_col_order})\n",
    "fig.show()\n",
    "fig = px.scatter(dfFull, x=\"dVent\", y=qois, facet_col=\"material_type\", trendline=\"ols\", category_orders={'material_type': facet_col_order})\n",
    "fig.show()\n",
    "fig = px.scatter(dfFull, x=\"hDayVent\", y=qois, facet_col=\"material_type\", trendline=\"ols\", category_orders={'material_type': facet_col_order})\n",
    "fig.show()\n",
    "fig = px.scatter(dfFull, x=\"windSpeed\", y=qois, facet_col=\"material_type\", trendline=\"ols\", category_orders={'material_type': facet_col_order})\n",
    "fig.show()\n",
    "fig = px.scatter(dfFull, x=\"wallRoughness\", y=qois, facet_col=\"material_type\", trendline=\"ols\", category_orders={'material_type': facet_col_order})\n",
    "fig.show()\n",
    "fig = px.scatter(dfFull, x=\"hExterior\", y=qois, facet_col=\"material_type\", trendline=\"ols\", category_orders={'material_type': facet_col_order})\n",
    "fig.show()\n",
    "# fig = px.scatter(dfFull, x=\"logRi\", y=qois, facet_col=\"material_type\", trendline=\"ols\", category_orders={'material_type': facet_col_order})\n",
    "# fig.show()"
   ]
  },
  {
   "cell_type": "code",
   "execution_count": null,
   "metadata": {},
   "outputs": [],
   "source": [
    "fig = px.scatter(dfFull, x=\"windSpeed\", y=\"logRi\", symbol=\"material_type\")\n",
    "fig.show()\n",
    "fig = px.scatter(dfFull.loc[dfFull[\"windSpeed\"] >= 2], x=\"windSpeed\", y=\"Ri\", symbol=\"material_type\")\n",
    "fig.show()"
   ]
  },
  {
   "cell_type": "code",
   "execution_count": null,
   "metadata": {},
   "outputs": [],
   "source": [
    "fig = px.scatter_3d(dfFull, x=\"outMinusFloor\", y=\"ceilingMinusFloor\", z=\"extWallMinusFloor\", color=\"intWallMinusFloor\", symbol=\"material_type\", size = \"windSpeed\")\n",
    "fig.show()\n",
    "\n",
    "fig = px.scatter_3d(dfFull, x=\"outMinusFloor\", y=\"ceilingMinusFloor\", z=\"intWallMinusFloor\", color=\"hDayVent\", symbol=\"material_type\", size = \"windSpeed\")\n",
    "fig.show()\n",
    "\n",
    "# fig = px.scatter(dfFull, x=\"outMinusFloor\", y=\"ceilingMinusFloor\", color=\"intWallMinusFloor\", symbol=\"material_type\",  size = \"windSpeed\")\n",
    "# fig.show()\n",
    "# fig = px.scatter(dfFull, x=\"outMinusFloor\", y=\"extWallMinusFloor\", color=\"intWallMinusFloor\", symbol=\"material_type\",  size = \"windSpeed\")\n",
    "# fig.show()\n",
    "# fig = px.scatter(dfFull, x=\"ceilingMinusFloor\", y=\"extWallMinusFloor\", color=\"intWallMinusFloor\", symbol=\"material_type\",  size = \"windSpeed\")\n",
    "# fig.show()"
   ]
  },
  {
   "cell_type": "code",
   "execution_count": null,
   "metadata": {},
   "outputs": [],
   "source": [
    "plt.figure()\n",
    "qoiX = dfFull[qois]\n",
    "U, S, V = np.linalg.svd(qoiX)\n",
    "plt.plot(S)\n",
    "display(S)"
   ]
  },
  {
   "cell_type": "code",
   "execution_count": null,
   "metadata": {},
   "outputs": [],
   "source": [
    "qoiX @ V[0:2,:].T"
   ]
  },
  {
   "cell_type": "code",
   "execution_count": null,
   "metadata": {},
   "outputs": [],
   "source": [
    "dfFull['windSpeed']"
   ]
  },
  {
   "cell_type": "code",
   "execution_count": null,
   "metadata": {},
   "outputs": [],
   "source": [
    "fig = px.scatter_3d(qoiX @ V.T, x=0, y=1, z=2, color=3)\n",
    "fig.show()\n",
    "\n",
    "fig = px.scatter(qoiX @ V[0:2,:].T, x=0, y=1, color=dfFull[\"windSpeed\"], symbol=dfFull[\"material_type\"])\n",
    "fig.show()\n",
    "\n",
    "fig = px.scatter(qoiX @ V[2:,:].T, x=0, y=1, color=dfFull[\"windSpeed\"], symbol=dfFull[\"material_type\"])\n",
    "fig.show()"
   ]
  },
  {
   "cell_type": "code",
   "execution_count": null,
   "metadata": {},
   "outputs": [],
   "source": [
    "qoiX"
   ]
  },
  {
   "cell_type": "code",
   "execution_count": null,
   "metadata": {},
   "outputs": [],
   "source": [
    "from sklearn.cluster import KMeans\n",
    "import numpy as np\n",
    "\n",
    "# Assuming X contains your 4-dimensional data\n",
    "# X = [[feature1_1, feature2_1, feature3_1, feature4_1],\n",
    "#      [feature1_2, feature2_2, feature3_2, feature4_2],\n",
    "#      ...\n",
    "#      [feature1_n, feature2_n, feature3_n, feature4_n]]\n",
    "\n",
    "# Step 2: Choose the number of clusters (k)\n",
    "k = 3\n",
    "\n",
    "# Step 3: Apply K-Means Algorithm\n",
    "kmeans = KMeans(n_clusters=k, random_state=0, n_init='auto')\n",
    "\n",
    "# Step 4: Fit the model\n",
    "kmeans.fit(qoiX)\n",
    "\n",
    "# Step 5: Cluster Assignment\n",
    "labels = kmeans.labels_\n",
    "\n",
    "# Step 6: Interpret Results\n",
    "centroids = kmeans.cluster_centers_\n",
    "\n",
    "# Analyze the clusters and visualize the results as needed\n",
    "\n",
    "\n",
    "# Plotting the clusters\n",
    "plt.figure(figsize=(10, 6))\n",
    "\n",
    "# Plot data points\n",
    "sns.scatterplot(data=qoiX, x='ceilingMinusFloor', y='extWallMinusFloor', hue=labels, style=dfFull[\"material_type\"], palette='viridis', legend='full', s=50)\n",
    "\n",
    "# Plot centroids\n",
    "plt.scatter(centroids[:, 1], centroids[:, 2], marker='x', s=100, c='red', label='Centroids')\n",
    "\n",
    "# plt.xlabel('ceilingMinusFloor')\n",
    "# plt.ylabel('outMinusFloor')\n",
    "plt.title('K-Means Clustering')\n",
    "\n",
    "plt.legend()\n",
    "plt.show()\n"
   ]
  }
 ],
 "metadata": {
  "kernelspec": {
   "display_name": "pycascade",
   "language": "python",
   "name": "python3"
  },
  "language_info": {
   "codemirror_mode": {
    "name": "ipython",
    "version": 3
   },
   "file_extension": ".py",
   "mimetype": "text/x-python",
   "name": "python",
   "nbconvert_exporter": "python",
   "pygments_lexer": "ipython3",
   "version": "3.10.13"
  }
 },
 "nbformat": 4,
 "nbformat_minor": 2
}
